{
  "nbformat": 4,
  "nbformat_minor": 0,
  "metadata": {
    "kernelspec": {
      "language": "python",
      "display_name": "Python 3",
      "name": "python3"
    },
    "language_info": {
      "pygments_lexer": "ipython3",
      "nbconvert_exporter": "python",
      "version": "3.6.4",
      "file_extension": ".py",
      "codemirror_mode": {
        "name": "ipython",
        "version": 3
      },
      "name": "python",
      "mimetype": "text/x-python"
    },
    "colab": {
      "name": "kagglesacw2_r.ipynb",
      "provenance": [],
      "collapsed_sections": [],
      "include_colab_link": true
    }
  },
  "cells": [
    {
      "cell_type": "markdown",
      "metadata": {
        "id": "view-in-github",
        "colab_type": "text"
      },
      "source": [
        "<a href=\"https://colab.research.google.com/github/VitalyGladyshev/Python_for_DS/blob/master/kagglesacw2_r.ipynb\" target=\"_parent\"><img src=\"https://colab.research.google.com/assets/colab-badge.svg\" alt=\"Open In Colab\"/></a>"
      ]
    },
    {
      "cell_type": "markdown",
      "metadata": {
        "id": "vKMNdupZ6Y-_"
      },
      "source": [
        "# Спортивный анализ данных - курсовой проект. <br> Гладышев В.В."
      ]
    },
    {
      "cell_type": "code",
      "metadata": {
        "id": "nC5PXTCu6Y_D",
        "trusted": true,
        "outputId": "53f666c3-69d5-46f1-ad0d-eb2fb0c4bc7f",
        "colab": {
          "base_uri": "https://localhost:8080/",
          "height": 34
        }
      },
      "source": [
        "import numpy as np\n",
        "import pandas as pd\n",
        "import matplotlib.pyplot as plt\n",
        "import math\n",
        "\n",
        "import seaborn as sns\n",
        "from sklearn.model_selection import train_test_split\n",
        "\n",
        "from tqdm import tqdm\n",
        "\n",
        "from sklearn.metrics import accuracy_score\n",
        "from sklearn.metrics import confusion_matrix\n",
        "from sklearn.metrics import precision_score\n",
        "from sklearn.metrics import recall_score\n",
        "from sklearn.metrics import roc_auc_score\n",
        "from sklearn.metrics import f1_score\n",
        "from sklearn.metrics import mean_absolute_error\n",
        "from sklearn.metrics import mean_squared_error\n",
        "from sklearn.metrics import roc_curve\n",
        "from sklearn.metrics import classification_report\n",
        "\n",
        "\n",
        "from sklearn.model_selection import GridSearchCV\n",
        "import xgboost as xgb\n",
        "from scipy.stats import ttest_rel\n",
        "\n",
        "from sklearn.model_selection import KFold, StratifiedKFold, train_test_split, cross_val_score, cross_validate\n",
        "\n",
        "from typing import List, Optional, Dict, Tuple\n",
        "\n",
        "!mkdir geekbrains-competitive-data-analysis\n",
        "\n",
        "data_dir = \"geekbrains-competitive-data-analysis/\""
      ],
      "execution_count": 141,
      "outputs": [
        {
          "output_type": "stream",
          "text": [
            "mkdir: cannot create directory ‘geekbrains-competitive-data-analysis’: File exists\n"
          ],
          "name": "stdout"
        }
      ]
    },
    {
      "cell_type": "code",
      "metadata": {
        "id": "P2DPQzwc6fbx",
        "trusted": true
      },
      "source": [
        "import lightgbm as lgbm"
      ],
      "execution_count": 142,
      "outputs": []
    },
    {
      "cell_type": "code",
      "metadata": {
        "id": "DZGVIXBLAY2D",
        "outputId": "1af8a663-3131-4804-efb6-1fd1db8d3283",
        "colab": {
          "base_uri": "https://localhost:8080/"
        }
      },
      "source": [
        "!pip install catboost"
      ],
      "execution_count": null,
      "outputs": [
        {
          "output_type": "stream",
          "text": [
            "Requirement already satisfied: catboost in /usr/local/lib/python3.6/dist-packages (0.24.1)\n",
            "Requirement already satisfied: scipy in /usr/local/lib/python3.6/dist-packages (from catboost) (1.4.1)\n",
            "Requirement already satisfied: pandas>=0.24.0 in /usr/local/lib/python3.6/dist-packages (from catboost) (1.1.2)\n",
            "Requirement already satisfied: matplotlib in /usr/local/lib/python3.6/dist-packages (from catboost) (3.2.2)\n",
            "Requirement already satisfied: six in /usr/local/lib/python3.6/dist-packages (from catboost) (1.15.0)\n",
            "Requirement already satisfied: graphviz in /usr/local/lib/python3.6/dist-packages (from catboost) (0.10.1)\n",
            "Requirement already satisfied: plotly in /usr/local/lib/python3.6/dist-packages (from catboost) (4.4.1)\n",
            "Requirement already satisfied: numpy>=1.16.0 in /usr/local/lib/python3.6/dist-packages (from catboost) (1.18.5)\n",
            "Requirement already satisfied: pytz>=2017.2 in /usr/local/lib/python3.6/dist-packages (from pandas>=0.24.0->catboost) (2018.9)\n",
            "Requirement already satisfied: python-dateutil>=2.7.3 in /usr/local/lib/python3.6/dist-packages (from pandas>=0.24.0->catboost) (2.8.1)\n",
            "Requirement already satisfied: kiwisolver>=1.0.1 in /usr/local/lib/python3.6/dist-packages (from matplotlib->catboost) (1.2.0)\n",
            "Requirement already satisfied: cycler>=0.10 in /usr/local/lib/python3.6/dist-packages (from matplotlib->catboost) (0.10.0)\n",
            "Requirement already satisfied: pyparsing!=2.0.4,!=2.1.2,!=2.1.6,>=2.0.1 in /usr/local/lib/python3.6/dist-packages (from matplotlib->catboost) (2.4.7)\n",
            "Requirement already satisfied: retrying>=1.3.3 in /usr/local/lib/python3.6/dist-packages (from plotly->catboost) (1.3.3)\n"
          ],
          "name": "stdout"
        }
      ]
    },
    {
      "cell_type": "code",
      "metadata": {
        "id": "FX7oE9wAPar3",
        "trusted": true
      },
      "source": [
        "import catboost as catb"
      ],
      "execution_count": 143,
      "outputs": []
    },
    {
      "cell_type": "markdown",
      "metadata": {
        "id": "r31123il6Y_J"
      },
      "source": [
        "## Загрузка данных"
      ]
    },
    {
      "cell_type": "code",
      "metadata": {
        "id": "0v4S2CoKAhqU"
      },
      "source": [
        "!pip install -U -q kaggle\n",
        "!mkdir -p ~/.kaggle"
      ],
      "execution_count": 144,
      "outputs": []
    },
    {
      "cell_type": "code",
      "metadata": {
        "id": "RkKBlbtzAllU",
        "outputId": "d1b2e814-835b-407b-d0f5-ad5886588cd1",
        "colab": {
          "resources": {
            "http://localhost:8080/nbextensions/google.colab/files.js": {
              "data": "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",
              "ok": true,
              "headers": [
                [
                  "content-type",
                  "application/javascript"
                ]
              ],
              "status": 200,
              "status_text": ""
            }
          },
          "base_uri": "https://localhost:8080/",
          "height": 89
        }
      },
      "source": [
        "from google.colab import files\n",
        "files.upload()"
      ],
      "execution_count": 145,
      "outputs": [
        {
          "output_type": "display_data",
          "data": {
            "text/html": [
              "\n",
              "     <input type=\"file\" id=\"files-f1929a1d-eaf1-42a6-b8a7-fd2cf7e46cc7\" name=\"files[]\" multiple disabled\n",
              "        style=\"border:none\" />\n",
              "     <output id=\"result-f1929a1d-eaf1-42a6-b8a7-fd2cf7e46cc7\">\n",
              "      Upload widget is only available when the cell has been executed in the\n",
              "      current browser session. Please rerun this cell to enable.\n",
              "      </output>\n",
              "      <script src=\"/nbextensions/google.colab/files.js\"></script> "
            ],
            "text/plain": [
              "<IPython.core.display.HTML object>"
            ]
          },
          "metadata": {
            "tags": []
          }
        },
        {
          "output_type": "stream",
          "text": [
            "Saving kaggle.json to kaggle.json\n"
          ],
          "name": "stdout"
        },
        {
          "output_type": "execute_result",
          "data": {
            "text/plain": [
              "{'kaggle.json': b'{\"username\":\"vitalygladyshev\",\"key\":\"3353367a1e22b48542ed3c3946bdf3e4\"}'}"
            ]
          },
          "metadata": {
            "tags": []
          },
          "execution_count": 145
        }
      ]
    },
    {
      "cell_type": "code",
      "metadata": {
        "id": "pqqMZDjPF92r",
        "outputId": "c03686f3-343f-41e5-9439-883c270696eb",
        "colab": {
          "base_uri": "https://localhost:8080/",
          "height": 85
        }
      },
      "source": [
        "!mv kaggle.json ~/.kaggle/\n",
        "!chmod 600 ~/.kaggle/kaggle.json\n",
        "!ls -la ~/.kaggle/"
      ],
      "execution_count": 146,
      "outputs": [
        {
          "output_type": "stream",
          "text": [
            "total 16\n",
            "drwxr-xr-x 2 root root 4096 Oct  4 19:56 .\n",
            "drwx------ 1 root root 4096 Oct  4 19:31 ..\n",
            "-rw------- 1 root root   71 Oct  4 19:56 kaggle.json\n"
          ],
          "name": "stdout"
        }
      ]
    },
    {
      "cell_type": "code",
      "metadata": {
        "id": "kpJvZtKGGCl7",
        "outputId": "b6aa42f7-70ea-4797-c4ac-45e5e1ce2b55",
        "colab": {
          "base_uri": "https://localhost:8080/",
          "height": 391
        }
      },
      "source": [
        "!kaggle competitions download -c geekbrains-competitive-data-analysis"
      ],
      "execution_count": 147,
      "outputs": [
        {
          "output_type": "stream",
          "text": [
            "Warning: Looks like you're using an outdated API Version, please consider updating (server 1.5.6 / client 1.5.4)\n",
            "Downloading applications_history.csv.zip to /content\n",
            " 88% 53.0M/59.9M [00:00<00:00, 160MB/s]\n",
            "100% 59.9M/59.9M [00:00<00:00, 172MB/s]\n",
            "Downloading test.csv.zip to /content\n",
            "  0% 0.00/632k [00:00<?, ?B/s]\n",
            "100% 632k/632k [00:00<00:00, 88.0MB/s]\n",
            "Downloading bki.csv.zip to /content\n",
            " 36% 9.00M/25.2M [00:00<00:00, 75.4MB/s]\n",
            "100% 25.2M/25.2M [00:00<00:00, 99.7MB/s]\n",
            "Downloading train.csv.zip to /content\n",
            "  0% 0.00/434k [00:00<?, ?B/s]\n",
            "100% 434k/434k [00:00<00:00, 59.5MB/s]\n",
            "Downloading client_profile.csv.zip to /content\n",
            " 43% 5.00M/11.7M [00:00<00:00, 46.9MB/s]\n",
            "100% 11.7M/11.7M [00:00<00:00, 74.2MB/s]\n",
            "Downloading sample_submit.csv.zip to /content\n",
            "  0% 0.00/586k [00:00<?, ?B/s]\n",
            "100% 586k/586k [00:00<00:00, 82.1MB/s]\n",
            "Downloading payments.csv.zip to /content\n",
            " 71% 15.0M/21.0M [00:00<00:00, 68.8MB/s]\n",
            "100% 21.0M/21.0M [00:00<00:00, 72.9MB/s]\n"
          ],
          "name": "stdout"
        }
      ]
    },
    {
      "cell_type": "code",
      "metadata": {
        "id": "MWoja9LWGFs4",
        "outputId": "d6bc8678-de77-4dd4-b829-d23a486e1d38",
        "colab": {
          "base_uri": "https://localhost:8080/",
          "height": 136
        }
      },
      "source": [
        "!mkdir geekbrains-competitive-data-analysis\n",
        "!mv applications_history.csv.zip geekbrains-competitive-data-analysis\n",
        "!mv bki.csv.zip geekbrains-competitive-data-analysis\n",
        "!mv client_profile.csv.zip geekbrains-competitive-data-analysis\n",
        "!mv payments.csv.zip geekbrains-competitive-data-analysis\n",
        "!mv sample_submit.csv.zip geekbrains-competitive-data-analysis\n",
        "!mv test.csv.zip geekbrains-competitive-data-analysis\n",
        "!mv train.csv.zip geekbrains-competitive-data-analysis\n",
        "!ls -la"
      ],
      "execution_count": 148,
      "outputs": [
        {
          "output_type": "stream",
          "text": [
            "mkdir: cannot create directory ‘geekbrains-competitive-data-analysis’: File exists\n",
            "total 20\n",
            "drwxr-xr-x 1 root root 4096 Oct  4 19:56 .\n",
            "drwxr-xr-x 1 root root 4096 Oct  4 19:27 ..\n",
            "drwxr-xr-x 1 root root 4096 Oct  1 16:28 .config\n",
            "drwxr-xr-x 2 root root 4096 Oct  4 19:56 geekbrains-competitive-data-analysis\n",
            "drwxr-xr-x 1 root root 4096 Oct  1 16:28 sample_data\n"
          ],
          "name": "stdout"
        }
      ]
    },
    {
      "cell_type": "code",
      "metadata": {
        "id": "3joPSrp66Y_V",
        "trusted": true
      },
      "source": [
        "src_list = [\"train\", \"test\", \"client_profile\", \"applications_history\", \"bki\", \"payments\"]"
      ],
      "execution_count": 149,
      "outputs": []
    },
    {
      "cell_type": "code",
      "metadata": {
        "id": "QdDkerk1GJl3"
      },
      "source": [
        "from zipfile import ZipFile"
      ],
      "execution_count": 150,
      "outputs": []
    },
    {
      "cell_type": "code",
      "metadata": {
        "id": "zZ8mnI636Y_b",
        "trusted": true
      },
      "source": [
        "source = {}\n",
        "for name in src_list:\n",
        "    z_file = ZipFile(data_dir + name + \".csv.zip\")\n",
        "    z_file.extractall(data_dir)\n",
        "    source[name] = pd.read_csv(data_dir + name + \".csv\")"
      ],
      "execution_count": 151,
      "outputs": []
    },
    {
      "cell_type": "markdown",
      "metadata": {
        "id": "-rnLW6kA6Y_r"
      },
      "source": [
        "## Ключевые характеристики"
      ]
    },
    {
      "cell_type": "code",
      "metadata": {
        "id": "EaGnUXOv6Y_z",
        "trusted": true
      },
      "source": [
        "pd.set_option('display.max_columns', 400)"
      ],
      "execution_count": 152,
      "outputs": []
    },
    {
      "cell_type": "code",
      "metadata": {
        "id": "d6H07HSJ6Y_t",
        "trusted": true,
        "outputId": "7400c976-258b-4739-be20-ab5368a35d19",
        "colab": {
          "base_uri": "https://localhost:8080/",
          "height": 323
        }
      },
      "source": [
        "for name in src_list:\n",
        "    print(f\"{name} \\n {source[name].shape} \\n\")"
      ],
      "execution_count": 153,
      "outputs": [
        {
          "output_type": "stream",
          "text": [
            "train \n",
            " (110093, 3) \n",
            "\n",
            "test \n",
            " (165141, 2) \n",
            "\n",
            "client_profile \n",
            " (250000, 24) \n",
            "\n",
            "applications_history \n",
            " (1670214, 26) \n",
            "\n",
            "bki \n",
            " (945234, 17) \n",
            "\n",
            "payments \n",
            " (1023932, 8) \n",
            "\n"
          ],
          "name": "stdout"
        }
      ]
    },
    {
      "cell_type": "code",
      "metadata": {
        "id": "-7QSPiET6Y_6",
        "trusted": true,
        "outputId": "66ede34a-f48e-4586-f017-4169ab5175bf",
        "colab": {
          "base_uri": "https://localhost:8080/",
          "height": 142
        }
      },
      "source": [
        "source['train'].head(3)"
      ],
      "execution_count": 154,
      "outputs": [
        {
          "output_type": "execute_result",
          "data": {
            "text/html": [
              "<div>\n",
              "<style scoped>\n",
              "    .dataframe tbody tr th:only-of-type {\n",
              "        vertical-align: middle;\n",
              "    }\n",
              "\n",
              "    .dataframe tbody tr th {\n",
              "        vertical-align: top;\n",
              "    }\n",
              "\n",
              "    .dataframe thead th {\n",
              "        text-align: right;\n",
              "    }\n",
              "</style>\n",
              "<table border=\"1\" class=\"dataframe\">\n",
              "  <thead>\n",
              "    <tr style=\"text-align: right;\">\n",
              "      <th></th>\n",
              "      <th>APPLICATION_NUMBER</th>\n",
              "      <th>TARGET</th>\n",
              "      <th>NAME_CONTRACT_TYPE</th>\n",
              "    </tr>\n",
              "  </thead>\n",
              "  <tbody>\n",
              "    <tr>\n",
              "      <th>0</th>\n",
              "      <td>123687442</td>\n",
              "      <td>0</td>\n",
              "      <td>Cash</td>\n",
              "    </tr>\n",
              "    <tr>\n",
              "      <th>1</th>\n",
              "      <td>123597908</td>\n",
              "      <td>1</td>\n",
              "      <td>Cash</td>\n",
              "    </tr>\n",
              "    <tr>\n",
              "      <th>2</th>\n",
              "      <td>123526683</td>\n",
              "      <td>0</td>\n",
              "      <td>Cash</td>\n",
              "    </tr>\n",
              "  </tbody>\n",
              "</table>\n",
              "</div>"
            ],
            "text/plain": [
              "   APPLICATION_NUMBER  TARGET NAME_CONTRACT_TYPE\n",
              "0           123687442       0               Cash\n",
              "1           123597908       1               Cash\n",
              "2           123526683       0               Cash"
            ]
          },
          "metadata": {
            "tags": []
          },
          "execution_count": 154
        }
      ]
    },
    {
      "cell_type": "code",
      "metadata": {
        "id": "2IvWFbs96ZAA",
        "trusted": true,
        "outputId": "0ef39e00-15d4-4c12-e80c-6151bd0cda22",
        "colab": {
          "base_uri": "https://localhost:8080/",
          "height": 179
        }
      },
      "source": [
        "source['client_profile'].head(3)"
      ],
      "execution_count": 155,
      "outputs": [
        {
          "output_type": "execute_result",
          "data": {
            "text/html": [
              "<div>\n",
              "<style scoped>\n",
              "    .dataframe tbody tr th:only-of-type {\n",
              "        vertical-align: middle;\n",
              "    }\n",
              "\n",
              "    .dataframe tbody tr th {\n",
              "        vertical-align: top;\n",
              "    }\n",
              "\n",
              "    .dataframe thead th {\n",
              "        text-align: right;\n",
              "    }\n",
              "</style>\n",
              "<table border=\"1\" class=\"dataframe\">\n",
              "  <thead>\n",
              "    <tr style=\"text-align: right;\">\n",
              "      <th></th>\n",
              "      <th>APPLICATION_NUMBER</th>\n",
              "      <th>GENDER</th>\n",
              "      <th>CHILDRENS</th>\n",
              "      <th>TOTAL_SALARY</th>\n",
              "      <th>AMOUNT_CREDIT</th>\n",
              "      <th>AMOUNT_ANNUITY</th>\n",
              "      <th>EDUCATION_LEVEL</th>\n",
              "      <th>FAMILY_STATUS</th>\n",
              "      <th>REGION_POPULATION</th>\n",
              "      <th>AGE</th>\n",
              "      <th>DAYS_ON_LAST_JOB</th>\n",
              "      <th>OWN_CAR_AGE</th>\n",
              "      <th>FLAG_PHONE</th>\n",
              "      <th>FLAG_EMAIL</th>\n",
              "      <th>FAMILY_SIZE</th>\n",
              "      <th>EXTERNAL_SCORING_RATING_1</th>\n",
              "      <th>EXTERNAL_SCORING_RATING_2</th>\n",
              "      <th>EXTERNAL_SCORING_RATING_3</th>\n",
              "      <th>AMT_REQ_CREDIT_BUREAU_HOUR</th>\n",
              "      <th>AMT_REQ_CREDIT_BUREAU_DAY</th>\n",
              "      <th>AMT_REQ_CREDIT_BUREAU_WEEK</th>\n",
              "      <th>AMT_REQ_CREDIT_BUREAU_MON</th>\n",
              "      <th>AMT_REQ_CREDIT_BUREAU_QRT</th>\n",
              "      <th>AMT_REQ_CREDIT_BUREAU_YEAR</th>\n",
              "    </tr>\n",
              "  </thead>\n",
              "  <tbody>\n",
              "    <tr>\n",
              "      <th>0</th>\n",
              "      <td>123666076</td>\n",
              "      <td>F</td>\n",
              "      <td>0</td>\n",
              "      <td>157500.0</td>\n",
              "      <td>270000.0</td>\n",
              "      <td>13500.0</td>\n",
              "      <td>Incomplete higher</td>\n",
              "      <td>Civil marriage</td>\n",
              "      <td>0.008068</td>\n",
              "      <td>8560</td>\n",
              "      <td>1549</td>\n",
              "      <td>NaN</td>\n",
              "      <td>1</td>\n",
              "      <td>0</td>\n",
              "      <td>2.0</td>\n",
              "      <td>0.329471</td>\n",
              "      <td>0.236315</td>\n",
              "      <td>0.678568</td>\n",
              "      <td>0.0</td>\n",
              "      <td>0.0</td>\n",
              "      <td>0.0</td>\n",
              "      <td>0.0</td>\n",
              "      <td>1.0</td>\n",
              "      <td>2.0</td>\n",
              "    </tr>\n",
              "    <tr>\n",
              "      <th>1</th>\n",
              "      <td>123423688</td>\n",
              "      <td>F</td>\n",
              "      <td>0</td>\n",
              "      <td>270000.0</td>\n",
              "      <td>536917.5</td>\n",
              "      <td>28467.0</td>\n",
              "      <td>Secondary / secondary special</td>\n",
              "      <td>Married</td>\n",
              "      <td>0.020246</td>\n",
              "      <td>23187</td>\n",
              "      <td>365243</td>\n",
              "      <td>NaN</td>\n",
              "      <td>0</td>\n",
              "      <td>0</td>\n",
              "      <td>2.0</td>\n",
              "      <td>NaN</td>\n",
              "      <td>0.442295</td>\n",
              "      <td>0.802745</td>\n",
              "      <td>0.0</td>\n",
              "      <td>0.0</td>\n",
              "      <td>0.0</td>\n",
              "      <td>0.0</td>\n",
              "      <td>1.0</td>\n",
              "      <td>1.0</td>\n",
              "    </tr>\n",
              "    <tr>\n",
              "      <th>2</th>\n",
              "      <td>123501780</td>\n",
              "      <td>M</td>\n",
              "      <td>1</td>\n",
              "      <td>427500.0</td>\n",
              "      <td>239850.0</td>\n",
              "      <td>23850.0</td>\n",
              "      <td>Incomplete higher</td>\n",
              "      <td>Married</td>\n",
              "      <td>0.072508</td>\n",
              "      <td>14387</td>\n",
              "      <td>326</td>\n",
              "      <td>18.0</td>\n",
              "      <td>0</td>\n",
              "      <td>0</td>\n",
              "      <td>3.0</td>\n",
              "      <td>0.409017</td>\n",
              "      <td>0.738159</td>\n",
              "      <td>NaN</td>\n",
              "      <td>NaN</td>\n",
              "      <td>NaN</td>\n",
              "      <td>NaN</td>\n",
              "      <td>NaN</td>\n",
              "      <td>NaN</td>\n",
              "      <td>NaN</td>\n",
              "    </tr>\n",
              "  </tbody>\n",
              "</table>\n",
              "</div>"
            ],
            "text/plain": [
              "   APPLICATION_NUMBER GENDER  CHILDRENS  TOTAL_SALARY  AMOUNT_CREDIT  \\\n",
              "0           123666076      F          0      157500.0       270000.0   \n",
              "1           123423688      F          0      270000.0       536917.5   \n",
              "2           123501780      M          1      427500.0       239850.0   \n",
              "\n",
              "   AMOUNT_ANNUITY                EDUCATION_LEVEL   FAMILY_STATUS  \\\n",
              "0         13500.0              Incomplete higher  Civil marriage   \n",
              "1         28467.0  Secondary / secondary special         Married   \n",
              "2         23850.0              Incomplete higher         Married   \n",
              "\n",
              "   REGION_POPULATION    AGE  DAYS_ON_LAST_JOB  OWN_CAR_AGE  FLAG_PHONE  \\\n",
              "0           0.008068   8560              1549          NaN           1   \n",
              "1           0.020246  23187            365243          NaN           0   \n",
              "2           0.072508  14387               326         18.0           0   \n",
              "\n",
              "   FLAG_EMAIL  FAMILY_SIZE  EXTERNAL_SCORING_RATING_1  \\\n",
              "0           0          2.0                   0.329471   \n",
              "1           0          2.0                        NaN   \n",
              "2           0          3.0                   0.409017   \n",
              "\n",
              "   EXTERNAL_SCORING_RATING_2  EXTERNAL_SCORING_RATING_3  \\\n",
              "0                   0.236315                   0.678568   \n",
              "1                   0.442295                   0.802745   \n",
              "2                   0.738159                        NaN   \n",
              "\n",
              "   AMT_REQ_CREDIT_BUREAU_HOUR  AMT_REQ_CREDIT_BUREAU_DAY  \\\n",
              "0                         0.0                        0.0   \n",
              "1                         0.0                        0.0   \n",
              "2                         NaN                        NaN   \n",
              "\n",
              "   AMT_REQ_CREDIT_BUREAU_WEEK  AMT_REQ_CREDIT_BUREAU_MON  \\\n",
              "0                         0.0                        0.0   \n",
              "1                         0.0                        0.0   \n",
              "2                         NaN                        NaN   \n",
              "\n",
              "   AMT_REQ_CREDIT_BUREAU_QRT  AMT_REQ_CREDIT_BUREAU_YEAR  \n",
              "0                        1.0                         2.0  \n",
              "1                        1.0                         1.0  \n",
              "2                        NaN                         NaN  "
            ]
          },
          "metadata": {
            "tags": []
          },
          "execution_count": 155
        }
      ]
    },
    {
      "cell_type": "code",
      "metadata": {
        "id": "F_qHXx5k6ZAH",
        "trusted": true,
        "outputId": "574650b2-43bd-4dc4-8b1e-d7d0cbdadcd8",
        "colab": {
          "base_uri": "https://localhost:8080/",
          "height": 196
        }
      },
      "source": [
        "source['applications_history'].head(3)"
      ],
      "execution_count": 156,
      "outputs": [
        {
          "output_type": "execute_result",
          "data": {
            "text/html": [
              "<div>\n",
              "<style scoped>\n",
              "    .dataframe tbody tr th:only-of-type {\n",
              "        vertical-align: middle;\n",
              "    }\n",
              "\n",
              "    .dataframe tbody tr th {\n",
              "        vertical-align: top;\n",
              "    }\n",
              "\n",
              "    .dataframe thead th {\n",
              "        text-align: right;\n",
              "    }\n",
              "</style>\n",
              "<table border=\"1\" class=\"dataframe\">\n",
              "  <thead>\n",
              "    <tr style=\"text-align: right;\">\n",
              "      <th></th>\n",
              "      <th>PREV_APPLICATION_NUMBER</th>\n",
              "      <th>APPLICATION_NUMBER</th>\n",
              "      <th>NAME_CONTRACT_TYPE</th>\n",
              "      <th>AMOUNT_ANNUITY</th>\n",
              "      <th>AMT_APPLICATION</th>\n",
              "      <th>AMOUNT_CREDIT</th>\n",
              "      <th>AMOUNT_PAYMENT</th>\n",
              "      <th>AMOUNT_GOODS_PAYMENT</th>\n",
              "      <th>NAME_CONTRACT_STATUS</th>\n",
              "      <th>DAYS_DECISION</th>\n",
              "      <th>NAME_PAYMENT_TYPE</th>\n",
              "      <th>CODE_REJECT_REASON</th>\n",
              "      <th>NAME_TYPE_SUITE</th>\n",
              "      <th>NAME_CLIENT_TYPE</th>\n",
              "      <th>NAME_GOODS_CATEGORY</th>\n",
              "      <th>NAME_PORTFOLIO</th>\n",
              "      <th>NAME_PRODUCT_TYPE</th>\n",
              "      <th>SELLERPLACE_AREA</th>\n",
              "      <th>CNT_PAYMENT</th>\n",
              "      <th>NAME_YIELD_GROUP</th>\n",
              "      <th>DAYS_FIRST_DRAWING</th>\n",
              "      <th>DAYS_FIRST_DUE</th>\n",
              "      <th>DAYS_LAST_DUE_1ST_VERSION</th>\n",
              "      <th>DAYS_LAST_DUE</th>\n",
              "      <th>DAYS_TERMINATION</th>\n",
              "      <th>NFLAG_INSURED_ON_APPROVAL</th>\n",
              "    </tr>\n",
              "  </thead>\n",
              "  <tbody>\n",
              "    <tr>\n",
              "      <th>0</th>\n",
              "      <td>49298709</td>\n",
              "      <td>123595216</td>\n",
              "      <td>NaN</td>\n",
              "      <td>1730.430</td>\n",
              "      <td>17145.0</td>\n",
              "      <td>17145.0</td>\n",
              "      <td>0.0</td>\n",
              "      <td>17145.0</td>\n",
              "      <td>Approved</td>\n",
              "      <td>73</td>\n",
              "      <td>Cash through the bank</td>\n",
              "      <td>XAP</td>\n",
              "      <td>NaN</td>\n",
              "      <td>Repeater</td>\n",
              "      <td>Mobile</td>\n",
              "      <td>POS</td>\n",
              "      <td>XNA</td>\n",
              "      <td>35</td>\n",
              "      <td>12.0</td>\n",
              "      <td>middle</td>\n",
              "      <td>365243.0</td>\n",
              "      <td>42.0</td>\n",
              "      <td>300.0</td>\n",
              "      <td>42.0</td>\n",
              "      <td>37.0</td>\n",
              "      <td>0.0</td>\n",
              "    </tr>\n",
              "    <tr>\n",
              "      <th>1</th>\n",
              "      <td>50070639</td>\n",
              "      <td>123431468</td>\n",
              "      <td>Cash</td>\n",
              "      <td>25188.615</td>\n",
              "      <td>607500.0</td>\n",
              "      <td>679671.0</td>\n",
              "      <td>NaN</td>\n",
              "      <td>607500.0</td>\n",
              "      <td>Approved</td>\n",
              "      <td>164</td>\n",
              "      <td>XNA</td>\n",
              "      <td>XAP</td>\n",
              "      <td>Unaccompanied</td>\n",
              "      <td>Repeater</td>\n",
              "      <td>XNA</td>\n",
              "      <td>Cash</td>\n",
              "      <td>x-sell</td>\n",
              "      <td>-1</td>\n",
              "      <td>36.0</td>\n",
              "      <td>low_action</td>\n",
              "      <td>365243.0</td>\n",
              "      <td>134.0</td>\n",
              "      <td>916.0</td>\n",
              "      <td>365243.0</td>\n",
              "      <td>365243.0</td>\n",
              "      <td>1.0</td>\n",
              "    </tr>\n",
              "    <tr>\n",
              "      <th>2</th>\n",
              "      <td>49791680</td>\n",
              "      <td>123445379</td>\n",
              "      <td>Cash</td>\n",
              "      <td>15060.735</td>\n",
              "      <td>112500.0</td>\n",
              "      <td>136444.5</td>\n",
              "      <td>NaN</td>\n",
              "      <td>112500.0</td>\n",
              "      <td>Approved</td>\n",
              "      <td>301</td>\n",
              "      <td>Cash through the bank</td>\n",
              "      <td>XAP</td>\n",
              "      <td>Spouse, partner</td>\n",
              "      <td>Repeater</td>\n",
              "      <td>XNA</td>\n",
              "      <td>Cash</td>\n",
              "      <td>x-sell</td>\n",
              "      <td>-1</td>\n",
              "      <td>12.0</td>\n",
              "      <td>high</td>\n",
              "      <td>365243.0</td>\n",
              "      <td>271.0</td>\n",
              "      <td>59.0</td>\n",
              "      <td>365243.0</td>\n",
              "      <td>365243.0</td>\n",
              "      <td>1.0</td>\n",
              "    </tr>\n",
              "  </tbody>\n",
              "</table>\n",
              "</div>"
            ],
            "text/plain": [
              "   PREV_APPLICATION_NUMBER  APPLICATION_NUMBER NAME_CONTRACT_TYPE  \\\n",
              "0                 49298709           123595216                NaN   \n",
              "1                 50070639           123431468               Cash   \n",
              "2                 49791680           123445379               Cash   \n",
              "\n",
              "   AMOUNT_ANNUITY  AMT_APPLICATION  AMOUNT_CREDIT  AMOUNT_PAYMENT  \\\n",
              "0        1730.430          17145.0        17145.0             0.0   \n",
              "1       25188.615         607500.0       679671.0             NaN   \n",
              "2       15060.735         112500.0       136444.5             NaN   \n",
              "\n",
              "   AMOUNT_GOODS_PAYMENT NAME_CONTRACT_STATUS  DAYS_DECISION  \\\n",
              "0               17145.0             Approved             73   \n",
              "1              607500.0             Approved            164   \n",
              "2              112500.0             Approved            301   \n",
              "\n",
              "       NAME_PAYMENT_TYPE CODE_REJECT_REASON  NAME_TYPE_SUITE NAME_CLIENT_TYPE  \\\n",
              "0  Cash through the bank                XAP              NaN         Repeater   \n",
              "1                    XNA                XAP    Unaccompanied         Repeater   \n",
              "2  Cash through the bank                XAP  Spouse, partner         Repeater   \n",
              "\n",
              "  NAME_GOODS_CATEGORY NAME_PORTFOLIO NAME_PRODUCT_TYPE  SELLERPLACE_AREA  \\\n",
              "0              Mobile            POS               XNA                35   \n",
              "1                 XNA           Cash            x-sell                -1   \n",
              "2                 XNA           Cash            x-sell                -1   \n",
              "\n",
              "   CNT_PAYMENT NAME_YIELD_GROUP  DAYS_FIRST_DRAWING  DAYS_FIRST_DUE  \\\n",
              "0         12.0           middle            365243.0            42.0   \n",
              "1         36.0       low_action            365243.0           134.0   \n",
              "2         12.0             high            365243.0           271.0   \n",
              "\n",
              "   DAYS_LAST_DUE_1ST_VERSION  DAYS_LAST_DUE  DAYS_TERMINATION  \\\n",
              "0                      300.0           42.0              37.0   \n",
              "1                      916.0       365243.0          365243.0   \n",
              "2                       59.0       365243.0          365243.0   \n",
              "\n",
              "   NFLAG_INSURED_ON_APPROVAL  \n",
              "0                        0.0  \n",
              "1                        1.0  \n",
              "2                        1.0  "
            ]
          },
          "metadata": {
            "tags": []
          },
          "execution_count": 156
        }
      ]
    },
    {
      "cell_type": "code",
      "metadata": {
        "id": "tcaIEesO6ZAM",
        "trusted": true,
        "outputId": "a64ed2fa-2b74-4ebc-dab6-4a96642180c8",
        "colab": {
          "base_uri": "https://localhost:8080/",
          "height": 238
        }
      },
      "source": [
        "source['applications_history'].groupby(\"APPLICATION_NUMBER\")[\"APPLICATION_NUMBER\"].count().sort_values()"
      ],
      "execution_count": 157,
      "outputs": [
        {
          "output_type": "execute_result",
          "data": {
            "text/plain": [
              "APPLICATION_NUMBER\n",
              "123423340     1\n",
              "123567999     1\n",
              "123744405     1\n",
              "123690209     1\n",
              "123567994     1\n",
              "             ..\n",
              "123530122    67\n",
              "123565751    68\n",
              "123497019    72\n",
              "123589020    73\n",
              "123511207    77\n",
              "Name: APPLICATION_NUMBER, Length: 338857, dtype: int64"
            ]
          },
          "metadata": {
            "tags": []
          },
          "execution_count": 157
        }
      ]
    },
    {
      "cell_type": "code",
      "metadata": {
        "id": "xAMyFpZA6ZAS",
        "trusted": true,
        "outputId": "41d90a3c-5e0c-4486-a367-16175ad8812b",
        "colab": {
          "base_uri": "https://localhost:8080/",
          "height": 213
        }
      },
      "source": [
        "source['bki'].head(3)"
      ],
      "execution_count": 158,
      "outputs": [
        {
          "output_type": "execute_result",
          "data": {
            "text/html": [
              "<div>\n",
              "<style scoped>\n",
              "    .dataframe tbody tr th:only-of-type {\n",
              "        vertical-align: middle;\n",
              "    }\n",
              "\n",
              "    .dataframe tbody tr th {\n",
              "        vertical-align: top;\n",
              "    }\n",
              "\n",
              "    .dataframe thead th {\n",
              "        text-align: right;\n",
              "    }\n",
              "</style>\n",
              "<table border=\"1\" class=\"dataframe\">\n",
              "  <thead>\n",
              "    <tr style=\"text-align: right;\">\n",
              "      <th></th>\n",
              "      <th>APPLICATION_NUMBER</th>\n",
              "      <th>BUREAU_ID</th>\n",
              "      <th>CREDIT_ACTIVE</th>\n",
              "      <th>CREDIT_CURRENCY</th>\n",
              "      <th>DAYS_CREDIT</th>\n",
              "      <th>CREDIT_DAY_OVERDUE</th>\n",
              "      <th>DAYS_CREDIT_ENDDATE</th>\n",
              "      <th>DAYS_ENDDATE_FACT</th>\n",
              "      <th>AMT_CREDIT_MAX_OVERDUE</th>\n",
              "      <th>CNT_CREDIT_PROLONG</th>\n",
              "      <th>AMT_CREDIT_SUM</th>\n",
              "      <th>AMT_CREDIT_SUM_DEBT</th>\n",
              "      <th>AMT_CREDIT_SUM_LIMIT</th>\n",
              "      <th>AMT_CREDIT_SUM_OVERDUE</th>\n",
              "      <th>CREDIT_TYPE</th>\n",
              "      <th>DAYS_CREDIT_UPDATE</th>\n",
              "      <th>AMT_ANNUITY</th>\n",
              "    </tr>\n",
              "  </thead>\n",
              "  <tbody>\n",
              "    <tr>\n",
              "      <th>0</th>\n",
              "      <td>123538884</td>\n",
              "      <td>5223613</td>\n",
              "      <td>Active</td>\n",
              "      <td>currency 1</td>\n",
              "      <td>718.0</td>\n",
              "      <td>0</td>\n",
              "      <td>377.0</td>\n",
              "      <td>NaN</td>\n",
              "      <td>19386.81</td>\n",
              "      <td>0</td>\n",
              "      <td>675000.00</td>\n",
              "      <td>320265.495</td>\n",
              "      <td>0.0</td>\n",
              "      <td>0.0</td>\n",
              "      <td>Consumer credit</td>\n",
              "      <td>39.0</td>\n",
              "      <td>NaN</td>\n",
              "    </tr>\n",
              "    <tr>\n",
              "      <th>1</th>\n",
              "      <td>123436670</td>\n",
              "      <td>6207544</td>\n",
              "      <td>Closed</td>\n",
              "      <td>currency 1</td>\n",
              "      <td>696.0</td>\n",
              "      <td>0</td>\n",
              "      <td>511.0</td>\n",
              "      <td>511.0</td>\n",
              "      <td>0.00</td>\n",
              "      <td>0</td>\n",
              "      <td>93111.66</td>\n",
              "      <td>0.000</td>\n",
              "      <td>0.0</td>\n",
              "      <td>0.0</td>\n",
              "      <td>Consumer credit</td>\n",
              "      <td>505.0</td>\n",
              "      <td>NaN</td>\n",
              "    </tr>\n",
              "    <tr>\n",
              "      <th>2</th>\n",
              "      <td>123589020</td>\n",
              "      <td>6326395</td>\n",
              "      <td>Closed</td>\n",
              "      <td>currency 1</td>\n",
              "      <td>165.0</td>\n",
              "      <td>0</td>\n",
              "      <td>149.0</td>\n",
              "      <td>160.0</td>\n",
              "      <td>NaN</td>\n",
              "      <td>0</td>\n",
              "      <td>36000.00</td>\n",
              "      <td>0.000</td>\n",
              "      <td>0.0</td>\n",
              "      <td>0.0</td>\n",
              "      <td>Consumer credit</td>\n",
              "      <td>150.0</td>\n",
              "      <td>0.0</td>\n",
              "    </tr>\n",
              "  </tbody>\n",
              "</table>\n",
              "</div>"
            ],
            "text/plain": [
              "   APPLICATION_NUMBER  BUREAU_ID CREDIT_ACTIVE CREDIT_CURRENCY  DAYS_CREDIT  \\\n",
              "0           123538884    5223613        Active      currency 1        718.0   \n",
              "1           123436670    6207544        Closed      currency 1        696.0   \n",
              "2           123589020    6326395        Closed      currency 1        165.0   \n",
              "\n",
              "   CREDIT_DAY_OVERDUE  DAYS_CREDIT_ENDDATE  DAYS_ENDDATE_FACT  \\\n",
              "0                   0                377.0                NaN   \n",
              "1                   0                511.0              511.0   \n",
              "2                   0                149.0              160.0   \n",
              "\n",
              "   AMT_CREDIT_MAX_OVERDUE  CNT_CREDIT_PROLONG  AMT_CREDIT_SUM  \\\n",
              "0                19386.81                   0       675000.00   \n",
              "1                    0.00                   0        93111.66   \n",
              "2                     NaN                   0        36000.00   \n",
              "\n",
              "   AMT_CREDIT_SUM_DEBT  AMT_CREDIT_SUM_LIMIT  AMT_CREDIT_SUM_OVERDUE  \\\n",
              "0           320265.495                   0.0                     0.0   \n",
              "1                0.000                   0.0                     0.0   \n",
              "2                0.000                   0.0                     0.0   \n",
              "\n",
              "       CREDIT_TYPE  DAYS_CREDIT_UPDATE  AMT_ANNUITY  \n",
              "0  Consumer credit                39.0          NaN  \n",
              "1  Consumer credit               505.0          NaN  \n",
              "2  Consumer credit               150.0          0.0  "
            ]
          },
          "metadata": {
            "tags": []
          },
          "execution_count": 158
        }
      ]
    },
    {
      "cell_type": "code",
      "metadata": {
        "id": "lzLa95al6ZAX",
        "trusted": true,
        "outputId": "7e88a60f-324c-461b-9b43-594b2638ad62",
        "colab": {
          "base_uri": "https://localhost:8080/",
          "height": 238
        }
      },
      "source": [
        "source['bki'].groupby(\"APPLICATION_NUMBER\")[\"APPLICATION_NUMBER\"].count().sort_values()"
      ],
      "execution_count": 159,
      "outputs": [
        {
          "output_type": "execute_result",
          "data": {
            "text/plain": [
              "APPLICATION_NUMBER\n",
              "123571743     1\n",
              "123620010     1\n",
              "123740077     1\n",
              "123502086     1\n",
              "123620015     1\n",
              "             ..\n",
              "123604794    36\n",
              "123603494    39\n",
              "123641404    50\n",
              "123493043    51\n",
              "123444199    63\n",
              "Name: APPLICATION_NUMBER, Length: 273131, dtype: int64"
            ]
          },
          "metadata": {
            "tags": []
          },
          "execution_count": 159
        }
      ]
    },
    {
      "cell_type": "code",
      "metadata": {
        "id": "b8HzVUlN6ZAc",
        "trusted": true,
        "outputId": "7f34a596-e593-4b7f-f7f5-d7c8b5fb80bf",
        "colab": {
          "base_uri": "https://localhost:8080/",
          "height": 136
        }
      },
      "source": [
        "source['bki'].groupby(\"APPLICATION_NUMBER\")[\"APPLICATION_NUMBER\"].count().sort_values().tail()"
      ],
      "execution_count": 160,
      "outputs": [
        {
          "output_type": "execute_result",
          "data": {
            "text/plain": [
              "APPLICATION_NUMBER\n",
              "123604794    36\n",
              "123603494    39\n",
              "123641404    50\n",
              "123493043    51\n",
              "123444199    63\n",
              "Name: APPLICATION_NUMBER, dtype: int64"
            ]
          },
          "metadata": {
            "tags": []
          },
          "execution_count": 160
        }
      ]
    },
    {
      "cell_type": "code",
      "metadata": {
        "id": "ScNZ38Mj6ZAh",
        "trusted": true,
        "outputId": "3712977e-1216-4e8e-8e3e-7f8176c95518",
        "colab": {
          "base_uri": "https://localhost:8080/",
          "height": 142
        }
      },
      "source": [
        "source['payments'].head(3)"
      ],
      "execution_count": 161,
      "outputs": [
        {
          "output_type": "execute_result",
          "data": {
            "text/html": [
              "<div>\n",
              "<style scoped>\n",
              "    .dataframe tbody tr th:only-of-type {\n",
              "        vertical-align: middle;\n",
              "    }\n",
              "\n",
              "    .dataframe tbody tr th {\n",
              "        vertical-align: top;\n",
              "    }\n",
              "\n",
              "    .dataframe thead th {\n",
              "        text-align: right;\n",
              "    }\n",
              "</style>\n",
              "<table border=\"1\" class=\"dataframe\">\n",
              "  <thead>\n",
              "    <tr style=\"text-align: right;\">\n",
              "      <th></th>\n",
              "      <th>PREV_APPLICATION_NUMBER</th>\n",
              "      <th>APPLICATION_NUMBER</th>\n",
              "      <th>NUM_INSTALMENT_VERSION</th>\n",
              "      <th>NUM_INSTALMENT_NUMBER</th>\n",
              "      <th>DAYS_INSTALMENT</th>\n",
              "      <th>DAYS_ENTRY_PAYMENT</th>\n",
              "      <th>AMT_INSTALMENT</th>\n",
              "      <th>AMT_PAYMENT</th>\n",
              "    </tr>\n",
              "  </thead>\n",
              "  <tbody>\n",
              "    <tr>\n",
              "      <th>0</th>\n",
              "      <td>49011181</td>\n",
              "      <td>123664960</td>\n",
              "      <td>1.0</td>\n",
              "      <td>5</td>\n",
              "      <td>1002.0</td>\n",
              "      <td>1015.0</td>\n",
              "      <td>12156.615</td>\n",
              "      <td>12156.615</td>\n",
              "    </tr>\n",
              "    <tr>\n",
              "      <th>1</th>\n",
              "      <td>48683432</td>\n",
              "      <td>123497205</td>\n",
              "      <td>1.0</td>\n",
              "      <td>13</td>\n",
              "      <td>442.0</td>\n",
              "      <td>432.0</td>\n",
              "      <td>18392.535</td>\n",
              "      <td>10047.645</td>\n",
              "    </tr>\n",
              "    <tr>\n",
              "      <th>2</th>\n",
              "      <td>48652024</td>\n",
              "      <td>123749925</td>\n",
              "      <td>1.0</td>\n",
              "      <td>10</td>\n",
              "      <td>8.0</td>\n",
              "      <td>23.0</td>\n",
              "      <td>5499.945</td>\n",
              "      <td>5499.945</td>\n",
              "    </tr>\n",
              "  </tbody>\n",
              "</table>\n",
              "</div>"
            ],
            "text/plain": [
              "   PREV_APPLICATION_NUMBER  APPLICATION_NUMBER  NUM_INSTALMENT_VERSION  \\\n",
              "0                 49011181           123664960                     1.0   \n",
              "1                 48683432           123497205                     1.0   \n",
              "2                 48652024           123749925                     1.0   \n",
              "\n",
              "   NUM_INSTALMENT_NUMBER  DAYS_INSTALMENT  DAYS_ENTRY_PAYMENT  AMT_INSTALMENT  \\\n",
              "0                      5           1002.0              1015.0       12156.615   \n",
              "1                     13            442.0               432.0       18392.535   \n",
              "2                     10              8.0                23.0        5499.945   \n",
              "\n",
              "   AMT_PAYMENT  \n",
              "0    12156.615  \n",
              "1    10047.645  \n",
              "2     5499.945  "
            ]
          },
          "metadata": {
            "tags": []
          },
          "execution_count": 161
        }
      ]
    },
    {
      "cell_type": "code",
      "metadata": {
        "id": "9FPO7YQr6ZAm",
        "trusted": true,
        "outputId": "de16cdea-086c-446a-eca9-415a2aa7ad30",
        "colab": {
          "base_uri": "https://localhost:8080/",
          "height": 142
        }
      },
      "source": [
        "source['test'].head(3)"
      ],
      "execution_count": 162,
      "outputs": [
        {
          "output_type": "execute_result",
          "data": {
            "text/html": [
              "<div>\n",
              "<style scoped>\n",
              "    .dataframe tbody tr th:only-of-type {\n",
              "        vertical-align: middle;\n",
              "    }\n",
              "\n",
              "    .dataframe tbody tr th {\n",
              "        vertical-align: top;\n",
              "    }\n",
              "\n",
              "    .dataframe thead th {\n",
              "        text-align: right;\n",
              "    }\n",
              "</style>\n",
              "<table border=\"1\" class=\"dataframe\">\n",
              "  <thead>\n",
              "    <tr style=\"text-align: right;\">\n",
              "      <th></th>\n",
              "      <th>APPLICATION_NUMBER</th>\n",
              "      <th>NAME_CONTRACT_TYPE</th>\n",
              "    </tr>\n",
              "  </thead>\n",
              "  <tbody>\n",
              "    <tr>\n",
              "      <th>0</th>\n",
              "      <td>123724268</td>\n",
              "      <td>Cash</td>\n",
              "    </tr>\n",
              "    <tr>\n",
              "      <th>1</th>\n",
              "      <td>123456549</td>\n",
              "      <td>Cash</td>\n",
              "    </tr>\n",
              "    <tr>\n",
              "      <th>2</th>\n",
              "      <td>123428178</td>\n",
              "      <td>Credit Card</td>\n",
              "    </tr>\n",
              "  </tbody>\n",
              "</table>\n",
              "</div>"
            ],
            "text/plain": [
              "   APPLICATION_NUMBER NAME_CONTRACT_TYPE\n",
              "0           123724268               Cash\n",
              "1           123456549               Cash\n",
              "2           123428178        Credit Card"
            ]
          },
          "metadata": {
            "tags": []
          },
          "execution_count": 162
        }
      ]
    },
    {
      "cell_type": "code",
      "metadata": {
        "scrolled": true,
        "id": "_EC_Ljeu6ZAr",
        "trusted": true,
        "outputId": "edb0affa-580a-4f25-99d5-1d23766c1076",
        "colab": {
          "base_uri": "https://localhost:8080/",
          "height": 1000
        }
      },
      "source": [
        "for name in src_list:\n",
        "    print(f\"{name} \\n\")\n",
        "    source[name].info()\n",
        "    print(\"\\n\")"
      ],
      "execution_count": 163,
      "outputs": [
        {
          "output_type": "stream",
          "text": [
            "train \n",
            "\n",
            "<class 'pandas.core.frame.DataFrame'>\n",
            "RangeIndex: 110093 entries, 0 to 110092\n",
            "Data columns (total 3 columns):\n",
            " #   Column              Non-Null Count   Dtype \n",
            "---  ------              --------------   ----- \n",
            " 0   APPLICATION_NUMBER  110093 non-null  int64 \n",
            " 1   TARGET              110093 non-null  int64 \n",
            " 2   NAME_CONTRACT_TYPE  110093 non-null  object\n",
            "dtypes: int64(2), object(1)\n",
            "memory usage: 2.5+ MB\n",
            "\n",
            "\n",
            "test \n",
            "\n",
            "<class 'pandas.core.frame.DataFrame'>\n",
            "RangeIndex: 165141 entries, 0 to 165140\n",
            "Data columns (total 2 columns):\n",
            " #   Column              Non-Null Count   Dtype \n",
            "---  ------              --------------   ----- \n",
            " 0   APPLICATION_NUMBER  165141 non-null  int64 \n",
            " 1   NAME_CONTRACT_TYPE  165141 non-null  object\n",
            "dtypes: int64(1), object(1)\n",
            "memory usage: 2.5+ MB\n",
            "\n",
            "\n",
            "client_profile \n",
            "\n",
            "<class 'pandas.core.frame.DataFrame'>\n",
            "RangeIndex: 250000 entries, 0 to 249999\n",
            "Data columns (total 24 columns):\n",
            " #   Column                      Non-Null Count   Dtype  \n",
            "---  ------                      --------------   -----  \n",
            " 0   APPLICATION_NUMBER          250000 non-null  int64  \n",
            " 1   GENDER                      250000 non-null  object \n",
            " 2   CHILDRENS                   250000 non-null  int64  \n",
            " 3   TOTAL_SALARY                250000 non-null  float64\n",
            " 4   AMOUNT_CREDIT               250000 non-null  float64\n",
            " 5   AMOUNT_ANNUITY              249989 non-null  float64\n",
            " 6   EDUCATION_LEVEL             250000 non-null  object \n",
            " 7   FAMILY_STATUS               250000 non-null  object \n",
            " 8   REGION_POPULATION           250000 non-null  float64\n",
            " 9   AGE                         250000 non-null  int64  \n",
            " 10  DAYS_ON_LAST_JOB            250000 non-null  int64  \n",
            " 11  OWN_CAR_AGE                 85041 non-null   float64\n",
            " 12  FLAG_PHONE                  250000 non-null  int64  \n",
            " 13  FLAG_EMAIL                  250000 non-null  int64  \n",
            " 14  FAMILY_SIZE                 249998 non-null  float64\n",
            " 15  EXTERNAL_SCORING_RATING_1   109121 non-null  float64\n",
            " 16  EXTERNAL_SCORING_RATING_2   249468 non-null  float64\n",
            " 17  EXTERNAL_SCORING_RATING_3   200462 non-null  float64\n",
            " 18  AMT_REQ_CREDIT_BUREAU_HOUR  216293 non-null  float64\n",
            " 19  AMT_REQ_CREDIT_BUREAU_DAY   216293 non-null  float64\n",
            " 20  AMT_REQ_CREDIT_BUREAU_WEEK  216293 non-null  float64\n",
            " 21  AMT_REQ_CREDIT_BUREAU_MON   216293 non-null  float64\n",
            " 22  AMT_REQ_CREDIT_BUREAU_QRT   216293 non-null  float64\n",
            " 23  AMT_REQ_CREDIT_BUREAU_YEAR  216293 non-null  float64\n",
            "dtypes: float64(15), int64(6), object(3)\n",
            "memory usage: 45.8+ MB\n",
            "\n",
            "\n",
            "applications_history \n",
            "\n",
            "<class 'pandas.core.frame.DataFrame'>\n",
            "RangeIndex: 1670214 entries, 0 to 1670213\n",
            "Data columns (total 26 columns):\n",
            " #   Column                     Non-Null Count    Dtype  \n",
            "---  ------                     --------------    -----  \n",
            " 0   PREV_APPLICATION_NUMBER    1670214 non-null  int64  \n",
            " 1   APPLICATION_NUMBER         1670214 non-null  int64  \n",
            " 2   NAME_CONTRACT_TYPE         940717 non-null   object \n",
            " 3   AMOUNT_ANNUITY             1297979 non-null  float64\n",
            " 4   AMT_APPLICATION            1670214 non-null  float64\n",
            " 5   AMOUNT_CREDIT              1670213 non-null  float64\n",
            " 6   AMOUNT_PAYMENT             774370 non-null   float64\n",
            " 7   AMOUNT_GOODS_PAYMENT       1284699 non-null  float64\n",
            " 8   NAME_CONTRACT_STATUS       1670214 non-null  object \n",
            " 9   DAYS_DECISION              1670214 non-null  int64  \n",
            " 10  NAME_PAYMENT_TYPE          1670214 non-null  object \n",
            " 11  CODE_REJECT_REASON         1670214 non-null  object \n",
            " 12  NAME_TYPE_SUITE            849809 non-null   object \n",
            " 13  NAME_CLIENT_TYPE           1670214 non-null  object \n",
            " 14  NAME_GOODS_CATEGORY        1670214 non-null  object \n",
            " 15  NAME_PORTFOLIO             1670214 non-null  object \n",
            " 16  NAME_PRODUCT_TYPE          1670214 non-null  object \n",
            " 17  SELLERPLACE_AREA           1670214 non-null  int64  \n",
            " 18  CNT_PAYMENT                1297984 non-null  float64\n",
            " 19  NAME_YIELD_GROUP           1670214 non-null  object \n",
            " 20  DAYS_FIRST_DRAWING         997149 non-null   float64\n",
            " 21  DAYS_FIRST_DUE             997149 non-null   float64\n",
            " 22  DAYS_LAST_DUE_1ST_VERSION  997149 non-null   float64\n",
            " 23  DAYS_LAST_DUE              997149 non-null   float64\n",
            " 24  DAYS_TERMINATION           997149 non-null   float64\n",
            " 25  NFLAG_INSURED_ON_APPROVAL  997149 non-null   float64\n",
            "dtypes: float64(12), int64(4), object(10)\n",
            "memory usage: 331.3+ MB\n",
            "\n",
            "\n",
            "bki \n",
            "\n",
            "<class 'pandas.core.frame.DataFrame'>\n",
            "RangeIndex: 945234 entries, 0 to 945233\n",
            "Data columns (total 17 columns):\n",
            " #   Column                  Non-Null Count   Dtype  \n",
            "---  ------                  --------------   -----  \n",
            " 0   APPLICATION_NUMBER      945234 non-null  int64  \n",
            " 1   BUREAU_ID               945234 non-null  int64  \n",
            " 2   CREDIT_ACTIVE           945234 non-null  object \n",
            " 3   CREDIT_CURRENCY         945234 non-null  object \n",
            " 4   DAYS_CREDIT             945234 non-null  float64\n",
            " 5   CREDIT_DAY_OVERDUE      945234 non-null  int64  \n",
            " 6   DAYS_CREDIT_ENDDATE     886797 non-null  float64\n",
            " 7   DAYS_ENDDATE_FACT       596274 non-null  float64\n",
            " 8   AMT_CREDIT_MAX_OVERDUE  326557 non-null  float64\n",
            " 9   CNT_CREDIT_PROLONG      945234 non-null  int64  \n",
            " 10  AMT_CREDIT_SUM          945229 non-null  float64\n",
            " 11  AMT_CREDIT_SUM_DEBT     803483 non-null  float64\n",
            " 12  AMT_CREDIT_SUM_LIMIT    619267 non-null  float64\n",
            " 13  AMT_CREDIT_SUM_OVERDUE  945234 non-null  float64\n",
            " 14  CREDIT_TYPE             945234 non-null  object \n",
            " 15  DAYS_CREDIT_UPDATE      945234 non-null  float64\n",
            " 16  AMT_ANNUITY             269330 non-null  float64\n",
            "dtypes: float64(10), int64(4), object(3)\n",
            "memory usage: 122.6+ MB\n",
            "\n",
            "\n",
            "payments \n",
            "\n",
            "<class 'pandas.core.frame.DataFrame'>\n",
            "RangeIndex: 1023932 entries, 0 to 1023931\n",
            "Data columns (total 8 columns):\n",
            " #   Column                   Non-Null Count    Dtype  \n",
            "---  ------                   --------------    -----  \n",
            " 0   PREV_APPLICATION_NUMBER  1023932 non-null  int64  \n",
            " 1   APPLICATION_NUMBER       1023932 non-null  int64  \n",
            " 2   NUM_INSTALMENT_VERSION   1023932 non-null  float64\n",
            " 3   NUM_INSTALMENT_NUMBER    1023932 non-null  int64  \n",
            " 4   DAYS_INSTALMENT          1023932 non-null  float64\n",
            " 5   DAYS_ENTRY_PAYMENT       1023729 non-null  float64\n",
            " 6   AMT_INSTALMENT           1023932 non-null  float64\n",
            " 7   AMT_PAYMENT              1023729 non-null  float64\n",
            "dtypes: float64(5), int64(3)\n",
            "memory usage: 62.5 MB\n",
            "\n",
            "\n"
          ],
          "name": "stdout"
        }
      ]
    },
    {
      "cell_type": "code",
      "metadata": {
        "id": "gWChqlbF6ZAv",
        "trusted": true
      },
      "source": [
        "def data_obj_discribe(data: pd.DataFrame):\n",
        "# если столбец имеет тип 'object' и содержит менее 30 уникальных \n",
        "# распечатывает значения столбцов и подсчитывает количество значений\n",
        "\n",
        "    # data: pd.DataFrame исходный датафрейм\n",
        "    \n",
        "    obj_fit = data.select_dtypes(include='object')\n",
        "    print('*' * 100)\n",
        "    for cat_colname in obj_fit.columns:\n",
        "        if len(obj_fit[cat_colname].unique()) < 30:\n",
        "            print(str(cat_colname) + '\\n\\n' + str(obj_fit[cat_colname].unique()) + '\\n\\n')\n",
        "            print(obj_fit.groupby(cat_colname)[cat_colname].count())\n",
        "            print('*' * 100 + '\\n')"
      ],
      "execution_count": 164,
      "outputs": []
    },
    {
      "cell_type": "code",
      "metadata": {
        "scrolled": true,
        "id": "TelMnRWv6ZAz",
        "trusted": true
      },
      "source": [
        "# for name in src_list:\n",
        "#     obj_col = source[name].select_dtypes(include='object')\n",
        "#     if not obj_col.empty:\n",
        "#         print(f\"\\t{name}{source[name].shape}\\n\")\n",
        "#         data_obj_discribe(source[name])"
      ],
      "execution_count": 165,
      "outputs": []
    },
    {
      "cell_type": "markdown",
      "metadata": {
        "id": "cjcaz9XJ6ZA4"
      },
      "source": [
        "## Формируем \"Большую таблицу\"\n",
        "\n",
        "### Подшиваем test к train"
      ]
    },
    {
      "cell_type": "code",
      "metadata": {
        "id": "H_kVXUWk6ZA5",
        "trusted": true
      },
      "source": [
        "test = source['test']"
      ],
      "execution_count": 166,
      "outputs": []
    },
    {
      "cell_type": "code",
      "metadata": {
        "id": "iS6tUkZw6ZA9",
        "trusted": true
      },
      "source": [
        "test[\"TARGET\"] = math.nan"
      ],
      "execution_count": 167,
      "outputs": []
    },
    {
      "cell_type": "code",
      "metadata": {
        "id": "EtaQkexd6ZBC",
        "trusted": true,
        "outputId": "f64d94da-f810-450a-f415-d728149211d2",
        "colab": {
          "base_uri": "https://localhost:8080/",
          "height": 255
        }
      },
      "source": [
        "test.head"
      ],
      "execution_count": 168,
      "outputs": [
        {
          "output_type": "execute_result",
          "data": {
            "text/plain": [
              "<bound method NDFrame.head of         APPLICATION_NUMBER NAME_CONTRACT_TYPE  TARGET\n",
              "0                123724268               Cash     NaN\n",
              "1                123456549               Cash     NaN\n",
              "2                123428178        Credit Card     NaN\n",
              "3                123619984               Cash     NaN\n",
              "4                123671104               Cash     NaN\n",
              "...                    ...                ...     ...\n",
              "165136           123487967               Cash     NaN\n",
              "165137           123536402               Cash     NaN\n",
              "165138           123718238               Cash     NaN\n",
              "165139           123631557               Cash     NaN\n",
              "165140           123433260               Cash     NaN\n",
              "\n",
              "[165141 rows x 3 columns]>"
            ]
          },
          "metadata": {
            "tags": []
          },
          "execution_count": 168
        }
      ]
    },
    {
      "cell_type": "code",
      "metadata": {
        "id": "pSfHVpbH6ZBG",
        "trusted": true,
        "outputId": "7d56bc8d-7646-42f0-8628-443f7171756b",
        "colab": {
          "base_uri": "https://localhost:8080/",
          "height": 204
        }
      },
      "source": [
        "data = pd.concat([source['train'], test], axis=0)\n",
        "data.tail()"
      ],
      "execution_count": 169,
      "outputs": [
        {
          "output_type": "execute_result",
          "data": {
            "text/html": [
              "<div>\n",
              "<style scoped>\n",
              "    .dataframe tbody tr th:only-of-type {\n",
              "        vertical-align: middle;\n",
              "    }\n",
              "\n",
              "    .dataframe tbody tr th {\n",
              "        vertical-align: top;\n",
              "    }\n",
              "\n",
              "    .dataframe thead th {\n",
              "        text-align: right;\n",
              "    }\n",
              "</style>\n",
              "<table border=\"1\" class=\"dataframe\">\n",
              "  <thead>\n",
              "    <tr style=\"text-align: right;\">\n",
              "      <th></th>\n",
              "      <th>APPLICATION_NUMBER</th>\n",
              "      <th>TARGET</th>\n",
              "      <th>NAME_CONTRACT_TYPE</th>\n",
              "    </tr>\n",
              "  </thead>\n",
              "  <tbody>\n",
              "    <tr>\n",
              "      <th>165136</th>\n",
              "      <td>123487967</td>\n",
              "      <td>NaN</td>\n",
              "      <td>Cash</td>\n",
              "    </tr>\n",
              "    <tr>\n",
              "      <th>165137</th>\n",
              "      <td>123536402</td>\n",
              "      <td>NaN</td>\n",
              "      <td>Cash</td>\n",
              "    </tr>\n",
              "    <tr>\n",
              "      <th>165138</th>\n",
              "      <td>123718238</td>\n",
              "      <td>NaN</td>\n",
              "      <td>Cash</td>\n",
              "    </tr>\n",
              "    <tr>\n",
              "      <th>165139</th>\n",
              "      <td>123631557</td>\n",
              "      <td>NaN</td>\n",
              "      <td>Cash</td>\n",
              "    </tr>\n",
              "    <tr>\n",
              "      <th>165140</th>\n",
              "      <td>123433260</td>\n",
              "      <td>NaN</td>\n",
              "      <td>Cash</td>\n",
              "    </tr>\n",
              "  </tbody>\n",
              "</table>\n",
              "</div>"
            ],
            "text/plain": [
              "        APPLICATION_NUMBER  TARGET NAME_CONTRACT_TYPE\n",
              "165136           123487967     NaN               Cash\n",
              "165137           123536402     NaN               Cash\n",
              "165138           123718238     NaN               Cash\n",
              "165139           123631557     NaN               Cash\n",
              "165140           123433260     NaN               Cash"
            ]
          },
          "metadata": {
            "tags": []
          },
          "execution_count": 169
        }
      ]
    },
    {
      "cell_type": "code",
      "metadata": {
        "id": "wBegNCHH6ZBX",
        "trusted": true,
        "outputId": "12ad6eb8-6662-4fdb-e94b-8654a7bc789f",
        "colab": {
          "base_uri": "https://localhost:8080/",
          "height": 34
        }
      },
      "source": [
        "data.shape"
      ],
      "execution_count": 170,
      "outputs": [
        {
          "output_type": "execute_result",
          "data": {
            "text/plain": [
              "(275234, 3)"
            ]
          },
          "metadata": {
            "tags": []
          },
          "execution_count": 170
        }
      ]
    },
    {
      "cell_type": "markdown",
      "metadata": {
        "id": "P0IFgUFR6ZBc"
      },
      "source": [
        "### Добавляем client_profile"
      ]
    },
    {
      "cell_type": "code",
      "metadata": {
        "id": "zescElkkPj0Z",
        "cellView": "both",
        "trusted": true
      },
      "source": [
        "def create_client_profile_features(X: pd.DataFrame, copy: bool = True) -> pd.DataFrame:\n",
        "    \"\"\"\n",
        "    Создание признаков на основе профиля клиентов.\n",
        "\n",
        "    Parameters\n",
        "    ----------\n",
        "    X: pandas.core.frame.DataFrame\n",
        "        Матрица признаков с исходным профилем клиента.\n",
        "\n",
        "    copy: bool, optional, default = True\n",
        "        Флаг использования копии датафрейма X.\n",
        "        Опциональный параметр, по умолчанию, равен True.\n",
        "\n",
        "    Returns\n",
        "    -------\n",
        "    X_transformed: pandas.core.frame.DataFrame\n",
        "        Расширенная матрица признаков с профилем клиентов.\n",
        "\n",
        "    \"\"\"\n",
        "    if copy:\n",
        "        X = X.copy()\n",
        "\n",
        "    X[\"DAYS_ON_LAST_JOB\"] = X[\"DAYS_ON_LAST_JOB\"].replace(365243, np.nan)\n",
        "#     bki_flags = [flag for flag in X.columns if \"AMT_REQ_CREDIT_BUREAU\" in flag]\n",
        "#     X[\"BKI_REQUESTS_COUNT\"] = X[bki_flags].sum(axis=1)\n",
        "#     X[\"BKI_KURTOSIS\"] = X[bki_flags].kurtosis(axis=1)\n",
        "\n",
        "    X[\"EXTERNAL_SCORING_PROD\"] = X[\"EXTERNAL_SCORING_RATING_1\"] * X[\"EXTERNAL_SCORING_RATING_2\"] * X[\"EXTERNAL_SCORING_RATING_3\"]\n",
        "    X[\"EXTERNAL_SCORING_WEIGHTED\"] = X.EXTERNAL_SCORING_RATING_1 * 2 + X.EXTERNAL_SCORING_RATING_2 * 1 + X.EXTERNAL_SCORING_RATING_3 * 3\n",
        "\n",
        "    for function_name in [\"min\", \"max\", \"mean\", \"nanmedian\", \"var\"]:\n",
        "        feature_name = \"EXTERNAL_SCORING_RATING_{}\".format(function_name)\n",
        "        X[feature_name] = eval(\"np.{}\".format(function_name))(\n",
        "            X[[\"EXTERNAL_SCORING_RATING_1\", \"EXTERNAL_SCORING_RATING_2\", \"EXTERNAL_SCORING_RATING_3\"]], axis=1\n",
        "        )\n",
        "\n",
        "    # Отношение между основными фин. показателями\n",
        "    X['RATIO_CREDIT_TO_ANNUITY'] = X['AMOUNT_CREDIT'] / X['AMOUNT_ANNUITY']\n",
        "    X[\"RATIO_ANNUITY_TO_SALARY\"] = X['AMOUNT_ANNUITY'] / X['TOTAL_SALARY']\n",
        "    X['RATIO_CREDIT_TO_SALARY'] = X['AMOUNT_CREDIT'] / X['TOTAL_SALARY']\n",
        "    #X[\"TOTAL_SALARY_NET\"] = X[\"TOTAL_SALARY\"] - X[\"AMOUNT_ANNUITY\"]\n",
        "\n",
        "#     # Отношение фин. показателей к возрасту и временным фичам\n",
        "#     X[\"RATIO_ANNUITY_TO_AGE\"] = X[\"AMOUNT_ANNUITY\"] / X[\"AGE\"]\n",
        "#     X[\"RATIO_CREDIT_TO_AGE\"] = X[\"AMOUNT_CREDIT\"] / X[\"AGE\"]\n",
        "#     X[\"RATIO_SALARY_TO_AGE\"] = X[\"TOTAL_SALARY\"] / X[\"AGE\"]\n",
        "#     X[\"RATIO_SALARY_TO_EXPERIENCE\"] = X[\"TOTAL_SALARY\"] / X[\"DAYS_ON_LAST_JOB\"]\n",
        "#     X[\"RATIO_CREDIT_TO_EXPERIENCE\"] = X[\"AMOUNT_CREDIT\"] / X[\"DAYS_ON_LAST_JOB\"]\n",
        "#     X[\"RATIO_ANNUITY_TO_EXPERIENCE\"] = X[\"AMOUNT_ANNUITY\"] / X[\"DAYS_ON_LAST_JOB\"]\n",
        "\n",
        "#     # Отношение врменных признаков\n",
        "#     X[\"RATIO_AGE_TO_EXPERIENCE\"] = X[\"AGE\"] / X[\"DAYS_ON_LAST_JOB\"]\n",
        "#     X[\"RATIO_SALARY_TO_REGION_POPULATION\"] = X[\"TOTAL_SALARY\"] * X[\"REGION_POPULATION\"]\n",
        "#     X[\"RATIO_CAR_TO_EXPERIENCE\"] = X[\"OWN_CAR_AGE\"] / X[\"DAYS_ON_LAST_JOB\"]\n",
        "#     X[\"RATIO_CAR_TO_AGE\"] = X[\"OWN_CAR_AGE\"] / X[\"AGE\"]\n",
        "\n",
        "    # Произведение фин. показателей кредита на вероятность дефолта\n",
        "    # Такая штука называется математическим ожиданием дефолта или ожидаемыми потерями\n",
        "    X[\"EXPECTED_TOTAL_LOSS_1\"] = X[\"EXTERNAL_SCORING_RATING_1\"] * X[\"AMOUNT_CREDIT\"]\n",
        "    X[\"EXPECTED_TOTAL_LOSS_2\"] = X[\"EXTERNAL_SCORING_RATING_2\"] * X[\"AMOUNT_CREDIT\"]\n",
        "    X[\"EXPECTED_TOTAL_LOSS_3\"] = X[\"EXTERNAL_SCORING_RATING_3\"] * X[\"AMOUNT_CREDIT\"]\n",
        "    X[\"EXPECTED_MONTHLY_LOSS_1\"] = X[\"EXTERNAL_SCORING_RATING_1\"] * X[\"AMOUNT_ANNUITY\"]\n",
        "    X[\"EXPECTED_MONTHLY_LOSS_2\"] = X[\"EXTERNAL_SCORING_RATING_2\"] * X[\"AMOUNT_ANNUITY\"]\n",
        "    X[\"EXPECTED_MONTHLY_LOSS_3\"] = X[\"EXTERNAL_SCORING_RATING_3\"] * X[\"AMOUNT_ANNUITY\"]\n",
        "\n",
        "    return X"
      ],
      "execution_count": 171,
      "outputs": []
    },
    {
      "cell_type": "code",
      "metadata": {
        "id": "pTFlEpSpPl0K",
        "trusted": true,
        "outputId": "5ff4bd27-c80c-4a47-9ab6-59fe4955ad4b",
        "colab": {
          "base_uri": "https://localhost:8080/",
          "height": 182
        }
      },
      "source": [
        "client_profile = create_client_profile_features(source[\"client_profile\"])\n",
        "client_profile.head(n=2)"
      ],
      "execution_count": 172,
      "outputs": [
        {
          "output_type": "stream",
          "text": [
            "/usr/local/lib/python3.6/dist-packages/numpy/lib/nanfunctions.py:1116: RuntimeWarning: All-NaN slice encountered\n",
            "  overwrite_input=overwrite_input)\n"
          ],
          "name": "stderr"
        },
        {
          "output_type": "execute_result",
          "data": {
            "text/html": [
              "<div>\n",
              "<style scoped>\n",
              "    .dataframe tbody tr th:only-of-type {\n",
              "        vertical-align: middle;\n",
              "    }\n",
              "\n",
              "    .dataframe tbody tr th {\n",
              "        vertical-align: top;\n",
              "    }\n",
              "\n",
              "    .dataframe thead th {\n",
              "        text-align: right;\n",
              "    }\n",
              "</style>\n",
              "<table border=\"1\" class=\"dataframe\">\n",
              "  <thead>\n",
              "    <tr style=\"text-align: right;\">\n",
              "      <th></th>\n",
              "      <th>APPLICATION_NUMBER</th>\n",
              "      <th>GENDER</th>\n",
              "      <th>CHILDRENS</th>\n",
              "      <th>TOTAL_SALARY</th>\n",
              "      <th>AMOUNT_CREDIT</th>\n",
              "      <th>AMOUNT_ANNUITY</th>\n",
              "      <th>EDUCATION_LEVEL</th>\n",
              "      <th>FAMILY_STATUS</th>\n",
              "      <th>REGION_POPULATION</th>\n",
              "      <th>AGE</th>\n",
              "      <th>DAYS_ON_LAST_JOB</th>\n",
              "      <th>OWN_CAR_AGE</th>\n",
              "      <th>FLAG_PHONE</th>\n",
              "      <th>FLAG_EMAIL</th>\n",
              "      <th>FAMILY_SIZE</th>\n",
              "      <th>EXTERNAL_SCORING_RATING_1</th>\n",
              "      <th>EXTERNAL_SCORING_RATING_2</th>\n",
              "      <th>EXTERNAL_SCORING_RATING_3</th>\n",
              "      <th>AMT_REQ_CREDIT_BUREAU_HOUR</th>\n",
              "      <th>AMT_REQ_CREDIT_BUREAU_DAY</th>\n",
              "      <th>AMT_REQ_CREDIT_BUREAU_WEEK</th>\n",
              "      <th>AMT_REQ_CREDIT_BUREAU_MON</th>\n",
              "      <th>AMT_REQ_CREDIT_BUREAU_QRT</th>\n",
              "      <th>AMT_REQ_CREDIT_BUREAU_YEAR</th>\n",
              "      <th>EXTERNAL_SCORING_PROD</th>\n",
              "      <th>EXTERNAL_SCORING_WEIGHTED</th>\n",
              "      <th>EXTERNAL_SCORING_RATING_min</th>\n",
              "      <th>EXTERNAL_SCORING_RATING_max</th>\n",
              "      <th>EXTERNAL_SCORING_RATING_mean</th>\n",
              "      <th>EXTERNAL_SCORING_RATING_nanmedian</th>\n",
              "      <th>EXTERNAL_SCORING_RATING_var</th>\n",
              "      <th>RATIO_CREDIT_TO_ANNUITY</th>\n",
              "      <th>RATIO_ANNUITY_TO_SALARY</th>\n",
              "      <th>RATIO_CREDIT_TO_SALARY</th>\n",
              "      <th>EXPECTED_TOTAL_LOSS_1</th>\n",
              "      <th>EXPECTED_TOTAL_LOSS_2</th>\n",
              "      <th>EXPECTED_TOTAL_LOSS_3</th>\n",
              "      <th>EXPECTED_MONTHLY_LOSS_1</th>\n",
              "      <th>EXPECTED_MONTHLY_LOSS_2</th>\n",
              "      <th>EXPECTED_MONTHLY_LOSS_3</th>\n",
              "    </tr>\n",
              "  </thead>\n",
              "  <tbody>\n",
              "    <tr>\n",
              "      <th>0</th>\n",
              "      <td>123666076</td>\n",
              "      <td>F</td>\n",
              "      <td>0</td>\n",
              "      <td>157500.0</td>\n",
              "      <td>270000.0</td>\n",
              "      <td>13500.0</td>\n",
              "      <td>Incomplete higher</td>\n",
              "      <td>Civil marriage</td>\n",
              "      <td>0.008068</td>\n",
              "      <td>8560</td>\n",
              "      <td>1549.0</td>\n",
              "      <td>NaN</td>\n",
              "      <td>1</td>\n",
              "      <td>0</td>\n",
              "      <td>2.0</td>\n",
              "      <td>0.329471</td>\n",
              "      <td>0.236315</td>\n",
              "      <td>0.678568</td>\n",
              "      <td>0.0</td>\n",
              "      <td>0.0</td>\n",
              "      <td>0.0</td>\n",
              "      <td>0.0</td>\n",
              "      <td>1.0</td>\n",
              "      <td>2.0</td>\n",
              "      <td>0.052832</td>\n",
              "      <td>2.930959</td>\n",
              "      <td>0.236315</td>\n",
              "      <td>0.678568</td>\n",
              "      <td>0.414784</td>\n",
              "      <td>0.329471</td>\n",
              "      <td>0.036237</td>\n",
              "      <td>20.00000</td>\n",
              "      <td>0.085714</td>\n",
              "      <td>1.714286</td>\n",
              "      <td>88957.124333</td>\n",
              "      <td>63804.966560</td>\n",
              "      <td>183213.275945</td>\n",
              "      <td>4447.856217</td>\n",
              "      <td>3190.248328</td>\n",
              "      <td>9160.663797</td>\n",
              "    </tr>\n",
              "    <tr>\n",
              "      <th>1</th>\n",
              "      <td>123423688</td>\n",
              "      <td>F</td>\n",
              "      <td>0</td>\n",
              "      <td>270000.0</td>\n",
              "      <td>536917.5</td>\n",
              "      <td>28467.0</td>\n",
              "      <td>Secondary / secondary special</td>\n",
              "      <td>Married</td>\n",
              "      <td>0.020246</td>\n",
              "      <td>23187</td>\n",
              "      <td>NaN</td>\n",
              "      <td>NaN</td>\n",
              "      <td>0</td>\n",
              "      <td>0</td>\n",
              "      <td>2.0</td>\n",
              "      <td>NaN</td>\n",
              "      <td>0.442295</td>\n",
              "      <td>0.802745</td>\n",
              "      <td>0.0</td>\n",
              "      <td>0.0</td>\n",
              "      <td>0.0</td>\n",
              "      <td>0.0</td>\n",
              "      <td>1.0</td>\n",
              "      <td>1.0</td>\n",
              "      <td>NaN</td>\n",
              "      <td>NaN</td>\n",
              "      <td>0.442295</td>\n",
              "      <td>0.802745</td>\n",
              "      <td>0.622520</td>\n",
              "      <td>0.622520</td>\n",
              "      <td>0.032481</td>\n",
              "      <td>18.86105</td>\n",
              "      <td>0.105433</td>\n",
              "      <td>1.988583</td>\n",
              "      <td>NaN</td>\n",
              "      <td>237475.743779</td>\n",
              "      <td>431008.094056</td>\n",
              "      <td>NaN</td>\n",
              "      <td>12590.802122</td>\n",
              "      <td>22851.755462</td>\n",
              "    </tr>\n",
              "  </tbody>\n",
              "</table>\n",
              "</div>"
            ],
            "text/plain": [
              "   APPLICATION_NUMBER GENDER  CHILDRENS  TOTAL_SALARY  AMOUNT_CREDIT  \\\n",
              "0           123666076      F          0      157500.0       270000.0   \n",
              "1           123423688      F          0      270000.0       536917.5   \n",
              "\n",
              "   AMOUNT_ANNUITY                EDUCATION_LEVEL   FAMILY_STATUS  \\\n",
              "0         13500.0              Incomplete higher  Civil marriage   \n",
              "1         28467.0  Secondary / secondary special         Married   \n",
              "\n",
              "   REGION_POPULATION    AGE  DAYS_ON_LAST_JOB  OWN_CAR_AGE  FLAG_PHONE  \\\n",
              "0           0.008068   8560            1549.0          NaN           1   \n",
              "1           0.020246  23187               NaN          NaN           0   \n",
              "\n",
              "   FLAG_EMAIL  FAMILY_SIZE  EXTERNAL_SCORING_RATING_1  \\\n",
              "0           0          2.0                   0.329471   \n",
              "1           0          2.0                        NaN   \n",
              "\n",
              "   EXTERNAL_SCORING_RATING_2  EXTERNAL_SCORING_RATING_3  \\\n",
              "0                   0.236315                   0.678568   \n",
              "1                   0.442295                   0.802745   \n",
              "\n",
              "   AMT_REQ_CREDIT_BUREAU_HOUR  AMT_REQ_CREDIT_BUREAU_DAY  \\\n",
              "0                         0.0                        0.0   \n",
              "1                         0.0                        0.0   \n",
              "\n",
              "   AMT_REQ_CREDIT_BUREAU_WEEK  AMT_REQ_CREDIT_BUREAU_MON  \\\n",
              "0                         0.0                        0.0   \n",
              "1                         0.0                        0.0   \n",
              "\n",
              "   AMT_REQ_CREDIT_BUREAU_QRT  AMT_REQ_CREDIT_BUREAU_YEAR  \\\n",
              "0                        1.0                         2.0   \n",
              "1                        1.0                         1.0   \n",
              "\n",
              "   EXTERNAL_SCORING_PROD  EXTERNAL_SCORING_WEIGHTED  \\\n",
              "0               0.052832                   2.930959   \n",
              "1                    NaN                        NaN   \n",
              "\n",
              "   EXTERNAL_SCORING_RATING_min  EXTERNAL_SCORING_RATING_max  \\\n",
              "0                     0.236315                     0.678568   \n",
              "1                     0.442295                     0.802745   \n",
              "\n",
              "   EXTERNAL_SCORING_RATING_mean  EXTERNAL_SCORING_RATING_nanmedian  \\\n",
              "0                      0.414784                           0.329471   \n",
              "1                      0.622520                           0.622520   \n",
              "\n",
              "   EXTERNAL_SCORING_RATING_var  RATIO_CREDIT_TO_ANNUITY  \\\n",
              "0                     0.036237                 20.00000   \n",
              "1                     0.032481                 18.86105   \n",
              "\n",
              "   RATIO_ANNUITY_TO_SALARY  RATIO_CREDIT_TO_SALARY  EXPECTED_TOTAL_LOSS_1  \\\n",
              "0                 0.085714                1.714286           88957.124333   \n",
              "1                 0.105433                1.988583                    NaN   \n",
              "\n",
              "   EXPECTED_TOTAL_LOSS_2  EXPECTED_TOTAL_LOSS_3  EXPECTED_MONTHLY_LOSS_1  \\\n",
              "0           63804.966560          183213.275945              4447.856217   \n",
              "1          237475.743779          431008.094056                      NaN   \n",
              "\n",
              "   EXPECTED_MONTHLY_LOSS_2  EXPECTED_MONTHLY_LOSS_3  \n",
              "0              3190.248328              9160.663797  \n",
              "1             12590.802122             22851.755462  "
            ]
          },
          "metadata": {
            "tags": []
          },
          "execution_count": 172
        }
      ]
    },
    {
      "cell_type": "code",
      "metadata": {
        "id": "0C-AIKuW6ZBd",
        "trusted": true,
        "outputId": "0203241a-28d3-4309-a075-43ae22162f19",
        "colab": {
          "base_uri": "https://localhost:8080/",
          "height": 258
        }
      },
      "source": [
        "data = pd.merge(data, client_profile, on='APPLICATION_NUMBER', how='left')\n",
        "data.head()"
      ],
      "execution_count": 173,
      "outputs": [
        {
          "output_type": "execute_result",
          "data": {
            "text/html": [
              "<div>\n",
              "<style scoped>\n",
              "    .dataframe tbody tr th:only-of-type {\n",
              "        vertical-align: middle;\n",
              "    }\n",
              "\n",
              "    .dataframe tbody tr th {\n",
              "        vertical-align: top;\n",
              "    }\n",
              "\n",
              "    .dataframe thead th {\n",
              "        text-align: right;\n",
              "    }\n",
              "</style>\n",
              "<table border=\"1\" class=\"dataframe\">\n",
              "  <thead>\n",
              "    <tr style=\"text-align: right;\">\n",
              "      <th></th>\n",
              "      <th>APPLICATION_NUMBER</th>\n",
              "      <th>TARGET</th>\n",
              "      <th>NAME_CONTRACT_TYPE</th>\n",
              "      <th>GENDER</th>\n",
              "      <th>CHILDRENS</th>\n",
              "      <th>TOTAL_SALARY</th>\n",
              "      <th>AMOUNT_CREDIT</th>\n",
              "      <th>AMOUNT_ANNUITY</th>\n",
              "      <th>EDUCATION_LEVEL</th>\n",
              "      <th>FAMILY_STATUS</th>\n",
              "      <th>REGION_POPULATION</th>\n",
              "      <th>AGE</th>\n",
              "      <th>DAYS_ON_LAST_JOB</th>\n",
              "      <th>OWN_CAR_AGE</th>\n",
              "      <th>FLAG_PHONE</th>\n",
              "      <th>FLAG_EMAIL</th>\n",
              "      <th>FAMILY_SIZE</th>\n",
              "      <th>EXTERNAL_SCORING_RATING_1</th>\n",
              "      <th>EXTERNAL_SCORING_RATING_2</th>\n",
              "      <th>EXTERNAL_SCORING_RATING_3</th>\n",
              "      <th>AMT_REQ_CREDIT_BUREAU_HOUR</th>\n",
              "      <th>AMT_REQ_CREDIT_BUREAU_DAY</th>\n",
              "      <th>AMT_REQ_CREDIT_BUREAU_WEEK</th>\n",
              "      <th>AMT_REQ_CREDIT_BUREAU_MON</th>\n",
              "      <th>AMT_REQ_CREDIT_BUREAU_QRT</th>\n",
              "      <th>AMT_REQ_CREDIT_BUREAU_YEAR</th>\n",
              "      <th>EXTERNAL_SCORING_PROD</th>\n",
              "      <th>EXTERNAL_SCORING_WEIGHTED</th>\n",
              "      <th>EXTERNAL_SCORING_RATING_min</th>\n",
              "      <th>EXTERNAL_SCORING_RATING_max</th>\n",
              "      <th>EXTERNAL_SCORING_RATING_mean</th>\n",
              "      <th>EXTERNAL_SCORING_RATING_nanmedian</th>\n",
              "      <th>EXTERNAL_SCORING_RATING_var</th>\n",
              "      <th>RATIO_CREDIT_TO_ANNUITY</th>\n",
              "      <th>RATIO_ANNUITY_TO_SALARY</th>\n",
              "      <th>RATIO_CREDIT_TO_SALARY</th>\n",
              "      <th>EXPECTED_TOTAL_LOSS_1</th>\n",
              "      <th>EXPECTED_TOTAL_LOSS_2</th>\n",
              "      <th>EXPECTED_TOTAL_LOSS_3</th>\n",
              "      <th>EXPECTED_MONTHLY_LOSS_1</th>\n",
              "      <th>EXPECTED_MONTHLY_LOSS_2</th>\n",
              "      <th>EXPECTED_MONTHLY_LOSS_3</th>\n",
              "    </tr>\n",
              "  </thead>\n",
              "  <tbody>\n",
              "    <tr>\n",
              "      <th>0</th>\n",
              "      <td>123687442</td>\n",
              "      <td>0.0</td>\n",
              "      <td>Cash</td>\n",
              "      <td>M</td>\n",
              "      <td>1.0</td>\n",
              "      <td>157500.0</td>\n",
              "      <td>855000.0</td>\n",
              "      <td>25128.0</td>\n",
              "      <td>Secondary / secondary special</td>\n",
              "      <td>Married</td>\n",
              "      <td>0.019101</td>\n",
              "      <td>15728.0</td>\n",
              "      <td>1719.0</td>\n",
              "      <td>11.0</td>\n",
              "      <td>0.0</td>\n",
              "      <td>0.0</td>\n",
              "      <td>3.0</td>\n",
              "      <td>0.700784</td>\n",
              "      <td>0.645914</td>\n",
              "      <td>0.716570</td>\n",
              "      <td>0.0</td>\n",
              "      <td>0.0</td>\n",
              "      <td>1.0</td>\n",
              "      <td>0.0</td>\n",
              "      <td>0.0</td>\n",
              "      <td>2.0</td>\n",
              "      <td>0.324353</td>\n",
              "      <td>4.197193</td>\n",
              "      <td>0.645914</td>\n",
              "      <td>0.716570</td>\n",
              "      <td>0.687756</td>\n",
              "      <td>0.700784</td>\n",
              "      <td>9.169231e-04</td>\n",
              "      <td>34.025788</td>\n",
              "      <td>0.159543</td>\n",
              "      <td>5.428571</td>\n",
              "      <td>599170.547652</td>\n",
              "      <td>552256.266546</td>\n",
              "      <td>612667.559305</td>\n",
              "      <td>17609.307043</td>\n",
              "      <td>16230.521013</td>\n",
              "      <td>18005.977111</td>\n",
              "    </tr>\n",
              "    <tr>\n",
              "      <th>1</th>\n",
              "      <td>123597908</td>\n",
              "      <td>1.0</td>\n",
              "      <td>Cash</td>\n",
              "      <td>NaN</td>\n",
              "      <td>NaN</td>\n",
              "      <td>NaN</td>\n",
              "      <td>NaN</td>\n",
              "      <td>NaN</td>\n",
              "      <td>NaN</td>\n",
              "      <td>NaN</td>\n",
              "      <td>NaN</td>\n",
              "      <td>NaN</td>\n",
              "      <td>NaN</td>\n",
              "      <td>NaN</td>\n",
              "      <td>NaN</td>\n",
              "      <td>NaN</td>\n",
              "      <td>NaN</td>\n",
              "      <td>NaN</td>\n",
              "      <td>NaN</td>\n",
              "      <td>NaN</td>\n",
              "      <td>NaN</td>\n",
              "      <td>NaN</td>\n",
              "      <td>NaN</td>\n",
              "      <td>NaN</td>\n",
              "      <td>NaN</td>\n",
              "      <td>NaN</td>\n",
              "      <td>NaN</td>\n",
              "      <td>NaN</td>\n",
              "      <td>NaN</td>\n",
              "      <td>NaN</td>\n",
              "      <td>NaN</td>\n",
              "      <td>NaN</td>\n",
              "      <td>NaN</td>\n",
              "      <td>NaN</td>\n",
              "      <td>NaN</td>\n",
              "      <td>NaN</td>\n",
              "      <td>NaN</td>\n",
              "      <td>NaN</td>\n",
              "      <td>NaN</td>\n",
              "      <td>NaN</td>\n",
              "      <td>NaN</td>\n",
              "      <td>NaN</td>\n",
              "    </tr>\n",
              "    <tr>\n",
              "      <th>2</th>\n",
              "      <td>123526683</td>\n",
              "      <td>0.0</td>\n",
              "      <td>Cash</td>\n",
              "      <td>F</td>\n",
              "      <td>0.0</td>\n",
              "      <td>135000.0</td>\n",
              "      <td>1006920.0</td>\n",
              "      <td>42660.0</td>\n",
              "      <td>Higher education</td>\n",
              "      <td>Married</td>\n",
              "      <td>0.026392</td>\n",
              "      <td>21557.0</td>\n",
              "      <td>3618.0</td>\n",
              "      <td>NaN</td>\n",
              "      <td>1.0</td>\n",
              "      <td>0.0</td>\n",
              "      <td>2.0</td>\n",
              "      <td>NaN</td>\n",
              "      <td>0.682149</td>\n",
              "      <td>0.267869</td>\n",
              "      <td>0.0</td>\n",
              "      <td>0.0</td>\n",
              "      <td>0.0</td>\n",
              "      <td>7.0</td>\n",
              "      <td>0.0</td>\n",
              "      <td>4.0</td>\n",
              "      <td>NaN</td>\n",
              "      <td>NaN</td>\n",
              "      <td>0.267869</td>\n",
              "      <td>0.682149</td>\n",
              "      <td>0.475009</td>\n",
              "      <td>0.475009</td>\n",
              "      <td>4.290708e-02</td>\n",
              "      <td>23.603376</td>\n",
              "      <td>0.316000</td>\n",
              "      <td>7.458667</td>\n",
              "      <td>NaN</td>\n",
              "      <td>686869.876357</td>\n",
              "      <td>269722.588880</td>\n",
              "      <td>NaN</td>\n",
              "      <td>29100.493510</td>\n",
              "      <td>11427.288803</td>\n",
              "    </tr>\n",
              "    <tr>\n",
              "      <th>3</th>\n",
              "      <td>123710391</td>\n",
              "      <td>1.0</td>\n",
              "      <td>Cash</td>\n",
              "      <td>M</td>\n",
              "      <td>0.0</td>\n",
              "      <td>180000.0</td>\n",
              "      <td>518562.0</td>\n",
              "      <td>22972.5</td>\n",
              "      <td>Secondary / secondary special</td>\n",
              "      <td>Married</td>\n",
              "      <td>0.031329</td>\n",
              "      <td>22338.0</td>\n",
              "      <td>NaN</td>\n",
              "      <td>NaN</td>\n",
              "      <td>0.0</td>\n",
              "      <td>0.0</td>\n",
              "      <td>2.0</td>\n",
              "      <td>NaN</td>\n",
              "      <td>0.171299</td>\n",
              "      <td>0.170446</td>\n",
              "      <td>0.0</td>\n",
              "      <td>0.0</td>\n",
              "      <td>0.0</td>\n",
              "      <td>0.0</td>\n",
              "      <td>0.0</td>\n",
              "      <td>0.0</td>\n",
              "      <td>NaN</td>\n",
              "      <td>NaN</td>\n",
              "      <td>0.170446</td>\n",
              "      <td>0.171299</td>\n",
              "      <td>0.170873</td>\n",
              "      <td>0.170873</td>\n",
              "      <td>1.818800e-07</td>\n",
              "      <td>22.573164</td>\n",
              "      <td>0.127625</td>\n",
              "      <td>2.880900</td>\n",
              "      <td>NaN</td>\n",
              "      <td>88829.188848</td>\n",
              "      <td>88386.882459</td>\n",
              "      <td>NaN</td>\n",
              "      <td>3935.167908</td>\n",
              "      <td>3915.573562</td>\n",
              "    </tr>\n",
              "    <tr>\n",
              "      <th>4</th>\n",
              "      <td>123590329</td>\n",
              "      <td>1.0</td>\n",
              "      <td>Cash</td>\n",
              "      <td>NaN</td>\n",
              "      <td>NaN</td>\n",
              "      <td>NaN</td>\n",
              "      <td>NaN</td>\n",
              "      <td>NaN</td>\n",
              "      <td>NaN</td>\n",
              "      <td>NaN</td>\n",
              "      <td>NaN</td>\n",
              "      <td>NaN</td>\n",
              "      <td>NaN</td>\n",
              "      <td>NaN</td>\n",
              "      <td>NaN</td>\n",
              "      <td>NaN</td>\n",
              "      <td>NaN</td>\n",
              "      <td>NaN</td>\n",
              "      <td>NaN</td>\n",
              "      <td>NaN</td>\n",
              "      <td>NaN</td>\n",
              "      <td>NaN</td>\n",
              "      <td>NaN</td>\n",
              "      <td>NaN</td>\n",
              "      <td>NaN</td>\n",
              "      <td>NaN</td>\n",
              "      <td>NaN</td>\n",
              "      <td>NaN</td>\n",
              "      <td>NaN</td>\n",
              "      <td>NaN</td>\n",
              "      <td>NaN</td>\n",
              "      <td>NaN</td>\n",
              "      <td>NaN</td>\n",
              "      <td>NaN</td>\n",
              "      <td>NaN</td>\n",
              "      <td>NaN</td>\n",
              "      <td>NaN</td>\n",
              "      <td>NaN</td>\n",
              "      <td>NaN</td>\n",
              "      <td>NaN</td>\n",
              "      <td>NaN</td>\n",
              "      <td>NaN</td>\n",
              "    </tr>\n",
              "  </tbody>\n",
              "</table>\n",
              "</div>"
            ],
            "text/plain": [
              "   APPLICATION_NUMBER  TARGET NAME_CONTRACT_TYPE GENDER  CHILDRENS  \\\n",
              "0           123687442     0.0               Cash      M        1.0   \n",
              "1           123597908     1.0               Cash    NaN        NaN   \n",
              "2           123526683     0.0               Cash      F        0.0   \n",
              "3           123710391     1.0               Cash      M        0.0   \n",
              "4           123590329     1.0               Cash    NaN        NaN   \n",
              "\n",
              "   TOTAL_SALARY  AMOUNT_CREDIT  AMOUNT_ANNUITY                EDUCATION_LEVEL  \\\n",
              "0      157500.0       855000.0         25128.0  Secondary / secondary special   \n",
              "1           NaN            NaN             NaN                            NaN   \n",
              "2      135000.0      1006920.0         42660.0               Higher education   \n",
              "3      180000.0       518562.0         22972.5  Secondary / secondary special   \n",
              "4           NaN            NaN             NaN                            NaN   \n",
              "\n",
              "  FAMILY_STATUS  REGION_POPULATION      AGE  DAYS_ON_LAST_JOB  OWN_CAR_AGE  \\\n",
              "0       Married           0.019101  15728.0            1719.0         11.0   \n",
              "1           NaN                NaN      NaN               NaN          NaN   \n",
              "2       Married           0.026392  21557.0            3618.0          NaN   \n",
              "3       Married           0.031329  22338.0               NaN          NaN   \n",
              "4           NaN                NaN      NaN               NaN          NaN   \n",
              "\n",
              "   FLAG_PHONE  FLAG_EMAIL  FAMILY_SIZE  EXTERNAL_SCORING_RATING_1  \\\n",
              "0         0.0         0.0          3.0                   0.700784   \n",
              "1         NaN         NaN          NaN                        NaN   \n",
              "2         1.0         0.0          2.0                        NaN   \n",
              "3         0.0         0.0          2.0                        NaN   \n",
              "4         NaN         NaN          NaN                        NaN   \n",
              "\n",
              "   EXTERNAL_SCORING_RATING_2  EXTERNAL_SCORING_RATING_3  \\\n",
              "0                   0.645914                   0.716570   \n",
              "1                        NaN                        NaN   \n",
              "2                   0.682149                   0.267869   \n",
              "3                   0.171299                   0.170446   \n",
              "4                        NaN                        NaN   \n",
              "\n",
              "   AMT_REQ_CREDIT_BUREAU_HOUR  AMT_REQ_CREDIT_BUREAU_DAY  \\\n",
              "0                         0.0                        0.0   \n",
              "1                         NaN                        NaN   \n",
              "2                         0.0                        0.0   \n",
              "3                         0.0                        0.0   \n",
              "4                         NaN                        NaN   \n",
              "\n",
              "   AMT_REQ_CREDIT_BUREAU_WEEK  AMT_REQ_CREDIT_BUREAU_MON  \\\n",
              "0                         1.0                        0.0   \n",
              "1                         NaN                        NaN   \n",
              "2                         0.0                        7.0   \n",
              "3                         0.0                        0.0   \n",
              "4                         NaN                        NaN   \n",
              "\n",
              "   AMT_REQ_CREDIT_BUREAU_QRT  AMT_REQ_CREDIT_BUREAU_YEAR  \\\n",
              "0                        0.0                         2.0   \n",
              "1                        NaN                         NaN   \n",
              "2                        0.0                         4.0   \n",
              "3                        0.0                         0.0   \n",
              "4                        NaN                         NaN   \n",
              "\n",
              "   EXTERNAL_SCORING_PROD  EXTERNAL_SCORING_WEIGHTED  \\\n",
              "0               0.324353                   4.197193   \n",
              "1                    NaN                        NaN   \n",
              "2                    NaN                        NaN   \n",
              "3                    NaN                        NaN   \n",
              "4                    NaN                        NaN   \n",
              "\n",
              "   EXTERNAL_SCORING_RATING_min  EXTERNAL_SCORING_RATING_max  \\\n",
              "0                     0.645914                     0.716570   \n",
              "1                          NaN                          NaN   \n",
              "2                     0.267869                     0.682149   \n",
              "3                     0.170446                     0.171299   \n",
              "4                          NaN                          NaN   \n",
              "\n",
              "   EXTERNAL_SCORING_RATING_mean  EXTERNAL_SCORING_RATING_nanmedian  \\\n",
              "0                      0.687756                           0.700784   \n",
              "1                           NaN                                NaN   \n",
              "2                      0.475009                           0.475009   \n",
              "3                      0.170873                           0.170873   \n",
              "4                           NaN                                NaN   \n",
              "\n",
              "   EXTERNAL_SCORING_RATING_var  RATIO_CREDIT_TO_ANNUITY  \\\n",
              "0                 9.169231e-04                34.025788   \n",
              "1                          NaN                      NaN   \n",
              "2                 4.290708e-02                23.603376   \n",
              "3                 1.818800e-07                22.573164   \n",
              "4                          NaN                      NaN   \n",
              "\n",
              "   RATIO_ANNUITY_TO_SALARY  RATIO_CREDIT_TO_SALARY  EXPECTED_TOTAL_LOSS_1  \\\n",
              "0                 0.159543                5.428571          599170.547652   \n",
              "1                      NaN                     NaN                    NaN   \n",
              "2                 0.316000                7.458667                    NaN   \n",
              "3                 0.127625                2.880900                    NaN   \n",
              "4                      NaN                     NaN                    NaN   \n",
              "\n",
              "   EXPECTED_TOTAL_LOSS_2  EXPECTED_TOTAL_LOSS_3  EXPECTED_MONTHLY_LOSS_1  \\\n",
              "0          552256.266546          612667.559305             17609.307043   \n",
              "1                    NaN                    NaN                      NaN   \n",
              "2          686869.876357          269722.588880                      NaN   \n",
              "3           88829.188848           88386.882459                      NaN   \n",
              "4                    NaN                    NaN                      NaN   \n",
              "\n",
              "   EXPECTED_MONTHLY_LOSS_2  EXPECTED_MONTHLY_LOSS_3  \n",
              "0             16230.521013             18005.977111  \n",
              "1                      NaN                      NaN  \n",
              "2             29100.493510             11427.288803  \n",
              "3              3935.167908              3915.573562  \n",
              "4                      NaN                      NaN  "
            ]
          },
          "metadata": {
            "tags": []
          },
          "execution_count": 173
        }
      ]
    },
    {
      "cell_type": "code",
      "metadata": {
        "id": "XvCNAfOD6ZBi",
        "trusted": true,
        "outputId": "4fe4f90d-19a5-4007-eb9a-b8f24693e79a",
        "colab": {
          "base_uri": "https://localhost:8080/",
          "height": 275
        }
      },
      "source": [
        "data.tail()"
      ],
      "execution_count": 174,
      "outputs": [
        {
          "output_type": "execute_result",
          "data": {
            "text/html": [
              "<div>\n",
              "<style scoped>\n",
              "    .dataframe tbody tr th:only-of-type {\n",
              "        vertical-align: middle;\n",
              "    }\n",
              "\n",
              "    .dataframe tbody tr th {\n",
              "        vertical-align: top;\n",
              "    }\n",
              "\n",
              "    .dataframe thead th {\n",
              "        text-align: right;\n",
              "    }\n",
              "</style>\n",
              "<table border=\"1\" class=\"dataframe\">\n",
              "  <thead>\n",
              "    <tr style=\"text-align: right;\">\n",
              "      <th></th>\n",
              "      <th>APPLICATION_NUMBER</th>\n",
              "      <th>TARGET</th>\n",
              "      <th>NAME_CONTRACT_TYPE</th>\n",
              "      <th>GENDER</th>\n",
              "      <th>CHILDRENS</th>\n",
              "      <th>TOTAL_SALARY</th>\n",
              "      <th>AMOUNT_CREDIT</th>\n",
              "      <th>AMOUNT_ANNUITY</th>\n",
              "      <th>EDUCATION_LEVEL</th>\n",
              "      <th>FAMILY_STATUS</th>\n",
              "      <th>REGION_POPULATION</th>\n",
              "      <th>AGE</th>\n",
              "      <th>DAYS_ON_LAST_JOB</th>\n",
              "      <th>OWN_CAR_AGE</th>\n",
              "      <th>FLAG_PHONE</th>\n",
              "      <th>FLAG_EMAIL</th>\n",
              "      <th>FAMILY_SIZE</th>\n",
              "      <th>EXTERNAL_SCORING_RATING_1</th>\n",
              "      <th>EXTERNAL_SCORING_RATING_2</th>\n",
              "      <th>EXTERNAL_SCORING_RATING_3</th>\n",
              "      <th>AMT_REQ_CREDIT_BUREAU_HOUR</th>\n",
              "      <th>AMT_REQ_CREDIT_BUREAU_DAY</th>\n",
              "      <th>AMT_REQ_CREDIT_BUREAU_WEEK</th>\n",
              "      <th>AMT_REQ_CREDIT_BUREAU_MON</th>\n",
              "      <th>AMT_REQ_CREDIT_BUREAU_QRT</th>\n",
              "      <th>AMT_REQ_CREDIT_BUREAU_YEAR</th>\n",
              "      <th>EXTERNAL_SCORING_PROD</th>\n",
              "      <th>EXTERNAL_SCORING_WEIGHTED</th>\n",
              "      <th>EXTERNAL_SCORING_RATING_min</th>\n",
              "      <th>EXTERNAL_SCORING_RATING_max</th>\n",
              "      <th>EXTERNAL_SCORING_RATING_mean</th>\n",
              "      <th>EXTERNAL_SCORING_RATING_nanmedian</th>\n",
              "      <th>EXTERNAL_SCORING_RATING_var</th>\n",
              "      <th>RATIO_CREDIT_TO_ANNUITY</th>\n",
              "      <th>RATIO_ANNUITY_TO_SALARY</th>\n",
              "      <th>RATIO_CREDIT_TO_SALARY</th>\n",
              "      <th>EXPECTED_TOTAL_LOSS_1</th>\n",
              "      <th>EXPECTED_TOTAL_LOSS_2</th>\n",
              "      <th>EXPECTED_TOTAL_LOSS_3</th>\n",
              "      <th>EXPECTED_MONTHLY_LOSS_1</th>\n",
              "      <th>EXPECTED_MONTHLY_LOSS_2</th>\n",
              "      <th>EXPECTED_MONTHLY_LOSS_3</th>\n",
              "    </tr>\n",
              "  </thead>\n",
              "  <tbody>\n",
              "    <tr>\n",
              "      <th>275229</th>\n",
              "      <td>123487967</td>\n",
              "      <td>NaN</td>\n",
              "      <td>Cash</td>\n",
              "      <td>NaN</td>\n",
              "      <td>NaN</td>\n",
              "      <td>NaN</td>\n",
              "      <td>NaN</td>\n",
              "      <td>NaN</td>\n",
              "      <td>NaN</td>\n",
              "      <td>NaN</td>\n",
              "      <td>NaN</td>\n",
              "      <td>NaN</td>\n",
              "      <td>NaN</td>\n",
              "      <td>NaN</td>\n",
              "      <td>NaN</td>\n",
              "      <td>NaN</td>\n",
              "      <td>NaN</td>\n",
              "      <td>NaN</td>\n",
              "      <td>NaN</td>\n",
              "      <td>NaN</td>\n",
              "      <td>NaN</td>\n",
              "      <td>NaN</td>\n",
              "      <td>NaN</td>\n",
              "      <td>NaN</td>\n",
              "      <td>NaN</td>\n",
              "      <td>NaN</td>\n",
              "      <td>NaN</td>\n",
              "      <td>NaN</td>\n",
              "      <td>NaN</td>\n",
              "      <td>NaN</td>\n",
              "      <td>NaN</td>\n",
              "      <td>NaN</td>\n",
              "      <td>NaN</td>\n",
              "      <td>NaN</td>\n",
              "      <td>NaN</td>\n",
              "      <td>NaN</td>\n",
              "      <td>NaN</td>\n",
              "      <td>NaN</td>\n",
              "      <td>NaN</td>\n",
              "      <td>NaN</td>\n",
              "      <td>NaN</td>\n",
              "      <td>NaN</td>\n",
              "    </tr>\n",
              "    <tr>\n",
              "      <th>275230</th>\n",
              "      <td>123536402</td>\n",
              "      <td>NaN</td>\n",
              "      <td>Cash</td>\n",
              "      <td>M</td>\n",
              "      <td>0.0</td>\n",
              "      <td>135000.0</td>\n",
              "      <td>450000.0</td>\n",
              "      <td>16807.5</td>\n",
              "      <td>Secondary / secondary special</td>\n",
              "      <td>Single / not married</td>\n",
              "      <td>0.028663</td>\n",
              "      <td>18610.0</td>\n",
              "      <td>10398.0</td>\n",
              "      <td>23.0</td>\n",
              "      <td>0.0</td>\n",
              "      <td>0.0</td>\n",
              "      <td>1.0</td>\n",
              "      <td>NaN</td>\n",
              "      <td>0.665971</td>\n",
              "      <td>0.535276</td>\n",
              "      <td>0.0</td>\n",
              "      <td>0.0</td>\n",
              "      <td>0.0</td>\n",
              "      <td>0.0</td>\n",
              "      <td>0.0</td>\n",
              "      <td>0.0</td>\n",
              "      <td>NaN</td>\n",
              "      <td>NaN</td>\n",
              "      <td>0.535276</td>\n",
              "      <td>0.665971</td>\n",
              "      <td>0.600624</td>\n",
              "      <td>0.600624</td>\n",
              "      <td>0.004270</td>\n",
              "      <td>26.773762</td>\n",
              "      <td>0.124500</td>\n",
              "      <td>3.333333</td>\n",
              "      <td>NaN</td>\n",
              "      <td>299686.841680</td>\n",
              "      <td>240874.312713</td>\n",
              "      <td>NaN</td>\n",
              "      <td>11193.303537</td>\n",
              "      <td>8996.655580</td>\n",
              "    </tr>\n",
              "    <tr>\n",
              "      <th>275231</th>\n",
              "      <td>123718238</td>\n",
              "      <td>NaN</td>\n",
              "      <td>Cash</td>\n",
              "      <td>NaN</td>\n",
              "      <td>NaN</td>\n",
              "      <td>NaN</td>\n",
              "      <td>NaN</td>\n",
              "      <td>NaN</td>\n",
              "      <td>NaN</td>\n",
              "      <td>NaN</td>\n",
              "      <td>NaN</td>\n",
              "      <td>NaN</td>\n",
              "      <td>NaN</td>\n",
              "      <td>NaN</td>\n",
              "      <td>NaN</td>\n",
              "      <td>NaN</td>\n",
              "      <td>NaN</td>\n",
              "      <td>NaN</td>\n",
              "      <td>NaN</td>\n",
              "      <td>NaN</td>\n",
              "      <td>NaN</td>\n",
              "      <td>NaN</td>\n",
              "      <td>NaN</td>\n",
              "      <td>NaN</td>\n",
              "      <td>NaN</td>\n",
              "      <td>NaN</td>\n",
              "      <td>NaN</td>\n",
              "      <td>NaN</td>\n",
              "      <td>NaN</td>\n",
              "      <td>NaN</td>\n",
              "      <td>NaN</td>\n",
              "      <td>NaN</td>\n",
              "      <td>NaN</td>\n",
              "      <td>NaN</td>\n",
              "      <td>NaN</td>\n",
              "      <td>NaN</td>\n",
              "      <td>NaN</td>\n",
              "      <td>NaN</td>\n",
              "      <td>NaN</td>\n",
              "      <td>NaN</td>\n",
              "      <td>NaN</td>\n",
              "      <td>NaN</td>\n",
              "    </tr>\n",
              "    <tr>\n",
              "      <th>275232</th>\n",
              "      <td>123631557</td>\n",
              "      <td>NaN</td>\n",
              "      <td>Cash</td>\n",
              "      <td>F</td>\n",
              "      <td>0.0</td>\n",
              "      <td>112500.0</td>\n",
              "      <td>350181.0</td>\n",
              "      <td>36769.5</td>\n",
              "      <td>Secondary / secondary special</td>\n",
              "      <td>Married</td>\n",
              "      <td>0.030755</td>\n",
              "      <td>20551.0</td>\n",
              "      <td>NaN</td>\n",
              "      <td>NaN</td>\n",
              "      <td>0.0</td>\n",
              "      <td>1.0</td>\n",
              "      <td>2.0</td>\n",
              "      <td>NaN</td>\n",
              "      <td>0.761376</td>\n",
              "      <td>NaN</td>\n",
              "      <td>NaN</td>\n",
              "      <td>NaN</td>\n",
              "      <td>NaN</td>\n",
              "      <td>NaN</td>\n",
              "      <td>NaN</td>\n",
              "      <td>NaN</td>\n",
              "      <td>NaN</td>\n",
              "      <td>NaN</td>\n",
              "      <td>0.761376</td>\n",
              "      <td>0.761376</td>\n",
              "      <td>0.761376</td>\n",
              "      <td>0.761376</td>\n",
              "      <td>0.000000</td>\n",
              "      <td>9.523681</td>\n",
              "      <td>0.326840</td>\n",
              "      <td>3.112720</td>\n",
              "      <td>NaN</td>\n",
              "      <td>266619.257702</td>\n",
              "      <td>NaN</td>\n",
              "      <td>NaN</td>\n",
              "      <td>27995.398940</td>\n",
              "      <td>NaN</td>\n",
              "    </tr>\n",
              "    <tr>\n",
              "      <th>275233</th>\n",
              "      <td>123433260</td>\n",
              "      <td>NaN</td>\n",
              "      <td>Cash</td>\n",
              "      <td>M</td>\n",
              "      <td>0.0</td>\n",
              "      <td>247500.0</td>\n",
              "      <td>1241437.5</td>\n",
              "      <td>36427.5</td>\n",
              "      <td>Secondary / secondary special</td>\n",
              "      <td>Married</td>\n",
              "      <td>0.018029</td>\n",
              "      <td>18853.0</td>\n",
              "      <td>6543.0</td>\n",
              "      <td>15.0</td>\n",
              "      <td>0.0</td>\n",
              "      <td>0.0</td>\n",
              "      <td>2.0</td>\n",
              "      <td>NaN</td>\n",
              "      <td>0.493617</td>\n",
              "      <td>0.546023</td>\n",
              "      <td>0.0</td>\n",
              "      <td>0.0</td>\n",
              "      <td>0.0</td>\n",
              "      <td>1.0</td>\n",
              "      <td>0.0</td>\n",
              "      <td>2.0</td>\n",
              "      <td>NaN</td>\n",
              "      <td>NaN</td>\n",
              "      <td>0.493617</td>\n",
              "      <td>0.546023</td>\n",
              "      <td>0.519820</td>\n",
              "      <td>0.519820</td>\n",
              "      <td>0.000687</td>\n",
              "      <td>34.079679</td>\n",
              "      <td>0.147182</td>\n",
              "      <td>5.015909</td>\n",
              "      <td>NaN</td>\n",
              "      <td>612794.525674</td>\n",
              "      <td>677853.672632</td>\n",
              "      <td>NaN</td>\n",
              "      <td>17981.229489</td>\n",
              "      <td>19890.260009</td>\n",
              "    </tr>\n",
              "  </tbody>\n",
              "</table>\n",
              "</div>"
            ],
            "text/plain": [
              "        APPLICATION_NUMBER  TARGET NAME_CONTRACT_TYPE GENDER  CHILDRENS  \\\n",
              "275229           123487967     NaN               Cash    NaN        NaN   \n",
              "275230           123536402     NaN               Cash      M        0.0   \n",
              "275231           123718238     NaN               Cash    NaN        NaN   \n",
              "275232           123631557     NaN               Cash      F        0.0   \n",
              "275233           123433260     NaN               Cash      M        0.0   \n",
              "\n",
              "        TOTAL_SALARY  AMOUNT_CREDIT  AMOUNT_ANNUITY  \\\n",
              "275229           NaN            NaN             NaN   \n",
              "275230      135000.0       450000.0         16807.5   \n",
              "275231           NaN            NaN             NaN   \n",
              "275232      112500.0       350181.0         36769.5   \n",
              "275233      247500.0      1241437.5         36427.5   \n",
              "\n",
              "                      EDUCATION_LEVEL         FAMILY_STATUS  \\\n",
              "275229                            NaN                   NaN   \n",
              "275230  Secondary / secondary special  Single / not married   \n",
              "275231                            NaN                   NaN   \n",
              "275232  Secondary / secondary special               Married   \n",
              "275233  Secondary / secondary special               Married   \n",
              "\n",
              "        REGION_POPULATION      AGE  DAYS_ON_LAST_JOB  OWN_CAR_AGE  FLAG_PHONE  \\\n",
              "275229                NaN      NaN               NaN          NaN         NaN   \n",
              "275230           0.028663  18610.0           10398.0         23.0         0.0   \n",
              "275231                NaN      NaN               NaN          NaN         NaN   \n",
              "275232           0.030755  20551.0               NaN          NaN         0.0   \n",
              "275233           0.018029  18853.0            6543.0         15.0         0.0   \n",
              "\n",
              "        FLAG_EMAIL  FAMILY_SIZE  EXTERNAL_SCORING_RATING_1  \\\n",
              "275229         NaN          NaN                        NaN   \n",
              "275230         0.0          1.0                        NaN   \n",
              "275231         NaN          NaN                        NaN   \n",
              "275232         1.0          2.0                        NaN   \n",
              "275233         0.0          2.0                        NaN   \n",
              "\n",
              "        EXTERNAL_SCORING_RATING_2  EXTERNAL_SCORING_RATING_3  \\\n",
              "275229                        NaN                        NaN   \n",
              "275230                   0.665971                   0.535276   \n",
              "275231                        NaN                        NaN   \n",
              "275232                   0.761376                        NaN   \n",
              "275233                   0.493617                   0.546023   \n",
              "\n",
              "        AMT_REQ_CREDIT_BUREAU_HOUR  AMT_REQ_CREDIT_BUREAU_DAY  \\\n",
              "275229                         NaN                        NaN   \n",
              "275230                         0.0                        0.0   \n",
              "275231                         NaN                        NaN   \n",
              "275232                         NaN                        NaN   \n",
              "275233                         0.0                        0.0   \n",
              "\n",
              "        AMT_REQ_CREDIT_BUREAU_WEEK  AMT_REQ_CREDIT_BUREAU_MON  \\\n",
              "275229                         NaN                        NaN   \n",
              "275230                         0.0                        0.0   \n",
              "275231                         NaN                        NaN   \n",
              "275232                         NaN                        NaN   \n",
              "275233                         0.0                        1.0   \n",
              "\n",
              "        AMT_REQ_CREDIT_BUREAU_QRT  AMT_REQ_CREDIT_BUREAU_YEAR  \\\n",
              "275229                        NaN                         NaN   \n",
              "275230                        0.0                         0.0   \n",
              "275231                        NaN                         NaN   \n",
              "275232                        NaN                         NaN   \n",
              "275233                        0.0                         2.0   \n",
              "\n",
              "        EXTERNAL_SCORING_PROD  EXTERNAL_SCORING_WEIGHTED  \\\n",
              "275229                    NaN                        NaN   \n",
              "275230                    NaN                        NaN   \n",
              "275231                    NaN                        NaN   \n",
              "275232                    NaN                        NaN   \n",
              "275233                    NaN                        NaN   \n",
              "\n",
              "        EXTERNAL_SCORING_RATING_min  EXTERNAL_SCORING_RATING_max  \\\n",
              "275229                          NaN                          NaN   \n",
              "275230                     0.535276                     0.665971   \n",
              "275231                          NaN                          NaN   \n",
              "275232                     0.761376                     0.761376   \n",
              "275233                     0.493617                     0.546023   \n",
              "\n",
              "        EXTERNAL_SCORING_RATING_mean  EXTERNAL_SCORING_RATING_nanmedian  \\\n",
              "275229                           NaN                                NaN   \n",
              "275230                      0.600624                           0.600624   \n",
              "275231                           NaN                                NaN   \n",
              "275232                      0.761376                           0.761376   \n",
              "275233                      0.519820                           0.519820   \n",
              "\n",
              "        EXTERNAL_SCORING_RATING_var  RATIO_CREDIT_TO_ANNUITY  \\\n",
              "275229                          NaN                      NaN   \n",
              "275230                     0.004270                26.773762   \n",
              "275231                          NaN                      NaN   \n",
              "275232                     0.000000                 9.523681   \n",
              "275233                     0.000687                34.079679   \n",
              "\n",
              "        RATIO_ANNUITY_TO_SALARY  RATIO_CREDIT_TO_SALARY  \\\n",
              "275229                      NaN                     NaN   \n",
              "275230                 0.124500                3.333333   \n",
              "275231                      NaN                     NaN   \n",
              "275232                 0.326840                3.112720   \n",
              "275233                 0.147182                5.015909   \n",
              "\n",
              "        EXPECTED_TOTAL_LOSS_1  EXPECTED_TOTAL_LOSS_2  EXPECTED_TOTAL_LOSS_3  \\\n",
              "275229                    NaN                    NaN                    NaN   \n",
              "275230                    NaN          299686.841680          240874.312713   \n",
              "275231                    NaN                    NaN                    NaN   \n",
              "275232                    NaN          266619.257702                    NaN   \n",
              "275233                    NaN          612794.525674          677853.672632   \n",
              "\n",
              "        EXPECTED_MONTHLY_LOSS_1  EXPECTED_MONTHLY_LOSS_2  \\\n",
              "275229                      NaN                      NaN   \n",
              "275230                      NaN             11193.303537   \n",
              "275231                      NaN                      NaN   \n",
              "275232                      NaN             27995.398940   \n",
              "275233                      NaN             17981.229489   \n",
              "\n",
              "        EXPECTED_MONTHLY_LOSS_3  \n",
              "275229                      NaN  \n",
              "275230              8996.655580  \n",
              "275231                      NaN  \n",
              "275232                      NaN  \n",
              "275233             19890.260009  "
            ]
          },
          "metadata": {
            "tags": []
          },
          "execution_count": 174
        }
      ]
    },
    {
      "cell_type": "code",
      "metadata": {
        "id": "k1mysemA6ZBm",
        "trusted": true,
        "outputId": "2fae76c8-d52f-466f-bc38-fb6649a8627c",
        "colab": {
          "base_uri": "https://localhost:8080/",
          "height": 34
        }
      },
      "source": [
        "data.shape"
      ],
      "execution_count": 175,
      "outputs": [
        {
          "output_type": "execute_result",
          "data": {
            "text/plain": [
              "(275234, 42)"
            ]
          },
          "metadata": {
            "tags": []
          },
          "execution_count": 175
        }
      ]
    },
    {
      "cell_type": "markdown",
      "metadata": {
        "id": "N59XspYK6ZBs"
      },
      "source": [
        "### Агрегируем категориальные характеристики из applications_history, bki, payments"
      ]
    },
    {
      "cell_type": "code",
      "metadata": {
        "id": "5_-kfYWY6ZCQ",
        "trusted": true
      },
      "source": [
        "def cat_encoder_m(data: pd.DataFrame)->pd.DataFrame:\n",
        "    '''\n",
        "    Функция для извлечения из датасета источника категориальных переменных и \n",
        "    кодирования count hot encoding\n",
        "    \n",
        "    data: pandas.core.frame.DataFrame\n",
        "        датасет источник\n",
        "        \n",
        "    Возвращает датасет с колонкой APPLICATION_NUMBER и кололонками новых характеристик\n",
        "    '''\n",
        "    res_data = data[['APPLICATION_NUMBER']].copy()\n",
        "    cat_data = data.select_dtypes(include=['object'])\n",
        "    cat_list = []\n",
        "    for cat_col in cat_data.columns:\n",
        "        uniq_vals = cat_data[cat_col].unique()\n",
        "        if len(uniq_vals) < 20:\n",
        "            cat_list.append(cat_col)\n",
        "            for n, uniq_val in enumerate(uniq_vals):\n",
        "                new_col_name = (cat_col + '_' + str(n)).upper()  #'_'.join(str(uniq_val).split())).upper()\n",
        "                res_data[new_col_name] = 0\n",
        "                res_data[new_col_name][data[cat_col] == uniq_val] = 1\n",
        "#                 res_data.loc[data[cat_col] == uniq_val, new_col_name] = 1  \n",
        "    return res_data"
      ],
      "execution_count": 176,
      "outputs": []
    },
    {
      "cell_type": "code",
      "metadata": {
        "id": "ah_uiQqp6ZDq",
        "trusted": true,
        "outputId": "0dd3b37f-3641-44c5-b245-fea8f58d1395",
        "colab": {
          "base_uri": "https://localhost:8080/",
          "height": 34
        }
      },
      "source": [
        "for dat_name in src_list[5:]:\n",
        "    print(dat_name)\n",
        "    new_feat = cat_encoder_m(source[dat_name])\n",
        "    if len(new_feat.columns) > 1:\n",
        "        sum_feat = new_feat.groupby('APPLICATION_NUMBER')[new_feat.columns[1:]].sum()\n",
        "        print(f\"\\tsum cols: {sum_feat.shape}\\n\")\n",
        "        sum_feat.columns = [col + \"_SUM\" for col in sum_feat.columns]\n",
        "        data = pd.merge(data, \n",
        "                        sum_feat, \n",
        "                        on='APPLICATION_NUMBER', \n",
        "                        how='left')\n",
        "        mean_feat = new_feat.groupby('APPLICATION_NUMBER')[new_feat.columns[1:]].mean()\n",
        "        print(f\"\\tmean cols: {mean_feat.shape}\\n\")\n",
        "        mean_feat.columns = [col + \"_MEAN\" for col in mean_feat.columns]\n",
        "        data = pd.merge(data, \n",
        "                        mean_feat, \n",
        "                        on='APPLICATION_NUMBER', \n",
        "                        how='left')"
      ],
      "execution_count": 177,
      "outputs": [
        {
          "output_type": "stream",
          "text": [
            "payments\n"
          ],
          "name": "stdout"
        }
      ]
    },
    {
      "cell_type": "code",
      "metadata": {
        "id": "MhgO3AoF6ZDx",
        "trusted": true,
        "outputId": "73019749-de77-4820-b656-e20b2386f4cf",
        "colab": {
          "base_uri": "https://localhost:8080/",
          "height": 258
        }
      },
      "source": [
        "data.head()"
      ],
      "execution_count": 178,
      "outputs": [
        {
          "output_type": "execute_result",
          "data": {
            "text/html": [
              "<div>\n",
              "<style scoped>\n",
              "    .dataframe tbody tr th:only-of-type {\n",
              "        vertical-align: middle;\n",
              "    }\n",
              "\n",
              "    .dataframe tbody tr th {\n",
              "        vertical-align: top;\n",
              "    }\n",
              "\n",
              "    .dataframe thead th {\n",
              "        text-align: right;\n",
              "    }\n",
              "</style>\n",
              "<table border=\"1\" class=\"dataframe\">\n",
              "  <thead>\n",
              "    <tr style=\"text-align: right;\">\n",
              "      <th></th>\n",
              "      <th>APPLICATION_NUMBER</th>\n",
              "      <th>TARGET</th>\n",
              "      <th>NAME_CONTRACT_TYPE</th>\n",
              "      <th>GENDER</th>\n",
              "      <th>CHILDRENS</th>\n",
              "      <th>TOTAL_SALARY</th>\n",
              "      <th>AMOUNT_CREDIT</th>\n",
              "      <th>AMOUNT_ANNUITY</th>\n",
              "      <th>EDUCATION_LEVEL</th>\n",
              "      <th>FAMILY_STATUS</th>\n",
              "      <th>REGION_POPULATION</th>\n",
              "      <th>AGE</th>\n",
              "      <th>DAYS_ON_LAST_JOB</th>\n",
              "      <th>OWN_CAR_AGE</th>\n",
              "      <th>FLAG_PHONE</th>\n",
              "      <th>FLAG_EMAIL</th>\n",
              "      <th>FAMILY_SIZE</th>\n",
              "      <th>EXTERNAL_SCORING_RATING_1</th>\n",
              "      <th>EXTERNAL_SCORING_RATING_2</th>\n",
              "      <th>EXTERNAL_SCORING_RATING_3</th>\n",
              "      <th>AMT_REQ_CREDIT_BUREAU_HOUR</th>\n",
              "      <th>AMT_REQ_CREDIT_BUREAU_DAY</th>\n",
              "      <th>AMT_REQ_CREDIT_BUREAU_WEEK</th>\n",
              "      <th>AMT_REQ_CREDIT_BUREAU_MON</th>\n",
              "      <th>AMT_REQ_CREDIT_BUREAU_QRT</th>\n",
              "      <th>AMT_REQ_CREDIT_BUREAU_YEAR</th>\n",
              "      <th>EXTERNAL_SCORING_PROD</th>\n",
              "      <th>EXTERNAL_SCORING_WEIGHTED</th>\n",
              "      <th>EXTERNAL_SCORING_RATING_min</th>\n",
              "      <th>EXTERNAL_SCORING_RATING_max</th>\n",
              "      <th>EXTERNAL_SCORING_RATING_mean</th>\n",
              "      <th>EXTERNAL_SCORING_RATING_nanmedian</th>\n",
              "      <th>EXTERNAL_SCORING_RATING_var</th>\n",
              "      <th>RATIO_CREDIT_TO_ANNUITY</th>\n",
              "      <th>RATIO_ANNUITY_TO_SALARY</th>\n",
              "      <th>RATIO_CREDIT_TO_SALARY</th>\n",
              "      <th>EXPECTED_TOTAL_LOSS_1</th>\n",
              "      <th>EXPECTED_TOTAL_LOSS_2</th>\n",
              "      <th>EXPECTED_TOTAL_LOSS_3</th>\n",
              "      <th>EXPECTED_MONTHLY_LOSS_1</th>\n",
              "      <th>EXPECTED_MONTHLY_LOSS_2</th>\n",
              "      <th>EXPECTED_MONTHLY_LOSS_3</th>\n",
              "    </tr>\n",
              "  </thead>\n",
              "  <tbody>\n",
              "    <tr>\n",
              "      <th>0</th>\n",
              "      <td>123687442</td>\n",
              "      <td>0.0</td>\n",
              "      <td>Cash</td>\n",
              "      <td>M</td>\n",
              "      <td>1.0</td>\n",
              "      <td>157500.0</td>\n",
              "      <td>855000.0</td>\n",
              "      <td>25128.0</td>\n",
              "      <td>Secondary / secondary special</td>\n",
              "      <td>Married</td>\n",
              "      <td>0.019101</td>\n",
              "      <td>15728.0</td>\n",
              "      <td>1719.0</td>\n",
              "      <td>11.0</td>\n",
              "      <td>0.0</td>\n",
              "      <td>0.0</td>\n",
              "      <td>3.0</td>\n",
              "      <td>0.700784</td>\n",
              "      <td>0.645914</td>\n",
              "      <td>0.716570</td>\n",
              "      <td>0.0</td>\n",
              "      <td>0.0</td>\n",
              "      <td>1.0</td>\n",
              "      <td>0.0</td>\n",
              "      <td>0.0</td>\n",
              "      <td>2.0</td>\n",
              "      <td>0.324353</td>\n",
              "      <td>4.197193</td>\n",
              "      <td>0.645914</td>\n",
              "      <td>0.716570</td>\n",
              "      <td>0.687756</td>\n",
              "      <td>0.700784</td>\n",
              "      <td>9.169231e-04</td>\n",
              "      <td>34.025788</td>\n",
              "      <td>0.159543</td>\n",
              "      <td>5.428571</td>\n",
              "      <td>599170.547652</td>\n",
              "      <td>552256.266546</td>\n",
              "      <td>612667.559305</td>\n",
              "      <td>17609.307043</td>\n",
              "      <td>16230.521013</td>\n",
              "      <td>18005.977111</td>\n",
              "    </tr>\n",
              "    <tr>\n",
              "      <th>1</th>\n",
              "      <td>123597908</td>\n",
              "      <td>1.0</td>\n",
              "      <td>Cash</td>\n",
              "      <td>NaN</td>\n",
              "      <td>NaN</td>\n",
              "      <td>NaN</td>\n",
              "      <td>NaN</td>\n",
              "      <td>NaN</td>\n",
              "      <td>NaN</td>\n",
              "      <td>NaN</td>\n",
              "      <td>NaN</td>\n",
              "      <td>NaN</td>\n",
              "      <td>NaN</td>\n",
              "      <td>NaN</td>\n",
              "      <td>NaN</td>\n",
              "      <td>NaN</td>\n",
              "      <td>NaN</td>\n",
              "      <td>NaN</td>\n",
              "      <td>NaN</td>\n",
              "      <td>NaN</td>\n",
              "      <td>NaN</td>\n",
              "      <td>NaN</td>\n",
              "      <td>NaN</td>\n",
              "      <td>NaN</td>\n",
              "      <td>NaN</td>\n",
              "      <td>NaN</td>\n",
              "      <td>NaN</td>\n",
              "      <td>NaN</td>\n",
              "      <td>NaN</td>\n",
              "      <td>NaN</td>\n",
              "      <td>NaN</td>\n",
              "      <td>NaN</td>\n",
              "      <td>NaN</td>\n",
              "      <td>NaN</td>\n",
              "      <td>NaN</td>\n",
              "      <td>NaN</td>\n",
              "      <td>NaN</td>\n",
              "      <td>NaN</td>\n",
              "      <td>NaN</td>\n",
              "      <td>NaN</td>\n",
              "      <td>NaN</td>\n",
              "      <td>NaN</td>\n",
              "    </tr>\n",
              "    <tr>\n",
              "      <th>2</th>\n",
              "      <td>123526683</td>\n",
              "      <td>0.0</td>\n",
              "      <td>Cash</td>\n",
              "      <td>F</td>\n",
              "      <td>0.0</td>\n",
              "      <td>135000.0</td>\n",
              "      <td>1006920.0</td>\n",
              "      <td>42660.0</td>\n",
              "      <td>Higher education</td>\n",
              "      <td>Married</td>\n",
              "      <td>0.026392</td>\n",
              "      <td>21557.0</td>\n",
              "      <td>3618.0</td>\n",
              "      <td>NaN</td>\n",
              "      <td>1.0</td>\n",
              "      <td>0.0</td>\n",
              "      <td>2.0</td>\n",
              "      <td>NaN</td>\n",
              "      <td>0.682149</td>\n",
              "      <td>0.267869</td>\n",
              "      <td>0.0</td>\n",
              "      <td>0.0</td>\n",
              "      <td>0.0</td>\n",
              "      <td>7.0</td>\n",
              "      <td>0.0</td>\n",
              "      <td>4.0</td>\n",
              "      <td>NaN</td>\n",
              "      <td>NaN</td>\n",
              "      <td>0.267869</td>\n",
              "      <td>0.682149</td>\n",
              "      <td>0.475009</td>\n",
              "      <td>0.475009</td>\n",
              "      <td>4.290708e-02</td>\n",
              "      <td>23.603376</td>\n",
              "      <td>0.316000</td>\n",
              "      <td>7.458667</td>\n",
              "      <td>NaN</td>\n",
              "      <td>686869.876357</td>\n",
              "      <td>269722.588880</td>\n",
              "      <td>NaN</td>\n",
              "      <td>29100.493510</td>\n",
              "      <td>11427.288803</td>\n",
              "    </tr>\n",
              "    <tr>\n",
              "      <th>3</th>\n",
              "      <td>123710391</td>\n",
              "      <td>1.0</td>\n",
              "      <td>Cash</td>\n",
              "      <td>M</td>\n",
              "      <td>0.0</td>\n",
              "      <td>180000.0</td>\n",
              "      <td>518562.0</td>\n",
              "      <td>22972.5</td>\n",
              "      <td>Secondary / secondary special</td>\n",
              "      <td>Married</td>\n",
              "      <td>0.031329</td>\n",
              "      <td>22338.0</td>\n",
              "      <td>NaN</td>\n",
              "      <td>NaN</td>\n",
              "      <td>0.0</td>\n",
              "      <td>0.0</td>\n",
              "      <td>2.0</td>\n",
              "      <td>NaN</td>\n",
              "      <td>0.171299</td>\n",
              "      <td>0.170446</td>\n",
              "      <td>0.0</td>\n",
              "      <td>0.0</td>\n",
              "      <td>0.0</td>\n",
              "      <td>0.0</td>\n",
              "      <td>0.0</td>\n",
              "      <td>0.0</td>\n",
              "      <td>NaN</td>\n",
              "      <td>NaN</td>\n",
              "      <td>0.170446</td>\n",
              "      <td>0.171299</td>\n",
              "      <td>0.170873</td>\n",
              "      <td>0.170873</td>\n",
              "      <td>1.818800e-07</td>\n",
              "      <td>22.573164</td>\n",
              "      <td>0.127625</td>\n",
              "      <td>2.880900</td>\n",
              "      <td>NaN</td>\n",
              "      <td>88829.188848</td>\n",
              "      <td>88386.882459</td>\n",
              "      <td>NaN</td>\n",
              "      <td>3935.167908</td>\n",
              "      <td>3915.573562</td>\n",
              "    </tr>\n",
              "    <tr>\n",
              "      <th>4</th>\n",
              "      <td>123590329</td>\n",
              "      <td>1.0</td>\n",
              "      <td>Cash</td>\n",
              "      <td>NaN</td>\n",
              "      <td>NaN</td>\n",
              "      <td>NaN</td>\n",
              "      <td>NaN</td>\n",
              "      <td>NaN</td>\n",
              "      <td>NaN</td>\n",
              "      <td>NaN</td>\n",
              "      <td>NaN</td>\n",
              "      <td>NaN</td>\n",
              "      <td>NaN</td>\n",
              "      <td>NaN</td>\n",
              "      <td>NaN</td>\n",
              "      <td>NaN</td>\n",
              "      <td>NaN</td>\n",
              "      <td>NaN</td>\n",
              "      <td>NaN</td>\n",
              "      <td>NaN</td>\n",
              "      <td>NaN</td>\n",
              "      <td>NaN</td>\n",
              "      <td>NaN</td>\n",
              "      <td>NaN</td>\n",
              "      <td>NaN</td>\n",
              "      <td>NaN</td>\n",
              "      <td>NaN</td>\n",
              "      <td>NaN</td>\n",
              "      <td>NaN</td>\n",
              "      <td>NaN</td>\n",
              "      <td>NaN</td>\n",
              "      <td>NaN</td>\n",
              "      <td>NaN</td>\n",
              "      <td>NaN</td>\n",
              "      <td>NaN</td>\n",
              "      <td>NaN</td>\n",
              "      <td>NaN</td>\n",
              "      <td>NaN</td>\n",
              "      <td>NaN</td>\n",
              "      <td>NaN</td>\n",
              "      <td>NaN</td>\n",
              "      <td>NaN</td>\n",
              "    </tr>\n",
              "  </tbody>\n",
              "</table>\n",
              "</div>"
            ],
            "text/plain": [
              "   APPLICATION_NUMBER  TARGET NAME_CONTRACT_TYPE GENDER  CHILDRENS  \\\n",
              "0           123687442     0.0               Cash      M        1.0   \n",
              "1           123597908     1.0               Cash    NaN        NaN   \n",
              "2           123526683     0.0               Cash      F        0.0   \n",
              "3           123710391     1.0               Cash      M        0.0   \n",
              "4           123590329     1.0               Cash    NaN        NaN   \n",
              "\n",
              "   TOTAL_SALARY  AMOUNT_CREDIT  AMOUNT_ANNUITY                EDUCATION_LEVEL  \\\n",
              "0      157500.0       855000.0         25128.0  Secondary / secondary special   \n",
              "1           NaN            NaN             NaN                            NaN   \n",
              "2      135000.0      1006920.0         42660.0               Higher education   \n",
              "3      180000.0       518562.0         22972.5  Secondary / secondary special   \n",
              "4           NaN            NaN             NaN                            NaN   \n",
              "\n",
              "  FAMILY_STATUS  REGION_POPULATION      AGE  DAYS_ON_LAST_JOB  OWN_CAR_AGE  \\\n",
              "0       Married           0.019101  15728.0            1719.0         11.0   \n",
              "1           NaN                NaN      NaN               NaN          NaN   \n",
              "2       Married           0.026392  21557.0            3618.0          NaN   \n",
              "3       Married           0.031329  22338.0               NaN          NaN   \n",
              "4           NaN                NaN      NaN               NaN          NaN   \n",
              "\n",
              "   FLAG_PHONE  FLAG_EMAIL  FAMILY_SIZE  EXTERNAL_SCORING_RATING_1  \\\n",
              "0         0.0         0.0          3.0                   0.700784   \n",
              "1         NaN         NaN          NaN                        NaN   \n",
              "2         1.0         0.0          2.0                        NaN   \n",
              "3         0.0         0.0          2.0                        NaN   \n",
              "4         NaN         NaN          NaN                        NaN   \n",
              "\n",
              "   EXTERNAL_SCORING_RATING_2  EXTERNAL_SCORING_RATING_3  \\\n",
              "0                   0.645914                   0.716570   \n",
              "1                        NaN                        NaN   \n",
              "2                   0.682149                   0.267869   \n",
              "3                   0.171299                   0.170446   \n",
              "4                        NaN                        NaN   \n",
              "\n",
              "   AMT_REQ_CREDIT_BUREAU_HOUR  AMT_REQ_CREDIT_BUREAU_DAY  \\\n",
              "0                         0.0                        0.0   \n",
              "1                         NaN                        NaN   \n",
              "2                         0.0                        0.0   \n",
              "3                         0.0                        0.0   \n",
              "4                         NaN                        NaN   \n",
              "\n",
              "   AMT_REQ_CREDIT_BUREAU_WEEK  AMT_REQ_CREDIT_BUREAU_MON  \\\n",
              "0                         1.0                        0.0   \n",
              "1                         NaN                        NaN   \n",
              "2                         0.0                        7.0   \n",
              "3                         0.0                        0.0   \n",
              "4                         NaN                        NaN   \n",
              "\n",
              "   AMT_REQ_CREDIT_BUREAU_QRT  AMT_REQ_CREDIT_BUREAU_YEAR  \\\n",
              "0                        0.0                         2.0   \n",
              "1                        NaN                         NaN   \n",
              "2                        0.0                         4.0   \n",
              "3                        0.0                         0.0   \n",
              "4                        NaN                         NaN   \n",
              "\n",
              "   EXTERNAL_SCORING_PROD  EXTERNAL_SCORING_WEIGHTED  \\\n",
              "0               0.324353                   4.197193   \n",
              "1                    NaN                        NaN   \n",
              "2                    NaN                        NaN   \n",
              "3                    NaN                        NaN   \n",
              "4                    NaN                        NaN   \n",
              "\n",
              "   EXTERNAL_SCORING_RATING_min  EXTERNAL_SCORING_RATING_max  \\\n",
              "0                     0.645914                     0.716570   \n",
              "1                          NaN                          NaN   \n",
              "2                     0.267869                     0.682149   \n",
              "3                     0.170446                     0.171299   \n",
              "4                          NaN                          NaN   \n",
              "\n",
              "   EXTERNAL_SCORING_RATING_mean  EXTERNAL_SCORING_RATING_nanmedian  \\\n",
              "0                      0.687756                           0.700784   \n",
              "1                           NaN                                NaN   \n",
              "2                      0.475009                           0.475009   \n",
              "3                      0.170873                           0.170873   \n",
              "4                           NaN                                NaN   \n",
              "\n",
              "   EXTERNAL_SCORING_RATING_var  RATIO_CREDIT_TO_ANNUITY  \\\n",
              "0                 9.169231e-04                34.025788   \n",
              "1                          NaN                      NaN   \n",
              "2                 4.290708e-02                23.603376   \n",
              "3                 1.818800e-07                22.573164   \n",
              "4                          NaN                      NaN   \n",
              "\n",
              "   RATIO_ANNUITY_TO_SALARY  RATIO_CREDIT_TO_SALARY  EXPECTED_TOTAL_LOSS_1  \\\n",
              "0                 0.159543                5.428571          599170.547652   \n",
              "1                      NaN                     NaN                    NaN   \n",
              "2                 0.316000                7.458667                    NaN   \n",
              "3                 0.127625                2.880900                    NaN   \n",
              "4                      NaN                     NaN                    NaN   \n",
              "\n",
              "   EXPECTED_TOTAL_LOSS_2  EXPECTED_TOTAL_LOSS_3  EXPECTED_MONTHLY_LOSS_1  \\\n",
              "0          552256.266546          612667.559305             17609.307043   \n",
              "1                    NaN                    NaN                      NaN   \n",
              "2          686869.876357          269722.588880                      NaN   \n",
              "3           88829.188848           88386.882459                      NaN   \n",
              "4                    NaN                    NaN                      NaN   \n",
              "\n",
              "   EXPECTED_MONTHLY_LOSS_2  EXPECTED_MONTHLY_LOSS_3  \n",
              "0             16230.521013             18005.977111  \n",
              "1                      NaN                      NaN  \n",
              "2             29100.493510             11427.288803  \n",
              "3              3935.167908              3915.573562  \n",
              "4                      NaN                      NaN  "
            ]
          },
          "metadata": {
            "tags": []
          },
          "execution_count": 178
        }
      ]
    },
    {
      "cell_type": "code",
      "metadata": {
        "id": "fhORCGQM6ZD4",
        "trusted": true,
        "outputId": "736a32eb-4902-4d29-ff65-7121ce8619f3",
        "colab": {
          "base_uri": "https://localhost:8080/",
          "height": 34
        }
      },
      "source": [
        "data.shape"
      ],
      "execution_count": 179,
      "outputs": [
        {
          "output_type": "execute_result",
          "data": {
            "text/plain": [
              "(275234, 42)"
            ]
          },
          "metadata": {
            "tags": []
          },
          "execution_count": 179
        }
      ]
    },
    {
      "cell_type": "code",
      "metadata": {
        "id": "rDQ5idPB6ZD7",
        "trusted": true,
        "outputId": "f6b01184-64dc-406e-cd52-c62429e7eaa1",
        "colab": {
          "base_uri": "https://localhost:8080/",
          "height": 850
        }
      },
      "source": [
        "data.info()"
      ],
      "execution_count": 180,
      "outputs": [
        {
          "output_type": "stream",
          "text": [
            "<class 'pandas.core.frame.DataFrame'>\n",
            "Int64Index: 275234 entries, 0 to 275233\n",
            "Data columns (total 42 columns):\n",
            " #   Column                             Non-Null Count   Dtype  \n",
            "---  ------                             --------------   -----  \n",
            " 0   APPLICATION_NUMBER                 275234 non-null  int64  \n",
            " 1   TARGET                             110093 non-null  float64\n",
            " 2   NAME_CONTRACT_TYPE                 275234 non-null  object \n",
            " 3   GENDER                             223715 non-null  object \n",
            " 4   CHILDRENS                          223715 non-null  float64\n",
            " 5   TOTAL_SALARY                       223715 non-null  float64\n",
            " 6   AMOUNT_CREDIT                      223715 non-null  float64\n",
            " 7   AMOUNT_ANNUITY                     223704 non-null  float64\n",
            " 8   EDUCATION_LEVEL                    223715 non-null  object \n",
            " 9   FAMILY_STATUS                      223715 non-null  object \n",
            " 10  REGION_POPULATION                  223715 non-null  float64\n",
            " 11  AGE                                223715 non-null  float64\n",
            " 12  DAYS_ON_LAST_JOB                   183605 non-null  float64\n",
            " 13  OWN_CAR_AGE                        76034 non-null   float64\n",
            " 14  FLAG_PHONE                         223715 non-null  float64\n",
            " 15  FLAG_EMAIL                         223715 non-null  float64\n",
            " 16  FAMILY_SIZE                        223713 non-null  float64\n",
            " 17  EXTERNAL_SCORING_RATING_1          97726 non-null   float64\n",
            " 18  EXTERNAL_SCORING_RATING_2          223236 non-null  float64\n",
            " 19  EXTERNAL_SCORING_RATING_3          179308 non-null  float64\n",
            " 20  AMT_REQ_CREDIT_BUREAU_HOUR         193517 non-null  float64\n",
            " 21  AMT_REQ_CREDIT_BUREAU_DAY          193517 non-null  float64\n",
            " 22  AMT_REQ_CREDIT_BUREAU_WEEK         193517 non-null  float64\n",
            " 23  AMT_REQ_CREDIT_BUREAU_MON          193517 non-null  float64\n",
            " 24  AMT_REQ_CREDIT_BUREAU_QRT          193517 non-null  float64\n",
            " 25  AMT_REQ_CREDIT_BUREAU_YEAR         193517 non-null  float64\n",
            " 26  EXTERNAL_SCORING_PROD              79800 non-null   float64\n",
            " 27  EXTERNAL_SCORING_WEIGHTED          79800 non-null   float64\n",
            " 28  EXTERNAL_SCORING_RATING_min        223586 non-null  float64\n",
            " 29  EXTERNAL_SCORING_RATING_max        223586 non-null  float64\n",
            " 30  EXTERNAL_SCORING_RATING_mean       223586 non-null  float64\n",
            " 31  EXTERNAL_SCORING_RATING_nanmedian  223586 non-null  float64\n",
            " 32  EXTERNAL_SCORING_RATING_var        223586 non-null  float64\n",
            " 33  RATIO_CREDIT_TO_ANNUITY            223704 non-null  float64\n",
            " 34  RATIO_ANNUITY_TO_SALARY            223704 non-null  float64\n",
            " 35  RATIO_CREDIT_TO_SALARY             223715 non-null  float64\n",
            " 36  EXPECTED_TOTAL_LOSS_1              97726 non-null   float64\n",
            " 37  EXPECTED_TOTAL_LOSS_2              223236 non-null  float64\n",
            " 38  EXPECTED_TOTAL_LOSS_3              179308 non-null  float64\n",
            " 39  EXPECTED_MONTHLY_LOSS_1            97718 non-null   float64\n",
            " 40  EXPECTED_MONTHLY_LOSS_2            223225 non-null  float64\n",
            " 41  EXPECTED_MONTHLY_LOSS_3            179298 non-null  float64\n",
            "dtypes: float64(37), int64(1), object(4)\n",
            "memory usage: 90.3+ MB\n"
          ],
          "name": "stdout"
        }
      ]
    },
    {
      "cell_type": "markdown",
      "metadata": {
        "id": "alvPcQLe6ZD-"
      },
      "source": [
        "### Заполняем пропуски"
      ]
    },
    {
      "cell_type": "code",
      "metadata": {
        "id": "eJb5h11c6ZD-",
        "trusted": true,
        "outputId": "95bf5ba4-f91f-4005-e0f0-0864fa96a3df",
        "colab": {
          "base_uri": "https://localhost:8080/",
          "height": 34
        }
      },
      "source": [
        "obj_col_names = data.select_dtypes(include=['object']).columns\n",
        "obj_col_names"
      ],
      "execution_count": 181,
      "outputs": [
        {
          "output_type": "execute_result",
          "data": {
            "text/plain": [
              "Index(['NAME_CONTRACT_TYPE', 'GENDER', 'EDUCATION_LEVEL', 'FAMILY_STATUS'], dtype='object')"
            ]
          },
          "metadata": {
            "tags": []
          },
          "execution_count": 181
        }
      ]
    },
    {
      "cell_type": "code",
      "metadata": {
        "id": "tSbDPvMw6ZEB",
        "trusted": true,
        "outputId": "d8b14061-e03e-4fb5-ccce-945678f00c55",
        "colab": {
          "base_uri": "https://localhost:8080/",
          "height": 221
        }
      },
      "source": [
        "data.loc[data[obj_col_names[1]].isnull(), obj_col_names[1]]"
      ],
      "execution_count": 182,
      "outputs": [
        {
          "output_type": "execute_result",
          "data": {
            "text/plain": [
              "1         NaN\n",
              "4         NaN\n",
              "10        NaN\n",
              "16        NaN\n",
              "17        NaN\n",
              "         ... \n",
              "275225    NaN\n",
              "275226    NaN\n",
              "275228    NaN\n",
              "275229    NaN\n",
              "275231    NaN\n",
              "Name: GENDER, Length: 51519, dtype: object"
            ]
          },
          "metadata": {
            "tags": []
          },
          "execution_count": 182
        }
      ]
    },
    {
      "cell_type": "code",
      "metadata": {
        "id": "Yi85A4lv6ZEE",
        "trusted": true
      },
      "source": [
        "for col in obj_col_names:\n",
        "    data.loc[data[col].isnull(), col] = 'No'"
      ],
      "execution_count": 183,
      "outputs": []
    },
    {
      "cell_type": "code",
      "metadata": {
        "id": "yY1spBlT6ZEH",
        "trusted": true,
        "outputId": "4fff0af9-5958-4a9a-a0b8-7bdc0d20cdd9",
        "colab": {
          "base_uri": "https://localhost:8080/",
          "height": 306
        }
      },
      "source": [
        "num_col_names = data.select_dtypes(exclude=['object']).columns\n",
        "num_col_names"
      ],
      "execution_count": 184,
      "outputs": [
        {
          "output_type": "execute_result",
          "data": {
            "text/plain": [
              "Index(['APPLICATION_NUMBER', 'TARGET', 'CHILDRENS', 'TOTAL_SALARY',\n",
              "       'AMOUNT_CREDIT', 'AMOUNT_ANNUITY', 'REGION_POPULATION', 'AGE',\n",
              "       'DAYS_ON_LAST_JOB', 'OWN_CAR_AGE', 'FLAG_PHONE', 'FLAG_EMAIL',\n",
              "       'FAMILY_SIZE', 'EXTERNAL_SCORING_RATING_1', 'EXTERNAL_SCORING_RATING_2',\n",
              "       'EXTERNAL_SCORING_RATING_3', 'AMT_REQ_CREDIT_BUREAU_HOUR',\n",
              "       'AMT_REQ_CREDIT_BUREAU_DAY', 'AMT_REQ_CREDIT_BUREAU_WEEK',\n",
              "       'AMT_REQ_CREDIT_BUREAU_MON', 'AMT_REQ_CREDIT_BUREAU_QRT',\n",
              "       'AMT_REQ_CREDIT_BUREAU_YEAR', 'EXTERNAL_SCORING_PROD',\n",
              "       'EXTERNAL_SCORING_WEIGHTED', 'EXTERNAL_SCORING_RATING_min',\n",
              "       'EXTERNAL_SCORING_RATING_max', 'EXTERNAL_SCORING_RATING_mean',\n",
              "       'EXTERNAL_SCORING_RATING_nanmedian', 'EXTERNAL_SCORING_RATING_var',\n",
              "       'RATIO_CREDIT_TO_ANNUITY', 'RATIO_ANNUITY_TO_SALARY',\n",
              "       'RATIO_CREDIT_TO_SALARY', 'EXPECTED_TOTAL_LOSS_1',\n",
              "       'EXPECTED_TOTAL_LOSS_2', 'EXPECTED_TOTAL_LOSS_3',\n",
              "       'EXPECTED_MONTHLY_LOSS_1', 'EXPECTED_MONTHLY_LOSS_2',\n",
              "       'EXPECTED_MONTHLY_LOSS_3'],\n",
              "      dtype='object')"
            ]
          },
          "metadata": {
            "tags": []
          },
          "execution_count": 184
        }
      ]
    },
    {
      "cell_type": "code",
      "metadata": {
        "id": "QUAvfN--6ZEL",
        "trusted": true
      },
      "source": [
        "for col in num_col_names:\n",
        "    data.loc[data[col].isnull(), col] = -1"
      ],
      "execution_count": 185,
      "outputs": []
    },
    {
      "cell_type": "code",
      "metadata": {
        "id": "IRy-XrGh6ZEO",
        "trusted": true,
        "outputId": "06111ac5-9888-4bbb-9baa-56b502b9cfa3",
        "colab": {
          "base_uri": "https://localhost:8080/",
          "height": 258
        }
      },
      "source": [
        "data.head()"
      ],
      "execution_count": 186,
      "outputs": [
        {
          "output_type": "execute_result",
          "data": {
            "text/html": [
              "<div>\n",
              "<style scoped>\n",
              "    .dataframe tbody tr th:only-of-type {\n",
              "        vertical-align: middle;\n",
              "    }\n",
              "\n",
              "    .dataframe tbody tr th {\n",
              "        vertical-align: top;\n",
              "    }\n",
              "\n",
              "    .dataframe thead th {\n",
              "        text-align: right;\n",
              "    }\n",
              "</style>\n",
              "<table border=\"1\" class=\"dataframe\">\n",
              "  <thead>\n",
              "    <tr style=\"text-align: right;\">\n",
              "      <th></th>\n",
              "      <th>APPLICATION_NUMBER</th>\n",
              "      <th>TARGET</th>\n",
              "      <th>NAME_CONTRACT_TYPE</th>\n",
              "      <th>GENDER</th>\n",
              "      <th>CHILDRENS</th>\n",
              "      <th>TOTAL_SALARY</th>\n",
              "      <th>AMOUNT_CREDIT</th>\n",
              "      <th>AMOUNT_ANNUITY</th>\n",
              "      <th>EDUCATION_LEVEL</th>\n",
              "      <th>FAMILY_STATUS</th>\n",
              "      <th>REGION_POPULATION</th>\n",
              "      <th>AGE</th>\n",
              "      <th>DAYS_ON_LAST_JOB</th>\n",
              "      <th>OWN_CAR_AGE</th>\n",
              "      <th>FLAG_PHONE</th>\n",
              "      <th>FLAG_EMAIL</th>\n",
              "      <th>FAMILY_SIZE</th>\n",
              "      <th>EXTERNAL_SCORING_RATING_1</th>\n",
              "      <th>EXTERNAL_SCORING_RATING_2</th>\n",
              "      <th>EXTERNAL_SCORING_RATING_3</th>\n",
              "      <th>AMT_REQ_CREDIT_BUREAU_HOUR</th>\n",
              "      <th>AMT_REQ_CREDIT_BUREAU_DAY</th>\n",
              "      <th>AMT_REQ_CREDIT_BUREAU_WEEK</th>\n",
              "      <th>AMT_REQ_CREDIT_BUREAU_MON</th>\n",
              "      <th>AMT_REQ_CREDIT_BUREAU_QRT</th>\n",
              "      <th>AMT_REQ_CREDIT_BUREAU_YEAR</th>\n",
              "      <th>EXTERNAL_SCORING_PROD</th>\n",
              "      <th>EXTERNAL_SCORING_WEIGHTED</th>\n",
              "      <th>EXTERNAL_SCORING_RATING_min</th>\n",
              "      <th>EXTERNAL_SCORING_RATING_max</th>\n",
              "      <th>EXTERNAL_SCORING_RATING_mean</th>\n",
              "      <th>EXTERNAL_SCORING_RATING_nanmedian</th>\n",
              "      <th>EXTERNAL_SCORING_RATING_var</th>\n",
              "      <th>RATIO_CREDIT_TO_ANNUITY</th>\n",
              "      <th>RATIO_ANNUITY_TO_SALARY</th>\n",
              "      <th>RATIO_CREDIT_TO_SALARY</th>\n",
              "      <th>EXPECTED_TOTAL_LOSS_1</th>\n",
              "      <th>EXPECTED_TOTAL_LOSS_2</th>\n",
              "      <th>EXPECTED_TOTAL_LOSS_3</th>\n",
              "      <th>EXPECTED_MONTHLY_LOSS_1</th>\n",
              "      <th>EXPECTED_MONTHLY_LOSS_2</th>\n",
              "      <th>EXPECTED_MONTHLY_LOSS_3</th>\n",
              "    </tr>\n",
              "  </thead>\n",
              "  <tbody>\n",
              "    <tr>\n",
              "      <th>0</th>\n",
              "      <td>123687442</td>\n",
              "      <td>0.0</td>\n",
              "      <td>Cash</td>\n",
              "      <td>M</td>\n",
              "      <td>1.0</td>\n",
              "      <td>157500.0</td>\n",
              "      <td>855000.0</td>\n",
              "      <td>25128.0</td>\n",
              "      <td>Secondary / secondary special</td>\n",
              "      <td>Married</td>\n",
              "      <td>0.019101</td>\n",
              "      <td>15728.0</td>\n",
              "      <td>1719.0</td>\n",
              "      <td>11.0</td>\n",
              "      <td>0.0</td>\n",
              "      <td>0.0</td>\n",
              "      <td>3.0</td>\n",
              "      <td>0.700784</td>\n",
              "      <td>0.645914</td>\n",
              "      <td>0.716570</td>\n",
              "      <td>0.0</td>\n",
              "      <td>0.0</td>\n",
              "      <td>1.0</td>\n",
              "      <td>0.0</td>\n",
              "      <td>0.0</td>\n",
              "      <td>2.0</td>\n",
              "      <td>0.324353</td>\n",
              "      <td>4.197193</td>\n",
              "      <td>0.645914</td>\n",
              "      <td>0.716570</td>\n",
              "      <td>0.687756</td>\n",
              "      <td>0.700784</td>\n",
              "      <td>9.169231e-04</td>\n",
              "      <td>34.025788</td>\n",
              "      <td>0.159543</td>\n",
              "      <td>5.428571</td>\n",
              "      <td>599170.547652</td>\n",
              "      <td>552256.266546</td>\n",
              "      <td>612667.559305</td>\n",
              "      <td>17609.307043</td>\n",
              "      <td>16230.521013</td>\n",
              "      <td>18005.977111</td>\n",
              "    </tr>\n",
              "    <tr>\n",
              "      <th>1</th>\n",
              "      <td>123597908</td>\n",
              "      <td>1.0</td>\n",
              "      <td>Cash</td>\n",
              "      <td>No</td>\n",
              "      <td>-1.0</td>\n",
              "      <td>-1.0</td>\n",
              "      <td>-1.0</td>\n",
              "      <td>-1.0</td>\n",
              "      <td>No</td>\n",
              "      <td>No</td>\n",
              "      <td>-1.000000</td>\n",
              "      <td>-1.0</td>\n",
              "      <td>-1.0</td>\n",
              "      <td>-1.0</td>\n",
              "      <td>-1.0</td>\n",
              "      <td>-1.0</td>\n",
              "      <td>-1.0</td>\n",
              "      <td>-1.000000</td>\n",
              "      <td>-1.000000</td>\n",
              "      <td>-1.000000</td>\n",
              "      <td>-1.0</td>\n",
              "      <td>-1.0</td>\n",
              "      <td>-1.0</td>\n",
              "      <td>-1.0</td>\n",
              "      <td>-1.0</td>\n",
              "      <td>-1.0</td>\n",
              "      <td>-1.000000</td>\n",
              "      <td>-1.000000</td>\n",
              "      <td>-1.000000</td>\n",
              "      <td>-1.000000</td>\n",
              "      <td>-1.000000</td>\n",
              "      <td>-1.000000</td>\n",
              "      <td>-1.000000e+00</td>\n",
              "      <td>-1.000000</td>\n",
              "      <td>-1.000000</td>\n",
              "      <td>-1.000000</td>\n",
              "      <td>-1.000000</td>\n",
              "      <td>-1.000000</td>\n",
              "      <td>-1.000000</td>\n",
              "      <td>-1.000000</td>\n",
              "      <td>-1.000000</td>\n",
              "      <td>-1.000000</td>\n",
              "    </tr>\n",
              "    <tr>\n",
              "      <th>2</th>\n",
              "      <td>123526683</td>\n",
              "      <td>0.0</td>\n",
              "      <td>Cash</td>\n",
              "      <td>F</td>\n",
              "      <td>0.0</td>\n",
              "      <td>135000.0</td>\n",
              "      <td>1006920.0</td>\n",
              "      <td>42660.0</td>\n",
              "      <td>Higher education</td>\n",
              "      <td>Married</td>\n",
              "      <td>0.026392</td>\n",
              "      <td>21557.0</td>\n",
              "      <td>3618.0</td>\n",
              "      <td>-1.0</td>\n",
              "      <td>1.0</td>\n",
              "      <td>0.0</td>\n",
              "      <td>2.0</td>\n",
              "      <td>-1.000000</td>\n",
              "      <td>0.682149</td>\n",
              "      <td>0.267869</td>\n",
              "      <td>0.0</td>\n",
              "      <td>0.0</td>\n",
              "      <td>0.0</td>\n",
              "      <td>7.0</td>\n",
              "      <td>0.0</td>\n",
              "      <td>4.0</td>\n",
              "      <td>-1.000000</td>\n",
              "      <td>-1.000000</td>\n",
              "      <td>0.267869</td>\n",
              "      <td>0.682149</td>\n",
              "      <td>0.475009</td>\n",
              "      <td>0.475009</td>\n",
              "      <td>4.290708e-02</td>\n",
              "      <td>23.603376</td>\n",
              "      <td>0.316000</td>\n",
              "      <td>7.458667</td>\n",
              "      <td>-1.000000</td>\n",
              "      <td>686869.876357</td>\n",
              "      <td>269722.588880</td>\n",
              "      <td>-1.000000</td>\n",
              "      <td>29100.493510</td>\n",
              "      <td>11427.288803</td>\n",
              "    </tr>\n",
              "    <tr>\n",
              "      <th>3</th>\n",
              "      <td>123710391</td>\n",
              "      <td>1.0</td>\n",
              "      <td>Cash</td>\n",
              "      <td>M</td>\n",
              "      <td>0.0</td>\n",
              "      <td>180000.0</td>\n",
              "      <td>518562.0</td>\n",
              "      <td>22972.5</td>\n",
              "      <td>Secondary / secondary special</td>\n",
              "      <td>Married</td>\n",
              "      <td>0.031329</td>\n",
              "      <td>22338.0</td>\n",
              "      <td>-1.0</td>\n",
              "      <td>-1.0</td>\n",
              "      <td>0.0</td>\n",
              "      <td>0.0</td>\n",
              "      <td>2.0</td>\n",
              "      <td>-1.000000</td>\n",
              "      <td>0.171299</td>\n",
              "      <td>0.170446</td>\n",
              "      <td>0.0</td>\n",
              "      <td>0.0</td>\n",
              "      <td>0.0</td>\n",
              "      <td>0.0</td>\n",
              "      <td>0.0</td>\n",
              "      <td>0.0</td>\n",
              "      <td>-1.000000</td>\n",
              "      <td>-1.000000</td>\n",
              "      <td>0.170446</td>\n",
              "      <td>0.171299</td>\n",
              "      <td>0.170873</td>\n",
              "      <td>0.170873</td>\n",
              "      <td>1.818800e-07</td>\n",
              "      <td>22.573164</td>\n",
              "      <td>0.127625</td>\n",
              "      <td>2.880900</td>\n",
              "      <td>-1.000000</td>\n",
              "      <td>88829.188848</td>\n",
              "      <td>88386.882459</td>\n",
              "      <td>-1.000000</td>\n",
              "      <td>3935.167908</td>\n",
              "      <td>3915.573562</td>\n",
              "    </tr>\n",
              "    <tr>\n",
              "      <th>4</th>\n",
              "      <td>123590329</td>\n",
              "      <td>1.0</td>\n",
              "      <td>Cash</td>\n",
              "      <td>No</td>\n",
              "      <td>-1.0</td>\n",
              "      <td>-1.0</td>\n",
              "      <td>-1.0</td>\n",
              "      <td>-1.0</td>\n",
              "      <td>No</td>\n",
              "      <td>No</td>\n",
              "      <td>-1.000000</td>\n",
              "      <td>-1.0</td>\n",
              "      <td>-1.0</td>\n",
              "      <td>-1.0</td>\n",
              "      <td>-1.0</td>\n",
              "      <td>-1.0</td>\n",
              "      <td>-1.0</td>\n",
              "      <td>-1.000000</td>\n",
              "      <td>-1.000000</td>\n",
              "      <td>-1.000000</td>\n",
              "      <td>-1.0</td>\n",
              "      <td>-1.0</td>\n",
              "      <td>-1.0</td>\n",
              "      <td>-1.0</td>\n",
              "      <td>-1.0</td>\n",
              "      <td>-1.0</td>\n",
              "      <td>-1.000000</td>\n",
              "      <td>-1.000000</td>\n",
              "      <td>-1.000000</td>\n",
              "      <td>-1.000000</td>\n",
              "      <td>-1.000000</td>\n",
              "      <td>-1.000000</td>\n",
              "      <td>-1.000000e+00</td>\n",
              "      <td>-1.000000</td>\n",
              "      <td>-1.000000</td>\n",
              "      <td>-1.000000</td>\n",
              "      <td>-1.000000</td>\n",
              "      <td>-1.000000</td>\n",
              "      <td>-1.000000</td>\n",
              "      <td>-1.000000</td>\n",
              "      <td>-1.000000</td>\n",
              "      <td>-1.000000</td>\n",
              "    </tr>\n",
              "  </tbody>\n",
              "</table>\n",
              "</div>"
            ],
            "text/plain": [
              "   APPLICATION_NUMBER  TARGET NAME_CONTRACT_TYPE GENDER  CHILDRENS  \\\n",
              "0           123687442     0.0               Cash      M        1.0   \n",
              "1           123597908     1.0               Cash     No       -1.0   \n",
              "2           123526683     0.0               Cash      F        0.0   \n",
              "3           123710391     1.0               Cash      M        0.0   \n",
              "4           123590329     1.0               Cash     No       -1.0   \n",
              "\n",
              "   TOTAL_SALARY  AMOUNT_CREDIT  AMOUNT_ANNUITY                EDUCATION_LEVEL  \\\n",
              "0      157500.0       855000.0         25128.0  Secondary / secondary special   \n",
              "1          -1.0           -1.0            -1.0                             No   \n",
              "2      135000.0      1006920.0         42660.0               Higher education   \n",
              "3      180000.0       518562.0         22972.5  Secondary / secondary special   \n",
              "4          -1.0           -1.0            -1.0                             No   \n",
              "\n",
              "  FAMILY_STATUS  REGION_POPULATION      AGE  DAYS_ON_LAST_JOB  OWN_CAR_AGE  \\\n",
              "0       Married           0.019101  15728.0            1719.0         11.0   \n",
              "1            No          -1.000000     -1.0              -1.0         -1.0   \n",
              "2       Married           0.026392  21557.0            3618.0         -1.0   \n",
              "3       Married           0.031329  22338.0              -1.0         -1.0   \n",
              "4            No          -1.000000     -1.0              -1.0         -1.0   \n",
              "\n",
              "   FLAG_PHONE  FLAG_EMAIL  FAMILY_SIZE  EXTERNAL_SCORING_RATING_1  \\\n",
              "0         0.0         0.0          3.0                   0.700784   \n",
              "1        -1.0        -1.0         -1.0                  -1.000000   \n",
              "2         1.0         0.0          2.0                  -1.000000   \n",
              "3         0.0         0.0          2.0                  -1.000000   \n",
              "4        -1.0        -1.0         -1.0                  -1.000000   \n",
              "\n",
              "   EXTERNAL_SCORING_RATING_2  EXTERNAL_SCORING_RATING_3  \\\n",
              "0                   0.645914                   0.716570   \n",
              "1                  -1.000000                  -1.000000   \n",
              "2                   0.682149                   0.267869   \n",
              "3                   0.171299                   0.170446   \n",
              "4                  -1.000000                  -1.000000   \n",
              "\n",
              "   AMT_REQ_CREDIT_BUREAU_HOUR  AMT_REQ_CREDIT_BUREAU_DAY  \\\n",
              "0                         0.0                        0.0   \n",
              "1                        -1.0                       -1.0   \n",
              "2                         0.0                        0.0   \n",
              "3                         0.0                        0.0   \n",
              "4                        -1.0                       -1.0   \n",
              "\n",
              "   AMT_REQ_CREDIT_BUREAU_WEEK  AMT_REQ_CREDIT_BUREAU_MON  \\\n",
              "0                         1.0                        0.0   \n",
              "1                        -1.0                       -1.0   \n",
              "2                         0.0                        7.0   \n",
              "3                         0.0                        0.0   \n",
              "4                        -1.0                       -1.0   \n",
              "\n",
              "   AMT_REQ_CREDIT_BUREAU_QRT  AMT_REQ_CREDIT_BUREAU_YEAR  \\\n",
              "0                        0.0                         2.0   \n",
              "1                       -1.0                        -1.0   \n",
              "2                        0.0                         4.0   \n",
              "3                        0.0                         0.0   \n",
              "4                       -1.0                        -1.0   \n",
              "\n",
              "   EXTERNAL_SCORING_PROD  EXTERNAL_SCORING_WEIGHTED  \\\n",
              "0               0.324353                   4.197193   \n",
              "1              -1.000000                  -1.000000   \n",
              "2              -1.000000                  -1.000000   \n",
              "3              -1.000000                  -1.000000   \n",
              "4              -1.000000                  -1.000000   \n",
              "\n",
              "   EXTERNAL_SCORING_RATING_min  EXTERNAL_SCORING_RATING_max  \\\n",
              "0                     0.645914                     0.716570   \n",
              "1                    -1.000000                    -1.000000   \n",
              "2                     0.267869                     0.682149   \n",
              "3                     0.170446                     0.171299   \n",
              "4                    -1.000000                    -1.000000   \n",
              "\n",
              "   EXTERNAL_SCORING_RATING_mean  EXTERNAL_SCORING_RATING_nanmedian  \\\n",
              "0                      0.687756                           0.700784   \n",
              "1                     -1.000000                          -1.000000   \n",
              "2                      0.475009                           0.475009   \n",
              "3                      0.170873                           0.170873   \n",
              "4                     -1.000000                          -1.000000   \n",
              "\n",
              "   EXTERNAL_SCORING_RATING_var  RATIO_CREDIT_TO_ANNUITY  \\\n",
              "0                 9.169231e-04                34.025788   \n",
              "1                -1.000000e+00                -1.000000   \n",
              "2                 4.290708e-02                23.603376   \n",
              "3                 1.818800e-07                22.573164   \n",
              "4                -1.000000e+00                -1.000000   \n",
              "\n",
              "   RATIO_ANNUITY_TO_SALARY  RATIO_CREDIT_TO_SALARY  EXPECTED_TOTAL_LOSS_1  \\\n",
              "0                 0.159543                5.428571          599170.547652   \n",
              "1                -1.000000               -1.000000              -1.000000   \n",
              "2                 0.316000                7.458667              -1.000000   \n",
              "3                 0.127625                2.880900              -1.000000   \n",
              "4                -1.000000               -1.000000              -1.000000   \n",
              "\n",
              "   EXPECTED_TOTAL_LOSS_2  EXPECTED_TOTAL_LOSS_3  EXPECTED_MONTHLY_LOSS_1  \\\n",
              "0          552256.266546          612667.559305             17609.307043   \n",
              "1              -1.000000              -1.000000                -1.000000   \n",
              "2          686869.876357          269722.588880                -1.000000   \n",
              "3           88829.188848           88386.882459                -1.000000   \n",
              "4              -1.000000              -1.000000                -1.000000   \n",
              "\n",
              "   EXPECTED_MONTHLY_LOSS_2  EXPECTED_MONTHLY_LOSS_3  \n",
              "0             16230.521013             18005.977111  \n",
              "1                -1.000000                -1.000000  \n",
              "2             29100.493510             11427.288803  \n",
              "3              3935.167908              3915.573562  \n",
              "4                -1.000000                -1.000000  "
            ]
          },
          "metadata": {
            "tags": []
          },
          "execution_count": 186
        }
      ]
    },
    {
      "cell_type": "markdown",
      "metadata": {
        "id": "gRCMci5m6ZES"
      },
      "source": [
        "### Агрегируем числовые приазнаки из applications_history, bki, payments"
      ]
    },
    {
      "cell_type": "code",
      "metadata": {
        "id": "NQypcvSG6ZES",
        "trusted": true
      },
      "source": [
        "stats = [\"count\"] #, \"mean\", \"min\", \"max\", \"std\"count]"
      ],
      "execution_count": 187,
      "outputs": []
    },
    {
      "cell_type": "code",
      "metadata": {
        "id": "51SKsuoz6ZEW",
        "trusted": true
      },
      "source": [
        "for dat_name in src_list[3:3]:\n",
        "    print(dat_name)\n",
        "    dat = source[dat_name].select_dtypes(exclude=['object'])\n",
        "    for col in dat.columns[2:]:\n",
        "        dat.loc[dat[col].isnull(), col] = -1\n",
        "    new_feat = dat.groupby(\"APPLICATION_NUMBER\", as_index=False)[dat.columns[2:]].agg(stats).reset_index()\n",
        "    for col in new_feat.columns[1:]:\n",
        "        new_feat.loc[new_feat[col].isnull(), col] = -1\n",
        "    \n",
        "#     print(new_feat.info())\n",
        "    tmp = [new_feat.columns[0][0]]\n",
        "    tmp.extend([col[0]+\"_\"+col[1].upper() for col in new_feat.columns[1:]])\n",
        "    new_feat.columns = tmp\n",
        "#     print(tmp)\n",
        "#     print(new_feat.info())\n",
        "    data = pd.merge(data, \n",
        "                    new_feat, \n",
        "                    on='APPLICATION_NUMBER', \n",
        "                    how='left')"
      ],
      "execution_count": 188,
      "outputs": []
    },
    {
      "cell_type": "code",
      "metadata": {
        "id": "LFO-IvE-6ZEZ",
        "trusted": true,
        "outputId": "d9602fbd-2e6c-4677-9926-7f7cacf94538",
        "colab": {
          "base_uri": "https://localhost:8080/",
          "height": 34
        }
      },
      "source": [
        "data.shape"
      ],
      "execution_count": 189,
      "outputs": [
        {
          "output_type": "execute_result",
          "data": {
            "text/plain": [
              "(275234, 42)"
            ]
          },
          "metadata": {
            "tags": []
          },
          "execution_count": 189
        }
      ]
    },
    {
      "cell_type": "code",
      "metadata": {
        "id": "_nm1Xinh6ZEc",
        "trusted": true,
        "outputId": "70b72a22-727c-4877-f008-0e397a50a8a9",
        "colab": {
          "base_uri": "https://localhost:8080/",
          "height": 148
        }
      },
      "source": [
        "data.head(2)"
      ],
      "execution_count": 190,
      "outputs": [
        {
          "output_type": "execute_result",
          "data": {
            "text/html": [
              "<div>\n",
              "<style scoped>\n",
              "    .dataframe tbody tr th:only-of-type {\n",
              "        vertical-align: middle;\n",
              "    }\n",
              "\n",
              "    .dataframe tbody tr th {\n",
              "        vertical-align: top;\n",
              "    }\n",
              "\n",
              "    .dataframe thead th {\n",
              "        text-align: right;\n",
              "    }\n",
              "</style>\n",
              "<table border=\"1\" class=\"dataframe\">\n",
              "  <thead>\n",
              "    <tr style=\"text-align: right;\">\n",
              "      <th></th>\n",
              "      <th>APPLICATION_NUMBER</th>\n",
              "      <th>TARGET</th>\n",
              "      <th>NAME_CONTRACT_TYPE</th>\n",
              "      <th>GENDER</th>\n",
              "      <th>CHILDRENS</th>\n",
              "      <th>TOTAL_SALARY</th>\n",
              "      <th>AMOUNT_CREDIT</th>\n",
              "      <th>AMOUNT_ANNUITY</th>\n",
              "      <th>EDUCATION_LEVEL</th>\n",
              "      <th>FAMILY_STATUS</th>\n",
              "      <th>REGION_POPULATION</th>\n",
              "      <th>AGE</th>\n",
              "      <th>DAYS_ON_LAST_JOB</th>\n",
              "      <th>OWN_CAR_AGE</th>\n",
              "      <th>FLAG_PHONE</th>\n",
              "      <th>FLAG_EMAIL</th>\n",
              "      <th>FAMILY_SIZE</th>\n",
              "      <th>EXTERNAL_SCORING_RATING_1</th>\n",
              "      <th>EXTERNAL_SCORING_RATING_2</th>\n",
              "      <th>EXTERNAL_SCORING_RATING_3</th>\n",
              "      <th>AMT_REQ_CREDIT_BUREAU_HOUR</th>\n",
              "      <th>AMT_REQ_CREDIT_BUREAU_DAY</th>\n",
              "      <th>AMT_REQ_CREDIT_BUREAU_WEEK</th>\n",
              "      <th>AMT_REQ_CREDIT_BUREAU_MON</th>\n",
              "      <th>AMT_REQ_CREDIT_BUREAU_QRT</th>\n",
              "      <th>AMT_REQ_CREDIT_BUREAU_YEAR</th>\n",
              "      <th>EXTERNAL_SCORING_PROD</th>\n",
              "      <th>EXTERNAL_SCORING_WEIGHTED</th>\n",
              "      <th>EXTERNAL_SCORING_RATING_min</th>\n",
              "      <th>EXTERNAL_SCORING_RATING_max</th>\n",
              "      <th>EXTERNAL_SCORING_RATING_mean</th>\n",
              "      <th>EXTERNAL_SCORING_RATING_nanmedian</th>\n",
              "      <th>EXTERNAL_SCORING_RATING_var</th>\n",
              "      <th>RATIO_CREDIT_TO_ANNUITY</th>\n",
              "      <th>RATIO_ANNUITY_TO_SALARY</th>\n",
              "      <th>RATIO_CREDIT_TO_SALARY</th>\n",
              "      <th>EXPECTED_TOTAL_LOSS_1</th>\n",
              "      <th>EXPECTED_TOTAL_LOSS_2</th>\n",
              "      <th>EXPECTED_TOTAL_LOSS_3</th>\n",
              "      <th>EXPECTED_MONTHLY_LOSS_1</th>\n",
              "      <th>EXPECTED_MONTHLY_LOSS_2</th>\n",
              "      <th>EXPECTED_MONTHLY_LOSS_3</th>\n",
              "    </tr>\n",
              "  </thead>\n",
              "  <tbody>\n",
              "    <tr>\n",
              "      <th>0</th>\n",
              "      <td>123687442</td>\n",
              "      <td>0.0</td>\n",
              "      <td>Cash</td>\n",
              "      <td>M</td>\n",
              "      <td>1.0</td>\n",
              "      <td>157500.0</td>\n",
              "      <td>855000.0</td>\n",
              "      <td>25128.0</td>\n",
              "      <td>Secondary / secondary special</td>\n",
              "      <td>Married</td>\n",
              "      <td>0.019101</td>\n",
              "      <td>15728.0</td>\n",
              "      <td>1719.0</td>\n",
              "      <td>11.0</td>\n",
              "      <td>0.0</td>\n",
              "      <td>0.0</td>\n",
              "      <td>3.0</td>\n",
              "      <td>0.700784</td>\n",
              "      <td>0.645914</td>\n",
              "      <td>0.71657</td>\n",
              "      <td>0.0</td>\n",
              "      <td>0.0</td>\n",
              "      <td>1.0</td>\n",
              "      <td>0.0</td>\n",
              "      <td>0.0</td>\n",
              "      <td>2.0</td>\n",
              "      <td>0.324353</td>\n",
              "      <td>4.197193</td>\n",
              "      <td>0.645914</td>\n",
              "      <td>0.71657</td>\n",
              "      <td>0.687756</td>\n",
              "      <td>0.700784</td>\n",
              "      <td>0.000917</td>\n",
              "      <td>34.025788</td>\n",
              "      <td>0.159543</td>\n",
              "      <td>5.428571</td>\n",
              "      <td>599170.547652</td>\n",
              "      <td>552256.266546</td>\n",
              "      <td>612667.559305</td>\n",
              "      <td>17609.307043</td>\n",
              "      <td>16230.521013</td>\n",
              "      <td>18005.977111</td>\n",
              "    </tr>\n",
              "    <tr>\n",
              "      <th>1</th>\n",
              "      <td>123597908</td>\n",
              "      <td>1.0</td>\n",
              "      <td>Cash</td>\n",
              "      <td>No</td>\n",
              "      <td>-1.0</td>\n",
              "      <td>-1.0</td>\n",
              "      <td>-1.0</td>\n",
              "      <td>-1.0</td>\n",
              "      <td>No</td>\n",
              "      <td>No</td>\n",
              "      <td>-1.000000</td>\n",
              "      <td>-1.0</td>\n",
              "      <td>-1.0</td>\n",
              "      <td>-1.0</td>\n",
              "      <td>-1.0</td>\n",
              "      <td>-1.0</td>\n",
              "      <td>-1.0</td>\n",
              "      <td>-1.000000</td>\n",
              "      <td>-1.000000</td>\n",
              "      <td>-1.00000</td>\n",
              "      <td>-1.0</td>\n",
              "      <td>-1.0</td>\n",
              "      <td>-1.0</td>\n",
              "      <td>-1.0</td>\n",
              "      <td>-1.0</td>\n",
              "      <td>-1.0</td>\n",
              "      <td>-1.000000</td>\n",
              "      <td>-1.000000</td>\n",
              "      <td>-1.000000</td>\n",
              "      <td>-1.00000</td>\n",
              "      <td>-1.000000</td>\n",
              "      <td>-1.000000</td>\n",
              "      <td>-1.000000</td>\n",
              "      <td>-1.000000</td>\n",
              "      <td>-1.000000</td>\n",
              "      <td>-1.000000</td>\n",
              "      <td>-1.000000</td>\n",
              "      <td>-1.000000</td>\n",
              "      <td>-1.000000</td>\n",
              "      <td>-1.000000</td>\n",
              "      <td>-1.000000</td>\n",
              "      <td>-1.000000</td>\n",
              "    </tr>\n",
              "  </tbody>\n",
              "</table>\n",
              "</div>"
            ],
            "text/plain": [
              "   APPLICATION_NUMBER  TARGET NAME_CONTRACT_TYPE GENDER  CHILDRENS  \\\n",
              "0           123687442     0.0               Cash      M        1.0   \n",
              "1           123597908     1.0               Cash     No       -1.0   \n",
              "\n",
              "   TOTAL_SALARY  AMOUNT_CREDIT  AMOUNT_ANNUITY                EDUCATION_LEVEL  \\\n",
              "0      157500.0       855000.0         25128.0  Secondary / secondary special   \n",
              "1          -1.0           -1.0            -1.0                             No   \n",
              "\n",
              "  FAMILY_STATUS  REGION_POPULATION      AGE  DAYS_ON_LAST_JOB  OWN_CAR_AGE  \\\n",
              "0       Married           0.019101  15728.0            1719.0         11.0   \n",
              "1            No          -1.000000     -1.0              -1.0         -1.0   \n",
              "\n",
              "   FLAG_PHONE  FLAG_EMAIL  FAMILY_SIZE  EXTERNAL_SCORING_RATING_1  \\\n",
              "0         0.0         0.0          3.0                   0.700784   \n",
              "1        -1.0        -1.0         -1.0                  -1.000000   \n",
              "\n",
              "   EXTERNAL_SCORING_RATING_2  EXTERNAL_SCORING_RATING_3  \\\n",
              "0                   0.645914                    0.71657   \n",
              "1                  -1.000000                   -1.00000   \n",
              "\n",
              "   AMT_REQ_CREDIT_BUREAU_HOUR  AMT_REQ_CREDIT_BUREAU_DAY  \\\n",
              "0                         0.0                        0.0   \n",
              "1                        -1.0                       -1.0   \n",
              "\n",
              "   AMT_REQ_CREDIT_BUREAU_WEEK  AMT_REQ_CREDIT_BUREAU_MON  \\\n",
              "0                         1.0                        0.0   \n",
              "1                        -1.0                       -1.0   \n",
              "\n",
              "   AMT_REQ_CREDIT_BUREAU_QRT  AMT_REQ_CREDIT_BUREAU_YEAR  \\\n",
              "0                        0.0                         2.0   \n",
              "1                       -1.0                        -1.0   \n",
              "\n",
              "   EXTERNAL_SCORING_PROD  EXTERNAL_SCORING_WEIGHTED  \\\n",
              "0               0.324353                   4.197193   \n",
              "1              -1.000000                  -1.000000   \n",
              "\n",
              "   EXTERNAL_SCORING_RATING_min  EXTERNAL_SCORING_RATING_max  \\\n",
              "0                     0.645914                      0.71657   \n",
              "1                    -1.000000                     -1.00000   \n",
              "\n",
              "   EXTERNAL_SCORING_RATING_mean  EXTERNAL_SCORING_RATING_nanmedian  \\\n",
              "0                      0.687756                           0.700784   \n",
              "1                     -1.000000                          -1.000000   \n",
              "\n",
              "   EXTERNAL_SCORING_RATING_var  RATIO_CREDIT_TO_ANNUITY  \\\n",
              "0                     0.000917                34.025788   \n",
              "1                    -1.000000                -1.000000   \n",
              "\n",
              "   RATIO_ANNUITY_TO_SALARY  RATIO_CREDIT_TO_SALARY  EXPECTED_TOTAL_LOSS_1  \\\n",
              "0                 0.159543                5.428571          599170.547652   \n",
              "1                -1.000000               -1.000000              -1.000000   \n",
              "\n",
              "   EXPECTED_TOTAL_LOSS_2  EXPECTED_TOTAL_LOSS_3  EXPECTED_MONTHLY_LOSS_1  \\\n",
              "0          552256.266546          612667.559305             17609.307043   \n",
              "1              -1.000000              -1.000000                -1.000000   \n",
              "\n",
              "   EXPECTED_MONTHLY_LOSS_2  EXPECTED_MONTHLY_LOSS_3  \n",
              "0             16230.521013             18005.977111  \n",
              "1                -1.000000                -1.000000  "
            ]
          },
          "metadata": {
            "tags": []
          },
          "execution_count": 190
        }
      ]
    },
    {
      "cell_type": "code",
      "metadata": {
        "id": "E6snj_dH6ZEf",
        "trusted": true,
        "outputId": "9f5386d0-4392-44e2-f89f-3f91c5bca41c",
        "colab": {
          "base_uri": "https://localhost:8080/",
          "height": 850
        }
      },
      "source": [
        "data.info()"
      ],
      "execution_count": 191,
      "outputs": [
        {
          "output_type": "stream",
          "text": [
            "<class 'pandas.core.frame.DataFrame'>\n",
            "Int64Index: 275234 entries, 0 to 275233\n",
            "Data columns (total 42 columns):\n",
            " #   Column                             Non-Null Count   Dtype  \n",
            "---  ------                             --------------   -----  \n",
            " 0   APPLICATION_NUMBER                 275234 non-null  int64  \n",
            " 1   TARGET                             275234 non-null  float64\n",
            " 2   NAME_CONTRACT_TYPE                 275234 non-null  object \n",
            " 3   GENDER                             275234 non-null  object \n",
            " 4   CHILDRENS                          275234 non-null  float64\n",
            " 5   TOTAL_SALARY                       275234 non-null  float64\n",
            " 6   AMOUNT_CREDIT                      275234 non-null  float64\n",
            " 7   AMOUNT_ANNUITY                     275234 non-null  float64\n",
            " 8   EDUCATION_LEVEL                    275234 non-null  object \n",
            " 9   FAMILY_STATUS                      275234 non-null  object \n",
            " 10  REGION_POPULATION                  275234 non-null  float64\n",
            " 11  AGE                                275234 non-null  float64\n",
            " 12  DAYS_ON_LAST_JOB                   275234 non-null  float64\n",
            " 13  OWN_CAR_AGE                        275234 non-null  float64\n",
            " 14  FLAG_PHONE                         275234 non-null  float64\n",
            " 15  FLAG_EMAIL                         275234 non-null  float64\n",
            " 16  FAMILY_SIZE                        275234 non-null  float64\n",
            " 17  EXTERNAL_SCORING_RATING_1          275234 non-null  float64\n",
            " 18  EXTERNAL_SCORING_RATING_2          275234 non-null  float64\n",
            " 19  EXTERNAL_SCORING_RATING_3          275234 non-null  float64\n",
            " 20  AMT_REQ_CREDIT_BUREAU_HOUR         275234 non-null  float64\n",
            " 21  AMT_REQ_CREDIT_BUREAU_DAY          275234 non-null  float64\n",
            " 22  AMT_REQ_CREDIT_BUREAU_WEEK         275234 non-null  float64\n",
            " 23  AMT_REQ_CREDIT_BUREAU_MON          275234 non-null  float64\n",
            " 24  AMT_REQ_CREDIT_BUREAU_QRT          275234 non-null  float64\n",
            " 25  AMT_REQ_CREDIT_BUREAU_YEAR         275234 non-null  float64\n",
            " 26  EXTERNAL_SCORING_PROD              275234 non-null  float64\n",
            " 27  EXTERNAL_SCORING_WEIGHTED          275234 non-null  float64\n",
            " 28  EXTERNAL_SCORING_RATING_min        275234 non-null  float64\n",
            " 29  EXTERNAL_SCORING_RATING_max        275234 non-null  float64\n",
            " 30  EXTERNAL_SCORING_RATING_mean       275234 non-null  float64\n",
            " 31  EXTERNAL_SCORING_RATING_nanmedian  275234 non-null  float64\n",
            " 32  EXTERNAL_SCORING_RATING_var        275234 non-null  float64\n",
            " 33  RATIO_CREDIT_TO_ANNUITY            275234 non-null  float64\n",
            " 34  RATIO_ANNUITY_TO_SALARY            275234 non-null  float64\n",
            " 35  RATIO_CREDIT_TO_SALARY             275234 non-null  float64\n",
            " 36  EXPECTED_TOTAL_LOSS_1              275234 non-null  float64\n",
            " 37  EXPECTED_TOTAL_LOSS_2              275234 non-null  float64\n",
            " 38  EXPECTED_TOTAL_LOSS_3              275234 non-null  float64\n",
            " 39  EXPECTED_MONTHLY_LOSS_1            275234 non-null  float64\n",
            " 40  EXPECTED_MONTHLY_LOSS_2            275234 non-null  float64\n",
            " 41  EXPECTED_MONTHLY_LOSS_3            275234 non-null  float64\n",
            "dtypes: float64(37), int64(1), object(4)\n",
            "memory usage: 90.3+ MB\n"
          ],
          "name": "stdout"
        }
      ]
    },
    {
      "cell_type": "markdown",
      "metadata": {
        "id": "VtwwnBli6ZEr"
      },
      "source": [
        "### Ratios"
      ]
    },
    {
      "cell_type": "code",
      "metadata": {
        "id": "nE7k18OF6ZEs",
        "trusted": true
      },
      "source": [
        "# #финансовые признаки\n",
        "# data[\"RATIO_SALARY_TO_AMOUNT_CREDIT\"] = data[\"TOTAL_SALARY\"] / data[\"AMOUNT_CREDIT\"]\n",
        "# data[\"RATIO_AMOUNT_ANNUITY_TO_SALARY\"] = data[\"AMOUNT_ANNUITY\"] / data[\"TOTAL_SALARY\"]\n",
        "\n",
        "# # семейные признаки\n",
        "# data[\"RATIO_SALARY_TO_PER_FAMILY_SIZE\"] = data[\"TOTAL_SALARY\"] / data[\"FAMILY_SIZE\"]\n",
        "\n",
        "# # флаги\n",
        "# data[\"FLG_MORE_THAN_30PERCENT_FOR_CREDIT\"] = np.where(\n",
        "#     data[\"RATIO_AMOUNT_ANNUITY_TO_SALARY\"] > 0.42, 1, 0\n",
        "# )"
      ],
      "execution_count": 192,
      "outputs": []
    },
    {
      "cell_type": "markdown",
      "metadata": {
        "id": "WGKeWB816ZEu"
      },
      "source": [
        "### Features Interaction"
      ]
    },
    {
      "cell_type": "code",
      "metadata": {
        "id": "qHXkiQoH6ZEv",
        "trusted": true
      },
      "source": [
        "data[\"EDUCATION_FAMILY_STATUS\"] = data[\"EDUCATION_LEVEL\"] + \" | \" + data[\"FAMILY_STATUS\"]"
      ],
      "execution_count": 193,
      "outputs": []
    },
    {
      "cell_type": "code",
      "metadata": {
        "id": "Z4rSdWEL6ZEy",
        "trusted": true,
        "outputId": "3b6bc16b-45cf-4dbe-d191-b9de37a89996",
        "colab": {
          "base_uri": "https://localhost:8080/",
          "height": 34
        }
      },
      "source": [
        "data.shape"
      ],
      "execution_count": 194,
      "outputs": [
        {
          "output_type": "execute_result",
          "data": {
            "text/plain": [
              "(275234, 43)"
            ]
          },
          "metadata": {
            "tags": []
          },
          "execution_count": 194
        }
      ]
    },
    {
      "cell_type": "markdown",
      "metadata": {
        "id": "fMBnBPcL6ZE1"
      },
      "source": [
        "### Ещё раз заполняем пропуски"
      ]
    },
    {
      "cell_type": "code",
      "metadata": {
        "trusted": true,
        "id": "2g4rwOfvACo2"
      },
      "source": [
        "data = data.replace(np.inf, np.nan)\n",
        "data = data.replace(-np.inf, np.nan)"
      ],
      "execution_count": 195,
      "outputs": []
    },
    {
      "cell_type": "code",
      "metadata": {
        "id": "V2Epzv7I6ZE2",
        "trusted": true
      },
      "source": [
        "for col in data.select_dtypes(exclude=['object']).columns:\n",
        "    data.loc[data[col].isnull(), col] = -1"
      ],
      "execution_count": 196,
      "outputs": []
    },
    {
      "cell_type": "code",
      "metadata": {
        "id": "WScvSyf86ZE7",
        "trusted": true,
        "outputId": "62dc3eb4-24f0-4bf8-e50c-65ba4717ca7c",
        "colab": {
          "base_uri": "https://localhost:8080/",
          "height": 148
        }
      },
      "source": [
        "data.head(2)"
      ],
      "execution_count": 197,
      "outputs": [
        {
          "output_type": "execute_result",
          "data": {
            "text/html": [
              "<div>\n",
              "<style scoped>\n",
              "    .dataframe tbody tr th:only-of-type {\n",
              "        vertical-align: middle;\n",
              "    }\n",
              "\n",
              "    .dataframe tbody tr th {\n",
              "        vertical-align: top;\n",
              "    }\n",
              "\n",
              "    .dataframe thead th {\n",
              "        text-align: right;\n",
              "    }\n",
              "</style>\n",
              "<table border=\"1\" class=\"dataframe\">\n",
              "  <thead>\n",
              "    <tr style=\"text-align: right;\">\n",
              "      <th></th>\n",
              "      <th>APPLICATION_NUMBER</th>\n",
              "      <th>TARGET</th>\n",
              "      <th>NAME_CONTRACT_TYPE</th>\n",
              "      <th>GENDER</th>\n",
              "      <th>CHILDRENS</th>\n",
              "      <th>TOTAL_SALARY</th>\n",
              "      <th>AMOUNT_CREDIT</th>\n",
              "      <th>AMOUNT_ANNUITY</th>\n",
              "      <th>EDUCATION_LEVEL</th>\n",
              "      <th>FAMILY_STATUS</th>\n",
              "      <th>REGION_POPULATION</th>\n",
              "      <th>AGE</th>\n",
              "      <th>DAYS_ON_LAST_JOB</th>\n",
              "      <th>OWN_CAR_AGE</th>\n",
              "      <th>FLAG_PHONE</th>\n",
              "      <th>FLAG_EMAIL</th>\n",
              "      <th>FAMILY_SIZE</th>\n",
              "      <th>EXTERNAL_SCORING_RATING_1</th>\n",
              "      <th>EXTERNAL_SCORING_RATING_2</th>\n",
              "      <th>EXTERNAL_SCORING_RATING_3</th>\n",
              "      <th>AMT_REQ_CREDIT_BUREAU_HOUR</th>\n",
              "      <th>AMT_REQ_CREDIT_BUREAU_DAY</th>\n",
              "      <th>AMT_REQ_CREDIT_BUREAU_WEEK</th>\n",
              "      <th>AMT_REQ_CREDIT_BUREAU_MON</th>\n",
              "      <th>AMT_REQ_CREDIT_BUREAU_QRT</th>\n",
              "      <th>AMT_REQ_CREDIT_BUREAU_YEAR</th>\n",
              "      <th>EXTERNAL_SCORING_PROD</th>\n",
              "      <th>EXTERNAL_SCORING_WEIGHTED</th>\n",
              "      <th>EXTERNAL_SCORING_RATING_min</th>\n",
              "      <th>EXTERNAL_SCORING_RATING_max</th>\n",
              "      <th>EXTERNAL_SCORING_RATING_mean</th>\n",
              "      <th>EXTERNAL_SCORING_RATING_nanmedian</th>\n",
              "      <th>EXTERNAL_SCORING_RATING_var</th>\n",
              "      <th>RATIO_CREDIT_TO_ANNUITY</th>\n",
              "      <th>RATIO_ANNUITY_TO_SALARY</th>\n",
              "      <th>RATIO_CREDIT_TO_SALARY</th>\n",
              "      <th>EXPECTED_TOTAL_LOSS_1</th>\n",
              "      <th>EXPECTED_TOTAL_LOSS_2</th>\n",
              "      <th>EXPECTED_TOTAL_LOSS_3</th>\n",
              "      <th>EXPECTED_MONTHLY_LOSS_1</th>\n",
              "      <th>EXPECTED_MONTHLY_LOSS_2</th>\n",
              "      <th>EXPECTED_MONTHLY_LOSS_3</th>\n",
              "      <th>EDUCATION_FAMILY_STATUS</th>\n",
              "    </tr>\n",
              "  </thead>\n",
              "  <tbody>\n",
              "    <tr>\n",
              "      <th>0</th>\n",
              "      <td>123687442</td>\n",
              "      <td>0.0</td>\n",
              "      <td>Cash</td>\n",
              "      <td>M</td>\n",
              "      <td>1.0</td>\n",
              "      <td>157500.0</td>\n",
              "      <td>855000.0</td>\n",
              "      <td>25128.0</td>\n",
              "      <td>Secondary / secondary special</td>\n",
              "      <td>Married</td>\n",
              "      <td>0.019101</td>\n",
              "      <td>15728.0</td>\n",
              "      <td>1719.0</td>\n",
              "      <td>11.0</td>\n",
              "      <td>0.0</td>\n",
              "      <td>0.0</td>\n",
              "      <td>3.0</td>\n",
              "      <td>0.700784</td>\n",
              "      <td>0.645914</td>\n",
              "      <td>0.71657</td>\n",
              "      <td>0.0</td>\n",
              "      <td>0.0</td>\n",
              "      <td>1.0</td>\n",
              "      <td>0.0</td>\n",
              "      <td>0.0</td>\n",
              "      <td>2.0</td>\n",
              "      <td>0.324353</td>\n",
              "      <td>4.197193</td>\n",
              "      <td>0.645914</td>\n",
              "      <td>0.71657</td>\n",
              "      <td>0.687756</td>\n",
              "      <td>0.700784</td>\n",
              "      <td>0.000917</td>\n",
              "      <td>34.025788</td>\n",
              "      <td>0.159543</td>\n",
              "      <td>5.428571</td>\n",
              "      <td>599170.547652</td>\n",
              "      <td>552256.266546</td>\n",
              "      <td>612667.559305</td>\n",
              "      <td>17609.307043</td>\n",
              "      <td>16230.521013</td>\n",
              "      <td>18005.977111</td>\n",
              "      <td>Secondary / secondary special | Married</td>\n",
              "    </tr>\n",
              "    <tr>\n",
              "      <th>1</th>\n",
              "      <td>123597908</td>\n",
              "      <td>1.0</td>\n",
              "      <td>Cash</td>\n",
              "      <td>No</td>\n",
              "      <td>-1.0</td>\n",
              "      <td>-1.0</td>\n",
              "      <td>-1.0</td>\n",
              "      <td>-1.0</td>\n",
              "      <td>No</td>\n",
              "      <td>No</td>\n",
              "      <td>-1.000000</td>\n",
              "      <td>-1.0</td>\n",
              "      <td>-1.0</td>\n",
              "      <td>-1.0</td>\n",
              "      <td>-1.0</td>\n",
              "      <td>-1.0</td>\n",
              "      <td>-1.0</td>\n",
              "      <td>-1.000000</td>\n",
              "      <td>-1.000000</td>\n",
              "      <td>-1.00000</td>\n",
              "      <td>-1.0</td>\n",
              "      <td>-1.0</td>\n",
              "      <td>-1.0</td>\n",
              "      <td>-1.0</td>\n",
              "      <td>-1.0</td>\n",
              "      <td>-1.0</td>\n",
              "      <td>-1.000000</td>\n",
              "      <td>-1.000000</td>\n",
              "      <td>-1.000000</td>\n",
              "      <td>-1.00000</td>\n",
              "      <td>-1.000000</td>\n",
              "      <td>-1.000000</td>\n",
              "      <td>-1.000000</td>\n",
              "      <td>-1.000000</td>\n",
              "      <td>-1.000000</td>\n",
              "      <td>-1.000000</td>\n",
              "      <td>-1.000000</td>\n",
              "      <td>-1.000000</td>\n",
              "      <td>-1.000000</td>\n",
              "      <td>-1.000000</td>\n",
              "      <td>-1.000000</td>\n",
              "      <td>-1.000000</td>\n",
              "      <td>No | No</td>\n",
              "    </tr>\n",
              "  </tbody>\n",
              "</table>\n",
              "</div>"
            ],
            "text/plain": [
              "   APPLICATION_NUMBER  TARGET NAME_CONTRACT_TYPE GENDER  CHILDRENS  \\\n",
              "0           123687442     0.0               Cash      M        1.0   \n",
              "1           123597908     1.0               Cash     No       -1.0   \n",
              "\n",
              "   TOTAL_SALARY  AMOUNT_CREDIT  AMOUNT_ANNUITY                EDUCATION_LEVEL  \\\n",
              "0      157500.0       855000.0         25128.0  Secondary / secondary special   \n",
              "1          -1.0           -1.0            -1.0                             No   \n",
              "\n",
              "  FAMILY_STATUS  REGION_POPULATION      AGE  DAYS_ON_LAST_JOB  OWN_CAR_AGE  \\\n",
              "0       Married           0.019101  15728.0            1719.0         11.0   \n",
              "1            No          -1.000000     -1.0              -1.0         -1.0   \n",
              "\n",
              "   FLAG_PHONE  FLAG_EMAIL  FAMILY_SIZE  EXTERNAL_SCORING_RATING_1  \\\n",
              "0         0.0         0.0          3.0                   0.700784   \n",
              "1        -1.0        -1.0         -1.0                  -1.000000   \n",
              "\n",
              "   EXTERNAL_SCORING_RATING_2  EXTERNAL_SCORING_RATING_3  \\\n",
              "0                   0.645914                    0.71657   \n",
              "1                  -1.000000                   -1.00000   \n",
              "\n",
              "   AMT_REQ_CREDIT_BUREAU_HOUR  AMT_REQ_CREDIT_BUREAU_DAY  \\\n",
              "0                         0.0                        0.0   \n",
              "1                        -1.0                       -1.0   \n",
              "\n",
              "   AMT_REQ_CREDIT_BUREAU_WEEK  AMT_REQ_CREDIT_BUREAU_MON  \\\n",
              "0                         1.0                        0.0   \n",
              "1                        -1.0                       -1.0   \n",
              "\n",
              "   AMT_REQ_CREDIT_BUREAU_QRT  AMT_REQ_CREDIT_BUREAU_YEAR  \\\n",
              "0                        0.0                         2.0   \n",
              "1                       -1.0                        -1.0   \n",
              "\n",
              "   EXTERNAL_SCORING_PROD  EXTERNAL_SCORING_WEIGHTED  \\\n",
              "0               0.324353                   4.197193   \n",
              "1              -1.000000                  -1.000000   \n",
              "\n",
              "   EXTERNAL_SCORING_RATING_min  EXTERNAL_SCORING_RATING_max  \\\n",
              "0                     0.645914                      0.71657   \n",
              "1                    -1.000000                     -1.00000   \n",
              "\n",
              "   EXTERNAL_SCORING_RATING_mean  EXTERNAL_SCORING_RATING_nanmedian  \\\n",
              "0                      0.687756                           0.700784   \n",
              "1                     -1.000000                          -1.000000   \n",
              "\n",
              "   EXTERNAL_SCORING_RATING_var  RATIO_CREDIT_TO_ANNUITY  \\\n",
              "0                     0.000917                34.025788   \n",
              "1                    -1.000000                -1.000000   \n",
              "\n",
              "   RATIO_ANNUITY_TO_SALARY  RATIO_CREDIT_TO_SALARY  EXPECTED_TOTAL_LOSS_1  \\\n",
              "0                 0.159543                5.428571          599170.547652   \n",
              "1                -1.000000               -1.000000              -1.000000   \n",
              "\n",
              "   EXPECTED_TOTAL_LOSS_2  EXPECTED_TOTAL_LOSS_3  EXPECTED_MONTHLY_LOSS_1  \\\n",
              "0          552256.266546          612667.559305             17609.307043   \n",
              "1              -1.000000              -1.000000                -1.000000   \n",
              "\n",
              "   EXPECTED_MONTHLY_LOSS_2  EXPECTED_MONTHLY_LOSS_3  \\\n",
              "0             16230.521013             18005.977111   \n",
              "1                -1.000000                -1.000000   \n",
              "\n",
              "                   EDUCATION_FAMILY_STATUS  \n",
              "0  Secondary / secondary special | Married  \n",
              "1                                  No | No  "
            ]
          },
          "metadata": {
            "tags": []
          },
          "execution_count": 197
        }
      ]
    },
    {
      "cell_type": "markdown",
      "metadata": {
        "id": "d9NhoAWs6ZFA"
      },
      "source": [
        "### Преобразуем категориальные признаки в числовые"
      ]
    },
    {
      "cell_type": "code",
      "metadata": {
        "id": "hpW01veNUSNg",
        "trusted": true
      },
      "source": [
        "data_cat = data.copy()"
      ],
      "execution_count": 198,
      "outputs": []
    },
    {
      "cell_type": "code",
      "metadata": {
        "scrolled": false,
        "id": "07PZp9mh6ZFB",
        "trusted": true
      },
      "source": [
        "obj_col = data.select_dtypes(exclude=[np.number])"
      ],
      "execution_count": 199,
      "outputs": []
    },
    {
      "cell_type": "code",
      "metadata": {
        "scrolled": false,
        "id": "0EVrvSo86ZFH",
        "trusted": true,
        "outputId": "ad985589-8363-454a-f154-21283c4f2e61",
        "colab": {
          "base_uri": "https://localhost:8080/",
          "height": 1000
        }
      },
      "source": [
        "if not obj_col.empty:\n",
        "    data_obj_discribe(data)"
      ],
      "execution_count": 200,
      "outputs": [
        {
          "output_type": "stream",
          "text": [
            "****************************************************************************************************\n",
            "NAME_CONTRACT_TYPE\n",
            "\n",
            "['Cash' 'Credit Card']\n",
            "\n",
            "\n",
            "NAME_CONTRACT_TYPE\n",
            "Cash           248983\n",
            "Credit Card     26251\n",
            "Name: NAME_CONTRACT_TYPE, dtype: int64\n",
            "****************************************************************************************************\n",
            "\n",
            "GENDER\n",
            "\n",
            "['M' 'No' 'F' 'XNA']\n",
            "\n",
            "\n",
            "GENDER\n",
            "F      147444\n",
            "M       76267\n",
            "No      51519\n",
            "XNA         4\n",
            "Name: GENDER, dtype: int64\n",
            "****************************************************************************************************\n",
            "\n",
            "EDUCATION_LEVEL\n",
            "\n",
            "['Secondary / secondary special' 'No' 'Higher education' 'Lower secondary'\n",
            " 'Incomplete higher' 'Academic degree']\n",
            "\n",
            "\n",
            "EDUCATION_LEVEL\n",
            "Academic degree                     120\n",
            "Higher education                  54516\n",
            "Incomplete higher                  7456\n",
            "Lower secondary                    2736\n",
            "No                                51519\n",
            "Secondary / secondary special    158887\n",
            "Name: EDUCATION_LEVEL, dtype: int64\n",
            "****************************************************************************************************\n",
            "\n",
            "FAMILY_STATUS\n",
            "\n",
            "['Married' 'No' 'Single / not married' 'Separated' 'Civil marriage'\n",
            " 'Widow' 'Unknown']\n",
            "\n",
            "\n",
            "FAMILY_STATUS\n",
            "Civil marriage           21687\n",
            "Married                 143149\n",
            "No                       51519\n",
            "Separated                14295\n",
            "Single / not married     32888\n",
            "Unknown                      2\n",
            "Widow                    11694\n",
            "Name: FAMILY_STATUS, dtype: int64\n",
            "****************************************************************************************************\n",
            "\n",
            "EDUCATION_FAMILY_STATUS\n",
            "\n",
            "['Secondary / secondary special | Married' 'No | No'\n",
            " 'Higher education | Married'\n",
            " 'Secondary / secondary special | Single / not married'\n",
            " 'Higher education | Single / not married' 'Higher education | Separated'\n",
            " 'Lower secondary | Married'\n",
            " 'Secondary / secondary special | Civil marriage'\n",
            " 'Secondary / secondary special | Widow' 'Lower secondary | Widow'\n",
            " 'Incomplete higher | Married' 'Secondary / secondary special | Separated'\n",
            " 'Higher education | Widow' 'Incomplete higher | Separated'\n",
            " 'Higher education | Civil marriage' 'Incomplete higher | Widow'\n",
            " 'Incomplete higher | Single / not married'\n",
            " 'Lower secondary | Single / not married' 'Academic degree | Widow'\n",
            " 'Incomplete higher | Civil marriage' 'Lower secondary | Separated'\n",
            " 'Academic degree | Married' 'Lower secondary | Civil marriage'\n",
            " 'Academic degree | Separated' 'Academic degree | Single / not married'\n",
            " 'Lower secondary | Unknown' 'Academic degree | Civil marriage'\n",
            " 'Higher education | Unknown']\n",
            "\n",
            "\n",
            "EDUCATION_FAMILY_STATUS\n",
            "Academic degree | Civil marriage                             6\n",
            "Academic degree | Married                                   77\n",
            "Academic degree | Separated                                 12\n",
            "Academic degree | Single / not married                      20\n",
            "Academic degree | Widow                                      5\n",
            "Higher education | Civil marriage                         4488\n",
            "Higher education | Married                               35564\n",
            "Higher education | Separated                              3673\n",
            "Higher education | Single / not married                   9108\n",
            "Higher education | Unknown                                   1\n",
            "Higher education | Widow                                  1682\n",
            "Incomplete higher | Civil marriage                         819\n",
            "Incomplete higher | Married                               4084\n",
            "Incomplete higher | Separated                              394\n",
            "Incomplete higher | Single / not married                  2023\n",
            "Incomplete higher | Widow                                  136\n",
            "Lower secondary | Civil marriage                           296\n",
            "Lower secondary | Married                                 1572\n",
            "Lower secondary | Separated                                160\n",
            "Lower secondary | Single / not married                     406\n",
            "Lower secondary | Unknown                                    1\n",
            "Lower secondary | Widow                                    301\n",
            "No | No                                                  51519\n",
            "Secondary / secondary special | Civil marriage           16078\n",
            "Secondary / secondary special | Married                 101852\n",
            "Secondary / secondary special | Separated                10056\n",
            "Secondary / secondary special | Single / not married     21331\n",
            "Secondary / secondary special | Widow                     9570\n",
            "Name: EDUCATION_FAMILY_STATUS, dtype: int64\n",
            "****************************************************************************************************\n",
            "\n"
          ],
          "name": "stdout"
        }
      ]
    },
    {
      "cell_type": "code",
      "metadata": {
        "id": "m7dqiS-z6ZFL",
        "trusted": true
      },
      "source": [
        "def data_obj_map(data: pd.DataFrame):\n",
        "# если столбец имеет тип 'object' и содержит менее 30 уникальных \n",
        "# преобразует категориальные признак в числовые\n",
        "\n",
        "    # data: pd.DataFrame исходный датафрейм\n",
        "    \n",
        "    # изменяет датафрейм источник\n",
        "    \n",
        "    obj_fit = data.select_dtypes(include='object')\n",
        "    for cat_colname in obj_fit.columns:\n",
        "        map_tr = {}\n",
        "        un_val = obj_fit[cat_colname].unique()\n",
        "        if len(un_val) < 30:\n",
        "            print(str(cat_colname) + '\\n')\n",
        "            for i in range(len(un_val)):\n",
        "                map_tr[un_val[i]] = i\n",
        "            print(map_tr)\n",
        "            data[cat_colname] = data[cat_colname].map(map_tr)\n",
        "            print('*' * 100 + '\\n')"
      ],
      "execution_count": 201,
      "outputs": []
    },
    {
      "cell_type": "code",
      "metadata": {
        "id": "y0SSKLeq6ZFP",
        "trusted": true,
        "outputId": "5b15286f-65e9-4ce4-cf3f-fc1b15136081",
        "colab": {
          "base_uri": "https://localhost:8080/",
          "height": 462
        }
      },
      "source": [
        "if not obj_col.empty:\n",
        "    data_obj_map(data)"
      ],
      "execution_count": 202,
      "outputs": [
        {
          "output_type": "stream",
          "text": [
            "NAME_CONTRACT_TYPE\n",
            "\n",
            "{'Cash': 0, 'Credit Card': 1}\n",
            "****************************************************************************************************\n",
            "\n",
            "GENDER\n",
            "\n",
            "{'M': 0, 'No': 1, 'F': 2, 'XNA': 3}\n",
            "****************************************************************************************************\n",
            "\n",
            "EDUCATION_LEVEL\n",
            "\n",
            "{'Secondary / secondary special': 0, 'No': 1, 'Higher education': 2, 'Lower secondary': 3, 'Incomplete higher': 4, 'Academic degree': 5}\n",
            "****************************************************************************************************\n",
            "\n",
            "FAMILY_STATUS\n",
            "\n",
            "{'Married': 0, 'No': 1, 'Single / not married': 2, 'Separated': 3, 'Civil marriage': 4, 'Widow': 5, 'Unknown': 6}\n",
            "****************************************************************************************************\n",
            "\n",
            "EDUCATION_FAMILY_STATUS\n",
            "\n",
            "{'Secondary / secondary special | Married': 0, 'No | No': 1, 'Higher education | Married': 2, 'Secondary / secondary special | Single / not married': 3, 'Higher education | Single / not married': 4, 'Higher education | Separated': 5, 'Lower secondary | Married': 6, 'Secondary / secondary special | Civil marriage': 7, 'Secondary / secondary special | Widow': 8, 'Lower secondary | Widow': 9, 'Incomplete higher | Married': 10, 'Secondary / secondary special | Separated': 11, 'Higher education | Widow': 12, 'Incomplete higher | Separated': 13, 'Higher education | Civil marriage': 14, 'Incomplete higher | Widow': 15, 'Incomplete higher | Single / not married': 16, 'Lower secondary | Single / not married': 17, 'Academic degree | Widow': 18, 'Incomplete higher | Civil marriage': 19, 'Lower secondary | Separated': 20, 'Academic degree | Married': 21, 'Lower secondary | Civil marriage': 22, 'Academic degree | Separated': 23, 'Academic degree | Single / not married': 24, 'Lower secondary | Unknown': 25, 'Academic degree | Civil marriage': 26, 'Higher education | Unknown': 27}\n",
            "****************************************************************************************************\n",
            "\n"
          ],
          "name": "stdout"
        }
      ]
    },
    {
      "cell_type": "code",
      "metadata": {
        "id": "6Sz3xYb-6ZFS",
        "trusted": true,
        "outputId": "508feb56-8dea-4661-f68d-fdf64b5c4f5e",
        "colab": {
          "base_uri": "https://localhost:8080/",
          "height": 224
        }
      },
      "source": [
        "data.head()"
      ],
      "execution_count": 203,
      "outputs": [
        {
          "output_type": "execute_result",
          "data": {
            "text/html": [
              "<div>\n",
              "<style scoped>\n",
              "    .dataframe tbody tr th:only-of-type {\n",
              "        vertical-align: middle;\n",
              "    }\n",
              "\n",
              "    .dataframe tbody tr th {\n",
              "        vertical-align: top;\n",
              "    }\n",
              "\n",
              "    .dataframe thead th {\n",
              "        text-align: right;\n",
              "    }\n",
              "</style>\n",
              "<table border=\"1\" class=\"dataframe\">\n",
              "  <thead>\n",
              "    <tr style=\"text-align: right;\">\n",
              "      <th></th>\n",
              "      <th>APPLICATION_NUMBER</th>\n",
              "      <th>TARGET</th>\n",
              "      <th>NAME_CONTRACT_TYPE</th>\n",
              "      <th>GENDER</th>\n",
              "      <th>CHILDRENS</th>\n",
              "      <th>TOTAL_SALARY</th>\n",
              "      <th>AMOUNT_CREDIT</th>\n",
              "      <th>AMOUNT_ANNUITY</th>\n",
              "      <th>EDUCATION_LEVEL</th>\n",
              "      <th>FAMILY_STATUS</th>\n",
              "      <th>REGION_POPULATION</th>\n",
              "      <th>AGE</th>\n",
              "      <th>DAYS_ON_LAST_JOB</th>\n",
              "      <th>OWN_CAR_AGE</th>\n",
              "      <th>FLAG_PHONE</th>\n",
              "      <th>FLAG_EMAIL</th>\n",
              "      <th>FAMILY_SIZE</th>\n",
              "      <th>EXTERNAL_SCORING_RATING_1</th>\n",
              "      <th>EXTERNAL_SCORING_RATING_2</th>\n",
              "      <th>EXTERNAL_SCORING_RATING_3</th>\n",
              "      <th>AMT_REQ_CREDIT_BUREAU_HOUR</th>\n",
              "      <th>AMT_REQ_CREDIT_BUREAU_DAY</th>\n",
              "      <th>AMT_REQ_CREDIT_BUREAU_WEEK</th>\n",
              "      <th>AMT_REQ_CREDIT_BUREAU_MON</th>\n",
              "      <th>AMT_REQ_CREDIT_BUREAU_QRT</th>\n",
              "      <th>AMT_REQ_CREDIT_BUREAU_YEAR</th>\n",
              "      <th>EXTERNAL_SCORING_PROD</th>\n",
              "      <th>EXTERNAL_SCORING_WEIGHTED</th>\n",
              "      <th>EXTERNAL_SCORING_RATING_min</th>\n",
              "      <th>EXTERNAL_SCORING_RATING_max</th>\n",
              "      <th>EXTERNAL_SCORING_RATING_mean</th>\n",
              "      <th>EXTERNAL_SCORING_RATING_nanmedian</th>\n",
              "      <th>EXTERNAL_SCORING_RATING_var</th>\n",
              "      <th>RATIO_CREDIT_TO_ANNUITY</th>\n",
              "      <th>RATIO_ANNUITY_TO_SALARY</th>\n",
              "      <th>RATIO_CREDIT_TO_SALARY</th>\n",
              "      <th>EXPECTED_TOTAL_LOSS_1</th>\n",
              "      <th>EXPECTED_TOTAL_LOSS_2</th>\n",
              "      <th>EXPECTED_TOTAL_LOSS_3</th>\n",
              "      <th>EXPECTED_MONTHLY_LOSS_1</th>\n",
              "      <th>EXPECTED_MONTHLY_LOSS_2</th>\n",
              "      <th>EXPECTED_MONTHLY_LOSS_3</th>\n",
              "      <th>EDUCATION_FAMILY_STATUS</th>\n",
              "    </tr>\n",
              "  </thead>\n",
              "  <tbody>\n",
              "    <tr>\n",
              "      <th>0</th>\n",
              "      <td>123687442</td>\n",
              "      <td>0.0</td>\n",
              "      <td>0</td>\n",
              "      <td>0</td>\n",
              "      <td>1.0</td>\n",
              "      <td>157500.0</td>\n",
              "      <td>855000.0</td>\n",
              "      <td>25128.0</td>\n",
              "      <td>0</td>\n",
              "      <td>0</td>\n",
              "      <td>0.019101</td>\n",
              "      <td>15728.0</td>\n",
              "      <td>1719.0</td>\n",
              "      <td>11.0</td>\n",
              "      <td>0.0</td>\n",
              "      <td>0.0</td>\n",
              "      <td>3.0</td>\n",
              "      <td>0.700784</td>\n",
              "      <td>0.645914</td>\n",
              "      <td>0.716570</td>\n",
              "      <td>0.0</td>\n",
              "      <td>0.0</td>\n",
              "      <td>1.0</td>\n",
              "      <td>0.0</td>\n",
              "      <td>0.0</td>\n",
              "      <td>2.0</td>\n",
              "      <td>0.324353</td>\n",
              "      <td>4.197193</td>\n",
              "      <td>0.645914</td>\n",
              "      <td>0.716570</td>\n",
              "      <td>0.687756</td>\n",
              "      <td>0.700784</td>\n",
              "      <td>9.169231e-04</td>\n",
              "      <td>34.025788</td>\n",
              "      <td>0.159543</td>\n",
              "      <td>5.428571</td>\n",
              "      <td>599170.547652</td>\n",
              "      <td>552256.266546</td>\n",
              "      <td>612667.559305</td>\n",
              "      <td>17609.307043</td>\n",
              "      <td>16230.521013</td>\n",
              "      <td>18005.977111</td>\n",
              "      <td>0</td>\n",
              "    </tr>\n",
              "    <tr>\n",
              "      <th>1</th>\n",
              "      <td>123597908</td>\n",
              "      <td>1.0</td>\n",
              "      <td>0</td>\n",
              "      <td>1</td>\n",
              "      <td>-1.0</td>\n",
              "      <td>-1.0</td>\n",
              "      <td>-1.0</td>\n",
              "      <td>-1.0</td>\n",
              "      <td>1</td>\n",
              "      <td>1</td>\n",
              "      <td>-1.000000</td>\n",
              "      <td>-1.0</td>\n",
              "      <td>-1.0</td>\n",
              "      <td>-1.0</td>\n",
              "      <td>-1.0</td>\n",
              "      <td>-1.0</td>\n",
              "      <td>-1.0</td>\n",
              "      <td>-1.000000</td>\n",
              "      <td>-1.000000</td>\n",
              "      <td>-1.000000</td>\n",
              "      <td>-1.0</td>\n",
              "      <td>-1.0</td>\n",
              "      <td>-1.0</td>\n",
              "      <td>-1.0</td>\n",
              "      <td>-1.0</td>\n",
              "      <td>-1.0</td>\n",
              "      <td>-1.000000</td>\n",
              "      <td>-1.000000</td>\n",
              "      <td>-1.000000</td>\n",
              "      <td>-1.000000</td>\n",
              "      <td>-1.000000</td>\n",
              "      <td>-1.000000</td>\n",
              "      <td>-1.000000e+00</td>\n",
              "      <td>-1.000000</td>\n",
              "      <td>-1.000000</td>\n",
              "      <td>-1.000000</td>\n",
              "      <td>-1.000000</td>\n",
              "      <td>-1.000000</td>\n",
              "      <td>-1.000000</td>\n",
              "      <td>-1.000000</td>\n",
              "      <td>-1.000000</td>\n",
              "      <td>-1.000000</td>\n",
              "      <td>1</td>\n",
              "    </tr>\n",
              "    <tr>\n",
              "      <th>2</th>\n",
              "      <td>123526683</td>\n",
              "      <td>0.0</td>\n",
              "      <td>0</td>\n",
              "      <td>2</td>\n",
              "      <td>0.0</td>\n",
              "      <td>135000.0</td>\n",
              "      <td>1006920.0</td>\n",
              "      <td>42660.0</td>\n",
              "      <td>2</td>\n",
              "      <td>0</td>\n",
              "      <td>0.026392</td>\n",
              "      <td>21557.0</td>\n",
              "      <td>3618.0</td>\n",
              "      <td>-1.0</td>\n",
              "      <td>1.0</td>\n",
              "      <td>0.0</td>\n",
              "      <td>2.0</td>\n",
              "      <td>-1.000000</td>\n",
              "      <td>0.682149</td>\n",
              "      <td>0.267869</td>\n",
              "      <td>0.0</td>\n",
              "      <td>0.0</td>\n",
              "      <td>0.0</td>\n",
              "      <td>7.0</td>\n",
              "      <td>0.0</td>\n",
              "      <td>4.0</td>\n",
              "      <td>-1.000000</td>\n",
              "      <td>-1.000000</td>\n",
              "      <td>0.267869</td>\n",
              "      <td>0.682149</td>\n",
              "      <td>0.475009</td>\n",
              "      <td>0.475009</td>\n",
              "      <td>4.290708e-02</td>\n",
              "      <td>23.603376</td>\n",
              "      <td>0.316000</td>\n",
              "      <td>7.458667</td>\n",
              "      <td>-1.000000</td>\n",
              "      <td>686869.876357</td>\n",
              "      <td>269722.588880</td>\n",
              "      <td>-1.000000</td>\n",
              "      <td>29100.493510</td>\n",
              "      <td>11427.288803</td>\n",
              "      <td>2</td>\n",
              "    </tr>\n",
              "    <tr>\n",
              "      <th>3</th>\n",
              "      <td>123710391</td>\n",
              "      <td>1.0</td>\n",
              "      <td>0</td>\n",
              "      <td>0</td>\n",
              "      <td>0.0</td>\n",
              "      <td>180000.0</td>\n",
              "      <td>518562.0</td>\n",
              "      <td>22972.5</td>\n",
              "      <td>0</td>\n",
              "      <td>0</td>\n",
              "      <td>0.031329</td>\n",
              "      <td>22338.0</td>\n",
              "      <td>-1.0</td>\n",
              "      <td>-1.0</td>\n",
              "      <td>0.0</td>\n",
              "      <td>0.0</td>\n",
              "      <td>2.0</td>\n",
              "      <td>-1.000000</td>\n",
              "      <td>0.171299</td>\n",
              "      <td>0.170446</td>\n",
              "      <td>0.0</td>\n",
              "      <td>0.0</td>\n",
              "      <td>0.0</td>\n",
              "      <td>0.0</td>\n",
              "      <td>0.0</td>\n",
              "      <td>0.0</td>\n",
              "      <td>-1.000000</td>\n",
              "      <td>-1.000000</td>\n",
              "      <td>0.170446</td>\n",
              "      <td>0.171299</td>\n",
              "      <td>0.170873</td>\n",
              "      <td>0.170873</td>\n",
              "      <td>1.818800e-07</td>\n",
              "      <td>22.573164</td>\n",
              "      <td>0.127625</td>\n",
              "      <td>2.880900</td>\n",
              "      <td>-1.000000</td>\n",
              "      <td>88829.188848</td>\n",
              "      <td>88386.882459</td>\n",
              "      <td>-1.000000</td>\n",
              "      <td>3935.167908</td>\n",
              "      <td>3915.573562</td>\n",
              "      <td>0</td>\n",
              "    </tr>\n",
              "    <tr>\n",
              "      <th>4</th>\n",
              "      <td>123590329</td>\n",
              "      <td>1.0</td>\n",
              "      <td>0</td>\n",
              "      <td>1</td>\n",
              "      <td>-1.0</td>\n",
              "      <td>-1.0</td>\n",
              "      <td>-1.0</td>\n",
              "      <td>-1.0</td>\n",
              "      <td>1</td>\n",
              "      <td>1</td>\n",
              "      <td>-1.000000</td>\n",
              "      <td>-1.0</td>\n",
              "      <td>-1.0</td>\n",
              "      <td>-1.0</td>\n",
              "      <td>-1.0</td>\n",
              "      <td>-1.0</td>\n",
              "      <td>-1.0</td>\n",
              "      <td>-1.000000</td>\n",
              "      <td>-1.000000</td>\n",
              "      <td>-1.000000</td>\n",
              "      <td>-1.0</td>\n",
              "      <td>-1.0</td>\n",
              "      <td>-1.0</td>\n",
              "      <td>-1.0</td>\n",
              "      <td>-1.0</td>\n",
              "      <td>-1.0</td>\n",
              "      <td>-1.000000</td>\n",
              "      <td>-1.000000</td>\n",
              "      <td>-1.000000</td>\n",
              "      <td>-1.000000</td>\n",
              "      <td>-1.000000</td>\n",
              "      <td>-1.000000</td>\n",
              "      <td>-1.000000e+00</td>\n",
              "      <td>-1.000000</td>\n",
              "      <td>-1.000000</td>\n",
              "      <td>-1.000000</td>\n",
              "      <td>-1.000000</td>\n",
              "      <td>-1.000000</td>\n",
              "      <td>-1.000000</td>\n",
              "      <td>-1.000000</td>\n",
              "      <td>-1.000000</td>\n",
              "      <td>-1.000000</td>\n",
              "      <td>1</td>\n",
              "    </tr>\n",
              "  </tbody>\n",
              "</table>\n",
              "</div>"
            ],
            "text/plain": [
              "   APPLICATION_NUMBER  TARGET  NAME_CONTRACT_TYPE  GENDER  CHILDRENS  \\\n",
              "0           123687442     0.0                   0       0        1.0   \n",
              "1           123597908     1.0                   0       1       -1.0   \n",
              "2           123526683     0.0                   0       2        0.0   \n",
              "3           123710391     1.0                   0       0        0.0   \n",
              "4           123590329     1.0                   0       1       -1.0   \n",
              "\n",
              "   TOTAL_SALARY  AMOUNT_CREDIT  AMOUNT_ANNUITY  EDUCATION_LEVEL  \\\n",
              "0      157500.0       855000.0         25128.0                0   \n",
              "1          -1.0           -1.0            -1.0                1   \n",
              "2      135000.0      1006920.0         42660.0                2   \n",
              "3      180000.0       518562.0         22972.5                0   \n",
              "4          -1.0           -1.0            -1.0                1   \n",
              "\n",
              "   FAMILY_STATUS  REGION_POPULATION      AGE  DAYS_ON_LAST_JOB  OWN_CAR_AGE  \\\n",
              "0              0           0.019101  15728.0            1719.0         11.0   \n",
              "1              1          -1.000000     -1.0              -1.0         -1.0   \n",
              "2              0           0.026392  21557.0            3618.0         -1.0   \n",
              "3              0           0.031329  22338.0              -1.0         -1.0   \n",
              "4              1          -1.000000     -1.0              -1.0         -1.0   \n",
              "\n",
              "   FLAG_PHONE  FLAG_EMAIL  FAMILY_SIZE  EXTERNAL_SCORING_RATING_1  \\\n",
              "0         0.0         0.0          3.0                   0.700784   \n",
              "1        -1.0        -1.0         -1.0                  -1.000000   \n",
              "2         1.0         0.0          2.0                  -1.000000   \n",
              "3         0.0         0.0          2.0                  -1.000000   \n",
              "4        -1.0        -1.0         -1.0                  -1.000000   \n",
              "\n",
              "   EXTERNAL_SCORING_RATING_2  EXTERNAL_SCORING_RATING_3  \\\n",
              "0                   0.645914                   0.716570   \n",
              "1                  -1.000000                  -1.000000   \n",
              "2                   0.682149                   0.267869   \n",
              "3                   0.171299                   0.170446   \n",
              "4                  -1.000000                  -1.000000   \n",
              "\n",
              "   AMT_REQ_CREDIT_BUREAU_HOUR  AMT_REQ_CREDIT_BUREAU_DAY  \\\n",
              "0                         0.0                        0.0   \n",
              "1                        -1.0                       -1.0   \n",
              "2                         0.0                        0.0   \n",
              "3                         0.0                        0.0   \n",
              "4                        -1.0                       -1.0   \n",
              "\n",
              "   AMT_REQ_CREDIT_BUREAU_WEEK  AMT_REQ_CREDIT_BUREAU_MON  \\\n",
              "0                         1.0                        0.0   \n",
              "1                        -1.0                       -1.0   \n",
              "2                         0.0                        7.0   \n",
              "3                         0.0                        0.0   \n",
              "4                        -1.0                       -1.0   \n",
              "\n",
              "   AMT_REQ_CREDIT_BUREAU_QRT  AMT_REQ_CREDIT_BUREAU_YEAR  \\\n",
              "0                        0.0                         2.0   \n",
              "1                       -1.0                        -1.0   \n",
              "2                        0.0                         4.0   \n",
              "3                        0.0                         0.0   \n",
              "4                       -1.0                        -1.0   \n",
              "\n",
              "   EXTERNAL_SCORING_PROD  EXTERNAL_SCORING_WEIGHTED  \\\n",
              "0               0.324353                   4.197193   \n",
              "1              -1.000000                  -1.000000   \n",
              "2              -1.000000                  -1.000000   \n",
              "3              -1.000000                  -1.000000   \n",
              "4              -1.000000                  -1.000000   \n",
              "\n",
              "   EXTERNAL_SCORING_RATING_min  EXTERNAL_SCORING_RATING_max  \\\n",
              "0                     0.645914                     0.716570   \n",
              "1                    -1.000000                    -1.000000   \n",
              "2                     0.267869                     0.682149   \n",
              "3                     0.170446                     0.171299   \n",
              "4                    -1.000000                    -1.000000   \n",
              "\n",
              "   EXTERNAL_SCORING_RATING_mean  EXTERNAL_SCORING_RATING_nanmedian  \\\n",
              "0                      0.687756                           0.700784   \n",
              "1                     -1.000000                          -1.000000   \n",
              "2                      0.475009                           0.475009   \n",
              "3                      0.170873                           0.170873   \n",
              "4                     -1.000000                          -1.000000   \n",
              "\n",
              "   EXTERNAL_SCORING_RATING_var  RATIO_CREDIT_TO_ANNUITY  \\\n",
              "0                 9.169231e-04                34.025788   \n",
              "1                -1.000000e+00                -1.000000   \n",
              "2                 4.290708e-02                23.603376   \n",
              "3                 1.818800e-07                22.573164   \n",
              "4                -1.000000e+00                -1.000000   \n",
              "\n",
              "   RATIO_ANNUITY_TO_SALARY  RATIO_CREDIT_TO_SALARY  EXPECTED_TOTAL_LOSS_1  \\\n",
              "0                 0.159543                5.428571          599170.547652   \n",
              "1                -1.000000               -1.000000              -1.000000   \n",
              "2                 0.316000                7.458667              -1.000000   \n",
              "3                 0.127625                2.880900              -1.000000   \n",
              "4                -1.000000               -1.000000              -1.000000   \n",
              "\n",
              "   EXPECTED_TOTAL_LOSS_2  EXPECTED_TOTAL_LOSS_3  EXPECTED_MONTHLY_LOSS_1  \\\n",
              "0          552256.266546          612667.559305             17609.307043   \n",
              "1              -1.000000              -1.000000                -1.000000   \n",
              "2          686869.876357          269722.588880                -1.000000   \n",
              "3           88829.188848           88386.882459                -1.000000   \n",
              "4              -1.000000              -1.000000                -1.000000   \n",
              "\n",
              "   EXPECTED_MONTHLY_LOSS_2  EXPECTED_MONTHLY_LOSS_3  EDUCATION_FAMILY_STATUS  \n",
              "0             16230.521013             18005.977111                        0  \n",
              "1                -1.000000                -1.000000                        1  \n",
              "2             29100.493510             11427.288803                        2  \n",
              "3              3935.167908              3915.573562                        0  \n",
              "4                -1.000000                -1.000000                        1  "
            ]
          },
          "metadata": {
            "tags": []
          },
          "execution_count": 203
        }
      ]
    },
    {
      "cell_type": "code",
      "metadata": {
        "id": "clde-KfHUec2",
        "trusted": true,
        "outputId": "bd053d82-b068-4ee5-a3a0-b2bd97ab7808",
        "colab": {
          "base_uri": "https://localhost:8080/",
          "height": 148
        }
      },
      "source": [
        "data_cat.head(2)"
      ],
      "execution_count": 204,
      "outputs": [
        {
          "output_type": "execute_result",
          "data": {
            "text/html": [
              "<div>\n",
              "<style scoped>\n",
              "    .dataframe tbody tr th:only-of-type {\n",
              "        vertical-align: middle;\n",
              "    }\n",
              "\n",
              "    .dataframe tbody tr th {\n",
              "        vertical-align: top;\n",
              "    }\n",
              "\n",
              "    .dataframe thead th {\n",
              "        text-align: right;\n",
              "    }\n",
              "</style>\n",
              "<table border=\"1\" class=\"dataframe\">\n",
              "  <thead>\n",
              "    <tr style=\"text-align: right;\">\n",
              "      <th></th>\n",
              "      <th>APPLICATION_NUMBER</th>\n",
              "      <th>TARGET</th>\n",
              "      <th>NAME_CONTRACT_TYPE</th>\n",
              "      <th>GENDER</th>\n",
              "      <th>CHILDRENS</th>\n",
              "      <th>TOTAL_SALARY</th>\n",
              "      <th>AMOUNT_CREDIT</th>\n",
              "      <th>AMOUNT_ANNUITY</th>\n",
              "      <th>EDUCATION_LEVEL</th>\n",
              "      <th>FAMILY_STATUS</th>\n",
              "      <th>REGION_POPULATION</th>\n",
              "      <th>AGE</th>\n",
              "      <th>DAYS_ON_LAST_JOB</th>\n",
              "      <th>OWN_CAR_AGE</th>\n",
              "      <th>FLAG_PHONE</th>\n",
              "      <th>FLAG_EMAIL</th>\n",
              "      <th>FAMILY_SIZE</th>\n",
              "      <th>EXTERNAL_SCORING_RATING_1</th>\n",
              "      <th>EXTERNAL_SCORING_RATING_2</th>\n",
              "      <th>EXTERNAL_SCORING_RATING_3</th>\n",
              "      <th>AMT_REQ_CREDIT_BUREAU_HOUR</th>\n",
              "      <th>AMT_REQ_CREDIT_BUREAU_DAY</th>\n",
              "      <th>AMT_REQ_CREDIT_BUREAU_WEEK</th>\n",
              "      <th>AMT_REQ_CREDIT_BUREAU_MON</th>\n",
              "      <th>AMT_REQ_CREDIT_BUREAU_QRT</th>\n",
              "      <th>AMT_REQ_CREDIT_BUREAU_YEAR</th>\n",
              "      <th>EXTERNAL_SCORING_PROD</th>\n",
              "      <th>EXTERNAL_SCORING_WEIGHTED</th>\n",
              "      <th>EXTERNAL_SCORING_RATING_min</th>\n",
              "      <th>EXTERNAL_SCORING_RATING_max</th>\n",
              "      <th>EXTERNAL_SCORING_RATING_mean</th>\n",
              "      <th>EXTERNAL_SCORING_RATING_nanmedian</th>\n",
              "      <th>EXTERNAL_SCORING_RATING_var</th>\n",
              "      <th>RATIO_CREDIT_TO_ANNUITY</th>\n",
              "      <th>RATIO_ANNUITY_TO_SALARY</th>\n",
              "      <th>RATIO_CREDIT_TO_SALARY</th>\n",
              "      <th>EXPECTED_TOTAL_LOSS_1</th>\n",
              "      <th>EXPECTED_TOTAL_LOSS_2</th>\n",
              "      <th>EXPECTED_TOTAL_LOSS_3</th>\n",
              "      <th>EXPECTED_MONTHLY_LOSS_1</th>\n",
              "      <th>EXPECTED_MONTHLY_LOSS_2</th>\n",
              "      <th>EXPECTED_MONTHLY_LOSS_3</th>\n",
              "      <th>EDUCATION_FAMILY_STATUS</th>\n",
              "    </tr>\n",
              "  </thead>\n",
              "  <tbody>\n",
              "    <tr>\n",
              "      <th>0</th>\n",
              "      <td>123687442</td>\n",
              "      <td>0.0</td>\n",
              "      <td>Cash</td>\n",
              "      <td>M</td>\n",
              "      <td>1.0</td>\n",
              "      <td>157500.0</td>\n",
              "      <td>855000.0</td>\n",
              "      <td>25128.0</td>\n",
              "      <td>Secondary / secondary special</td>\n",
              "      <td>Married</td>\n",
              "      <td>0.019101</td>\n",
              "      <td>15728.0</td>\n",
              "      <td>1719.0</td>\n",
              "      <td>11.0</td>\n",
              "      <td>0.0</td>\n",
              "      <td>0.0</td>\n",
              "      <td>3.0</td>\n",
              "      <td>0.700784</td>\n",
              "      <td>0.645914</td>\n",
              "      <td>0.71657</td>\n",
              "      <td>0.0</td>\n",
              "      <td>0.0</td>\n",
              "      <td>1.0</td>\n",
              "      <td>0.0</td>\n",
              "      <td>0.0</td>\n",
              "      <td>2.0</td>\n",
              "      <td>0.324353</td>\n",
              "      <td>4.197193</td>\n",
              "      <td>0.645914</td>\n",
              "      <td>0.71657</td>\n",
              "      <td>0.687756</td>\n",
              "      <td>0.700784</td>\n",
              "      <td>0.000917</td>\n",
              "      <td>34.025788</td>\n",
              "      <td>0.159543</td>\n",
              "      <td>5.428571</td>\n",
              "      <td>599170.547652</td>\n",
              "      <td>552256.266546</td>\n",
              "      <td>612667.559305</td>\n",
              "      <td>17609.307043</td>\n",
              "      <td>16230.521013</td>\n",
              "      <td>18005.977111</td>\n",
              "      <td>Secondary / secondary special | Married</td>\n",
              "    </tr>\n",
              "    <tr>\n",
              "      <th>1</th>\n",
              "      <td>123597908</td>\n",
              "      <td>1.0</td>\n",
              "      <td>Cash</td>\n",
              "      <td>No</td>\n",
              "      <td>-1.0</td>\n",
              "      <td>-1.0</td>\n",
              "      <td>-1.0</td>\n",
              "      <td>-1.0</td>\n",
              "      <td>No</td>\n",
              "      <td>No</td>\n",
              "      <td>-1.000000</td>\n",
              "      <td>-1.0</td>\n",
              "      <td>-1.0</td>\n",
              "      <td>-1.0</td>\n",
              "      <td>-1.0</td>\n",
              "      <td>-1.0</td>\n",
              "      <td>-1.0</td>\n",
              "      <td>-1.000000</td>\n",
              "      <td>-1.000000</td>\n",
              "      <td>-1.00000</td>\n",
              "      <td>-1.0</td>\n",
              "      <td>-1.0</td>\n",
              "      <td>-1.0</td>\n",
              "      <td>-1.0</td>\n",
              "      <td>-1.0</td>\n",
              "      <td>-1.0</td>\n",
              "      <td>-1.000000</td>\n",
              "      <td>-1.000000</td>\n",
              "      <td>-1.000000</td>\n",
              "      <td>-1.00000</td>\n",
              "      <td>-1.000000</td>\n",
              "      <td>-1.000000</td>\n",
              "      <td>-1.000000</td>\n",
              "      <td>-1.000000</td>\n",
              "      <td>-1.000000</td>\n",
              "      <td>-1.000000</td>\n",
              "      <td>-1.000000</td>\n",
              "      <td>-1.000000</td>\n",
              "      <td>-1.000000</td>\n",
              "      <td>-1.000000</td>\n",
              "      <td>-1.000000</td>\n",
              "      <td>-1.000000</td>\n",
              "      <td>No | No</td>\n",
              "    </tr>\n",
              "  </tbody>\n",
              "</table>\n",
              "</div>"
            ],
            "text/plain": [
              "   APPLICATION_NUMBER  TARGET NAME_CONTRACT_TYPE GENDER  CHILDRENS  \\\n",
              "0           123687442     0.0               Cash      M        1.0   \n",
              "1           123597908     1.0               Cash     No       -1.0   \n",
              "\n",
              "   TOTAL_SALARY  AMOUNT_CREDIT  AMOUNT_ANNUITY                EDUCATION_LEVEL  \\\n",
              "0      157500.0       855000.0         25128.0  Secondary / secondary special   \n",
              "1          -1.0           -1.0            -1.0                             No   \n",
              "\n",
              "  FAMILY_STATUS  REGION_POPULATION      AGE  DAYS_ON_LAST_JOB  OWN_CAR_AGE  \\\n",
              "0       Married           0.019101  15728.0            1719.0         11.0   \n",
              "1            No          -1.000000     -1.0              -1.0         -1.0   \n",
              "\n",
              "   FLAG_PHONE  FLAG_EMAIL  FAMILY_SIZE  EXTERNAL_SCORING_RATING_1  \\\n",
              "0         0.0         0.0          3.0                   0.700784   \n",
              "1        -1.0        -1.0         -1.0                  -1.000000   \n",
              "\n",
              "   EXTERNAL_SCORING_RATING_2  EXTERNAL_SCORING_RATING_3  \\\n",
              "0                   0.645914                    0.71657   \n",
              "1                  -1.000000                   -1.00000   \n",
              "\n",
              "   AMT_REQ_CREDIT_BUREAU_HOUR  AMT_REQ_CREDIT_BUREAU_DAY  \\\n",
              "0                         0.0                        0.0   \n",
              "1                        -1.0                       -1.0   \n",
              "\n",
              "   AMT_REQ_CREDIT_BUREAU_WEEK  AMT_REQ_CREDIT_BUREAU_MON  \\\n",
              "0                         1.0                        0.0   \n",
              "1                        -1.0                       -1.0   \n",
              "\n",
              "   AMT_REQ_CREDIT_BUREAU_QRT  AMT_REQ_CREDIT_BUREAU_YEAR  \\\n",
              "0                        0.0                         2.0   \n",
              "1                       -1.0                        -1.0   \n",
              "\n",
              "   EXTERNAL_SCORING_PROD  EXTERNAL_SCORING_WEIGHTED  \\\n",
              "0               0.324353                   4.197193   \n",
              "1              -1.000000                  -1.000000   \n",
              "\n",
              "   EXTERNAL_SCORING_RATING_min  EXTERNAL_SCORING_RATING_max  \\\n",
              "0                     0.645914                      0.71657   \n",
              "1                    -1.000000                     -1.00000   \n",
              "\n",
              "   EXTERNAL_SCORING_RATING_mean  EXTERNAL_SCORING_RATING_nanmedian  \\\n",
              "0                      0.687756                           0.700784   \n",
              "1                     -1.000000                          -1.000000   \n",
              "\n",
              "   EXTERNAL_SCORING_RATING_var  RATIO_CREDIT_TO_ANNUITY  \\\n",
              "0                     0.000917                34.025788   \n",
              "1                    -1.000000                -1.000000   \n",
              "\n",
              "   RATIO_ANNUITY_TO_SALARY  RATIO_CREDIT_TO_SALARY  EXPECTED_TOTAL_LOSS_1  \\\n",
              "0                 0.159543                5.428571          599170.547652   \n",
              "1                -1.000000               -1.000000              -1.000000   \n",
              "\n",
              "   EXPECTED_TOTAL_LOSS_2  EXPECTED_TOTAL_LOSS_3  EXPECTED_MONTHLY_LOSS_1  \\\n",
              "0          552256.266546          612667.559305             17609.307043   \n",
              "1              -1.000000              -1.000000                -1.000000   \n",
              "\n",
              "   EXPECTED_MONTHLY_LOSS_2  EXPECTED_MONTHLY_LOSS_3  \\\n",
              "0             16230.521013             18005.977111   \n",
              "1                -1.000000                -1.000000   \n",
              "\n",
              "                   EDUCATION_FAMILY_STATUS  \n",
              "0  Secondary / secondary special | Married  \n",
              "1                                  No | No  "
            ]
          },
          "metadata": {
            "tags": []
          },
          "execution_count": 204
        }
      ]
    },
    {
      "cell_type": "markdown",
      "metadata": {
        "id": "nuhtiGbn6ZFV"
      },
      "source": [
        "### Разделяем train и test"
      ]
    },
    {
      "cell_type": "code",
      "metadata": {
        "id": "TU7vJq0P6ZFW",
        "trusted": true,
        "outputId": "7a031562-d990-4886-fb62-08497ed653f0",
        "colab": {
          "base_uri": "https://localhost:8080/",
          "height": 34
        }
      },
      "source": [
        "train_prep = data.loc[data['TARGET'] != -1]\n",
        "train_prep.shape"
      ],
      "execution_count": 205,
      "outputs": [
        {
          "output_type": "execute_result",
          "data": {
            "text/plain": [
              "(110093, 43)"
            ]
          },
          "metadata": {
            "tags": []
          },
          "execution_count": 205
        }
      ]
    },
    {
      "cell_type": "code",
      "metadata": {
        "id": "BJpXtcfnU8Lm",
        "trusted": true,
        "outputId": "e5fe1bff-94fe-4a6b-9457-5937c0eac621",
        "colab": {
          "base_uri": "https://localhost:8080/",
          "height": 34
        }
      },
      "source": [
        "train_cat_prep = data_cat.loc[data['TARGET'] != -1]\n",
        "train_cat_prep.shape"
      ],
      "execution_count": 206,
      "outputs": [
        {
          "output_type": "execute_result",
          "data": {
            "text/plain": [
              "(110093, 43)"
            ]
          },
          "metadata": {
            "tags": []
          },
          "execution_count": 206
        }
      ]
    },
    {
      "cell_type": "code",
      "metadata": {
        "id": "FaDkEqU06ZFa",
        "trusted": true,
        "outputId": "cf208806-baa0-49d7-b8fb-e80f7240c266",
        "colab": {
          "base_uri": "https://localhost:8080/",
          "height": 162
        }
      },
      "source": [
        "train_prep.head(3)"
      ],
      "execution_count": 207,
      "outputs": [
        {
          "output_type": "execute_result",
          "data": {
            "text/html": [
              "<div>\n",
              "<style scoped>\n",
              "    .dataframe tbody tr th:only-of-type {\n",
              "        vertical-align: middle;\n",
              "    }\n",
              "\n",
              "    .dataframe tbody tr th {\n",
              "        vertical-align: top;\n",
              "    }\n",
              "\n",
              "    .dataframe thead th {\n",
              "        text-align: right;\n",
              "    }\n",
              "</style>\n",
              "<table border=\"1\" class=\"dataframe\">\n",
              "  <thead>\n",
              "    <tr style=\"text-align: right;\">\n",
              "      <th></th>\n",
              "      <th>APPLICATION_NUMBER</th>\n",
              "      <th>TARGET</th>\n",
              "      <th>NAME_CONTRACT_TYPE</th>\n",
              "      <th>GENDER</th>\n",
              "      <th>CHILDRENS</th>\n",
              "      <th>TOTAL_SALARY</th>\n",
              "      <th>AMOUNT_CREDIT</th>\n",
              "      <th>AMOUNT_ANNUITY</th>\n",
              "      <th>EDUCATION_LEVEL</th>\n",
              "      <th>FAMILY_STATUS</th>\n",
              "      <th>REGION_POPULATION</th>\n",
              "      <th>AGE</th>\n",
              "      <th>DAYS_ON_LAST_JOB</th>\n",
              "      <th>OWN_CAR_AGE</th>\n",
              "      <th>FLAG_PHONE</th>\n",
              "      <th>FLAG_EMAIL</th>\n",
              "      <th>FAMILY_SIZE</th>\n",
              "      <th>EXTERNAL_SCORING_RATING_1</th>\n",
              "      <th>EXTERNAL_SCORING_RATING_2</th>\n",
              "      <th>EXTERNAL_SCORING_RATING_3</th>\n",
              "      <th>AMT_REQ_CREDIT_BUREAU_HOUR</th>\n",
              "      <th>AMT_REQ_CREDIT_BUREAU_DAY</th>\n",
              "      <th>AMT_REQ_CREDIT_BUREAU_WEEK</th>\n",
              "      <th>AMT_REQ_CREDIT_BUREAU_MON</th>\n",
              "      <th>AMT_REQ_CREDIT_BUREAU_QRT</th>\n",
              "      <th>AMT_REQ_CREDIT_BUREAU_YEAR</th>\n",
              "      <th>EXTERNAL_SCORING_PROD</th>\n",
              "      <th>EXTERNAL_SCORING_WEIGHTED</th>\n",
              "      <th>EXTERNAL_SCORING_RATING_min</th>\n",
              "      <th>EXTERNAL_SCORING_RATING_max</th>\n",
              "      <th>EXTERNAL_SCORING_RATING_mean</th>\n",
              "      <th>EXTERNAL_SCORING_RATING_nanmedian</th>\n",
              "      <th>EXTERNAL_SCORING_RATING_var</th>\n",
              "      <th>RATIO_CREDIT_TO_ANNUITY</th>\n",
              "      <th>RATIO_ANNUITY_TO_SALARY</th>\n",
              "      <th>RATIO_CREDIT_TO_SALARY</th>\n",
              "      <th>EXPECTED_TOTAL_LOSS_1</th>\n",
              "      <th>EXPECTED_TOTAL_LOSS_2</th>\n",
              "      <th>EXPECTED_TOTAL_LOSS_3</th>\n",
              "      <th>EXPECTED_MONTHLY_LOSS_1</th>\n",
              "      <th>EXPECTED_MONTHLY_LOSS_2</th>\n",
              "      <th>EXPECTED_MONTHLY_LOSS_3</th>\n",
              "      <th>EDUCATION_FAMILY_STATUS</th>\n",
              "    </tr>\n",
              "  </thead>\n",
              "  <tbody>\n",
              "    <tr>\n",
              "      <th>0</th>\n",
              "      <td>123687442</td>\n",
              "      <td>0.0</td>\n",
              "      <td>0</td>\n",
              "      <td>0</td>\n",
              "      <td>1.0</td>\n",
              "      <td>157500.0</td>\n",
              "      <td>855000.0</td>\n",
              "      <td>25128.0</td>\n",
              "      <td>0</td>\n",
              "      <td>0</td>\n",
              "      <td>0.019101</td>\n",
              "      <td>15728.0</td>\n",
              "      <td>1719.0</td>\n",
              "      <td>11.0</td>\n",
              "      <td>0.0</td>\n",
              "      <td>0.0</td>\n",
              "      <td>3.0</td>\n",
              "      <td>0.700784</td>\n",
              "      <td>0.645914</td>\n",
              "      <td>0.716570</td>\n",
              "      <td>0.0</td>\n",
              "      <td>0.0</td>\n",
              "      <td>1.0</td>\n",
              "      <td>0.0</td>\n",
              "      <td>0.0</td>\n",
              "      <td>2.0</td>\n",
              "      <td>0.324353</td>\n",
              "      <td>4.197193</td>\n",
              "      <td>0.645914</td>\n",
              "      <td>0.716570</td>\n",
              "      <td>0.687756</td>\n",
              "      <td>0.700784</td>\n",
              "      <td>0.000917</td>\n",
              "      <td>34.025788</td>\n",
              "      <td>0.159543</td>\n",
              "      <td>5.428571</td>\n",
              "      <td>599170.547652</td>\n",
              "      <td>552256.266546</td>\n",
              "      <td>612667.559305</td>\n",
              "      <td>17609.307043</td>\n",
              "      <td>16230.521013</td>\n",
              "      <td>18005.977111</td>\n",
              "      <td>0</td>\n",
              "    </tr>\n",
              "    <tr>\n",
              "      <th>1</th>\n",
              "      <td>123597908</td>\n",
              "      <td>1.0</td>\n",
              "      <td>0</td>\n",
              "      <td>1</td>\n",
              "      <td>-1.0</td>\n",
              "      <td>-1.0</td>\n",
              "      <td>-1.0</td>\n",
              "      <td>-1.0</td>\n",
              "      <td>1</td>\n",
              "      <td>1</td>\n",
              "      <td>-1.000000</td>\n",
              "      <td>-1.0</td>\n",
              "      <td>-1.0</td>\n",
              "      <td>-1.0</td>\n",
              "      <td>-1.0</td>\n",
              "      <td>-1.0</td>\n",
              "      <td>-1.0</td>\n",
              "      <td>-1.000000</td>\n",
              "      <td>-1.000000</td>\n",
              "      <td>-1.000000</td>\n",
              "      <td>-1.0</td>\n",
              "      <td>-1.0</td>\n",
              "      <td>-1.0</td>\n",
              "      <td>-1.0</td>\n",
              "      <td>-1.0</td>\n",
              "      <td>-1.0</td>\n",
              "      <td>-1.000000</td>\n",
              "      <td>-1.000000</td>\n",
              "      <td>-1.000000</td>\n",
              "      <td>-1.000000</td>\n",
              "      <td>-1.000000</td>\n",
              "      <td>-1.000000</td>\n",
              "      <td>-1.000000</td>\n",
              "      <td>-1.000000</td>\n",
              "      <td>-1.000000</td>\n",
              "      <td>-1.000000</td>\n",
              "      <td>-1.000000</td>\n",
              "      <td>-1.000000</td>\n",
              "      <td>-1.000000</td>\n",
              "      <td>-1.000000</td>\n",
              "      <td>-1.000000</td>\n",
              "      <td>-1.000000</td>\n",
              "      <td>1</td>\n",
              "    </tr>\n",
              "    <tr>\n",
              "      <th>2</th>\n",
              "      <td>123526683</td>\n",
              "      <td>0.0</td>\n",
              "      <td>0</td>\n",
              "      <td>2</td>\n",
              "      <td>0.0</td>\n",
              "      <td>135000.0</td>\n",
              "      <td>1006920.0</td>\n",
              "      <td>42660.0</td>\n",
              "      <td>2</td>\n",
              "      <td>0</td>\n",
              "      <td>0.026392</td>\n",
              "      <td>21557.0</td>\n",
              "      <td>3618.0</td>\n",
              "      <td>-1.0</td>\n",
              "      <td>1.0</td>\n",
              "      <td>0.0</td>\n",
              "      <td>2.0</td>\n",
              "      <td>-1.000000</td>\n",
              "      <td>0.682149</td>\n",
              "      <td>0.267869</td>\n",
              "      <td>0.0</td>\n",
              "      <td>0.0</td>\n",
              "      <td>0.0</td>\n",
              "      <td>7.0</td>\n",
              "      <td>0.0</td>\n",
              "      <td>4.0</td>\n",
              "      <td>-1.000000</td>\n",
              "      <td>-1.000000</td>\n",
              "      <td>0.267869</td>\n",
              "      <td>0.682149</td>\n",
              "      <td>0.475009</td>\n",
              "      <td>0.475009</td>\n",
              "      <td>0.042907</td>\n",
              "      <td>23.603376</td>\n",
              "      <td>0.316000</td>\n",
              "      <td>7.458667</td>\n",
              "      <td>-1.000000</td>\n",
              "      <td>686869.876357</td>\n",
              "      <td>269722.588880</td>\n",
              "      <td>-1.000000</td>\n",
              "      <td>29100.493510</td>\n",
              "      <td>11427.288803</td>\n",
              "      <td>2</td>\n",
              "    </tr>\n",
              "  </tbody>\n",
              "</table>\n",
              "</div>"
            ],
            "text/plain": [
              "   APPLICATION_NUMBER  TARGET  NAME_CONTRACT_TYPE  GENDER  CHILDRENS  \\\n",
              "0           123687442     0.0                   0       0        1.0   \n",
              "1           123597908     1.0                   0       1       -1.0   \n",
              "2           123526683     0.0                   0       2        0.0   \n",
              "\n",
              "   TOTAL_SALARY  AMOUNT_CREDIT  AMOUNT_ANNUITY  EDUCATION_LEVEL  \\\n",
              "0      157500.0       855000.0         25128.0                0   \n",
              "1          -1.0           -1.0            -1.0                1   \n",
              "2      135000.0      1006920.0         42660.0                2   \n",
              "\n",
              "   FAMILY_STATUS  REGION_POPULATION      AGE  DAYS_ON_LAST_JOB  OWN_CAR_AGE  \\\n",
              "0              0           0.019101  15728.0            1719.0         11.0   \n",
              "1              1          -1.000000     -1.0              -1.0         -1.0   \n",
              "2              0           0.026392  21557.0            3618.0         -1.0   \n",
              "\n",
              "   FLAG_PHONE  FLAG_EMAIL  FAMILY_SIZE  EXTERNAL_SCORING_RATING_1  \\\n",
              "0         0.0         0.0          3.0                   0.700784   \n",
              "1        -1.0        -1.0         -1.0                  -1.000000   \n",
              "2         1.0         0.0          2.0                  -1.000000   \n",
              "\n",
              "   EXTERNAL_SCORING_RATING_2  EXTERNAL_SCORING_RATING_3  \\\n",
              "0                   0.645914                   0.716570   \n",
              "1                  -1.000000                  -1.000000   \n",
              "2                   0.682149                   0.267869   \n",
              "\n",
              "   AMT_REQ_CREDIT_BUREAU_HOUR  AMT_REQ_CREDIT_BUREAU_DAY  \\\n",
              "0                         0.0                        0.0   \n",
              "1                        -1.0                       -1.0   \n",
              "2                         0.0                        0.0   \n",
              "\n",
              "   AMT_REQ_CREDIT_BUREAU_WEEK  AMT_REQ_CREDIT_BUREAU_MON  \\\n",
              "0                         1.0                        0.0   \n",
              "1                        -1.0                       -1.0   \n",
              "2                         0.0                        7.0   \n",
              "\n",
              "   AMT_REQ_CREDIT_BUREAU_QRT  AMT_REQ_CREDIT_BUREAU_YEAR  \\\n",
              "0                        0.0                         2.0   \n",
              "1                       -1.0                        -1.0   \n",
              "2                        0.0                         4.0   \n",
              "\n",
              "   EXTERNAL_SCORING_PROD  EXTERNAL_SCORING_WEIGHTED  \\\n",
              "0               0.324353                   4.197193   \n",
              "1              -1.000000                  -1.000000   \n",
              "2              -1.000000                  -1.000000   \n",
              "\n",
              "   EXTERNAL_SCORING_RATING_min  EXTERNAL_SCORING_RATING_max  \\\n",
              "0                     0.645914                     0.716570   \n",
              "1                    -1.000000                    -1.000000   \n",
              "2                     0.267869                     0.682149   \n",
              "\n",
              "   EXTERNAL_SCORING_RATING_mean  EXTERNAL_SCORING_RATING_nanmedian  \\\n",
              "0                      0.687756                           0.700784   \n",
              "1                     -1.000000                          -1.000000   \n",
              "2                      0.475009                           0.475009   \n",
              "\n",
              "   EXTERNAL_SCORING_RATING_var  RATIO_CREDIT_TO_ANNUITY  \\\n",
              "0                     0.000917                34.025788   \n",
              "1                    -1.000000                -1.000000   \n",
              "2                     0.042907                23.603376   \n",
              "\n",
              "   RATIO_ANNUITY_TO_SALARY  RATIO_CREDIT_TO_SALARY  EXPECTED_TOTAL_LOSS_1  \\\n",
              "0                 0.159543                5.428571          599170.547652   \n",
              "1                -1.000000               -1.000000              -1.000000   \n",
              "2                 0.316000                7.458667              -1.000000   \n",
              "\n",
              "   EXPECTED_TOTAL_LOSS_2  EXPECTED_TOTAL_LOSS_3  EXPECTED_MONTHLY_LOSS_1  \\\n",
              "0          552256.266546          612667.559305             17609.307043   \n",
              "1              -1.000000              -1.000000                -1.000000   \n",
              "2          686869.876357          269722.588880                -1.000000   \n",
              "\n",
              "   EXPECTED_MONTHLY_LOSS_2  EXPECTED_MONTHLY_LOSS_3  EDUCATION_FAMILY_STATUS  \n",
              "0             16230.521013             18005.977111                        0  \n",
              "1                -1.000000                -1.000000                        1  \n",
              "2             29100.493510             11427.288803                        2  "
            ]
          },
          "metadata": {
            "tags": []
          },
          "execution_count": 207
        }
      ]
    },
    {
      "cell_type": "code",
      "metadata": {
        "id": "Z4e6tpzcVI3Z",
        "trusted": true,
        "outputId": "3c1d5ff4-ee0d-4196-c9a0-506caeb74ddf",
        "colab": {
          "base_uri": "https://localhost:8080/",
          "height": 179
        }
      },
      "source": [
        "train_cat_prep.head(3)"
      ],
      "execution_count": 208,
      "outputs": [
        {
          "output_type": "execute_result",
          "data": {
            "text/html": [
              "<div>\n",
              "<style scoped>\n",
              "    .dataframe tbody tr th:only-of-type {\n",
              "        vertical-align: middle;\n",
              "    }\n",
              "\n",
              "    .dataframe tbody tr th {\n",
              "        vertical-align: top;\n",
              "    }\n",
              "\n",
              "    .dataframe thead th {\n",
              "        text-align: right;\n",
              "    }\n",
              "</style>\n",
              "<table border=\"1\" class=\"dataframe\">\n",
              "  <thead>\n",
              "    <tr style=\"text-align: right;\">\n",
              "      <th></th>\n",
              "      <th>APPLICATION_NUMBER</th>\n",
              "      <th>TARGET</th>\n",
              "      <th>NAME_CONTRACT_TYPE</th>\n",
              "      <th>GENDER</th>\n",
              "      <th>CHILDRENS</th>\n",
              "      <th>TOTAL_SALARY</th>\n",
              "      <th>AMOUNT_CREDIT</th>\n",
              "      <th>AMOUNT_ANNUITY</th>\n",
              "      <th>EDUCATION_LEVEL</th>\n",
              "      <th>FAMILY_STATUS</th>\n",
              "      <th>REGION_POPULATION</th>\n",
              "      <th>AGE</th>\n",
              "      <th>DAYS_ON_LAST_JOB</th>\n",
              "      <th>OWN_CAR_AGE</th>\n",
              "      <th>FLAG_PHONE</th>\n",
              "      <th>FLAG_EMAIL</th>\n",
              "      <th>FAMILY_SIZE</th>\n",
              "      <th>EXTERNAL_SCORING_RATING_1</th>\n",
              "      <th>EXTERNAL_SCORING_RATING_2</th>\n",
              "      <th>EXTERNAL_SCORING_RATING_3</th>\n",
              "      <th>AMT_REQ_CREDIT_BUREAU_HOUR</th>\n",
              "      <th>AMT_REQ_CREDIT_BUREAU_DAY</th>\n",
              "      <th>AMT_REQ_CREDIT_BUREAU_WEEK</th>\n",
              "      <th>AMT_REQ_CREDIT_BUREAU_MON</th>\n",
              "      <th>AMT_REQ_CREDIT_BUREAU_QRT</th>\n",
              "      <th>AMT_REQ_CREDIT_BUREAU_YEAR</th>\n",
              "      <th>EXTERNAL_SCORING_PROD</th>\n",
              "      <th>EXTERNAL_SCORING_WEIGHTED</th>\n",
              "      <th>EXTERNAL_SCORING_RATING_min</th>\n",
              "      <th>EXTERNAL_SCORING_RATING_max</th>\n",
              "      <th>EXTERNAL_SCORING_RATING_mean</th>\n",
              "      <th>EXTERNAL_SCORING_RATING_nanmedian</th>\n",
              "      <th>EXTERNAL_SCORING_RATING_var</th>\n",
              "      <th>RATIO_CREDIT_TO_ANNUITY</th>\n",
              "      <th>RATIO_ANNUITY_TO_SALARY</th>\n",
              "      <th>RATIO_CREDIT_TO_SALARY</th>\n",
              "      <th>EXPECTED_TOTAL_LOSS_1</th>\n",
              "      <th>EXPECTED_TOTAL_LOSS_2</th>\n",
              "      <th>EXPECTED_TOTAL_LOSS_3</th>\n",
              "      <th>EXPECTED_MONTHLY_LOSS_1</th>\n",
              "      <th>EXPECTED_MONTHLY_LOSS_2</th>\n",
              "      <th>EXPECTED_MONTHLY_LOSS_3</th>\n",
              "      <th>EDUCATION_FAMILY_STATUS</th>\n",
              "    </tr>\n",
              "  </thead>\n",
              "  <tbody>\n",
              "    <tr>\n",
              "      <th>0</th>\n",
              "      <td>123687442</td>\n",
              "      <td>0.0</td>\n",
              "      <td>Cash</td>\n",
              "      <td>M</td>\n",
              "      <td>1.0</td>\n",
              "      <td>157500.0</td>\n",
              "      <td>855000.0</td>\n",
              "      <td>25128.0</td>\n",
              "      <td>Secondary / secondary special</td>\n",
              "      <td>Married</td>\n",
              "      <td>0.019101</td>\n",
              "      <td>15728.0</td>\n",
              "      <td>1719.0</td>\n",
              "      <td>11.0</td>\n",
              "      <td>0.0</td>\n",
              "      <td>0.0</td>\n",
              "      <td>3.0</td>\n",
              "      <td>0.700784</td>\n",
              "      <td>0.645914</td>\n",
              "      <td>0.716570</td>\n",
              "      <td>0.0</td>\n",
              "      <td>0.0</td>\n",
              "      <td>1.0</td>\n",
              "      <td>0.0</td>\n",
              "      <td>0.0</td>\n",
              "      <td>2.0</td>\n",
              "      <td>0.324353</td>\n",
              "      <td>4.197193</td>\n",
              "      <td>0.645914</td>\n",
              "      <td>0.716570</td>\n",
              "      <td>0.687756</td>\n",
              "      <td>0.700784</td>\n",
              "      <td>0.000917</td>\n",
              "      <td>34.025788</td>\n",
              "      <td>0.159543</td>\n",
              "      <td>5.428571</td>\n",
              "      <td>599170.547652</td>\n",
              "      <td>552256.266546</td>\n",
              "      <td>612667.559305</td>\n",
              "      <td>17609.307043</td>\n",
              "      <td>16230.521013</td>\n",
              "      <td>18005.977111</td>\n",
              "      <td>Secondary / secondary special | Married</td>\n",
              "    </tr>\n",
              "    <tr>\n",
              "      <th>1</th>\n",
              "      <td>123597908</td>\n",
              "      <td>1.0</td>\n",
              "      <td>Cash</td>\n",
              "      <td>No</td>\n",
              "      <td>-1.0</td>\n",
              "      <td>-1.0</td>\n",
              "      <td>-1.0</td>\n",
              "      <td>-1.0</td>\n",
              "      <td>No</td>\n",
              "      <td>No</td>\n",
              "      <td>-1.000000</td>\n",
              "      <td>-1.0</td>\n",
              "      <td>-1.0</td>\n",
              "      <td>-1.0</td>\n",
              "      <td>-1.0</td>\n",
              "      <td>-1.0</td>\n",
              "      <td>-1.0</td>\n",
              "      <td>-1.000000</td>\n",
              "      <td>-1.000000</td>\n",
              "      <td>-1.000000</td>\n",
              "      <td>-1.0</td>\n",
              "      <td>-1.0</td>\n",
              "      <td>-1.0</td>\n",
              "      <td>-1.0</td>\n",
              "      <td>-1.0</td>\n",
              "      <td>-1.0</td>\n",
              "      <td>-1.000000</td>\n",
              "      <td>-1.000000</td>\n",
              "      <td>-1.000000</td>\n",
              "      <td>-1.000000</td>\n",
              "      <td>-1.000000</td>\n",
              "      <td>-1.000000</td>\n",
              "      <td>-1.000000</td>\n",
              "      <td>-1.000000</td>\n",
              "      <td>-1.000000</td>\n",
              "      <td>-1.000000</td>\n",
              "      <td>-1.000000</td>\n",
              "      <td>-1.000000</td>\n",
              "      <td>-1.000000</td>\n",
              "      <td>-1.000000</td>\n",
              "      <td>-1.000000</td>\n",
              "      <td>-1.000000</td>\n",
              "      <td>No | No</td>\n",
              "    </tr>\n",
              "    <tr>\n",
              "      <th>2</th>\n",
              "      <td>123526683</td>\n",
              "      <td>0.0</td>\n",
              "      <td>Cash</td>\n",
              "      <td>F</td>\n",
              "      <td>0.0</td>\n",
              "      <td>135000.0</td>\n",
              "      <td>1006920.0</td>\n",
              "      <td>42660.0</td>\n",
              "      <td>Higher education</td>\n",
              "      <td>Married</td>\n",
              "      <td>0.026392</td>\n",
              "      <td>21557.0</td>\n",
              "      <td>3618.0</td>\n",
              "      <td>-1.0</td>\n",
              "      <td>1.0</td>\n",
              "      <td>0.0</td>\n",
              "      <td>2.0</td>\n",
              "      <td>-1.000000</td>\n",
              "      <td>0.682149</td>\n",
              "      <td>0.267869</td>\n",
              "      <td>0.0</td>\n",
              "      <td>0.0</td>\n",
              "      <td>0.0</td>\n",
              "      <td>7.0</td>\n",
              "      <td>0.0</td>\n",
              "      <td>4.0</td>\n",
              "      <td>-1.000000</td>\n",
              "      <td>-1.000000</td>\n",
              "      <td>0.267869</td>\n",
              "      <td>0.682149</td>\n",
              "      <td>0.475009</td>\n",
              "      <td>0.475009</td>\n",
              "      <td>0.042907</td>\n",
              "      <td>23.603376</td>\n",
              "      <td>0.316000</td>\n",
              "      <td>7.458667</td>\n",
              "      <td>-1.000000</td>\n",
              "      <td>686869.876357</td>\n",
              "      <td>269722.588880</td>\n",
              "      <td>-1.000000</td>\n",
              "      <td>29100.493510</td>\n",
              "      <td>11427.288803</td>\n",
              "      <td>Higher education | Married</td>\n",
              "    </tr>\n",
              "  </tbody>\n",
              "</table>\n",
              "</div>"
            ],
            "text/plain": [
              "   APPLICATION_NUMBER  TARGET NAME_CONTRACT_TYPE GENDER  CHILDRENS  \\\n",
              "0           123687442     0.0               Cash      M        1.0   \n",
              "1           123597908     1.0               Cash     No       -1.0   \n",
              "2           123526683     0.0               Cash      F        0.0   \n",
              "\n",
              "   TOTAL_SALARY  AMOUNT_CREDIT  AMOUNT_ANNUITY                EDUCATION_LEVEL  \\\n",
              "0      157500.0       855000.0         25128.0  Secondary / secondary special   \n",
              "1          -1.0           -1.0            -1.0                             No   \n",
              "2      135000.0      1006920.0         42660.0               Higher education   \n",
              "\n",
              "  FAMILY_STATUS  REGION_POPULATION      AGE  DAYS_ON_LAST_JOB  OWN_CAR_AGE  \\\n",
              "0       Married           0.019101  15728.0            1719.0         11.0   \n",
              "1            No          -1.000000     -1.0              -1.0         -1.0   \n",
              "2       Married           0.026392  21557.0            3618.0         -1.0   \n",
              "\n",
              "   FLAG_PHONE  FLAG_EMAIL  FAMILY_SIZE  EXTERNAL_SCORING_RATING_1  \\\n",
              "0         0.0         0.0          3.0                   0.700784   \n",
              "1        -1.0        -1.0         -1.0                  -1.000000   \n",
              "2         1.0         0.0          2.0                  -1.000000   \n",
              "\n",
              "   EXTERNAL_SCORING_RATING_2  EXTERNAL_SCORING_RATING_3  \\\n",
              "0                   0.645914                   0.716570   \n",
              "1                  -1.000000                  -1.000000   \n",
              "2                   0.682149                   0.267869   \n",
              "\n",
              "   AMT_REQ_CREDIT_BUREAU_HOUR  AMT_REQ_CREDIT_BUREAU_DAY  \\\n",
              "0                         0.0                        0.0   \n",
              "1                        -1.0                       -1.0   \n",
              "2                         0.0                        0.0   \n",
              "\n",
              "   AMT_REQ_CREDIT_BUREAU_WEEK  AMT_REQ_CREDIT_BUREAU_MON  \\\n",
              "0                         1.0                        0.0   \n",
              "1                        -1.0                       -1.0   \n",
              "2                         0.0                        7.0   \n",
              "\n",
              "   AMT_REQ_CREDIT_BUREAU_QRT  AMT_REQ_CREDIT_BUREAU_YEAR  \\\n",
              "0                        0.0                         2.0   \n",
              "1                       -1.0                        -1.0   \n",
              "2                        0.0                         4.0   \n",
              "\n",
              "   EXTERNAL_SCORING_PROD  EXTERNAL_SCORING_WEIGHTED  \\\n",
              "0               0.324353                   4.197193   \n",
              "1              -1.000000                  -1.000000   \n",
              "2              -1.000000                  -1.000000   \n",
              "\n",
              "   EXTERNAL_SCORING_RATING_min  EXTERNAL_SCORING_RATING_max  \\\n",
              "0                     0.645914                     0.716570   \n",
              "1                    -1.000000                    -1.000000   \n",
              "2                     0.267869                     0.682149   \n",
              "\n",
              "   EXTERNAL_SCORING_RATING_mean  EXTERNAL_SCORING_RATING_nanmedian  \\\n",
              "0                      0.687756                           0.700784   \n",
              "1                     -1.000000                          -1.000000   \n",
              "2                      0.475009                           0.475009   \n",
              "\n",
              "   EXTERNAL_SCORING_RATING_var  RATIO_CREDIT_TO_ANNUITY  \\\n",
              "0                     0.000917                34.025788   \n",
              "1                    -1.000000                -1.000000   \n",
              "2                     0.042907                23.603376   \n",
              "\n",
              "   RATIO_ANNUITY_TO_SALARY  RATIO_CREDIT_TO_SALARY  EXPECTED_TOTAL_LOSS_1  \\\n",
              "0                 0.159543                5.428571          599170.547652   \n",
              "1                -1.000000               -1.000000              -1.000000   \n",
              "2                 0.316000                7.458667              -1.000000   \n",
              "\n",
              "   EXPECTED_TOTAL_LOSS_2  EXPECTED_TOTAL_LOSS_3  EXPECTED_MONTHLY_LOSS_1  \\\n",
              "0          552256.266546          612667.559305             17609.307043   \n",
              "1              -1.000000              -1.000000                -1.000000   \n",
              "2          686869.876357          269722.588880                -1.000000   \n",
              "\n",
              "   EXPECTED_MONTHLY_LOSS_2  EXPECTED_MONTHLY_LOSS_3  \\\n",
              "0             16230.521013             18005.977111   \n",
              "1                -1.000000                -1.000000   \n",
              "2             29100.493510             11427.288803   \n",
              "\n",
              "                   EDUCATION_FAMILY_STATUS  \n",
              "0  Secondary / secondary special | Married  \n",
              "1                                  No | No  \n",
              "2               Higher education | Married  "
            ]
          },
          "metadata": {
            "tags": []
          },
          "execution_count": 208
        }
      ]
    },
    {
      "cell_type": "code",
      "metadata": {
        "id": "WhcGIZpO6ZFf",
        "trusted": true,
        "outputId": "17c1a794-69a4-4458-f7ae-6ab908767635",
        "colab": {
          "base_uri": "https://localhost:8080/",
          "height": 204
        }
      },
      "source": [
        "source['train'].head()"
      ],
      "execution_count": 209,
      "outputs": [
        {
          "output_type": "execute_result",
          "data": {
            "text/html": [
              "<div>\n",
              "<style scoped>\n",
              "    .dataframe tbody tr th:only-of-type {\n",
              "        vertical-align: middle;\n",
              "    }\n",
              "\n",
              "    .dataframe tbody tr th {\n",
              "        vertical-align: top;\n",
              "    }\n",
              "\n",
              "    .dataframe thead th {\n",
              "        text-align: right;\n",
              "    }\n",
              "</style>\n",
              "<table border=\"1\" class=\"dataframe\">\n",
              "  <thead>\n",
              "    <tr style=\"text-align: right;\">\n",
              "      <th></th>\n",
              "      <th>APPLICATION_NUMBER</th>\n",
              "      <th>TARGET</th>\n",
              "      <th>NAME_CONTRACT_TYPE</th>\n",
              "    </tr>\n",
              "  </thead>\n",
              "  <tbody>\n",
              "    <tr>\n",
              "      <th>0</th>\n",
              "      <td>123687442</td>\n",
              "      <td>0</td>\n",
              "      <td>Cash</td>\n",
              "    </tr>\n",
              "    <tr>\n",
              "      <th>1</th>\n",
              "      <td>123597908</td>\n",
              "      <td>1</td>\n",
              "      <td>Cash</td>\n",
              "    </tr>\n",
              "    <tr>\n",
              "      <th>2</th>\n",
              "      <td>123526683</td>\n",
              "      <td>0</td>\n",
              "      <td>Cash</td>\n",
              "    </tr>\n",
              "    <tr>\n",
              "      <th>3</th>\n",
              "      <td>123710391</td>\n",
              "      <td>1</td>\n",
              "      <td>Cash</td>\n",
              "    </tr>\n",
              "    <tr>\n",
              "      <th>4</th>\n",
              "      <td>123590329</td>\n",
              "      <td>1</td>\n",
              "      <td>Cash</td>\n",
              "    </tr>\n",
              "  </tbody>\n",
              "</table>\n",
              "</div>"
            ],
            "text/plain": [
              "   APPLICATION_NUMBER  TARGET NAME_CONTRACT_TYPE\n",
              "0           123687442       0               Cash\n",
              "1           123597908       1               Cash\n",
              "2           123526683       0               Cash\n",
              "3           123710391       1               Cash\n",
              "4           123590329       1               Cash"
            ]
          },
          "metadata": {
            "tags": []
          },
          "execution_count": 209
        }
      ]
    },
    {
      "cell_type": "code",
      "metadata": {
        "id": "wWVSWL3W6ZFi",
        "trusted": true,
        "outputId": "3e8922c0-bb41-452c-aefe-1b020425c1c1",
        "colab": {
          "base_uri": "https://localhost:8080/",
          "height": 224
        }
      },
      "source": [
        "train_prep.tail()"
      ],
      "execution_count": 210,
      "outputs": [
        {
          "output_type": "execute_result",
          "data": {
            "text/html": [
              "<div>\n",
              "<style scoped>\n",
              "    .dataframe tbody tr th:only-of-type {\n",
              "        vertical-align: middle;\n",
              "    }\n",
              "\n",
              "    .dataframe tbody tr th {\n",
              "        vertical-align: top;\n",
              "    }\n",
              "\n",
              "    .dataframe thead th {\n",
              "        text-align: right;\n",
              "    }\n",
              "</style>\n",
              "<table border=\"1\" class=\"dataframe\">\n",
              "  <thead>\n",
              "    <tr style=\"text-align: right;\">\n",
              "      <th></th>\n",
              "      <th>APPLICATION_NUMBER</th>\n",
              "      <th>TARGET</th>\n",
              "      <th>NAME_CONTRACT_TYPE</th>\n",
              "      <th>GENDER</th>\n",
              "      <th>CHILDRENS</th>\n",
              "      <th>TOTAL_SALARY</th>\n",
              "      <th>AMOUNT_CREDIT</th>\n",
              "      <th>AMOUNT_ANNUITY</th>\n",
              "      <th>EDUCATION_LEVEL</th>\n",
              "      <th>FAMILY_STATUS</th>\n",
              "      <th>REGION_POPULATION</th>\n",
              "      <th>AGE</th>\n",
              "      <th>DAYS_ON_LAST_JOB</th>\n",
              "      <th>OWN_CAR_AGE</th>\n",
              "      <th>FLAG_PHONE</th>\n",
              "      <th>FLAG_EMAIL</th>\n",
              "      <th>FAMILY_SIZE</th>\n",
              "      <th>EXTERNAL_SCORING_RATING_1</th>\n",
              "      <th>EXTERNAL_SCORING_RATING_2</th>\n",
              "      <th>EXTERNAL_SCORING_RATING_3</th>\n",
              "      <th>AMT_REQ_CREDIT_BUREAU_HOUR</th>\n",
              "      <th>AMT_REQ_CREDIT_BUREAU_DAY</th>\n",
              "      <th>AMT_REQ_CREDIT_BUREAU_WEEK</th>\n",
              "      <th>AMT_REQ_CREDIT_BUREAU_MON</th>\n",
              "      <th>AMT_REQ_CREDIT_BUREAU_QRT</th>\n",
              "      <th>AMT_REQ_CREDIT_BUREAU_YEAR</th>\n",
              "      <th>EXTERNAL_SCORING_PROD</th>\n",
              "      <th>EXTERNAL_SCORING_WEIGHTED</th>\n",
              "      <th>EXTERNAL_SCORING_RATING_min</th>\n",
              "      <th>EXTERNAL_SCORING_RATING_max</th>\n",
              "      <th>EXTERNAL_SCORING_RATING_mean</th>\n",
              "      <th>EXTERNAL_SCORING_RATING_nanmedian</th>\n",
              "      <th>EXTERNAL_SCORING_RATING_var</th>\n",
              "      <th>RATIO_CREDIT_TO_ANNUITY</th>\n",
              "      <th>RATIO_ANNUITY_TO_SALARY</th>\n",
              "      <th>RATIO_CREDIT_TO_SALARY</th>\n",
              "      <th>EXPECTED_TOTAL_LOSS_1</th>\n",
              "      <th>EXPECTED_TOTAL_LOSS_2</th>\n",
              "      <th>EXPECTED_TOTAL_LOSS_3</th>\n",
              "      <th>EXPECTED_MONTHLY_LOSS_1</th>\n",
              "      <th>EXPECTED_MONTHLY_LOSS_2</th>\n",
              "      <th>EXPECTED_MONTHLY_LOSS_3</th>\n",
              "      <th>EDUCATION_FAMILY_STATUS</th>\n",
              "    </tr>\n",
              "  </thead>\n",
              "  <tbody>\n",
              "    <tr>\n",
              "      <th>110088</th>\n",
              "      <td>123458312</td>\n",
              "      <td>0.0</td>\n",
              "      <td>0</td>\n",
              "      <td>1</td>\n",
              "      <td>-1.0</td>\n",
              "      <td>-1.0</td>\n",
              "      <td>-1.0</td>\n",
              "      <td>-1.0</td>\n",
              "      <td>1</td>\n",
              "      <td>1</td>\n",
              "      <td>-1.000000</td>\n",
              "      <td>-1.0</td>\n",
              "      <td>-1.0</td>\n",
              "      <td>-1.0</td>\n",
              "      <td>-1.0</td>\n",
              "      <td>-1.0</td>\n",
              "      <td>-1.0</td>\n",
              "      <td>-1.000000</td>\n",
              "      <td>-1.000000</td>\n",
              "      <td>-1.000000</td>\n",
              "      <td>-1.0</td>\n",
              "      <td>-1.0</td>\n",
              "      <td>-1.0</td>\n",
              "      <td>-1.0</td>\n",
              "      <td>-1.0</td>\n",
              "      <td>-1.0</td>\n",
              "      <td>-1.000000</td>\n",
              "      <td>-1.000000</td>\n",
              "      <td>-1.000000</td>\n",
              "      <td>-1.000000</td>\n",
              "      <td>-1.000000</td>\n",
              "      <td>-1.000000</td>\n",
              "      <td>-1.000000</td>\n",
              "      <td>-1.000000</td>\n",
              "      <td>-1.000000</td>\n",
              "      <td>-1.000000</td>\n",
              "      <td>-1.000000</td>\n",
              "      <td>-1.000000</td>\n",
              "      <td>-1.000000</td>\n",
              "      <td>-1.000000</td>\n",
              "      <td>-1.000000</td>\n",
              "      <td>-1.000000</td>\n",
              "      <td>1</td>\n",
              "    </tr>\n",
              "    <tr>\n",
              "      <th>110089</th>\n",
              "      <td>123672463</td>\n",
              "      <td>0.0</td>\n",
              "      <td>0</td>\n",
              "      <td>2</td>\n",
              "      <td>0.0</td>\n",
              "      <td>175500.0</td>\n",
              "      <td>269550.0</td>\n",
              "      <td>12618.0</td>\n",
              "      <td>0</td>\n",
              "      <td>0</td>\n",
              "      <td>0.010032</td>\n",
              "      <td>10519.0</td>\n",
              "      <td>1354.0</td>\n",
              "      <td>-1.0</td>\n",
              "      <td>0.0</td>\n",
              "      <td>0.0</td>\n",
              "      <td>2.0</td>\n",
              "      <td>0.528096</td>\n",
              "      <td>0.471774</td>\n",
              "      <td>0.581484</td>\n",
              "      <td>0.0</td>\n",
              "      <td>0.0</td>\n",
              "      <td>0.0</td>\n",
              "      <td>0.0</td>\n",
              "      <td>0.0</td>\n",
              "      <td>2.0</td>\n",
              "      <td>0.144872</td>\n",
              "      <td>3.272417</td>\n",
              "      <td>0.471774</td>\n",
              "      <td>0.581484</td>\n",
              "      <td>0.527118</td>\n",
              "      <td>0.528096</td>\n",
              "      <td>0.002007</td>\n",
              "      <td>21.362340</td>\n",
              "      <td>0.071897</td>\n",
              "      <td>1.535897</td>\n",
              "      <td>142348.303154</td>\n",
              "      <td>127166.558499</td>\n",
              "      <td>156738.932900</td>\n",
              "      <td>6663.516562</td>\n",
              "      <td>5952.838565</td>\n",
              "      <td>7337.161400</td>\n",
              "      <td>0</td>\n",
              "    </tr>\n",
              "    <tr>\n",
              "      <th>110090</th>\n",
              "      <td>123723001</td>\n",
              "      <td>0.0</td>\n",
              "      <td>0</td>\n",
              "      <td>1</td>\n",
              "      <td>-1.0</td>\n",
              "      <td>-1.0</td>\n",
              "      <td>-1.0</td>\n",
              "      <td>-1.0</td>\n",
              "      <td>1</td>\n",
              "      <td>1</td>\n",
              "      <td>-1.000000</td>\n",
              "      <td>-1.0</td>\n",
              "      <td>-1.0</td>\n",
              "      <td>-1.0</td>\n",
              "      <td>-1.0</td>\n",
              "      <td>-1.0</td>\n",
              "      <td>-1.0</td>\n",
              "      <td>-1.000000</td>\n",
              "      <td>-1.000000</td>\n",
              "      <td>-1.000000</td>\n",
              "      <td>-1.0</td>\n",
              "      <td>-1.0</td>\n",
              "      <td>-1.0</td>\n",
              "      <td>-1.0</td>\n",
              "      <td>-1.0</td>\n",
              "      <td>-1.0</td>\n",
              "      <td>-1.000000</td>\n",
              "      <td>-1.000000</td>\n",
              "      <td>-1.000000</td>\n",
              "      <td>-1.000000</td>\n",
              "      <td>-1.000000</td>\n",
              "      <td>-1.000000</td>\n",
              "      <td>-1.000000</td>\n",
              "      <td>-1.000000</td>\n",
              "      <td>-1.000000</td>\n",
              "      <td>-1.000000</td>\n",
              "      <td>-1.000000</td>\n",
              "      <td>-1.000000</td>\n",
              "      <td>-1.000000</td>\n",
              "      <td>-1.000000</td>\n",
              "      <td>-1.000000</td>\n",
              "      <td>-1.000000</td>\n",
              "      <td>1</td>\n",
              "    </tr>\n",
              "    <tr>\n",
              "      <th>110091</th>\n",
              "      <td>123554358</td>\n",
              "      <td>0.0</td>\n",
              "      <td>0</td>\n",
              "      <td>2</td>\n",
              "      <td>2.0</td>\n",
              "      <td>270000.0</td>\n",
              "      <td>1024740.0</td>\n",
              "      <td>49428.0</td>\n",
              "      <td>4</td>\n",
              "      <td>0</td>\n",
              "      <td>0.019101</td>\n",
              "      <td>15008.0</td>\n",
              "      <td>361.0</td>\n",
              "      <td>22.0</td>\n",
              "      <td>0.0</td>\n",
              "      <td>0.0</td>\n",
              "      <td>4.0</td>\n",
              "      <td>0.653826</td>\n",
              "      <td>0.651227</td>\n",
              "      <td>0.558507</td>\n",
              "      <td>0.0</td>\n",
              "      <td>0.0</td>\n",
              "      <td>0.0</td>\n",
              "      <td>1.0</td>\n",
              "      <td>0.0</td>\n",
              "      <td>1.0</td>\n",
              "      <td>0.237806</td>\n",
              "      <td>3.634399</td>\n",
              "      <td>0.558507</td>\n",
              "      <td>0.653826</td>\n",
              "      <td>0.621186</td>\n",
              "      <td>0.651227</td>\n",
              "      <td>0.001966</td>\n",
              "      <td>20.731974</td>\n",
              "      <td>0.183067</td>\n",
              "      <td>3.795333</td>\n",
              "      <td>670001.539719</td>\n",
              "      <td>667338.205604</td>\n",
              "      <td>572324.081646</td>\n",
              "      <td>32317.305956</td>\n",
              "      <td>32188.840903</td>\n",
              "      <td>27605.865593</td>\n",
              "      <td>10</td>\n",
              "    </tr>\n",
              "    <tr>\n",
              "      <th>110092</th>\n",
              "      <td>123676265</td>\n",
              "      <td>0.0</td>\n",
              "      <td>1</td>\n",
              "      <td>2</td>\n",
              "      <td>1.0</td>\n",
              "      <td>112500.0</td>\n",
              "      <td>337500.0</td>\n",
              "      <td>16875.0</td>\n",
              "      <td>0</td>\n",
              "      <td>0</td>\n",
              "      <td>0.031329</td>\n",
              "      <td>15781.0</td>\n",
              "      <td>258.0</td>\n",
              "      <td>-1.0</td>\n",
              "      <td>0.0</td>\n",
              "      <td>0.0</td>\n",
              "      <td>3.0</td>\n",
              "      <td>-1.000000</td>\n",
              "      <td>0.552043</td>\n",
              "      <td>-1.000000</td>\n",
              "      <td>-1.0</td>\n",
              "      <td>-1.0</td>\n",
              "      <td>-1.0</td>\n",
              "      <td>-1.0</td>\n",
              "      <td>-1.0</td>\n",
              "      <td>-1.0</td>\n",
              "      <td>-1.000000</td>\n",
              "      <td>-1.000000</td>\n",
              "      <td>0.552043</td>\n",
              "      <td>0.552043</td>\n",
              "      <td>0.552043</td>\n",
              "      <td>0.552043</td>\n",
              "      <td>0.000000</td>\n",
              "      <td>20.000000</td>\n",
              "      <td>0.150000</td>\n",
              "      <td>3.000000</td>\n",
              "      <td>-1.000000</td>\n",
              "      <td>186314.656055</td>\n",
              "      <td>-1.000000</td>\n",
              "      <td>-1.000000</td>\n",
              "      <td>9315.732803</td>\n",
              "      <td>-1.000000</td>\n",
              "      <td>0</td>\n",
              "    </tr>\n",
              "  </tbody>\n",
              "</table>\n",
              "</div>"
            ],
            "text/plain": [
              "        APPLICATION_NUMBER  TARGET  NAME_CONTRACT_TYPE  GENDER  CHILDRENS  \\\n",
              "110088           123458312     0.0                   0       1       -1.0   \n",
              "110089           123672463     0.0                   0       2        0.0   \n",
              "110090           123723001     0.0                   0       1       -1.0   \n",
              "110091           123554358     0.0                   0       2        2.0   \n",
              "110092           123676265     0.0                   1       2        1.0   \n",
              "\n",
              "        TOTAL_SALARY  AMOUNT_CREDIT  AMOUNT_ANNUITY  EDUCATION_LEVEL  \\\n",
              "110088          -1.0           -1.0            -1.0                1   \n",
              "110089      175500.0       269550.0         12618.0                0   \n",
              "110090          -1.0           -1.0            -1.0                1   \n",
              "110091      270000.0      1024740.0         49428.0                4   \n",
              "110092      112500.0       337500.0         16875.0                0   \n",
              "\n",
              "        FAMILY_STATUS  REGION_POPULATION      AGE  DAYS_ON_LAST_JOB  \\\n",
              "110088              1          -1.000000     -1.0              -1.0   \n",
              "110089              0           0.010032  10519.0            1354.0   \n",
              "110090              1          -1.000000     -1.0              -1.0   \n",
              "110091              0           0.019101  15008.0             361.0   \n",
              "110092              0           0.031329  15781.0             258.0   \n",
              "\n",
              "        OWN_CAR_AGE  FLAG_PHONE  FLAG_EMAIL  FAMILY_SIZE  \\\n",
              "110088         -1.0        -1.0        -1.0         -1.0   \n",
              "110089         -1.0         0.0         0.0          2.0   \n",
              "110090         -1.0        -1.0        -1.0         -1.0   \n",
              "110091         22.0         0.0         0.0          4.0   \n",
              "110092         -1.0         0.0         0.0          3.0   \n",
              "\n",
              "        EXTERNAL_SCORING_RATING_1  EXTERNAL_SCORING_RATING_2  \\\n",
              "110088                  -1.000000                  -1.000000   \n",
              "110089                   0.528096                   0.471774   \n",
              "110090                  -1.000000                  -1.000000   \n",
              "110091                   0.653826                   0.651227   \n",
              "110092                  -1.000000                   0.552043   \n",
              "\n",
              "        EXTERNAL_SCORING_RATING_3  AMT_REQ_CREDIT_BUREAU_HOUR  \\\n",
              "110088                  -1.000000                        -1.0   \n",
              "110089                   0.581484                         0.0   \n",
              "110090                  -1.000000                        -1.0   \n",
              "110091                   0.558507                         0.0   \n",
              "110092                  -1.000000                        -1.0   \n",
              "\n",
              "        AMT_REQ_CREDIT_BUREAU_DAY  AMT_REQ_CREDIT_BUREAU_WEEK  \\\n",
              "110088                       -1.0                        -1.0   \n",
              "110089                        0.0                         0.0   \n",
              "110090                       -1.0                        -1.0   \n",
              "110091                        0.0                         0.0   \n",
              "110092                       -1.0                        -1.0   \n",
              "\n",
              "        AMT_REQ_CREDIT_BUREAU_MON  AMT_REQ_CREDIT_BUREAU_QRT  \\\n",
              "110088                       -1.0                       -1.0   \n",
              "110089                        0.0                        0.0   \n",
              "110090                       -1.0                       -1.0   \n",
              "110091                        1.0                        0.0   \n",
              "110092                       -1.0                       -1.0   \n",
              "\n",
              "        AMT_REQ_CREDIT_BUREAU_YEAR  EXTERNAL_SCORING_PROD  \\\n",
              "110088                        -1.0              -1.000000   \n",
              "110089                         2.0               0.144872   \n",
              "110090                        -1.0              -1.000000   \n",
              "110091                         1.0               0.237806   \n",
              "110092                        -1.0              -1.000000   \n",
              "\n",
              "        EXTERNAL_SCORING_WEIGHTED  EXTERNAL_SCORING_RATING_min  \\\n",
              "110088                  -1.000000                    -1.000000   \n",
              "110089                   3.272417                     0.471774   \n",
              "110090                  -1.000000                    -1.000000   \n",
              "110091                   3.634399                     0.558507   \n",
              "110092                  -1.000000                     0.552043   \n",
              "\n",
              "        EXTERNAL_SCORING_RATING_max  EXTERNAL_SCORING_RATING_mean  \\\n",
              "110088                    -1.000000                     -1.000000   \n",
              "110089                     0.581484                      0.527118   \n",
              "110090                    -1.000000                     -1.000000   \n",
              "110091                     0.653826                      0.621186   \n",
              "110092                     0.552043                      0.552043   \n",
              "\n",
              "        EXTERNAL_SCORING_RATING_nanmedian  EXTERNAL_SCORING_RATING_var  \\\n",
              "110088                          -1.000000                    -1.000000   \n",
              "110089                           0.528096                     0.002007   \n",
              "110090                          -1.000000                    -1.000000   \n",
              "110091                           0.651227                     0.001966   \n",
              "110092                           0.552043                     0.000000   \n",
              "\n",
              "        RATIO_CREDIT_TO_ANNUITY  RATIO_ANNUITY_TO_SALARY  \\\n",
              "110088                -1.000000                -1.000000   \n",
              "110089                21.362340                 0.071897   \n",
              "110090                -1.000000                -1.000000   \n",
              "110091                20.731974                 0.183067   \n",
              "110092                20.000000                 0.150000   \n",
              "\n",
              "        RATIO_CREDIT_TO_SALARY  EXPECTED_TOTAL_LOSS_1  EXPECTED_TOTAL_LOSS_2  \\\n",
              "110088               -1.000000              -1.000000              -1.000000   \n",
              "110089                1.535897          142348.303154          127166.558499   \n",
              "110090               -1.000000              -1.000000              -1.000000   \n",
              "110091                3.795333          670001.539719          667338.205604   \n",
              "110092                3.000000              -1.000000          186314.656055   \n",
              "\n",
              "        EXPECTED_TOTAL_LOSS_3  EXPECTED_MONTHLY_LOSS_1  \\\n",
              "110088              -1.000000                -1.000000   \n",
              "110089          156738.932900              6663.516562   \n",
              "110090              -1.000000                -1.000000   \n",
              "110091          572324.081646             32317.305956   \n",
              "110092              -1.000000                -1.000000   \n",
              "\n",
              "        EXPECTED_MONTHLY_LOSS_2  EXPECTED_MONTHLY_LOSS_3  \\\n",
              "110088                -1.000000                -1.000000   \n",
              "110089              5952.838565              7337.161400   \n",
              "110090                -1.000000                -1.000000   \n",
              "110091             32188.840903             27605.865593   \n",
              "110092              9315.732803                -1.000000   \n",
              "\n",
              "        EDUCATION_FAMILY_STATUS  \n",
              "110088                        1  \n",
              "110089                        0  \n",
              "110090                        1  \n",
              "110091                       10  \n",
              "110092                        0  "
            ]
          },
          "metadata": {
            "tags": []
          },
          "execution_count": 210
        }
      ]
    },
    {
      "cell_type": "code",
      "metadata": {
        "id": "D2vAugoX6ZFl",
        "trusted": true,
        "outputId": "9f8d95a6-31a6-4883-f7ca-d5e8d03e497f",
        "colab": {
          "base_uri": "https://localhost:8080/",
          "height": 204
        }
      },
      "source": [
        "source['train'].tail()"
      ],
      "execution_count": 211,
      "outputs": [
        {
          "output_type": "execute_result",
          "data": {
            "text/html": [
              "<div>\n",
              "<style scoped>\n",
              "    .dataframe tbody tr th:only-of-type {\n",
              "        vertical-align: middle;\n",
              "    }\n",
              "\n",
              "    .dataframe tbody tr th {\n",
              "        vertical-align: top;\n",
              "    }\n",
              "\n",
              "    .dataframe thead th {\n",
              "        text-align: right;\n",
              "    }\n",
              "</style>\n",
              "<table border=\"1\" class=\"dataframe\">\n",
              "  <thead>\n",
              "    <tr style=\"text-align: right;\">\n",
              "      <th></th>\n",
              "      <th>APPLICATION_NUMBER</th>\n",
              "      <th>TARGET</th>\n",
              "      <th>NAME_CONTRACT_TYPE</th>\n",
              "    </tr>\n",
              "  </thead>\n",
              "  <tbody>\n",
              "    <tr>\n",
              "      <th>110088</th>\n",
              "      <td>123458312</td>\n",
              "      <td>0</td>\n",
              "      <td>Cash</td>\n",
              "    </tr>\n",
              "    <tr>\n",
              "      <th>110089</th>\n",
              "      <td>123672463</td>\n",
              "      <td>0</td>\n",
              "      <td>Cash</td>\n",
              "    </tr>\n",
              "    <tr>\n",
              "      <th>110090</th>\n",
              "      <td>123723001</td>\n",
              "      <td>0</td>\n",
              "      <td>Cash</td>\n",
              "    </tr>\n",
              "    <tr>\n",
              "      <th>110091</th>\n",
              "      <td>123554358</td>\n",
              "      <td>0</td>\n",
              "      <td>Cash</td>\n",
              "    </tr>\n",
              "    <tr>\n",
              "      <th>110092</th>\n",
              "      <td>123676265</td>\n",
              "      <td>0</td>\n",
              "      <td>Credit Card</td>\n",
              "    </tr>\n",
              "  </tbody>\n",
              "</table>\n",
              "</div>"
            ],
            "text/plain": [
              "        APPLICATION_NUMBER  TARGET NAME_CONTRACT_TYPE\n",
              "110088           123458312       0               Cash\n",
              "110089           123672463       0               Cash\n",
              "110090           123723001       0               Cash\n",
              "110091           123554358       0               Cash\n",
              "110092           123676265       0        Credit Card"
            ]
          },
          "metadata": {
            "tags": []
          },
          "execution_count": 211
        }
      ]
    },
    {
      "cell_type": "code",
      "metadata": {
        "id": "_WW5_M566ZFo",
        "trusted": true,
        "outputId": "32a650ae-d484-4250-85cc-ef0a43b178e4",
        "colab": {
          "base_uri": "https://localhost:8080/",
          "height": 34
        }
      },
      "source": [
        "test_prep = data.loc[data['TARGET'] == -1].copy().reset_index(drop=True)\n",
        "test_prep.drop('TARGET', axis=1, inplace=True)\n",
        "test_prep.shape"
      ],
      "execution_count": 212,
      "outputs": [
        {
          "output_type": "execute_result",
          "data": {
            "text/plain": [
              "(165141, 42)"
            ]
          },
          "metadata": {
            "tags": []
          },
          "execution_count": 212
        }
      ]
    },
    {
      "cell_type": "code",
      "metadata": {
        "id": "AOncx8iuVTNz",
        "trusted": true,
        "outputId": "0675f2d5-b9c5-4acc-e386-5a9cc74deb50",
        "colab": {
          "base_uri": "https://localhost:8080/",
          "height": 34
        }
      },
      "source": [
        "test_cat_prep = data_cat.loc[data_cat['TARGET'] == -1].copy().reset_index(drop=True)\n",
        "test_cat_prep.drop('TARGET', axis=1, inplace=True)\n",
        "test_cat_prep.shape"
      ],
      "execution_count": 213,
      "outputs": [
        {
          "output_type": "execute_result",
          "data": {
            "text/plain": [
              "(165141, 42)"
            ]
          },
          "metadata": {
            "tags": []
          },
          "execution_count": 213
        }
      ]
    },
    {
      "cell_type": "code",
      "metadata": {
        "id": "jkU8eS4-6ZFs",
        "trusted": true,
        "outputId": "7e730235-785f-439e-81bf-d0346ee7cb71",
        "colab": {
          "base_uri": "https://localhost:8080/",
          "height": 162
        }
      },
      "source": [
        "test_prep.head(3)"
      ],
      "execution_count": 214,
      "outputs": [
        {
          "output_type": "execute_result",
          "data": {
            "text/html": [
              "<div>\n",
              "<style scoped>\n",
              "    .dataframe tbody tr th:only-of-type {\n",
              "        vertical-align: middle;\n",
              "    }\n",
              "\n",
              "    .dataframe tbody tr th {\n",
              "        vertical-align: top;\n",
              "    }\n",
              "\n",
              "    .dataframe thead th {\n",
              "        text-align: right;\n",
              "    }\n",
              "</style>\n",
              "<table border=\"1\" class=\"dataframe\">\n",
              "  <thead>\n",
              "    <tr style=\"text-align: right;\">\n",
              "      <th></th>\n",
              "      <th>APPLICATION_NUMBER</th>\n",
              "      <th>NAME_CONTRACT_TYPE</th>\n",
              "      <th>GENDER</th>\n",
              "      <th>CHILDRENS</th>\n",
              "      <th>TOTAL_SALARY</th>\n",
              "      <th>AMOUNT_CREDIT</th>\n",
              "      <th>AMOUNT_ANNUITY</th>\n",
              "      <th>EDUCATION_LEVEL</th>\n",
              "      <th>FAMILY_STATUS</th>\n",
              "      <th>REGION_POPULATION</th>\n",
              "      <th>AGE</th>\n",
              "      <th>DAYS_ON_LAST_JOB</th>\n",
              "      <th>OWN_CAR_AGE</th>\n",
              "      <th>FLAG_PHONE</th>\n",
              "      <th>FLAG_EMAIL</th>\n",
              "      <th>FAMILY_SIZE</th>\n",
              "      <th>EXTERNAL_SCORING_RATING_1</th>\n",
              "      <th>EXTERNAL_SCORING_RATING_2</th>\n",
              "      <th>EXTERNAL_SCORING_RATING_3</th>\n",
              "      <th>AMT_REQ_CREDIT_BUREAU_HOUR</th>\n",
              "      <th>AMT_REQ_CREDIT_BUREAU_DAY</th>\n",
              "      <th>AMT_REQ_CREDIT_BUREAU_WEEK</th>\n",
              "      <th>AMT_REQ_CREDIT_BUREAU_MON</th>\n",
              "      <th>AMT_REQ_CREDIT_BUREAU_QRT</th>\n",
              "      <th>AMT_REQ_CREDIT_BUREAU_YEAR</th>\n",
              "      <th>EXTERNAL_SCORING_PROD</th>\n",
              "      <th>EXTERNAL_SCORING_WEIGHTED</th>\n",
              "      <th>EXTERNAL_SCORING_RATING_min</th>\n",
              "      <th>EXTERNAL_SCORING_RATING_max</th>\n",
              "      <th>EXTERNAL_SCORING_RATING_mean</th>\n",
              "      <th>EXTERNAL_SCORING_RATING_nanmedian</th>\n",
              "      <th>EXTERNAL_SCORING_RATING_var</th>\n",
              "      <th>RATIO_CREDIT_TO_ANNUITY</th>\n",
              "      <th>RATIO_ANNUITY_TO_SALARY</th>\n",
              "      <th>RATIO_CREDIT_TO_SALARY</th>\n",
              "      <th>EXPECTED_TOTAL_LOSS_1</th>\n",
              "      <th>EXPECTED_TOTAL_LOSS_2</th>\n",
              "      <th>EXPECTED_TOTAL_LOSS_3</th>\n",
              "      <th>EXPECTED_MONTHLY_LOSS_1</th>\n",
              "      <th>EXPECTED_MONTHLY_LOSS_2</th>\n",
              "      <th>EXPECTED_MONTHLY_LOSS_3</th>\n",
              "      <th>EDUCATION_FAMILY_STATUS</th>\n",
              "    </tr>\n",
              "  </thead>\n",
              "  <tbody>\n",
              "    <tr>\n",
              "      <th>0</th>\n",
              "      <td>123724268</td>\n",
              "      <td>0</td>\n",
              "      <td>0</td>\n",
              "      <td>0.0</td>\n",
              "      <td>117000.0</td>\n",
              "      <td>1125000.0</td>\n",
              "      <td>32895.0</td>\n",
              "      <td>0</td>\n",
              "      <td>0</td>\n",
              "      <td>0.028663</td>\n",
              "      <td>16007.0</td>\n",
              "      <td>2646.0</td>\n",
              "      <td>20.0</td>\n",
              "      <td>0.0</td>\n",
              "      <td>0.0</td>\n",
              "      <td>2.0</td>\n",
              "      <td>-1.0</td>\n",
              "      <td>0.628266</td>\n",
              "      <td>-1.000000</td>\n",
              "      <td>0.0</td>\n",
              "      <td>0.0</td>\n",
              "      <td>0.0</td>\n",
              "      <td>0.0</td>\n",
              "      <td>1.0</td>\n",
              "      <td>4.0</td>\n",
              "      <td>-1.0</td>\n",
              "      <td>-1.0</td>\n",
              "      <td>0.628266</td>\n",
              "      <td>0.628266</td>\n",
              "      <td>0.628266</td>\n",
              "      <td>0.628266</td>\n",
              "      <td>0.000000</td>\n",
              "      <td>34.199726</td>\n",
              "      <td>0.281154</td>\n",
              "      <td>9.615385</td>\n",
              "      <td>-1.0</td>\n",
              "      <td>706799.427892</td>\n",
              "      <td>-1.000000</td>\n",
              "      <td>-1.0</td>\n",
              "      <td>20666.815272</td>\n",
              "      <td>-1.000000</td>\n",
              "      <td>0</td>\n",
              "    </tr>\n",
              "    <tr>\n",
              "      <th>1</th>\n",
              "      <td>123456549</td>\n",
              "      <td>0</td>\n",
              "      <td>2</td>\n",
              "      <td>2.0</td>\n",
              "      <td>81000.0</td>\n",
              "      <td>312768.0</td>\n",
              "      <td>17095.5</td>\n",
              "      <td>0</td>\n",
              "      <td>0</td>\n",
              "      <td>0.019689</td>\n",
              "      <td>10315.0</td>\n",
              "      <td>459.0</td>\n",
              "      <td>-1.0</td>\n",
              "      <td>0.0</td>\n",
              "      <td>0.0</td>\n",
              "      <td>4.0</td>\n",
              "      <td>-1.0</td>\n",
              "      <td>0.578161</td>\n",
              "      <td>0.188490</td>\n",
              "      <td>0.0</td>\n",
              "      <td>0.0</td>\n",
              "      <td>1.0</td>\n",
              "      <td>0.0</td>\n",
              "      <td>0.0</td>\n",
              "      <td>2.0</td>\n",
              "      <td>-1.0</td>\n",
              "      <td>-1.0</td>\n",
              "      <td>0.188490</td>\n",
              "      <td>0.578161</td>\n",
              "      <td>0.383325</td>\n",
              "      <td>0.383325</td>\n",
              "      <td>0.037961</td>\n",
              "      <td>18.295341</td>\n",
              "      <td>0.211056</td>\n",
              "      <td>3.861333</td>\n",
              "      <td>-1.0</td>\n",
              "      <td>180830.265914</td>\n",
              "      <td>58953.494506</td>\n",
              "      <td>-1.0</td>\n",
              "      <td>9883.951718</td>\n",
              "      <td>3222.322825</td>\n",
              "      <td>0</td>\n",
              "    </tr>\n",
              "    <tr>\n",
              "      <th>2</th>\n",
              "      <td>123428178</td>\n",
              "      <td>1</td>\n",
              "      <td>2</td>\n",
              "      <td>2.0</td>\n",
              "      <td>157500.0</td>\n",
              "      <td>450000.0</td>\n",
              "      <td>22500.0</td>\n",
              "      <td>0</td>\n",
              "      <td>0</td>\n",
              "      <td>0.019101</td>\n",
              "      <td>13016.0</td>\n",
              "      <td>977.0</td>\n",
              "      <td>-1.0</td>\n",
              "      <td>1.0</td>\n",
              "      <td>0.0</td>\n",
              "      <td>4.0</td>\n",
              "      <td>-1.0</td>\n",
              "      <td>0.152544</td>\n",
              "      <td>0.382502</td>\n",
              "      <td>0.0</td>\n",
              "      <td>0.0</td>\n",
              "      <td>0.0</td>\n",
              "      <td>0.0</td>\n",
              "      <td>1.0</td>\n",
              "      <td>6.0</td>\n",
              "      <td>-1.0</td>\n",
              "      <td>-1.0</td>\n",
              "      <td>0.152544</td>\n",
              "      <td>0.382502</td>\n",
              "      <td>0.267523</td>\n",
              "      <td>0.267523</td>\n",
              "      <td>0.013220</td>\n",
              "      <td>20.000000</td>\n",
              "      <td>0.142857</td>\n",
              "      <td>2.857143</td>\n",
              "      <td>-1.0</td>\n",
              "      <td>68644.984320</td>\n",
              "      <td>172125.811865</td>\n",
              "      <td>-1.0</td>\n",
              "      <td>3432.249216</td>\n",
              "      <td>8606.290593</td>\n",
              "      <td>0</td>\n",
              "    </tr>\n",
              "  </tbody>\n",
              "</table>\n",
              "</div>"
            ],
            "text/plain": [
              "   APPLICATION_NUMBER  NAME_CONTRACT_TYPE  GENDER  CHILDRENS  TOTAL_SALARY  \\\n",
              "0           123724268                   0       0        0.0      117000.0   \n",
              "1           123456549                   0       2        2.0       81000.0   \n",
              "2           123428178                   1       2        2.0      157500.0   \n",
              "\n",
              "   AMOUNT_CREDIT  AMOUNT_ANNUITY  EDUCATION_LEVEL  FAMILY_STATUS  \\\n",
              "0      1125000.0         32895.0                0              0   \n",
              "1       312768.0         17095.5                0              0   \n",
              "2       450000.0         22500.0                0              0   \n",
              "\n",
              "   REGION_POPULATION      AGE  DAYS_ON_LAST_JOB  OWN_CAR_AGE  FLAG_PHONE  \\\n",
              "0           0.028663  16007.0            2646.0         20.0         0.0   \n",
              "1           0.019689  10315.0             459.0         -1.0         0.0   \n",
              "2           0.019101  13016.0             977.0         -1.0         1.0   \n",
              "\n",
              "   FLAG_EMAIL  FAMILY_SIZE  EXTERNAL_SCORING_RATING_1  \\\n",
              "0         0.0          2.0                       -1.0   \n",
              "1         0.0          4.0                       -1.0   \n",
              "2         0.0          4.0                       -1.0   \n",
              "\n",
              "   EXTERNAL_SCORING_RATING_2  EXTERNAL_SCORING_RATING_3  \\\n",
              "0                   0.628266                  -1.000000   \n",
              "1                   0.578161                   0.188490   \n",
              "2                   0.152544                   0.382502   \n",
              "\n",
              "   AMT_REQ_CREDIT_BUREAU_HOUR  AMT_REQ_CREDIT_BUREAU_DAY  \\\n",
              "0                         0.0                        0.0   \n",
              "1                         0.0                        0.0   \n",
              "2                         0.0                        0.0   \n",
              "\n",
              "   AMT_REQ_CREDIT_BUREAU_WEEK  AMT_REQ_CREDIT_BUREAU_MON  \\\n",
              "0                         0.0                        0.0   \n",
              "1                         1.0                        0.0   \n",
              "2                         0.0                        0.0   \n",
              "\n",
              "   AMT_REQ_CREDIT_BUREAU_QRT  AMT_REQ_CREDIT_BUREAU_YEAR  \\\n",
              "0                        1.0                         4.0   \n",
              "1                        0.0                         2.0   \n",
              "2                        1.0                         6.0   \n",
              "\n",
              "   EXTERNAL_SCORING_PROD  EXTERNAL_SCORING_WEIGHTED  \\\n",
              "0                   -1.0                       -1.0   \n",
              "1                   -1.0                       -1.0   \n",
              "2                   -1.0                       -1.0   \n",
              "\n",
              "   EXTERNAL_SCORING_RATING_min  EXTERNAL_SCORING_RATING_max  \\\n",
              "0                     0.628266                     0.628266   \n",
              "1                     0.188490                     0.578161   \n",
              "2                     0.152544                     0.382502   \n",
              "\n",
              "   EXTERNAL_SCORING_RATING_mean  EXTERNAL_SCORING_RATING_nanmedian  \\\n",
              "0                      0.628266                           0.628266   \n",
              "1                      0.383325                           0.383325   \n",
              "2                      0.267523                           0.267523   \n",
              "\n",
              "   EXTERNAL_SCORING_RATING_var  RATIO_CREDIT_TO_ANNUITY  \\\n",
              "0                     0.000000                34.199726   \n",
              "1                     0.037961                18.295341   \n",
              "2                     0.013220                20.000000   \n",
              "\n",
              "   RATIO_ANNUITY_TO_SALARY  RATIO_CREDIT_TO_SALARY  EXPECTED_TOTAL_LOSS_1  \\\n",
              "0                 0.281154                9.615385                   -1.0   \n",
              "1                 0.211056                3.861333                   -1.0   \n",
              "2                 0.142857                2.857143                   -1.0   \n",
              "\n",
              "   EXPECTED_TOTAL_LOSS_2  EXPECTED_TOTAL_LOSS_3  EXPECTED_MONTHLY_LOSS_1  \\\n",
              "0          706799.427892              -1.000000                     -1.0   \n",
              "1          180830.265914           58953.494506                     -1.0   \n",
              "2           68644.984320          172125.811865                     -1.0   \n",
              "\n",
              "   EXPECTED_MONTHLY_LOSS_2  EXPECTED_MONTHLY_LOSS_3  EDUCATION_FAMILY_STATUS  \n",
              "0             20666.815272                -1.000000                        0  \n",
              "1              9883.951718              3222.322825                        0  \n",
              "2              3432.249216              8606.290593                        0  "
            ]
          },
          "metadata": {
            "tags": []
          },
          "execution_count": 214
        }
      ]
    },
    {
      "cell_type": "code",
      "metadata": {
        "id": "-slR6xRNVrqV",
        "trusted": true,
        "outputId": "f906f426-8a9b-41bc-e417-7a942759df80",
        "colab": {
          "base_uri": "https://localhost:8080/",
          "height": 213
        }
      },
      "source": [
        "test_cat_prep.head(3)"
      ],
      "execution_count": 215,
      "outputs": [
        {
          "output_type": "execute_result",
          "data": {
            "text/html": [
              "<div>\n",
              "<style scoped>\n",
              "    .dataframe tbody tr th:only-of-type {\n",
              "        vertical-align: middle;\n",
              "    }\n",
              "\n",
              "    .dataframe tbody tr th {\n",
              "        vertical-align: top;\n",
              "    }\n",
              "\n",
              "    .dataframe thead th {\n",
              "        text-align: right;\n",
              "    }\n",
              "</style>\n",
              "<table border=\"1\" class=\"dataframe\">\n",
              "  <thead>\n",
              "    <tr style=\"text-align: right;\">\n",
              "      <th></th>\n",
              "      <th>APPLICATION_NUMBER</th>\n",
              "      <th>NAME_CONTRACT_TYPE</th>\n",
              "      <th>GENDER</th>\n",
              "      <th>CHILDRENS</th>\n",
              "      <th>TOTAL_SALARY</th>\n",
              "      <th>AMOUNT_CREDIT</th>\n",
              "      <th>AMOUNT_ANNUITY</th>\n",
              "      <th>EDUCATION_LEVEL</th>\n",
              "      <th>FAMILY_STATUS</th>\n",
              "      <th>REGION_POPULATION</th>\n",
              "      <th>AGE</th>\n",
              "      <th>DAYS_ON_LAST_JOB</th>\n",
              "      <th>OWN_CAR_AGE</th>\n",
              "      <th>FLAG_PHONE</th>\n",
              "      <th>FLAG_EMAIL</th>\n",
              "      <th>FAMILY_SIZE</th>\n",
              "      <th>EXTERNAL_SCORING_RATING_1</th>\n",
              "      <th>EXTERNAL_SCORING_RATING_2</th>\n",
              "      <th>EXTERNAL_SCORING_RATING_3</th>\n",
              "      <th>AMT_REQ_CREDIT_BUREAU_HOUR</th>\n",
              "      <th>AMT_REQ_CREDIT_BUREAU_DAY</th>\n",
              "      <th>AMT_REQ_CREDIT_BUREAU_WEEK</th>\n",
              "      <th>AMT_REQ_CREDIT_BUREAU_MON</th>\n",
              "      <th>AMT_REQ_CREDIT_BUREAU_QRT</th>\n",
              "      <th>AMT_REQ_CREDIT_BUREAU_YEAR</th>\n",
              "      <th>EXTERNAL_SCORING_PROD</th>\n",
              "      <th>EXTERNAL_SCORING_WEIGHTED</th>\n",
              "      <th>EXTERNAL_SCORING_RATING_min</th>\n",
              "      <th>EXTERNAL_SCORING_RATING_max</th>\n",
              "      <th>EXTERNAL_SCORING_RATING_mean</th>\n",
              "      <th>EXTERNAL_SCORING_RATING_nanmedian</th>\n",
              "      <th>EXTERNAL_SCORING_RATING_var</th>\n",
              "      <th>RATIO_CREDIT_TO_ANNUITY</th>\n",
              "      <th>RATIO_ANNUITY_TO_SALARY</th>\n",
              "      <th>RATIO_CREDIT_TO_SALARY</th>\n",
              "      <th>EXPECTED_TOTAL_LOSS_1</th>\n",
              "      <th>EXPECTED_TOTAL_LOSS_2</th>\n",
              "      <th>EXPECTED_TOTAL_LOSS_3</th>\n",
              "      <th>EXPECTED_MONTHLY_LOSS_1</th>\n",
              "      <th>EXPECTED_MONTHLY_LOSS_2</th>\n",
              "      <th>EXPECTED_MONTHLY_LOSS_3</th>\n",
              "      <th>EDUCATION_FAMILY_STATUS</th>\n",
              "    </tr>\n",
              "  </thead>\n",
              "  <tbody>\n",
              "    <tr>\n",
              "      <th>0</th>\n",
              "      <td>123724268</td>\n",
              "      <td>Cash</td>\n",
              "      <td>M</td>\n",
              "      <td>0.0</td>\n",
              "      <td>117000.0</td>\n",
              "      <td>1125000.0</td>\n",
              "      <td>32895.0</td>\n",
              "      <td>Secondary / secondary special</td>\n",
              "      <td>Married</td>\n",
              "      <td>0.028663</td>\n",
              "      <td>16007.0</td>\n",
              "      <td>2646.0</td>\n",
              "      <td>20.0</td>\n",
              "      <td>0.0</td>\n",
              "      <td>0.0</td>\n",
              "      <td>2.0</td>\n",
              "      <td>-1.0</td>\n",
              "      <td>0.628266</td>\n",
              "      <td>-1.000000</td>\n",
              "      <td>0.0</td>\n",
              "      <td>0.0</td>\n",
              "      <td>0.0</td>\n",
              "      <td>0.0</td>\n",
              "      <td>1.0</td>\n",
              "      <td>4.0</td>\n",
              "      <td>-1.0</td>\n",
              "      <td>-1.0</td>\n",
              "      <td>0.628266</td>\n",
              "      <td>0.628266</td>\n",
              "      <td>0.628266</td>\n",
              "      <td>0.628266</td>\n",
              "      <td>0.000000</td>\n",
              "      <td>34.199726</td>\n",
              "      <td>0.281154</td>\n",
              "      <td>9.615385</td>\n",
              "      <td>-1.0</td>\n",
              "      <td>706799.427892</td>\n",
              "      <td>-1.000000</td>\n",
              "      <td>-1.0</td>\n",
              "      <td>20666.815272</td>\n",
              "      <td>-1.000000</td>\n",
              "      <td>Secondary / secondary special | Married</td>\n",
              "    </tr>\n",
              "    <tr>\n",
              "      <th>1</th>\n",
              "      <td>123456549</td>\n",
              "      <td>Cash</td>\n",
              "      <td>F</td>\n",
              "      <td>2.0</td>\n",
              "      <td>81000.0</td>\n",
              "      <td>312768.0</td>\n",
              "      <td>17095.5</td>\n",
              "      <td>Secondary / secondary special</td>\n",
              "      <td>Married</td>\n",
              "      <td>0.019689</td>\n",
              "      <td>10315.0</td>\n",
              "      <td>459.0</td>\n",
              "      <td>-1.0</td>\n",
              "      <td>0.0</td>\n",
              "      <td>0.0</td>\n",
              "      <td>4.0</td>\n",
              "      <td>-1.0</td>\n",
              "      <td>0.578161</td>\n",
              "      <td>0.188490</td>\n",
              "      <td>0.0</td>\n",
              "      <td>0.0</td>\n",
              "      <td>1.0</td>\n",
              "      <td>0.0</td>\n",
              "      <td>0.0</td>\n",
              "      <td>2.0</td>\n",
              "      <td>-1.0</td>\n",
              "      <td>-1.0</td>\n",
              "      <td>0.188490</td>\n",
              "      <td>0.578161</td>\n",
              "      <td>0.383325</td>\n",
              "      <td>0.383325</td>\n",
              "      <td>0.037961</td>\n",
              "      <td>18.295341</td>\n",
              "      <td>0.211056</td>\n",
              "      <td>3.861333</td>\n",
              "      <td>-1.0</td>\n",
              "      <td>180830.265914</td>\n",
              "      <td>58953.494506</td>\n",
              "      <td>-1.0</td>\n",
              "      <td>9883.951718</td>\n",
              "      <td>3222.322825</td>\n",
              "      <td>Secondary / secondary special | Married</td>\n",
              "    </tr>\n",
              "    <tr>\n",
              "      <th>2</th>\n",
              "      <td>123428178</td>\n",
              "      <td>Credit Card</td>\n",
              "      <td>F</td>\n",
              "      <td>2.0</td>\n",
              "      <td>157500.0</td>\n",
              "      <td>450000.0</td>\n",
              "      <td>22500.0</td>\n",
              "      <td>Secondary / secondary special</td>\n",
              "      <td>Married</td>\n",
              "      <td>0.019101</td>\n",
              "      <td>13016.0</td>\n",
              "      <td>977.0</td>\n",
              "      <td>-1.0</td>\n",
              "      <td>1.0</td>\n",
              "      <td>0.0</td>\n",
              "      <td>4.0</td>\n",
              "      <td>-1.0</td>\n",
              "      <td>0.152544</td>\n",
              "      <td>0.382502</td>\n",
              "      <td>0.0</td>\n",
              "      <td>0.0</td>\n",
              "      <td>0.0</td>\n",
              "      <td>0.0</td>\n",
              "      <td>1.0</td>\n",
              "      <td>6.0</td>\n",
              "      <td>-1.0</td>\n",
              "      <td>-1.0</td>\n",
              "      <td>0.152544</td>\n",
              "      <td>0.382502</td>\n",
              "      <td>0.267523</td>\n",
              "      <td>0.267523</td>\n",
              "      <td>0.013220</td>\n",
              "      <td>20.000000</td>\n",
              "      <td>0.142857</td>\n",
              "      <td>2.857143</td>\n",
              "      <td>-1.0</td>\n",
              "      <td>68644.984320</td>\n",
              "      <td>172125.811865</td>\n",
              "      <td>-1.0</td>\n",
              "      <td>3432.249216</td>\n",
              "      <td>8606.290593</td>\n",
              "      <td>Secondary / secondary special | Married</td>\n",
              "    </tr>\n",
              "  </tbody>\n",
              "</table>\n",
              "</div>"
            ],
            "text/plain": [
              "   APPLICATION_NUMBER NAME_CONTRACT_TYPE GENDER  CHILDRENS  TOTAL_SALARY  \\\n",
              "0           123724268               Cash      M        0.0      117000.0   \n",
              "1           123456549               Cash      F        2.0       81000.0   \n",
              "2           123428178        Credit Card      F        2.0      157500.0   \n",
              "\n",
              "   AMOUNT_CREDIT  AMOUNT_ANNUITY                EDUCATION_LEVEL FAMILY_STATUS  \\\n",
              "0      1125000.0         32895.0  Secondary / secondary special       Married   \n",
              "1       312768.0         17095.5  Secondary / secondary special       Married   \n",
              "2       450000.0         22500.0  Secondary / secondary special       Married   \n",
              "\n",
              "   REGION_POPULATION      AGE  DAYS_ON_LAST_JOB  OWN_CAR_AGE  FLAG_PHONE  \\\n",
              "0           0.028663  16007.0            2646.0         20.0         0.0   \n",
              "1           0.019689  10315.0             459.0         -1.0         0.0   \n",
              "2           0.019101  13016.0             977.0         -1.0         1.0   \n",
              "\n",
              "   FLAG_EMAIL  FAMILY_SIZE  EXTERNAL_SCORING_RATING_1  \\\n",
              "0         0.0          2.0                       -1.0   \n",
              "1         0.0          4.0                       -1.0   \n",
              "2         0.0          4.0                       -1.0   \n",
              "\n",
              "   EXTERNAL_SCORING_RATING_2  EXTERNAL_SCORING_RATING_3  \\\n",
              "0                   0.628266                  -1.000000   \n",
              "1                   0.578161                   0.188490   \n",
              "2                   0.152544                   0.382502   \n",
              "\n",
              "   AMT_REQ_CREDIT_BUREAU_HOUR  AMT_REQ_CREDIT_BUREAU_DAY  \\\n",
              "0                         0.0                        0.0   \n",
              "1                         0.0                        0.0   \n",
              "2                         0.0                        0.0   \n",
              "\n",
              "   AMT_REQ_CREDIT_BUREAU_WEEK  AMT_REQ_CREDIT_BUREAU_MON  \\\n",
              "0                         0.0                        0.0   \n",
              "1                         1.0                        0.0   \n",
              "2                         0.0                        0.0   \n",
              "\n",
              "   AMT_REQ_CREDIT_BUREAU_QRT  AMT_REQ_CREDIT_BUREAU_YEAR  \\\n",
              "0                        1.0                         4.0   \n",
              "1                        0.0                         2.0   \n",
              "2                        1.0                         6.0   \n",
              "\n",
              "   EXTERNAL_SCORING_PROD  EXTERNAL_SCORING_WEIGHTED  \\\n",
              "0                   -1.0                       -1.0   \n",
              "1                   -1.0                       -1.0   \n",
              "2                   -1.0                       -1.0   \n",
              "\n",
              "   EXTERNAL_SCORING_RATING_min  EXTERNAL_SCORING_RATING_max  \\\n",
              "0                     0.628266                     0.628266   \n",
              "1                     0.188490                     0.578161   \n",
              "2                     0.152544                     0.382502   \n",
              "\n",
              "   EXTERNAL_SCORING_RATING_mean  EXTERNAL_SCORING_RATING_nanmedian  \\\n",
              "0                      0.628266                           0.628266   \n",
              "1                      0.383325                           0.383325   \n",
              "2                      0.267523                           0.267523   \n",
              "\n",
              "   EXTERNAL_SCORING_RATING_var  RATIO_CREDIT_TO_ANNUITY  \\\n",
              "0                     0.000000                34.199726   \n",
              "1                     0.037961                18.295341   \n",
              "2                     0.013220                20.000000   \n",
              "\n",
              "   RATIO_ANNUITY_TO_SALARY  RATIO_CREDIT_TO_SALARY  EXPECTED_TOTAL_LOSS_1  \\\n",
              "0                 0.281154                9.615385                   -1.0   \n",
              "1                 0.211056                3.861333                   -1.0   \n",
              "2                 0.142857                2.857143                   -1.0   \n",
              "\n",
              "   EXPECTED_TOTAL_LOSS_2  EXPECTED_TOTAL_LOSS_3  EXPECTED_MONTHLY_LOSS_1  \\\n",
              "0          706799.427892              -1.000000                     -1.0   \n",
              "1          180830.265914           58953.494506                     -1.0   \n",
              "2           68644.984320          172125.811865                     -1.0   \n",
              "\n",
              "   EXPECTED_MONTHLY_LOSS_2  EXPECTED_MONTHLY_LOSS_3  \\\n",
              "0             20666.815272                -1.000000   \n",
              "1              9883.951718              3222.322825   \n",
              "2              3432.249216              8606.290593   \n",
              "\n",
              "                   EDUCATION_FAMILY_STATUS  \n",
              "0  Secondary / secondary special | Married  \n",
              "1  Secondary / secondary special | Married  \n",
              "2  Secondary / secondary special | Married  "
            ]
          },
          "metadata": {
            "tags": []
          },
          "execution_count": 215
        }
      ]
    },
    {
      "cell_type": "code",
      "metadata": {
        "id": "CQ7LiqCV6ZFv",
        "trusted": true,
        "outputId": "acd9b0ac-614b-44ca-f333-97e9e95b83bb",
        "colab": {
          "base_uri": "https://localhost:8080/",
          "height": 204
        }
      },
      "source": [
        "source['test'].head()"
      ],
      "execution_count": 216,
      "outputs": [
        {
          "output_type": "execute_result",
          "data": {
            "text/html": [
              "<div>\n",
              "<style scoped>\n",
              "    .dataframe tbody tr th:only-of-type {\n",
              "        vertical-align: middle;\n",
              "    }\n",
              "\n",
              "    .dataframe tbody tr th {\n",
              "        vertical-align: top;\n",
              "    }\n",
              "\n",
              "    .dataframe thead th {\n",
              "        text-align: right;\n",
              "    }\n",
              "</style>\n",
              "<table border=\"1\" class=\"dataframe\">\n",
              "  <thead>\n",
              "    <tr style=\"text-align: right;\">\n",
              "      <th></th>\n",
              "      <th>APPLICATION_NUMBER</th>\n",
              "      <th>NAME_CONTRACT_TYPE</th>\n",
              "      <th>TARGET</th>\n",
              "    </tr>\n",
              "  </thead>\n",
              "  <tbody>\n",
              "    <tr>\n",
              "      <th>0</th>\n",
              "      <td>123724268</td>\n",
              "      <td>Cash</td>\n",
              "      <td>NaN</td>\n",
              "    </tr>\n",
              "    <tr>\n",
              "      <th>1</th>\n",
              "      <td>123456549</td>\n",
              "      <td>Cash</td>\n",
              "      <td>NaN</td>\n",
              "    </tr>\n",
              "    <tr>\n",
              "      <th>2</th>\n",
              "      <td>123428178</td>\n",
              "      <td>Credit Card</td>\n",
              "      <td>NaN</td>\n",
              "    </tr>\n",
              "    <tr>\n",
              "      <th>3</th>\n",
              "      <td>123619984</td>\n",
              "      <td>Cash</td>\n",
              "      <td>NaN</td>\n",
              "    </tr>\n",
              "    <tr>\n",
              "      <th>4</th>\n",
              "      <td>123671104</td>\n",
              "      <td>Cash</td>\n",
              "      <td>NaN</td>\n",
              "    </tr>\n",
              "  </tbody>\n",
              "</table>\n",
              "</div>"
            ],
            "text/plain": [
              "   APPLICATION_NUMBER NAME_CONTRACT_TYPE  TARGET\n",
              "0           123724268               Cash     NaN\n",
              "1           123456549               Cash     NaN\n",
              "2           123428178        Credit Card     NaN\n",
              "3           123619984               Cash     NaN\n",
              "4           123671104               Cash     NaN"
            ]
          },
          "metadata": {
            "tags": []
          },
          "execution_count": 216
        }
      ]
    },
    {
      "cell_type": "code",
      "metadata": {
        "id": "cSljrJ1g6ZFx",
        "trusted": true,
        "outputId": "41540ab3-6a6e-4519-a4bd-99d4e2bda2d2",
        "colab": {
          "base_uri": "https://localhost:8080/",
          "height": 224
        }
      },
      "source": [
        "test_prep.tail()"
      ],
      "execution_count": 217,
      "outputs": [
        {
          "output_type": "execute_result",
          "data": {
            "text/html": [
              "<div>\n",
              "<style scoped>\n",
              "    .dataframe tbody tr th:only-of-type {\n",
              "        vertical-align: middle;\n",
              "    }\n",
              "\n",
              "    .dataframe tbody tr th {\n",
              "        vertical-align: top;\n",
              "    }\n",
              "\n",
              "    .dataframe thead th {\n",
              "        text-align: right;\n",
              "    }\n",
              "</style>\n",
              "<table border=\"1\" class=\"dataframe\">\n",
              "  <thead>\n",
              "    <tr style=\"text-align: right;\">\n",
              "      <th></th>\n",
              "      <th>APPLICATION_NUMBER</th>\n",
              "      <th>NAME_CONTRACT_TYPE</th>\n",
              "      <th>GENDER</th>\n",
              "      <th>CHILDRENS</th>\n",
              "      <th>TOTAL_SALARY</th>\n",
              "      <th>AMOUNT_CREDIT</th>\n",
              "      <th>AMOUNT_ANNUITY</th>\n",
              "      <th>EDUCATION_LEVEL</th>\n",
              "      <th>FAMILY_STATUS</th>\n",
              "      <th>REGION_POPULATION</th>\n",
              "      <th>AGE</th>\n",
              "      <th>DAYS_ON_LAST_JOB</th>\n",
              "      <th>OWN_CAR_AGE</th>\n",
              "      <th>FLAG_PHONE</th>\n",
              "      <th>FLAG_EMAIL</th>\n",
              "      <th>FAMILY_SIZE</th>\n",
              "      <th>EXTERNAL_SCORING_RATING_1</th>\n",
              "      <th>EXTERNAL_SCORING_RATING_2</th>\n",
              "      <th>EXTERNAL_SCORING_RATING_3</th>\n",
              "      <th>AMT_REQ_CREDIT_BUREAU_HOUR</th>\n",
              "      <th>AMT_REQ_CREDIT_BUREAU_DAY</th>\n",
              "      <th>AMT_REQ_CREDIT_BUREAU_WEEK</th>\n",
              "      <th>AMT_REQ_CREDIT_BUREAU_MON</th>\n",
              "      <th>AMT_REQ_CREDIT_BUREAU_QRT</th>\n",
              "      <th>AMT_REQ_CREDIT_BUREAU_YEAR</th>\n",
              "      <th>EXTERNAL_SCORING_PROD</th>\n",
              "      <th>EXTERNAL_SCORING_WEIGHTED</th>\n",
              "      <th>EXTERNAL_SCORING_RATING_min</th>\n",
              "      <th>EXTERNAL_SCORING_RATING_max</th>\n",
              "      <th>EXTERNAL_SCORING_RATING_mean</th>\n",
              "      <th>EXTERNAL_SCORING_RATING_nanmedian</th>\n",
              "      <th>EXTERNAL_SCORING_RATING_var</th>\n",
              "      <th>RATIO_CREDIT_TO_ANNUITY</th>\n",
              "      <th>RATIO_ANNUITY_TO_SALARY</th>\n",
              "      <th>RATIO_CREDIT_TO_SALARY</th>\n",
              "      <th>EXPECTED_TOTAL_LOSS_1</th>\n",
              "      <th>EXPECTED_TOTAL_LOSS_2</th>\n",
              "      <th>EXPECTED_TOTAL_LOSS_3</th>\n",
              "      <th>EXPECTED_MONTHLY_LOSS_1</th>\n",
              "      <th>EXPECTED_MONTHLY_LOSS_2</th>\n",
              "      <th>EXPECTED_MONTHLY_LOSS_3</th>\n",
              "      <th>EDUCATION_FAMILY_STATUS</th>\n",
              "    </tr>\n",
              "  </thead>\n",
              "  <tbody>\n",
              "    <tr>\n",
              "      <th>165136</th>\n",
              "      <td>123487967</td>\n",
              "      <td>0</td>\n",
              "      <td>1</td>\n",
              "      <td>-1.0</td>\n",
              "      <td>-1.0</td>\n",
              "      <td>-1.0</td>\n",
              "      <td>-1.0</td>\n",
              "      <td>1</td>\n",
              "      <td>1</td>\n",
              "      <td>-1.000000</td>\n",
              "      <td>-1.0</td>\n",
              "      <td>-1.0</td>\n",
              "      <td>-1.0</td>\n",
              "      <td>-1.0</td>\n",
              "      <td>-1.0</td>\n",
              "      <td>-1.0</td>\n",
              "      <td>-1.0</td>\n",
              "      <td>-1.000000</td>\n",
              "      <td>-1.000000</td>\n",
              "      <td>-1.0</td>\n",
              "      <td>-1.0</td>\n",
              "      <td>-1.0</td>\n",
              "      <td>-1.0</td>\n",
              "      <td>-1.0</td>\n",
              "      <td>-1.0</td>\n",
              "      <td>-1.0</td>\n",
              "      <td>-1.0</td>\n",
              "      <td>-1.000000</td>\n",
              "      <td>-1.000000</td>\n",
              "      <td>-1.000000</td>\n",
              "      <td>-1.000000</td>\n",
              "      <td>-1.000000</td>\n",
              "      <td>-1.000000</td>\n",
              "      <td>-1.000000</td>\n",
              "      <td>-1.000000</td>\n",
              "      <td>-1.0</td>\n",
              "      <td>-1.000000</td>\n",
              "      <td>-1.000000</td>\n",
              "      <td>-1.0</td>\n",
              "      <td>-1.000000</td>\n",
              "      <td>-1.000000</td>\n",
              "      <td>1</td>\n",
              "    </tr>\n",
              "    <tr>\n",
              "      <th>165137</th>\n",
              "      <td>123536402</td>\n",
              "      <td>0</td>\n",
              "      <td>0</td>\n",
              "      <td>0.0</td>\n",
              "      <td>135000.0</td>\n",
              "      <td>450000.0</td>\n",
              "      <td>16807.5</td>\n",
              "      <td>0</td>\n",
              "      <td>2</td>\n",
              "      <td>0.028663</td>\n",
              "      <td>18610.0</td>\n",
              "      <td>10398.0</td>\n",
              "      <td>23.0</td>\n",
              "      <td>0.0</td>\n",
              "      <td>0.0</td>\n",
              "      <td>1.0</td>\n",
              "      <td>-1.0</td>\n",
              "      <td>0.665971</td>\n",
              "      <td>0.535276</td>\n",
              "      <td>0.0</td>\n",
              "      <td>0.0</td>\n",
              "      <td>0.0</td>\n",
              "      <td>0.0</td>\n",
              "      <td>0.0</td>\n",
              "      <td>0.0</td>\n",
              "      <td>-1.0</td>\n",
              "      <td>-1.0</td>\n",
              "      <td>0.535276</td>\n",
              "      <td>0.665971</td>\n",
              "      <td>0.600624</td>\n",
              "      <td>0.600624</td>\n",
              "      <td>0.004270</td>\n",
              "      <td>26.773762</td>\n",
              "      <td>0.124500</td>\n",
              "      <td>3.333333</td>\n",
              "      <td>-1.0</td>\n",
              "      <td>299686.841680</td>\n",
              "      <td>240874.312713</td>\n",
              "      <td>-1.0</td>\n",
              "      <td>11193.303537</td>\n",
              "      <td>8996.655580</td>\n",
              "      <td>3</td>\n",
              "    </tr>\n",
              "    <tr>\n",
              "      <th>165138</th>\n",
              "      <td>123718238</td>\n",
              "      <td>0</td>\n",
              "      <td>1</td>\n",
              "      <td>-1.0</td>\n",
              "      <td>-1.0</td>\n",
              "      <td>-1.0</td>\n",
              "      <td>-1.0</td>\n",
              "      <td>1</td>\n",
              "      <td>1</td>\n",
              "      <td>-1.000000</td>\n",
              "      <td>-1.0</td>\n",
              "      <td>-1.0</td>\n",
              "      <td>-1.0</td>\n",
              "      <td>-1.0</td>\n",
              "      <td>-1.0</td>\n",
              "      <td>-1.0</td>\n",
              "      <td>-1.0</td>\n",
              "      <td>-1.000000</td>\n",
              "      <td>-1.000000</td>\n",
              "      <td>-1.0</td>\n",
              "      <td>-1.0</td>\n",
              "      <td>-1.0</td>\n",
              "      <td>-1.0</td>\n",
              "      <td>-1.0</td>\n",
              "      <td>-1.0</td>\n",
              "      <td>-1.0</td>\n",
              "      <td>-1.0</td>\n",
              "      <td>-1.000000</td>\n",
              "      <td>-1.000000</td>\n",
              "      <td>-1.000000</td>\n",
              "      <td>-1.000000</td>\n",
              "      <td>-1.000000</td>\n",
              "      <td>-1.000000</td>\n",
              "      <td>-1.000000</td>\n",
              "      <td>-1.000000</td>\n",
              "      <td>-1.0</td>\n",
              "      <td>-1.000000</td>\n",
              "      <td>-1.000000</td>\n",
              "      <td>-1.0</td>\n",
              "      <td>-1.000000</td>\n",
              "      <td>-1.000000</td>\n",
              "      <td>1</td>\n",
              "    </tr>\n",
              "    <tr>\n",
              "      <th>165139</th>\n",
              "      <td>123631557</td>\n",
              "      <td>0</td>\n",
              "      <td>2</td>\n",
              "      <td>0.0</td>\n",
              "      <td>112500.0</td>\n",
              "      <td>350181.0</td>\n",
              "      <td>36769.5</td>\n",
              "      <td>0</td>\n",
              "      <td>0</td>\n",
              "      <td>0.030755</td>\n",
              "      <td>20551.0</td>\n",
              "      <td>-1.0</td>\n",
              "      <td>-1.0</td>\n",
              "      <td>0.0</td>\n",
              "      <td>1.0</td>\n",
              "      <td>2.0</td>\n",
              "      <td>-1.0</td>\n",
              "      <td>0.761376</td>\n",
              "      <td>-1.000000</td>\n",
              "      <td>-1.0</td>\n",
              "      <td>-1.0</td>\n",
              "      <td>-1.0</td>\n",
              "      <td>-1.0</td>\n",
              "      <td>-1.0</td>\n",
              "      <td>-1.0</td>\n",
              "      <td>-1.0</td>\n",
              "      <td>-1.0</td>\n",
              "      <td>0.761376</td>\n",
              "      <td>0.761376</td>\n",
              "      <td>0.761376</td>\n",
              "      <td>0.761376</td>\n",
              "      <td>0.000000</td>\n",
              "      <td>9.523681</td>\n",
              "      <td>0.326840</td>\n",
              "      <td>3.112720</td>\n",
              "      <td>-1.0</td>\n",
              "      <td>266619.257702</td>\n",
              "      <td>-1.000000</td>\n",
              "      <td>-1.0</td>\n",
              "      <td>27995.398940</td>\n",
              "      <td>-1.000000</td>\n",
              "      <td>0</td>\n",
              "    </tr>\n",
              "    <tr>\n",
              "      <th>165140</th>\n",
              "      <td>123433260</td>\n",
              "      <td>0</td>\n",
              "      <td>0</td>\n",
              "      <td>0.0</td>\n",
              "      <td>247500.0</td>\n",
              "      <td>1241437.5</td>\n",
              "      <td>36427.5</td>\n",
              "      <td>0</td>\n",
              "      <td>0</td>\n",
              "      <td>0.018029</td>\n",
              "      <td>18853.0</td>\n",
              "      <td>6543.0</td>\n",
              "      <td>15.0</td>\n",
              "      <td>0.0</td>\n",
              "      <td>0.0</td>\n",
              "      <td>2.0</td>\n",
              "      <td>-1.0</td>\n",
              "      <td>0.493617</td>\n",
              "      <td>0.546023</td>\n",
              "      <td>0.0</td>\n",
              "      <td>0.0</td>\n",
              "      <td>0.0</td>\n",
              "      <td>1.0</td>\n",
              "      <td>0.0</td>\n",
              "      <td>2.0</td>\n",
              "      <td>-1.0</td>\n",
              "      <td>-1.0</td>\n",
              "      <td>0.493617</td>\n",
              "      <td>0.546023</td>\n",
              "      <td>0.519820</td>\n",
              "      <td>0.519820</td>\n",
              "      <td>0.000687</td>\n",
              "      <td>34.079679</td>\n",
              "      <td>0.147182</td>\n",
              "      <td>5.015909</td>\n",
              "      <td>-1.0</td>\n",
              "      <td>612794.525674</td>\n",
              "      <td>677853.672632</td>\n",
              "      <td>-1.0</td>\n",
              "      <td>17981.229489</td>\n",
              "      <td>19890.260009</td>\n",
              "      <td>0</td>\n",
              "    </tr>\n",
              "  </tbody>\n",
              "</table>\n",
              "</div>"
            ],
            "text/plain": [
              "        APPLICATION_NUMBER  NAME_CONTRACT_TYPE  GENDER  CHILDRENS  \\\n",
              "165136           123487967                   0       1       -1.0   \n",
              "165137           123536402                   0       0        0.0   \n",
              "165138           123718238                   0       1       -1.0   \n",
              "165139           123631557                   0       2        0.0   \n",
              "165140           123433260                   0       0        0.0   \n",
              "\n",
              "        TOTAL_SALARY  AMOUNT_CREDIT  AMOUNT_ANNUITY  EDUCATION_LEVEL  \\\n",
              "165136          -1.0           -1.0            -1.0                1   \n",
              "165137      135000.0       450000.0         16807.5                0   \n",
              "165138          -1.0           -1.0            -1.0                1   \n",
              "165139      112500.0       350181.0         36769.5                0   \n",
              "165140      247500.0      1241437.5         36427.5                0   \n",
              "\n",
              "        FAMILY_STATUS  REGION_POPULATION      AGE  DAYS_ON_LAST_JOB  \\\n",
              "165136              1          -1.000000     -1.0              -1.0   \n",
              "165137              2           0.028663  18610.0           10398.0   \n",
              "165138              1          -1.000000     -1.0              -1.0   \n",
              "165139              0           0.030755  20551.0              -1.0   \n",
              "165140              0           0.018029  18853.0            6543.0   \n",
              "\n",
              "        OWN_CAR_AGE  FLAG_PHONE  FLAG_EMAIL  FAMILY_SIZE  \\\n",
              "165136         -1.0        -1.0        -1.0         -1.0   \n",
              "165137         23.0         0.0         0.0          1.0   \n",
              "165138         -1.0        -1.0        -1.0         -1.0   \n",
              "165139         -1.0         0.0         1.0          2.0   \n",
              "165140         15.0         0.0         0.0          2.0   \n",
              "\n",
              "        EXTERNAL_SCORING_RATING_1  EXTERNAL_SCORING_RATING_2  \\\n",
              "165136                       -1.0                  -1.000000   \n",
              "165137                       -1.0                   0.665971   \n",
              "165138                       -1.0                  -1.000000   \n",
              "165139                       -1.0                   0.761376   \n",
              "165140                       -1.0                   0.493617   \n",
              "\n",
              "        EXTERNAL_SCORING_RATING_3  AMT_REQ_CREDIT_BUREAU_HOUR  \\\n",
              "165136                  -1.000000                        -1.0   \n",
              "165137                   0.535276                         0.0   \n",
              "165138                  -1.000000                        -1.0   \n",
              "165139                  -1.000000                        -1.0   \n",
              "165140                   0.546023                         0.0   \n",
              "\n",
              "        AMT_REQ_CREDIT_BUREAU_DAY  AMT_REQ_CREDIT_BUREAU_WEEK  \\\n",
              "165136                       -1.0                        -1.0   \n",
              "165137                        0.0                         0.0   \n",
              "165138                       -1.0                        -1.0   \n",
              "165139                       -1.0                        -1.0   \n",
              "165140                        0.0                         0.0   \n",
              "\n",
              "        AMT_REQ_CREDIT_BUREAU_MON  AMT_REQ_CREDIT_BUREAU_QRT  \\\n",
              "165136                       -1.0                       -1.0   \n",
              "165137                        0.0                        0.0   \n",
              "165138                       -1.0                       -1.0   \n",
              "165139                       -1.0                       -1.0   \n",
              "165140                        1.0                        0.0   \n",
              "\n",
              "        AMT_REQ_CREDIT_BUREAU_YEAR  EXTERNAL_SCORING_PROD  \\\n",
              "165136                        -1.0                   -1.0   \n",
              "165137                         0.0                   -1.0   \n",
              "165138                        -1.0                   -1.0   \n",
              "165139                        -1.0                   -1.0   \n",
              "165140                         2.0                   -1.0   \n",
              "\n",
              "        EXTERNAL_SCORING_WEIGHTED  EXTERNAL_SCORING_RATING_min  \\\n",
              "165136                       -1.0                    -1.000000   \n",
              "165137                       -1.0                     0.535276   \n",
              "165138                       -1.0                    -1.000000   \n",
              "165139                       -1.0                     0.761376   \n",
              "165140                       -1.0                     0.493617   \n",
              "\n",
              "        EXTERNAL_SCORING_RATING_max  EXTERNAL_SCORING_RATING_mean  \\\n",
              "165136                    -1.000000                     -1.000000   \n",
              "165137                     0.665971                      0.600624   \n",
              "165138                    -1.000000                     -1.000000   \n",
              "165139                     0.761376                      0.761376   \n",
              "165140                     0.546023                      0.519820   \n",
              "\n",
              "        EXTERNAL_SCORING_RATING_nanmedian  EXTERNAL_SCORING_RATING_var  \\\n",
              "165136                          -1.000000                    -1.000000   \n",
              "165137                           0.600624                     0.004270   \n",
              "165138                          -1.000000                    -1.000000   \n",
              "165139                           0.761376                     0.000000   \n",
              "165140                           0.519820                     0.000687   \n",
              "\n",
              "        RATIO_CREDIT_TO_ANNUITY  RATIO_ANNUITY_TO_SALARY  \\\n",
              "165136                -1.000000                -1.000000   \n",
              "165137                26.773762                 0.124500   \n",
              "165138                -1.000000                -1.000000   \n",
              "165139                 9.523681                 0.326840   \n",
              "165140                34.079679                 0.147182   \n",
              "\n",
              "        RATIO_CREDIT_TO_SALARY  EXPECTED_TOTAL_LOSS_1  EXPECTED_TOTAL_LOSS_2  \\\n",
              "165136               -1.000000                   -1.0              -1.000000   \n",
              "165137                3.333333                   -1.0          299686.841680   \n",
              "165138               -1.000000                   -1.0              -1.000000   \n",
              "165139                3.112720                   -1.0          266619.257702   \n",
              "165140                5.015909                   -1.0          612794.525674   \n",
              "\n",
              "        EXPECTED_TOTAL_LOSS_3  EXPECTED_MONTHLY_LOSS_1  \\\n",
              "165136              -1.000000                     -1.0   \n",
              "165137          240874.312713                     -1.0   \n",
              "165138              -1.000000                     -1.0   \n",
              "165139              -1.000000                     -1.0   \n",
              "165140          677853.672632                     -1.0   \n",
              "\n",
              "        EXPECTED_MONTHLY_LOSS_2  EXPECTED_MONTHLY_LOSS_3  \\\n",
              "165136                -1.000000                -1.000000   \n",
              "165137             11193.303537              8996.655580   \n",
              "165138                -1.000000                -1.000000   \n",
              "165139             27995.398940                -1.000000   \n",
              "165140             17981.229489             19890.260009   \n",
              "\n",
              "        EDUCATION_FAMILY_STATUS  \n",
              "165136                        1  \n",
              "165137                        3  \n",
              "165138                        1  \n",
              "165139                        0  \n",
              "165140                        0  "
            ]
          },
          "metadata": {
            "tags": []
          },
          "execution_count": 217
        }
      ]
    },
    {
      "cell_type": "code",
      "metadata": {
        "id": "svlsVXCz6ZF1",
        "trusted": true,
        "outputId": "2c5a0759-12a2-49ed-a185-a939c9dffb49",
        "colab": {
          "base_uri": "https://localhost:8080/",
          "height": 204
        }
      },
      "source": [
        "source['test'].tail()"
      ],
      "execution_count": 218,
      "outputs": [
        {
          "output_type": "execute_result",
          "data": {
            "text/html": [
              "<div>\n",
              "<style scoped>\n",
              "    .dataframe tbody tr th:only-of-type {\n",
              "        vertical-align: middle;\n",
              "    }\n",
              "\n",
              "    .dataframe tbody tr th {\n",
              "        vertical-align: top;\n",
              "    }\n",
              "\n",
              "    .dataframe thead th {\n",
              "        text-align: right;\n",
              "    }\n",
              "</style>\n",
              "<table border=\"1\" class=\"dataframe\">\n",
              "  <thead>\n",
              "    <tr style=\"text-align: right;\">\n",
              "      <th></th>\n",
              "      <th>APPLICATION_NUMBER</th>\n",
              "      <th>NAME_CONTRACT_TYPE</th>\n",
              "      <th>TARGET</th>\n",
              "    </tr>\n",
              "  </thead>\n",
              "  <tbody>\n",
              "    <tr>\n",
              "      <th>165136</th>\n",
              "      <td>123487967</td>\n",
              "      <td>Cash</td>\n",
              "      <td>NaN</td>\n",
              "    </tr>\n",
              "    <tr>\n",
              "      <th>165137</th>\n",
              "      <td>123536402</td>\n",
              "      <td>Cash</td>\n",
              "      <td>NaN</td>\n",
              "    </tr>\n",
              "    <tr>\n",
              "      <th>165138</th>\n",
              "      <td>123718238</td>\n",
              "      <td>Cash</td>\n",
              "      <td>NaN</td>\n",
              "    </tr>\n",
              "    <tr>\n",
              "      <th>165139</th>\n",
              "      <td>123631557</td>\n",
              "      <td>Cash</td>\n",
              "      <td>NaN</td>\n",
              "    </tr>\n",
              "    <tr>\n",
              "      <th>165140</th>\n",
              "      <td>123433260</td>\n",
              "      <td>Cash</td>\n",
              "      <td>NaN</td>\n",
              "    </tr>\n",
              "  </tbody>\n",
              "</table>\n",
              "</div>"
            ],
            "text/plain": [
              "        APPLICATION_NUMBER NAME_CONTRACT_TYPE  TARGET\n",
              "165136           123487967               Cash     NaN\n",
              "165137           123536402               Cash     NaN\n",
              "165138           123718238               Cash     NaN\n",
              "165139           123631557               Cash     NaN\n",
              "165140           123433260               Cash     NaN"
            ]
          },
          "metadata": {
            "tags": []
          },
          "execution_count": 218
        }
      ]
    },
    {
      "cell_type": "markdown",
      "metadata": {
        "id": "v642RoBu6ZF3"
      },
      "source": [
        "### Сохраняем train и test"
      ]
    },
    {
      "cell_type": "code",
      "metadata": {
        "id": "j22faTc06ZF4",
        "trusted": true
      },
      "source": [
        "# train_prep.to_csv(data_dir + \"train_prep.csv\", sep=\";\", index=False)\n",
        "# test_prep.to_csv(data_dir + \"test_prep.csv\", sep=\";\", index=False)\n",
        "# train_cat_prep.to_csv(data_dir + \"train_cat_prep.csv\", sep=\";\", index=False)\n",
        "# test_cat_prep.to_csv(data_dir + \"test_cat_prep.csv\", sep=\";\", index=False)\n",
        "\n",
        "# from google.colab import files\n",
        "# files.upload()\n",
        "\n",
        "# train_prep = pd.read_csv(data_dir + \"train_prep.csv\")\n",
        "# test_prep = pd.read_csv(data_dir + \"test_prep.csv\")"
      ],
      "execution_count": 219,
      "outputs": []
    },
    {
      "cell_type": "markdown",
      "metadata": {
        "id": "tZ5MdPvLDU3M"
      },
      "source": [
        "## LightGBM"
      ]
    },
    {
      "cell_type": "code",
      "metadata": {
        "id": "MfCb8FxW_PT3",
        "trusted": true
      },
      "source": [
        "def make_cross_validation_adapt_l(X: pd.DataFrame,\n",
        "                                  y: pd.Series,\n",
        "                                  params: Dict,\n",
        "                                  metric: callable,\n",
        "                                  cv_strategy):\n",
        "    \"\"\"\n",
        "    Кросс-валидация.\n",
        "\n",
        "    Parameters\n",
        "    ----------\n",
        "    X: pd.DataFrame\n",
        "        Матрица признаков.\n",
        "\n",
        "    y: pd.Series\n",
        "        Вектор целевой переменной.\n",
        "\n",
        "    params: Dict\n",
        "        Параметры модели.\n",
        "\n",
        "    metric: callable\n",
        "        Метрика для оценки качества решения.\n",
        "        Ожидается, что на вход будет передана функция,\n",
        "        которая принимает 2 аргумента: y_true, y_pred.\n",
        "\n",
        "    cv_strategy: cross-validation generator\n",
        "        Объект для описания стратегии кросс-валидации.\n",
        "        Ожидается, что на вход будет передан объект типа\n",
        "        KFold или StratifiedKFold.\n",
        "\n",
        "    Returns\n",
        "    -------\n",
        "    oof_score: float\n",
        "        Значение метрики качества на OOF-прогнозах.\n",
        "\n",
        "    fold_train_scores: List[float]\n",
        "        Значение метрики качества на каждом обучающем датасете кросс-валидации.\n",
        "\n",
        "    fold_valid_scores: List[float]\n",
        "        Значение метрики качества на каждом валидационном датасете кросс-валидации.\n",
        "\n",
        "    oof_predictions: np.array\n",
        "        Прогнозы на OOF.\n",
        "\n",
        "    \"\"\"\n",
        "    estimators, fold_train_scores, fold_valid_scores = [], [], []\n",
        "    oof_predictions = np.zeros(X.shape[0]) \n",
        "    \n",
        "    for fold_number, (train_idx, valid_idx) in enumerate(cv_strategy.split(X, y)):\n",
        "        x_train, x_valid = X.loc[train_idx], X.loc[valid_idx]\n",
        "        y_train, y_valid = y.loc[train_idx], y.loc[valid_idx]\n",
        "\n",
        "        model = lgbm.LGBMRegressor(num_leaves=params['num_leaves'],\n",
        "                                #    max_depth=params['max_depth'], \n",
        "                                   n_estimators=params[\"n_estimators\"],\n",
        "                                   learning_rate=params['learning_rate'],\n",
        "                                   subsample=0.5,\n",
        "                                   seed=42)\n",
        "\n",
        "        model.fit(x_train, \n",
        "                  y_train, \n",
        "                  early_stopping_rounds=50, \n",
        "                  eval_set = [(x_valid, y_valid)], \n",
        "                  eval_metric = 'auc',\n",
        "                  verbose=False)\n",
        "\n",
        "        y_train_pred = model.predict(x_train)\n",
        "        y_valid_pred = model.predict(x_valid)\n",
        "\n",
        "        fold_train_scores.append(metric(y_train, y_train_pred))\n",
        "        fold_valid_scores.append(metric(y_valid, y_valid_pred))\n",
        "        oof_predictions[valid_idx] = y_valid_pred\n",
        "\n",
        "        msg = (\n",
        "            f\"Fold: {fold_number+1}, train-observations = {len(train_idx)}, \"\n",
        "            f\"valid-observations = {len(valid_idx)}\\n\"\n",
        "            f\"train-score = {round(fold_train_scores[fold_number], 4)}, \"\n",
        "            f\"valid-score = {round(fold_valid_scores[fold_number], 4)}\" \n",
        "        )\n",
        "        print(msg)\n",
        "        print(\"=\"*69)\n",
        "        estimators.append(model)\n",
        "\n",
        "    oof_score = metric(y, oof_predictions)\n",
        "    print(f\"CV-results train: {round(np.mean(fold_train_scores), 4)} +/- {round(np.std(fold_train_scores), 3)}\")\n",
        "    print(f\"CV-results valid: {round(np.mean(fold_valid_scores), 4)} +/- {round(np.std(fold_valid_scores), 3)}\")\n",
        "    print(f\"OOF-score = {round(oof_score, 4)}\")\n",
        "\n",
        "    return estimators, oof_score, fold_train_scores, fold_valid_scores, oof_predictions"
      ],
      "execution_count": 220,
      "outputs": []
    },
    {
      "cell_type": "code",
      "metadata": {
        "id": "sJdrlkXc-xL0",
        "trusted": true
      },
      "source": [
        "parameters_l = {\n",
        "    'num_leaves': 31,\n",
        "    'n_estimators': 100,\n",
        "    'learning_rate': 0.1\n",
        "}"
      ],
      "execution_count": 221,
      "outputs": []
    },
    {
      "cell_type": "code",
      "metadata": {
        "trusted": true,
        "id": "Uguhw1WeACrT",
        "outputId": "b45f0516-3160-4a34-ea06-793d24a5138a",
        "colab": {
          "base_uri": "https://localhost:8080/",
          "height": 71
        }
      },
      "source": [
        "cv_strategy = KFold(n_splits=5, random_state=42)"
      ],
      "execution_count": 222,
      "outputs": [
        {
          "output_type": "stream",
          "text": [
            "/usr/local/lib/python3.6/dist-packages/sklearn/model_selection/_split.py:296: FutureWarning: Setting a random_state has no effect since shuffle is False. This will raise an error in 0.24. You should leave random_state to its default (None), or set shuffle=True.\n",
            "  FutureWarning\n"
          ],
          "name": "stderr"
        }
      ]
    },
    {
      "cell_type": "code",
      "metadata": {
        "id": "i7gDLAgiCXSo",
        "trusted": true,
        "outputId": "d155a516-aecb-4a33-9f17-12ead51ce307",
        "colab": {
          "base_uri": "https://localhost:8080/",
          "height": 323
        }
      },
      "source": [
        "estimators_lgbm_f, oof_score_lgbm_f, fold_train_scores_lgbm_f, fold_valid_scores_lgbm_f, oof_predictions_lgbm_f = make_cross_validation_adapt_l(\n",
        "    train_prep.drop([\"APPLICATION_NUMBER\", \"TARGET\"], axis=1),\n",
        "    train_prep[\"TARGET\"],\n",
        "    params=parameters_l,\n",
        "    metric=roc_auc_score, \n",
        "    cv_strategy=cv_strategy\n",
        ")"
      ],
      "execution_count": 223,
      "outputs": [
        {
          "output_type": "stream",
          "text": [
            "Fold: 1, train-observations = 88074, valid-observations = 22019\n",
            "train-score = 0.7873, valid-score = 0.7211\n",
            "=====================================================================\n",
            "Fold: 2, train-observations = 88074, valid-observations = 22019\n",
            "train-score = 0.7767, valid-score = 0.7194\n",
            "=====================================================================\n",
            "Fold: 3, train-observations = 88074, valid-observations = 22019\n",
            "train-score = 0.7748, valid-score = 0.7311\n",
            "=====================================================================\n",
            "Fold: 4, train-observations = 88075, valid-observations = 22018\n",
            "train-score = 0.7628, valid-score = 0.7221\n",
            "=====================================================================\n",
            "Fold: 5, train-observations = 88075, valid-observations = 22018\n",
            "train-score = 0.7558, valid-score = 0.7287\n",
            "=====================================================================\n",
            "CV-results train: 0.7715 +/- 0.011\n",
            "CV-results valid: 0.7245 +/- 0.005\n",
            "OOF-score = 0.7236\n"
          ],
          "name": "stdout"
        }
      ]
    },
    {
      "cell_type": "code",
      "metadata": {
        "id": "IbcKjeuPHCZM",
        "trusted": true
      },
      "source": [
        "lgbm_params =  {\n",
        "    'boosting_type': 'gbdt',\n",
        "    'objective': 'binary',\n",
        "    'metric': 'auc',\n",
        "    \"learning_rate\": 0.1,\n",
        "    \"num_leaves\": 31,\n",
        "    \"random_state\": 42 \n",
        "    }"
      ],
      "execution_count": 224,
      "outputs": []
    },
    {
      "cell_type": "code",
      "metadata": {
        "id": "PAssfp3cGfLz",
        "trusted": true
      },
      "source": [
        "dftrainLGB = lgbm.Dataset(data = train_prep.drop([\"APPLICATION_NUMBER\", \"TARGET\"], axis=1), \n",
        "                          label = train_prep[\"TARGET\"])\n",
        "                        #   feature_name = list(x_train))\n",
        "\n",
        "cv_results_l = lgbm.cv(\n",
        "        lgbm_params,\n",
        "        dftrainLGB,\n",
        "        num_boost_round=1000,\n",
        "        nfold=5,\n",
        "        metrics='auc',\n",
        "        early_stopping_rounds=10\n",
        "        )"
      ],
      "execution_count": 225,
      "outputs": []
    },
    {
      "cell_type": "code",
      "metadata": {
        "id": "Mh0cup8XGekF",
        "trusted": true,
        "outputId": "25a10cd6-b48d-44be-e24c-cf6899a8188b",
        "colab": {
          "base_uri": "https://localhost:8080/",
          "height": 34
        }
      },
      "source": [
        "print(f\"lgbm.cv auc-mean: {cv_results_l['auc-mean'][len(cv_results_l['auc-mean'])-1]:.4f}, auc-stdv: {cv_results_l['auc-stdv'][len(cv_results_l['auc-stdv'])-1]:.4f}\")"
      ],
      "execution_count": 226,
      "outputs": [
        {
          "output_type": "stream",
          "text": [
            "lgbm.cv auc-mean: 0.7228, auc-stdv: 0.0053\n"
          ],
          "name": "stdout"
        }
      ]
    },
    {
      "cell_type": "markdown",
      "metadata": {
        "id": "NECnlLHFxURF"
      },
      "source": [
        "### Отбор признаков"
      ]
    },
    {
      "cell_type": "code",
      "metadata": {
        "id": "BcGaMw8AQqKL",
        "trusted": true
      },
      "source": [
        "X_train, X_valid, y_train, y_valid = train_test_split(train_prep.drop([\"APPLICATION_NUMBER\", \"TARGET\"], axis=1), \n",
        "                                                      train_prep[\"TARGET\"], \n",
        "                                                      test_size=0.2, \n",
        "                                                      random_state=42)\n",
        "\n",
        "train_data = lgbm.Dataset(X_train, label=y_train)\n",
        "test_data = lgbm.Dataset(X_valid, label=y_valid)\n",
        "\n",
        "model = lgbm.train(lgbm_params,\n",
        "                   train_data,\n",
        "                   valid_sets=test_data,\n",
        "                   num_boost_round=1000,\n",
        "                   early_stopping_rounds=50,\n",
        "                   verbose_eval=False)"
      ],
      "execution_count": 227,
      "outputs": []
    },
    {
      "cell_type": "code",
      "metadata": {
        "id": "61oT3AXhWf97",
        "trusted": true,
        "outputId": "42e86ff4-4ca6-4c13-a886-907ab647f6d3",
        "colab": {
          "base_uri": "https://localhost:8080/",
          "height": 1000
        }
      },
      "source": [
        "ax = lgbm.plot_importance(model, max_num_features=355, figsize=(5,45))   #, figsize=(45,5)\n",
        "plt.show()"
      ],
      "execution_count": 228,
      "outputs": [
        {
          "output_type": "display_data",
          "data": {
            "image/png": "[encoded data removed]",
            "text/plain": [
              "<Figure size 360x3240 with 1 Axes>"
            ]
          },
          "metadata": {
            "tags": [],
            "needs_background": "light"
          }
        }
      ]
    },
    {
      "cell_type": "code",
      "metadata": {
        "id": "FbswlzOiXH5p",
        "trusted": true
      },
      "source": [
        "# keys = X_train.columns\n",
        "# values = model.feature_importance()\n",
        "\n",
        "# fi_dt = pd.DataFrame(data=values, index=keys, columns=[\"score\"]).sort_values(by = \"score\", ascending=False)\n",
        "# fi_dt"
      ],
      "execution_count": 229,
      "outputs": []
    },
    {
      "cell_type": "code",
      "metadata": {
        "id": "-DDAz9fwX5j3",
        "trusted": true
      },
      "source": [
        "feature_imp = pd.DataFrame({'Value':model.feature_importance(),'Feature':X_train.columns})"
      ],
      "execution_count": 230,
      "outputs": []
    },
    {
      "cell_type": "code",
      "metadata": {
        "id": "wJJQdf08ai7B",
        "trusted": true
      },
      "source": [
        "f_imp = feature_imp.sort_values(\"Value\", ascending=False).reset_index(drop=True)"
      ],
      "execution_count": 231,
      "outputs": []
    },
    {
      "cell_type": "code",
      "metadata": {
        "id": "4nf4Ok-rZj4b",
        "trusted": true
      },
      "source": [
        "# pd.set_option('display.max_rows', 20)"
      ],
      "execution_count": 232,
      "outputs": []
    },
    {
      "cell_type": "code",
      "metadata": {
        "id": "oVjJ8Ht1bGIM",
        "trusted": true,
        "outputId": "d2b7543f-e2cb-4107-be2f-0efe5efb2602",
        "colab": {
          "base_uri": "https://localhost:8080/",
          "height": 714
        }
      },
      "source": [
        "f_imp.loc[f_imp['Value'] > 0, 'Feature']"
      ],
      "execution_count": 233,
      "outputs": [
        {
          "output_type": "execute_result",
          "data": {
            "text/plain": [
              "0               RATIO_CREDIT_TO_ANNUITY\n",
              "1                                   AGE\n",
              "2                      DAYS_ON_LAST_JOB\n",
              "3               RATIO_ANNUITY_TO_SALARY\n",
              "4          EXTERNAL_SCORING_RATING_mean\n",
              "5           EXTERNAL_SCORING_RATING_min\n",
              "6             EXTERNAL_SCORING_RATING_2\n",
              "7     EXTERNAL_SCORING_RATING_nanmedian\n",
              "8                        AMOUNT_ANNUITY\n",
              "9           EXTERNAL_SCORING_RATING_max\n",
              "10                        AMOUNT_CREDIT\n",
              "11               RATIO_CREDIT_TO_SALARY\n",
              "12                    REGION_POPULATION\n",
              "13            EXTERNAL_SCORING_RATING_3\n",
              "14          EXTERNAL_SCORING_RATING_var\n",
              "15                EXPECTED_TOTAL_LOSS_2\n",
              "16                EXTERNAL_SCORING_PROD\n",
              "17                EXPECTED_TOTAL_LOSS_3\n",
              "18                          OWN_CAR_AGE\n",
              "19            EXTERNAL_SCORING_RATING_1\n",
              "20                         TOTAL_SALARY\n",
              "21              EXPECTED_MONTHLY_LOSS_2\n",
              "22              EDUCATION_FAMILY_STATUS\n",
              "23              EXPECTED_MONTHLY_LOSS_3\n",
              "24                EXPECTED_TOTAL_LOSS_1\n",
              "25            EXTERNAL_SCORING_WEIGHTED\n",
              "26                      EDUCATION_LEVEL\n",
              "27              EXPECTED_MONTHLY_LOSS_1\n",
              "28                               GENDER\n",
              "29                   NAME_CONTRACT_TYPE\n",
              "30           AMT_REQ_CREDIT_BUREAU_YEAR\n",
              "31                        FAMILY_STATUS\n",
              "32            AMT_REQ_CREDIT_BUREAU_MON\n",
              "33            AMT_REQ_CREDIT_BUREAU_QRT\n",
              "34                          FAMILY_SIZE\n",
              "35           AMT_REQ_CREDIT_BUREAU_HOUR\n",
              "36                            CHILDRENS\n",
              "37           AMT_REQ_CREDIT_BUREAU_WEEK\n",
              "38                           FLAG_PHONE\n",
              "39                           FLAG_EMAIL\n",
              "Name: Feature, dtype: object"
            ]
          },
          "metadata": {
            "tags": []
          },
          "execution_count": 233
        }
      ]
    },
    {
      "cell_type": "code",
      "metadata": {
        "id": "QbtETxWub1rW",
        "trusted": true
      },
      "source": [
        "col_list = f_imp.loc[f_imp['Value'] > 0, 'Feature'].values"
      ],
      "execution_count": 234,
      "outputs": []
    },
    {
      "cell_type": "code",
      "metadata": {
        "id": "ZwTifbd3cRAI",
        "trusted": true
      },
      "source": [
        "train_crop = train_prep[col_list]"
      ],
      "execution_count": 235,
      "outputs": []
    },
    {
      "cell_type": "code",
      "metadata": {
        "id": "O7JjF5-OfeBN",
        "trusted": true
      },
      "source": [
        "train_cat_crop = train_cat_prep[col_list]"
      ],
      "execution_count": 236,
      "outputs": []
    },
    {
      "cell_type": "code",
      "metadata": {
        "id": "DBg0TG-Yh9wv",
        "trusted": true
      },
      "source": [
        "test_crop = test_prep[col_list]"
      ],
      "execution_count": 237,
      "outputs": []
    },
    {
      "cell_type": "code",
      "metadata": {
        "id": "axP0nK6Mh-pX",
        "trusted": true
      },
      "source": [
        "test_cat_crop = test_cat_prep[col_list]"
      ],
      "execution_count": 238,
      "outputs": []
    },
    {
      "cell_type": "code",
      "metadata": {
        "id": "r91eB4-6fx3n",
        "trusted": true,
        "outputId": "6ba5d86e-2907-44d6-c671-e26dfa4c6a3a",
        "colab": {
          "base_uri": "https://localhost:8080/",
          "height": 179
        }
      },
      "source": [
        "train_cat_crop.head(3)"
      ],
      "execution_count": 239,
      "outputs": [
        {
          "output_type": "execute_result",
          "data": {
            "text/html": [
              "<div>\n",
              "<style scoped>\n",
              "    .dataframe tbody tr th:only-of-type {\n",
              "        vertical-align: middle;\n",
              "    }\n",
              "\n",
              "    .dataframe tbody tr th {\n",
              "        vertical-align: top;\n",
              "    }\n",
              "\n",
              "    .dataframe thead th {\n",
              "        text-align: right;\n",
              "    }\n",
              "</style>\n",
              "<table border=\"1\" class=\"dataframe\">\n",
              "  <thead>\n",
              "    <tr style=\"text-align: right;\">\n",
              "      <th></th>\n",
              "      <th>RATIO_CREDIT_TO_ANNUITY</th>\n",
              "      <th>AGE</th>\n",
              "      <th>DAYS_ON_LAST_JOB</th>\n",
              "      <th>RATIO_ANNUITY_TO_SALARY</th>\n",
              "      <th>EXTERNAL_SCORING_RATING_mean</th>\n",
              "      <th>EXTERNAL_SCORING_RATING_min</th>\n",
              "      <th>EXTERNAL_SCORING_RATING_2</th>\n",
              "      <th>EXTERNAL_SCORING_RATING_nanmedian</th>\n",
              "      <th>AMOUNT_ANNUITY</th>\n",
              "      <th>EXTERNAL_SCORING_RATING_max</th>\n",
              "      <th>AMOUNT_CREDIT</th>\n",
              "      <th>RATIO_CREDIT_TO_SALARY</th>\n",
              "      <th>REGION_POPULATION</th>\n",
              "      <th>EXTERNAL_SCORING_RATING_3</th>\n",
              "      <th>EXTERNAL_SCORING_RATING_var</th>\n",
              "      <th>EXPECTED_TOTAL_LOSS_2</th>\n",
              "      <th>EXTERNAL_SCORING_PROD</th>\n",
              "      <th>EXPECTED_TOTAL_LOSS_3</th>\n",
              "      <th>OWN_CAR_AGE</th>\n",
              "      <th>EXTERNAL_SCORING_RATING_1</th>\n",
              "      <th>TOTAL_SALARY</th>\n",
              "      <th>EXPECTED_MONTHLY_LOSS_2</th>\n",
              "      <th>EDUCATION_FAMILY_STATUS</th>\n",
              "      <th>EXPECTED_MONTHLY_LOSS_3</th>\n",
              "      <th>EXPECTED_TOTAL_LOSS_1</th>\n",
              "      <th>EXTERNAL_SCORING_WEIGHTED</th>\n",
              "      <th>EDUCATION_LEVEL</th>\n",
              "      <th>EXPECTED_MONTHLY_LOSS_1</th>\n",
              "      <th>GENDER</th>\n",
              "      <th>NAME_CONTRACT_TYPE</th>\n",
              "      <th>AMT_REQ_CREDIT_BUREAU_YEAR</th>\n",
              "      <th>FAMILY_STATUS</th>\n",
              "      <th>AMT_REQ_CREDIT_BUREAU_MON</th>\n",
              "      <th>AMT_REQ_CREDIT_BUREAU_QRT</th>\n",
              "      <th>FAMILY_SIZE</th>\n",
              "      <th>AMT_REQ_CREDIT_BUREAU_HOUR</th>\n",
              "      <th>CHILDRENS</th>\n",
              "      <th>AMT_REQ_CREDIT_BUREAU_WEEK</th>\n",
              "      <th>FLAG_PHONE</th>\n",
              "      <th>FLAG_EMAIL</th>\n",
              "    </tr>\n",
              "  </thead>\n",
              "  <tbody>\n",
              "    <tr>\n",
              "      <th>0</th>\n",
              "      <td>34.025788</td>\n",
              "      <td>15728.0</td>\n",
              "      <td>1719.0</td>\n",
              "      <td>0.159543</td>\n",
              "      <td>0.687756</td>\n",
              "      <td>0.645914</td>\n",
              "      <td>0.645914</td>\n",
              "      <td>0.700784</td>\n",
              "      <td>25128.0</td>\n",
              "      <td>0.716570</td>\n",
              "      <td>855000.0</td>\n",
              "      <td>5.428571</td>\n",
              "      <td>0.019101</td>\n",
              "      <td>0.716570</td>\n",
              "      <td>0.000917</td>\n",
              "      <td>552256.266546</td>\n",
              "      <td>0.324353</td>\n",
              "      <td>612667.559305</td>\n",
              "      <td>11.0</td>\n",
              "      <td>0.700784</td>\n",
              "      <td>157500.0</td>\n",
              "      <td>16230.521013</td>\n",
              "      <td>Secondary / secondary special | Married</td>\n",
              "      <td>18005.977111</td>\n",
              "      <td>599170.547652</td>\n",
              "      <td>4.197193</td>\n",
              "      <td>Secondary / secondary special</td>\n",
              "      <td>17609.307043</td>\n",
              "      <td>M</td>\n",
              "      <td>Cash</td>\n",
              "      <td>2.0</td>\n",
              "      <td>Married</td>\n",
              "      <td>0.0</td>\n",
              "      <td>0.0</td>\n",
              "      <td>3.0</td>\n",
              "      <td>0.0</td>\n",
              "      <td>1.0</td>\n",
              "      <td>1.0</td>\n",
              "      <td>0.0</td>\n",
              "      <td>0.0</td>\n",
              "    </tr>\n",
              "    <tr>\n",
              "      <th>1</th>\n",
              "      <td>-1.000000</td>\n",
              "      <td>-1.0</td>\n",
              "      <td>-1.0</td>\n",
              "      <td>-1.000000</td>\n",
              "      <td>-1.000000</td>\n",
              "      <td>-1.000000</td>\n",
              "      <td>-1.000000</td>\n",
              "      <td>-1.000000</td>\n",
              "      <td>-1.0</td>\n",
              "      <td>-1.000000</td>\n",
              "      <td>-1.0</td>\n",
              "      <td>-1.000000</td>\n",
              "      <td>-1.000000</td>\n",
              "      <td>-1.000000</td>\n",
              "      <td>-1.000000</td>\n",
              "      <td>-1.000000</td>\n",
              "      <td>-1.000000</td>\n",
              "      <td>-1.000000</td>\n",
              "      <td>-1.0</td>\n",
              "      <td>-1.000000</td>\n",
              "      <td>-1.0</td>\n",
              "      <td>-1.000000</td>\n",
              "      <td>No | No</td>\n",
              "      <td>-1.000000</td>\n",
              "      <td>-1.000000</td>\n",
              "      <td>-1.000000</td>\n",
              "      <td>No</td>\n",
              "      <td>-1.000000</td>\n",
              "      <td>No</td>\n",
              "      <td>Cash</td>\n",
              "      <td>-1.0</td>\n",
              "      <td>No</td>\n",
              "      <td>-1.0</td>\n",
              "      <td>-1.0</td>\n",
              "      <td>-1.0</td>\n",
              "      <td>-1.0</td>\n",
              "      <td>-1.0</td>\n",
              "      <td>-1.0</td>\n",
              "      <td>-1.0</td>\n",
              "      <td>-1.0</td>\n",
              "    </tr>\n",
              "    <tr>\n",
              "      <th>2</th>\n",
              "      <td>23.603376</td>\n",
              "      <td>21557.0</td>\n",
              "      <td>3618.0</td>\n",
              "      <td>0.316000</td>\n",
              "      <td>0.475009</td>\n",
              "      <td>0.267869</td>\n",
              "      <td>0.682149</td>\n",
              "      <td>0.475009</td>\n",
              "      <td>42660.0</td>\n",
              "      <td>0.682149</td>\n",
              "      <td>1006920.0</td>\n",
              "      <td>7.458667</td>\n",
              "      <td>0.026392</td>\n",
              "      <td>0.267869</td>\n",
              "      <td>0.042907</td>\n",
              "      <td>686869.876357</td>\n",
              "      <td>-1.000000</td>\n",
              "      <td>269722.588880</td>\n",
              "      <td>-1.0</td>\n",
              "      <td>-1.000000</td>\n",
              "      <td>135000.0</td>\n",
              "      <td>29100.493510</td>\n",
              "      <td>Higher education | Married</td>\n",
              "      <td>11427.288803</td>\n",
              "      <td>-1.000000</td>\n",
              "      <td>-1.000000</td>\n",
              "      <td>Higher education</td>\n",
              "      <td>-1.000000</td>\n",
              "      <td>F</td>\n",
              "      <td>Cash</td>\n",
              "      <td>4.0</td>\n",
              "      <td>Married</td>\n",
              "      <td>7.0</td>\n",
              "      <td>0.0</td>\n",
              "      <td>2.0</td>\n",
              "      <td>0.0</td>\n",
              "      <td>0.0</td>\n",
              "      <td>0.0</td>\n",
              "      <td>1.0</td>\n",
              "      <td>0.0</td>\n",
              "    </tr>\n",
              "  </tbody>\n",
              "</table>\n",
              "</div>"
            ],
            "text/plain": [
              "   RATIO_CREDIT_TO_ANNUITY      AGE  DAYS_ON_LAST_JOB  \\\n",
              "0                34.025788  15728.0            1719.0   \n",
              "1                -1.000000     -1.0              -1.0   \n",
              "2                23.603376  21557.0            3618.0   \n",
              "\n",
              "   RATIO_ANNUITY_TO_SALARY  EXTERNAL_SCORING_RATING_mean  \\\n",
              "0                 0.159543                      0.687756   \n",
              "1                -1.000000                     -1.000000   \n",
              "2                 0.316000                      0.475009   \n",
              "\n",
              "   EXTERNAL_SCORING_RATING_min  EXTERNAL_SCORING_RATING_2  \\\n",
              "0                     0.645914                   0.645914   \n",
              "1                    -1.000000                  -1.000000   \n",
              "2                     0.267869                   0.682149   \n",
              "\n",
              "   EXTERNAL_SCORING_RATING_nanmedian  AMOUNT_ANNUITY  \\\n",
              "0                           0.700784         25128.0   \n",
              "1                          -1.000000            -1.0   \n",
              "2                           0.475009         42660.0   \n",
              "\n",
              "   EXTERNAL_SCORING_RATING_max  AMOUNT_CREDIT  RATIO_CREDIT_TO_SALARY  \\\n",
              "0                     0.716570       855000.0                5.428571   \n",
              "1                    -1.000000           -1.0               -1.000000   \n",
              "2                     0.682149      1006920.0                7.458667   \n",
              "\n",
              "   REGION_POPULATION  EXTERNAL_SCORING_RATING_3  EXTERNAL_SCORING_RATING_var  \\\n",
              "0           0.019101                   0.716570                     0.000917   \n",
              "1          -1.000000                  -1.000000                    -1.000000   \n",
              "2           0.026392                   0.267869                     0.042907   \n",
              "\n",
              "   EXPECTED_TOTAL_LOSS_2  EXTERNAL_SCORING_PROD  EXPECTED_TOTAL_LOSS_3  \\\n",
              "0          552256.266546               0.324353          612667.559305   \n",
              "1              -1.000000              -1.000000              -1.000000   \n",
              "2          686869.876357              -1.000000          269722.588880   \n",
              "\n",
              "   OWN_CAR_AGE  EXTERNAL_SCORING_RATING_1  TOTAL_SALARY  \\\n",
              "0         11.0                   0.700784      157500.0   \n",
              "1         -1.0                  -1.000000          -1.0   \n",
              "2         -1.0                  -1.000000      135000.0   \n",
              "\n",
              "   EXPECTED_MONTHLY_LOSS_2                  EDUCATION_FAMILY_STATUS  \\\n",
              "0             16230.521013  Secondary / secondary special | Married   \n",
              "1                -1.000000                                  No | No   \n",
              "2             29100.493510               Higher education | Married   \n",
              "\n",
              "   EXPECTED_MONTHLY_LOSS_3  EXPECTED_TOTAL_LOSS_1  EXTERNAL_SCORING_WEIGHTED  \\\n",
              "0             18005.977111          599170.547652                   4.197193   \n",
              "1                -1.000000              -1.000000                  -1.000000   \n",
              "2             11427.288803              -1.000000                  -1.000000   \n",
              "\n",
              "                 EDUCATION_LEVEL  EXPECTED_MONTHLY_LOSS_1 GENDER  \\\n",
              "0  Secondary / secondary special             17609.307043      M   \n",
              "1                             No                -1.000000     No   \n",
              "2               Higher education                -1.000000      F   \n",
              "\n",
              "  NAME_CONTRACT_TYPE  AMT_REQ_CREDIT_BUREAU_YEAR FAMILY_STATUS  \\\n",
              "0               Cash                         2.0       Married   \n",
              "1               Cash                        -1.0            No   \n",
              "2               Cash                         4.0       Married   \n",
              "\n",
              "   AMT_REQ_CREDIT_BUREAU_MON  AMT_REQ_CREDIT_BUREAU_QRT  FAMILY_SIZE  \\\n",
              "0                        0.0                        0.0          3.0   \n",
              "1                       -1.0                       -1.0         -1.0   \n",
              "2                        7.0                        0.0          2.0   \n",
              "\n",
              "   AMT_REQ_CREDIT_BUREAU_HOUR  CHILDRENS  AMT_REQ_CREDIT_BUREAU_WEEK  \\\n",
              "0                         0.0        1.0                         1.0   \n",
              "1                        -1.0       -1.0                        -1.0   \n",
              "2                         0.0        0.0                         0.0   \n",
              "\n",
              "   FLAG_PHONE  FLAG_EMAIL  \n",
              "0         0.0         0.0  \n",
              "1        -1.0        -1.0  \n",
              "2         1.0         0.0  "
            ]
          },
          "metadata": {
            "tags": []
          },
          "execution_count": 239
        }
      ]
    },
    {
      "cell_type": "code",
      "metadata": {
        "id": "Zt1qo9eKh9Tx",
        "trusted": true
      },
      "source": [
        "# train_crop.to_csv(data_dir + \"train_crop.csv\", sep=\";\", index=False)\n",
        "# train_cat_crop.to_csv(data_dir + \"train_cat_crop.csv\", sep=\";\", index=False)\n",
        "# test_crop.to_csv(data_dir + \"test_crop.csv\", sep=\";\", index=False)\n",
        "# test_cat_crop.to_csv(data_dir + \"test_cat_crop.csv\", sep=\";\", index=False)"
      ],
      "execution_count": 240,
      "outputs": []
    },
    {
      "cell_type": "markdown",
      "metadata": {
        "id": "TakXoPVLrUSW"
      },
      "source": [
        "### Пермутированная важность (permutation importance)"
      ]
    },
    {
      "cell_type": "code",
      "metadata": {
        "id": "PyledI7H6ZGT",
        "trusted": true
      },
      "source": [
        "def calculate_permutation_importance(estimator, \n",
        "                                     metric: callable,\n",
        "                                     x_valid: pd.DataFrame,\n",
        "                                     y_valid: pd.Series) -> pd.Series:\n",
        "    \"\"\"\n",
        "    Расчет пермутированной важности признаков.\n",
        "    \"\"\"\n",
        "    scores = {}\n",
        "    y_pred = estimator.predict(x_valid)\n",
        "    base_score = metric(y_valid, y_pred)\n",
        "\n",
        "    for feature in tqdm(x_valid.columns):\n",
        "        x_valid_copy = x_valid.copy()\n",
        "        x_valid_copy[feature] = np.random.permutation(x_valid_copy[feature])\n",
        "\n",
        "        y_pred = estimator.predict(x_valid_copy)\n",
        "        score = metric(y_valid, y_pred)\n",
        "        scores[feature] = base_score - score\n",
        "\n",
        "    scores = pd.Series(scores)\n",
        "    scores = scores.sort_values(ascending=False)\n",
        "\n",
        "    return scores"
      ],
      "execution_count": 241,
      "outputs": []
    },
    {
      "cell_type": "code",
      "metadata": {
        "id": "AxIcJw-dtJk4",
        "trusted": true
      },
      "source": [
        "X_train, X_valid, y_train, y_valid = train_test_split(train_prep.drop([\"APPLICATION_NUMBER\", \"TARGET\"], axis=1), \n",
        "                                                      train_prep[\"TARGET\"], \n",
        "                                                      test_size=0.2, \n",
        "                                                      random_state=42)\n",
        "\n",
        "train_data = lgbm.Dataset(X_train, label=y_train)\n",
        "test_data = lgbm.Dataset(X_valid, label=y_valid)\n",
        "\n",
        "model = lgbm.train(lgbm_params,\n",
        "                   train_data,\n",
        "                   valid_sets=test_data,\n",
        "                   num_boost_round=1000,\n",
        "                   early_stopping_rounds=50,\n",
        "                   verbose_eval=False)"
      ],
      "execution_count": 242,
      "outputs": []
    },
    {
      "cell_type": "code",
      "metadata": {
        "id": "yuMG575Lsro1",
        "trusted": true,
        "outputId": "b5fc3c66-44af-4afc-8287-610a7503a428",
        "colab": {
          "base_uri": "https://localhost:8080/",
          "height": 34
        }
      },
      "source": [
        "perm_importance = calculate_permutation_importance(\n",
        "    estimator=model, metric=roc_auc_score, x_valid=X_valid, y_valid=y_valid\n",
        ")"
      ],
      "execution_count": 243,
      "outputs": [
        {
          "output_type": "stream",
          "text": [
            "100%|██████████| 41/41 [00:03<00:00, 10.64it/s]\n"
          ],
          "name": "stderr"
        }
      ]
    },
    {
      "cell_type": "code",
      "metadata": {
        "id": "FJDRfWYGs9t-",
        "trusted": true,
        "outputId": "2277d6cb-1282-4260-8969-8cd1c6801ade",
        "colab": {
          "base_uri": "https://localhost:8080/",
          "height": 731
        }
      },
      "source": [
        "perm_importance"
      ],
      "execution_count": 244,
      "outputs": [
        {
          "output_type": "execute_result",
          "data": {
            "text/plain": [
              "EXTERNAL_SCORING_RATING_mean         0.084823\n",
              "RATIO_CREDIT_TO_ANNUITY              0.017599\n",
              "EDUCATION_LEVEL                      0.011370\n",
              "AGE                                  0.010464\n",
              "EXPECTED_MONTHLY_LOSS_3              0.009855\n",
              "DAYS_ON_LAST_JOB                     0.009394\n",
              "EXTERNAL_SCORING_RATING_min          0.007953\n",
              "AMOUNT_ANNUITY                       0.004952\n",
              "GENDER                               0.004686\n",
              "NAME_CONTRACT_TYPE                   0.004685\n",
              "EXTERNAL_SCORING_RATING_3            0.004185\n",
              "AMOUNT_CREDIT                        0.004014\n",
              "EXTERNAL_SCORING_RATING_1            0.003860\n",
              "EXTERNAL_SCORING_PROD                0.003777\n",
              "EXPECTED_TOTAL_LOSS_1                0.003363\n",
              "EXPECTED_TOTAL_LOSS_2                0.003322\n",
              "REGION_POPULATION                    0.002706\n",
              "OWN_CAR_AGE                          0.002701\n",
              "EXTERNAL_SCORING_RATING_max          0.002386\n",
              "EXTERNAL_SCORING_RATING_2            0.002373\n",
              "EDUCATION_FAMILY_STATUS              0.002187\n",
              "EXPECTED_MONTHLY_LOSS_2              0.002118\n",
              "AMT_REQ_CREDIT_BUREAU_QRT            0.001660\n",
              "RATIO_ANNUITY_TO_SALARY              0.001591\n",
              "EXTERNAL_SCORING_RATING_nanmedian    0.001244\n",
              "EXTERNAL_SCORING_RATING_var          0.001091\n",
              "EXPECTED_MONTHLY_LOSS_1              0.000969\n",
              "EXPECTED_TOTAL_LOSS_3                0.000953\n",
              "EXTERNAL_SCORING_WEIGHTED            0.000736\n",
              "RATIO_CREDIT_TO_SALARY               0.000549\n",
              "AMT_REQ_CREDIT_BUREAU_HOUR           0.000532\n",
              "AMT_REQ_CREDIT_BUREAU_YEAR           0.000501\n",
              "FLAG_PHONE                           0.000339\n",
              "CHILDRENS                            0.000030\n",
              "FAMILY_STATUS                        0.000025\n",
              "AMT_REQ_CREDIT_BUREAU_DAY            0.000000\n",
              "FAMILY_SIZE                         -0.000061\n",
              "AMT_REQ_CREDIT_BUREAU_WEEK          -0.000063\n",
              "AMT_REQ_CREDIT_BUREAU_MON           -0.000111\n",
              "FLAG_EMAIL                          -0.000217\n",
              "TOTAL_SALARY                        -0.000764\n",
              "dtype: float64"
            ]
          },
          "metadata": {
            "tags": []
          },
          "execution_count": 244
        }
      ]
    },
    {
      "cell_type": "code",
      "metadata": {
        "id": "7QIlaDmZHSU0",
        "trusted": true
      },
      "source": [
        "col_list_2 = perm_importance[perm_importance > 0.0001].index"
      ],
      "execution_count": 245,
      "outputs": []
    },
    {
      "cell_type": "code",
      "metadata": {
        "id": "1IYfuQj_ezFW",
        "trusted": true,
        "outputId": "6c31c590-4da6-47b6-876c-5be21de8ef0a",
        "colab": {
          "base_uri": "https://localhost:8080/",
          "height": 272
        }
      },
      "source": [
        "col_list_2"
      ],
      "execution_count": 246,
      "outputs": [
        {
          "output_type": "execute_result",
          "data": {
            "text/plain": [
              "Index(['EXTERNAL_SCORING_RATING_mean', 'RATIO_CREDIT_TO_ANNUITY',\n",
              "       'EDUCATION_LEVEL', 'AGE', 'EXPECTED_MONTHLY_LOSS_3', 'DAYS_ON_LAST_JOB',\n",
              "       'EXTERNAL_SCORING_RATING_min', 'AMOUNT_ANNUITY', 'GENDER',\n",
              "       'NAME_CONTRACT_TYPE', 'EXTERNAL_SCORING_RATING_3', 'AMOUNT_CREDIT',\n",
              "       'EXTERNAL_SCORING_RATING_1', 'EXTERNAL_SCORING_PROD',\n",
              "       'EXPECTED_TOTAL_LOSS_1', 'EXPECTED_TOTAL_LOSS_2', 'REGION_POPULATION',\n",
              "       'OWN_CAR_AGE', 'EXTERNAL_SCORING_RATING_max',\n",
              "       'EXTERNAL_SCORING_RATING_2', 'EDUCATION_FAMILY_STATUS',\n",
              "       'EXPECTED_MONTHLY_LOSS_2', 'AMT_REQ_CREDIT_BUREAU_QRT',\n",
              "       'RATIO_ANNUITY_TO_SALARY', 'EXTERNAL_SCORING_RATING_nanmedian',\n",
              "       'EXTERNAL_SCORING_RATING_var', 'EXPECTED_MONTHLY_LOSS_1',\n",
              "       'EXPECTED_TOTAL_LOSS_3', 'EXTERNAL_SCORING_WEIGHTED',\n",
              "       'RATIO_CREDIT_TO_SALARY', 'AMT_REQ_CREDIT_BUREAU_HOUR',\n",
              "       'AMT_REQ_CREDIT_BUREAU_YEAR', 'FLAG_PHONE'],\n",
              "      dtype='object')"
            ]
          },
          "metadata": {
            "tags": []
          },
          "execution_count": 246
        }
      ]
    },
    {
      "cell_type": "code",
      "metadata": {
        "id": "hfDfZIjgHSU5",
        "trusted": true
      },
      "source": [
        "train_crop_2 = train_prep[col_list_2]"
      ],
      "execution_count": 247,
      "outputs": []
    },
    {
      "cell_type": "code",
      "metadata": {
        "id": "pPDAg4VZgFgh",
        "trusted": true
      },
      "source": [
        "train_cat_crop_2 = train_cat_prep[col_list_2]"
      ],
      "execution_count": 248,
      "outputs": []
    },
    {
      "cell_type": "code",
      "metadata": {
        "id": "aD7IbuReiRYg",
        "trusted": true
      },
      "source": [
        "test_crop_2 = test_prep[col_list_2]"
      ],
      "execution_count": 249,
      "outputs": []
    },
    {
      "cell_type": "code",
      "metadata": {
        "id": "MEPrk93arCQh",
        "trusted": true
      },
      "source": [
        "test_cat_crop_2 = test_cat_prep[col_list_2]"
      ],
      "execution_count": 250,
      "outputs": []
    },
    {
      "cell_type": "code",
      "metadata": {
        "id": "4pvf7GVHfP8K",
        "trusted": true,
        "outputId": "a2c08b0b-f631-49a6-ebc4-84ba25769776",
        "colab": {
          "base_uri": "https://localhost:8080/",
          "height": 213
        }
      },
      "source": [
        "test_cat_crop_2.head(3)"
      ],
      "execution_count": 251,
      "outputs": [
        {
          "output_type": "execute_result",
          "data": {
            "text/html": [
              "<div>\n",
              "<style scoped>\n",
              "    .dataframe tbody tr th:only-of-type {\n",
              "        vertical-align: middle;\n",
              "    }\n",
              "\n",
              "    .dataframe tbody tr th {\n",
              "        vertical-align: top;\n",
              "    }\n",
              "\n",
              "    .dataframe thead th {\n",
              "        text-align: right;\n",
              "    }\n",
              "</style>\n",
              "<table border=\"1\" class=\"dataframe\">\n",
              "  <thead>\n",
              "    <tr style=\"text-align: right;\">\n",
              "      <th></th>\n",
              "      <th>EXTERNAL_SCORING_RATING_mean</th>\n",
              "      <th>RATIO_CREDIT_TO_ANNUITY</th>\n",
              "      <th>EDUCATION_LEVEL</th>\n",
              "      <th>AGE</th>\n",
              "      <th>EXPECTED_MONTHLY_LOSS_3</th>\n",
              "      <th>DAYS_ON_LAST_JOB</th>\n",
              "      <th>EXTERNAL_SCORING_RATING_min</th>\n",
              "      <th>AMOUNT_ANNUITY</th>\n",
              "      <th>GENDER</th>\n",
              "      <th>NAME_CONTRACT_TYPE</th>\n",
              "      <th>EXTERNAL_SCORING_RATING_3</th>\n",
              "      <th>AMOUNT_CREDIT</th>\n",
              "      <th>EXTERNAL_SCORING_RATING_1</th>\n",
              "      <th>EXTERNAL_SCORING_PROD</th>\n",
              "      <th>EXPECTED_TOTAL_LOSS_1</th>\n",
              "      <th>EXPECTED_TOTAL_LOSS_2</th>\n",
              "      <th>REGION_POPULATION</th>\n",
              "      <th>OWN_CAR_AGE</th>\n",
              "      <th>EXTERNAL_SCORING_RATING_max</th>\n",
              "      <th>EXTERNAL_SCORING_RATING_2</th>\n",
              "      <th>EDUCATION_FAMILY_STATUS</th>\n",
              "      <th>EXPECTED_MONTHLY_LOSS_2</th>\n",
              "      <th>AMT_REQ_CREDIT_BUREAU_QRT</th>\n",
              "      <th>RATIO_ANNUITY_TO_SALARY</th>\n",
              "      <th>EXTERNAL_SCORING_RATING_nanmedian</th>\n",
              "      <th>EXTERNAL_SCORING_RATING_var</th>\n",
              "      <th>EXPECTED_MONTHLY_LOSS_1</th>\n",
              "      <th>EXPECTED_TOTAL_LOSS_3</th>\n",
              "      <th>EXTERNAL_SCORING_WEIGHTED</th>\n",
              "      <th>RATIO_CREDIT_TO_SALARY</th>\n",
              "      <th>AMT_REQ_CREDIT_BUREAU_HOUR</th>\n",
              "      <th>AMT_REQ_CREDIT_BUREAU_YEAR</th>\n",
              "      <th>FLAG_PHONE</th>\n",
              "    </tr>\n",
              "  </thead>\n",
              "  <tbody>\n",
              "    <tr>\n",
              "      <th>0</th>\n",
              "      <td>0.628266</td>\n",
              "      <td>34.199726</td>\n",
              "      <td>Secondary / secondary special</td>\n",
              "      <td>16007.0</td>\n",
              "      <td>-1.000000</td>\n",
              "      <td>2646.0</td>\n",
              "      <td>0.628266</td>\n",
              "      <td>32895.0</td>\n",
              "      <td>M</td>\n",
              "      <td>Cash</td>\n",
              "      <td>-1.000000</td>\n",
              "      <td>1125000.0</td>\n",
              "      <td>-1.0</td>\n",
              "      <td>-1.0</td>\n",
              "      <td>-1.0</td>\n",
              "      <td>706799.427892</td>\n",
              "      <td>0.028663</td>\n",
              "      <td>20.0</td>\n",
              "      <td>0.628266</td>\n",
              "      <td>0.628266</td>\n",
              "      <td>Secondary / secondary special | Married</td>\n",
              "      <td>20666.815272</td>\n",
              "      <td>1.0</td>\n",
              "      <td>0.281154</td>\n",
              "      <td>0.628266</td>\n",
              "      <td>0.000000</td>\n",
              "      <td>-1.0</td>\n",
              "      <td>-1.000000</td>\n",
              "      <td>-1.0</td>\n",
              "      <td>9.615385</td>\n",
              "      <td>0.0</td>\n",
              "      <td>4.0</td>\n",
              "      <td>0.0</td>\n",
              "    </tr>\n",
              "    <tr>\n",
              "      <th>1</th>\n",
              "      <td>0.383325</td>\n",
              "      <td>18.295341</td>\n",
              "      <td>Secondary / secondary special</td>\n",
              "      <td>10315.0</td>\n",
              "      <td>3222.322825</td>\n",
              "      <td>459.0</td>\n",
              "      <td>0.188490</td>\n",
              "      <td>17095.5</td>\n",
              "      <td>F</td>\n",
              "      <td>Cash</td>\n",
              "      <td>0.188490</td>\n",
              "      <td>312768.0</td>\n",
              "      <td>-1.0</td>\n",
              "      <td>-1.0</td>\n",
              "      <td>-1.0</td>\n",
              "      <td>180830.265914</td>\n",
              "      <td>0.019689</td>\n",
              "      <td>-1.0</td>\n",
              "      <td>0.578161</td>\n",
              "      <td>0.578161</td>\n",
              "      <td>Secondary / secondary special | Married</td>\n",
              "      <td>9883.951718</td>\n",
              "      <td>0.0</td>\n",
              "      <td>0.211056</td>\n",
              "      <td>0.383325</td>\n",
              "      <td>0.037961</td>\n",
              "      <td>-1.0</td>\n",
              "      <td>58953.494506</td>\n",
              "      <td>-1.0</td>\n",
              "      <td>3.861333</td>\n",
              "      <td>0.0</td>\n",
              "      <td>2.0</td>\n",
              "      <td>0.0</td>\n",
              "    </tr>\n",
              "    <tr>\n",
              "      <th>2</th>\n",
              "      <td>0.267523</td>\n",
              "      <td>20.000000</td>\n",
              "      <td>Secondary / secondary special</td>\n",
              "      <td>13016.0</td>\n",
              "      <td>8606.290593</td>\n",
              "      <td>977.0</td>\n",
              "      <td>0.152544</td>\n",
              "      <td>22500.0</td>\n",
              "      <td>F</td>\n",
              "      <td>Credit Card</td>\n",
              "      <td>0.382502</td>\n",
              "      <td>450000.0</td>\n",
              "      <td>-1.0</td>\n",
              "      <td>-1.0</td>\n",
              "      <td>-1.0</td>\n",
              "      <td>68644.984320</td>\n",
              "      <td>0.019101</td>\n",
              "      <td>-1.0</td>\n",
              "      <td>0.382502</td>\n",
              "      <td>0.152544</td>\n",
              "      <td>Secondary / secondary special | Married</td>\n",
              "      <td>3432.249216</td>\n",
              "      <td>1.0</td>\n",
              "      <td>0.142857</td>\n",
              "      <td>0.267523</td>\n",
              "      <td>0.013220</td>\n",
              "      <td>-1.0</td>\n",
              "      <td>172125.811865</td>\n",
              "      <td>-1.0</td>\n",
              "      <td>2.857143</td>\n",
              "      <td>0.0</td>\n",
              "      <td>6.0</td>\n",
              "      <td>1.0</td>\n",
              "    </tr>\n",
              "  </tbody>\n",
              "</table>\n",
              "</div>"
            ],
            "text/plain": [
              "   EXTERNAL_SCORING_RATING_mean  RATIO_CREDIT_TO_ANNUITY  \\\n",
              "0                      0.628266                34.199726   \n",
              "1                      0.383325                18.295341   \n",
              "2                      0.267523                20.000000   \n",
              "\n",
              "                 EDUCATION_LEVEL      AGE  EXPECTED_MONTHLY_LOSS_3  \\\n",
              "0  Secondary / secondary special  16007.0                -1.000000   \n",
              "1  Secondary / secondary special  10315.0              3222.322825   \n",
              "2  Secondary / secondary special  13016.0              8606.290593   \n",
              "\n",
              "   DAYS_ON_LAST_JOB  EXTERNAL_SCORING_RATING_min  AMOUNT_ANNUITY GENDER  \\\n",
              "0            2646.0                     0.628266         32895.0      M   \n",
              "1             459.0                     0.188490         17095.5      F   \n",
              "2             977.0                     0.152544         22500.0      F   \n",
              "\n",
              "  NAME_CONTRACT_TYPE  EXTERNAL_SCORING_RATING_3  AMOUNT_CREDIT  \\\n",
              "0               Cash                  -1.000000      1125000.0   \n",
              "1               Cash                   0.188490       312768.0   \n",
              "2        Credit Card                   0.382502       450000.0   \n",
              "\n",
              "   EXTERNAL_SCORING_RATING_1  EXTERNAL_SCORING_PROD  EXPECTED_TOTAL_LOSS_1  \\\n",
              "0                       -1.0                   -1.0                   -1.0   \n",
              "1                       -1.0                   -1.0                   -1.0   \n",
              "2                       -1.0                   -1.0                   -1.0   \n",
              "\n",
              "   EXPECTED_TOTAL_LOSS_2  REGION_POPULATION  OWN_CAR_AGE  \\\n",
              "0          706799.427892           0.028663         20.0   \n",
              "1          180830.265914           0.019689         -1.0   \n",
              "2           68644.984320           0.019101         -1.0   \n",
              "\n",
              "   EXTERNAL_SCORING_RATING_max  EXTERNAL_SCORING_RATING_2  \\\n",
              "0                     0.628266                   0.628266   \n",
              "1                     0.578161                   0.578161   \n",
              "2                     0.382502                   0.152544   \n",
              "\n",
              "                   EDUCATION_FAMILY_STATUS  EXPECTED_MONTHLY_LOSS_2  \\\n",
              "0  Secondary / secondary special | Married             20666.815272   \n",
              "1  Secondary / secondary special | Married              9883.951718   \n",
              "2  Secondary / secondary special | Married              3432.249216   \n",
              "\n",
              "   AMT_REQ_CREDIT_BUREAU_QRT  RATIO_ANNUITY_TO_SALARY  \\\n",
              "0                        1.0                 0.281154   \n",
              "1                        0.0                 0.211056   \n",
              "2                        1.0                 0.142857   \n",
              "\n",
              "   EXTERNAL_SCORING_RATING_nanmedian  EXTERNAL_SCORING_RATING_var  \\\n",
              "0                           0.628266                     0.000000   \n",
              "1                           0.383325                     0.037961   \n",
              "2                           0.267523                     0.013220   \n",
              "\n",
              "   EXPECTED_MONTHLY_LOSS_1  EXPECTED_TOTAL_LOSS_3  EXTERNAL_SCORING_WEIGHTED  \\\n",
              "0                     -1.0              -1.000000                       -1.0   \n",
              "1                     -1.0           58953.494506                       -1.0   \n",
              "2                     -1.0          172125.811865                       -1.0   \n",
              "\n",
              "   RATIO_CREDIT_TO_SALARY  AMT_REQ_CREDIT_BUREAU_HOUR  \\\n",
              "0                9.615385                         0.0   \n",
              "1                3.861333                         0.0   \n",
              "2                2.857143                         0.0   \n",
              "\n",
              "   AMT_REQ_CREDIT_BUREAU_YEAR  FLAG_PHONE  \n",
              "0                         4.0         0.0  \n",
              "1                         2.0         0.0  \n",
              "2                         6.0         1.0  "
            ]
          },
          "metadata": {
            "tags": []
          },
          "execution_count": 251
        }
      ]
    },
    {
      "cell_type": "code",
      "metadata": {
        "id": "4Rpg09vGHSU-",
        "trusted": true
      },
      "source": [
        "# train_crop_2.to_csv(data_dir + \"train_crop_2.csv\", sep=\";\", index=False)\n",
        "# train_cat_crop_2.to_csv(data_dir + \"train_cat_crop_2.csv\", sep=\";\", index=False)\n",
        "# test_crop_2.to_csv(data_dir + \"test_crop_2.csv\", sep=\";\", index=False)\n",
        "# test_cat_crop_2.to_csv(data_dir + \"test_cat_crop_2.csv\", sep=\";\", index=False)"
      ],
      "execution_count": 252,
      "outputs": []
    },
    {
      "cell_type": "markdown",
      "metadata": {
        "id": "pLtbHnabHACp"
      },
      "source": [
        "### Подбор параметров на сокращённых наборах"
      ]
    },
    {
      "cell_type": "code",
      "metadata": {
        "id": "qaAY4yWpaDMd",
        "trusted": true
      },
      "source": [
        "def get_model_lgbm_reg_hp(parameters, X, y):\n",
        "    clf = GridSearchCV(\n",
        "        estimator=lgbm.LGBMClassifier(subsample=0.5, random_state=42),\n",
        "        param_grid=parameters,\n",
        "        scoring='roc_auc',\n",
        "        cv=5,\n",
        "        return_train_score = True\n",
        "    )\n",
        "    \n",
        "    clf.fit(X, y)\n",
        "    \n",
        "    cv_results = pd.DataFrame(clf.cv_results_)\n",
        "\n",
        "    #print(cv_results.columns)\n",
        "    \n",
        "    param_columns = [\n",
        "        column\n",
        "        for column in cv_results.columns\n",
        "        if column.startswith('param_')\n",
        "    ]\n",
        "\n",
        "    score_columns = ['mean_test_score', 'mean_train_score']\n",
        "\n",
        "    cv_results = (cv_results[param_columns + score_columns]\n",
        "                  .sort_values(by=score_columns, ascending=False))\n",
        "\n",
        "    print(cv_results)\n",
        "    print(f\"\\nbest params: {clf.best_params_}\\n\")\n",
        "    return clf"
      ],
      "execution_count": 253,
      "outputs": []
    },
    {
      "cell_type": "code",
      "metadata": {
        "id": "n_-UVjnzagtV",
        "trusted": true
      },
      "source": [
        "parameters_l_2 = {\n",
        "    'num_leaves': [26, 31],\n",
        "    # 'max_depth': [5], #, 3, 7\n",
        "    'n_estimators': [50, 100, 200],\n",
        "    'learning_rate': [0.1, 0.05]\n",
        "}"
      ],
      "execution_count": 254,
      "outputs": []
    },
    {
      "cell_type": "code",
      "metadata": {
        "id": "_lO5ErNUdCKU",
        "trusted": true
      },
      "source": [
        "# clf_l_c1 = get_model_lgbm_reg_hp(parameters_l_2, train_crop,  train_prep[\"TARGET\"])"
      ],
      "execution_count": 255,
      "outputs": []
    },
    {
      "cell_type": "code",
      "metadata": {
        "id": "8KlePXFVKqph",
        "trusted": true
      },
      "source": [
        "# clf_l_c2 = get_model_lgbm_reg_hp(parameters_l_2, train_crop_2,  train_prep[\"TARGET\"])"
      ],
      "execution_count": 256,
      "outputs": []
    },
    {
      "cell_type": "code",
      "metadata": {
        "trusted": true,
        "id": "xCOE9vBIACtr",
        "outputId": "2367522b-567c-48a6-ad08-96e129fa01c3",
        "colab": {
          "base_uri": "https://localhost:8080/",
          "height": 71
        }
      },
      "source": [
        "cv_strategy = KFold(n_splits=5, random_state=42)"
      ],
      "execution_count": 257,
      "outputs": [
        {
          "output_type": "stream",
          "text": [
            "/usr/local/lib/python3.6/dist-packages/sklearn/model_selection/_split.py:296: FutureWarning: Setting a random_state has no effect since shuffle is False. This will raise an error in 0.24. You should leave random_state to its default (None), or set shuffle=True.\n",
            "  FutureWarning\n"
          ],
          "name": "stderr"
        }
      ]
    },
    {
      "cell_type": "code",
      "metadata": {
        "id": "10MHbzrRdByp",
        "trusted": true
      },
      "source": [
        "# best params: {'learning_rate': 0.05, 'n_estimators': 100, 'num_leaves': 26}\n",
        "params_l_2_1 = {}\n",
        "params_l_2_1[\"num_leaves\"] = 26 # clf_l_c1.best_params_['num_leaves']\n",
        "# params_l2[\"max_depth\"] = clf_l_c1.best_params_['max_depth']\n",
        "params_l_2_1[\"n_estimators\"] = 100 # clf_l_c1.best_params_['n_estimators']\n",
        "params_l_2_1[\"learning_rate\"] = 0.05 # clf_l_c1.best_params_['learning_rate']"
      ],
      "execution_count": 258,
      "outputs": []
    },
    {
      "cell_type": "code",
      "metadata": {
        "id": "mdqVsTcsl8wn",
        "trusted": true,
        "outputId": "4a8f6316-3917-4413-efac-3583a34ac487",
        "colab": {
          "base_uri": "https://localhost:8080/",
          "height": 323
        }
      },
      "source": [
        "estimators_lgbm_c1, oof_score_lgbm_c1, fold_train_scores_lgbm_c1, fold_valid_scores_lgbm_c1, oof_predictions_lgbm_c1 = make_cross_validation_adapt_l(\n",
        "    train_crop,\n",
        "    train_prep[\"TARGET\"],\n",
        "    params=params_l_2_1,\n",
        "    metric=roc_auc_score, \n",
        "    cv_strategy=cv_strategy\n",
        ")"
      ],
      "execution_count": 259,
      "outputs": [
        {
          "output_type": "stream",
          "text": [
            "Fold: 1, train-observations = 88074, valid-observations = 22019\n",
            "train-score = 0.7566, valid-score = 0.7205\n",
            "=====================================================================\n",
            "Fold: 2, train-observations = 88074, valid-observations = 22019\n",
            "train-score = 0.7557, valid-score = 0.7191\n",
            "=====================================================================\n",
            "Fold: 3, train-observations = 88074, valid-observations = 22019\n",
            "train-score = 0.7525, valid-score = 0.7283\n",
            "=====================================================================\n",
            "Fold: 4, train-observations = 88075, valid-observations = 22018\n",
            "train-score = 0.7551, valid-score = 0.7231\n",
            "=====================================================================\n",
            "Fold: 5, train-observations = 88075, valid-observations = 22018\n",
            "train-score = 0.7525, valid-score = 0.7296\n",
            "=====================================================================\n",
            "CV-results train: 0.7545 +/- 0.002\n",
            "CV-results valid: 0.7241 +/- 0.004\n",
            "OOF-score = 0.7234\n"
          ],
          "name": "stdout"
        }
      ]
    },
    {
      "cell_type": "code",
      "metadata": {
        "id": "thM1xzx4rsgl",
        "trusted": true
      },
      "source": [
        "# best params: {'learning_rate': 0.05, 'n_estimators': 200, 'num_leaves': 26}\n",
        "params_l_2_2 = {}\n",
        "params_l_2_2[\"num_leaves\"] = 26 # clf_l_c2.best_params_['num_leaves']\n",
        "# params_l2[\"max_depth\"] = clf_l_c1.best_params_['max_depth']\n",
        "params_l_2_2[\"n_estimators\"] = 200 # clf_l_c2.best_params_['n_estimators']\n",
        "params_l_2_2[\"learning_rate\"] = 0.05 # clf_l_c2.best_params_['learning_rate']"
      ],
      "execution_count": 260,
      "outputs": []
    },
    {
      "cell_type": "code",
      "metadata": {
        "id": "_7PVlagdlVG8",
        "trusted": true,
        "outputId": "6b1d331a-57a8-422b-a079-4d65c51ee243",
        "colab": {
          "base_uri": "https://localhost:8080/",
          "height": 323
        }
      },
      "source": [
        "estimators_lgbm_c2, oof_score_lgbm_c2, fold_train_scores_lgbm_c2, fold_valid_scores_lgbm_c2, oof_predictions_lgbm_c2 = make_cross_validation_adapt_l(\n",
        "    train_crop_2,\n",
        "    train_prep[\"TARGET\"],\n",
        "    params=params_l_2_2,\n",
        "    metric=roc_auc_score, \n",
        "    cv_strategy=cv_strategy\n",
        ")"
      ],
      "execution_count": 261,
      "outputs": [
        {
          "output_type": "stream",
          "text": [
            "Fold: 1, train-observations = 88074, valid-observations = 22019\n",
            "train-score = 0.7578, valid-score = 0.7221\n",
            "=====================================================================\n",
            "Fold: 2, train-observations = 88074, valid-observations = 22019\n",
            "train-score = 0.7826, valid-score = 0.7215\n",
            "=====================================================================\n",
            "Fold: 3, train-observations = 88074, valid-observations = 22019\n",
            "train-score = 0.7789, valid-score = 0.7324\n",
            "=====================================================================\n",
            "Fold: 4, train-observations = 88075, valid-observations = 22018\n",
            "train-score = 0.7599, valid-score = 0.7251\n",
            "=====================================================================\n",
            "Fold: 5, train-observations = 88075, valid-observations = 22018\n",
            "train-score = 0.7479, valid-score = 0.7298\n",
            "=====================================================================\n",
            "CV-results train: 0.7654 +/- 0.013\n",
            "CV-results valid: 0.7262 +/- 0.004\n",
            "OOF-score = 0.7252\n"
          ],
          "name": "stdout"
        }
      ]
    },
    {
      "cell_type": "code",
      "metadata": {
        "id": "IMm614EkmD9Q",
        "trusted": true
      },
      "source": [
        "# best params: {'learning_rate': 0.05, 'n_estimators': 100, 'num_leaves': 26}\n",
        "lgbm_params_2_1 =  {\n",
        "    'boosting_type': 'gbdt',\n",
        "    'objective': 'binary',\n",
        "    'metric': 'auc',\n",
        "    \"num_leaves\": 26, # clf_l_c1.best_params_['num_leaves'],\n",
        "    \"learning_rate\": 0.05, # clf_l_c1.best_params_['learning_rate'],\n",
        "    # \"n_estimators\": 100, # clf_l_c1.best_params_['n_estimators'],\n",
        "    \"random_state\": 42 \n",
        "    }"
      ],
      "execution_count": 262,
      "outputs": []
    },
    {
      "cell_type": "code",
      "metadata": {
        "id": "TlD3PuE26ZGE",
        "trusted": true
      },
      "source": [
        "dftrainLGB = lgbm.Dataset(data = train_crop, \n",
        "                          label = train_prep[\"TARGET\"])\n",
        "                        #   feature_name = list(x_train))\n",
        "\n",
        "cv_results_l_2_1 = lgbm.cv(\n",
        "        lgbm_params_2_1,\n",
        "        dftrainLGB,\n",
        "        num_boost_round=2000,\n",
        "        nfold=5,\n",
        "        metrics='auc',\n",
        "        early_stopping_rounds=50\n",
        "        )"
      ],
      "execution_count": 263,
      "outputs": []
    },
    {
      "cell_type": "code",
      "metadata": {
        "id": "SqQebN-Bm0Td",
        "trusted": true,
        "outputId": "0b3bc037-892e-4513-8ea5-db715360afa5",
        "colab": {
          "base_uri": "https://localhost:8080/",
          "height": 34
        }
      },
      "source": [
        "print(f\"lgbm.cv auc-mean: {cv_results_l_2_1['auc-mean'][len(cv_results_l_2_1['auc-mean'])-1]:.4f}, \\\n",
        "auc-stdv: {cv_results_l_2_1['auc-stdv'][len(cv_results_l_2_1['auc-stdv'])-1]:.4f}\")"
      ],
      "execution_count": 264,
      "outputs": [
        {
          "output_type": "stream",
          "text": [
            "lgbm.cv auc-mean: 0.7243, auc-stdv: 0.0064\n"
          ],
          "name": "stdout"
        }
      ]
    },
    {
      "cell_type": "code",
      "metadata": {
        "id": "s_RhNyXYtCGw",
        "trusted": true
      },
      "source": [
        "# best params: {'learning_rate': 0.05, 'n_estimators': 200, 'num_leaves': 26}\n",
        "lgbm_params_2_2 =  {\n",
        "    'boosting_type': 'gbdt',\n",
        "    'objective': 'binary',\n",
        "    'metric': 'auc',\n",
        "    \"num_leaves\": 26, # clf_l_c2.best_params_['num_leaves'],\n",
        "    \"learning_rate\": 0.05, # clf_l_c2.best_params_['learning_rate'],\n",
        "    # \"n_estimators\": 200, # clf_l_c2.best_params_['n_estimators'],\n",
        "    \"random_state\": 42 \n",
        "    }"
      ],
      "execution_count": 265,
      "outputs": []
    },
    {
      "cell_type": "code",
      "metadata": {
        "id": "_HYJ40SZtDCh",
        "trusted": true
      },
      "source": [
        "dftrainLGB = lgbm.Dataset(data = train_crop_2, \n",
        "                          label = train_prep[\"TARGET\"])\n",
        "                        #   feature_name = list(x_train))\n",
        "\n",
        "cv_results_l_2_2 = lgbm.cv(\n",
        "        lgbm_params_2_2,\n",
        "        dftrainLGB,\n",
        "        num_boost_round=2000,\n",
        "        nfold=5,\n",
        "        metrics='auc',\n",
        "        early_stopping_rounds=50\n",
        "        )"
      ],
      "execution_count": 266,
      "outputs": []
    },
    {
      "cell_type": "code",
      "metadata": {
        "id": "9kHqsciZtDzE",
        "trusted": true,
        "outputId": "df7a9963-a9f2-493e-ebd1-09238b4fd148",
        "colab": {
          "base_uri": "https://localhost:8080/",
          "height": 34
        }
      },
      "source": [
        "print(f\"lgbm.cv auc-mean: {cv_results_l_2_2['auc-mean'][len(cv_results_l_2_2['auc-mean'])-1]:.4f}, \\\n",
        "auc-stdv: {cv_results_l_2_2['auc-stdv'][len(cv_results_l_2_2['auc-stdv'])-1]:.4f}\")"
      ],
      "execution_count": 267,
      "outputs": [
        {
          "output_type": "stream",
          "text": [
            "lgbm.cv auc-mean: 0.7256, auc-stdv: 0.0067\n"
          ],
          "name": "stdout"
        }
      ]
    },
    {
      "cell_type": "code",
      "metadata": {
        "trusted": true,
        "id": "031BbNK_ACuI",
        "outputId": "a41eb58b-8a63-4908-dff6-f48ec76a6332",
        "colab": {
          "base_uri": "https://localhost:8080/",
          "height": 68
        }
      },
      "source": [
        "oof_predictions_lgbm_f_copy = oof_predictions_lgbm_f.copy()\n",
        "oof_predictions_lgbm_c1_copy = oof_predictions_lgbm_c1.copy()\n",
        "oof_predictions_lgbm_c2_copy = oof_predictions_lgbm_c2.copy()\n",
        "\n",
        "oof_predictions_lgbm_f_copy[oof_predictions_lgbm_f_copy < 0.01] = 0\n",
        "oof_predictions_lgbm_f_copy[oof_predictions_lgbm_f_copy > 0.99] = 1\n",
        "\n",
        "oof_predictions_lgbm_c1_copy[oof_predictions_lgbm_c1_copy < 0.03] = 0\n",
        "oof_predictions_lgbm_c1_copy[oof_predictions_lgbm_c1_copy > 0.97] = 1\n",
        "\n",
        "oof_predictions_lgbm_c2_copy[oof_predictions_lgbm_c2_copy < 0.05] = 0\n",
        "oof_predictions_lgbm_c2_copy[oof_predictions_lgbm_c2_copy > 0.95] = 1\n",
        "\n",
        "score_lgbm_f = roc_auc_score(train_prep[\"TARGET\"].values, oof_predictions_lgbm_f)\n",
        "score_lgbm_f_c = roc_auc_score(train_prep[\"TARGET\"].values, oof_predictions_lgbm_f_copy)\n",
        "print(f\"oof_predictions_lgbm_f score: {round(score_lgbm_f, 4)} mod {round(score_lgbm_f_c, 4)}\")\n",
        "\n",
        "score_lgbm_c1 = roc_auc_score(train_prep[\"TARGET\"].values, oof_predictions_lgbm_c1)\n",
        "score_lgbm_c1_c = roc_auc_score(train_prep[\"TARGET\"].values, oof_predictions_lgbm_c1_copy)\n",
        "print(f\"oof_predictions_lgbm_c1 score: {round(score_lgbm_c1, 4)} mod {round(score_lgbm_c1_c, 4)}\")\n",
        "\n",
        "score_lgbm_c2 = roc_auc_score(train_prep[\"TARGET\"].values, oof_predictions_lgbm_c2)\n",
        "score_lgbm_c2_c = roc_auc_score(train_prep[\"TARGET\"].values, oof_predictions_lgbm_c2_copy)\n",
        "print(f\"oof_predictions_lgbm_c2 score: {round(score_lgbm_c2, 4)} mod {round(score_lgbm_c2_c, 4)}\")"
      ],
      "execution_count": 268,
      "outputs": [
        {
          "output_type": "stream",
          "text": [
            "oof_predictions_lgbm_f score: 0.7236 mod 0.7235\n",
            "oof_predictions_lgbm_c1 score: 0.7234 mod 0.7228\n",
            "oof_predictions_lgbm_c2 score: 0.7252 mod 0.719\n"
          ],
          "name": "stdout"
        }
      ]
    },
    {
      "cell_type": "markdown",
      "metadata": {
        "id": "JACjnP0Zk_bX"
      },
      "source": [
        "### LightGBM данные для загрузки"
      ]
    },
    {
      "cell_type": "code",
      "metadata": {
        "id": "AzsOjC1UJAOl",
        "trusted": true,
        "outputId": "326518df-366e-43d7-bd1d-1ed531d5f2bd",
        "colab": {
          "base_uri": "https://localhost:8080/",
          "height": 204
        }
      },
      "source": [
        "prediction_lgbm_c2 = test[['APPLICATION_NUMBER']].copy()\n",
        "prediction_lgbm_c2[\"TARGET\"] = 0\n",
        "prediction_lgbm_c2.head()"
      ],
      "execution_count": 269,
      "outputs": [
        {
          "output_type": "execute_result",
          "data": {
            "text/html": [
              "<div>\n",
              "<style scoped>\n",
              "    .dataframe tbody tr th:only-of-type {\n",
              "        vertical-align: middle;\n",
              "    }\n",
              "\n",
              "    .dataframe tbody tr th {\n",
              "        vertical-align: top;\n",
              "    }\n",
              "\n",
              "    .dataframe thead th {\n",
              "        text-align: right;\n",
              "    }\n",
              "</style>\n",
              "<table border=\"1\" class=\"dataframe\">\n",
              "  <thead>\n",
              "    <tr style=\"text-align: right;\">\n",
              "      <th></th>\n",
              "      <th>APPLICATION_NUMBER</th>\n",
              "      <th>TARGET</th>\n",
              "    </tr>\n",
              "  </thead>\n",
              "  <tbody>\n",
              "    <tr>\n",
              "      <th>0</th>\n",
              "      <td>123724268</td>\n",
              "      <td>0</td>\n",
              "    </tr>\n",
              "    <tr>\n",
              "      <th>1</th>\n",
              "      <td>123456549</td>\n",
              "      <td>0</td>\n",
              "    </tr>\n",
              "    <tr>\n",
              "      <th>2</th>\n",
              "      <td>123428178</td>\n",
              "      <td>0</td>\n",
              "    </tr>\n",
              "    <tr>\n",
              "      <th>3</th>\n",
              "      <td>123619984</td>\n",
              "      <td>0</td>\n",
              "    </tr>\n",
              "    <tr>\n",
              "      <th>4</th>\n",
              "      <td>123671104</td>\n",
              "      <td>0</td>\n",
              "    </tr>\n",
              "  </tbody>\n",
              "</table>\n",
              "</div>"
            ],
            "text/plain": [
              "   APPLICATION_NUMBER  TARGET\n",
              "0           123724268       0\n",
              "1           123456549       0\n",
              "2           123428178       0\n",
              "3           123619984       0\n",
              "4           123671104       0"
            ]
          },
          "metadata": {
            "tags": []
          },
          "execution_count": 269
        }
      ]
    },
    {
      "cell_type": "code",
      "metadata": {
        "id": "6S6hRMFhRoqo",
        "trusted": true
      },
      "source": [
        "test_predictions_lgbm_f = np.zeros(prediction_lgbm_c2[\"TARGET\"].shape[0])\n",
        "test_predictions_lgbm_c1 = np.zeros(prediction_lgbm_c2[\"TARGET\"].shape[0])\n",
        "test_predictions_lgbm_c2 = np.zeros(prediction_lgbm_c2[\"TARGET\"].shape[0])\n",
        "\n",
        "for i in range(5):\n",
        "    test_predictions_lgbm_f += estimators_lgbm_f[i].predict(test_prep.drop([\"APPLICATION_NUMBER\"], axis=1))\n",
        "    test_predictions_lgbm_c1 += estimators_lgbm_c1[i].predict(test_crop)\n",
        "    test_predictions_lgbm_c2 += estimators_lgbm_c2[i].predict(test_crop_2)\n",
        "\n",
        "test_predictions_lgbm_f /= 5\n",
        "test_predictions_lgbm_c1 /= 5\n",
        "test_predictions_lgbm_c2 /= 5"
      ],
      "execution_count": 270,
      "outputs": []
    },
    {
      "cell_type": "code",
      "metadata": {
        "trusted": true,
        "id": "sJ_aGtazACuR"
      },
      "source": [
        "test_predictions_lgbm_f[test_predictions_lgbm_f < 0] = 0\n",
        "test_predictions_lgbm_f[test_predictions_lgbm_f > 1] = 1\n",
        "\n",
        "test_predictions_lgbm_c1[test_predictions_lgbm_c1 < 0] = 0\n",
        "test_predictions_lgbm_c1[test_predictions_lgbm_c1 > 1] = 1\n",
        "\n",
        "test_predictions_lgbm_c2[test_predictions_lgbm_c2 < 0] = 0\n",
        "test_predictions_lgbm_c2[test_predictions_lgbm_c2 > 1] = 1"
      ],
      "execution_count": 271,
      "outputs": []
    },
    {
      "cell_type": "code",
      "metadata": {
        "id": "Kr5xvio3JAOt",
        "trusted": true,
        "outputId": "239aa9f5-1669-418c-a2bb-462db20fda12",
        "colab": {
          "base_uri": "https://localhost:8080/",
          "height": 204
        }
      },
      "source": [
        "prediction_lgbm_c2[\"TARGET\"] = test_predictions_lgbm_c2.copy()\n",
        "prediction_lgbm_c2.tail()"
      ],
      "execution_count": 272,
      "outputs": [
        {
          "output_type": "execute_result",
          "data": {
            "text/html": [
              "<div>\n",
              "<style scoped>\n",
              "    .dataframe tbody tr th:only-of-type {\n",
              "        vertical-align: middle;\n",
              "    }\n",
              "\n",
              "    .dataframe tbody tr th {\n",
              "        vertical-align: top;\n",
              "    }\n",
              "\n",
              "    .dataframe thead th {\n",
              "        text-align: right;\n",
              "    }\n",
              "</style>\n",
              "<table border=\"1\" class=\"dataframe\">\n",
              "  <thead>\n",
              "    <tr style=\"text-align: right;\">\n",
              "      <th></th>\n",
              "      <th>APPLICATION_NUMBER</th>\n",
              "      <th>TARGET</th>\n",
              "    </tr>\n",
              "  </thead>\n",
              "  <tbody>\n",
              "    <tr>\n",
              "      <th>165136</th>\n",
              "      <td>123487967</td>\n",
              "      <td>0.083617</td>\n",
              "    </tr>\n",
              "    <tr>\n",
              "      <th>165137</th>\n",
              "      <td>123536402</td>\n",
              "      <td>0.041829</td>\n",
              "    </tr>\n",
              "    <tr>\n",
              "      <th>165138</th>\n",
              "      <td>123718238</td>\n",
              "      <td>0.083617</td>\n",
              "    </tr>\n",
              "    <tr>\n",
              "      <th>165139</th>\n",
              "      <td>123631557</td>\n",
              "      <td>0.023780</td>\n",
              "    </tr>\n",
              "    <tr>\n",
              "      <th>165140</th>\n",
              "      <td>123433260</td>\n",
              "      <td>0.052893</td>\n",
              "    </tr>\n",
              "  </tbody>\n",
              "</table>\n",
              "</div>"
            ],
            "text/plain": [
              "        APPLICATION_NUMBER    TARGET\n",
              "165136           123487967  0.083617\n",
              "165137           123536402  0.041829\n",
              "165138           123718238  0.083617\n",
              "165139           123631557  0.023780\n",
              "165140           123433260  0.052893"
            ]
          },
          "metadata": {
            "tags": []
          },
          "execution_count": 272
        }
      ]
    },
    {
      "cell_type": "code",
      "metadata": {
        "id": "MXczNdBZJAOx",
        "trusted": true
      },
      "source": [
        "prediction_lgbm_c2.to_csv(data_dir + \"prediction_lgbm_c2.csv\", sep=\",\", index=False)"
      ],
      "execution_count": 273,
      "outputs": []
    },
    {
      "cell_type": "markdown",
      "metadata": {
        "id": "bG74R5nNDEja"
      },
      "source": [
        "## XGBoost"
      ]
    },
    {
      "cell_type": "code",
      "metadata": {
        "id": "3FRaDrbdMxyq",
        "trusted": true
      },
      "source": [
        "def get_model_hp(parameters, X, y):\n",
        "    clf = GridSearchCV(\n",
        "        estimator=xgb.XGBClassifier(silent=False, subsample=0.5, random_state=42),\n",
        "        param_grid=parameters,\n",
        "        scoring='roc_auc',\n",
        "        cv=5,\n",
        "        return_train_score = True\n",
        "    )\n",
        "    \n",
        "    clf.fit(X, y)\n",
        "    \n",
        "    cv_results = pd.DataFrame(clf.cv_results_)\n",
        "\n",
        "    #print(cv_results.columns)\n",
        "    \n",
        "    param_columns = [\n",
        "        column\n",
        "        for column in cv_results.columns\n",
        "        if column.startswith('param_')\n",
        "    ]\n",
        "\n",
        "    score_columns = ['mean_test_score', 'mean_train_score']\n",
        "\n",
        "    cv_results = (cv_results[param_columns + score_columns]\n",
        "                  .sort_values(by=score_columns, ascending=False))\n",
        "\n",
        "    print(cv_results)\n",
        "    print(f\"\\nbest params: {clf.best_params_}\\n\")\n",
        "    return clf"
      ],
      "execution_count": 274,
      "outputs": []
    },
    {
      "cell_type": "code",
      "metadata": {
        "id": "zb6MW9UUMyNv",
        "trusted": true
      },
      "source": [
        "parameters = {\n",
        "    'max_depth': [4, 6, 8],\n",
        "    'eta': [0.3, 0.05]\n",
        "    }"
      ],
      "execution_count": 275,
      "outputs": []
    },
    {
      "cell_type": "code",
      "metadata": {
        "id": "CgsDlvhcOepL",
        "trusted": true
      },
      "source": [
        "# clf_1 = get_model_hp(parameters, train_crop,  train_prep[\"TARGET\"])"
      ],
      "execution_count": 276,
      "outputs": []
    },
    {
      "cell_type": "code",
      "metadata": {
        "id": "TW2xpIR1mwcL",
        "trusted": true
      },
      "source": [
        "# clf_2 = get_model_hp(parameters, train_crop_2,  train_prep[\"TARGET\"])"
      ],
      "execution_count": 277,
      "outputs": []
    },
    {
      "cell_type": "code",
      "metadata": {
        "id": "fZEb9_RV6ZGB",
        "trusted": true
      },
      "source": [
        "def make_cross_validation_adapt(X: pd.DataFrame,\n",
        "                                y: pd.Series,\n",
        "                                params: Dict,\n",
        "                                metric: callable,\n",
        "                                cv_strategy):\n",
        "    \"\"\"\n",
        "    Кросс-валидация.\n",
        "\n",
        "    Parameters\n",
        "    ----------\n",
        "    X: pd.DataFrame\n",
        "        Матрица признаков.\n",
        "\n",
        "    y: pd.Series\n",
        "        Вектор целевой переменной.\n",
        "\n",
        "    params: Dict\n",
        "        Параметры модели.\n",
        "\n",
        "    metric: callable\n",
        "        Метрика для оценки качества решения.\n",
        "        Ожидается, что на вход будет передана функция,\n",
        "        которая принимает 2 аргумента: y_true, y_pred.\n",
        "\n",
        "    cv_strategy: cross-validation generator\n",
        "        Объект для описания стратегии кросс-валидации.\n",
        "        Ожидается, что на вход будет передан объект типа\n",
        "        KFold или StratifiedKFold.\n",
        "\n",
        "    Returns\n",
        "    -------\n",
        "    oof_score: float\n",
        "        Значение метрики качества на OOF-прогнозах.\n",
        "\n",
        "    fold_train_scores: List[float]\n",
        "        Значение метрики качества на каждом обучающем датасете кросс-валидации.\n",
        "\n",
        "    fold_valid_scores: List[float]\n",
        "        Значение метрики качества на каждом валидационном датасете кросс-валидации.\n",
        "\n",
        "    oof_predictions: np.array\n",
        "        Прогнозы на OOF.\n",
        "\n",
        "    \"\"\"\n",
        "    estimators, fold_train_scores, fold_valid_scores = [], [], []\n",
        "    oof_predictions = np.zeros(X.shape[0])\n",
        "\n",
        "#     plst = list(params.items())\n",
        "\n",
        "    num_rounds=1000 \n",
        "    \n",
        "    for fold_number, (train_idx, valid_idx) in enumerate(cv_strategy.split(X, y)):\n",
        "        x_train, x_valid = X.loc[train_idx], X.loc[valid_idx]\n",
        "        y_train, y_valid = y.loc[train_idx], y.loc[valid_idx]\n",
        "\n",
        "        xgtrain = xgb.DMatrix(x_train, label=y_train)\n",
        "        xgval = xgb.DMatrix(x_valid, label=y_valid)\n",
        "\n",
        "        watchlist = [(xgtrain,'train'), (xgval,'eval')]\n",
        "\n",
        "        model = xgb.train(params, #plst, \n",
        "                          xgtrain, \n",
        "                          num_rounds,\n",
        "                          watchlist,\n",
        "                          verbose_eval=False,\n",
        "                          early_stopping_rounds=10)\n",
        "\n",
        "        y_train_pred = model.predict(xgtrain)\n",
        "        y_valid_pred = model.predict(xgval)\n",
        "\n",
        "        fold_train_scores.append(metric(y_train, y_train_pred))\n",
        "        fold_valid_scores.append(metric(y_valid, y_valid_pred))\n",
        "        oof_predictions[valid_idx] = y_valid_pred\n",
        "\n",
        "        msg = (\n",
        "            f\"Fold: {fold_number+1}, train-observations = {len(train_idx)}, \"\n",
        "            f\"valid-observations = {len(valid_idx)}\\n\"\n",
        "            f\"train-score = {round(fold_train_scores[fold_number], 4)}, \"\n",
        "            f\"valid-score = {round(fold_valid_scores[fold_number], 4)}\" \n",
        "        )\n",
        "        print(msg)\n",
        "        print(\"=\"*69)\n",
        "        estimators.append(model)\n",
        "\n",
        "    oof_score = metric(y, oof_predictions)\n",
        "    print(f\"CV-results train: {round(np.mean(fold_train_scores), 4)} +/- {round(np.std(fold_train_scores), 3)}\")\n",
        "    print(f\"CV-results valid: {round(np.mean(fold_valid_scores), 4)} +/- {round(np.std(fold_valid_scores), 3)}\")\n",
        "    print(f\"OOF-score = {round(oof_score, 4)}\")\n",
        "\n",
        "    return estimators, oof_score, fold_train_scores, fold_valid_scores, oof_predictions"
      ],
      "execution_count": 278,
      "outputs": []
    },
    {
      "cell_type": "code",
      "metadata": {
        "id": "uxKC8DXyE1oi",
        "trusted": true
      },
      "source": [
        "# best params: {'eta': 0.3, 'max_depth': 4}\n",
        "params = {}\n",
        "params[\"objective\"] = \"binary:logistic\"\n",
        "params[\"eta\"] = 0.3 # clf_1.best_params_['eta']\n",
        "# params[\"n_estimators\"] = clf.best_params_['n_estimators']\n",
        "params[\"random_state\"] = 42\n",
        "params[\"max_depth\"] = 4 # clf_1.best_params_['max_depth']\n",
        "params[\"eval_metric\"] = \"auc\""
      ],
      "execution_count": 279,
      "outputs": []
    },
    {
      "cell_type": "code",
      "metadata": {
        "trusted": true,
        "id": "2JLm7C3QACu7",
        "outputId": "859012a4-a374-4aa0-d259-9a8bc6ea9086",
        "colab": {
          "base_uri": "https://localhost:8080/",
          "height": 71
        }
      },
      "source": [
        "cv_strategy = KFold(n_splits=5, random_state=42)"
      ],
      "execution_count": 280,
      "outputs": [
        {
          "output_type": "stream",
          "text": [
            "/usr/local/lib/python3.6/dist-packages/sklearn/model_selection/_split.py:296: FutureWarning: Setting a random_state has no effect since shuffle is False. This will raise an error in 0.24. You should leave random_state to its default (None), or set shuffle=True.\n",
            "  FutureWarning\n"
          ],
          "name": "stderr"
        }
      ]
    },
    {
      "cell_type": "code",
      "metadata": {
        "id": "4vx8VBWYE1Zc",
        "trusted": true,
        "outputId": "49c80aba-76de-4b73-a1de-26f951a5a833",
        "colab": {
          "base_uri": "https://localhost:8080/",
          "height": 323
        }
      },
      "source": [
        "estimators_xgb_c1, oof_score_xgb_c1, fold_train_scores_xgb_c1, fold_valid_scores_xgb_c1, oof_predictions_xgb_c1 = make_cross_validation_adapt(\n",
        "    train_crop,\n",
        "    train_prep[\"TARGET\"],\n",
        "    params=params,\n",
        "    metric=roc_auc_score, \n",
        "    cv_strategy=cv_strategy\n",
        ")"
      ],
      "execution_count": 281,
      "outputs": [
        {
          "output_type": "stream",
          "text": [
            "Fold: 1, train-observations = 88074, valid-observations = 22019\n",
            "train-score = 0.7752, valid-score = 0.7239\n",
            "=====================================================================\n",
            "Fold: 2, train-observations = 88074, valid-observations = 22019\n",
            "train-score = 0.779, valid-score = 0.716\n",
            "=====================================================================\n",
            "Fold: 3, train-observations = 88074, valid-observations = 22019\n",
            "train-score = 0.7592, valid-score = 0.7254\n",
            "=====================================================================\n",
            "Fold: 4, train-observations = 88075, valid-observations = 22018\n",
            "train-score = 0.7645, valid-score = 0.7218\n",
            "=====================================================================\n",
            "Fold: 5, train-observations = 88075, valid-observations = 22018\n",
            "train-score = 0.7677, valid-score = 0.7297\n",
            "=====================================================================\n",
            "CV-results train: 0.7691 +/- 0.007\n",
            "CV-results valid: 0.7234 +/- 0.005\n",
            "OOF-score = 0.7226\n"
          ],
          "name": "stdout"
        }
      ]
    },
    {
      "cell_type": "code",
      "metadata": {
        "id": "ERl8uQtk0h_w",
        "trusted": true,
        "outputId": "461a7cdd-41c5-4c50-b346-081327545d0e",
        "colab": {
          "base_uri": "https://localhost:8080/",
          "height": 323
        }
      },
      "source": [
        "estimators_xgb_c2, oof_score_xgb_c2, fold_train_scores_xgb_c2, fold_valid_scores_xgb_c2, oof_predictions_xgb_c2 = make_cross_validation_adapt(\n",
        "    train_crop_2,\n",
        "    train_prep[\"TARGET\"],\n",
        "    params=params,\n",
        "    metric=roc_auc_score, \n",
        "    cv_strategy=cv_strategy\n",
        ")"
      ],
      "execution_count": 282,
      "outputs": [
        {
          "output_type": "stream",
          "text": [
            "Fold: 1, train-observations = 88074, valid-observations = 22019\n",
            "train-score = 0.7755, valid-score = 0.7241\n",
            "=====================================================================\n",
            "Fold: 2, train-observations = 88074, valid-observations = 22019\n",
            "train-score = 0.7676, valid-score = 0.7167\n",
            "=====================================================================\n",
            "Fold: 3, train-observations = 88074, valid-observations = 22019\n",
            "train-score = 0.7631, valid-score = 0.7273\n",
            "=====================================================================\n",
            "Fold: 4, train-observations = 88075, valid-observations = 22018\n",
            "train-score = 0.7682, valid-score = 0.7226\n",
            "=====================================================================\n",
            "Fold: 5, train-observations = 88075, valid-observations = 22018\n",
            "train-score = 0.7661, valid-score = 0.7292\n",
            "=====================================================================\n",
            "CV-results train: 0.7681 +/- 0.004\n",
            "CV-results valid: 0.724 +/- 0.004\n",
            "OOF-score = 0.7232\n"
          ],
          "name": "stdout"
        }
      ]
    },
    {
      "cell_type": "code",
      "metadata": {
        "trusted": true,
        "id": "YEAhnnrLACvI"
      },
      "source": [
        "params2 = {}\n",
        "params2[\"objective\"] = \"binary:logistic\"\n",
        "params2[\"eta\"] = 0.05 # clf_1.best_params_['eta']\n",
        "# params[\"n_estimators\"] = clf.best_params_['n_estimators']\n",
        "params2[\"random_state\"] = 42\n",
        "params2[\"max_depth\"] = 4 # clf_1.best_params_['max_depth']\n",
        "params2[\"eval_metric\"] = \"auc\""
      ],
      "execution_count": 283,
      "outputs": []
    },
    {
      "cell_type": "code",
      "metadata": {
        "trusted": true,
        "id": "NPy4m5jfACvN"
      },
      "source": [
        "def make_cross_validation_adapt2(X: pd.DataFrame,\n",
        "                                y: pd.Series,\n",
        "                                params: Dict,\n",
        "                                metric: callable,\n",
        "                                cv_strategy):\n",
        "    \"\"\"\n",
        "    Кросс-валидация.\n",
        "\n",
        "    Parameters\n",
        "    ----------\n",
        "    X: pd.DataFrame\n",
        "        Матрица признаков.\n",
        "\n",
        "    y: pd.Series\n",
        "        Вектор целевой переменной.\n",
        "\n",
        "    params: Dict\n",
        "        Параметры модели.\n",
        "\n",
        "    metric: callable\n",
        "        Метрика для оценки качества решения.\n",
        "        Ожидается, что на вход будет передана функция,\n",
        "        которая принимает 2 аргумента: y_true, y_pred.\n",
        "\n",
        "    cv_strategy: cross-validation generator\n",
        "        Объект для описания стратегии кросс-валидации.\n",
        "        Ожидается, что на вход будет передан объект типа\n",
        "        KFold или StratifiedKFold.\n",
        "\n",
        "    Returns\n",
        "    -------\n",
        "    oof_score: float\n",
        "        Значение метрики качества на OOF-прогнозах.\n",
        "\n",
        "    fold_train_scores: List[float]\n",
        "        Значение метрики качества на каждом обучающем датасете кросс-валидации.\n",
        "\n",
        "    fold_valid_scores: List[float]\n",
        "        Значение метрики качества на каждом валидационном датасете кросс-валидации.\n",
        "\n",
        "    oof_predictions: np.array\n",
        "        Прогнозы на OOF.\n",
        "\n",
        "    \"\"\"\n",
        "    estimators, fold_train_scores, fold_valid_scores = [], [], []\n",
        "    oof_predictions = np.zeros(X.shape[0])\n",
        "\n",
        "    plst = list(params.items())\n",
        "\n",
        "    num_rounds=10000 \n",
        "    \n",
        "    for fold_number, (train_idx, valid_idx) in enumerate(cv_strategy.split(X, y)):\n",
        "        x_train, x_valid = X.loc[train_idx], X.loc[valid_idx]\n",
        "        y_train, y_valid = y.loc[train_idx], y.loc[valid_idx]\n",
        "\n",
        "        xgtrain = xgb.DMatrix(x_train, label=y_train)\n",
        "        xgval = xgb.DMatrix(x_valid, label=y_valid)\n",
        "\n",
        "        watchlist = [(xgtrain,'train'), (xgval,'eval')]\n",
        "\n",
        "        model = xgb.train(plst, \n",
        "                          xgtrain, \n",
        "                          num_rounds,\n",
        "                          watchlist,\n",
        "                          verbose_eval=False,\n",
        "                          early_stopping_rounds=50)\n",
        "\n",
        "        y_train_pred = model.predict(xgtrain)\n",
        "        y_valid_pred = model.predict(xgval)\n",
        "\n",
        "        fold_train_scores.append(metric(y_train, y_train_pred))\n",
        "        fold_valid_scores.append(metric(y_valid, y_valid_pred))\n",
        "        oof_predictions[valid_idx] = y_valid_pred\n",
        "\n",
        "        msg = (\n",
        "            f\"Fold: {fold_number+1}, train-observations = {len(train_idx)}, \"\n",
        "            f\"valid-observations = {len(valid_idx)}\\n\"\n",
        "            f\"train-score = {round(fold_train_scores[fold_number], 4)}, \"\n",
        "            f\"valid-score = {round(fold_valid_scores[fold_number], 4)}\" \n",
        "        )\n",
        "        print(msg)\n",
        "        print(\"=\"*69)\n",
        "        estimators.append(model)\n",
        "\n",
        "    oof_score = metric(y, oof_predictions)\n",
        "    print(f\"CV-results train: {round(np.mean(fold_train_scores), 4)} +/- {round(np.std(fold_train_scores), 3)}\")\n",
        "    print(f\"CV-results valid: {round(np.mean(fold_valid_scores), 4)} +/- {round(np.std(fold_valid_scores), 3)}\")\n",
        "    print(f\"OOF-score = {round(oof_score, 4)}\")\n",
        "\n",
        "    return estimators, oof_score, fold_train_scores, fold_valid_scores, oof_predictions"
      ],
      "execution_count": 284,
      "outputs": []
    },
    {
      "cell_type": "code",
      "metadata": {
        "trusted": true,
        "id": "yio__6rEACvT",
        "outputId": "4d7e1784-fce0-4085-d044-06ff490078fc",
        "colab": {
          "base_uri": "https://localhost:8080/",
          "height": 323
        }
      },
      "source": [
        "estimators_xgb2_c2, oof_score_xgb2_c2, fold_train_scores_xgb2_c2, fold_valid_scores_xgb2_c2, oof_predictions_xgb2_c2 = make_cross_validation_adapt2(\n",
        "    train_crop_2,\n",
        "    train_prep[\"TARGET\"],\n",
        "    params=params2,\n",
        "    metric=roc_auc_score, \n",
        "    cv_strategy=cv_strategy\n",
        ")"
      ],
      "execution_count": 285,
      "outputs": [
        {
          "output_type": "stream",
          "text": [
            "Fold: 1, train-observations = 88074, valid-observations = 22019\n",
            "train-score = 0.7834, valid-score = 0.7264\n",
            "=====================================================================\n",
            "Fold: 2, train-observations = 88074, valid-observations = 22019\n",
            "train-score = 0.7827, valid-score = 0.7205\n",
            "=====================================================================\n",
            "Fold: 3, train-observations = 88074, valid-observations = 22019\n",
            "train-score = 0.764, valid-score = 0.7298\n",
            "=====================================================================\n",
            "Fold: 4, train-observations = 88075, valid-observations = 22018\n",
            "train-score = 0.7903, valid-score = 0.7291\n",
            "=====================================================================\n",
            "Fold: 5, train-observations = 88075, valid-observations = 22018\n",
            "train-score = 0.7694, valid-score = 0.7331\n",
            "=====================================================================\n",
            "CV-results train: 0.778 +/- 0.01\n",
            "CV-results valid: 0.7278 +/- 0.004\n",
            "OOF-score = 0.7269\n"
          ],
          "name": "stdout"
        }
      ]
    },
    {
      "cell_type": "code",
      "metadata": {
        "trusted": true,
        "id": "l4Ptf64sACvY",
        "outputId": "2c0ad198-85a6-4e3c-df5e-2c0198328b51",
        "colab": {
          "base_uri": "https://localhost:8080/",
          "height": 34
        }
      },
      "source": [
        "oof_predictions_xgb2_c2_score = roc_auc_score(train_prep[\"TARGET\"].values, oof_predictions_xgb2_c2)\n",
        "print(f\"oof_predictions_xgb2_c2 score: {round(oof_predictions_xgb2_c2_score, 4)}\")"
      ],
      "execution_count": 286,
      "outputs": [
        {
          "output_type": "stream",
          "text": [
            "oof_predictions_xgb2_c2 score: 0.7269\n"
          ],
          "name": "stdout"
        }
      ]
    },
    {
      "cell_type": "code",
      "metadata": {
        "id": "niTNuQoMHIEH",
        "trusted": true
      },
      "source": [
        "cv_results_1 = xgb.cv(dtrain=xgb.DMatrix(train_crop, label=train_prep[\"TARGET\"]), \n",
        "                      params=params, \n",
        "                      nfold=5,\n",
        "                      num_boost_round=1000,\n",
        "                      early_stopping_rounds=50,\n",
        "                      metrics=\"auc\", \n",
        "                      as_pandas=True, \n",
        "                      seed=42)"
      ],
      "execution_count": 287,
      "outputs": []
    },
    {
      "cell_type": "code",
      "metadata": {
        "id": "NNMH6WSgM-Or",
        "trusted": true
      },
      "source": [
        "cv_results_2 = xgb.cv(dtrain=xgb.DMatrix(train_crop_2, label=train_prep[\"TARGET\"]), \n",
        "                      params=params, \n",
        "                      nfold=5,\n",
        "                      num_boost_round=1000,\n",
        "                      early_stopping_rounds=50,\n",
        "                      metrics=\"auc\", \n",
        "                      as_pandas=True, \n",
        "                      seed=42)"
      ],
      "execution_count": 288,
      "outputs": []
    },
    {
      "cell_type": "code",
      "metadata": {
        "trusted": true,
        "id": "2nqwsueiACvf"
      },
      "source": [
        "\n",
        "cv_results_3 = xgb.cv(dtrain=xgb.DMatrix(train_crop_2, label=train_prep[\"TARGET\"]), \n",
        "                      params=params2, \n",
        "                      nfold=5,\n",
        "                      num_boost_round=10000,\n",
        "                      early_stopping_rounds=50,\n",
        "                      metrics=\"auc\", \n",
        "                      as_pandas=True, \n",
        "                      seed=42)"
      ],
      "execution_count": 289,
      "outputs": []
    },
    {
      "cell_type": "code",
      "metadata": {
        "id": "-srdHv1DHH2O",
        "trusted": true
      },
      "source": [
        "# cv_results_1.head()"
      ],
      "execution_count": 290,
      "outputs": []
    },
    {
      "cell_type": "code",
      "metadata": {
        "id": "kltmejx1NFgx",
        "trusted": true
      },
      "source": [
        "# cv_results_2.head()"
      ],
      "execution_count": 291,
      "outputs": []
    },
    {
      "cell_type": "code",
      "metadata": {
        "id": "4Rfk8uUyO_v0",
        "trusted": true,
        "outputId": "e1c4ccc8-1186-41f3-fe76-b00200883c3f",
        "colab": {
          "base_uri": "https://localhost:8080/",
          "height": 51
        }
      },
      "source": [
        "print((cv_results_1[\"test-auc-mean\"]).tail(1))"
      ],
      "execution_count": 292,
      "outputs": [
        {
          "output_type": "stream",
          "text": [
            "46    0.726749\n",
            "Name: test-auc-mean, dtype: float64\n"
          ],
          "name": "stdout"
        }
      ]
    },
    {
      "cell_type": "code",
      "metadata": {
        "id": "Ed2WEI99NL55",
        "trusted": true,
        "outputId": "ee1046ff-a063-4575-b09e-a2e6b199bd15",
        "colab": {
          "base_uri": "https://localhost:8080/",
          "height": 51
        }
      },
      "source": [
        "print((cv_results_2[\"test-auc-mean\"]).tail(1))"
      ],
      "execution_count": 293,
      "outputs": [
        {
          "output_type": "stream",
          "text": [
            "54    0.726877\n",
            "Name: test-auc-mean, dtype: float64\n"
          ],
          "name": "stdout"
        }
      ]
    },
    {
      "cell_type": "code",
      "metadata": {
        "trusted": true,
        "id": "6eCXSCHdACv8",
        "outputId": "98ef8925-8324-4173-d109-688fc60eb4c3",
        "colab": {
          "base_uri": "https://localhost:8080/",
          "height": 51
        }
      },
      "source": [
        "print((cv_results_3[\"test-auc-mean\"]).tail(1))"
      ],
      "execution_count": 294,
      "outputs": [
        {
          "output_type": "stream",
          "text": [
            "413    0.729868\n",
            "Name: test-auc-mean, dtype: float64\n"
          ],
          "name": "stdout"
        }
      ]
    },
    {
      "cell_type": "markdown",
      "metadata": {
        "id": "fzFci4HfACwB"
      },
      "source": [
        "\n",
        "### Обучение XGBoost с последовательным добавлением характеристик из perm_importance"
      ]
    },
    {
      "cell_type": "code",
      "metadata": {
        "trusted": true,
        "id": "DS9i9ZZ3ACwC"
      },
      "source": [
        "def feature_sort(feat_list: pd.Series, params: Dict, fn1=True)->List: #pd.Series, List, List, List, List, List:\n",
        "    perm_imp = feat_list.copy()\n",
        "    print(f\"Характеристики до: \\n{perm_imp}\\n\")\n",
        "#     print(\"\\n\")\n",
        "    \n",
        "    estimators = []\n",
        "    oof_score = []\n",
        "    fold_train_scores = []\n",
        "    fold_valid_scores = []\n",
        "    oof_predictions = []\n",
        "    \n",
        "    for j in range(2):\n",
        "        estimators.clear()\n",
        "        oof_score.clear()\n",
        "        fold_train_scores.clear()\n",
        "        fold_valid_scores.clear()\n",
        "        oof_predictions.clear()\n",
        "\n",
        "        for i in range(len(perm_imp)):\n",
        "            print(f\"{i+1} Новый параметр {perm_imp.index[i]}\\n\")\n",
        "            if fn1:\n",
        "                estimators_tmp, oof_score_tmp, fold_train_scores_tmp, fold_valid_scores_tmp, oof_predictions_tmp = make_cross_validation_adapt(\n",
        "                        train_prep[perm_imp.index[:i+1]],\n",
        "                        train_prep[\"TARGET\"],\n",
        "                        params=params,\n",
        "                        metric=roc_auc_score, \n",
        "                        cv_strategy=cv_strategy\n",
        "                    )\n",
        "            else:\n",
        "                estimators_tmp, oof_score_tmp, fold_train_scores_tmp, fold_valid_scores_tmp, oof_predictions_tmp = make_cross_validation_adapt2(\n",
        "                        train_prep[perm_imp.index[:i+1]],\n",
        "                        train_prep[\"TARGET\"],\n",
        "                        params=params,\n",
        "                        metric=roc_auc_score, \n",
        "                        cv_strategy=cv_strategy\n",
        "                    )\n",
        "            estimators.append(estimators_tmp)\n",
        "            oof_score.append(oof_score_tmp)\n",
        "            fold_train_scores.append(fold_train_scores_tmp)\n",
        "            fold_valid_scores.append(fold_valid_scores_tmp)\n",
        "            oof_predictions.append(oof_predictions_tmp)\n",
        "        #     score = roc_auc_score(train_prep[\"TARGET\"].values, oof_predictions_tmp)\n",
        "        #     print(f\"{i+1} Новый параметр {perm_importance.index[i]} score: {round(score, 4)}\")\n",
        "            print(\"\\n\")\n",
        "        \n",
        "        plt.plot(oof_score)\n",
        "        plt.show()\n",
        "        lst = [oof_score[0]]\n",
        "        lst.extend(list(np.array(oof_score[1:]) - np.array(oof_score[:-1])))\n",
        "        perm_imp_prev = perm_imp.copy()\n",
        "        perm_imp = pd.Series(lst, index=perm_imp_prev.index)\n",
        "        perm_imp.sort_values(ascending=False, inplace=True)\n",
        "        print(f\"Характеристики после:\\n{perm_imp}\\n\")\n",
        "#         print(\"\\n\")\n",
        "    \n",
        "    return perm_imp, perm_imp_prev, estimators, oof_score, fold_train_scores, fold_valid_scores, oof_predictions"
      ],
      "execution_count": 295,
      "outputs": []
    },
    {
      "cell_type": "code",
      "metadata": {
        "trusted": true,
        "id": "URLrBbImACwG"
      },
      "source": [
        "# feat_lst, feat_lst_prev, estimators, oof_score, fold_train_scores, fold_valid_scores, oof_predictions = feature_sort(perm_importance, params)"
      ],
      "execution_count": 296,
      "outputs": []
    },
    {
      "cell_type": "code",
      "metadata": {
        "trusted": true,
        "id": "3ZAkekATACwH"
      },
      "source": [
        "# feat_lst2, feat_lst_prev2, estimators2, oof_score2, fold_train_scores2, fold_valid_scores2, oof_predictions2 = feature_sort(perm_importance, params2, False)"
      ],
      "execution_count": 297,
      "outputs": []
    },
    {
      "cell_type": "code",
      "metadata": {
        "trusted": true,
        "id": "5qT_89LKACwJ"
      },
      "source": [
        "# train_crop_3 = train_prep[feat_lst[:30]].copy()\n",
        "# train_crop_3.head()\n",
        "\n",
        "# test_crop_3 = test_prep[feat_lst[:30]].copy()\n",
        "# test_crop_3.head()"
      ],
      "execution_count": 298,
      "outputs": []
    },
    {
      "cell_type": "code",
      "metadata": {
        "trusted": true,
        "id": "pcs80bL8ACwM"
      },
      "source": [
        "# train_crop_4 = train_prep[perm_importance.index[:31]].copy()\n",
        "# train_crop_4.head(2)\n",
        "\n",
        "# test_crop_4 = test_prep[perm_importance.index[:31]].copy()\n",
        "# test_crop_4.head(2)"
      ],
      "execution_count": 299,
      "outputs": []
    },
    {
      "cell_type": "markdown",
      "metadata": {
        "trusted": true,
        "id": "bIEdrE2NACwO"
      },
      "source": [
        "### Обучение XGBoost на отобранных признаках"
      ]
    },
    {
      "cell_type": "code",
      "metadata": {
        "trusted": true,
        "id": "cLSxg_-rACwP"
      },
      "source": [
        "# estimators_xgb_c3, oof_score_xgb_c3, fold_train_scores_xgb_c3, fold_valid_scores_xgb_c3, oof_predictions_xgb_c3 = make_cross_validation_adapt2(\n",
        "#     train_crop_3,\n",
        "#     train_prep[\"TARGET\"],\n",
        "#     params=params2,\n",
        "#     metric=roc_auc_score, \n",
        "#     cv_strategy=cv_strategy\n",
        "# )"
      ],
      "execution_count": 300,
      "outputs": []
    },
    {
      "cell_type": "code",
      "metadata": {
        "trusted": true,
        "id": "ypG0lIROACwR"
      },
      "source": [
        "# estimators_xgb_c4, oof_score_xgb_c4, fold_train_scores_xgb_c4, fold_valid_scores_xgb_c4, oof_predictions_xgb_c4 = make_cross_validation_adapt2(\n",
        "#     train_crop_4,\n",
        "#     train_prep[\"TARGET\"],\n",
        "#     params=params2,\n",
        "#     metric=roc_auc_score, \n",
        "#     cv_strategy=cv_strategy\n",
        "# )"
      ],
      "execution_count": 301,
      "outputs": []
    },
    {
      "cell_type": "markdown",
      "metadata": {
        "id": "0A-qFiy9ljGC"
      },
      "source": [
        "### XGBoost данные для загрузки"
      ]
    },
    {
      "cell_type": "code",
      "metadata": {
        "trusted": true,
        "id": "a5hiLhmDACwV",
        "outputId": "39efcdf2-738e-4413-fee9-d8e190f3b913",
        "colab": {
          "base_uri": "https://localhost:8080/",
          "height": 204
        }
      },
      "source": [
        "prediction_xgb_c1 = test[['APPLICATION_NUMBER']].copy()\n",
        "prediction_xgb_c1[\"TARGET\"] = 0\n",
        "prediction_xgb_c1.head()\n",
        "\n",
        "prediction_xgb_c2 = test[['APPLICATION_NUMBER']].copy()\n",
        "prediction_xgb_c2[\"TARGET\"] = 0\n",
        "prediction_xgb_c2.head()\n",
        "\n",
        "prediction_xgb2_c2 = test[['APPLICATION_NUMBER']].copy()\n",
        "prediction_xgb2_c2[\"TARGET\"] = 0\n",
        "prediction_xgb2_c2.head()\n",
        "\n",
        "# prediction_xgb_c3 = test[['APPLICATION_NUMBER']].copy()\n",
        "# prediction_xgb_c3[\"TARGET\"] = 0\n",
        "# prediction_xgb_c3.head()\n",
        "\n",
        "# prediction_xgb_c4 = test[['APPLICATION_NUMBER']].copy()\n",
        "# prediction_xgb_c4[\"TARGET\"] = 0\n",
        "# prediction_xgb_c4.head()"
      ],
      "execution_count": 302,
      "outputs": [
        {
          "output_type": "execute_result",
          "data": {
            "text/html": [
              "<div>\n",
              "<style scoped>\n",
              "    .dataframe tbody tr th:only-of-type {\n",
              "        vertical-align: middle;\n",
              "    }\n",
              "\n",
              "    .dataframe tbody tr th {\n",
              "        vertical-align: top;\n",
              "    }\n",
              "\n",
              "    .dataframe thead th {\n",
              "        text-align: right;\n",
              "    }\n",
              "</style>\n",
              "<table border=\"1\" class=\"dataframe\">\n",
              "  <thead>\n",
              "    <tr style=\"text-align: right;\">\n",
              "      <th></th>\n",
              "      <th>APPLICATION_NUMBER</th>\n",
              "      <th>TARGET</th>\n",
              "    </tr>\n",
              "  </thead>\n",
              "  <tbody>\n",
              "    <tr>\n",
              "      <th>0</th>\n",
              "      <td>123724268</td>\n",
              "      <td>0</td>\n",
              "    </tr>\n",
              "    <tr>\n",
              "      <th>1</th>\n",
              "      <td>123456549</td>\n",
              "      <td>0</td>\n",
              "    </tr>\n",
              "    <tr>\n",
              "      <th>2</th>\n",
              "      <td>123428178</td>\n",
              "      <td>0</td>\n",
              "    </tr>\n",
              "    <tr>\n",
              "      <th>3</th>\n",
              "      <td>123619984</td>\n",
              "      <td>0</td>\n",
              "    </tr>\n",
              "    <tr>\n",
              "      <th>4</th>\n",
              "      <td>123671104</td>\n",
              "      <td>0</td>\n",
              "    </tr>\n",
              "  </tbody>\n",
              "</table>\n",
              "</div>"
            ],
            "text/plain": [
              "   APPLICATION_NUMBER  TARGET\n",
              "0           123724268       0\n",
              "1           123456549       0\n",
              "2           123428178       0\n",
              "3           123619984       0\n",
              "4           123671104       0"
            ]
          },
          "metadata": {
            "tags": []
          },
          "execution_count": 302
        }
      ]
    },
    {
      "cell_type": "code",
      "metadata": {
        "id": "ES3KJ6EIS765",
        "trusted": true
      },
      "source": [
        "test_predictions_xgb_c1 = np.zeros(test[['APPLICATION_NUMBER']].shape[0])\n",
        "test_predictions_xgb_c2 = np.zeros(test[['APPLICATION_NUMBER']].shape[0])\n",
        "test_predictions_xgb2_c2 = np.zeros(test[['APPLICATION_NUMBER']].shape[0])\n",
        "# test_predictions_xgb_c3 = np.zeros(test[['APPLICATION_NUMBER']].shape[0])\n",
        "# test_predictions_xgb_c4 = np.zeros(test[['APPLICATION_NUMBER']].shape[0])\n",
        "\n",
        "for i in range(5):\n",
        "    test_predictions_xgb_c1 += estimators_xgb_c1[i].predict(xgb.DMatrix(test_crop))\n",
        "    test_predictions_xgb_c2 += estimators_xgb_c2[i].predict(xgb.DMatrix(test_crop_2))\n",
        "    test_predictions_xgb2_c2 += estimators_xgb2_c2[i].predict(xgb.DMatrix(test_crop_2))\n",
        "#     test_predictions_xgb_c3 += estimators_xgb_c3[i].predict(xgb.DMatrix(test_crop_3))\n",
        "#     test_predictions_xgb_c4 += estimators_xgb_c4[i].predict(xgb.DMatrix(test_crop_4))\n",
        "\n",
        "test_predictions_xgb_c1 /= 5\n",
        "test_predictions_xgb_c2 /= 5\n",
        "test_predictions_xgb2_c2 /= 5\n",
        "# test_predictions_xgb_c3 /= 5\n",
        "# test_predictions_xgb_c4 /= 5\n",
        "\n",
        "test_predictions_xgb_c1[test_predictions_xgb_c1 < 0] = 0\n",
        "test_predictions_xgb_c1[test_predictions_xgb_c1 > 1] = 1\n",
        "\n",
        "test_predictions_xgb_c2[test_predictions_xgb_c2 < 0] = 0\n",
        "test_predictions_xgb_c2[test_predictions_xgb_c2 > 1] = 1\n",
        "\n",
        "test_predictions_xgb2_c2[test_predictions_xgb2_c2 < 0] = 0\n",
        "test_predictions_xgb2_c2[test_predictions_xgb2_c2 > 1] = 1\n",
        "\n",
        "# test_predictions_xgb_c3[test_predictions_xgb_c3 < 0] = 0\n",
        "# test_predictions_xgb_c3[test_predictions_xgb_c3 > 1] = 1\n",
        "\n",
        "# test_predictions_xgb_c4[test_predictions_xgb_c4 < 0] = 0\n",
        "# test_predictions_xgb_c4[test_predictions_xgb_c4 > 1] = 1"
      ],
      "execution_count": 303,
      "outputs": []
    },
    {
      "cell_type": "code",
      "metadata": {
        "trusted": true,
        "id": "X-3FqwhEACwZ",
        "outputId": "5ee4e031-78e8-4abc-ef89-ca98562bf99d",
        "colab": {
          "base_uri": "https://localhost:8080/",
          "height": 204
        }
      },
      "source": [
        "prediction_xgb_c1[\"TARGET\"] = test_predictions_xgb_c1.copy()\n",
        "prediction_xgb_c1.tail()\n",
        "\n",
        "prediction_xgb_c2[\"TARGET\"] = test_predictions_xgb_c2.copy()\n",
        "prediction_xgb_c2.tail()\n",
        "\n",
        "prediction_xgb2_c2[\"TARGET\"] = test_predictions_xgb2_c2.copy()\n",
        "prediction_xgb2_c2.tail()\n",
        "\n",
        "# prediction_xgb_c3[\"TARGET\"] = test_predictions_xgb_c3.copy()\n",
        "# prediction_xgb_c3.tail()\n",
        "\n",
        "# prediction_xgb_c4[\"TARGET\"] = test_predictions_xgb_c4.copy()\n",
        "# prediction_xgb_c4.tail()"
      ],
      "execution_count": 304,
      "outputs": [
        {
          "output_type": "execute_result",
          "data": {
            "text/html": [
              "<div>\n",
              "<style scoped>\n",
              "    .dataframe tbody tr th:only-of-type {\n",
              "        vertical-align: middle;\n",
              "    }\n",
              "\n",
              "    .dataframe tbody tr th {\n",
              "        vertical-align: top;\n",
              "    }\n",
              "\n",
              "    .dataframe thead th {\n",
              "        text-align: right;\n",
              "    }\n",
              "</style>\n",
              "<table border=\"1\" class=\"dataframe\">\n",
              "  <thead>\n",
              "    <tr style=\"text-align: right;\">\n",
              "      <th></th>\n",
              "      <th>APPLICATION_NUMBER</th>\n",
              "      <th>TARGET</th>\n",
              "    </tr>\n",
              "  </thead>\n",
              "  <tbody>\n",
              "    <tr>\n",
              "      <th>165136</th>\n",
              "      <td>123487967</td>\n",
              "      <td>0.084279</td>\n",
              "    </tr>\n",
              "    <tr>\n",
              "      <th>165137</th>\n",
              "      <td>123536402</td>\n",
              "      <td>0.041259</td>\n",
              "    </tr>\n",
              "    <tr>\n",
              "      <th>165138</th>\n",
              "      <td>123718238</td>\n",
              "      <td>0.084279</td>\n",
              "    </tr>\n",
              "    <tr>\n",
              "      <th>165139</th>\n",
              "      <td>123631557</td>\n",
              "      <td>0.011183</td>\n",
              "    </tr>\n",
              "    <tr>\n",
              "      <th>165140</th>\n",
              "      <td>123433260</td>\n",
              "      <td>0.042805</td>\n",
              "    </tr>\n",
              "  </tbody>\n",
              "</table>\n",
              "</div>"
            ],
            "text/plain": [
              "        APPLICATION_NUMBER    TARGET\n",
              "165136           123487967  0.084279\n",
              "165137           123536402  0.041259\n",
              "165138           123718238  0.084279\n",
              "165139           123631557  0.011183\n",
              "165140           123433260  0.042805"
            ]
          },
          "metadata": {
            "tags": []
          },
          "execution_count": 304
        }
      ]
    },
    {
      "cell_type": "code",
      "metadata": {
        "trusted": true,
        "id": "lEzPHyRhACwc"
      },
      "source": [
        "prediction_xgb_c1.to_csv(data_dir + \"prediction_xgb_c1.csv\", sep=\",\", index=False)\n",
        "prediction_xgb_c2.to_csv(data_dir + \"prediction_xgb_c2.csv\", sep=\",\", index=False)\n",
        "prediction_xgb2_c2.to_csv(data_dir + \"prediction_xgb2_c2.csv\", sep=\",\", index=False)\n",
        "# prediction_xgb_c3.to_csv(data_dir + \"prediction_xgb_c3.csv\", sep=\",\", index=False)\n",
        "# prediction_xgb_c4.to_csv(data_dir + \"prediction_xgb_c4.csv\", sep=\",\", index=False)"
      ],
      "execution_count": 305,
      "outputs": []
    },
    {
      "cell_type": "markdown",
      "metadata": {
        "id": "jhl4IP4zPA5e"
      },
      "source": [
        "## CatBoost"
      ]
    },
    {
      "cell_type": "code",
      "metadata": {
        "id": "Qt6w4riyLa4P",
        "trusted": true
      },
      "source": [
        "import time\n",
        "\n",
        "def catboost_cross_validation(params, X, y, cv, categorical = None):\n",
        "    \"\"\"\n",
        "    Кросс-валидация для модели catbooost.\n",
        "\n",
        "    Parameters\n",
        "    ----------\n",
        "    params: dict\n",
        "        Словарь гиперпараметров модели.\n",
        "\n",
        "    X: pandas.core.frame.DataFrame\n",
        "        Матрица признаков для обучения модели.\n",
        "\n",
        "    y: pandas.core.frame.Series\n",
        "        Вектор целевой переменной для обучения модели.\n",
        "\n",
        "    cv: KFold or StratifiedKFold generator.\n",
        "        Объект KFold / StratifiedKFold для определения\n",
        "        стратегии кросс-валидации модели.\n",
        "\n",
        "    categorical: str, optional, default = None\n",
        "        Список категориальных признаков.\n",
        "        Опциональный параметр, по умолчанию, не используется.\n",
        "\n",
        "    Returns\n",
        "    -------\n",
        "    estimators: list\n",
        "        Список с объектами обученной модели.\n",
        "\n",
        "    oof_preds: np.array\n",
        "        Вектор OOF-прогнозов.\n",
        "\n",
        "    \"\"\"\n",
        "    estimators, folds_scores = [], []\n",
        "    oof_preds = np.zeros(X.shape[0])\n",
        "\n",
        "    print(f\"{time.ctime()}, Cross-Validation, {X.shape[0]} rows, {X.shape[1]} cols\")\n",
        "    X[categorical] = X[categorical].astype(str)\n",
        "\n",
        "    for fold, (train_idx, valid_idx) in enumerate(cv.split(X, y)):\n",
        "\n",
        "        x_train, x_valid = X.loc[train_idx], X.loc[valid_idx]\n",
        "        y_train, y_valid = y[train_idx], y[valid_idx]\n",
        "\n",
        "        model = catb.CatBoostClassifier(**params)\n",
        "        model.fit(\n",
        "            x_train, y_train, categorical,\n",
        "            eval_set=[(x_train, y_train), (x_valid, y_valid)],\n",
        "            verbose_eval=False\n",
        "        )\n",
        "        oof_preds[valid_idx] = model.predict_proba(x_valid)[:, 1]\n",
        "        score = roc_auc_score(y_valid, oof_preds[valid_idx])\n",
        "        print(f\"Fold {fold+1}, Valid score = {round(score, 5)}\")\n",
        "        folds_scores.append(round(score, 5))\n",
        "        estimators.append(model)\n",
        "\n",
        "    print(f\"Score by each fold: {folds_scores}\")\n",
        "    print(\"=\"*65)\n",
        "    return estimators, oof_preds"
      ],
      "execution_count": 306,
      "outputs": []
    },
    {
      "cell_type": "code",
      "metadata": {
        "id": "XvlxVgnlLaa9",
        "trusted": true
      },
      "source": [
        "cb_params = {\n",
        "    \"n_estimators\": 2000,\n",
        "    \"learning_rate\": 0.01,\n",
        "    \"loss_function\": \"Logloss\",\n",
        "    \"eval_metric\": \"AUC\",\n",
        "    \"task_type\": \"CPU\",\n",
        "    \"max_bin\": 20,\n",
        "    \"verbose\": 10,\n",
        "    \"max_depth\": 6,\n",
        "    \"l2_leaf_reg\": 10,\n",
        "    \"early_stopping_rounds\": 50,\n",
        "    \"thread_count\": 6,\n",
        "    \"random_seed\": 42\n",
        "}\n",
        "\n",
        "cv = KFold(n_splits=5, random_state=42, shuffle=True)"
      ],
      "execution_count": 307,
      "outputs": []
    },
    {
      "cell_type": "code",
      "metadata": {
        "id": "1Xhc9m_4POOh",
        "trusted": true,
        "outputId": "fb7d1eed-1d69-4474-82ed-6fc0958fe889",
        "colab": {
          "base_uri": "https://localhost:8080/",
          "height": 153
        }
      },
      "source": [
        "train_cat = train_cat_prep.drop([\"APPLICATION_NUMBER\", \"TARGET\"], axis=1)\n",
        "categorial = train_cat.dtypes[train_cat.dtypes == \"object\"].index\n",
        "estimators_catb_f, oof_preds_catb_f = catboost_cross_validation(\n",
        "        params=cb_params, \n",
        "        X=train_cat, \n",
        "        y=train_prep[\"TARGET\"], \n",
        "        cv=cv, \n",
        "        categorical=categorial\n",
        ")"
      ],
      "execution_count": 308,
      "outputs": [
        {
          "output_type": "stream",
          "text": [
            "Sun Oct  4 20:18:17 2020, Cross-Validation, 110093 rows, 41 cols\n",
            "Fold 1, Valid score = 0.74023\n",
            "Fold 2, Valid score = 0.71905\n",
            "Fold 3, Valid score = 0.72627\n",
            "Fold 4, Valid score = 0.72749\n",
            "Fold 5, Valid score = 0.7126\n",
            "Score by each fold: [0.74023, 0.71905, 0.72627, 0.72749, 0.7126]\n",
            "=================================================================\n"
          ],
          "name": "stdout"
        }
      ]
    },
    {
      "cell_type": "code",
      "metadata": {
        "id": "A9qTO6hric9n",
        "trusted": true,
        "outputId": "31c987bd-5fc9-44a3-8532-31ba5bed7d75",
        "colab": {
          "base_uri": "https://localhost:8080/",
          "height": 34
        }
      },
      "source": [
        "score = roc_auc_score(train_prep[\"TARGET\"].values, oof_preds_catb_f)\n",
        "print(f\"OOF-score = {score:.4f}\")"
      ],
      "execution_count": 309,
      "outputs": [
        {
          "output_type": "stream",
          "text": [
            "OOF-score = 0.7243\n"
          ],
          "name": "stdout"
        }
      ]
    },
    {
      "cell_type": "code",
      "metadata": {
        "id": "f0aI39wxOpYE",
        "trusted": true,
        "outputId": "be36f9c9-848f-4165-af30-141f6976ba09",
        "colab": {
          "base_uri": "https://localhost:8080/",
          "height": 255
        }
      },
      "source": [
        "categorial = train_cat_crop.dtypes[train_cat_crop.dtypes == \"object\"].index\n",
        "estimators_catb_c1, oof_preds_catb_c1 = catboost_cross_validation(\n",
        "        params=cb_params, \n",
        "        X=train_cat_crop, \n",
        "        y=train_prep[\"TARGET\"], \n",
        "        cv=cv, \n",
        "        categorical=categorial\n",
        ")"
      ],
      "execution_count": 310,
      "outputs": [
        {
          "output_type": "stream",
          "text": [
            "Sun Oct  4 20:34:46 2020, Cross-Validation, 110093 rows, 40 cols\n"
          ],
          "name": "stdout"
        },
        {
          "output_type": "stream",
          "text": [
            "/usr/local/lib/python3.6/dist-packages/pandas/core/frame.py:3065: SettingWithCopyWarning: \n",
            "A value is trying to be set on a copy of a slice from a DataFrame.\n",
            "Try using .loc[row_indexer,col_indexer] = value instead\n",
            "\n",
            "See the caveats in the documentation: https://pandas.pydata.org/pandas-docs/stable/user_guide/indexing.html#returning-a-view-versus-a-copy\n",
            "  self[k1] = value[k2]\n"
          ],
          "name": "stderr"
        },
        {
          "output_type": "stream",
          "text": [
            "Fold 1, Valid score = 0.74029\n",
            "Fold 2, Valid score = 0.71886\n",
            "Fold 3, Valid score = 0.72579\n",
            "Fold 4, Valid score = 0.72742\n",
            "Fold 5, Valid score = 0.71059\n",
            "Score by each fold: [0.74029, 0.71886, 0.72579, 0.72742, 0.71059]\n",
            "=================================================================\n"
          ],
          "name": "stdout"
        }
      ]
    },
    {
      "cell_type": "code",
      "metadata": {
        "id": "-6uLqyjcie_r",
        "trusted": true,
        "outputId": "410b7eb3-a80c-46a6-c18b-a44daacbc526",
        "colab": {
          "base_uri": "https://localhost:8080/",
          "height": 34
        }
      },
      "source": [
        "score = roc_auc_score(train_prep[\"TARGET\"].values, oof_preds_catb_c1)\n",
        "print(f\"OOF-score = {score:.4f}\")"
      ],
      "execution_count": 311,
      "outputs": [
        {
          "output_type": "stream",
          "text": [
            "OOF-score = 0.7237\n"
          ],
          "name": "stdout"
        }
      ]
    },
    {
      "cell_type": "code",
      "metadata": {
        "id": "84-USEHyOqHu",
        "trusted": true,
        "outputId": "4dfce958-9086-4f2b-d689-0c6a2b96d7a6",
        "colab": {
          "base_uri": "https://localhost:8080/",
          "height": 255
        }
      },
      "source": [
        "categorial = train_cat_crop_2.dtypes[train_cat_crop_2.dtypes == \"object\"].index\n",
        "estimators_catb_c2, oof_preds_catb_c2 = catboost_cross_validation(\n",
        "        params=cb_params, \n",
        "        X=train_cat_crop_2, \n",
        "        y=train_prep[\"TARGET\"], \n",
        "        cv=cv, \n",
        "        categorical=categorial\n",
        ")"
      ],
      "execution_count": 312,
      "outputs": [
        {
          "output_type": "stream",
          "text": [
            "Sun Oct  4 20:49:43 2020, Cross-Validation, 110093 rows, 33 cols\n"
          ],
          "name": "stdout"
        },
        {
          "output_type": "stream",
          "text": [
            "/usr/local/lib/python3.6/dist-packages/pandas/core/frame.py:3065: SettingWithCopyWarning: \n",
            "A value is trying to be set on a copy of a slice from a DataFrame.\n",
            "Try using .loc[row_indexer,col_indexer] = value instead\n",
            "\n",
            "See the caveats in the documentation: https://pandas.pydata.org/pandas-docs/stable/user_guide/indexing.html#returning-a-view-versus-a-copy\n",
            "  self[k1] = value[k2]\n"
          ],
          "name": "stderr"
        },
        {
          "output_type": "stream",
          "text": [
            "Fold 1, Valid score = 0.74059\n",
            "Fold 2, Valid score = 0.71929\n",
            "Fold 3, Valid score = 0.72607\n",
            "Fold 4, Valid score = 0.72936\n",
            "Fold 5, Valid score = 0.71048\n",
            "Score by each fold: [0.74059, 0.71929, 0.72607, 0.72936, 0.71048]\n",
            "=================================================================\n"
          ],
          "name": "stdout"
        }
      ]
    },
    {
      "cell_type": "code",
      "metadata": {
        "id": "6VigJThBfWUJ",
        "trusted": true,
        "outputId": "f65fd7da-f7d9-4477-ecff-1a69458b5638",
        "colab": {
          "base_uri": "https://localhost:8080/",
          "height": 34
        }
      },
      "source": [
        "score = roc_auc_score(train_prep[\"TARGET\"].values, oof_preds_catb_c2)\n",
        "print(f\"OOF-score = {score:.4f}\")"
      ],
      "execution_count": 313,
      "outputs": [
        {
          "output_type": "stream",
          "text": [
            "OOF-score = 0.7243\n"
          ],
          "name": "stdout"
        }
      ]
    },
    {
      "cell_type": "markdown",
      "metadata": {
        "id": "ZcXhjOzulsld"
      },
      "source": [
        "### CatBoost данные для загрузки"
      ]
    },
    {
      "cell_type": "code",
      "metadata": {
        "id": "ADDw8-X1l0E0",
        "trusted": true,
        "outputId": "db0604e8-b037-4924-ca4b-3a106866c70d",
        "colab": {
          "base_uri": "https://localhost:8080/",
          "height": 204
        }
      },
      "source": [
        "prediction_cat_f = test[['APPLICATION_NUMBER']].copy()\n",
        "prediction_cat_f[\"TARGET\"] = 0\n",
        "prediction_cat_f.head()\n",
        "\n",
        "prediction_cat_c1 = test[['APPLICATION_NUMBER']].copy()\n",
        "prediction_cat_c1[\"TARGET\"] = 0\n",
        "prediction_cat_c1.head()\n",
        "\n",
        "prediction_cat_c2 = test[['APPLICATION_NUMBER']].copy()\n",
        "prediction_cat_c2[\"TARGET\"] = 0\n",
        "prediction_cat_c2.head()"
      ],
      "execution_count": 314,
      "outputs": [
        {
          "output_type": "execute_result",
          "data": {
            "text/html": [
              "<div>\n",
              "<style scoped>\n",
              "    .dataframe tbody tr th:only-of-type {\n",
              "        vertical-align: middle;\n",
              "    }\n",
              "\n",
              "    .dataframe tbody tr th {\n",
              "        vertical-align: top;\n",
              "    }\n",
              "\n",
              "    .dataframe thead th {\n",
              "        text-align: right;\n",
              "    }\n",
              "</style>\n",
              "<table border=\"1\" class=\"dataframe\">\n",
              "  <thead>\n",
              "    <tr style=\"text-align: right;\">\n",
              "      <th></th>\n",
              "      <th>APPLICATION_NUMBER</th>\n",
              "      <th>TARGET</th>\n",
              "    </tr>\n",
              "  </thead>\n",
              "  <tbody>\n",
              "    <tr>\n",
              "      <th>0</th>\n",
              "      <td>123724268</td>\n",
              "      <td>0</td>\n",
              "    </tr>\n",
              "    <tr>\n",
              "      <th>1</th>\n",
              "      <td>123456549</td>\n",
              "      <td>0</td>\n",
              "    </tr>\n",
              "    <tr>\n",
              "      <th>2</th>\n",
              "      <td>123428178</td>\n",
              "      <td>0</td>\n",
              "    </tr>\n",
              "    <tr>\n",
              "      <th>3</th>\n",
              "      <td>123619984</td>\n",
              "      <td>0</td>\n",
              "    </tr>\n",
              "    <tr>\n",
              "      <th>4</th>\n",
              "      <td>123671104</td>\n",
              "      <td>0</td>\n",
              "    </tr>\n",
              "  </tbody>\n",
              "</table>\n",
              "</div>"
            ],
            "text/plain": [
              "   APPLICATION_NUMBER  TARGET\n",
              "0           123724268       0\n",
              "1           123456549       0\n",
              "2           123428178       0\n",
              "3           123619984       0\n",
              "4           123671104       0"
            ]
          },
          "metadata": {
            "tags": []
          },
          "execution_count": 314
        }
      ]
    },
    {
      "cell_type": "code",
      "metadata": {
        "id": "Mq85yC0qUCtP",
        "trusted": true
      },
      "source": [
        "test_preds_catb_f = np.zeros(prediction_cat_c2[\"TARGET\"].shape[0])\n",
        "test_preds_catb_c1 = np.zeros(prediction_cat_c2[\"TARGET\"].shape[0])\n",
        "test_preds_catb_c2 = np.zeros(prediction_cat_c2[\"TARGET\"].shape[0])\n",
        "\n",
        "for i in range(5):\n",
        "    test_preds_catb_f += estimators_catb_f[i].predict_proba(test_prep.drop([\"APPLICATION_NUMBER\"], axis=1))[:, 1]\n",
        "    test_preds_catb_c1 += estimators_catb_c1[i].predict_proba(test_cat_crop)[:, 1]\n",
        "    test_preds_catb_c2 += estimators_catb_c2[i].predict_proba(test_cat_crop_2)[:, 1]\n",
        "\n",
        "test_preds_catb_f /= 5\n",
        "test_preds_catb_c1 /= 5\n",
        "test_preds_catb_c2 /= 5\n",
        "\n",
        "test_preds_catb_f[test_preds_catb_f < 0] = 0\n",
        "test_preds_catb_f[test_preds_catb_f > 1] = 1\n",
        "\n",
        "test_preds_catb_c1[test_preds_catb_c1 < 0] = 0\n",
        "test_preds_catb_c1[test_preds_catb_c1 > 1] = 1\n",
        "\n",
        "test_preds_catb_c2[test_preds_catb_c2 < 0] = 0\n",
        "test_preds_catb_c2[test_preds_catb_c2 > 1] = 1"
      ],
      "execution_count": 315,
      "outputs": []
    },
    {
      "cell_type": "code",
      "metadata": {
        "id": "KFN1moCIUCtT",
        "trusted": true,
        "outputId": "c146a006-4d59-482d-acc4-dfaaff21ea24",
        "colab": {
          "base_uri": "https://localhost:8080/",
          "height": 204
        }
      },
      "source": [
        "prediction_cat_f[\"TARGET\"] = test_preds_catb_f.copy()\n",
        "prediction_cat_f.tail()\n",
        "\n",
        "prediction_cat_c1[\"TARGET\"] = test_preds_catb_c1.copy()\n",
        "prediction_cat_c1.tail()\n",
        "\n",
        "prediction_cat_c2[\"TARGET\"] = test_preds_catb_c2.copy()\n",
        "prediction_cat_c2.tail()"
      ],
      "execution_count": 316,
      "outputs": [
        {
          "output_type": "execute_result",
          "data": {
            "text/html": [
              "<div>\n",
              "<style scoped>\n",
              "    .dataframe tbody tr th:only-of-type {\n",
              "        vertical-align: middle;\n",
              "    }\n",
              "\n",
              "    .dataframe tbody tr th {\n",
              "        vertical-align: top;\n",
              "    }\n",
              "\n",
              "    .dataframe thead th {\n",
              "        text-align: right;\n",
              "    }\n",
              "</style>\n",
              "<table border=\"1\" class=\"dataframe\">\n",
              "  <thead>\n",
              "    <tr style=\"text-align: right;\">\n",
              "      <th></th>\n",
              "      <th>APPLICATION_NUMBER</th>\n",
              "      <th>TARGET</th>\n",
              "    </tr>\n",
              "  </thead>\n",
              "  <tbody>\n",
              "    <tr>\n",
              "      <th>165136</th>\n",
              "      <td>123487967</td>\n",
              "      <td>0.084471</td>\n",
              "    </tr>\n",
              "    <tr>\n",
              "      <th>165137</th>\n",
              "      <td>123536402</td>\n",
              "      <td>0.049590</td>\n",
              "    </tr>\n",
              "    <tr>\n",
              "      <th>165138</th>\n",
              "      <td>123718238</td>\n",
              "      <td>0.084471</td>\n",
              "    </tr>\n",
              "    <tr>\n",
              "      <th>165139</th>\n",
              "      <td>123631557</td>\n",
              "      <td>0.024051</td>\n",
              "    </tr>\n",
              "    <tr>\n",
              "      <th>165140</th>\n",
              "      <td>123433260</td>\n",
              "      <td>0.054022</td>\n",
              "    </tr>\n",
              "  </tbody>\n",
              "</table>\n",
              "</div>"
            ],
            "text/plain": [
              "        APPLICATION_NUMBER    TARGET\n",
              "165136           123487967  0.084471\n",
              "165137           123536402  0.049590\n",
              "165138           123718238  0.084471\n",
              "165139           123631557  0.024051\n",
              "165140           123433260  0.054022"
            ]
          },
          "metadata": {
            "tags": []
          },
          "execution_count": 316
        }
      ]
    },
    {
      "cell_type": "code",
      "metadata": {
        "trusted": true,
        "id": "BtNsPs5vACxG"
      },
      "source": [
        "prediction_cat_f.to_csv(data_dir + \"prediction_cat_f.csv\", sep=\",\", index=False)\n",
        "prediction_cat_c1.to_csv(data_dir + \"prediction_cat_c1.csv\", sep=\",\", index=False)\n",
        "prediction_cat_c2.to_csv(data_dir + \"prediction_cat_c2.csv\", sep=\",\", index=False)"
      ],
      "execution_count": 317,
      "outputs": []
    },
    {
      "cell_type": "markdown",
      "metadata": {
        "id": "Rj80KM0gACxI"
      },
      "source": [
        "## Support Vector Machine"
      ]
    },
    {
      "cell_type": "code",
      "metadata": {
        "trusted": true,
        "id": "z8mgMJCNACxI"
      },
      "source": [
        "from sklearn.model_selection import train_test_split\n",
        "from sklearn.svm import SVC\n",
        "from sklearn.preprocessing import StandardScaler\n",
        "from sklearn.preprocessing import MinMaxScaler\n",
        "from sklearn.preprocessing import RobustScaler\n",
        "from sklearn.neighbors import KNeighborsClassifier\n",
        "from sklearn.ensemble import RandomForestClassifier"
      ],
      "execution_count": 318,
      "outputs": []
    },
    {
      "cell_type": "code",
      "metadata": {
        "trusted": true,
        "id": "pLSUJNrPACxM"
      },
      "source": [
        "# X = train_prep.drop([\"APPLICATION_NUMBER\", \"TARGET\"], axis=1)\n",
        "X = train_crop_2\n",
        "X_train, X_valid, y_train, y_valid = train_test_split(X, train_prep[\"TARGET\"].values, test_size=0.2, random_state=42)"
      ],
      "execution_count": 319,
      "outputs": []
    },
    {
      "cell_type": "code",
      "metadata": {
        "trusted": true,
        "id": "ELuwZjWiACxV",
        "outputId": "7f84a55f-15ab-4d60-c729-dc0a91bc07cc",
        "colab": {
          "base_uri": "https://localhost:8080/",
          "height": 34
        }
      },
      "source": [
        "y_train = y_train.astype(int)\n",
        "y_valid = y_valid.astype(int)\n",
        "y_train"
      ],
      "execution_count": 320,
      "outputs": [
        {
          "output_type": "execute_result",
          "data": {
            "text/plain": [
              "array([0, 0, 0, ..., 0, 0, 0])"
            ]
          },
          "metadata": {
            "tags": []
          },
          "execution_count": 320
        }
      ]
    },
    {
      "cell_type": "code",
      "metadata": {
        "trusted": true,
        "id": "lK7ySEAwACxc"
      },
      "source": [
        "scaler = StandardScaler()\n",
        "\n",
        "scaler.fit_transform(X)\n",
        "X_sc = pd.DataFrame(scaler.transform(X), columns=X.columns)\n",
        "X_train_sc = pd.DataFrame(scaler.transform(X_train), columns=X_train.columns)\n",
        "X_valid_sc = pd.DataFrame(scaler.transform(X_valid), columns=X_valid.columns)"
      ],
      "execution_count": 321,
      "outputs": []
    },
    {
      "cell_type": "code",
      "metadata": {
        "trusted": true,
        "id": "VcOqY1B-ACxi"
      },
      "source": [
        "# tst = test_prep.drop([\"APPLICATION_NUMBER\"], axis=1)\n",
        "# tst = scaler.transform(test_crop_2)\n",
        "# np.isfinite(tst).all()\n",
        "# np.isfinite(X).all()\n",
        "X_test_sc = pd.DataFrame(scaler.transform(test_crop_2), columns=test_crop_2.columns)"
      ],
      "execution_count": 322,
      "outputs": []
    },
    {
      "cell_type": "code",
      "metadata": {
        "trusted": true,
        "id": "Z8-rMbbfACxl"
      },
      "source": [
        "# clf = SVC(gamma=\"auto\", random_state=42)\n",
        "\n",
        "# clf.fit(X_train_sc, y_train)\n",
        "\n",
        "# y_pred = clf.predict(X_valid_sc)\n",
        "# y_pred_train = clf.predict(X_train_sc)"
      ],
      "execution_count": 323,
      "outputs": []
    },
    {
      "cell_type": "code",
      "metadata": {
        "trusted": true,
        "id": "5ruyYuZ4ACxt"
      },
      "source": [
        "# score_t = roc_auc_score(y_train, y_pred_train)\n",
        "# print(f\"AUC on train = {score_t:.4f}\")\n",
        "# score_v = roc_auc_score(y_valid, y_pred)\n",
        "# print(f\"AUC on valid = {score_v:.4f}\")"
      ],
      "execution_count": 324,
      "outputs": []
    },
    {
      "cell_type": "markdown",
      "metadata": {
        "id": "m2oeAzj4ACxy"
      },
      "source": [
        "## KNN"
      ]
    },
    {
      "cell_type": "code",
      "metadata": {
        "trusted": true,
        "id": "2WwboQitACxz"
      },
      "source": [
        "scaler_mm = StandardScaler() # MinMaxScaler()  #RobustScaler()  \n",
        "\n",
        "scaler_mm.fit_transform(X)\n",
        "X_train_sc = pd.DataFrame(scaler_mm.transform(X_train), columns=X_train.columns)\n",
        "X_valid_sc = pd.DataFrame(scaler_mm.transform(X_valid), columns=X_valid.columns)"
      ],
      "execution_count": 325,
      "outputs": []
    },
    {
      "cell_type": "code",
      "metadata": {
        "trusted": true,
        "id": "8gJXGB9LACx2"
      },
      "source": [
        "k_values = np.arange(1, 5)\n",
        "\n",
        "auc_on_train = []\n",
        "auc_on_valid = []\n",
        "\n",
        "# for i, value in enumerate(k_values):\n",
        "#     clf = KNeighborsClassifier(n_neighbors=value)\n",
        "    \n",
        "#     clf.fit(X_train_sc, y_train)\n",
        "    \n",
        "#     y_pred = clf.predict(X_valid_sc)\n",
        "#     y_pred_train = clf.predict(X_train_sc)\n",
        "        \n",
        "#     auc_valid = roc_auc_score(y_valid, y_pred)\n",
        "#     auc_train = roc_auc_score(y_train, y_pred_train)\n",
        "    \n",
        "#     #if i% 2 == 0: \n",
        "#     print('K = {}'.format(value))\n",
        "#     print('\\tacc_train = {}'.format(auc_train))\n",
        "#     print('\\tacc_valid = {}\\n'.format(auc_valid))\n",
        "    \n",
        "#     auc_on_train.append(auc_train)\n",
        "#     auc_on_valid.append(auc_valid)"
      ],
      "execution_count": 326,
      "outputs": []
    },
    {
      "cell_type": "code",
      "metadata": {
        "trusted": true,
        "id": "aacOH0OvACx5"
      },
      "source": [
        "# plt.plot(k_values, auc_on_valid, label=\"valid\")\n",
        "# plt.plot(k_values, auc_on_train, label=\"train\")\n",
        "\n",
        "# plt.xlabel('K')\n",
        "# plt.ylabel('AUC')\n",
        "\n",
        "# plt.legend()\n",
        "# plt.grid()\n",
        "\n",
        "# plt.show()"
      ],
      "execution_count": 327,
      "outputs": []
    },
    {
      "cell_type": "code",
      "metadata": {
        "trusted": true,
        "id": "z0n-jt8wACyK"
      },
      "source": [
        "# clf = KNeighborsClassifier(n_neighbors=3)\n",
        "\n",
        "# clf.fit(X_train_sc, y_train)\n",
        "\n",
        "# y_pred = clf.predict(X_valid_sc)\n",
        "\n",
        "# score = roc_auc_score(y_valid, y_pred)\n",
        "# print(f\"Score = {score:.4f}\")"
      ],
      "execution_count": 328,
      "outputs": []
    },
    {
      "cell_type": "markdown",
      "metadata": {
        "id": "MMA4GOByACyM"
      },
      "source": [
        "## Random Forest"
      ]
    },
    {
      "cell_type": "code",
      "metadata": {
        "trusted": true,
        "id": "aP_eWqy_ACyM"
      },
      "source": [
        "# clf = RandomForestClassifier(max_depth=15, max_features=15, n_estimators=2000, random_state=42)\n",
        "\n",
        "# clf.fit(X_train, y_train)\n",
        "\n",
        "# y_pred = clf.predict(X_valid)\n",
        "\n",
        "# score = roc_auc_score(y_valid, y_pred)\n",
        "# print(f\"Score = {score:.4f}\")"
      ],
      "execution_count": 329,
      "outputs": []
    },
    {
      "cell_type": "markdown",
      "metadata": {
        "id": "VjXllc7ZACyO"
      },
      "source": [
        "## Полносвязная нейросеть"
      ]
    },
    {
      "cell_type": "code",
      "metadata": {
        "trusted": true,
        "id": "N139DzG1ACyO"
      },
      "source": [
        "import tensorflow as tf\n",
        "\n",
        "# !pip install -q tensorflow-hub\n",
        "# !pip install -q tensorflow-datasets\n",
        "import tensorflow_hub as hub\n",
        "import tensorflow_datasets as tfds\n",
        "\n",
        "import keras\n",
        "\n",
        "from keras.models import Sequential\n",
        "from keras.layers import Dense, Conv1D, MaxPooling1D, Dropout, Flatten\n",
        "from keras.utils import to_categorical"
      ],
      "execution_count": 330,
      "outputs": []
    },
    {
      "cell_type": "code",
      "metadata": {
        "trusted": true,
        "id": "dup0WcRxACyS"
      },
      "source": [
        "def calculate_confidence_interval(scores: list, conf_interval: float = 0.95) -> Tuple[float]:\n",
        "    \"\"\"\n",
        "    Вычисление доверительного интервала.\n",
        "\n",
        "    Parameters\n",
        "    ----------\n",
        "    scores: List[float / int]\n",
        "        Список с оценками изучаемой величины.\n",
        "\n",
        "    conf_interval: float, optional, default = 0.95\n",
        "        Уровень доверия для построения интервала.\n",
        "        Опциональный параметр, по умолчанию, равен 0.95.\n",
        "\n",
        "    Returns\n",
        "    -------\n",
        "    conf_interval: Tuple[float]\n",
        "        Кортеж с границами доверительного интервала.\n",
        "\n",
        "    \"\"\"\n",
        "    left_bound = np.percentile(\n",
        "        scores, ((1 - conf_interval) / 2) * 100\n",
        "    )\n",
        "    right_bound = np.percentile(\n",
        "        scores, (conf_interval + ((1 - conf_interval) / 2)) * 100\n",
        "    )\n",
        "\n",
        "    return left_bound, right_bound"
      ],
      "execution_count": 331,
      "outputs": []
    },
    {
      "cell_type": "code",
      "metadata": {
        "trusted": true,
        "id": "vbzm5UNJACyX",
        "outputId": "bd2b6c2f-303f-423a-9082-d2c8301d0307",
        "colab": {
          "base_uri": "https://localhost:8080/",
          "height": 34
        }
      },
      "source": [
        "train_data = X_train_sc.values\n",
        "validation_data = X_valid_sc.values\n",
        "train_data.shape"
      ],
      "execution_count": 332,
      "outputs": [
        {
          "output_type": "execute_result",
          "data": {
            "text/plain": [
              "(88074, 33)"
            ]
          },
          "metadata": {
            "tags": []
          },
          "execution_count": 332
        }
      ]
    },
    {
      "cell_type": "code",
      "metadata": {
        "trusted": true,
        "id": "qhJZByqLACyZ",
        "outputId": "d62a2e1c-c136-45a2-ab47-636ecedbee9e",
        "colab": {
          "base_uri": "https://localhost:8080/",
          "height": 34
        }
      },
      "source": [
        "y_train"
      ],
      "execution_count": 333,
      "outputs": [
        {
          "output_type": "execute_result",
          "data": {
            "text/plain": [
              "array([0, 0, 0, ..., 0, 0, 0])"
            ]
          },
          "metadata": {
            "tags": []
          },
          "execution_count": 333
        }
      ]
    },
    {
      "cell_type": "code",
      "metadata": {
        "trusted": true,
        "id": "7W39jmoIACyb"
      },
      "source": [
        "def net_gen(func='relu', lay_cnt=1, neurons=16):\n",
        "    model = tf.keras.Sequential()\n",
        "    model.add(tf.keras.layers.Dense(neurons, activation=func, input_shape=(train_data.shape[1], )))\n",
        "    if not lay_cnt==1:\n",
        "        model.add(tf.keras.layers.Dense(neurons, activation=func))\n",
        "    model.add(tf.keras.layers.Dense(1, activation='sigmoid'))\n",
        "    \n",
        "    model.compile( #optimizer='sgd', loss='mse', metrics=[tf.keras.metrics.AUC()])\n",
        "                    optimizer=tf.keras.optimizers.Adam(1e-3),\n",
        "                    loss=tf.keras.losses.BinaryCrossentropy(),\n",
        "                    metrics=[tf.keras.metrics.AUC()])\n",
        "        \n",
        "#                 optimizer=tf.keras.optimizers.Adam(1e-3),\n",
        "#                 loss=tf.keras.losses.BinaryCrossentropy(),\n",
        "#                 metrics=['accuracy'])\n",
        "\n",
        "    return model"
      ],
      "execution_count": 334,
      "outputs": []
    },
    {
      "cell_type": "code",
      "metadata": {
        "trusted": true,
        "id": "YHiGKXDgACyd"
      },
      "source": [
        "def net_iter(model, ep=10, batch_size=512):\n",
        "    history = model.fit(train_data,\n",
        "                        y_train,\n",
        "                        epochs=ep,\n",
        "                        validation_data=(validation_data, y_valid),\n",
        "                        batch_size=batch_size,\n",
        "                        verbose=0)\n",
        "    return history.history"
      ],
      "execution_count": 335,
      "outputs": []
    },
    {
      "cell_type": "code",
      "metadata": {
        "trusted": true,
        "id": "mC8YPWPFACyf"
      },
      "source": [
        "# model = net_gen(func='relu', lay_cnt=2, neurons=64)\n",
        "# model.summary()"
      ],
      "execution_count": 336,
      "outputs": []
    },
    {
      "cell_type": "code",
      "metadata": {
        "trusted": true,
        "id": "dwCWV91cACyg"
      },
      "source": [
        "# model = tf.keras.Sequential()\n",
        "# model.add(tf.keras.layers.Dense(128, activation='relu', input_shape=(train_data.shape[1],)))\n",
        "# model.add(tf.keras.layers.Dense(128, activation='relu'))\n",
        "# model.add(tf.keras.layers.Dense(128, activation='relu'))\n",
        "# model.add(tf.keras.layers.Dense(1, activation='sigmoid'))\n",
        "\n",
        "# model.compile( #optimizer='sgd', loss='mse', metrics=[tf.keras.metrics.AUC()])\n",
        "#                 optimizer=tf.keras.optimizers.Adam(1e-3),\n",
        "#                 loss=tf.keras.losses.BinaryCrossentropy(),\n",
        "#                 metrics=[tf.keras.metrics.AUC()])\n",
        "# model.summary()"
      ],
      "execution_count": 337,
      "outputs": []
    },
    {
      "cell_type": "code",
      "metadata": {
        "trusted": true,
        "id": "eEPgkV_xACyo"
      },
      "source": [
        "# history = model.fit(train_data,\n",
        "#                     y_train,\n",
        "#                     epochs=15,\n",
        "#                     validation_data=(validation_data, y_valid),\n",
        "#                     batch_size=512,\n",
        "#                     verbose=1)"
      ],
      "execution_count": 338,
      "outputs": []
    },
    {
      "cell_type": "code",
      "metadata": {
        "trusted": true,
        "id": "_58qFwzaACyq"
      },
      "source": [
        "summary_data = pd.DataFrame(data=[[0, 0, 0, 0, 0, 0, 0, 0, 0]], \n",
        "                            columns=['func', 'batch', 'layers', 'neurons', 'mean_train_score', 'mean_val_score', 'variance', 'l_b', 'r_b'])\n",
        "cnt = 0\n",
        "fc = ['relu', 'sigmoid']\n",
        "b_s = [256, 512]\n",
        "l_c = [1, 2]\n",
        "nr = [16, 32]\n",
        "epochs = 10\n",
        "\n",
        "# net_res = []\n",
        "\n",
        "# for fc_i in fc:\n",
        "#     for b_s_i in b_s:\n",
        "#         for l_c_i in l_c:\n",
        "#             for nr_i in nr:\n",
        "#                 err_score = []\n",
        "#                 err_val_score = []\n",
        "#                 print(f\"Модель: функция {fc_i}, батч {b_s_i}, слоёв {l_c_i}, нейронов {nr_i}, эпох {epochs}\\n\")\n",
        "#                 model = net_gen(func=fc_i, lay_cnt=l_c_i, neurons=nr_i)\n",
        "#                 model.summary()\n",
        "#                 for i in range(6):\n",
        "#                     print(f\"\\tИтерация: {i+1}\")\n",
        "#                     hist = net_iter(model, batch_size=b_s_i, ep=epochs)\n",
        "#                     # net_res.append(hist)\n",
        "#                     err_score.append(hist[list(hist.keys())[1]][-1])\n",
        "#                     err_val_score.append(hist[list(hist.keys())[3]][-1])\n",
        "\n",
        "#                 vr = np.var(err_val_score)\n",
        "#                 l_b, r_b = calculate_confidence_interval(err_val_score)\n",
        "#                 mean_err_score, mean_err_val_score = np.mean(err_score), np.mean(err_val_score)\n",
        "#                 print(f\"Ошибки на train. Средняя: {mean_err_score} список: {err_score}\")\n",
        "#                 print(f\"Ошибки на valid. Средняя: {mean_err_val_score} список: {err_val_score}\")\n",
        "#                 print(f\"Дисперсия ошибки на valid: {vr}\")\n",
        "#                 print(f\"Доверительный интервал: {l_b} - {r_b}\\n\\n\")\n",
        "#                 summary_data.loc[cnt, ['func', 'batch', 'layers', 'neurons', 'mean_train_score', \n",
        "#                                        'mean_val_score', 'variance', 'l_b', 'r_b']] = [fc_i, \n",
        "#                                         b_s_i, l_c_i, nr_i, np.mean(err_score), \n",
        "#                                         np.mean(err_val_score), vr, l_b, r_b]\n",
        "#                 cnt += 1"
      ],
      "execution_count": 339,
      "outputs": []
    },
    {
      "cell_type": "code",
      "metadata": {
        "trusted": true,
        "id": "1Zsf4JDRACys"
      },
      "source": [
        "# summary_data"
      ],
      "execution_count": 340,
      "outputs": []
    },
    {
      "cell_type": "code",
      "metadata": {
        "trusted": true,
        "id": "t6eF1_z-ACyv"
      },
      "source": [
        "# summary_data.sort_values('mean_val_score', ascending=False)"
      ],
      "execution_count": 341,
      "outputs": []
    },
    {
      "cell_type": "markdown",
      "metadata": {
        "id": "2c2EZdDUACyx"
      },
      "source": [
        "### Данные для загрузки"
      ]
    },
    {
      "cell_type": "code",
      "metadata": {
        "trusted": true,
        "id": "Y2rPzYCxACyx",
        "outputId": "28c9dc57-ddbf-41ae-9d85-b7e1a78e0f98",
        "colab": {
          "base_uri": "https://localhost:8080/",
          "height": 221
        }
      },
      "source": [
        "model = net_gen(func='relu', lay_cnt=1, neurons=32)\n",
        "model.summary()"
      ],
      "execution_count": 342,
      "outputs": [
        {
          "output_type": "stream",
          "text": [
            "Model: \"sequential\"\n",
            "_________________________________________________________________\n",
            "Layer (type)                 Output Shape              Param #   \n",
            "=================================================================\n",
            "dense (Dense)                (None, 32)                1088      \n",
            "_________________________________________________________________\n",
            "dense_1 (Dense)              (None, 1)                 33        \n",
            "=================================================================\n",
            "Total params: 1,121\n",
            "Trainable params: 1,121\n",
            "Non-trainable params: 0\n",
            "_________________________________________________________________\n"
          ],
          "name": "stdout"
        }
      ]
    },
    {
      "cell_type": "code",
      "metadata": {
        "trusted": true,
        "id": "_JdBRBHAACy1"
      },
      "source": [
        "callback = tf.keras.callbacks.EarlyStopping(monitor='loss', patience=4)"
      ],
      "execution_count": 343,
      "outputs": []
    },
    {
      "cell_type": "code",
      "metadata": {
        "trusted": true,
        "id": "D2ELqG2JACy3",
        "outputId": "864673bc-3fef-4d7b-b978-375e15a7c345",
        "colab": {
          "base_uri": "https://localhost:8080/",
          "height": 1000
        }
      },
      "source": [
        "history = model.fit(train_data,\n",
        "                    y_train,\n",
        "                    epochs=150,\n",
        "                    validation_data=(validation_data, y_valid),\n",
        "                    batch_size=256,\n",
        "                    callbacks=[callback],\n",
        "                    verbose=1)"
      ],
      "execution_count": 344,
      "outputs": [
        {
          "output_type": "stream",
          "text": [
            "Epoch 1/150\n",
            "345/345 [==============================] - 1s 3ms/step - loss: 0.3063 - auc: 0.6083 - val_loss: 0.2548 - val_auc: 0.6981\n",
            "Epoch 2/150\n",
            "345/345 [==============================] - 1s 2ms/step - loss: 0.2633 - auc: 0.6934 - val_loss: 0.2511 - val_auc: 0.7135\n",
            "Epoch 3/150\n",
            "345/345 [==============================] - 1s 2ms/step - loss: 0.2613 - auc: 0.7015 - val_loss: 0.2505 - val_auc: 0.7178\n",
            "Epoch 4/150\n",
            "345/345 [==============================] - 1s 2ms/step - loss: 0.2603 - auc: 0.7070 - val_loss: 0.2497 - val_auc: 0.7199\n",
            "Epoch 5/150\n",
            "345/345 [==============================] - 1s 2ms/step - loss: 0.2598 - auc: 0.7086 - val_loss: 0.2496 - val_auc: 0.7229\n",
            "Epoch 6/150\n",
            "345/345 [==============================] - 1s 2ms/step - loss: 0.2594 - auc: 0.7097 - val_loss: 0.2488 - val_auc: 0.7246\n",
            "Epoch 7/150\n",
            "345/345 [==============================] - 1s 2ms/step - loss: 0.2591 - auc: 0.7110 - val_loss: 0.2488 - val_auc: 0.7254\n",
            "Epoch 8/150\n",
            "345/345 [==============================] - 1s 2ms/step - loss: 0.2588 - auc: 0.7121 - val_loss: 0.2486 - val_auc: 0.7244\n",
            "Epoch 9/150\n",
            "345/345 [==============================] - 1s 2ms/step - loss: 0.2585 - auc: 0.7134 - val_loss: 0.2482 - val_auc: 0.7255\n",
            "Epoch 10/150\n",
            "345/345 [==============================] - 1s 2ms/step - loss: 0.2583 - auc: 0.7138 - val_loss: 0.2479 - val_auc: 0.7274\n",
            "Epoch 11/150\n",
            "345/345 [==============================] - 1s 2ms/step - loss: 0.2581 - auc: 0.7148 - val_loss: 0.2478 - val_auc: 0.7268\n",
            "Epoch 12/150\n",
            "345/345 [==============================] - 1s 2ms/step - loss: 0.2576 - auc: 0.7172 - val_loss: 0.2476 - val_auc: 0.7280\n",
            "Epoch 13/150\n",
            "345/345 [==============================] - 1s 2ms/step - loss: 0.2575 - auc: 0.7174 - val_loss: 0.2479 - val_auc: 0.7266\n",
            "Epoch 14/150\n",
            "345/345 [==============================] - 1s 2ms/step - loss: 0.2575 - auc: 0.7180 - val_loss: 0.2484 - val_auc: 0.7255\n",
            "Epoch 15/150\n",
            "345/345 [==============================] - 1s 2ms/step - loss: 0.2573 - auc: 0.7184 - val_loss: 0.2477 - val_auc: 0.7288\n",
            "Epoch 16/150\n",
            "345/345 [==============================] - 1s 2ms/step - loss: 0.2571 - auc: 0.7195 - val_loss: 0.2474 - val_auc: 0.7286\n",
            "Epoch 17/150\n",
            "345/345 [==============================] - 1s 2ms/step - loss: 0.2570 - auc: 0.7191 - val_loss: 0.2480 - val_auc: 0.7264\n",
            "Epoch 18/150\n",
            "345/345 [==============================] - 1s 2ms/step - loss: 0.2568 - auc: 0.7204 - val_loss: 0.2480 - val_auc: 0.7242\n",
            "Epoch 19/150\n",
            "345/345 [==============================] - 1s 2ms/step - loss: 0.2567 - auc: 0.7208 - val_loss: 0.2479 - val_auc: 0.7291\n",
            "Epoch 20/150\n",
            "345/345 [==============================] - 1s 2ms/step - loss: 0.2566 - auc: 0.7211 - val_loss: 0.2479 - val_auc: 0.7291\n",
            "Epoch 21/150\n",
            "345/345 [==============================] - 1s 2ms/step - loss: 0.2563 - auc: 0.7227 - val_loss: 0.2474 - val_auc: 0.7271\n",
            "Epoch 22/150\n",
            "345/345 [==============================] - 1s 2ms/step - loss: 0.2563 - auc: 0.7221 - val_loss: 0.2471 - val_auc: 0.7283\n",
            "Epoch 23/150\n",
            "345/345 [==============================] - 1s 2ms/step - loss: 0.2562 - auc: 0.7229 - val_loss: 0.2470 - val_auc: 0.7301\n",
            "Epoch 24/150\n",
            "345/345 [==============================] - 1s 2ms/step - loss: 0.2561 - auc: 0.7228 - val_loss: 0.2469 - val_auc: 0.7295\n",
            "Epoch 25/150\n",
            "345/345 [==============================] - 1s 2ms/step - loss: 0.2559 - auc: 0.7236 - val_loss: 0.2471 - val_auc: 0.7304\n",
            "Epoch 26/150\n",
            "345/345 [==============================] - 1s 2ms/step - loss: 0.2559 - auc: 0.7235 - val_loss: 0.2477 - val_auc: 0.7255\n",
            "Epoch 27/150\n",
            "345/345 [==============================] - 1s 2ms/step - loss: 0.2559 - auc: 0.7240 - val_loss: 0.2472 - val_auc: 0.7294\n",
            "Epoch 28/150\n",
            "345/345 [==============================] - 1s 2ms/step - loss: 0.2556 - auc: 0.7251 - val_loss: 0.2475 - val_auc: 0.7285\n",
            "Epoch 29/150\n",
            "345/345 [==============================] - 1s 2ms/step - loss: 0.2555 - auc: 0.7253 - val_loss: 0.2473 - val_auc: 0.7275\n",
            "Epoch 30/150\n",
            "345/345 [==============================] - 1s 2ms/step - loss: 0.2557 - auc: 0.7247 - val_loss: 0.2469 - val_auc: 0.7295\n",
            "Epoch 31/150\n",
            "345/345 [==============================] - 1s 2ms/step - loss: 0.2556 - auc: 0.7249 - val_loss: 0.2478 - val_auc: 0.7290\n",
            "Epoch 32/150\n",
            "345/345 [==============================] - 1s 2ms/step - loss: 0.2554 - auc: 0.7253 - val_loss: 0.2468 - val_auc: 0.7306\n",
            "Epoch 33/150\n",
            "345/345 [==============================] - 1s 2ms/step - loss: 0.2553 - auc: 0.7264 - val_loss: 0.2476 - val_auc: 0.7284\n",
            "Epoch 34/150\n",
            "345/345 [==============================] - 1s 2ms/step - loss: 0.2552 - auc: 0.7265 - val_loss: 0.2482 - val_auc: 0.7278\n",
            "Epoch 35/150\n",
            "345/345 [==============================] - 1s 2ms/step - loss: 0.2554 - auc: 0.7261 - val_loss: 0.2470 - val_auc: 0.7301\n",
            "Epoch 36/150\n",
            "345/345 [==============================] - 1s 2ms/step - loss: 0.2552 - auc: 0.7267 - val_loss: 0.2472 - val_auc: 0.7296\n",
            "Epoch 37/150\n",
            "345/345 [==============================] - 1s 2ms/step - loss: 0.2552 - auc: 0.7264 - val_loss: 0.2486 - val_auc: 0.7234\n",
            "Epoch 38/150\n",
            "345/345 [==============================] - 1s 2ms/step - loss: 0.2551 - auc: 0.7268 - val_loss: 0.2473 - val_auc: 0.7294\n",
            "Epoch 39/150\n",
            "345/345 [==============================] - 1s 2ms/step - loss: 0.2547 - auc: 0.7284 - val_loss: 0.2481 - val_auc: 0.7294\n",
            "Epoch 40/150\n",
            "345/345 [==============================] - 1s 2ms/step - loss: 0.2549 - auc: 0.7270 - val_loss: 0.2478 - val_auc: 0.7264\n",
            "Epoch 41/150\n",
            "345/345 [==============================] - 1s 2ms/step - loss: 0.2548 - auc: 0.7276 - val_loss: 0.2473 - val_auc: 0.7282\n",
            "Epoch 42/150\n",
            "345/345 [==============================] - 1s 2ms/step - loss: 0.2548 - auc: 0.7279 - val_loss: 0.2473 - val_auc: 0.7280\n",
            "Epoch 43/150\n",
            "345/345 [==============================] - 1s 2ms/step - loss: 0.2548 - auc: 0.7276 - val_loss: 0.2470 - val_auc: 0.7287\n"
          ],
          "name": "stdout"
        }
      ]
    },
    {
      "cell_type": "code",
      "metadata": {
        "trusted": true,
        "id": "nxawY7BcACy5"
      },
      "source": [
        "tr_prediction_nn = model.predict(X_sc)\n",
        "\n",
        "tr_prediction_nn = tr_prediction_nn.reshape(tr_prediction_nn.shape[0])\n",
        "\n",
        "tr_prediction_nn[tr_prediction_nn < 0] = 0\n",
        "tr_prediction_nn[tr_prediction_nn > 1] = 1"
      ],
      "execution_count": 345,
      "outputs": []
    },
    {
      "cell_type": "code",
      "metadata": {
        "trusted": true,
        "id": "LH8vbdf9ACy6",
        "outputId": "80983eb3-e6b0-4b3f-8e89-f1b714c47c52",
        "colab": {
          "base_uri": "https://localhost:8080/",
          "height": 204
        }
      },
      "source": [
        "test_prediction_nn = model.predict(X_test_sc)\n",
        "\n",
        "test_prediction_nn = test_prediction_nn.reshape(test_prediction_nn.shape[0])\n",
        "\n",
        "test_prediction_nn[test_prediction_nn < 0] = 0\n",
        "test_prediction_nn[test_prediction_nn > 1] = 1\n",
        "\n",
        "prediction_nn = test_prep[['APPLICATION_NUMBER']].copy()\n",
        "prediction_nn[\"TARGET\"] = test_prediction_nn\n",
        "prediction_nn.head()"
      ],
      "execution_count": 346,
      "outputs": [
        {
          "output_type": "execute_result",
          "data": {
            "text/html": [
              "<div>\n",
              "<style scoped>\n",
              "    .dataframe tbody tr th:only-of-type {\n",
              "        vertical-align: middle;\n",
              "    }\n",
              "\n",
              "    .dataframe tbody tr th {\n",
              "        vertical-align: top;\n",
              "    }\n",
              "\n",
              "    .dataframe thead th {\n",
              "        text-align: right;\n",
              "    }\n",
              "</style>\n",
              "<table border=\"1\" class=\"dataframe\">\n",
              "  <thead>\n",
              "    <tr style=\"text-align: right;\">\n",
              "      <th></th>\n",
              "      <th>APPLICATION_NUMBER</th>\n",
              "      <th>TARGET</th>\n",
              "    </tr>\n",
              "  </thead>\n",
              "  <tbody>\n",
              "    <tr>\n",
              "      <th>0</th>\n",
              "      <td>123724268</td>\n",
              "      <td>0.046148</td>\n",
              "    </tr>\n",
              "    <tr>\n",
              "      <th>1</th>\n",
              "      <td>123456549</td>\n",
              "      <td>0.228331</td>\n",
              "    </tr>\n",
              "    <tr>\n",
              "      <th>2</th>\n",
              "      <td>123428178</td>\n",
              "      <td>0.139169</td>\n",
              "    </tr>\n",
              "    <tr>\n",
              "      <th>3</th>\n",
              "      <td>123619984</td>\n",
              "      <td>0.077712</td>\n",
              "    </tr>\n",
              "    <tr>\n",
              "      <th>4</th>\n",
              "      <td>123671104</td>\n",
              "      <td>0.012887</td>\n",
              "    </tr>\n",
              "  </tbody>\n",
              "</table>\n",
              "</div>"
            ],
            "text/plain": [
              "   APPLICATION_NUMBER    TARGET\n",
              "0           123724268  0.046148\n",
              "1           123456549  0.228331\n",
              "2           123428178  0.139169\n",
              "3           123619984  0.077712\n",
              "4           123671104  0.012887"
            ]
          },
          "metadata": {
            "tags": []
          },
          "execution_count": 346
        }
      ]
    },
    {
      "cell_type": "code",
      "metadata": {
        "trusted": true,
        "id": "xNzeQ-EzACy9"
      },
      "source": [
        "prediction_nn.to_csv(data_dir + \"prediction_nn.csv\", sep=\",\", index=False)"
      ],
      "execution_count": 347,
      "outputs": []
    },
    {
      "cell_type": "markdown",
      "metadata": {
        "id": "7vo93FrFACy_"
      },
      "source": [
        "## Свёрточная нейронная сеть"
      ]
    },
    {
      "cell_type": "code",
      "metadata": {
        "trusted": true,
        "id": "PN5EEtiuACy_",
        "outputId": "0b658021-cfb3-4d69-e850-0e4e4f3be13d",
        "colab": {
          "base_uri": "https://localhost:8080/",
          "height": 34
        }
      },
      "source": [
        "tr_data = train_data.reshape(train_data.shape[0], train_data.shape[1], 1)\n",
        "vd_data = validation_data.reshape(validation_data.shape[0], validation_data.shape[1], 1)\n",
        "tr_data.shape"
      ],
      "execution_count": 348,
      "outputs": [
        {
          "output_type": "execute_result",
          "data": {
            "text/plain": [
              "(88074, 33, 1)"
            ]
          },
          "metadata": {
            "tags": []
          },
          "execution_count": 348
        }
      ]
    },
    {
      "cell_type": "code",
      "metadata": {
        "trusted": true,
        "id": "LGVhcAW2ACzB"
      },
      "source": [
        "def net_gen(lay_cnt=1, filters=32, neurons=32):\n",
        "    # конфигурирование слоев нейросети\n",
        "    model = Sequential()\n",
        "\n",
        "    # слои нейросети отвественные за свертку и max-pooling\n",
        "    model.add(Conv1D(64, 3, padding='same', activation='relu', input_shape=(tr_data.shape[1], 1)))\n",
        "    # model.add(Conv1D(64, 3, activation='relu'))\n",
        "    model.add(MaxPooling1D(pool_size=2))\n",
        "    model.add(Dropout(0.25))\n",
        "    if lay_cnt == 2:\n",
        "        model.add(Conv1D(64, 3, padding='same', activation='relu'))\n",
        "        model.add(MaxPooling1D(pool_size=2))\n",
        "        model.add(Dropout(0.25))\n",
        "\n",
        "    # полносвязные слои нейронной сети\n",
        "    model.add(Flatten())\n",
        "    model.add(Dense(64, activation='relu'))\n",
        "    # model.add(Dense(32, activation='relu'))))\n",
        "    model.add(Dropout(0.5))\n",
        "    model.add(Dense(1, activation='sigmoid')) # sigmoid'))\n",
        "\n",
        "    # компиляция модели\n",
        "    model.compile(optimizer=tf.keras.optimizers.Adam(1e-3),#\n",
        "                  loss=tf.keras.losses.BinaryCrossentropy(),\n",
        "                  metrics=[tf.keras.metrics.AUC()])\n",
        "    return model"
      ],
      "execution_count": 349,
      "outputs": []
    },
    {
      "cell_type": "code",
      "metadata": {
        "trusted": true,
        "id": "cQ6MZOrdACzD"
      },
      "source": [
        "def net_iter(model, ep=10, batch_size=32):\n",
        "    history = model.fit(tr_data,\n",
        "                        y_train,\n",
        "                        batch_size=batch_size,\n",
        "                        epochs=ep,\n",
        "                        validation_data=(vd_data, y_valid),\n",
        "                        shuffle=True,\n",
        "                        verbose=0)    \n",
        "    return history.history"
      ],
      "execution_count": 350,
      "outputs": []
    },
    {
      "cell_type": "code",
      "metadata": {
        "trusted": true,
        "id": "8-9Coix9ACzF"
      },
      "source": [
        "# summary_data = pd.DataFrame(data=[[0, 0, 0, 0, 0, 0, 0, 0]], \n",
        "#                             columns=['layers', 'filters', 'neurons', 'mean_train_score', 'mean_val_score', 'variance', 'l_b', 'r_b'])\n",
        "# cnt = 0\n",
        "# f_n = [32, 64]\n",
        "# l_c = [1, 2]\n",
        "# nr = [32, 64]\n",
        "# epochs = 15\n",
        "\n",
        "# # net_res = []\n",
        "\n",
        "# for l_c_i in l_c:\n",
        "#     for f_n_i in f_n:\n",
        "#         for nr_i in nr:\n",
        "#             err_score = []\n",
        "#             err_val_score = []\n",
        "#             print(f\"Модель: слоёв {l_c_i}, фильтров {f_n_i}, нейронов {nr_i}, эпох {epochs}\\n\")\n",
        "#             model = net_gen(filters=f_n_i, lay_cnt=l_c_i, neurons=nr_i)\n",
        "#             model.summary()\n",
        "#             for i in range(5):\n",
        "#                 print(f\"\\tИтерация: {i+1}\")\n",
        "#                 hist = net_iter(model, ep=epochs)\n",
        "#                 # net_res.append(hist)\n",
        "#                 err_score.append(hist[list(hist.keys())[1]][-1])\n",
        "#                 err_val_score.append(hist[list(hist.keys())[3]][-1])\n",
        "\n",
        "#             vr = np.var(err_val_score)\n",
        "#             l_b, r_b = calculate_confidence_interval(err_val_score)\n",
        "#             mean_err_score, mean_err_val_score = np.mean(err_score), np.mean(err_val_score)\n",
        "#             print(f\"Ошибки на train. Средняя: {mean_err_score} список: {err_score}\")\n",
        "#             print(f\"Ошибки на valid. Средняя: {mean_err_val_score} список: {err_val_score}\")\n",
        "#             print(f\"Дисперсия ошибки на valid: {vr}\")\n",
        "#             print(f\"Доверительный интервал: {l_b} - {r_b}\\n\\n\")\n",
        "#             summary_data.loc[cnt, ['layers', 'filters', 'neurons', 'mean_train_score', \n",
        "#                                     'mean_val_score', 'variance', 'l_b', 'r_b']] = [l_c_i, f_n_i, \n",
        "#                                     nr_i, np.mean(err_score), np.mean(err_val_score), vr, l_b, r_b]\n",
        "#             cnt += 1"
      ],
      "execution_count": 351,
      "outputs": []
    },
    {
      "cell_type": "code",
      "metadata": {
        "trusted": true,
        "id": "pbrAto6fACzH"
      },
      "source": [
        "# summary_data"
      ],
      "execution_count": 352,
      "outputs": []
    },
    {
      "cell_type": "code",
      "metadata": {
        "trusted": true,
        "id": "M0ZfmL-WACzJ"
      },
      "source": [
        "# summary_data.sort_values('mean_val_score', ascending=False)"
      ],
      "execution_count": 353,
      "outputs": []
    },
    {
      "cell_type": "code",
      "metadata": {
        "trusted": true,
        "id": "q_A6LloNACzL"
      },
      "source": [
        "# конфигурирование слоев нейросети\n",
        "model = Sequential()\n",
        "\n",
        "# слои нейросети отвественные за свертку и max-pooling\n",
        "model.add(Conv1D(64, 3, padding='same', activation='relu', input_shape=(tr_data.shape[1], 1)))\n",
        "model.add(MaxPooling1D(pool_size=2))\n",
        "model.add(Dropout(0.25))\n",
        "model.add(Conv1D(64, 3, padding='same', activation='relu'))\n",
        "model.add(MaxPooling1D(pool_size=2))\n",
        "model.add(Dropout(0.25))\n",
        "\n",
        "# полносвязные слои нейронной сети\n",
        "model.add(Flatten())\n",
        "model.add(Dense(64, activation='relu'))\n",
        "# model.add(Dense(32, activation='relu'))))\n",
        "model.add(Dropout(0.5))\n",
        "model.add(Dense(1, activation='sigmoid')) # sigmoid'))\n",
        "\n",
        "# компиляция модели\n",
        "model.compile(optimizer=tf.keras.optimizers.Adam(1e-3),#\n",
        "              loss=tf.keras.losses.BinaryCrossentropy(),\n",
        "              metrics=[tf.keras.metrics.AUC()])"
      ],
      "execution_count": 354,
      "outputs": []
    },
    {
      "cell_type": "code",
      "metadata": {
        "trusted": true,
        "id": "KmJrZxOOACzO",
        "outputId": "b2c0065b-d9a3-44b1-e474-173b8b127a00",
        "colab": {
          "base_uri": "https://localhost:8080/",
          "height": 493
        }
      },
      "source": [
        "model.summary()"
      ],
      "execution_count": 355,
      "outputs": [
        {
          "output_type": "stream",
          "text": [
            "Model: \"sequential_1\"\n",
            "_________________________________________________________________\n",
            "Layer (type)                 Output Shape              Param #   \n",
            "=================================================================\n",
            "conv1d (Conv1D)              (None, 33, 64)            256       \n",
            "_________________________________________________________________\n",
            "max_pooling1d (MaxPooling1D) (None, 16, 64)            0         \n",
            "_________________________________________________________________\n",
            "dropout (Dropout)            (None, 16, 64)            0         \n",
            "_________________________________________________________________\n",
            "conv1d_1 (Conv1D)            (None, 16, 64)            12352     \n",
            "_________________________________________________________________\n",
            "max_pooling1d_1 (MaxPooling1 (None, 8, 64)             0         \n",
            "_________________________________________________________________\n",
            "dropout_1 (Dropout)          (None, 8, 64)             0         \n",
            "_________________________________________________________________\n",
            "flatten (Flatten)            (None, 512)               0         \n",
            "_________________________________________________________________\n",
            "dense_2 (Dense)              (None, 64)                32832     \n",
            "_________________________________________________________________\n",
            "dropout_2 (Dropout)          (None, 64)                0         \n",
            "_________________________________________________________________\n",
            "dense_3 (Dense)              (None, 1)                 65        \n",
            "=================================================================\n",
            "Total params: 45,505\n",
            "Trainable params: 45,505\n",
            "Non-trainable params: 0\n",
            "_________________________________________________________________\n"
          ],
          "name": "stdout"
        }
      ]
    },
    {
      "cell_type": "code",
      "metadata": {
        "trusted": true,
        "id": "9rarNi5_ACzQ"
      },
      "source": [
        "callback = tf.keras.callbacks.EarlyStopping(monitor='loss', patience=3)"
      ],
      "execution_count": 356,
      "outputs": []
    },
    {
      "cell_type": "code",
      "metadata": {
        "trusted": true,
        "id": "WFhDc9lDACzT",
        "outputId": "51d25011-e19d-4a73-c827-af327810aa49",
        "colab": {
          "base_uri": "https://localhost:8080/",
          "height": 969
        }
      },
      "source": [
        "hist = model.fit(tr_data,\n",
        "                 y_train,\n",
        "                 batch_size=64,\n",
        "                 epochs=100,\n",
        "                 validation_data=(vd_data, y_valid),\n",
        "                 callbacks=[callback], \n",
        "                 shuffle=True,\n",
        "                 verbose=1)"
      ],
      "execution_count": 357,
      "outputs": [
        {
          "output_type": "stream",
          "text": [
            "Epoch 1/100\n",
            "1377/1377 [==============================] - 18s 13ms/step - loss: 0.2789 - auc_1: 0.6355 - val_loss: 0.2596 - val_auc_1: 0.7134\n",
            "Epoch 2/100\n",
            "1377/1377 [==============================] - 19s 13ms/step - loss: 0.2719 - auc_1: 0.6640 - val_loss: 0.2504 - val_auc_1: 0.7165\n",
            "Epoch 3/100\n",
            "1377/1377 [==============================] - 18s 13ms/step - loss: 0.2688 - auc_1: 0.6751 - val_loss: 0.2537 - val_auc_1: 0.7201\n",
            "Epoch 4/100\n",
            "1377/1377 [==============================] - 18s 13ms/step - loss: 0.2678 - auc_1: 0.6787 - val_loss: 0.2538 - val_auc_1: 0.7186\n",
            "Epoch 5/100\n",
            "1377/1377 [==============================] - 20s 14ms/step - loss: 0.2663 - auc_1: 0.6833 - val_loss: 0.2498 - val_auc_1: 0.7227\n",
            "Epoch 6/100\n",
            "1377/1377 [==============================] - 19s 13ms/step - loss: 0.2653 - auc_1: 0.6874 - val_loss: 0.2533 - val_auc_1: 0.7273\n",
            "Epoch 7/100\n",
            "1377/1377 [==============================] - 19s 14ms/step - loss: 0.2649 - auc_1: 0.6877 - val_loss: 0.2508 - val_auc_1: 0.7234\n",
            "Epoch 8/100\n",
            "1377/1377 [==============================] - 20s 14ms/step - loss: 0.2643 - auc_1: 0.6924 - val_loss: 0.2492 - val_auc_1: 0.7215\n",
            "Epoch 9/100\n",
            "1377/1377 [==============================] - 20s 15ms/step - loss: 0.2636 - auc_1: 0.6944 - val_loss: 0.2485 - val_auc_1: 0.7254\n",
            "Epoch 10/100\n",
            "1377/1377 [==============================] - 19s 14ms/step - loss: 0.2633 - auc_1: 0.6950 - val_loss: 0.2493 - val_auc_1: 0.7255\n",
            "Epoch 11/100\n",
            "1377/1377 [==============================] - 20s 15ms/step - loss: 0.2629 - auc_1: 0.6979 - val_loss: 0.2501 - val_auc_1: 0.7278\n",
            "Epoch 12/100\n",
            "1377/1377 [==============================] - 21s 15ms/step - loss: 0.2626 - auc_1: 0.6997 - val_loss: 0.2493 - val_auc_1: 0.7262\n",
            "Epoch 13/100\n",
            "1377/1377 [==============================] - 22s 16ms/step - loss: 0.2626 - auc_1: 0.6997 - val_loss: 0.2498 - val_auc_1: 0.7269\n",
            "Epoch 14/100\n",
            "1377/1377 [==============================] - 21s 15ms/step - loss: 0.2618 - auc_1: 0.7026 - val_loss: 0.2484 - val_auc_1: 0.7273\n",
            "Epoch 15/100\n",
            "1377/1377 [==============================] - 19s 14ms/step - loss: 0.2622 - auc_1: 0.7020 - val_loss: 0.2481 - val_auc_1: 0.7282\n",
            "Epoch 16/100\n",
            "1377/1377 [==============================] - 19s 14ms/step - loss: 0.2616 - auc_1: 0.7038 - val_loss: 0.2498 - val_auc_1: 0.7272\n",
            "Epoch 17/100\n",
            "1377/1377 [==============================] - 20s 15ms/step - loss: 0.2619 - auc_1: 0.7018 - val_loss: 0.2488 - val_auc_1: 0.7276\n",
            "Epoch 18/100\n",
            "1377/1377 [==============================] - 19s 14ms/step - loss: 0.2610 - auc_1: 0.7057 - val_loss: 0.2501 - val_auc_1: 0.7224\n",
            "Epoch 19/100\n",
            "1377/1377 [==============================] - 20s 14ms/step - loss: 0.2614 - auc_1: 0.7041 - val_loss: 0.2500 - val_auc_1: 0.7281\n",
            "Epoch 20/100\n",
            "1377/1377 [==============================] - 19s 14ms/step - loss: 0.2614 - auc_1: 0.7066 - val_loss: 0.2492 - val_auc_1: 0.7305\n",
            "Epoch 21/100\n",
            "1377/1377 [==============================] - 20s 14ms/step - loss: 0.2608 - auc_1: 0.7099 - val_loss: 0.2485 - val_auc_1: 0.7309\n",
            "Epoch 22/100\n",
            "1377/1377 [==============================] - 20s 15ms/step - loss: 0.2610 - auc_1: 0.7071 - val_loss: 0.2484 - val_auc_1: 0.7277\n",
            "Epoch 23/100\n",
            "1377/1377 [==============================] - 22s 16ms/step - loss: 0.2612 - auc_1: 0.7067 - val_loss: 0.2486 - val_auc_1: 0.7272\n",
            "Epoch 24/100\n",
            "1377/1377 [==============================] - 21s 15ms/step - loss: 0.2607 - auc_1: 0.7083 - val_loss: 0.2482 - val_auc_1: 0.7284\n",
            "Epoch 25/100\n",
            "1377/1377 [==============================] - 20s 14ms/step - loss: 0.2605 - auc_1: 0.7090 - val_loss: 0.2478 - val_auc_1: 0.7272\n",
            "Epoch 26/100\n",
            "1377/1377 [==============================] - 19s 14ms/step - loss: 0.2609 - auc_1: 0.7074 - val_loss: 0.2484 - val_auc_1: 0.7263\n",
            "Epoch 27/100\n",
            "1377/1377 [==============================] - 20s 14ms/step - loss: 0.2608 - auc_1: 0.7081 - val_loss: 0.2486 - val_auc_1: 0.7276\n",
            "Epoch 28/100\n",
            "1377/1377 [==============================] - 20s 15ms/step - loss: 0.2607 - auc_1: 0.7074 - val_loss: 0.2481 - val_auc_1: 0.7303\n"
          ],
          "name": "stdout"
        }
      ]
    },
    {
      "cell_type": "markdown",
      "metadata": {
        "id": "1-PKV8Q0ACzW"
      },
      "source": [
        "### Данные для загрузки"
      ]
    },
    {
      "cell_type": "code",
      "metadata": {
        "trusted": true,
        "id": "1b6rpU3cACzW"
      },
      "source": [
        "f_data = X_sc.values\n",
        "f_data = f_data.reshape(f_data.shape[0], f_data.shape[1], 1)\n",
        "\n",
        "tr_prediction_cnn = model.predict(f_data)\n",
        "\n",
        "tr_prediction_cnn = tr_prediction_cnn.reshape(tr_prediction_cnn.shape[0])\n",
        "\n",
        "tr_prediction_cnn[tr_prediction_cnn < 0] = 0\n",
        "tr_prediction_cnn[tr_prediction_cnn > 1] = 1"
      ],
      "execution_count": 358,
      "outputs": []
    },
    {
      "cell_type": "code",
      "metadata": {
        "trusted": true,
        "id": "MmiujF6HACzY",
        "outputId": "d4f78860-85d6-4470-9156-f99a2ffdbdda",
        "colab": {
          "base_uri": "https://localhost:8080/",
          "height": 204
        }
      },
      "source": [
        "test_data = X_test_sc.values\n",
        "test_data = test_data.reshape(test_data.shape[0], test_data.shape[1], 1)\n",
        "\n",
        "test_prediction_cnn = model.predict(test_data)\n",
        "\n",
        "test_prediction_cnn = test_prediction_cnn.reshape(test_prediction_cnn.shape[0])\n",
        "\n",
        "test_prediction_cnn[test_prediction_cnn < 0] = 0\n",
        "test_prediction_cnn[test_prediction_cnn > 1] = 1\n",
        "\n",
        "prediction_cnn = test_prep[['APPLICATION_NUMBER']].copy()\n",
        "prediction_cnn[\"TARGET\"] = test_prediction_cnn\n",
        "prediction_cnn.head()"
      ],
      "execution_count": 359,
      "outputs": [
        {
          "output_type": "execute_result",
          "data": {
            "text/html": [
              "<div>\n",
              "<style scoped>\n",
              "    .dataframe tbody tr th:only-of-type {\n",
              "        vertical-align: middle;\n",
              "    }\n",
              "\n",
              "    .dataframe tbody tr th {\n",
              "        vertical-align: top;\n",
              "    }\n",
              "\n",
              "    .dataframe thead th {\n",
              "        text-align: right;\n",
              "    }\n",
              "</style>\n",
              "<table border=\"1\" class=\"dataframe\">\n",
              "  <thead>\n",
              "    <tr style=\"text-align: right;\">\n",
              "      <th></th>\n",
              "      <th>APPLICATION_NUMBER</th>\n",
              "      <th>TARGET</th>\n",
              "    </tr>\n",
              "  </thead>\n",
              "  <tbody>\n",
              "    <tr>\n",
              "      <th>0</th>\n",
              "      <td>123724268</td>\n",
              "      <td>0.046736</td>\n",
              "    </tr>\n",
              "    <tr>\n",
              "      <th>1</th>\n",
              "      <td>123456549</td>\n",
              "      <td>0.202166</td>\n",
              "    </tr>\n",
              "    <tr>\n",
              "      <th>2</th>\n",
              "      <td>123428178</td>\n",
              "      <td>0.175666</td>\n",
              "    </tr>\n",
              "    <tr>\n",
              "      <th>3</th>\n",
              "      <td>123619984</td>\n",
              "      <td>0.089975</td>\n",
              "    </tr>\n",
              "    <tr>\n",
              "      <th>4</th>\n",
              "      <td>123671104</td>\n",
              "      <td>0.039855</td>\n",
              "    </tr>\n",
              "  </tbody>\n",
              "</table>\n",
              "</div>"
            ],
            "text/plain": [
              "   APPLICATION_NUMBER    TARGET\n",
              "0           123724268  0.046736\n",
              "1           123456549  0.202166\n",
              "2           123428178  0.175666\n",
              "3           123619984  0.089975\n",
              "4           123671104  0.039855"
            ]
          },
          "metadata": {
            "tags": []
          },
          "execution_count": 359
        }
      ]
    },
    {
      "cell_type": "code",
      "metadata": {
        "trusted": true,
        "id": "Syx-H_EDACza"
      },
      "source": [
        "prediction_cnn.to_csv(data_dir + \"prediction_cnn.csv\", sep=\",\", index=False)"
      ],
      "execution_count": 360,
      "outputs": []
    },
    {
      "cell_type": "markdown",
      "metadata": {
        "id": "nM7gFHyskSmN"
      },
      "source": [
        "## Ансамбли"
      ]
    },
    {
      "cell_type": "code",
      "metadata": {
        "id": "mAFmijoXnesM",
        "trusted": true,
        "outputId": "f16949bf-849f-4698-90e1-288a9041044a",
        "colab": {
          "base_uri": "https://localhost:8080/",
          "height": 102
        }
      },
      "source": [
        "np.corrcoef([oof_predictions_xgb2_c2, oof_predictions_lgbm_c2, oof_preds_catb_f, tr_prediction_nn, tr_prediction_cnn])"
      ],
      "execution_count": 513,
      "outputs": [
        {
          "output_type": "execute_result",
          "data": {
            "text/plain": [
              "array([[1.        , 0.95688868, 0.95379051, 0.89200187, 0.90053563],\n",
              "       [0.95688868, 1.        , 0.95154017, 0.88266484, 0.89385797],\n",
              "       [0.95379051, 0.95154017, 1.        , 0.92140077, 0.93086322],\n",
              "       [0.89200187, 0.88266484, 0.92140077, 1.        , 0.90702675],\n",
              "       [0.90053563, 0.89385797, 0.93086322, 0.90702675, 1.        ]])"
            ]
          },
          "metadata": {
            "tags": []
          },
          "execution_count": 513
        }
      ]
    },
    {
      "cell_type": "code",
      "metadata": {
        "id": "5bds_2KbuK0n",
        "trusted": true
      },
      "source": [
        "all_model_pred = pd.DataFrame({\n",
        "    \"xgb2_crop2\": oof_predictions_xgb2_c2,\n",
        "    \"xgb_crop2\": oof_predictions_xgb_c2,\n",
        "    \"lgbm_crop2\": oof_predictions_lgbm_c2,\n",
        "    \"catb_crop2\": oof_preds_catb_c2,\n",
        "    \"catb_full\": oof_preds_catb_f,\n",
        "    \"catb_crop1\": oof_preds_catb_c1,\n",
        "    \"lgbm_full\": oof_predictions_lgbm_f,\n",
        "    \"lgbm_crop1\": oof_predictions_lgbm_c1,\n",
        "    \"xgb_crop1\": oof_predictions_xgb_c1,\n",
        "    \"nn\": tr_prediction_nn,\n",
        "    \"cnn\": tr_prediction_cnn\n",
        "})"
      ],
      "execution_count": 514,
      "outputs": []
    },
    {
      "cell_type": "code",
      "metadata": {
        "id": "N1dpKPQTqr8r",
        "trusted": true,
        "outputId": "a3f3e257-e286-4152-e96b-4cc178b17f30",
        "colab": {
          "base_uri": "https://localhost:8080/",
          "height": 390
        }
      },
      "source": [
        "all_model_pred.corr()"
      ],
      "execution_count": 515,
      "outputs": [
        {
          "output_type": "execute_result",
          "data": {
            "text/html": [
              "<div>\n",
              "<style scoped>\n",
              "    .dataframe tbody tr th:only-of-type {\n",
              "        vertical-align: middle;\n",
              "    }\n",
              "\n",
              "    .dataframe tbody tr th {\n",
              "        vertical-align: top;\n",
              "    }\n",
              "\n",
              "    .dataframe thead th {\n",
              "        text-align: right;\n",
              "    }\n",
              "</style>\n",
              "<table border=\"1\" class=\"dataframe\">\n",
              "  <thead>\n",
              "    <tr style=\"text-align: right;\">\n",
              "      <th></th>\n",
              "      <th>xgb2_crop2</th>\n",
              "      <th>xgb_crop2</th>\n",
              "      <th>lgbm_crop2</th>\n",
              "      <th>catb_crop2</th>\n",
              "      <th>catb_full</th>\n",
              "      <th>catb_crop1</th>\n",
              "      <th>lgbm_full</th>\n",
              "      <th>lgbm_crop1</th>\n",
              "      <th>xgb_crop1</th>\n",
              "      <th>nn</th>\n",
              "      <th>cnn</th>\n",
              "    </tr>\n",
              "  </thead>\n",
              "  <tbody>\n",
              "    <tr>\n",
              "      <th>xgb2_crop2</th>\n",
              "      <td>1.000000</td>\n",
              "      <td>0.972951</td>\n",
              "      <td>0.956889</td>\n",
              "      <td>0.952384</td>\n",
              "      <td>0.953791</td>\n",
              "      <td>0.952525</td>\n",
              "      <td>0.949413</td>\n",
              "      <td>0.957978</td>\n",
              "      <td>0.971599</td>\n",
              "      <td>0.892002</td>\n",
              "      <td>0.900536</td>\n",
              "    </tr>\n",
              "    <tr>\n",
              "      <th>xgb_crop2</th>\n",
              "      <td>0.972951</td>\n",
              "      <td>1.000000</td>\n",
              "      <td>0.940400</td>\n",
              "      <td>0.939382</td>\n",
              "      <td>0.940633</td>\n",
              "      <td>0.939642</td>\n",
              "      <td>0.933896</td>\n",
              "      <td>0.942800</td>\n",
              "      <td>0.958945</td>\n",
              "      <td>0.878394</td>\n",
              "      <td>0.886859</td>\n",
              "    </tr>\n",
              "    <tr>\n",
              "      <th>lgbm_crop2</th>\n",
              "      <td>0.956889</td>\n",
              "      <td>0.940400</td>\n",
              "      <td>1.000000</td>\n",
              "      <td>0.951017</td>\n",
              "      <td>0.951540</td>\n",
              "      <td>0.951031</td>\n",
              "      <td>0.973758</td>\n",
              "      <td>0.985031</td>\n",
              "      <td>0.939900</td>\n",
              "      <td>0.882665</td>\n",
              "      <td>0.893858</td>\n",
              "    </tr>\n",
              "    <tr>\n",
              "      <th>catb_crop2</th>\n",
              "      <td>0.952384</td>\n",
              "      <td>0.939382</td>\n",
              "      <td>0.951017</td>\n",
              "      <td>1.000000</td>\n",
              "      <td>0.995840</td>\n",
              "      <td>0.997329</td>\n",
              "      <td>0.941100</td>\n",
              "      <td>0.957578</td>\n",
              "      <td>0.937902</td>\n",
              "      <td>0.919828</td>\n",
              "      <td>0.931117</td>\n",
              "    </tr>\n",
              "    <tr>\n",
              "      <th>catb_full</th>\n",
              "      <td>0.953791</td>\n",
              "      <td>0.940633</td>\n",
              "      <td>0.951540</td>\n",
              "      <td>0.995840</td>\n",
              "      <td>1.000000</td>\n",
              "      <td>0.997261</td>\n",
              "      <td>0.941805</td>\n",
              "      <td>0.957883</td>\n",
              "      <td>0.939306</td>\n",
              "      <td>0.921401</td>\n",
              "      <td>0.930863</td>\n",
              "    </tr>\n",
              "    <tr>\n",
              "      <th>catb_crop1</th>\n",
              "      <td>0.952525</td>\n",
              "      <td>0.939642</td>\n",
              "      <td>0.951031</td>\n",
              "      <td>0.997329</td>\n",
              "      <td>0.997261</td>\n",
              "      <td>1.000000</td>\n",
              "      <td>0.941132</td>\n",
              "      <td>0.957803</td>\n",
              "      <td>0.938338</td>\n",
              "      <td>0.920684</td>\n",
              "      <td>0.931477</td>\n",
              "    </tr>\n",
              "    <tr>\n",
              "      <th>lgbm_full</th>\n",
              "      <td>0.949413</td>\n",
              "      <td>0.933896</td>\n",
              "      <td>0.973758</td>\n",
              "      <td>0.941100</td>\n",
              "      <td>0.941805</td>\n",
              "      <td>0.941132</td>\n",
              "      <td>1.000000</td>\n",
              "      <td>0.975556</td>\n",
              "      <td>0.932587</td>\n",
              "      <td>0.873752</td>\n",
              "      <td>0.884670</td>\n",
              "    </tr>\n",
              "    <tr>\n",
              "      <th>lgbm_crop1</th>\n",
              "      <td>0.957978</td>\n",
              "      <td>0.942800</td>\n",
              "      <td>0.985031</td>\n",
              "      <td>0.957578</td>\n",
              "      <td>0.957883</td>\n",
              "      <td>0.957803</td>\n",
              "      <td>0.975556</td>\n",
              "      <td>1.000000</td>\n",
              "      <td>0.941591</td>\n",
              "      <td>0.887177</td>\n",
              "      <td>0.899135</td>\n",
              "    </tr>\n",
              "    <tr>\n",
              "      <th>xgb_crop1</th>\n",
              "      <td>0.971599</td>\n",
              "      <td>0.958945</td>\n",
              "      <td>0.939900</td>\n",
              "      <td>0.937902</td>\n",
              "      <td>0.939306</td>\n",
              "      <td>0.938338</td>\n",
              "      <td>0.932587</td>\n",
              "      <td>0.941591</td>\n",
              "      <td>1.000000</td>\n",
              "      <td>0.875577</td>\n",
              "      <td>0.885416</td>\n",
              "    </tr>\n",
              "    <tr>\n",
              "      <th>nn</th>\n",
              "      <td>0.892002</td>\n",
              "      <td>0.878394</td>\n",
              "      <td>0.882665</td>\n",
              "      <td>0.919828</td>\n",
              "      <td>0.921401</td>\n",
              "      <td>0.920684</td>\n",
              "      <td>0.873752</td>\n",
              "      <td>0.887177</td>\n",
              "      <td>0.875577</td>\n",
              "      <td>1.000000</td>\n",
              "      <td>0.907027</td>\n",
              "    </tr>\n",
              "    <tr>\n",
              "      <th>cnn</th>\n",
              "      <td>0.900536</td>\n",
              "      <td>0.886859</td>\n",
              "      <td>0.893858</td>\n",
              "      <td>0.931117</td>\n",
              "      <td>0.930863</td>\n",
              "      <td>0.931477</td>\n",
              "      <td>0.884670</td>\n",
              "      <td>0.899135</td>\n",
              "      <td>0.885416</td>\n",
              "      <td>0.907027</td>\n",
              "      <td>1.000000</td>\n",
              "    </tr>\n",
              "  </tbody>\n",
              "</table>\n",
              "</div>"
            ],
            "text/plain": [
              "            xgb2_crop2  xgb_crop2  lgbm_crop2  catb_crop2  catb_full  \\\n",
              "xgb2_crop2    1.000000   0.972951    0.956889    0.952384   0.953791   \n",
              "xgb_crop2     0.972951   1.000000    0.940400    0.939382   0.940633   \n",
              "lgbm_crop2    0.956889   0.940400    1.000000    0.951017   0.951540   \n",
              "catb_crop2    0.952384   0.939382    0.951017    1.000000   0.995840   \n",
              "catb_full     0.953791   0.940633    0.951540    0.995840   1.000000   \n",
              "catb_crop1    0.952525   0.939642    0.951031    0.997329   0.997261   \n",
              "lgbm_full     0.949413   0.933896    0.973758    0.941100   0.941805   \n",
              "lgbm_crop1    0.957978   0.942800    0.985031    0.957578   0.957883   \n",
              "xgb_crop1     0.971599   0.958945    0.939900    0.937902   0.939306   \n",
              "nn            0.892002   0.878394    0.882665    0.919828   0.921401   \n",
              "cnn           0.900536   0.886859    0.893858    0.931117   0.930863   \n",
              "\n",
              "            catb_crop1  lgbm_full  lgbm_crop1  xgb_crop1        nn       cnn  \n",
              "xgb2_crop2    0.952525   0.949413    0.957978   0.971599  0.892002  0.900536  \n",
              "xgb_crop2     0.939642   0.933896    0.942800   0.958945  0.878394  0.886859  \n",
              "lgbm_crop2    0.951031   0.973758    0.985031   0.939900  0.882665  0.893858  \n",
              "catb_crop2    0.997329   0.941100    0.957578   0.937902  0.919828  0.931117  \n",
              "catb_full     0.997261   0.941805    0.957883   0.939306  0.921401  0.930863  \n",
              "catb_crop1    1.000000   0.941132    0.957803   0.938338  0.920684  0.931477  \n",
              "lgbm_full     0.941132   1.000000    0.975556   0.932587  0.873752  0.884670  \n",
              "lgbm_crop1    0.957803   0.975556    1.000000   0.941591  0.887177  0.899135  \n",
              "xgb_crop1     0.938338   0.932587    0.941591   1.000000  0.875577  0.885416  \n",
              "nn            0.920684   0.873752    0.887177   0.875577  1.000000  0.907027  \n",
              "cnn           0.931477   0.884670    0.899135   0.885416  0.907027  1.000000  "
            ]
          },
          "metadata": {
            "tags": []
          },
          "execution_count": 515
        }
      ]
    },
    {
      "cell_type": "code",
      "metadata": {
        "id": "5IzRIyMoBu1H",
        "trusted": true,
        "outputId": "94a77111-814f-465e-b717-7575897f74c8",
        "colab": {
          "base_uri": "https://localhost:8080/",
          "height": 187
        }
      },
      "source": [
        "for name in all_model_pred.columns[1:]:\n",
        "    mean_01 = (all_model_pred[all_model_pred.columns[0]] + all_model_pred[name]) / 2\n",
        "    geom_01 = abs(all_model_pred[all_model_pred.columns[0]] * all_model_pred[name]) ** 0.5\n",
        "    score_m = roc_auc_score(train_prep[\"TARGET\"].values, mean_01)\n",
        "    score_g = roc_auc_score(train_prep[\"TARGET\"].values, geom_01)\n",
        "    print(f\"{all_model_pred.columns[0]} & {name} mean {score_m:.4f} geom {score_g:.4f}\")"
      ],
      "execution_count": 516,
      "outputs": [
        {
          "output_type": "stream",
          "text": [
            "xgb2_crop2 & xgb_crop2 mean 0.7262 geom 0.7263\n",
            "xgb2_crop2 & lgbm_crop2 mean 0.7281 geom 0.7280\n",
            "xgb2_crop2 & catb_crop2 mean 0.7277 geom 0.7276\n",
            "xgb2_crop2 & catb_full mean 0.7276 geom 0.7275\n",
            "xgb2_crop2 & catb_crop1 mean 0.7274 geom 0.7272\n",
            "xgb2_crop2 & lgbm_full mean 0.7276 geom 0.7276\n",
            "xgb2_crop2 & lgbm_crop1 mean 0.7273 geom 0.7273\n",
            "xgb2_crop2 & xgb_crop1 mean 0.7259 geom 0.7259\n",
            "xgb2_crop2 & nn mean 0.7337 geom 0.7334\n",
            "xgb2_crop2 & cnn mean 0.7329 geom 0.7325\n"
          ],
          "name": "stdout"
        }
      ]
    },
    {
      "cell_type": "code",
      "metadata": {
        "id": "FKD648QYktNc",
        "trusted": true
      },
      "source": [
        "mean_predictions = all_model_pred.sum(axis=1)/len(all_model_pred.columns)\n",
        "# mean_predictions"
      ],
      "execution_count": 517,
      "outputs": []
    },
    {
      "cell_type": "code",
      "metadata": {
        "id": "Dl3Sif1CANP3",
        "trusted": true,
        "outputId": "82a938fc-9090-42f5-f02e-d74381b959fe",
        "colab": {
          "base_uri": "https://localhost:8080/",
          "height": 34
        }
      },
      "source": [
        "score = roc_auc_score(train_prep[\"TARGET\"].values, mean_predictions)\n",
        "print(f\"OOF-score = {score:.4f}\")"
      ],
      "execution_count": 518,
      "outputs": [
        {
          "output_type": "stream",
          "text": [
            "OOF-score = 0.7303\n"
          ],
          "name": "stdout"
        }
      ]
    },
    {
      "cell_type": "code",
      "metadata": {
        "id": "Shl0p6D9kspZ",
        "trusted": true
      },
      "source": [
        "geom_predictions = abs(all_model_pred.product(axis=1)) ** (1/len(all_model_pred.columns))\n",
        "# geom_predictions"
      ],
      "execution_count": 519,
      "outputs": []
    },
    {
      "cell_type": "code",
      "metadata": {
        "id": "KIJz6JJg_8GR",
        "trusted": true,
        "outputId": "50713f46-019b-4f3f-b232-24f0972acd9f",
        "colab": {
          "base_uri": "https://localhost:8080/",
          "height": 34
        }
      },
      "source": [
        "score = roc_auc_score(train_prep[\"TARGET\"].values, geom_predictions)\n",
        "print(f\"OOF-score = {score:.4f}\")"
      ],
      "execution_count": 520,
      "outputs": [
        {
          "output_type": "stream",
          "text": [
            "OOF-score = 0.7301\n"
          ],
          "name": "stdout"
        }
      ]
    },
    {
      "cell_type": "code",
      "metadata": {
        "id": "k7Yqg_-e-okd",
        "trusted": true,
        "outputId": "12397d87-7508-4978-9542-b16139382291",
        "colab": {
          "base_uri": "https://localhost:8080/",
          "height": 204
        }
      },
      "source": [
        "all_model_pred['mean'] = mean_predictions\n",
        "all_model_pred['geom'] = geom_predictions\n",
        "all_model_pred.head()"
      ],
      "execution_count": 521,
      "outputs": [
        {
          "output_type": "execute_result",
          "data": {
            "text/html": [
              "<div>\n",
              "<style scoped>\n",
              "    .dataframe tbody tr th:only-of-type {\n",
              "        vertical-align: middle;\n",
              "    }\n",
              "\n",
              "    .dataframe tbody tr th {\n",
              "        vertical-align: top;\n",
              "    }\n",
              "\n",
              "    .dataframe thead th {\n",
              "        text-align: right;\n",
              "    }\n",
              "</style>\n",
              "<table border=\"1\" class=\"dataframe\">\n",
              "  <thead>\n",
              "    <tr style=\"text-align: right;\">\n",
              "      <th></th>\n",
              "      <th>xgb2_crop2</th>\n",
              "      <th>xgb_crop2</th>\n",
              "      <th>lgbm_crop2</th>\n",
              "      <th>catb_crop2</th>\n",
              "      <th>catb_full</th>\n",
              "      <th>catb_crop1</th>\n",
              "      <th>lgbm_full</th>\n",
              "      <th>lgbm_crop1</th>\n",
              "      <th>xgb_crop1</th>\n",
              "      <th>nn</th>\n",
              "      <th>cnn</th>\n",
              "      <th>mean</th>\n",
              "      <th>geom</th>\n",
              "    </tr>\n",
              "  </thead>\n",
              "  <tbody>\n",
              "    <tr>\n",
              "      <th>0</th>\n",
              "      <td>0.012904</td>\n",
              "      <td>0.016545</td>\n",
              "      <td>0.023061</td>\n",
              "      <td>0.023155</td>\n",
              "      <td>0.020611</td>\n",
              "      <td>0.024461</td>\n",
              "      <td>0.021234</td>\n",
              "      <td>0.022418</td>\n",
              "      <td>0.015952</td>\n",
              "      <td>0.011049</td>\n",
              "      <td>0.034197</td>\n",
              "      <td>0.020508</td>\n",
              "      <td>0.019610</td>\n",
              "    </tr>\n",
              "    <tr>\n",
              "      <th>1</th>\n",
              "      <td>0.083420</td>\n",
              "      <td>0.082654</td>\n",
              "      <td>0.082421</td>\n",
              "      <td>0.085065</td>\n",
              "      <td>0.085034</td>\n",
              "      <td>0.084914</td>\n",
              "      <td>0.082264</td>\n",
              "      <td>0.082061</td>\n",
              "      <td>0.083136</td>\n",
              "      <td>0.077712</td>\n",
              "      <td>0.089975</td>\n",
              "      <td>0.083514</td>\n",
              "      <td>0.083467</td>\n",
              "    </tr>\n",
              "    <tr>\n",
              "      <th>2</th>\n",
              "      <td>0.047731</td>\n",
              "      <td>0.035727</td>\n",
              "      <td>0.050844</td>\n",
              "      <td>0.051269</td>\n",
              "      <td>0.047656</td>\n",
              "      <td>0.047709</td>\n",
              "      <td>0.046760</td>\n",
              "      <td>0.048478</td>\n",
              "      <td>0.033553</td>\n",
              "      <td>0.063621</td>\n",
              "      <td>0.060988</td>\n",
              "      <td>0.048576</td>\n",
              "      <td>0.047809</td>\n",
              "    </tr>\n",
              "    <tr>\n",
              "      <th>3</th>\n",
              "      <td>0.145827</td>\n",
              "      <td>0.137638</td>\n",
              "      <td>0.161864</td>\n",
              "      <td>0.241573</td>\n",
              "      <td>0.243118</td>\n",
              "      <td>0.236027</td>\n",
              "      <td>0.127639</td>\n",
              "      <td>0.152470</td>\n",
              "      <td>0.177084</td>\n",
              "      <td>0.324396</td>\n",
              "      <td>0.251222</td>\n",
              "      <td>0.199896</td>\n",
              "      <td>0.191427</td>\n",
              "    </tr>\n",
              "    <tr>\n",
              "      <th>4</th>\n",
              "      <td>0.083420</td>\n",
              "      <td>0.082654</td>\n",
              "      <td>0.082421</td>\n",
              "      <td>0.083449</td>\n",
              "      <td>0.083509</td>\n",
              "      <td>0.083486</td>\n",
              "      <td>0.082264</td>\n",
              "      <td>0.082061</td>\n",
              "      <td>0.083136</td>\n",
              "      <td>0.077712</td>\n",
              "      <td>0.089975</td>\n",
              "      <td>0.083099</td>\n",
              "      <td>0.083056</td>\n",
              "    </tr>\n",
              "  </tbody>\n",
              "</table>\n",
              "</div>"
            ],
            "text/plain": [
              "   xgb2_crop2  xgb_crop2  lgbm_crop2  catb_crop2  catb_full  catb_crop1  \\\n",
              "0    0.012904   0.016545    0.023061    0.023155   0.020611    0.024461   \n",
              "1    0.083420   0.082654    0.082421    0.085065   0.085034    0.084914   \n",
              "2    0.047731   0.035727    0.050844    0.051269   0.047656    0.047709   \n",
              "3    0.145827   0.137638    0.161864    0.241573   0.243118    0.236027   \n",
              "4    0.083420   0.082654    0.082421    0.083449   0.083509    0.083486   \n",
              "\n",
              "   lgbm_full  lgbm_crop1  xgb_crop1        nn       cnn      mean      geom  \n",
              "0   0.021234    0.022418   0.015952  0.011049  0.034197  0.020508  0.019610  \n",
              "1   0.082264    0.082061   0.083136  0.077712  0.089975  0.083514  0.083467  \n",
              "2   0.046760    0.048478   0.033553  0.063621  0.060988  0.048576  0.047809  \n",
              "3   0.127639    0.152470   0.177084  0.324396  0.251222  0.199896  0.191427  \n",
              "4   0.082264    0.082061   0.083136  0.077712  0.089975  0.083099  0.083056  "
            ]
          },
          "metadata": {
            "tags": []
          },
          "execution_count": 521
        }
      ]
    },
    {
      "cell_type": "code",
      "metadata": {
        "id": "yuqm33xc_ssw",
        "trusted": true,
        "outputId": "28522723-9637-47e3-96b7-b353d23f79ac",
        "colab": {
          "base_uri": "https://localhost:8080/",
          "height": 34
        }
      },
      "source": [
        "mean3 = (oof_predictions_xgb2_c2 + oof_predictions_lgbm_c2 + tr_prediction_cnn) / 3\n",
        "score = roc_auc_score(train_prep[\"TARGET\"].values, mean3)\n",
        "print(f\"OOF-score = {score:.4f}\")"
      ],
      "execution_count": 522,
      "outputs": [
        {
          "output_type": "stream",
          "text": [
            "OOF-score = 0.7320\n"
          ],
          "name": "stdout"
        }
      ]
    },
    {
      "cell_type": "code",
      "metadata": {
        "id": "8hWgig6GACnH",
        "trusted": true,
        "outputId": "81b40438-0b07-4c06-d08f-32f552eb5544",
        "colab": {
          "base_uri": "https://localhost:8080/",
          "height": 34
        }
      },
      "source": [
        "geom3 = abs(oof_predictions_xgb2_c2 + oof_predictions_lgbm_c2 + tr_prediction_cnn) ** (1/3)\n",
        "score = roc_auc_score(train_prep[\"TARGET\"].values, geom3)\n",
        "print(f\"OOF-score = {score:.4f}\")"
      ],
      "execution_count": 523,
      "outputs": [
        {
          "output_type": "stream",
          "text": [
            "OOF-score = 0.7320\n"
          ],
          "name": "stdout"
        }
      ]
    },
    {
      "cell_type": "code",
      "metadata": {
        "trusted": true,
        "id": "HtYfC3cLACz_",
        "outputId": "088867e2-5ffa-4b8d-8105-2b40650c6ada",
        "colab": {
          "base_uri": "https://localhost:8080/",
          "height": 34
        }
      },
      "source": [
        "mean3n = (oof_predictions_xgb2_c2 + tr_prediction_nn + tr_prediction_cnn) / 3\n",
        "score = roc_auc_score(train_prep[\"TARGET\"].values, mean3n)\n",
        "print(f\"OOF-score = {score:.4f}\")"
      ],
      "execution_count": 524,
      "outputs": [
        {
          "output_type": "stream",
          "text": [
            "OOF-score = 0.7351\n"
          ],
          "name": "stdout"
        }
      ]
    },
    {
      "cell_type": "code",
      "metadata": {
        "id": "bVak3IVciuSY",
        "outputId": "5e0e75d1-5ab6-4c93-c47d-7e1261f3ceed",
        "colab": {
          "base_uri": "https://localhost:8080/",
          "height": 34
        }
      },
      "source": [
        "mean2n = (oof_predictions_xgb2_c2 + tr_prediction_cnn) / 2\n",
        "score = roc_auc_score(train_prep[\"TARGET\"].values, mean3n)\n",
        "print(f\"OOF-score = {score:.4f}\")"
      ],
      "execution_count": 525,
      "outputs": [
        {
          "output_type": "stream",
          "text": [
            "OOF-score = 0.7351\n"
          ],
          "name": "stdout"
        }
      ]
    },
    {
      "cell_type": "code",
      "metadata": {
        "id": "1st9GkhUAaoH",
        "trusted": true,
        "outputId": "418350a1-1f39-481d-fa91-dea60a2ffa81",
        "colab": {
          "base_uri": "https://localhost:8080/",
          "height": 224
        }
      },
      "source": [
        "all_model_pred['mean3'] = mean3\n",
        "all_model_pred['geom3'] = geom3\n",
        "all_model_pred['mean3n'] = mean3n\n",
        "all_model_pred['mean2n'] = mean2n\n",
        "all_model_pred.head()"
      ],
      "execution_count": 526,
      "outputs": [
        {
          "output_type": "execute_result",
          "data": {
            "text/html": [
              "<div>\n",
              "<style scoped>\n",
              "    .dataframe tbody tr th:only-of-type {\n",
              "        vertical-align: middle;\n",
              "    }\n",
              "\n",
              "    .dataframe tbody tr th {\n",
              "        vertical-align: top;\n",
              "    }\n",
              "\n",
              "    .dataframe thead th {\n",
              "        text-align: right;\n",
              "    }\n",
              "</style>\n",
              "<table border=\"1\" class=\"dataframe\">\n",
              "  <thead>\n",
              "    <tr style=\"text-align: right;\">\n",
              "      <th></th>\n",
              "      <th>xgb2_crop2</th>\n",
              "      <th>xgb_crop2</th>\n",
              "      <th>lgbm_crop2</th>\n",
              "      <th>catb_crop2</th>\n",
              "      <th>catb_full</th>\n",
              "      <th>catb_crop1</th>\n",
              "      <th>lgbm_full</th>\n",
              "      <th>lgbm_crop1</th>\n",
              "      <th>xgb_crop1</th>\n",
              "      <th>nn</th>\n",
              "      <th>cnn</th>\n",
              "      <th>mean</th>\n",
              "      <th>geom</th>\n",
              "      <th>mean3</th>\n",
              "      <th>geom3</th>\n",
              "      <th>mean3n</th>\n",
              "      <th>mean2n</th>\n",
              "    </tr>\n",
              "  </thead>\n",
              "  <tbody>\n",
              "    <tr>\n",
              "      <th>0</th>\n",
              "      <td>0.012904</td>\n",
              "      <td>0.016545</td>\n",
              "      <td>0.023061</td>\n",
              "      <td>0.023155</td>\n",
              "      <td>0.020611</td>\n",
              "      <td>0.024461</td>\n",
              "      <td>0.021234</td>\n",
              "      <td>0.022418</td>\n",
              "      <td>0.015952</td>\n",
              "      <td>0.011049</td>\n",
              "      <td>0.034197</td>\n",
              "      <td>0.020508</td>\n",
              "      <td>0.019610</td>\n",
              "      <td>0.023387</td>\n",
              "      <td>0.412446</td>\n",
              "      <td>0.019383</td>\n",
              "      <td>0.023550</td>\n",
              "    </tr>\n",
              "    <tr>\n",
              "      <th>1</th>\n",
              "      <td>0.083420</td>\n",
              "      <td>0.082654</td>\n",
              "      <td>0.082421</td>\n",
              "      <td>0.085065</td>\n",
              "      <td>0.085034</td>\n",
              "      <td>0.084914</td>\n",
              "      <td>0.082264</td>\n",
              "      <td>0.082061</td>\n",
              "      <td>0.083136</td>\n",
              "      <td>0.077712</td>\n",
              "      <td>0.089975</td>\n",
              "      <td>0.083514</td>\n",
              "      <td>0.083467</td>\n",
              "      <td>0.085272</td>\n",
              "      <td>0.634809</td>\n",
              "      <td>0.083702</td>\n",
              "      <td>0.086698</td>\n",
              "    </tr>\n",
              "    <tr>\n",
              "      <th>2</th>\n",
              "      <td>0.047731</td>\n",
              "      <td>0.035727</td>\n",
              "      <td>0.050844</td>\n",
              "      <td>0.051269</td>\n",
              "      <td>0.047656</td>\n",
              "      <td>0.047709</td>\n",
              "      <td>0.046760</td>\n",
              "      <td>0.048478</td>\n",
              "      <td>0.033553</td>\n",
              "      <td>0.063621</td>\n",
              "      <td>0.060988</td>\n",
              "      <td>0.048576</td>\n",
              "      <td>0.047809</td>\n",
              "      <td>0.053188</td>\n",
              "      <td>0.542390</td>\n",
              "      <td>0.057447</td>\n",
              "      <td>0.054360</td>\n",
              "    </tr>\n",
              "    <tr>\n",
              "      <th>3</th>\n",
              "      <td>0.145827</td>\n",
              "      <td>0.137638</td>\n",
              "      <td>0.161864</td>\n",
              "      <td>0.241573</td>\n",
              "      <td>0.243118</td>\n",
              "      <td>0.236027</td>\n",
              "      <td>0.127639</td>\n",
              "      <td>0.152470</td>\n",
              "      <td>0.177084</td>\n",
              "      <td>0.324396</td>\n",
              "      <td>0.251222</td>\n",
              "      <td>0.199896</td>\n",
              "      <td>0.191427</td>\n",
              "      <td>0.186304</td>\n",
              "      <td>0.823723</td>\n",
              "      <td>0.240482</td>\n",
              "      <td>0.198525</td>\n",
              "    </tr>\n",
              "    <tr>\n",
              "      <th>4</th>\n",
              "      <td>0.083420</td>\n",
              "      <td>0.082654</td>\n",
              "      <td>0.082421</td>\n",
              "      <td>0.083449</td>\n",
              "      <td>0.083509</td>\n",
              "      <td>0.083486</td>\n",
              "      <td>0.082264</td>\n",
              "      <td>0.082061</td>\n",
              "      <td>0.083136</td>\n",
              "      <td>0.077712</td>\n",
              "      <td>0.089975</td>\n",
              "      <td>0.083099</td>\n",
              "      <td>0.083056</td>\n",
              "      <td>0.085272</td>\n",
              "      <td>0.634809</td>\n",
              "      <td>0.083702</td>\n",
              "      <td>0.086698</td>\n",
              "    </tr>\n",
              "  </tbody>\n",
              "</table>\n",
              "</div>"
            ],
            "text/plain": [
              "   xgb2_crop2  xgb_crop2  lgbm_crop2  catb_crop2  catb_full  catb_crop1  \\\n",
              "0    0.012904   0.016545    0.023061    0.023155   0.020611    0.024461   \n",
              "1    0.083420   0.082654    0.082421    0.085065   0.085034    0.084914   \n",
              "2    0.047731   0.035727    0.050844    0.051269   0.047656    0.047709   \n",
              "3    0.145827   0.137638    0.161864    0.241573   0.243118    0.236027   \n",
              "4    0.083420   0.082654    0.082421    0.083449   0.083509    0.083486   \n",
              "\n",
              "   lgbm_full  lgbm_crop1  xgb_crop1        nn       cnn      mean      geom  \\\n",
              "0   0.021234    0.022418   0.015952  0.011049  0.034197  0.020508  0.019610   \n",
              "1   0.082264    0.082061   0.083136  0.077712  0.089975  0.083514  0.083467   \n",
              "2   0.046760    0.048478   0.033553  0.063621  0.060988  0.048576  0.047809   \n",
              "3   0.127639    0.152470   0.177084  0.324396  0.251222  0.199896  0.191427   \n",
              "4   0.082264    0.082061   0.083136  0.077712  0.089975  0.083099  0.083056   \n",
              "\n",
              "      mean3     geom3    mean3n    mean2n  \n",
              "0  0.023387  0.412446  0.019383  0.023550  \n",
              "1  0.085272  0.634809  0.083702  0.086698  \n",
              "2  0.053188  0.542390  0.057447  0.054360  \n",
              "3  0.186304  0.823723  0.240482  0.198525  \n",
              "4  0.085272  0.634809  0.083702  0.086698  "
            ]
          },
          "metadata": {
            "tags": []
          },
          "execution_count": 526
        }
      ]
    },
    {
      "cell_type": "markdown",
      "metadata": {
        "id": "Xq8utcjFkdE7"
      },
      "source": [
        "### Отбор моделей"
      ]
    },
    {
      "cell_type": "code",
      "metadata": {
        "id": "-2FMhgOonqjr",
        "trusted": true
      },
      "source": [
        "X_train, X_valid, y_train, y_valid = train_test_split(all_model_pred, \n",
        "                                                      train_prep[\"TARGET\"], \n",
        "                                                      test_size=0.2, \n",
        "                                                      random_state=42)\n",
        "\n",
        "train_data = lgbm.Dataset(X_train, label=y_train)\n",
        "test_data = lgbm.Dataset(X_valid, label=y_valid)\n",
        "\n",
        "model = lgbm.train(lgbm_params,\n",
        "                   train_data,\n",
        "                   valid_sets=test_data,\n",
        "                   num_boost_round=1000,\n",
        "                   early_stopping_rounds=50,\n",
        "                   verbose_eval=False)"
      ],
      "execution_count": 527,
      "outputs": []
    },
    {
      "cell_type": "code",
      "metadata": {
        "id": "yLp6cj4-qFsj",
        "trusted": true,
        "outputId": "66d68550-0831-4d3a-be56-f8f0f9376d5e",
        "colab": {
          "base_uri": "https://localhost:8080/",
          "height": 34
        }
      },
      "source": [
        "perm_importance = calculate_permutation_importance(\n",
        "    estimator=model, metric=roc_auc_score, x_valid=X_valid, y_valid=y_valid\n",
        ")"
      ],
      "execution_count": 528,
      "outputs": [
        {
          "output_type": "stream",
          "text": [
            "100%|██████████| 17/17 [00:00<00:00, 26.07it/s]\n"
          ],
          "name": "stderr"
        }
      ]
    },
    {
      "cell_type": "code",
      "metadata": {
        "id": "CD9fc_VeqFLf",
        "trusted": true,
        "outputId": "8c4d1efa-a779-4845-c078-7bdfa771ce9a",
        "colab": {
          "base_uri": "https://localhost:8080/",
          "height": 323
        }
      },
      "source": [
        "perm_importance"
      ],
      "execution_count": 529,
      "outputs": [
        {
          "output_type": "execute_result",
          "data": {
            "text/plain": [
              "mean3n        0.170123\n",
              "nn            0.010718\n",
              "catb_full     0.009991\n",
              "cnn           0.009361\n",
              "catb_crop1    0.006413\n",
              "xgb_crop2     0.003715\n",
              "lgbm_crop2    0.002857\n",
              "lgbm_full     0.002315\n",
              "mean2n        0.001550\n",
              "xgb_crop1     0.001478\n",
              "mean3         0.001023\n",
              "catb_crop2    0.000938\n",
              "geom3         0.000436\n",
              "xgb2_crop2    0.000130\n",
              "mean          0.000004\n",
              "geom         -0.000363\n",
              "lgbm_crop1   -0.000482\n",
              "dtype: float64"
            ]
          },
          "metadata": {
            "tags": []
          },
          "execution_count": 529
        }
      ]
    },
    {
      "cell_type": "code",
      "metadata": {
        "id": "KZuzvTo0qbkA",
        "trusted": true
      },
      "source": [
        "model_list = perm_importance[perm_importance > 0.0001].index"
      ],
      "execution_count": 530,
      "outputs": []
    },
    {
      "cell_type": "code",
      "metadata": {
        "id": "tsXJUxvsqbBl",
        "trusted": true
      },
      "source": [
        "model_list_crop = all_model_pred[model_list]"
      ],
      "execution_count": 531,
      "outputs": []
    },
    {
      "cell_type": "code",
      "metadata": {
        "id": "bKCZGIC7KBNG",
        "trusted": true
      },
      "source": [
        "lgbm_params =  {\n",
        "    'boosting_type': 'gbdt',\n",
        "    'objective': 'binary',\n",
        "    'metric': 'auc',\n",
        "    \"num_leaves\": 26,\n",
        "    \"learning_rate\": 0.05,\n",
        "    # \"n_estimators\": 100, # clf_l_c1.best_params_['n_estimators'],\n",
        "    \"random_state\": 42 \n",
        "    }"
      ],
      "execution_count": 532,
      "outputs": []
    },
    {
      "cell_type": "code",
      "metadata": {
        "id": "SI8aKSzeLxBG",
        "trusted": true
      },
      "source": [
        "dftrainLGB = lgbm.Dataset(data = model_list_crop, \n",
        "                          label = train_prep[\"TARGET\"])\n",
        "                        #   feature_name = list(x_train))\n",
        "\n",
        "cv_results = lgbm.cv(\n",
        "        lgbm_params,\n",
        "        dftrainLGB,\n",
        "        num_boost_round=2000,\n",
        "        nfold=5,\n",
        "        metrics='auc',\n",
        "        early_stopping_rounds=50\n",
        "        )"
      ],
      "execution_count": 533,
      "outputs": []
    },
    {
      "cell_type": "code",
      "metadata": {
        "id": "6B6ltitLMGUZ",
        "trusted": true,
        "outputId": "aab0c275-fd2f-40c3-f9a3-b6381546bda4",
        "colab": {
          "base_uri": "https://localhost:8080/",
          "height": 34
        }
      },
      "source": [
        "print(f\"lgbm.cv auc-mean: {cv_results['auc-mean'][len(cv_results['auc-mean'])-1]:.4f}, \\\n",
        "auc-stdv: {cv_results['auc-stdv'][len(cv_results['auc-stdv'])-1]:.4f}\")"
      ],
      "execution_count": 534,
      "outputs": [
        {
          "output_type": "stream",
          "text": [
            "lgbm.cv auc-mean: 0.7369, auc-stdv: 0.0062\n"
          ],
          "name": "stdout"
        }
      ]
    },
    {
      "cell_type": "markdown",
      "metadata": {
        "id": "b6bjXF5En1Yj"
      },
      "source": [
        "### Ансамбли - данные для загрузки"
      ]
    },
    {
      "cell_type": "markdown",
      "metadata": {
        "id": "yATOwjqVNqO1"
      },
      "source": [
        "#### Усреднение"
      ]
    },
    {
      "cell_type": "code",
      "metadata": {
        "id": "dI4nPFovMzPI",
        "trusted": true,
        "outputId": "7bc1d7ed-ee61-4173-ecf9-d9977382cdcd",
        "colab": {
          "base_uri": "https://localhost:8080/",
          "height": 204
        }
      },
      "source": [
        "prediction_mean3 = test_prep[['APPLICATION_NUMBER']].copy()\n",
        "prediction_mean3[\"TARGET\"] = (test_predictions_xgb2_c2 + test_predictions_lgbm_c2 + test_prediction_cnn) / 3\n",
        "prediction_mean3.head()"
      ],
      "execution_count": 535,
      "outputs": [
        {
          "output_type": "execute_result",
          "data": {
            "text/html": [
              "<div>\n",
              "<style scoped>\n",
              "    .dataframe tbody tr th:only-of-type {\n",
              "        vertical-align: middle;\n",
              "    }\n",
              "\n",
              "    .dataframe tbody tr th {\n",
              "        vertical-align: top;\n",
              "    }\n",
              "\n",
              "    .dataframe thead th {\n",
              "        text-align: right;\n",
              "    }\n",
              "</style>\n",
              "<table border=\"1\" class=\"dataframe\">\n",
              "  <thead>\n",
              "    <tr style=\"text-align: right;\">\n",
              "      <th></th>\n",
              "      <th>APPLICATION_NUMBER</th>\n",
              "      <th>TARGET</th>\n",
              "    </tr>\n",
              "  </thead>\n",
              "  <tbody>\n",
              "    <tr>\n",
              "      <th>0</th>\n",
              "      <td>123724268</td>\n",
              "      <td>0.054219</td>\n",
              "    </tr>\n",
              "    <tr>\n",
              "      <th>1</th>\n",
              "      <td>123456549</td>\n",
              "      <td>0.219986</td>\n",
              "    </tr>\n",
              "    <tr>\n",
              "      <th>2</th>\n",
              "      <td>123428178</td>\n",
              "      <td>0.168581</td>\n",
              "    </tr>\n",
              "    <tr>\n",
              "      <th>3</th>\n",
              "      <td>123619984</td>\n",
              "      <td>0.085957</td>\n",
              "    </tr>\n",
              "    <tr>\n",
              "      <th>4</th>\n",
              "      <td>123671104</td>\n",
              "      <td>0.023782</td>\n",
              "    </tr>\n",
              "  </tbody>\n",
              "</table>\n",
              "</div>"
            ],
            "text/plain": [
              "   APPLICATION_NUMBER    TARGET\n",
              "0           123724268  0.054219\n",
              "1           123456549  0.219986\n",
              "2           123428178  0.168581\n",
              "3           123619984  0.085957\n",
              "4           123671104  0.023782"
            ]
          },
          "metadata": {
            "tags": []
          },
          "execution_count": 535
        }
      ]
    },
    {
      "cell_type": "code",
      "metadata": {
        "id": "fzsQYRNnM6rP",
        "trusted": true
      },
      "source": [
        "prediction_mean3.to_csv(data_dir + \"prediction_mean3.csv\", sep=\",\", index=False)"
      ],
      "execution_count": 536,
      "outputs": []
    },
    {
      "cell_type": "code",
      "metadata": {
        "trusted": true,
        "id": "xT0sM3KNAC0T",
        "outputId": "81200d0c-4485-40ea-a7e1-e1cad956aac9",
        "colab": {
          "base_uri": "https://localhost:8080/",
          "height": 204
        }
      },
      "source": [
        "prediction_mean2 = test_prep[['APPLICATION_NUMBER']].copy()\n",
        "prediction_mean2[\"TARGET\"] = (test_predictions_xgb2_c2 + test_predictions_lgbm_c2) / 2\n",
        "prediction_mean2.head()"
      ],
      "execution_count": 537,
      "outputs": [
        {
          "output_type": "execute_result",
          "data": {
            "text/html": [
              "<div>\n",
              "<style scoped>\n",
              "    .dataframe tbody tr th:only-of-type {\n",
              "        vertical-align: middle;\n",
              "    }\n",
              "\n",
              "    .dataframe tbody tr th {\n",
              "        vertical-align: top;\n",
              "    }\n",
              "\n",
              "    .dataframe thead th {\n",
              "        text-align: right;\n",
              "    }\n",
              "</style>\n",
              "<table border=\"1\" class=\"dataframe\">\n",
              "  <thead>\n",
              "    <tr style=\"text-align: right;\">\n",
              "      <th></th>\n",
              "      <th>APPLICATION_NUMBER</th>\n",
              "      <th>TARGET</th>\n",
              "    </tr>\n",
              "  </thead>\n",
              "  <tbody>\n",
              "    <tr>\n",
              "      <th>0</th>\n",
              "      <td>123724268</td>\n",
              "      <td>0.057961</td>\n",
              "    </tr>\n",
              "    <tr>\n",
              "      <th>1</th>\n",
              "      <td>123456549</td>\n",
              "      <td>0.228897</td>\n",
              "    </tr>\n",
              "    <tr>\n",
              "      <th>2</th>\n",
              "      <td>123428178</td>\n",
              "      <td>0.165039</td>\n",
              "    </tr>\n",
              "    <tr>\n",
              "      <th>3</th>\n",
              "      <td>123619984</td>\n",
              "      <td>0.083948</td>\n",
              "    </tr>\n",
              "    <tr>\n",
              "      <th>4</th>\n",
              "      <td>123671104</td>\n",
              "      <td>0.015746</td>\n",
              "    </tr>\n",
              "  </tbody>\n",
              "</table>\n",
              "</div>"
            ],
            "text/plain": [
              "   APPLICATION_NUMBER    TARGET\n",
              "0           123724268  0.057961\n",
              "1           123456549  0.228897\n",
              "2           123428178  0.165039\n",
              "3           123619984  0.083948\n",
              "4           123671104  0.015746"
            ]
          },
          "metadata": {
            "tags": []
          },
          "execution_count": 537
        }
      ]
    },
    {
      "cell_type": "code",
      "metadata": {
        "trusted": true,
        "id": "PdB5nBANAC0V"
      },
      "source": [
        "prediction_mean2.to_csv(data_dir + \"prediction_mean2.csv\", sep=\",\", index=False)"
      ],
      "execution_count": 538,
      "outputs": []
    },
    {
      "cell_type": "code",
      "metadata": {
        "trusted": true,
        "id": "reMr0IvZAC0X",
        "outputId": "2c54a438-60cc-4f4b-c9d0-bda93baf71d0",
        "colab": {
          "base_uri": "https://localhost:8080/",
          "height": 204
        }
      },
      "source": [
        "prediction_mean3n = test_prep[['APPLICATION_NUMBER']].copy()\n",
        "prediction_mean3n[\"TARGET\"] = (test_predictions_xgb2_c2 + test_prediction_nn + test_prediction_cnn) / 3\n",
        "prediction_mean3n.head()"
      ],
      "execution_count": 539,
      "outputs": [
        {
          "output_type": "execute_result",
          "data": {
            "text/html": [
              "<div>\n",
              "<style scoped>\n",
              "    .dataframe tbody tr th:only-of-type {\n",
              "        vertical-align: middle;\n",
              "    }\n",
              "\n",
              "    .dataframe tbody tr th {\n",
              "        vertical-align: top;\n",
              "    }\n",
              "\n",
              "    .dataframe thead th {\n",
              "        text-align: right;\n",
              "    }\n",
              "</style>\n",
              "<table border=\"1\" class=\"dataframe\">\n",
              "  <thead>\n",
              "    <tr style=\"text-align: right;\">\n",
              "      <th></th>\n",
              "      <th>APPLICATION_NUMBER</th>\n",
              "      <th>TARGET</th>\n",
              "    </tr>\n",
              "  </thead>\n",
              "  <tbody>\n",
              "    <tr>\n",
              "      <th>0</th>\n",
              "      <td>123724268</td>\n",
              "      <td>0.050631</td>\n",
              "    </tr>\n",
              "    <tr>\n",
              "      <th>1</th>\n",
              "      <td>123456549</td>\n",
              "      <td>0.223721</td>\n",
              "    </tr>\n",
              "    <tr>\n",
              "      <th>2</th>\n",
              "      <td>123428178</td>\n",
              "      <td>0.157718</td>\n",
              "    </tr>\n",
              "    <tr>\n",
              "      <th>3</th>\n",
              "      <td>123619984</td>\n",
              "      <td>0.083989</td>\n",
              "    </tr>\n",
              "    <tr>\n",
              "      <th>4</th>\n",
              "      <td>123671104</td>\n",
              "      <td>0.022687</td>\n",
              "    </tr>\n",
              "  </tbody>\n",
              "</table>\n",
              "</div>"
            ],
            "text/plain": [
              "   APPLICATION_NUMBER    TARGET\n",
              "0           123724268  0.050631\n",
              "1           123456549  0.223721\n",
              "2           123428178  0.157718\n",
              "3           123619984  0.083989\n",
              "4           123671104  0.022687"
            ]
          },
          "metadata": {
            "tags": []
          },
          "execution_count": 539
        }
      ]
    },
    {
      "cell_type": "code",
      "metadata": {
        "trusted": true,
        "id": "lZLZOShuAC0b"
      },
      "source": [
        "prediction_mean3n.to_csv(data_dir + \"prediction_mean3n.csv\", sep=\",\", index=False)"
      ],
      "execution_count": 540,
      "outputs": []
    },
    {
      "cell_type": "code",
      "metadata": {
        "id": "SHn3IoYSjpgm",
        "outputId": "204cfd12-3306-4cb3-c85c-a941c2f44536",
        "colab": {
          "base_uri": "https://localhost:8080/",
          "height": 204
        }
      },
      "source": [
        "prediction_mean2n = test_prep[['APPLICATION_NUMBER']].copy()\n",
        "prediction_mean2n[\"TARGET\"] = (test_predictions_xgb2_c2 + test_prediction_cnn) / 2\n",
        "prediction_mean2n.head()"
      ],
      "execution_count": 541,
      "outputs": [
        {
          "output_type": "execute_result",
          "data": {
            "text/html": [
              "<div>\n",
              "<style scoped>\n",
              "    .dataframe tbody tr th:only-of-type {\n",
              "        vertical-align: middle;\n",
              "    }\n",
              "\n",
              "    .dataframe tbody tr th {\n",
              "        vertical-align: top;\n",
              "    }\n",
              "\n",
              "    .dataframe thead th {\n",
              "        text-align: right;\n",
              "    }\n",
              "</style>\n",
              "<table border=\"1\" class=\"dataframe\">\n",
              "  <thead>\n",
              "    <tr style=\"text-align: right;\">\n",
              "      <th></th>\n",
              "      <th>APPLICATION_NUMBER</th>\n",
              "      <th>TARGET</th>\n",
              "    </tr>\n",
              "  </thead>\n",
              "  <tbody>\n",
              "    <tr>\n",
              "      <th>0</th>\n",
              "      <td>123724268</td>\n",
              "      <td>0.052873</td>\n",
              "    </tr>\n",
              "    <tr>\n",
              "      <th>1</th>\n",
              "      <td>123456549</td>\n",
              "      <td>0.221416</td>\n",
              "    </tr>\n",
              "    <tr>\n",
              "      <th>2</th>\n",
              "      <td>123428178</td>\n",
              "      <td>0.166992</td>\n",
              "    </tr>\n",
              "    <tr>\n",
              "      <th>3</th>\n",
              "      <td>123619984</td>\n",
              "      <td>0.087127</td>\n",
              "    </tr>\n",
              "    <tr>\n",
              "      <th>4</th>\n",
              "      <td>123671104</td>\n",
              "      <td>0.027588</td>\n",
              "    </tr>\n",
              "  </tbody>\n",
              "</table>\n",
              "</div>"
            ],
            "text/plain": [
              "   APPLICATION_NUMBER    TARGET\n",
              "0           123724268  0.052873\n",
              "1           123456549  0.221416\n",
              "2           123428178  0.166992\n",
              "3           123619984  0.087127\n",
              "4           123671104  0.027588"
            ]
          },
          "metadata": {
            "tags": []
          },
          "execution_count": 541
        }
      ]
    },
    {
      "cell_type": "code",
      "metadata": {
        "id": "s5QFnCj_jyuW"
      },
      "source": [
        "prediction_mean2n.to_csv(data_dir + \"prediction_mean2n.csv\", sep=\",\", index=False)"
      ],
      "execution_count": 542,
      "outputs": []
    },
    {
      "cell_type": "code",
      "metadata": {
        "id": "pJN2Dkt7CgjV",
        "trusted": true,
        "outputId": "34226b80-926a-4106-846f-6161623a129c",
        "colab": {
          "base_uri": "https://localhost:8080/",
          "height": 204
        }
      },
      "source": [
        "prediction_geom3 = test_prep[['APPLICATION_NUMBER']].copy()\n",
        "prediction_geom3[\"TARGET\"] = abs(test_predictions_xgb2_c2 * test_predictions_lgbm_c2 * test_prediction_cnn) ** (1/3)\n",
        "prediction_geom3.head()"
      ],
      "execution_count": 543,
      "outputs": [
        {
          "output_type": "execute_result",
          "data": {
            "text/html": [
              "<div>\n",
              "<style scoped>\n",
              "    .dataframe tbody tr th:only-of-type {\n",
              "        vertical-align: middle;\n",
              "    }\n",
              "\n",
              "    .dataframe tbody tr th {\n",
              "        vertical-align: top;\n",
              "    }\n",
              "\n",
              "    .dataframe thead th {\n",
              "        text-align: right;\n",
              "    }\n",
              "</style>\n",
              "<table border=\"1\" class=\"dataframe\">\n",
              "  <thead>\n",
              "    <tr style=\"text-align: right;\">\n",
              "      <th></th>\n",
              "      <th>APPLICATION_NUMBER</th>\n",
              "      <th>TARGET</th>\n",
              "    </tr>\n",
              "  </thead>\n",
              "  <tbody>\n",
              "    <tr>\n",
              "      <th>0</th>\n",
              "      <td>123724268</td>\n",
              "      <td>0.053942</td>\n",
              "    </tr>\n",
              "    <tr>\n",
              "      <th>1</th>\n",
              "      <td>123456549</td>\n",
              "      <td>0.219421</td>\n",
              "    </tr>\n",
              "    <tr>\n",
              "      <th>2</th>\n",
              "      <td>123428178</td>\n",
              "      <td>0.168415</td>\n",
              "    </tr>\n",
              "    <tr>\n",
              "      <th>3</th>\n",
              "      <td>123619984</td>\n",
              "      <td>0.085910</td>\n",
              "    </tr>\n",
              "    <tr>\n",
              "      <th>4</th>\n",
              "      <td>123671104</td>\n",
              "      <td>0.021454</td>\n",
              "    </tr>\n",
              "  </tbody>\n",
              "</table>\n",
              "</div>"
            ],
            "text/plain": [
              "   APPLICATION_NUMBER    TARGET\n",
              "0           123724268  0.053942\n",
              "1           123456549  0.219421\n",
              "2           123428178  0.168415\n",
              "3           123619984  0.085910\n",
              "4           123671104  0.021454"
            ]
          },
          "metadata": {
            "tags": []
          },
          "execution_count": 543
        }
      ]
    },
    {
      "cell_type": "code",
      "metadata": {
        "id": "o5hRnT7-CiJD",
        "trusted": true
      },
      "source": [
        "prediction_geom3.to_csv(data_dir + \"prediction_geom3.csv\", sep=\",\", index=False)"
      ],
      "execution_count": 544,
      "outputs": []
    },
    {
      "cell_type": "code",
      "metadata": {
        "trusted": true,
        "id": "-kvLfDSVAC0h",
        "outputId": "5651d2b5-07af-4dc8-c563-3af524225215",
        "colab": {
          "base_uri": "https://localhost:8080/",
          "height": 204
        }
      },
      "source": [
        "prediction_geom2 = test_prep[['APPLICATION_NUMBER']].copy()\n",
        "prediction_geom2[\"TARGET\"] = abs(test_predictions_xgb2_c2 * test_predictions_lgbm_c2) ** (1/2)\n",
        "prediction_geom2.head()"
      ],
      "execution_count": 545,
      "outputs": [
        {
          "output_type": "execute_result",
          "data": {
            "text/html": [
              "<div>\n",
              "<style scoped>\n",
              "    .dataframe tbody tr th:only-of-type {\n",
              "        vertical-align: middle;\n",
              "    }\n",
              "\n",
              "    .dataframe tbody tr th {\n",
              "        vertical-align: top;\n",
              "    }\n",
              "\n",
              "    .dataframe thead th {\n",
              "        text-align: right;\n",
              "    }\n",
              "</style>\n",
              "<table border=\"1\" class=\"dataframe\">\n",
              "  <thead>\n",
              "    <tr style=\"text-align: right;\">\n",
              "      <th></th>\n",
              "      <th>APPLICATION_NUMBER</th>\n",
              "      <th>TARGET</th>\n",
              "    </tr>\n",
              "  </thead>\n",
              "  <tbody>\n",
              "    <tr>\n",
              "      <th>0</th>\n",
              "      <td>123724268</td>\n",
              "      <td>0.057951</td>\n",
              "    </tr>\n",
              "    <tr>\n",
              "      <th>1</th>\n",
              "      <td>123456549</td>\n",
              "      <td>0.228594</td>\n",
              "    </tr>\n",
              "    <tr>\n",
              "      <th>2</th>\n",
              "      <td>123428178</td>\n",
              "      <td>0.164902</td>\n",
              "    </tr>\n",
              "    <tr>\n",
              "      <th>3</th>\n",
              "      <td>123619984</td>\n",
              "      <td>0.083947</td>\n",
              "    </tr>\n",
              "    <tr>\n",
              "      <th>4</th>\n",
              "      <td>123671104</td>\n",
              "      <td>0.015740</td>\n",
              "    </tr>\n",
              "  </tbody>\n",
              "</table>\n",
              "</div>"
            ],
            "text/plain": [
              "   APPLICATION_NUMBER    TARGET\n",
              "0           123724268  0.057951\n",
              "1           123456549  0.228594\n",
              "2           123428178  0.164902\n",
              "3           123619984  0.083947\n",
              "4           123671104  0.015740"
            ]
          },
          "metadata": {
            "tags": []
          },
          "execution_count": 545
        }
      ]
    },
    {
      "cell_type": "code",
      "metadata": {
        "trusted": true,
        "id": "3qEaHhEwAC0j"
      },
      "source": [
        "prediction_geom2.to_csv(data_dir + \"prediction_geom2.csv\", sep=\",\", index=False)"
      ],
      "execution_count": 546,
      "outputs": []
    },
    {
      "cell_type": "markdown",
      "metadata": {
        "id": "yCw-KZxLNw92"
      },
      "source": [
        "#### Стекинг"
      ]
    },
    {
      "cell_type": "code",
      "metadata": {
        "id": "I6lTxY2An8Mm",
        "trusted": true
      },
      "source": [
        "all_model_test_pred = pd.DataFrame({\n",
        "    \"xgb2_crop2\": test_predictions_xgb2_c2,\n",
        "    \"xgb_crop2\": test_predictions_xgb_c2,\n",
        "    \"lgbm_crop2\": test_predictions_lgbm_c2,\n",
        "    \"catb_crop2\": test_preds_catb_c2,\n",
        "    \"catb_full\": test_preds_catb_f,\n",
        "    \"catb_crop1\": test_preds_catb_c1,\n",
        "    \"lgbm_full\": test_predictions_lgbm_f,\n",
        "    \"lgbm_crop1\": test_predictions_lgbm_c1,\n",
        "    \"xgb_crop1\": test_predictions_xgb_c1,\n",
        "    \"nn\": test_prediction_nn,\n",
        "    \"cnn\": test_prediction_cnn\n",
        "})"
      ],
      "execution_count": 547,
      "outputs": []
    },
    {
      "cell_type": "code",
      "metadata": {
        "id": "F9_6fGOIKAoF",
        "trusted": true,
        "outputId": "64edc8d1-d8b1-42ee-c41d-11e1dc5eeb8b",
        "colab": {
          "base_uri": "https://localhost:8080/",
          "height": 224
        }
      },
      "source": [
        "all_model_test_pred['mean'] = all_model_test_pred.sum(axis=1) / len(all_model_test_pred.columns)\n",
        "all_model_test_pred['geom'] = abs(all_model_test_pred.product(axis=1)) ** (1/len(all_model_test_pred.columns))\n",
        "all_model_test_pred['mean3'] = (test_predictions_xgb2_c2 + test_predictions_lgbm_c2 + test_prediction_cnn) / 3\n",
        "all_model_test_pred['geom3'] = abs(test_predictions_xgb2_c2 * test_predictions_lgbm_c2 * test_prediction_cnn) ** (1/3)\n",
        "all_model_test_pred['mean3n'] = (test_predictions_xgb2_c2 + test_prediction_nn + test_prediction_cnn) / 3\n",
        "all_model_test_pred['mean2n'] = (test_predictions_xgb2_c2 + test_prediction_cnn) / 2\n",
        "all_model_test_pred.head()"
      ],
      "execution_count": 548,
      "outputs": [
        {
          "output_type": "execute_result",
          "data": {
            "text/html": [
              "<div>\n",
              "<style scoped>\n",
              "    .dataframe tbody tr th:only-of-type {\n",
              "        vertical-align: middle;\n",
              "    }\n",
              "\n",
              "    .dataframe tbody tr th {\n",
              "        vertical-align: top;\n",
              "    }\n",
              "\n",
              "    .dataframe thead th {\n",
              "        text-align: right;\n",
              "    }\n",
              "</style>\n",
              "<table border=\"1\" class=\"dataframe\">\n",
              "  <thead>\n",
              "    <tr style=\"text-align: right;\">\n",
              "      <th></th>\n",
              "      <th>xgb2_crop2</th>\n",
              "      <th>xgb_crop2</th>\n",
              "      <th>lgbm_crop2</th>\n",
              "      <th>catb_crop2</th>\n",
              "      <th>catb_full</th>\n",
              "      <th>catb_crop1</th>\n",
              "      <th>lgbm_full</th>\n",
              "      <th>lgbm_crop1</th>\n",
              "      <th>xgb_crop1</th>\n",
              "      <th>nn</th>\n",
              "      <th>cnn</th>\n",
              "      <th>mean</th>\n",
              "      <th>geom</th>\n",
              "      <th>mean3</th>\n",
              "      <th>geom3</th>\n",
              "      <th>mean3n</th>\n",
              "      <th>mean2n</th>\n",
              "    </tr>\n",
              "  </thead>\n",
              "  <tbody>\n",
              "    <tr>\n",
              "      <th>0</th>\n",
              "      <td>0.059010</td>\n",
              "      <td>0.056727</td>\n",
              "      <td>0.056912</td>\n",
              "      <td>0.055596</td>\n",
              "      <td>0.052770</td>\n",
              "      <td>0.054802</td>\n",
              "      <td>0.053139</td>\n",
              "      <td>0.057959</td>\n",
              "      <td>0.053533</td>\n",
              "      <td>0.046148</td>\n",
              "      <td>0.046736</td>\n",
              "      <td>0.053939</td>\n",
              "      <td>0.053796</td>\n",
              "      <td>0.054219</td>\n",
              "      <td>0.053942</td>\n",
              "      <td>0.050631</td>\n",
              "      <td>0.052873</td>\n",
              "    </tr>\n",
              "    <tr>\n",
              "      <th>1</th>\n",
              "      <td>0.240665</td>\n",
              "      <td>0.215672</td>\n",
              "      <td>0.217128</td>\n",
              "      <td>0.204658</td>\n",
              "      <td>0.195730</td>\n",
              "      <td>0.202470</td>\n",
              "      <td>0.223475</td>\n",
              "      <td>0.211069</td>\n",
              "      <td>0.227791</td>\n",
              "      <td>0.228331</td>\n",
              "      <td>0.202166</td>\n",
              "      <td>0.215378</td>\n",
              "      <td>0.215015</td>\n",
              "      <td>0.219986</td>\n",
              "      <td>0.219421</td>\n",
              "      <td>0.223721</td>\n",
              "      <td>0.221416</td>\n",
              "    </tr>\n",
              "    <tr>\n",
              "      <th>2</th>\n",
              "      <td>0.158318</td>\n",
              "      <td>0.158530</td>\n",
              "      <td>0.171760</td>\n",
              "      <td>0.172537</td>\n",
              "      <td>0.252359</td>\n",
              "      <td>0.183067</td>\n",
              "      <td>0.149741</td>\n",
              "      <td>0.160358</td>\n",
              "      <td>0.149719</td>\n",
              "      <td>0.139169</td>\n",
              "      <td>0.175666</td>\n",
              "      <td>0.170111</td>\n",
              "      <td>0.168227</td>\n",
              "      <td>0.168581</td>\n",
              "      <td>0.168415</td>\n",
              "      <td>0.157718</td>\n",
              "      <td>0.166992</td>\n",
              "    </tr>\n",
              "    <tr>\n",
              "      <th>3</th>\n",
              "      <td>0.084279</td>\n",
              "      <td>0.083864</td>\n",
              "      <td>0.083617</td>\n",
              "      <td>0.084471</td>\n",
              "      <td>0.093925</td>\n",
              "      <td>0.084397</td>\n",
              "      <td>0.083558</td>\n",
              "      <td>0.083295</td>\n",
              "      <td>0.084376</td>\n",
              "      <td>0.077712</td>\n",
              "      <td>0.089975</td>\n",
              "      <td>0.084861</td>\n",
              "      <td>0.084781</td>\n",
              "      <td>0.085957</td>\n",
              "      <td>0.085910</td>\n",
              "      <td>0.083989</td>\n",
              "      <td>0.087127</td>\n",
              "    </tr>\n",
              "    <tr>\n",
              "      <th>4</th>\n",
              "      <td>0.015321</td>\n",
              "      <td>0.016234</td>\n",
              "      <td>0.016171</td>\n",
              "      <td>0.027073</td>\n",
              "      <td>0.047144</td>\n",
              "      <td>0.026974</td>\n",
              "      <td>0.015826</td>\n",
              "      <td>0.020728</td>\n",
              "      <td>0.015572</td>\n",
              "      <td>0.012887</td>\n",
              "      <td>0.039855</td>\n",
              "      <td>0.023071</td>\n",
              "      <td>0.021230</td>\n",
              "      <td>0.023782</td>\n",
              "      <td>0.021454</td>\n",
              "      <td>0.022687</td>\n",
              "      <td>0.027588</td>\n",
              "    </tr>\n",
              "  </tbody>\n",
              "</table>\n",
              "</div>"
            ],
            "text/plain": [
              "   xgb2_crop2  xgb_crop2  lgbm_crop2  catb_crop2  catb_full  catb_crop1  \\\n",
              "0    0.059010   0.056727    0.056912    0.055596   0.052770    0.054802   \n",
              "1    0.240665   0.215672    0.217128    0.204658   0.195730    0.202470   \n",
              "2    0.158318   0.158530    0.171760    0.172537   0.252359    0.183067   \n",
              "3    0.084279   0.083864    0.083617    0.084471   0.093925    0.084397   \n",
              "4    0.015321   0.016234    0.016171    0.027073   0.047144    0.026974   \n",
              "\n",
              "   lgbm_full  lgbm_crop1  xgb_crop1        nn       cnn      mean      geom  \\\n",
              "0   0.053139    0.057959   0.053533  0.046148  0.046736  0.053939  0.053796   \n",
              "1   0.223475    0.211069   0.227791  0.228331  0.202166  0.215378  0.215015   \n",
              "2   0.149741    0.160358   0.149719  0.139169  0.175666  0.170111  0.168227   \n",
              "3   0.083558    0.083295   0.084376  0.077712  0.089975  0.084861  0.084781   \n",
              "4   0.015826    0.020728   0.015572  0.012887  0.039855  0.023071  0.021230   \n",
              "\n",
              "      mean3     geom3    mean3n    mean2n  \n",
              "0  0.054219  0.053942  0.050631  0.052873  \n",
              "1  0.219986  0.219421  0.223721  0.221416  \n",
              "2  0.168581  0.168415  0.157718  0.166992  \n",
              "3  0.085957  0.085910  0.083989  0.087127  \n",
              "4  0.023782  0.021454  0.022687  0.027588  "
            ]
          },
          "metadata": {
            "tags": []
          },
          "execution_count": 548
        }
      ]
    },
    {
      "cell_type": "code",
      "metadata": {
        "id": "9WxN_OnuLhQE",
        "trusted": true,
        "outputId": "b3771ae7-05ee-4878-c960-f10cb83fc582",
        "colab": {
          "base_uri": "https://localhost:8080/",
          "height": 136
        }
      },
      "source": [
        "X_train, X_valid, y_train, y_valid = train_test_split(model_list_crop, \n",
        "                                                      train_prep[\"TARGET\"], \n",
        "                                                      test_size=0.2, \n",
        "                                                      random_state=42)\n",
        "\n",
        "# dftrainLGB = lgbm.Dataset(data = model_list_crop, label = train_prep[\"TARGET\"])\n",
        "\n",
        "model = lgbm.LGBMRegressor(num_leaves=26,\n",
        "                           n_estimators=2000,\n",
        "                           learning_rate=0.05,\n",
        "                           subsample=0.5, \n",
        "                           seed=42)\n",
        "\n",
        "model.fit(X_train, y_train,\n",
        "          early_stopping_rounds=50, \n",
        "          eval_set = [(X_valid, y_valid)], \n",
        "          eval_metric = 'auc', \n",
        "          verbose=False)"
      ],
      "execution_count": 549,
      "outputs": [
        {
          "output_type": "execute_result",
          "data": {
            "text/plain": [
              "LGBMRegressor(boosting_type='gbdt', class_weight=None, colsample_bytree=1.0,\n",
              "              importance_type='split', learning_rate=0.05, max_depth=-1,\n",
              "              min_child_samples=20, min_child_weight=0.001, min_split_gain=0.0,\n",
              "              n_estimators=2000, n_jobs=-1, num_leaves=26, objective=None,\n",
              "              random_state=None, reg_alpha=0.0, reg_lambda=0.0, seed=42,\n",
              "              silent=True, subsample=0.5, subsample_for_bin=200000,\n",
              "              subsample_freq=0)"
            ]
          },
          "metadata": {
            "tags": []
          },
          "execution_count": 549
        }
      ]
    },
    {
      "cell_type": "code",
      "metadata": {
        "id": "9HfcIK_dN35t",
        "trusted": true,
        "outputId": "da15a268-bd94-4892-cea6-1d524823edc4",
        "colab": {
          "base_uri": "https://localhost:8080/",
          "height": 204
        }
      },
      "source": [
        "prediction_st = test_prep[['APPLICATION_NUMBER']].copy()\n",
        "prediction_st[\"TARGET\"] = model.predict(all_model_test_pred[model_list])\n",
        "prediction_st.head()"
      ],
      "execution_count": 550,
      "outputs": [
        {
          "output_type": "execute_result",
          "data": {
            "text/html": [
              "<div>\n",
              "<style scoped>\n",
              "    .dataframe tbody tr th:only-of-type {\n",
              "        vertical-align: middle;\n",
              "    }\n",
              "\n",
              "    .dataframe tbody tr th {\n",
              "        vertical-align: top;\n",
              "    }\n",
              "\n",
              "    .dataframe thead th {\n",
              "        text-align: right;\n",
              "    }\n",
              "</style>\n",
              "<table border=\"1\" class=\"dataframe\">\n",
              "  <thead>\n",
              "    <tr style=\"text-align: right;\">\n",
              "      <th></th>\n",
              "      <th>APPLICATION_NUMBER</th>\n",
              "      <th>TARGET</th>\n",
              "    </tr>\n",
              "  </thead>\n",
              "  <tbody>\n",
              "    <tr>\n",
              "      <th>0</th>\n",
              "      <td>123724268</td>\n",
              "      <td>0.064797</td>\n",
              "    </tr>\n",
              "    <tr>\n",
              "      <th>1</th>\n",
              "      <td>123456549</td>\n",
              "      <td>0.145230</td>\n",
              "    </tr>\n",
              "    <tr>\n",
              "      <th>2</th>\n",
              "      <td>123428178</td>\n",
              "      <td>0.110821</td>\n",
              "    </tr>\n",
              "    <tr>\n",
              "      <th>3</th>\n",
              "      <td>123619984</td>\n",
              "      <td>0.083475</td>\n",
              "    </tr>\n",
              "    <tr>\n",
              "      <th>4</th>\n",
              "      <td>123671104</td>\n",
              "      <td>0.052984</td>\n",
              "    </tr>\n",
              "  </tbody>\n",
              "</table>\n",
              "</div>"
            ],
            "text/plain": [
              "   APPLICATION_NUMBER    TARGET\n",
              "0           123724268  0.064797\n",
              "1           123456549  0.145230\n",
              "2           123428178  0.110821\n",
              "3           123619984  0.083475\n",
              "4           123671104  0.052984"
            ]
          },
          "metadata": {
            "tags": []
          },
          "execution_count": 550
        }
      ]
    },
    {
      "cell_type": "code",
      "metadata": {
        "id": "yp4OrWRvN35y",
        "trusted": true,
        "outputId": "6b6227a0-ed17-4c4a-fc36-f4c867f6aab6",
        "colab": {
          "base_uri": "https://localhost:8080/",
          "height": 204
        }
      },
      "source": [
        "prediction_st.tail()"
      ],
      "execution_count": 551,
      "outputs": [
        {
          "output_type": "execute_result",
          "data": {
            "text/html": [
              "<div>\n",
              "<style scoped>\n",
              "    .dataframe tbody tr th:only-of-type {\n",
              "        vertical-align: middle;\n",
              "    }\n",
              "\n",
              "    .dataframe tbody tr th {\n",
              "        vertical-align: top;\n",
              "    }\n",
              "\n",
              "    .dataframe thead th {\n",
              "        text-align: right;\n",
              "    }\n",
              "</style>\n",
              "<table border=\"1\" class=\"dataframe\">\n",
              "  <thead>\n",
              "    <tr style=\"text-align: right;\">\n",
              "      <th></th>\n",
              "      <th>APPLICATION_NUMBER</th>\n",
              "      <th>TARGET</th>\n",
              "    </tr>\n",
              "  </thead>\n",
              "  <tbody>\n",
              "    <tr>\n",
              "      <th>165136</th>\n",
              "      <td>123487967</td>\n",
              "      <td>0.083475</td>\n",
              "    </tr>\n",
              "    <tr>\n",
              "      <th>165137</th>\n",
              "      <td>123536402</td>\n",
              "      <td>0.064797</td>\n",
              "    </tr>\n",
              "    <tr>\n",
              "      <th>165138</th>\n",
              "      <td>123718238</td>\n",
              "      <td>0.083475</td>\n",
              "    </tr>\n",
              "    <tr>\n",
              "      <th>165139</th>\n",
              "      <td>123631557</td>\n",
              "      <td>0.054331</td>\n",
              "    </tr>\n",
              "    <tr>\n",
              "      <th>165140</th>\n",
              "      <td>123433260</td>\n",
              "      <td>0.064797</td>\n",
              "    </tr>\n",
              "  </tbody>\n",
              "</table>\n",
              "</div>"
            ],
            "text/plain": [
              "        APPLICATION_NUMBER    TARGET\n",
              "165136           123487967  0.083475\n",
              "165137           123536402  0.064797\n",
              "165138           123718238  0.083475\n",
              "165139           123631557  0.054331\n",
              "165140           123433260  0.064797"
            ]
          },
          "metadata": {
            "tags": []
          },
          "execution_count": 551
        }
      ]
    },
    {
      "cell_type": "code",
      "metadata": {
        "id": "sK2dYH-3N352",
        "trusted": true
      },
      "source": [
        "prediction_st.to_csv(data_dir + \"prediction_st.csv\", sep=\",\", index=False)"
      ],
      "execution_count": 552,
      "outputs": []
    },
    {
      "cell_type": "code",
      "metadata": {
        "id": "TFMH2YFON3bS",
        "trusted": true
      },
      "source": [
        ""
      ],
      "execution_count": 552,
      "outputs": []
    }
  ]
}