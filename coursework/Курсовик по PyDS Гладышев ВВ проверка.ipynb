{
 "cells": [
  {
   "cell_type": "markdown",
   "metadata": {},
   "source": [
    "# Гладышев ВВ Курсовая работа"
   ]
  },
  {
   "cell_type": "code",
   "execution_count": 1,
   "metadata": {},
   "outputs": [],
   "source": [
    "import numpy as np\n",
    "import pandas as pd\n",
    "from matplotlib import pyplot as plt\n",
    "from pylab import rcParams\n",
    "from scipy import stats\n",
    "%matplotlib inline\n",
    "%config InlineBackend.figure_format = 'svg'\n",
    "\n",
    "from sklearn.model_selection import train_test_split\n",
    "from sklearn.metrics import r2_score\n",
    "from sklearn.ensemble import RandomForestRegressor\n",
    "from sklearn.preprocessing import MinMaxScaler\n",
    "from sklearn.manifold import TSNE\n",
    "from sklearn.cluster import KMeans"
   ]
  },
  {
   "cell_type": "markdown",
   "metadata": {},
   "source": [
    "## Подготовка данных"
   ]
  },
  {
   "cell_type": "code",
   "execution_count": 2,
   "metadata": {},
   "outputs": [],
   "source": [
    "data = pd.read_csv(\"train.csv\", sep=\",\")"
   ]
  },
  {
   "cell_type": "code",
   "execution_count": 3,
   "metadata": {},
   "outputs": [
    {
     "name": "stdout",
     "output_type": "stream",
     "text": [
      "<class 'pandas.core.frame.DataFrame'>\n",
      "RangeIndex: 10000 entries, 0 to 9999\n",
      "Data columns (total 20 columns):\n",
      "Id               10000 non-null int64\n",
      "DistrictId       10000 non-null int64\n",
      "Rooms            10000 non-null float64\n",
      "Square           10000 non-null float64\n",
      "LifeSquare       7887 non-null float64\n",
      "KitchenSquare    10000 non-null float64\n",
      "Floor            10000 non-null int64\n",
      "HouseFloor       10000 non-null float64\n",
      "HouseYear        10000 non-null int64\n",
      "Ecology_1        10000 non-null float64\n",
      "Ecology_2        10000 non-null object\n",
      "Ecology_3        10000 non-null object\n",
      "Social_1         10000 non-null int64\n",
      "Social_2         10000 non-null int64\n",
      "Social_3         10000 non-null int64\n",
      "Healthcare_1     5202 non-null float64\n",
      "Helthcare_2      10000 non-null int64\n",
      "Shops_1          10000 non-null int64\n",
      "Shops_2          10000 non-null object\n",
      "Price            10000 non-null float64\n",
      "dtypes: float64(8), int64(9), object(3)\n",
      "memory usage: 1.5+ MB\n"
     ]
    }
   ],
   "source": [
    "data.info()"
   ]
  },
  {
   "cell_type": "code",
   "execution_count": 4,
   "metadata": {},
   "outputs": [
    {
     "data": {
      "text/html": [
       "<div>\n",
       "<style scoped>\n",
       "    .dataframe tbody tr th:only-of-type {\n",
       "        vertical-align: middle;\n",
       "    }\n",
       "\n",
       "    .dataframe tbody tr th {\n",
       "        vertical-align: top;\n",
       "    }\n",
       "\n",
       "    .dataframe thead th {\n",
       "        text-align: right;\n",
       "    }\n",
       "</style>\n",
       "<table border=\"1\" class=\"dataframe\">\n",
       "  <thead>\n",
       "    <tr style=\"text-align: right;\">\n",
       "      <th></th>\n",
       "      <th>Id</th>\n",
       "      <th>DistrictId</th>\n",
       "      <th>Rooms</th>\n",
       "      <th>Square</th>\n",
       "      <th>LifeSquare</th>\n",
       "      <th>KitchenSquare</th>\n",
       "      <th>Floor</th>\n",
       "      <th>HouseFloor</th>\n",
       "      <th>HouseYear</th>\n",
       "      <th>Ecology_1</th>\n",
       "      <th>Social_1</th>\n",
       "      <th>Social_2</th>\n",
       "      <th>Social_3</th>\n",
       "      <th>Healthcare_1</th>\n",
       "      <th>Helthcare_2</th>\n",
       "      <th>Shops_1</th>\n",
       "      <th>Price</th>\n",
       "    </tr>\n",
       "  </thead>\n",
       "  <tbody>\n",
       "    <tr>\n",
       "      <th>count</th>\n",
       "      <td>10000.00000</td>\n",
       "      <td>10000.000000</td>\n",
       "      <td>10000.000000</td>\n",
       "      <td>10000.000000</td>\n",
       "      <td>7887.000000</td>\n",
       "      <td>10000.000000</td>\n",
       "      <td>10000.000000</td>\n",
       "      <td>10000.000000</td>\n",
       "      <td>1.000000e+04</td>\n",
       "      <td>10000.000000</td>\n",
       "      <td>10000.000000</td>\n",
       "      <td>10000.000000</td>\n",
       "      <td>10000.000000</td>\n",
       "      <td>5202.000000</td>\n",
       "      <td>10000.000000</td>\n",
       "      <td>10000.000000</td>\n",
       "      <td>10000.000000</td>\n",
       "    </tr>\n",
       "    <tr>\n",
       "      <th>mean</th>\n",
       "      <td>8383.40770</td>\n",
       "      <td>50.400800</td>\n",
       "      <td>1.890500</td>\n",
       "      <td>56.315775</td>\n",
       "      <td>37.199645</td>\n",
       "      <td>6.273300</td>\n",
       "      <td>8.526700</td>\n",
       "      <td>12.609400</td>\n",
       "      <td>3.990166e+03</td>\n",
       "      <td>0.118858</td>\n",
       "      <td>24.687000</td>\n",
       "      <td>5352.157400</td>\n",
       "      <td>8.039200</td>\n",
       "      <td>1142.904460</td>\n",
       "      <td>1.319500</td>\n",
       "      <td>4.231300</td>\n",
       "      <td>214138.857399</td>\n",
       "    </tr>\n",
       "    <tr>\n",
       "      <th>std</th>\n",
       "      <td>4859.01902</td>\n",
       "      <td>43.587592</td>\n",
       "      <td>0.839512</td>\n",
       "      <td>21.058732</td>\n",
       "      <td>86.241209</td>\n",
       "      <td>28.560917</td>\n",
       "      <td>5.241148</td>\n",
       "      <td>6.775974</td>\n",
       "      <td>2.005003e+05</td>\n",
       "      <td>0.119025</td>\n",
       "      <td>17.532614</td>\n",
       "      <td>4006.799803</td>\n",
       "      <td>23.831875</td>\n",
       "      <td>1021.517264</td>\n",
       "      <td>1.493601</td>\n",
       "      <td>4.806341</td>\n",
       "      <td>92872.293865</td>\n",
       "    </tr>\n",
       "    <tr>\n",
       "      <th>min</th>\n",
       "      <td>0.00000</td>\n",
       "      <td>0.000000</td>\n",
       "      <td>0.000000</td>\n",
       "      <td>1.136859</td>\n",
       "      <td>0.370619</td>\n",
       "      <td>0.000000</td>\n",
       "      <td>1.000000</td>\n",
       "      <td>0.000000</td>\n",
       "      <td>1.910000e+03</td>\n",
       "      <td>0.000000</td>\n",
       "      <td>0.000000</td>\n",
       "      <td>168.000000</td>\n",
       "      <td>0.000000</td>\n",
       "      <td>0.000000</td>\n",
       "      <td>0.000000</td>\n",
       "      <td>0.000000</td>\n",
       "      <td>59174.778028</td>\n",
       "    </tr>\n",
       "    <tr>\n",
       "      <th>25%</th>\n",
       "      <td>4169.50000</td>\n",
       "      <td>20.000000</td>\n",
       "      <td>1.000000</td>\n",
       "      <td>41.774881</td>\n",
       "      <td>22.769832</td>\n",
       "      <td>1.000000</td>\n",
       "      <td>4.000000</td>\n",
       "      <td>9.000000</td>\n",
       "      <td>1.974000e+03</td>\n",
       "      <td>0.017647</td>\n",
       "      <td>6.000000</td>\n",
       "      <td>1564.000000</td>\n",
       "      <td>0.000000</td>\n",
       "      <td>350.000000</td>\n",
       "      <td>0.000000</td>\n",
       "      <td>1.000000</td>\n",
       "      <td>153872.633942</td>\n",
       "    </tr>\n",
       "    <tr>\n",
       "      <th>50%</th>\n",
       "      <td>8394.50000</td>\n",
       "      <td>36.000000</td>\n",
       "      <td>2.000000</td>\n",
       "      <td>52.513310</td>\n",
       "      <td>32.781260</td>\n",
       "      <td>6.000000</td>\n",
       "      <td>7.000000</td>\n",
       "      <td>13.000000</td>\n",
       "      <td>1.977000e+03</td>\n",
       "      <td>0.075424</td>\n",
       "      <td>25.000000</td>\n",
       "      <td>5285.000000</td>\n",
       "      <td>2.000000</td>\n",
       "      <td>900.000000</td>\n",
       "      <td>1.000000</td>\n",
       "      <td>3.000000</td>\n",
       "      <td>192269.644879</td>\n",
       "    </tr>\n",
       "    <tr>\n",
       "      <th>75%</th>\n",
       "      <td>12592.50000</td>\n",
       "      <td>75.000000</td>\n",
       "      <td>2.000000</td>\n",
       "      <td>65.900625</td>\n",
       "      <td>45.128803</td>\n",
       "      <td>9.000000</td>\n",
       "      <td>12.000000</td>\n",
       "      <td>17.000000</td>\n",
       "      <td>2.001000e+03</td>\n",
       "      <td>0.195781</td>\n",
       "      <td>36.000000</td>\n",
       "      <td>7227.000000</td>\n",
       "      <td>5.000000</td>\n",
       "      <td>1548.000000</td>\n",
       "      <td>2.000000</td>\n",
       "      <td>6.000000</td>\n",
       "      <td>249135.462171</td>\n",
       "    </tr>\n",
       "    <tr>\n",
       "      <th>max</th>\n",
       "      <td>16798.00000</td>\n",
       "      <td>209.000000</td>\n",
       "      <td>19.000000</td>\n",
       "      <td>641.065193</td>\n",
       "      <td>7480.592129</td>\n",
       "      <td>2014.000000</td>\n",
       "      <td>42.000000</td>\n",
       "      <td>117.000000</td>\n",
       "      <td>2.005201e+07</td>\n",
       "      <td>0.521867</td>\n",
       "      <td>74.000000</td>\n",
       "      <td>19083.000000</td>\n",
       "      <td>141.000000</td>\n",
       "      <td>4849.000000</td>\n",
       "      <td>6.000000</td>\n",
       "      <td>23.000000</td>\n",
       "      <td>633233.466570</td>\n",
       "    </tr>\n",
       "  </tbody>\n",
       "</table>\n",
       "</div>"
      ],
      "text/plain": [
       "                Id    DistrictId         Rooms        Square   LifeSquare  \\\n",
       "count  10000.00000  10000.000000  10000.000000  10000.000000  7887.000000   \n",
       "mean    8383.40770     50.400800      1.890500     56.315775    37.199645   \n",
       "std     4859.01902     43.587592      0.839512     21.058732    86.241209   \n",
       "min        0.00000      0.000000      0.000000      1.136859     0.370619   \n",
       "25%     4169.50000     20.000000      1.000000     41.774881    22.769832   \n",
       "50%     8394.50000     36.000000      2.000000     52.513310    32.781260   \n",
       "75%    12592.50000     75.000000      2.000000     65.900625    45.128803   \n",
       "max    16798.00000    209.000000     19.000000    641.065193  7480.592129   \n",
       "\n",
       "       KitchenSquare         Floor    HouseFloor     HouseYear     Ecology_1  \\\n",
       "count   10000.000000  10000.000000  10000.000000  1.000000e+04  10000.000000   \n",
       "mean        6.273300      8.526700     12.609400  3.990166e+03      0.118858   \n",
       "std        28.560917      5.241148      6.775974  2.005003e+05      0.119025   \n",
       "min         0.000000      1.000000      0.000000  1.910000e+03      0.000000   \n",
       "25%         1.000000      4.000000      9.000000  1.974000e+03      0.017647   \n",
       "50%         6.000000      7.000000     13.000000  1.977000e+03      0.075424   \n",
       "75%         9.000000     12.000000     17.000000  2.001000e+03      0.195781   \n",
       "max      2014.000000     42.000000    117.000000  2.005201e+07      0.521867   \n",
       "\n",
       "           Social_1      Social_2      Social_3  Healthcare_1   Helthcare_2  \\\n",
       "count  10000.000000  10000.000000  10000.000000   5202.000000  10000.000000   \n",
       "mean      24.687000   5352.157400      8.039200   1142.904460      1.319500   \n",
       "std       17.532614   4006.799803     23.831875   1021.517264      1.493601   \n",
       "min        0.000000    168.000000      0.000000      0.000000      0.000000   \n",
       "25%        6.000000   1564.000000      0.000000    350.000000      0.000000   \n",
       "50%       25.000000   5285.000000      2.000000    900.000000      1.000000   \n",
       "75%       36.000000   7227.000000      5.000000   1548.000000      2.000000   \n",
       "max       74.000000  19083.000000    141.000000   4849.000000      6.000000   \n",
       "\n",
       "            Shops_1          Price  \n",
       "count  10000.000000   10000.000000  \n",
       "mean       4.231300  214138.857399  \n",
       "std        4.806341   92872.293865  \n",
       "min        0.000000   59174.778028  \n",
       "25%        1.000000  153872.633942  \n",
       "50%        3.000000  192269.644879  \n",
       "75%        6.000000  249135.462171  \n",
       "max       23.000000  633233.466570  "
      ]
     },
     "execution_count": 4,
     "metadata": {},
     "output_type": "execute_result"
    }
   ],
   "source": [
    "data.describe()"
   ]
  },
  {
   "cell_type": "code",
   "execution_count": 5,
   "metadata": {},
   "outputs": [
    {
     "data": {
      "text/html": [
       "<div>\n",
       "<style scoped>\n",
       "    .dataframe tbody tr th:only-of-type {\n",
       "        vertical-align: middle;\n",
       "    }\n",
       "\n",
       "    .dataframe tbody tr th {\n",
       "        vertical-align: top;\n",
       "    }\n",
       "\n",
       "    .dataframe thead th {\n",
       "        text-align: right;\n",
       "    }\n",
       "</style>\n",
       "<table border=\"1\" class=\"dataframe\">\n",
       "  <thead>\n",
       "    <tr style=\"text-align: right;\">\n",
       "      <th></th>\n",
       "      <th>Id</th>\n",
       "      <th>DistrictId</th>\n",
       "      <th>Rooms</th>\n",
       "      <th>Square</th>\n",
       "      <th>LifeSquare</th>\n",
       "      <th>KitchenSquare</th>\n",
       "      <th>Floor</th>\n",
       "      <th>HouseFloor</th>\n",
       "      <th>HouseYear</th>\n",
       "      <th>Ecology_1</th>\n",
       "      <th>Social_1</th>\n",
       "      <th>Social_2</th>\n",
       "      <th>Social_3</th>\n",
       "      <th>Healthcare_1</th>\n",
       "      <th>Helthcare_2</th>\n",
       "      <th>Shops_1</th>\n",
       "      <th>Price</th>\n",
       "    </tr>\n",
       "  </thead>\n",
       "  <tbody>\n",
       "    <tr>\n",
       "      <th>Id</th>\n",
       "      <td>1.000000</td>\n",
       "      <td>0.012973</td>\n",
       "      <td>-0.005847</td>\n",
       "      <td>-0.010071</td>\n",
       "      <td>0.018449</td>\n",
       "      <td>0.019880</td>\n",
       "      <td>0.001348</td>\n",
       "      <td>-0.008376</td>\n",
       "      <td>0.005004</td>\n",
       "      <td>0.018097</td>\n",
       "      <td>-0.000772</td>\n",
       "      <td>-0.002033</td>\n",
       "      <td>-0.009358</td>\n",
       "      <td>-0.003879</td>\n",
       "      <td>0.001502</td>\n",
       "      <td>-0.008718</td>\n",
       "      <td>0.009880</td>\n",
       "    </tr>\n",
       "    <tr>\n",
       "      <th>DistrictId</th>\n",
       "      <td>0.012973</td>\n",
       "      <td>1.000000</td>\n",
       "      <td>0.071432</td>\n",
       "      <td>-0.026613</td>\n",
       "      <td>-0.019910</td>\n",
       "      <td>0.040358</td>\n",
       "      <td>-0.120373</td>\n",
       "      <td>-0.149051</td>\n",
       "      <td>0.013430</td>\n",
       "      <td>0.065294</td>\n",
       "      <td>0.246463</td>\n",
       "      <td>0.167479</td>\n",
       "      <td>0.136095</td>\n",
       "      <td>0.304335</td>\n",
       "      <td>0.306147</td>\n",
       "      <td>0.174214</td>\n",
       "      <td>0.265100</td>\n",
       "    </tr>\n",
       "    <tr>\n",
       "      <th>Rooms</th>\n",
       "      <td>-0.005847</td>\n",
       "      <td>0.071432</td>\n",
       "      <td>1.000000</td>\n",
       "      <td>0.662893</td>\n",
       "      <td>0.131336</td>\n",
       "      <td>0.005123</td>\n",
       "      <td>-0.000665</td>\n",
       "      <td>-0.029302</td>\n",
       "      <td>-0.010612</td>\n",
       "      <td>-0.032347</td>\n",
       "      <td>0.075980</td>\n",
       "      <td>0.071335</td>\n",
       "      <td>0.012811</td>\n",
       "      <td>0.042857</td>\n",
       "      <td>0.063557</td>\n",
       "      <td>0.053618</td>\n",
       "      <td>0.550291</td>\n",
       "    </tr>\n",
       "    <tr>\n",
       "      <th>Square</th>\n",
       "      <td>-0.010071</td>\n",
       "      <td>-0.026613</td>\n",
       "      <td>0.662893</td>\n",
       "      <td>1.000000</td>\n",
       "      <td>0.196129</td>\n",
       "      <td>0.008320</td>\n",
       "      <td>0.114791</td>\n",
       "      <td>0.081505</td>\n",
       "      <td>-0.009032</td>\n",
       "      <td>-0.064479</td>\n",
       "      <td>-0.070690</td>\n",
       "      <td>-0.043120</td>\n",
       "      <td>0.035241</td>\n",
       "      <td>-0.039748</td>\n",
       "      <td>-0.022960</td>\n",
       "      <td>0.021357</td>\n",
       "      <td>0.520075</td>\n",
       "    </tr>\n",
       "    <tr>\n",
       "      <th>LifeSquare</th>\n",
       "      <td>0.018449</td>\n",
       "      <td>-0.019910</td>\n",
       "      <td>0.131336</td>\n",
       "      <td>0.196129</td>\n",
       "      <td>1.000000</td>\n",
       "      <td>-0.001195</td>\n",
       "      <td>0.024559</td>\n",
       "      <td>0.027442</td>\n",
       "      <td>-0.002210</td>\n",
       "      <td>-0.023629</td>\n",
       "      <td>-0.048363</td>\n",
       "      <td>-0.039283</td>\n",
       "      <td>0.012763</td>\n",
       "      <td>-0.026867</td>\n",
       "      <td>-0.024762</td>\n",
       "      <td>-0.007569</td>\n",
       "      <td>0.081292</td>\n",
       "    </tr>\n",
       "    <tr>\n",
       "      <th>KitchenSquare</th>\n",
       "      <td>0.019880</td>\n",
       "      <td>0.040358</td>\n",
       "      <td>0.005123</td>\n",
       "      <td>0.008320</td>\n",
       "      <td>-0.001195</td>\n",
       "      <td>1.000000</td>\n",
       "      <td>-0.011397</td>\n",
       "      <td>0.000780</td>\n",
       "      <td>0.000958</td>\n",
       "      <td>-0.005622</td>\n",
       "      <td>0.043379</td>\n",
       "      <td>0.037805</td>\n",
       "      <td>-0.015140</td>\n",
       "      <td>0.009472</td>\n",
       "      <td>0.043170</td>\n",
       "      <td>0.010216</td>\n",
       "      <td>0.028864</td>\n",
       "    </tr>\n",
       "    <tr>\n",
       "      <th>Floor</th>\n",
       "      <td>0.001348</td>\n",
       "      <td>-0.120373</td>\n",
       "      <td>-0.000665</td>\n",
       "      <td>0.114791</td>\n",
       "      <td>0.024559</td>\n",
       "      <td>-0.011397</td>\n",
       "      <td>1.000000</td>\n",
       "      <td>0.418986</td>\n",
       "      <td>0.000928</td>\n",
       "      <td>-0.016133</td>\n",
       "      <td>-0.044914</td>\n",
       "      <td>-0.016560</td>\n",
       "      <td>-0.002237</td>\n",
       "      <td>-0.138294</td>\n",
       "      <td>-0.065537</td>\n",
       "      <td>0.024264</td>\n",
       "      <td>0.128715</td>\n",
       "    </tr>\n",
       "    <tr>\n",
       "      <th>HouseFloor</th>\n",
       "      <td>-0.008376</td>\n",
       "      <td>-0.149051</td>\n",
       "      <td>-0.029302</td>\n",
       "      <td>0.081505</td>\n",
       "      <td>0.027442</td>\n",
       "      <td>0.000780</td>\n",
       "      <td>0.418986</td>\n",
       "      <td>1.000000</td>\n",
       "      <td>-0.000864</td>\n",
       "      <td>-0.004362</td>\n",
       "      <td>-0.020801</td>\n",
       "      <td>0.007194</td>\n",
       "      <td>-0.008137</td>\n",
       "      <td>-0.143973</td>\n",
       "      <td>-0.068728</td>\n",
       "      <td>0.026279</td>\n",
       "      <td>0.088280</td>\n",
       "    </tr>\n",
       "    <tr>\n",
       "      <th>HouseYear</th>\n",
       "      <td>0.005004</td>\n",
       "      <td>0.013430</td>\n",
       "      <td>-0.010612</td>\n",
       "      <td>-0.009032</td>\n",
       "      <td>-0.002210</td>\n",
       "      <td>0.000958</td>\n",
       "      <td>0.000928</td>\n",
       "      <td>-0.000864</td>\n",
       "      <td>1.000000</td>\n",
       "      <td>0.001465</td>\n",
       "      <td>0.003026</td>\n",
       "      <td>0.001970</td>\n",
       "      <td>0.000819</td>\n",
       "      <td>-0.011969</td>\n",
       "      <td>0.011245</td>\n",
       "      <td>0.003681</td>\n",
       "      <td>0.004305</td>\n",
       "    </tr>\n",
       "    <tr>\n",
       "      <th>Ecology_1</th>\n",
       "      <td>0.018097</td>\n",
       "      <td>0.065294</td>\n",
       "      <td>-0.032347</td>\n",
       "      <td>-0.064479</td>\n",
       "      <td>-0.023629</td>\n",
       "      <td>-0.005622</td>\n",
       "      <td>-0.016133</td>\n",
       "      <td>-0.004362</td>\n",
       "      <td>0.001465</td>\n",
       "      <td>1.000000</td>\n",
       "      <td>0.026464</td>\n",
       "      <td>0.009264</td>\n",
       "      <td>-0.124068</td>\n",
       "      <td>-0.043547</td>\n",
       "      <td>0.030873</td>\n",
       "      <td>-0.076749</td>\n",
       "      <td>-0.058381</td>\n",
       "    </tr>\n",
       "    <tr>\n",
       "      <th>Social_1</th>\n",
       "      <td>-0.000772</td>\n",
       "      <td>0.246463</td>\n",
       "      <td>0.075980</td>\n",
       "      <td>-0.070690</td>\n",
       "      <td>-0.048363</td>\n",
       "      <td>0.043379</td>\n",
       "      <td>-0.044914</td>\n",
       "      <td>-0.020801</td>\n",
       "      <td>0.003026</td>\n",
       "      <td>0.026464</td>\n",
       "      <td>1.000000</td>\n",
       "      <td>0.955988</td>\n",
       "      <td>0.023721</td>\n",
       "      <td>0.077133</td>\n",
       "      <td>0.524593</td>\n",
       "      <td>0.526272</td>\n",
       "      <td>0.263286</td>\n",
       "    </tr>\n",
       "    <tr>\n",
       "      <th>Social_2</th>\n",
       "      <td>-0.002033</td>\n",
       "      <td>0.167479</td>\n",
       "      <td>0.071335</td>\n",
       "      <td>-0.043120</td>\n",
       "      <td>-0.039283</td>\n",
       "      <td>0.037805</td>\n",
       "      <td>-0.016560</td>\n",
       "      <td>0.007194</td>\n",
       "      <td>0.001970</td>\n",
       "      <td>0.009264</td>\n",
       "      <td>0.955988</td>\n",
       "      <td>1.000000</td>\n",
       "      <td>0.073379</td>\n",
       "      <td>0.050458</td>\n",
       "      <td>0.473193</td>\n",
       "      <td>0.559163</td>\n",
       "      <td>0.239226</td>\n",
       "    </tr>\n",
       "    <tr>\n",
       "      <th>Social_3</th>\n",
       "      <td>-0.009358</td>\n",
       "      <td>0.136095</td>\n",
       "      <td>0.012811</td>\n",
       "      <td>0.035241</td>\n",
       "      <td>0.012763</td>\n",
       "      <td>-0.015140</td>\n",
       "      <td>-0.002237</td>\n",
       "      <td>-0.008137</td>\n",
       "      <td>0.000819</td>\n",
       "      <td>-0.124068</td>\n",
       "      <td>0.023721</td>\n",
       "      <td>0.073379</td>\n",
       "      <td>1.000000</td>\n",
       "      <td>0.133877</td>\n",
       "      <td>0.286434</td>\n",
       "      <td>0.662113</td>\n",
       "      <td>0.074878</td>\n",
       "    </tr>\n",
       "    <tr>\n",
       "      <th>Healthcare_1</th>\n",
       "      <td>-0.003879</td>\n",
       "      <td>0.304335</td>\n",
       "      <td>0.042857</td>\n",
       "      <td>-0.039748</td>\n",
       "      <td>-0.026867</td>\n",
       "      <td>0.009472</td>\n",
       "      <td>-0.138294</td>\n",
       "      <td>-0.143973</td>\n",
       "      <td>-0.011969</td>\n",
       "      <td>-0.043547</td>\n",
       "      <td>0.077133</td>\n",
       "      <td>0.050458</td>\n",
       "      <td>0.133877</td>\n",
       "      <td>1.000000</td>\n",
       "      <td>0.203177</td>\n",
       "      <td>0.057758</td>\n",
       "      <td>0.138755</td>\n",
       "    </tr>\n",
       "    <tr>\n",
       "      <th>Helthcare_2</th>\n",
       "      <td>0.001502</td>\n",
       "      <td>0.306147</td>\n",
       "      <td>0.063557</td>\n",
       "      <td>-0.022960</td>\n",
       "      <td>-0.024762</td>\n",
       "      <td>0.043170</td>\n",
       "      <td>-0.065537</td>\n",
       "      <td>-0.068728</td>\n",
       "      <td>0.011245</td>\n",
       "      <td>0.030873</td>\n",
       "      <td>0.524593</td>\n",
       "      <td>0.473193</td>\n",
       "      <td>0.286434</td>\n",
       "      <td>0.203177</td>\n",
       "      <td>1.000000</td>\n",
       "      <td>0.474085</td>\n",
       "      <td>0.253090</td>\n",
       "    </tr>\n",
       "    <tr>\n",
       "      <th>Shops_1</th>\n",
       "      <td>-0.008718</td>\n",
       "      <td>0.174214</td>\n",
       "      <td>0.053618</td>\n",
       "      <td>0.021357</td>\n",
       "      <td>-0.007569</td>\n",
       "      <td>0.010216</td>\n",
       "      <td>0.024264</td>\n",
       "      <td>0.026279</td>\n",
       "      <td>0.003681</td>\n",
       "      <td>-0.076749</td>\n",
       "      <td>0.526272</td>\n",
       "      <td>0.559163</td>\n",
       "      <td>0.662113</td>\n",
       "      <td>0.057758</td>\n",
       "      <td>0.474085</td>\n",
       "      <td>1.000000</td>\n",
       "      <td>0.180876</td>\n",
       "    </tr>\n",
       "    <tr>\n",
       "      <th>Price</th>\n",
       "      <td>0.009880</td>\n",
       "      <td>0.265100</td>\n",
       "      <td>0.550291</td>\n",
       "      <td>0.520075</td>\n",
       "      <td>0.081292</td>\n",
       "      <td>0.028864</td>\n",
       "      <td>0.128715</td>\n",
       "      <td>0.088280</td>\n",
       "      <td>0.004305</td>\n",
       "      <td>-0.058381</td>\n",
       "      <td>0.263286</td>\n",
       "      <td>0.239226</td>\n",
       "      <td>0.074878</td>\n",
       "      <td>0.138755</td>\n",
       "      <td>0.253090</td>\n",
       "      <td>0.180876</td>\n",
       "      <td>1.000000</td>\n",
       "    </tr>\n",
       "  </tbody>\n",
       "</table>\n",
       "</div>"
      ],
      "text/plain": [
       "                     Id  DistrictId     Rooms    Square  LifeSquare  \\\n",
       "Id             1.000000    0.012973 -0.005847 -0.010071    0.018449   \n",
       "DistrictId     0.012973    1.000000  0.071432 -0.026613   -0.019910   \n",
       "Rooms         -0.005847    0.071432  1.000000  0.662893    0.131336   \n",
       "Square        -0.010071   -0.026613  0.662893  1.000000    0.196129   \n",
       "LifeSquare     0.018449   -0.019910  0.131336  0.196129    1.000000   \n",
       "KitchenSquare  0.019880    0.040358  0.005123  0.008320   -0.001195   \n",
       "Floor          0.001348   -0.120373 -0.000665  0.114791    0.024559   \n",
       "HouseFloor    -0.008376   -0.149051 -0.029302  0.081505    0.027442   \n",
       "HouseYear      0.005004    0.013430 -0.010612 -0.009032   -0.002210   \n",
       "Ecology_1      0.018097    0.065294 -0.032347 -0.064479   -0.023629   \n",
       "Social_1      -0.000772    0.246463  0.075980 -0.070690   -0.048363   \n",
       "Social_2      -0.002033    0.167479  0.071335 -0.043120   -0.039283   \n",
       "Social_3      -0.009358    0.136095  0.012811  0.035241    0.012763   \n",
       "Healthcare_1  -0.003879    0.304335  0.042857 -0.039748   -0.026867   \n",
       "Helthcare_2    0.001502    0.306147  0.063557 -0.022960   -0.024762   \n",
       "Shops_1       -0.008718    0.174214  0.053618  0.021357   -0.007569   \n",
       "Price          0.009880    0.265100  0.550291  0.520075    0.081292   \n",
       "\n",
       "               KitchenSquare     Floor  HouseFloor  HouseYear  Ecology_1  \\\n",
       "Id                  0.019880  0.001348   -0.008376   0.005004   0.018097   \n",
       "DistrictId          0.040358 -0.120373   -0.149051   0.013430   0.065294   \n",
       "Rooms               0.005123 -0.000665   -0.029302  -0.010612  -0.032347   \n",
       "Square              0.008320  0.114791    0.081505  -0.009032  -0.064479   \n",
       "LifeSquare         -0.001195  0.024559    0.027442  -0.002210  -0.023629   \n",
       "KitchenSquare       1.000000 -0.011397    0.000780   0.000958  -0.005622   \n",
       "Floor              -0.011397  1.000000    0.418986   0.000928  -0.016133   \n",
       "HouseFloor          0.000780  0.418986    1.000000  -0.000864  -0.004362   \n",
       "HouseYear           0.000958  0.000928   -0.000864   1.000000   0.001465   \n",
       "Ecology_1          -0.005622 -0.016133   -0.004362   0.001465   1.000000   \n",
       "Social_1            0.043379 -0.044914   -0.020801   0.003026   0.026464   \n",
       "Social_2            0.037805 -0.016560    0.007194   0.001970   0.009264   \n",
       "Social_3           -0.015140 -0.002237   -0.008137   0.000819  -0.124068   \n",
       "Healthcare_1        0.009472 -0.138294   -0.143973  -0.011969  -0.043547   \n",
       "Helthcare_2         0.043170 -0.065537   -0.068728   0.011245   0.030873   \n",
       "Shops_1             0.010216  0.024264    0.026279   0.003681  -0.076749   \n",
       "Price               0.028864  0.128715    0.088280   0.004305  -0.058381   \n",
       "\n",
       "               Social_1  Social_2  Social_3  Healthcare_1  Helthcare_2  \\\n",
       "Id            -0.000772 -0.002033 -0.009358     -0.003879     0.001502   \n",
       "DistrictId     0.246463  0.167479  0.136095      0.304335     0.306147   \n",
       "Rooms          0.075980  0.071335  0.012811      0.042857     0.063557   \n",
       "Square        -0.070690 -0.043120  0.035241     -0.039748    -0.022960   \n",
       "LifeSquare    -0.048363 -0.039283  0.012763     -0.026867    -0.024762   \n",
       "KitchenSquare  0.043379  0.037805 -0.015140      0.009472     0.043170   \n",
       "Floor         -0.044914 -0.016560 -0.002237     -0.138294    -0.065537   \n",
       "HouseFloor    -0.020801  0.007194 -0.008137     -0.143973    -0.068728   \n",
       "HouseYear      0.003026  0.001970  0.000819     -0.011969     0.011245   \n",
       "Ecology_1      0.026464  0.009264 -0.124068     -0.043547     0.030873   \n",
       "Social_1       1.000000  0.955988  0.023721      0.077133     0.524593   \n",
       "Social_2       0.955988  1.000000  0.073379      0.050458     0.473193   \n",
       "Social_3       0.023721  0.073379  1.000000      0.133877     0.286434   \n",
       "Healthcare_1   0.077133  0.050458  0.133877      1.000000     0.203177   \n",
       "Helthcare_2    0.524593  0.473193  0.286434      0.203177     1.000000   \n",
       "Shops_1        0.526272  0.559163  0.662113      0.057758     0.474085   \n",
       "Price          0.263286  0.239226  0.074878      0.138755     0.253090   \n",
       "\n",
       "                Shops_1     Price  \n",
       "Id            -0.008718  0.009880  \n",
       "DistrictId     0.174214  0.265100  \n",
       "Rooms          0.053618  0.550291  \n",
       "Square         0.021357  0.520075  \n",
       "LifeSquare    -0.007569  0.081292  \n",
       "KitchenSquare  0.010216  0.028864  \n",
       "Floor          0.024264  0.128715  \n",
       "HouseFloor     0.026279  0.088280  \n",
       "HouseYear      0.003681  0.004305  \n",
       "Ecology_1     -0.076749 -0.058381  \n",
       "Social_1       0.526272  0.263286  \n",
       "Social_2       0.559163  0.239226  \n",
       "Social_3       0.662113  0.074878  \n",
       "Healthcare_1   0.057758  0.138755  \n",
       "Helthcare_2    0.474085  0.253090  \n",
       "Shops_1        1.000000  0.180876  \n",
       "Price          0.180876  1.000000  "
      ]
     },
     "execution_count": 5,
     "metadata": {},
     "output_type": "execute_result"
    }
   ],
   "source": [
    "data.corr()"
   ]
  },
  {
   "cell_type": "code",
   "execution_count": 6,
   "metadata": {},
   "outputs": [],
   "source": [
    "data = data.drop('Healthcare_1', axis=1)"
   ]
  },
  {
   "cell_type": "code",
   "execution_count": 7,
   "metadata": {},
   "outputs": [
    {
     "data": {
      "text/plain": [
       "9317        1910\n",
       "2656        1912\n",
       "5111        1912\n",
       "910         1914\n",
       "4189        4968\n",
       "1497    20052011\n",
       "Name: HouseYear, dtype: int64"
      ]
     },
     "execution_count": 7,
     "metadata": {},
     "output_type": "execute_result"
    }
   ],
   "source": [
    "data.loc[(~data['HouseYear'].between(1915, 2020)), 'HouseYear'].sort_values()"
   ]
  },
  {
   "cell_type": "code",
   "execution_count": 8,
   "metadata": {},
   "outputs": [],
   "source": [
    "data.loc[4189, 'HouseYear'] = 1968\n",
    "data.loc[1497, 'HouseYear'] = 2011"
   ]
  },
  {
   "cell_type": "code",
   "execution_count": 9,
   "metadata": {},
   "outputs": [
    {
     "data": {
      "text/html": [
       "<div>\n",
       "<style scoped>\n",
       "    .dataframe tbody tr th:only-of-type {\n",
       "        vertical-align: middle;\n",
       "    }\n",
       "\n",
       "    .dataframe tbody tr th {\n",
       "        vertical-align: top;\n",
       "    }\n",
       "\n",
       "    .dataframe thead th {\n",
       "        text-align: right;\n",
       "    }\n",
       "</style>\n",
       "<table border=\"1\" class=\"dataframe\">\n",
       "  <thead>\n",
       "    <tr style=\"text-align: right;\">\n",
       "      <th></th>\n",
       "      <th>Id</th>\n",
       "      <th>DistrictId</th>\n",
       "      <th>Rooms</th>\n",
       "      <th>Square</th>\n",
       "      <th>LifeSquare</th>\n",
       "      <th>KitchenSquare</th>\n",
       "      <th>Floor</th>\n",
       "      <th>HouseFloor</th>\n",
       "      <th>HouseYear</th>\n",
       "      <th>Ecology_1</th>\n",
       "      <th>Ecology_2</th>\n",
       "      <th>Ecology_3</th>\n",
       "      <th>Social_1</th>\n",
       "      <th>Social_2</th>\n",
       "      <th>Social_3</th>\n",
       "      <th>Helthcare_2</th>\n",
       "      <th>Shops_1</th>\n",
       "      <th>Shops_2</th>\n",
       "      <th>Price</th>\n",
       "    </tr>\n",
       "  </thead>\n",
       "  <tbody>\n",
       "    <tr>\n",
       "      <th>377</th>\n",
       "      <td>5927</td>\n",
       "      <td>57</td>\n",
       "      <td>10.0</td>\n",
       "      <td>59.056975</td>\n",
       "      <td>36.223072</td>\n",
       "      <td>10.0</td>\n",
       "      <td>22</td>\n",
       "      <td>22.0</td>\n",
       "      <td>2002</td>\n",
       "      <td>0.090799</td>\n",
       "      <td>B</td>\n",
       "      <td>B</td>\n",
       "      <td>74</td>\n",
       "      <td>19083</td>\n",
       "      <td>2</td>\n",
       "      <td>5</td>\n",
       "      <td>15</td>\n",
       "      <td>B</td>\n",
       "      <td>317265.323792</td>\n",
       "    </tr>\n",
       "    <tr>\n",
       "      <th>1454</th>\n",
       "      <td>8491</td>\n",
       "      <td>1</td>\n",
       "      <td>19.0</td>\n",
       "      <td>42.006046</td>\n",
       "      <td>21.779288</td>\n",
       "      <td>7.0</td>\n",
       "      <td>17</td>\n",
       "      <td>17.0</td>\n",
       "      <td>2014</td>\n",
       "      <td>0.007122</td>\n",
       "      <td>B</td>\n",
       "      <td>B</td>\n",
       "      <td>1</td>\n",
       "      <td>264</td>\n",
       "      <td>0</td>\n",
       "      <td>0</td>\n",
       "      <td>1</td>\n",
       "      <td>B</td>\n",
       "      <td>78364.616704</td>\n",
       "    </tr>\n",
       "    <tr>\n",
       "      <th>2170</th>\n",
       "      <td>14003</td>\n",
       "      <td>99</td>\n",
       "      <td>6.0</td>\n",
       "      <td>59.414334</td>\n",
       "      <td>38.702244</td>\n",
       "      <td>6.0</td>\n",
       "      <td>7</td>\n",
       "      <td>9.0</td>\n",
       "      <td>1969</td>\n",
       "      <td>0.033494</td>\n",
       "      <td>B</td>\n",
       "      <td>B</td>\n",
       "      <td>66</td>\n",
       "      <td>10573</td>\n",
       "      <td>1</td>\n",
       "      <td>3</td>\n",
       "      <td>8</td>\n",
       "      <td>B</td>\n",
       "      <td>229661.964416</td>\n",
       "    </tr>\n",
       "    <tr>\n",
       "      <th>8849</th>\n",
       "      <td>14865</td>\n",
       "      <td>9</td>\n",
       "      <td>10.0</td>\n",
       "      <td>60.871266</td>\n",
       "      <td>38.420681</td>\n",
       "      <td>10.0</td>\n",
       "      <td>3</td>\n",
       "      <td>2.0</td>\n",
       "      <td>1994</td>\n",
       "      <td>0.161532</td>\n",
       "      <td>B</td>\n",
       "      <td>B</td>\n",
       "      <td>25</td>\n",
       "      <td>5648</td>\n",
       "      <td>1</td>\n",
       "      <td>2</td>\n",
       "      <td>4</td>\n",
       "      <td>B</td>\n",
       "      <td>172329.270863</td>\n",
       "    </tr>\n",
       "  </tbody>\n",
       "</table>\n",
       "</div>"
      ],
      "text/plain": [
       "         Id  DistrictId  Rooms     Square  LifeSquare  KitchenSquare  Floor  \\\n",
       "377    5927          57   10.0  59.056975   36.223072           10.0     22   \n",
       "1454   8491           1   19.0  42.006046   21.779288            7.0     17   \n",
       "2170  14003          99    6.0  59.414334   38.702244            6.0      7   \n",
       "8849  14865           9   10.0  60.871266   38.420681           10.0      3   \n",
       "\n",
       "      HouseFloor  HouseYear  Ecology_1 Ecology_2 Ecology_3  Social_1  \\\n",
       "377         22.0       2002   0.090799         B         B        74   \n",
       "1454        17.0       2014   0.007122         B         B         1   \n",
       "2170         9.0       1969   0.033494         B         B        66   \n",
       "8849         2.0       1994   0.161532         B         B        25   \n",
       "\n",
       "      Social_2  Social_3  Helthcare_2  Shops_1 Shops_2          Price  \n",
       "377      19083         2            5       15       B  317265.323792  \n",
       "1454       264         0            0        1       B   78364.616704  \n",
       "2170     10573         1            3        8       B  229661.964416  \n",
       "8849      5648         1            2        4       B  172329.270863  "
      ]
     },
     "execution_count": 9,
     "metadata": {},
     "output_type": "execute_result"
    }
   ],
   "source": [
    "data.loc[data['Rooms']>5]"
   ]
  },
  {
   "cell_type": "code",
   "execution_count": 10,
   "metadata": {},
   "outputs": [],
   "source": [
    "data.loc[377, 'Rooms'] = 3\n",
    "data.loc[1454, 'Rooms'] = 2\n",
    "data.loc[2170, 'Rooms'] = 3\n",
    "data.loc[8849, 'Rooms'] = 3"
   ]
  },
  {
   "cell_type": "code",
   "execution_count": 11,
   "metadata": {},
   "outputs": [
    {
     "data": {
      "text/html": [
       "<div>\n",
       "<style scoped>\n",
       "    .dataframe tbody tr th:only-of-type {\n",
       "        vertical-align: middle;\n",
       "    }\n",
       "\n",
       "    .dataframe tbody tr th {\n",
       "        vertical-align: top;\n",
       "    }\n",
       "\n",
       "    .dataframe thead th {\n",
       "        text-align: right;\n",
       "    }\n",
       "</style>\n",
       "<table border=\"1\" class=\"dataframe\">\n",
       "  <thead>\n",
       "    <tr style=\"text-align: right;\">\n",
       "      <th></th>\n",
       "      <th>Id</th>\n",
       "      <th>DistrictId</th>\n",
       "      <th>Rooms</th>\n",
       "      <th>Square</th>\n",
       "      <th>LifeSquare</th>\n",
       "      <th>KitchenSquare</th>\n",
       "      <th>Floor</th>\n",
       "      <th>HouseFloor</th>\n",
       "      <th>HouseYear</th>\n",
       "      <th>Ecology_1</th>\n",
       "      <th>Ecology_2</th>\n",
       "      <th>Ecology_3</th>\n",
       "      <th>Social_1</th>\n",
       "      <th>Social_2</th>\n",
       "      <th>Social_3</th>\n",
       "      <th>Helthcare_2</th>\n",
       "      <th>Shops_1</th>\n",
       "      <th>Shops_2</th>\n",
       "      <th>Price</th>\n",
       "    </tr>\n",
       "  </thead>\n",
       "  <tbody>\n",
       "    <tr>\n",
       "      <th>1397</th>\n",
       "      <td>12638</td>\n",
       "      <td>27</td>\n",
       "      <td>0.0</td>\n",
       "      <td>138.427694</td>\n",
       "      <td>136.215499</td>\n",
       "      <td>0.0</td>\n",
       "      <td>4</td>\n",
       "      <td>3.0</td>\n",
       "      <td>2016</td>\n",
       "      <td>0.075424</td>\n",
       "      <td>B</td>\n",
       "      <td>B</td>\n",
       "      <td>11</td>\n",
       "      <td>3097</td>\n",
       "      <td>0</td>\n",
       "      <td>0</td>\n",
       "      <td>0</td>\n",
       "      <td>B</td>\n",
       "      <td>268394.744389</td>\n",
       "    </tr>\n",
       "    <tr>\n",
       "      <th>1981</th>\n",
       "      <td>7917</td>\n",
       "      <td>27</td>\n",
       "      <td>0.0</td>\n",
       "      <td>212.932361</td>\n",
       "      <td>211.231125</td>\n",
       "      <td>0.0</td>\n",
       "      <td>2</td>\n",
       "      <td>3.0</td>\n",
       "      <td>2008</td>\n",
       "      <td>0.211401</td>\n",
       "      <td>B</td>\n",
       "      <td>B</td>\n",
       "      <td>9</td>\n",
       "      <td>1892</td>\n",
       "      <td>0</td>\n",
       "      <td>0</td>\n",
       "      <td>1</td>\n",
       "      <td>B</td>\n",
       "      <td>302211.260887</td>\n",
       "    </tr>\n",
       "    <tr>\n",
       "      <th>2269</th>\n",
       "      <td>7317</td>\n",
       "      <td>27</td>\n",
       "      <td>0.0</td>\n",
       "      <td>41.790881</td>\n",
       "      <td>NaN</td>\n",
       "      <td>0.0</td>\n",
       "      <td>13</td>\n",
       "      <td>0.0</td>\n",
       "      <td>1977</td>\n",
       "      <td>0.211401</td>\n",
       "      <td>B</td>\n",
       "      <td>B</td>\n",
       "      <td>9</td>\n",
       "      <td>1892</td>\n",
       "      <td>0</td>\n",
       "      <td>0</td>\n",
       "      <td>1</td>\n",
       "      <td>B</td>\n",
       "      <td>98129.976788</td>\n",
       "    </tr>\n",
       "    <tr>\n",
       "      <th>3911</th>\n",
       "      <td>770</td>\n",
       "      <td>28</td>\n",
       "      <td>0.0</td>\n",
       "      <td>49.483501</td>\n",
       "      <td>NaN</td>\n",
       "      <td>0.0</td>\n",
       "      <td>16</td>\n",
       "      <td>0.0</td>\n",
       "      <td>2015</td>\n",
       "      <td>0.118537</td>\n",
       "      <td>B</td>\n",
       "      <td>B</td>\n",
       "      <td>30</td>\n",
       "      <td>6207</td>\n",
       "      <td>1</td>\n",
       "      <td>1</td>\n",
       "      <td>0</td>\n",
       "      <td>B</td>\n",
       "      <td>217009.338463</td>\n",
       "    </tr>\n",
       "    <tr>\n",
       "      <th>4366</th>\n",
       "      <td>456</td>\n",
       "      <td>6</td>\n",
       "      <td>0.0</td>\n",
       "      <td>81.491446</td>\n",
       "      <td>NaN</td>\n",
       "      <td>0.0</td>\n",
       "      <td>4</td>\n",
       "      <td>0.0</td>\n",
       "      <td>1977</td>\n",
       "      <td>0.243205</td>\n",
       "      <td>B</td>\n",
       "      <td>B</td>\n",
       "      <td>5</td>\n",
       "      <td>1564</td>\n",
       "      <td>0</td>\n",
       "      <td>0</td>\n",
       "      <td>0</td>\n",
       "      <td>B</td>\n",
       "      <td>212864.799112</td>\n",
       "    </tr>\n",
       "    <tr>\n",
       "      <th>4853</th>\n",
       "      <td>3224</td>\n",
       "      <td>27</td>\n",
       "      <td>0.0</td>\n",
       "      <td>2.377248</td>\n",
       "      <td>0.873147</td>\n",
       "      <td>0.0</td>\n",
       "      <td>1</td>\n",
       "      <td>0.0</td>\n",
       "      <td>1977</td>\n",
       "      <td>0.017647</td>\n",
       "      <td>B</td>\n",
       "      <td>B</td>\n",
       "      <td>2</td>\n",
       "      <td>469</td>\n",
       "      <td>0</td>\n",
       "      <td>0</td>\n",
       "      <td>0</td>\n",
       "      <td>B</td>\n",
       "      <td>126596.941798</td>\n",
       "    </tr>\n",
       "    <tr>\n",
       "      <th>6149</th>\n",
       "      <td>3159</td>\n",
       "      <td>88</td>\n",
       "      <td>0.0</td>\n",
       "      <td>38.697117</td>\n",
       "      <td>19.345131</td>\n",
       "      <td>9.0</td>\n",
       "      <td>9</td>\n",
       "      <td>16.0</td>\n",
       "      <td>1982</td>\n",
       "      <td>0.127376</td>\n",
       "      <td>B</td>\n",
       "      <td>B</td>\n",
       "      <td>43</td>\n",
       "      <td>8429</td>\n",
       "      <td>3</td>\n",
       "      <td>3</td>\n",
       "      <td>9</td>\n",
       "      <td>B</td>\n",
       "      <td>158998.110646</td>\n",
       "    </tr>\n",
       "    <tr>\n",
       "      <th>8834</th>\n",
       "      <td>9443</td>\n",
       "      <td>27</td>\n",
       "      <td>0.0</td>\n",
       "      <td>87.762616</td>\n",
       "      <td>85.125471</td>\n",
       "      <td>0.0</td>\n",
       "      <td>5</td>\n",
       "      <td>15.0</td>\n",
       "      <td>1977</td>\n",
       "      <td>0.211401</td>\n",
       "      <td>B</td>\n",
       "      <td>B</td>\n",
       "      <td>9</td>\n",
       "      <td>1892</td>\n",
       "      <td>0</td>\n",
       "      <td>0</td>\n",
       "      <td>1</td>\n",
       "      <td>B</td>\n",
       "      <td>219281.918007</td>\n",
       "    </tr>\n",
       "  </tbody>\n",
       "</table>\n",
       "</div>"
      ],
      "text/plain": [
       "         Id  DistrictId  Rooms      Square  LifeSquare  KitchenSquare  Floor  \\\n",
       "1397  12638          27    0.0  138.427694  136.215499            0.0      4   \n",
       "1981   7917          27    0.0  212.932361  211.231125            0.0      2   \n",
       "2269   7317          27    0.0   41.790881         NaN            0.0     13   \n",
       "3911    770          28    0.0   49.483501         NaN            0.0     16   \n",
       "4366    456           6    0.0   81.491446         NaN            0.0      4   \n",
       "4853   3224          27    0.0    2.377248    0.873147            0.0      1   \n",
       "6149   3159          88    0.0   38.697117   19.345131            9.0      9   \n",
       "8834   9443          27    0.0   87.762616   85.125471            0.0      5   \n",
       "\n",
       "      HouseFloor  HouseYear  Ecology_1 Ecology_2 Ecology_3  Social_1  \\\n",
       "1397         3.0       2016   0.075424         B         B        11   \n",
       "1981         3.0       2008   0.211401         B         B         9   \n",
       "2269         0.0       1977   0.211401         B         B         9   \n",
       "3911         0.0       2015   0.118537         B         B        30   \n",
       "4366         0.0       1977   0.243205         B         B         5   \n",
       "4853         0.0       1977   0.017647         B         B         2   \n",
       "6149        16.0       1982   0.127376         B         B        43   \n",
       "8834        15.0       1977   0.211401         B         B         9   \n",
       "\n",
       "      Social_2  Social_3  Helthcare_2  Shops_1 Shops_2          Price  \n",
       "1397      3097         0            0        0       B  268394.744389  \n",
       "1981      1892         0            0        1       B  302211.260887  \n",
       "2269      1892         0            0        1       B   98129.976788  \n",
       "3911      6207         1            1        0       B  217009.338463  \n",
       "4366      1564         0            0        0       B  212864.799112  \n",
       "4853       469         0            0        0       B  126596.941798  \n",
       "6149      8429         3            3        9       B  158998.110646  \n",
       "8834      1892         0            0        1       B  219281.918007  "
      ]
     },
     "execution_count": 11,
     "metadata": {},
     "output_type": "execute_result"
    }
   ],
   "source": [
    "data.loc[data['Rooms']==0]"
   ]
  },
  {
   "cell_type": "code",
   "execution_count": 12,
   "metadata": {},
   "outputs": [],
   "source": [
    "data.drop(data.loc[data['Rooms']==0].index, axis=0, inplace=True)"
   ]
  },
  {
   "cell_type": "code",
   "execution_count": 13,
   "metadata": {},
   "outputs": [
    {
     "data": {
      "text/plain": [
       "1422     95.617533\n",
       "1503    108.057398\n",
       "1982    275.645284\n",
       "3268    121.577423\n",
       "3271     42.003293\n",
       "4431     39.906082\n",
       "4487    183.382273\n",
       "4762    114.313752\n",
       "5361    118.871952\n",
       "5466    112.135525\n",
       "6623    111.045799\n",
       "6988    124.933289\n",
       "8511    198.930182\n",
       "8659    119.008007\n",
       "8726     90.762276\n",
       "8925     85.313605\n",
       "9432    147.709302\n",
       "9699    117.855969\n",
       "Name: Square, dtype: float64"
      ]
     },
     "execution_count": 13,
     "metadata": {},
     "output_type": "execute_result"
    }
   ],
   "source": [
    "data.loc[data['Rooms']==5, 'Square']"
   ]
  },
  {
   "cell_type": "code",
   "execution_count": 14,
   "metadata": {},
   "outputs": [],
   "source": [
    "data.drop([3271, 4431], axis=0, inplace=True)"
   ]
  },
  {
   "cell_type": "code",
   "execution_count": 15,
   "metadata": {},
   "outputs": [
    {
     "data": {
      "text/plain": [
       "Id                     11602\n",
       "DistrictId                30\n",
       "Rooms                      2\n",
       "Square               641.065\n",
       "LifeSquare           638.163\n",
       "KitchenSquare             10\n",
       "Floor                     20\n",
       "HouseFloor                19\n",
       "HouseYear               2019\n",
       "Ecology_1        7.81528e-05\n",
       "Ecology_2                  B\n",
       "Ecology_3                  B\n",
       "Social_1                  22\n",
       "Social_2                6398\n",
       "Social_3                 141\n",
       "Helthcare_2                3\n",
       "Shops_1                   23\n",
       "Shops_2                    B\n",
       "Price                 133530\n",
       "Name: 6977, dtype: object"
      ]
     },
     "execution_count": 15,
     "metadata": {},
     "output_type": "execute_result"
    }
   ],
   "source": [
    "data.loc[6977]"
   ]
  },
  {
   "cell_type": "code",
   "execution_count": 16,
   "metadata": {},
   "outputs": [],
   "source": [
    "data.loc[6977, 'Square'] = 64.1065\n",
    "data.loc[6977, 'LifeSquare'] = 63.8163\n",
    "data.loc[4262, 'Square'] = 60.4706\n",
    "data.loc[4262, 'LifeSquare'] = 60.3706\n",
    "data.loc[4690, 'Square'] = 40.9425\n",
    "data.loc[4690, 'LifeSquare'] = 41.064\n",
    "data.loc[4328, 'LifeSquare'] = 74.8059\n",
    "data.loc[1064, 'KitchenSquare'] = data.loc[1064, 'Square'] - data.loc[1064, 'LifeSquare']\n",
    "data.loc[8584, 'KitchenSquare'] = data.loc[8584, 'Square'] - data.loc[8584, 'LifeSquare']"
   ]
  },
  {
   "cell_type": "code",
   "execution_count": 17,
   "metadata": {},
   "outputs": [
    {
     "data": {
      "text/html": [
       "<div>\n",
       "<style scoped>\n",
       "    .dataframe tbody tr th:only-of-type {\n",
       "        vertical-align: middle;\n",
       "    }\n",
       "\n",
       "    .dataframe tbody tr th {\n",
       "        vertical-align: top;\n",
       "    }\n",
       "\n",
       "    .dataframe thead th {\n",
       "        text-align: right;\n",
       "    }\n",
       "</style>\n",
       "<table border=\"1\" class=\"dataframe\">\n",
       "  <thead>\n",
       "    <tr style=\"text-align: right;\">\n",
       "      <th></th>\n",
       "      <th>Id</th>\n",
       "      <th>DistrictId</th>\n",
       "      <th>Rooms</th>\n",
       "      <th>Square</th>\n",
       "      <th>LifeSquare</th>\n",
       "      <th>KitchenSquare</th>\n",
       "      <th>Floor</th>\n",
       "      <th>HouseFloor</th>\n",
       "      <th>HouseYear</th>\n",
       "      <th>Ecology_1</th>\n",
       "      <th>Ecology_2</th>\n",
       "      <th>Ecology_3</th>\n",
       "      <th>Social_1</th>\n",
       "      <th>Social_2</th>\n",
       "      <th>Social_3</th>\n",
       "      <th>Helthcare_2</th>\n",
       "      <th>Shops_1</th>\n",
       "      <th>Shops_2</th>\n",
       "      <th>Price</th>\n",
       "    </tr>\n",
       "  </thead>\n",
       "  <tbody>\n",
       "    <tr>\n",
       "      <th>212</th>\n",
       "      <td>1748</td>\n",
       "      <td>88</td>\n",
       "      <td>2.0</td>\n",
       "      <td>5.497061</td>\n",
       "      <td>67.628717</td>\n",
       "      <td>1.0</td>\n",
       "      <td>24</td>\n",
       "      <td>22.0</td>\n",
       "      <td>1977</td>\n",
       "      <td>0.127376</td>\n",
       "      <td>B</td>\n",
       "      <td>B</td>\n",
       "      <td>43</td>\n",
       "      <td>8429</td>\n",
       "      <td>3</td>\n",
       "      <td>3</td>\n",
       "      <td>9</td>\n",
       "      <td>B</td>\n",
       "      <td>412511.088764</td>\n",
       "    </tr>\n",
       "    <tr>\n",
       "      <th>1316</th>\n",
       "      <td>11526</td>\n",
       "      <td>27</td>\n",
       "      <td>1.0</td>\n",
       "      <td>4.633498</td>\n",
       "      <td>1.969969</td>\n",
       "      <td>1.0</td>\n",
       "      <td>18</td>\n",
       "      <td>1.0</td>\n",
       "      <td>1977</td>\n",
       "      <td>0.011654</td>\n",
       "      <td>B</td>\n",
       "      <td>B</td>\n",
       "      <td>4</td>\n",
       "      <td>915</td>\n",
       "      <td>0</td>\n",
       "      <td>0</td>\n",
       "      <td>0</td>\n",
       "      <td>B</td>\n",
       "      <td>107604.269441</td>\n",
       "    </tr>\n",
       "    <tr>\n",
       "      <th>1608</th>\n",
       "      <td>10202</td>\n",
       "      <td>6</td>\n",
       "      <td>1.0</td>\n",
       "      <td>2.596351</td>\n",
       "      <td>4.604943</td>\n",
       "      <td>1.0</td>\n",
       "      <td>3</td>\n",
       "      <td>25.0</td>\n",
       "      <td>2014</td>\n",
       "      <td>0.243205</td>\n",
       "      <td>B</td>\n",
       "      <td>B</td>\n",
       "      <td>5</td>\n",
       "      <td>1564</td>\n",
       "      <td>0</td>\n",
       "      <td>0</td>\n",
       "      <td>0</td>\n",
       "      <td>B</td>\n",
       "      <td>137597.601458</td>\n",
       "    </tr>\n",
       "    <tr>\n",
       "      <th>3280</th>\n",
       "      <td>10527</td>\n",
       "      <td>27</td>\n",
       "      <td>1.0</td>\n",
       "      <td>4.380726</td>\n",
       "      <td>40.805837</td>\n",
       "      <td>1.0</td>\n",
       "      <td>10</td>\n",
       "      <td>17.0</td>\n",
       "      <td>2013</td>\n",
       "      <td>0.211401</td>\n",
       "      <td>B</td>\n",
       "      <td>B</td>\n",
       "      <td>9</td>\n",
       "      <td>1892</td>\n",
       "      <td>0</td>\n",
       "      <td>0</td>\n",
       "      <td>1</td>\n",
       "      <td>B</td>\n",
       "      <td>97560.720383</td>\n",
       "    </tr>\n",
       "    <tr>\n",
       "      <th>3413</th>\n",
       "      <td>9487</td>\n",
       "      <td>5</td>\n",
       "      <td>1.0</td>\n",
       "      <td>5.129222</td>\n",
       "      <td>5.549458</td>\n",
       "      <td>1.0</td>\n",
       "      <td>1</td>\n",
       "      <td>1.0</td>\n",
       "      <td>1977</td>\n",
       "      <td>0.150818</td>\n",
       "      <td>B</td>\n",
       "      <td>B</td>\n",
       "      <td>16</td>\n",
       "      <td>3433</td>\n",
       "      <td>4</td>\n",
       "      <td>4</td>\n",
       "      <td>5</td>\n",
       "      <td>B</td>\n",
       "      <td>369472.403061</td>\n",
       "    </tr>\n",
       "    <tr>\n",
       "      <th>4739</th>\n",
       "      <td>12676</td>\n",
       "      <td>81</td>\n",
       "      <td>3.0</td>\n",
       "      <td>13.784865</td>\n",
       "      <td>15.988889</td>\n",
       "      <td>7.0</td>\n",
       "      <td>4</td>\n",
       "      <td>5.0</td>\n",
       "      <td>1960</td>\n",
       "      <td>0.319809</td>\n",
       "      <td>B</td>\n",
       "      <td>B</td>\n",
       "      <td>25</td>\n",
       "      <td>4756</td>\n",
       "      <td>16</td>\n",
       "      <td>5</td>\n",
       "      <td>8</td>\n",
       "      <td>B</td>\n",
       "      <td>78388.806186</td>\n",
       "    </tr>\n",
       "    <tr>\n",
       "      <th>4900</th>\n",
       "      <td>4504</td>\n",
       "      <td>27</td>\n",
       "      <td>3.0</td>\n",
       "      <td>4.390331</td>\n",
       "      <td>5.610772</td>\n",
       "      <td>1.0</td>\n",
       "      <td>8</td>\n",
       "      <td>19.0</td>\n",
       "      <td>2016</td>\n",
       "      <td>0.211401</td>\n",
       "      <td>B</td>\n",
       "      <td>B</td>\n",
       "      <td>9</td>\n",
       "      <td>1892</td>\n",
       "      <td>0</td>\n",
       "      <td>0</td>\n",
       "      <td>1</td>\n",
       "      <td>B</td>\n",
       "      <td>161379.067034</td>\n",
       "    </tr>\n",
       "    <tr>\n",
       "      <th>6392</th>\n",
       "      <td>14786</td>\n",
       "      <td>1</td>\n",
       "      <td>1.0</td>\n",
       "      <td>1.136859</td>\n",
       "      <td>4.525736</td>\n",
       "      <td>1.0</td>\n",
       "      <td>3</td>\n",
       "      <td>1.0</td>\n",
       "      <td>1977</td>\n",
       "      <td>0.007122</td>\n",
       "      <td>B</td>\n",
       "      <td>B</td>\n",
       "      <td>1</td>\n",
       "      <td>264</td>\n",
       "      <td>0</td>\n",
       "      <td>0</td>\n",
       "      <td>1</td>\n",
       "      <td>B</td>\n",
       "      <td>181434.825589</td>\n",
       "    </tr>\n",
       "    <tr>\n",
       "      <th>8030</th>\n",
       "      <td>13265</td>\n",
       "      <td>1</td>\n",
       "      <td>3.0</td>\n",
       "      <td>4.823679</td>\n",
       "      <td>79.767964</td>\n",
       "      <td>0.0</td>\n",
       "      <td>6</td>\n",
       "      <td>17.0</td>\n",
       "      <td>1977</td>\n",
       "      <td>0.007122</td>\n",
       "      <td>B</td>\n",
       "      <td>B</td>\n",
       "      <td>1</td>\n",
       "      <td>264</td>\n",
       "      <td>0</td>\n",
       "      <td>0</td>\n",
       "      <td>1</td>\n",
       "      <td>B</td>\n",
       "      <td>237716.681261</td>\n",
       "    </tr>\n",
       "    <tr>\n",
       "      <th>8283</th>\n",
       "      <td>15744</td>\n",
       "      <td>34</td>\n",
       "      <td>1.0</td>\n",
       "      <td>1.988943</td>\n",
       "      <td>2.642219</td>\n",
       "      <td>1.0</td>\n",
       "      <td>21</td>\n",
       "      <td>4.0</td>\n",
       "      <td>1977</td>\n",
       "      <td>0.069753</td>\n",
       "      <td>B</td>\n",
       "      <td>B</td>\n",
       "      <td>53</td>\n",
       "      <td>13670</td>\n",
       "      <td>4</td>\n",
       "      <td>1</td>\n",
       "      <td>11</td>\n",
       "      <td>B</td>\n",
       "      <td>458378.777006</td>\n",
       "    </tr>\n",
       "    <tr>\n",
       "      <th>9294</th>\n",
       "      <td>6782</td>\n",
       "      <td>45</td>\n",
       "      <td>1.0</td>\n",
       "      <td>2.954309</td>\n",
       "      <td>5.257278</td>\n",
       "      <td>1.0</td>\n",
       "      <td>3</td>\n",
       "      <td>1.0</td>\n",
       "      <td>1977</td>\n",
       "      <td>0.195781</td>\n",
       "      <td>B</td>\n",
       "      <td>B</td>\n",
       "      <td>23</td>\n",
       "      <td>5212</td>\n",
       "      <td>6</td>\n",
       "      <td>3</td>\n",
       "      <td>2</td>\n",
       "      <td>B</td>\n",
       "      <td>438005.182323</td>\n",
       "    </tr>\n",
       "    <tr>\n",
       "      <th>9613</th>\n",
       "      <td>7657</td>\n",
       "      <td>38</td>\n",
       "      <td>1.0</td>\n",
       "      <td>4.502784</td>\n",
       "      <td>4.618547</td>\n",
       "      <td>1.0</td>\n",
       "      <td>28</td>\n",
       "      <td>1.0</td>\n",
       "      <td>1977</td>\n",
       "      <td>0.060753</td>\n",
       "      <td>B</td>\n",
       "      <td>B</td>\n",
       "      <td>15</td>\n",
       "      <td>2787</td>\n",
       "      <td>2</td>\n",
       "      <td>0</td>\n",
       "      <td>7</td>\n",
       "      <td>B</td>\n",
       "      <td>483283.488083</td>\n",
       "    </tr>\n",
       "  </tbody>\n",
       "</table>\n",
       "</div>"
      ],
      "text/plain": [
       "         Id  DistrictId  Rooms     Square  LifeSquare  KitchenSquare  Floor  \\\n",
       "212    1748          88    2.0   5.497061   67.628717            1.0     24   \n",
       "1316  11526          27    1.0   4.633498    1.969969            1.0     18   \n",
       "1608  10202           6    1.0   2.596351    4.604943            1.0      3   \n",
       "3280  10527          27    1.0   4.380726   40.805837            1.0     10   \n",
       "3413   9487           5    1.0   5.129222    5.549458            1.0      1   \n",
       "4739  12676          81    3.0  13.784865   15.988889            7.0      4   \n",
       "4900   4504          27    3.0   4.390331    5.610772            1.0      8   \n",
       "6392  14786           1    1.0   1.136859    4.525736            1.0      3   \n",
       "8030  13265           1    3.0   4.823679   79.767964            0.0      6   \n",
       "8283  15744          34    1.0   1.988943    2.642219            1.0     21   \n",
       "9294   6782          45    1.0   2.954309    5.257278            1.0      3   \n",
       "9613   7657          38    1.0   4.502784    4.618547            1.0     28   \n",
       "\n",
       "      HouseFloor  HouseYear  Ecology_1 Ecology_2 Ecology_3  Social_1  \\\n",
       "212         22.0       1977   0.127376         B         B        43   \n",
       "1316         1.0       1977   0.011654         B         B         4   \n",
       "1608        25.0       2014   0.243205         B         B         5   \n",
       "3280        17.0       2013   0.211401         B         B         9   \n",
       "3413         1.0       1977   0.150818         B         B        16   \n",
       "4739         5.0       1960   0.319809         B         B        25   \n",
       "4900        19.0       2016   0.211401         B         B         9   \n",
       "6392         1.0       1977   0.007122         B         B         1   \n",
       "8030        17.0       1977   0.007122         B         B         1   \n",
       "8283         4.0       1977   0.069753         B         B        53   \n",
       "9294         1.0       1977   0.195781         B         B        23   \n",
       "9613         1.0       1977   0.060753         B         B        15   \n",
       "\n",
       "      Social_2  Social_3  Helthcare_2  Shops_1 Shops_2          Price  \n",
       "212       8429         3            3        9       B  412511.088764  \n",
       "1316       915         0            0        0       B  107604.269441  \n",
       "1608      1564         0            0        0       B  137597.601458  \n",
       "3280      1892         0            0        1       B   97560.720383  \n",
       "3413      3433         4            4        5       B  369472.403061  \n",
       "4739      4756        16            5        8       B   78388.806186  \n",
       "4900      1892         0            0        1       B  161379.067034  \n",
       "6392       264         0            0        1       B  181434.825589  \n",
       "8030       264         0            0        1       B  237716.681261  \n",
       "8283     13670         4            1       11       B  458378.777006  \n",
       "9294      5212         6            3        2       B  438005.182323  \n",
       "9613      2787         2            0        7       B  483283.488083  "
      ]
     },
     "execution_count": 17,
     "metadata": {},
     "output_type": "execute_result"
    }
   ],
   "source": [
    "data.loc[data['Square']<15]"
   ]
  },
  {
   "cell_type": "code",
   "execution_count": 18,
   "metadata": {},
   "outputs": [],
   "source": [
    "data = data.drop(data.loc[data['Square']<15].index, axis=0)"
   ]
  },
  {
   "cell_type": "code",
   "execution_count": 19,
   "metadata": {},
   "outputs": [],
   "source": [
    "data['LifeSquare'] = data['LifeSquare'].fillna(data['LifeSquare'].mean())"
   ]
  },
  {
   "cell_type": "code",
   "execution_count": 20,
   "metadata": {},
   "outputs": [
    {
     "data": {
      "text/html": [
       "<div>\n",
       "<style scoped>\n",
       "    .dataframe tbody tr th:only-of-type {\n",
       "        vertical-align: middle;\n",
       "    }\n",
       "\n",
       "    .dataframe tbody tr th {\n",
       "        vertical-align: top;\n",
       "    }\n",
       "\n",
       "    .dataframe thead th {\n",
       "        text-align: right;\n",
       "    }\n",
       "</style>\n",
       "<table border=\"1\" class=\"dataframe\">\n",
       "  <thead>\n",
       "    <tr style=\"text-align: right;\">\n",
       "      <th></th>\n",
       "      <th>Id</th>\n",
       "      <th>DistrictId</th>\n",
       "      <th>Rooms</th>\n",
       "      <th>Square</th>\n",
       "      <th>LifeSquare</th>\n",
       "      <th>KitchenSquare</th>\n",
       "      <th>Floor</th>\n",
       "      <th>HouseFloor</th>\n",
       "      <th>HouseYear</th>\n",
       "      <th>Ecology_1</th>\n",
       "      <th>Ecology_2</th>\n",
       "      <th>Ecology_3</th>\n",
       "      <th>Social_1</th>\n",
       "      <th>Social_2</th>\n",
       "      <th>Social_3</th>\n",
       "      <th>Helthcare_2</th>\n",
       "      <th>Shops_1</th>\n",
       "      <th>Shops_2</th>\n",
       "      <th>Price</th>\n",
       "    </tr>\n",
       "  </thead>\n",
       "  <tbody>\n",
       "    <tr>\n",
       "      <th>590</th>\n",
       "      <td>14990</td>\n",
       "      <td>23</td>\n",
       "      <td>2.0</td>\n",
       "      <td>48.449873</td>\n",
       "      <td>263.542020</td>\n",
       "      <td>5.0</td>\n",
       "      <td>6</td>\n",
       "      <td>5.0</td>\n",
       "      <td>1972</td>\n",
       "      <td>0.075779</td>\n",
       "      <td>B</td>\n",
       "      <td>B</td>\n",
       "      <td>6</td>\n",
       "      <td>1437</td>\n",
       "      <td>3</td>\n",
       "      <td>0</td>\n",
       "      <td>2</td>\n",
       "      <td>B</td>\n",
       "      <td>141780.231857</td>\n",
       "    </tr>\n",
       "    <tr>\n",
       "      <th>8437</th>\n",
       "      <td>15886</td>\n",
       "      <td>85</td>\n",
       "      <td>3.0</td>\n",
       "      <td>78.059331</td>\n",
       "      <td>461.463614</td>\n",
       "      <td>10.0</td>\n",
       "      <td>12</td>\n",
       "      <td>16.0</td>\n",
       "      <td>1998</td>\n",
       "      <td>0.037178</td>\n",
       "      <td>B</td>\n",
       "      <td>B</td>\n",
       "      <td>52</td>\n",
       "      <td>11217</td>\n",
       "      <td>1</td>\n",
       "      <td>1</td>\n",
       "      <td>7</td>\n",
       "      <td>B</td>\n",
       "      <td>394253.299978</td>\n",
       "    </tr>\n",
       "  </tbody>\n",
       "</table>\n",
       "</div>"
      ],
      "text/plain": [
       "         Id  DistrictId  Rooms     Square  LifeSquare  KitchenSquare  Floor  \\\n",
       "590   14990          23    2.0  48.449873  263.542020            5.0      6   \n",
       "8437  15886          85    3.0  78.059331  461.463614           10.0     12   \n",
       "\n",
       "      HouseFloor  HouseYear  Ecology_1 Ecology_2 Ecology_3  Social_1  \\\n",
       "590          5.0       1972   0.075779         B         B         6   \n",
       "8437        16.0       1998   0.037178         B         B        52   \n",
       "\n",
       "      Social_2  Social_3  Helthcare_2  Shops_1 Shops_2          Price  \n",
       "590       1437         3            0        2       B  141780.231857  \n",
       "8437     11217         1            1        7       B  394253.299978  "
      ]
     },
     "execution_count": 20,
     "metadata": {},
     "output_type": "execute_result"
    }
   ],
   "source": [
    "data.loc[data['LifeSquare']>250]"
   ]
  },
  {
   "cell_type": "code",
   "execution_count": 21,
   "metadata": {},
   "outputs": [],
   "source": [
    "data = data.drop(data.loc[data['LifeSquare']>250].index, axis=0)"
   ]
  },
  {
   "cell_type": "markdown",
   "metadata": {},
   "source": [
    "## Анализ данных"
   ]
  },
  {
   "cell_type": "code",
   "execution_count": 22,
   "metadata": {},
   "outputs": [
    {
     "name": "stdout",
     "output_type": "stream",
     "text": [
      "<class 'pandas.core.frame.DataFrame'>\n",
      "Int64Index: 9976 entries, 0 to 9999\n",
      "Data columns (total 19 columns):\n",
      "Id               9976 non-null int64\n",
      "DistrictId       9976 non-null int64\n",
      "Rooms            9976 non-null float64\n",
      "Square           9976 non-null float64\n",
      "LifeSquare       9976 non-null float64\n",
      "KitchenSquare    9976 non-null float64\n",
      "Floor            9976 non-null int64\n",
      "HouseFloor       9976 non-null float64\n",
      "HouseYear        9976 non-null int64\n",
      "Ecology_1        9976 non-null float64\n",
      "Ecology_2        9976 non-null object\n",
      "Ecology_3        9976 non-null object\n",
      "Social_1         9976 non-null int64\n",
      "Social_2         9976 non-null int64\n",
      "Social_3         9976 non-null int64\n",
      "Helthcare_2      9976 non-null int64\n",
      "Shops_1          9976 non-null int64\n",
      "Shops_2          9976 non-null object\n",
      "Price            9976 non-null float64\n",
      "dtypes: float64(7), int64(9), object(3)\n",
      "memory usage: 1.5+ MB\n"
     ]
    }
   ],
   "source": [
    "data.info()"
   ]
  },
  {
   "cell_type": "code",
   "execution_count": 23,
   "metadata": {},
   "outputs": [
    {
     "data": {
      "text/html": [
       "<div>\n",
       "<style scoped>\n",
       "    .dataframe tbody tr th:only-of-type {\n",
       "        vertical-align: middle;\n",
       "    }\n",
       "\n",
       "    .dataframe tbody tr th {\n",
       "        vertical-align: top;\n",
       "    }\n",
       "\n",
       "    .dataframe thead th {\n",
       "        text-align: right;\n",
       "    }\n",
       "</style>\n",
       "<table border=\"1\" class=\"dataframe\">\n",
       "  <thead>\n",
       "    <tr style=\"text-align: right;\">\n",
       "      <th></th>\n",
       "      <th>Id</th>\n",
       "      <th>DistrictId</th>\n",
       "      <th>Rooms</th>\n",
       "      <th>Square</th>\n",
       "      <th>LifeSquare</th>\n",
       "      <th>KitchenSquare</th>\n",
       "      <th>Floor</th>\n",
       "      <th>HouseFloor</th>\n",
       "      <th>HouseYear</th>\n",
       "      <th>Ecology_1</th>\n",
       "      <th>Social_1</th>\n",
       "      <th>Social_2</th>\n",
       "      <th>Social_3</th>\n",
       "      <th>Helthcare_2</th>\n",
       "      <th>Shops_1</th>\n",
       "      <th>Price</th>\n",
       "    </tr>\n",
       "  </thead>\n",
       "  <tbody>\n",
       "    <tr>\n",
       "      <th>count</th>\n",
       "      <td>9976.000000</td>\n",
       "      <td>9976.000000</td>\n",
       "      <td>9976.000000</td>\n",
       "      <td>9976.000000</td>\n",
       "      <td>9976.000000</td>\n",
       "      <td>9976.000000</td>\n",
       "      <td>9976.000000</td>\n",
       "      <td>9976.000000</td>\n",
       "      <td>9976.000000</td>\n",
       "      <td>9976.000000</td>\n",
       "      <td>9976.000000</td>\n",
       "      <td>9976.000000</td>\n",
       "      <td>9976.000000</td>\n",
       "      <td>9976.000000</td>\n",
       "      <td>9976.000000</td>\n",
       "      <td>9976.000000</td>\n",
       "    </tr>\n",
       "    <tr>\n",
       "      <th>mean</th>\n",
       "      <td>8382.660485</td>\n",
       "      <td>50.439354</td>\n",
       "      <td>1.888232</td>\n",
       "      <td>56.209991</td>\n",
       "      <td>36.068382</td>\n",
       "      <td>5.886192</td>\n",
       "      <td>8.526063</td>\n",
       "      <td>12.621191</td>\n",
       "      <td>1984.862771</td>\n",
       "      <td>0.118842</td>\n",
       "      <td>24.704491</td>\n",
       "      <td>5355.826584</td>\n",
       "      <td>8.054230</td>\n",
       "      <td>1.320469</td>\n",
       "      <td>4.234463</td>\n",
       "      <td>214090.505009</td>\n",
       "    </tr>\n",
       "    <tr>\n",
       "      <th>std</th>\n",
       "      <td>4859.514979</td>\n",
       "      <td>43.614145</td>\n",
       "      <td>0.810358</td>\n",
       "      <td>18.991067</td>\n",
       "      <td>15.681589</td>\n",
       "      <td>5.175161</td>\n",
       "      <td>5.234886</td>\n",
       "      <td>6.768062</td>\n",
       "      <td>18.415764</td>\n",
       "      <td>0.119084</td>\n",
       "      <td>17.532140</td>\n",
       "      <td>4007.068949</td>\n",
       "      <td>23.857967</td>\n",
       "      <td>1.493527</td>\n",
       "      <td>4.808666</td>\n",
       "      <td>92777.647406</td>\n",
       "    </tr>\n",
       "    <tr>\n",
       "      <th>min</th>\n",
       "      <td>0.000000</td>\n",
       "      <td>0.000000</td>\n",
       "      <td>1.000000</td>\n",
       "      <td>16.117154</td>\n",
       "      <td>0.370619</td>\n",
       "      <td>0.000000</td>\n",
       "      <td>1.000000</td>\n",
       "      <td>0.000000</td>\n",
       "      <td>1910.000000</td>\n",
       "      <td>0.000000</td>\n",
       "      <td>0.000000</td>\n",
       "      <td>168.000000</td>\n",
       "      <td>0.000000</td>\n",
       "      <td>0.000000</td>\n",
       "      <td>0.000000</td>\n",
       "      <td>59174.778028</td>\n",
       "    </tr>\n",
       "    <tr>\n",
       "      <th>25%</th>\n",
       "      <td>4167.750000</td>\n",
       "      <td>20.000000</td>\n",
       "      <td>1.000000</td>\n",
       "      <td>41.784790</td>\n",
       "      <td>25.566020</td>\n",
       "      <td>1.000000</td>\n",
       "      <td>4.000000</td>\n",
       "      <td>9.000000</td>\n",
       "      <td>1974.000000</td>\n",
       "      <td>0.017647</td>\n",
       "      <td>6.000000</td>\n",
       "      <td>1564.000000</td>\n",
       "      <td>0.000000</td>\n",
       "      <td>0.000000</td>\n",
       "      <td>1.000000</td>\n",
       "      <td>153907.528147</td>\n",
       "    </tr>\n",
       "    <tr>\n",
       "      <th>50%</th>\n",
       "      <td>8394.500000</td>\n",
       "      <td>36.000000</td>\n",
       "      <td>2.000000</td>\n",
       "      <td>52.539909</td>\n",
       "      <td>36.133813</td>\n",
       "      <td>6.000000</td>\n",
       "      <td>7.000000</td>\n",
       "      <td>13.000000</td>\n",
       "      <td>1977.000000</td>\n",
       "      <td>0.075424</td>\n",
       "      <td>25.000000</td>\n",
       "      <td>5285.000000</td>\n",
       "      <td>2.000000</td>\n",
       "      <td>1.000000</td>\n",
       "      <td>3.000000</td>\n",
       "      <td>192255.017896</td>\n",
       "    </tr>\n",
       "    <tr>\n",
       "      <th>75%</th>\n",
       "      <td>12591.250000</td>\n",
       "      <td>75.000000</td>\n",
       "      <td>2.000000</td>\n",
       "      <td>65.890819</td>\n",
       "      <td>41.423128</td>\n",
       "      <td>9.000000</td>\n",
       "      <td>12.000000</td>\n",
       "      <td>17.000000</td>\n",
       "      <td>2001.000000</td>\n",
       "      <td>0.195781</td>\n",
       "      <td>36.000000</td>\n",
       "      <td>7227.000000</td>\n",
       "      <td>5.000000</td>\n",
       "      <td>2.000000</td>\n",
       "      <td>6.000000</td>\n",
       "      <td>249100.769116</td>\n",
       "    </tr>\n",
       "    <tr>\n",
       "      <th>max</th>\n",
       "      <td>16798.000000</td>\n",
       "      <td>209.000000</td>\n",
       "      <td>5.000000</td>\n",
       "      <td>275.645284</td>\n",
       "      <td>233.949309</td>\n",
       "      <td>123.000000</td>\n",
       "      <td>42.000000</td>\n",
       "      <td>117.000000</td>\n",
       "      <td>2020.000000</td>\n",
       "      <td>0.521867</td>\n",
       "      <td>74.000000</td>\n",
       "      <td>19083.000000</td>\n",
       "      <td>141.000000</td>\n",
       "      <td>6.000000</td>\n",
       "      <td>23.000000</td>\n",
       "      <td>633233.466570</td>\n",
       "    </tr>\n",
       "  </tbody>\n",
       "</table>\n",
       "</div>"
      ],
      "text/plain": [
       "                 Id   DistrictId        Rooms       Square   LifeSquare  \\\n",
       "count   9976.000000  9976.000000  9976.000000  9976.000000  9976.000000   \n",
       "mean    8382.660485    50.439354     1.888232    56.209991    36.068382   \n",
       "std     4859.514979    43.614145     0.810358    18.991067    15.681589   \n",
       "min        0.000000     0.000000     1.000000    16.117154     0.370619   \n",
       "25%     4167.750000    20.000000     1.000000    41.784790    25.566020   \n",
       "50%     8394.500000    36.000000     2.000000    52.539909    36.133813   \n",
       "75%    12591.250000    75.000000     2.000000    65.890819    41.423128   \n",
       "max    16798.000000   209.000000     5.000000   275.645284   233.949309   \n",
       "\n",
       "       KitchenSquare        Floor   HouseFloor    HouseYear    Ecology_1  \\\n",
       "count    9976.000000  9976.000000  9976.000000  9976.000000  9976.000000   \n",
       "mean        5.886192     8.526063    12.621191  1984.862771     0.118842   \n",
       "std         5.175161     5.234886     6.768062    18.415764     0.119084   \n",
       "min         0.000000     1.000000     0.000000  1910.000000     0.000000   \n",
       "25%         1.000000     4.000000     9.000000  1974.000000     0.017647   \n",
       "50%         6.000000     7.000000    13.000000  1977.000000     0.075424   \n",
       "75%         9.000000    12.000000    17.000000  2001.000000     0.195781   \n",
       "max       123.000000    42.000000   117.000000  2020.000000     0.521867   \n",
       "\n",
       "          Social_1      Social_2     Social_3  Helthcare_2      Shops_1  \\\n",
       "count  9976.000000   9976.000000  9976.000000  9976.000000  9976.000000   \n",
       "mean     24.704491   5355.826584     8.054230     1.320469     4.234463   \n",
       "std      17.532140   4007.068949    23.857967     1.493527     4.808666   \n",
       "min       0.000000    168.000000     0.000000     0.000000     0.000000   \n",
       "25%       6.000000   1564.000000     0.000000     0.000000     1.000000   \n",
       "50%      25.000000   5285.000000     2.000000     1.000000     3.000000   \n",
       "75%      36.000000   7227.000000     5.000000     2.000000     6.000000   \n",
       "max      74.000000  19083.000000   141.000000     6.000000    23.000000   \n",
       "\n",
       "               Price  \n",
       "count    9976.000000  \n",
       "mean   214090.505009  \n",
       "std     92777.647406  \n",
       "min     59174.778028  \n",
       "25%    153907.528147  \n",
       "50%    192255.017896  \n",
       "75%    249100.769116  \n",
       "max    633233.466570  "
      ]
     },
     "execution_count": 23,
     "metadata": {},
     "output_type": "execute_result"
    }
   ],
   "source": [
    "data.describe()"
   ]
  },
  {
   "cell_type": "code",
   "execution_count": 24,
   "metadata": {},
   "outputs": [
    {
     "data": {
      "text/html": [
       "<div>\n",
       "<style scoped>\n",
       "    .dataframe tbody tr th:only-of-type {\n",
       "        vertical-align: middle;\n",
       "    }\n",
       "\n",
       "    .dataframe tbody tr th {\n",
       "        vertical-align: top;\n",
       "    }\n",
       "\n",
       "    .dataframe thead th {\n",
       "        text-align: right;\n",
       "    }\n",
       "</style>\n",
       "<table border=\"1\" class=\"dataframe\">\n",
       "  <thead>\n",
       "    <tr style=\"text-align: right;\">\n",
       "      <th></th>\n",
       "      <th>Id</th>\n",
       "      <th>DistrictId</th>\n",
       "      <th>Rooms</th>\n",
       "      <th>Square</th>\n",
       "      <th>LifeSquare</th>\n",
       "      <th>KitchenSquare</th>\n",
       "      <th>Floor</th>\n",
       "      <th>HouseFloor</th>\n",
       "      <th>HouseYear</th>\n",
       "      <th>Ecology_1</th>\n",
       "      <th>Social_1</th>\n",
       "      <th>Social_2</th>\n",
       "      <th>Social_3</th>\n",
       "      <th>Helthcare_2</th>\n",
       "      <th>Shops_1</th>\n",
       "      <th>Price</th>\n",
       "    </tr>\n",
       "  </thead>\n",
       "  <tbody>\n",
       "    <tr>\n",
       "      <th>Id</th>\n",
       "      <td>1.000000</td>\n",
       "      <td>0.013213</td>\n",
       "      <td>-0.008024</td>\n",
       "      <td>-0.005565</td>\n",
       "      <td>-0.004980</td>\n",
       "      <td>0.010290</td>\n",
       "      <td>0.001576</td>\n",
       "      <td>-0.008350</td>\n",
       "      <td>0.003686</td>\n",
       "      <td>0.018562</td>\n",
       "      <td>-0.000714</td>\n",
       "      <td>-0.002119</td>\n",
       "      <td>-0.009383</td>\n",
       "      <td>0.001752</td>\n",
       "      <td>-0.008934</td>\n",
       "      <td>0.009683</td>\n",
       "    </tr>\n",
       "    <tr>\n",
       "      <th>DistrictId</th>\n",
       "      <td>0.013213</td>\n",
       "      <td>1.000000</td>\n",
       "      <td>0.075660</td>\n",
       "      <td>-0.028572</td>\n",
       "      <td>-0.059035</td>\n",
       "      <td>0.184907</td>\n",
       "      <td>-0.121390</td>\n",
       "      <td>-0.150542</td>\n",
       "      <td>-0.201061</td>\n",
       "      <td>0.065337</td>\n",
       "      <td>0.245528</td>\n",
       "      <td>0.166556</td>\n",
       "      <td>0.135859</td>\n",
       "      <td>0.305655</td>\n",
       "      <td>0.173475</td>\n",
       "      <td>0.265655</td>\n",
       "    </tr>\n",
       "    <tr>\n",
       "      <th>Rooms</th>\n",
       "      <td>-0.008024</td>\n",
       "      <td>0.075660</td>\n",
       "      <td>1.000000</td>\n",
       "      <td>0.767457</td>\n",
       "      <td>0.542824</td>\n",
       "      <td>0.110451</td>\n",
       "      <td>-0.004950</td>\n",
       "      <td>-0.033932</td>\n",
       "      <td>-0.043578</td>\n",
       "      <td>-0.030462</td>\n",
       "      <td>0.077256</td>\n",
       "      <td>0.072169</td>\n",
       "      <td>0.014122</td>\n",
       "      <td>0.064056</td>\n",
       "      <td>0.054089</td>\n",
       "      <td>0.575287</td>\n",
       "    </tr>\n",
       "    <tr>\n",
       "      <th>Square</th>\n",
       "      <td>-0.005565</td>\n",
       "      <td>-0.028572</td>\n",
       "      <td>0.767457</td>\n",
       "      <td>1.000000</td>\n",
       "      <td>0.668397</td>\n",
       "      <td>0.114922</td>\n",
       "      <td>0.120665</td>\n",
       "      <td>0.087550</td>\n",
       "      <td>0.190177</td>\n",
       "      <td>-0.072218</td>\n",
       "      <td>-0.078978</td>\n",
       "      <td>-0.048871</td>\n",
       "      <td>0.022785</td>\n",
       "      <td>-0.031505</td>\n",
       "      <td>0.011696</td>\n",
       "      <td>0.584764</td>\n",
       "    </tr>\n",
       "    <tr>\n",
       "      <th>LifeSquare</th>\n",
       "      <td>-0.004980</td>\n",
       "      <td>-0.059035</td>\n",
       "      <td>0.542824</td>\n",
       "      <td>0.668397</td>\n",
       "      <td>1.000000</td>\n",
       "      <td>0.039657</td>\n",
       "      <td>0.090829</td>\n",
       "      <td>0.080089</td>\n",
       "      <td>0.176410</td>\n",
       "      <td>-0.058613</td>\n",
       "      <td>-0.128140</td>\n",
       "      <td>-0.100598</td>\n",
       "      <td>0.041198</td>\n",
       "      <td>-0.063360</td>\n",
       "      <td>-0.000135</td>\n",
       "      <td>0.366572</td>\n",
       "    </tr>\n",
       "    <tr>\n",
       "      <th>KitchenSquare</th>\n",
       "      <td>0.010290</td>\n",
       "      <td>0.184907</td>\n",
       "      <td>0.110451</td>\n",
       "      <td>0.114922</td>\n",
       "      <td>0.039657</td>\n",
       "      <td>1.000000</td>\n",
       "      <td>-0.011055</td>\n",
       "      <td>0.134475</td>\n",
       "      <td>0.167991</td>\n",
       "      <td>0.020182</td>\n",
       "      <td>0.277514</td>\n",
       "      <td>0.254444</td>\n",
       "      <td>-0.059976</td>\n",
       "      <td>0.153376</td>\n",
       "      <td>0.075794</td>\n",
       "      <td>0.249143</td>\n",
       "    </tr>\n",
       "    <tr>\n",
       "      <th>Floor</th>\n",
       "      <td>0.001576</td>\n",
       "      <td>-0.121390</td>\n",
       "      <td>-0.004950</td>\n",
       "      <td>0.120665</td>\n",
       "      <td>0.090829</td>\n",
       "      <td>-0.011055</td>\n",
       "      <td>1.000000</td>\n",
       "      <td>0.420846</td>\n",
       "      <td>0.285612</td>\n",
       "      <td>-0.015608</td>\n",
       "      <td>-0.046442</td>\n",
       "      <td>-0.017883</td>\n",
       "      <td>-0.002205</td>\n",
       "      <td>-0.065648</td>\n",
       "      <td>0.023140</td>\n",
       "      <td>0.127360</td>\n",
       "    </tr>\n",
       "    <tr>\n",
       "      <th>HouseFloor</th>\n",
       "      <td>-0.008350</td>\n",
       "      <td>-0.150542</td>\n",
       "      <td>-0.033932</td>\n",
       "      <td>0.087550</td>\n",
       "      <td>0.080089</td>\n",
       "      <td>0.134475</td>\n",
       "      <td>0.420846</td>\n",
       "      <td>1.000000</td>\n",
       "      <td>0.393591</td>\n",
       "      <td>-0.004651</td>\n",
       "      <td>-0.021949</td>\n",
       "      <td>0.006318</td>\n",
       "      <td>-0.008566</td>\n",
       "      <td>-0.069423</td>\n",
       "      <td>0.025582</td>\n",
       "      <td>0.089404</td>\n",
       "    </tr>\n",
       "    <tr>\n",
       "      <th>HouseYear</th>\n",
       "      <td>0.003686</td>\n",
       "      <td>-0.201061</td>\n",
       "      <td>-0.043578</td>\n",
       "      <td>0.190177</td>\n",
       "      <td>0.176410</td>\n",
       "      <td>0.167991</td>\n",
       "      <td>0.285612</td>\n",
       "      <td>0.393591</td>\n",
       "      <td>1.000000</td>\n",
       "      <td>-0.066902</td>\n",
       "      <td>-0.047823</td>\n",
       "      <td>0.013838</td>\n",
       "      <td>-0.049248</td>\n",
       "      <td>-0.115752</td>\n",
       "      <td>-0.001516</td>\n",
       "      <td>0.036855</td>\n",
       "    </tr>\n",
       "    <tr>\n",
       "      <th>Ecology_1</th>\n",
       "      <td>0.018562</td>\n",
       "      <td>0.065337</td>\n",
       "      <td>-0.030462</td>\n",
       "      <td>-0.072218</td>\n",
       "      <td>-0.058613</td>\n",
       "      <td>0.020182</td>\n",
       "      <td>-0.015608</td>\n",
       "      <td>-0.004651</td>\n",
       "      <td>-0.066902</td>\n",
       "      <td>1.000000</td>\n",
       "      <td>0.026634</td>\n",
       "      <td>0.009436</td>\n",
       "      <td>-0.124243</td>\n",
       "      <td>0.030364</td>\n",
       "      <td>-0.076832</td>\n",
       "      <td>-0.058187</td>\n",
       "    </tr>\n",
       "    <tr>\n",
       "      <th>Social_1</th>\n",
       "      <td>-0.000714</td>\n",
       "      <td>0.245528</td>\n",
       "      <td>0.077256</td>\n",
       "      <td>-0.078978</td>\n",
       "      <td>-0.128140</td>\n",
       "      <td>0.277514</td>\n",
       "      <td>-0.046442</td>\n",
       "      <td>-0.021949</td>\n",
       "      <td>-0.047823</td>\n",
       "      <td>0.026634</td>\n",
       "      <td>1.000000</td>\n",
       "      <td>0.955913</td>\n",
       "      <td>0.023382</td>\n",
       "      <td>0.524470</td>\n",
       "      <td>0.525723</td>\n",
       "      <td>0.262860</td>\n",
       "    </tr>\n",
       "    <tr>\n",
       "      <th>Social_2</th>\n",
       "      <td>-0.002119</td>\n",
       "      <td>0.166556</td>\n",
       "      <td>0.072169</td>\n",
       "      <td>-0.048871</td>\n",
       "      <td>-0.100598</td>\n",
       "      <td>0.254444</td>\n",
       "      <td>-0.017883</td>\n",
       "      <td>0.006318</td>\n",
       "      <td>0.013838</td>\n",
       "      <td>0.009436</td>\n",
       "      <td>0.955913</td>\n",
       "      <td>1.000000</td>\n",
       "      <td>0.073136</td>\n",
       "      <td>0.473097</td>\n",
       "      <td>0.558732</td>\n",
       "      <td>0.238658</td>\n",
       "    </tr>\n",
       "    <tr>\n",
       "      <th>Social_3</th>\n",
       "      <td>-0.009383</td>\n",
       "      <td>0.135859</td>\n",
       "      <td>0.014122</td>\n",
       "      <td>0.022785</td>\n",
       "      <td>0.041198</td>\n",
       "      <td>-0.059976</td>\n",
       "      <td>-0.002205</td>\n",
       "      <td>-0.008566</td>\n",
       "      <td>-0.049248</td>\n",
       "      <td>-0.124243</td>\n",
       "      <td>0.023382</td>\n",
       "      <td>0.073136</td>\n",
       "      <td>1.000000</td>\n",
       "      <td>0.286375</td>\n",
       "      <td>0.662347</td>\n",
       "      <td>0.075151</td>\n",
       "    </tr>\n",
       "    <tr>\n",
       "      <th>Helthcare_2</th>\n",
       "      <td>0.001752</td>\n",
       "      <td>0.305655</td>\n",
       "      <td>0.064056</td>\n",
       "      <td>-0.031505</td>\n",
       "      <td>-0.063360</td>\n",
       "      <td>0.153376</td>\n",
       "      <td>-0.065648</td>\n",
       "      <td>-0.069423</td>\n",
       "      <td>-0.115752</td>\n",
       "      <td>0.030364</td>\n",
       "      <td>0.524470</td>\n",
       "      <td>0.473097</td>\n",
       "      <td>0.286375</td>\n",
       "      <td>1.000000</td>\n",
       "      <td>0.473769</td>\n",
       "      <td>0.253373</td>\n",
       "    </tr>\n",
       "    <tr>\n",
       "      <th>Shops_1</th>\n",
       "      <td>-0.008934</td>\n",
       "      <td>0.173475</td>\n",
       "      <td>0.054089</td>\n",
       "      <td>0.011696</td>\n",
       "      <td>-0.000135</td>\n",
       "      <td>0.075794</td>\n",
       "      <td>0.023140</td>\n",
       "      <td>0.025582</td>\n",
       "      <td>-0.001516</td>\n",
       "      <td>-0.076832</td>\n",
       "      <td>0.525723</td>\n",
       "      <td>0.558732</td>\n",
       "      <td>0.662347</td>\n",
       "      <td>0.473769</td>\n",
       "      <td>1.000000</td>\n",
       "      <td>0.180319</td>\n",
       "    </tr>\n",
       "    <tr>\n",
       "      <th>Price</th>\n",
       "      <td>0.009683</td>\n",
       "      <td>0.265655</td>\n",
       "      <td>0.575287</td>\n",
       "      <td>0.584764</td>\n",
       "      <td>0.366572</td>\n",
       "      <td>0.249143</td>\n",
       "      <td>0.127360</td>\n",
       "      <td>0.089404</td>\n",
       "      <td>0.036855</td>\n",
       "      <td>-0.058187</td>\n",
       "      <td>0.262860</td>\n",
       "      <td>0.238658</td>\n",
       "      <td>0.075151</td>\n",
       "      <td>0.253373</td>\n",
       "      <td>0.180319</td>\n",
       "      <td>1.000000</td>\n",
       "    </tr>\n",
       "  </tbody>\n",
       "</table>\n",
       "</div>"
      ],
      "text/plain": [
       "                     Id  DistrictId     Rooms    Square  LifeSquare  \\\n",
       "Id             1.000000    0.013213 -0.008024 -0.005565   -0.004980   \n",
       "DistrictId     0.013213    1.000000  0.075660 -0.028572   -0.059035   \n",
       "Rooms         -0.008024    0.075660  1.000000  0.767457    0.542824   \n",
       "Square        -0.005565   -0.028572  0.767457  1.000000    0.668397   \n",
       "LifeSquare    -0.004980   -0.059035  0.542824  0.668397    1.000000   \n",
       "KitchenSquare  0.010290    0.184907  0.110451  0.114922    0.039657   \n",
       "Floor          0.001576   -0.121390 -0.004950  0.120665    0.090829   \n",
       "HouseFloor    -0.008350   -0.150542 -0.033932  0.087550    0.080089   \n",
       "HouseYear      0.003686   -0.201061 -0.043578  0.190177    0.176410   \n",
       "Ecology_1      0.018562    0.065337 -0.030462 -0.072218   -0.058613   \n",
       "Social_1      -0.000714    0.245528  0.077256 -0.078978   -0.128140   \n",
       "Social_2      -0.002119    0.166556  0.072169 -0.048871   -0.100598   \n",
       "Social_3      -0.009383    0.135859  0.014122  0.022785    0.041198   \n",
       "Helthcare_2    0.001752    0.305655  0.064056 -0.031505   -0.063360   \n",
       "Shops_1       -0.008934    0.173475  0.054089  0.011696   -0.000135   \n",
       "Price          0.009683    0.265655  0.575287  0.584764    0.366572   \n",
       "\n",
       "               KitchenSquare     Floor  HouseFloor  HouseYear  Ecology_1  \\\n",
       "Id                  0.010290  0.001576   -0.008350   0.003686   0.018562   \n",
       "DistrictId          0.184907 -0.121390   -0.150542  -0.201061   0.065337   \n",
       "Rooms               0.110451 -0.004950   -0.033932  -0.043578  -0.030462   \n",
       "Square              0.114922  0.120665    0.087550   0.190177  -0.072218   \n",
       "LifeSquare          0.039657  0.090829    0.080089   0.176410  -0.058613   \n",
       "KitchenSquare       1.000000 -0.011055    0.134475   0.167991   0.020182   \n",
       "Floor              -0.011055  1.000000    0.420846   0.285612  -0.015608   \n",
       "HouseFloor          0.134475  0.420846    1.000000   0.393591  -0.004651   \n",
       "HouseYear           0.167991  0.285612    0.393591   1.000000  -0.066902   \n",
       "Ecology_1           0.020182 -0.015608   -0.004651  -0.066902   1.000000   \n",
       "Social_1            0.277514 -0.046442   -0.021949  -0.047823   0.026634   \n",
       "Social_2            0.254444 -0.017883    0.006318   0.013838   0.009436   \n",
       "Social_3           -0.059976 -0.002205   -0.008566  -0.049248  -0.124243   \n",
       "Helthcare_2         0.153376 -0.065648   -0.069423  -0.115752   0.030364   \n",
       "Shops_1             0.075794  0.023140    0.025582  -0.001516  -0.076832   \n",
       "Price               0.249143  0.127360    0.089404   0.036855  -0.058187   \n",
       "\n",
       "               Social_1  Social_2  Social_3  Helthcare_2   Shops_1     Price  \n",
       "Id            -0.000714 -0.002119 -0.009383     0.001752 -0.008934  0.009683  \n",
       "DistrictId     0.245528  0.166556  0.135859     0.305655  0.173475  0.265655  \n",
       "Rooms          0.077256  0.072169  0.014122     0.064056  0.054089  0.575287  \n",
       "Square        -0.078978 -0.048871  0.022785    -0.031505  0.011696  0.584764  \n",
       "LifeSquare    -0.128140 -0.100598  0.041198    -0.063360 -0.000135  0.366572  \n",
       "KitchenSquare  0.277514  0.254444 -0.059976     0.153376  0.075794  0.249143  \n",
       "Floor         -0.046442 -0.017883 -0.002205    -0.065648  0.023140  0.127360  \n",
       "HouseFloor    -0.021949  0.006318 -0.008566    -0.069423  0.025582  0.089404  \n",
       "HouseYear     -0.047823  0.013838 -0.049248    -0.115752 -0.001516  0.036855  \n",
       "Ecology_1      0.026634  0.009436 -0.124243     0.030364 -0.076832 -0.058187  \n",
       "Social_1       1.000000  0.955913  0.023382     0.524470  0.525723  0.262860  \n",
       "Social_2       0.955913  1.000000  0.073136     0.473097  0.558732  0.238658  \n",
       "Social_3       0.023382  0.073136  1.000000     0.286375  0.662347  0.075151  \n",
       "Helthcare_2    0.524470  0.473097  0.286375     1.000000  0.473769  0.253373  \n",
       "Shops_1        0.525723  0.558732  0.662347     0.473769  1.000000  0.180319  \n",
       "Price          0.262860  0.238658  0.075151     0.253373  0.180319  1.000000  "
      ]
     },
     "execution_count": 24,
     "metadata": {},
     "output_type": "execute_result"
    }
   ],
   "source": [
    "data.corr()"
   ]
  },
  {
   "cell_type": "code",
   "execution_count": 25,
   "metadata": {},
   "outputs": [
    {
     "data": {
      "text/plain": [
       "array(['B', 'A'], dtype=object)"
      ]
     },
     "execution_count": 25,
     "metadata": {},
     "output_type": "execute_result"
    }
   ],
   "source": [
    "data.Ecology_2.unique()"
   ]
  },
  {
   "cell_type": "code",
   "execution_count": 26,
   "metadata": {},
   "outputs": [
    {
     "data": {
      "text/plain": [
       "array(['B', 'A'], dtype=object)"
      ]
     },
     "execution_count": 26,
     "metadata": {},
     "output_type": "execute_result"
    }
   ],
   "source": [
    "data.Ecology_3.unique()"
   ]
  },
  {
   "cell_type": "code",
   "execution_count": 27,
   "metadata": {},
   "outputs": [
    {
     "data": {
      "text/plain": [
       "array(['B', 'A'], dtype=object)"
      ]
     },
     "execution_count": 27,
     "metadata": {},
     "output_type": "execute_result"
    }
   ],
   "source": [
    "data.Shops_2.unique()"
   ]
  },
  {
   "cell_type": "code",
   "execution_count": 28,
   "metadata": {},
   "outputs": [
    {
     "data": {
      "text/plain": [
       "205"
      ]
     },
     "execution_count": 28,
     "metadata": {},
     "output_type": "execute_result"
    }
   ],
   "source": [
    "data.DistrictId.nunique()"
   ]
  },
  {
   "cell_type": "code",
   "execution_count": 29,
   "metadata": {},
   "outputs": [
    {
     "data": {
      "text/plain": [
       "Ecology_2  Ecology_3  Shops_2\n",
       "A          B          A          159386.651546\n",
       "B          B          A          192908.557092\n",
       "A          B          B          198833.005156\n",
       "B          B          B          215365.530129\n",
       "           A          B          243179.560704\n",
       "Name: Price, dtype: float64"
      ]
     },
     "execution_count": 29,
     "metadata": {},
     "output_type": "execute_result"
    }
   ],
   "source": [
    "data.groupby(['Ecology_2', 'Ecology_3', 'Shops_2'])['Price'].mean().sort_values()"
   ]
  },
  {
   "cell_type": "code",
   "execution_count": 30,
   "metadata": {},
   "outputs": [
    {
     "data": {
      "text/plain": [
       "DistrictId  Ecology_2  Ecology_3  Shops_2\n",
       "23          B          B          B          126787.814437\n",
       "158         B          B          B          129080.871245\n",
       "23          B          B          A          134143.042318\n",
       "209         B          B          B          140048.802277\n",
       "27          B          B          B          146185.696061\n",
       "85          B          B          A          153181.372880\n",
       "57          A          B          A          158067.834043\n",
       "3           B          A          B          159292.272505\n",
       "58          B          B          B          162024.129640\n",
       "71          A          B          A          162683.695305\n",
       "6           B          B          B          166091.372843\n",
       "102         B          B          B          166626.871465\n",
       "30          B          B          B          170530.981705\n",
       "62          B          B          A          171168.223258\n",
       "93          B          B          B          171399.422402\n",
       "52          B          B          B          171615.244096\n",
       "126         B          B          B          172222.183440\n",
       "91          B          B          B          173842.177369\n",
       "47          B          A          B          174236.835639\n",
       "27          B          B          A          177062.732258\n",
       "187         B          B          B          178225.923726\n",
       "192         A          B          B          178782.924133\n",
       "90          B          B          B          179117.878296\n",
       "3           B          B          B          180159.494511\n",
       "165         B          B          B          180697.295249\n",
       "71          B          B          B          180832.756877\n",
       "99          B          B          B          184157.448198\n",
       "83          B          B          A          185065.971015\n",
       "22          B          B          A          186876.368369\n",
       "29          B          B          B          187635.428254\n",
       "                                                 ...      \n",
       "56          B          B          B          338873.083107\n",
       "54          B          B          B          340906.320122\n",
       "123         B          B          B          341699.236270\n",
       "106         B          B          B          344925.578141\n",
       "17          B          B          B          346919.231898\n",
       "155         B          B          B          349090.466659\n",
       "172         B          B          B          349286.475174\n",
       "82          B          B          B          361072.935366\n",
       "73          B          B          B          364765.373566\n",
       "70          B          B          B          367670.926263\n",
       "157         B          B          B          368792.618321\n",
       "133         B          B          B          368817.698296\n",
       "131         B          B          B          368978.465019\n",
       "69          B          B          B          369773.285373\n",
       "200         B          B          B          372411.627590\n",
       "162         B          B          B          386564.543105\n",
       "117         B          B          B          386569.255841\n",
       "137         B          B          B          393334.346734\n",
       "43          B          B          B          393504.738496\n",
       "202         B          B          B          394150.861857\n",
       "174         B          B          B          421851.953639\n",
       "65          B          B          B          423841.968912\n",
       "207         B          B          B          426186.409334\n",
       "175         B          B          B          429200.112196\n",
       "208         B          B          B          431137.654083\n",
       "199         B          B          B          432546.129741\n",
       "182         B          B          B          441284.916612\n",
       "181         B          B          B          450654.779595\n",
       "190         B          B          B          471966.746348\n",
       "195         B          B          B          482791.138606\n",
       "Name: Price, Length: 239, dtype: float64"
      ]
     },
     "execution_count": 30,
     "metadata": {},
     "output_type": "execute_result"
    }
   ],
   "source": [
    "data.groupby(['DistrictId', 'Ecology_2', 'Ecology_3', 'Shops_2'])['Price'].mean().sort_values()"
   ]
  },
  {
   "cell_type": "code",
   "execution_count": 31,
   "metadata": {},
   "outputs": [],
   "source": [
    "map_AB = {\n",
    "    'A': 0,\n",
    "    'B': 1\n",
    "}\n",
    "data[\"Ecology_2\"] = data[\"Ecology_2\"].map(map_AB)\n",
    "data[\"Ecology_3\"] = data[\"Ecology_3\"].map(map_AB)\n",
    "data[\"Shops_2\"] = data[\"Shops_2\"].map(map_AB)"
   ]
  },
  {
   "cell_type": "code",
   "execution_count": 32,
   "metadata": {},
   "outputs": [
    {
     "name": "stdout",
     "output_type": "stream",
     "text": [
      "<class 'pandas.core.frame.DataFrame'>\n",
      "Int64Index: 9976 entries, 0 to 9999\n",
      "Data columns (total 19 columns):\n",
      "Id               9976 non-null int64\n",
      "DistrictId       9976 non-null int64\n",
      "Rooms            9976 non-null float64\n",
      "Square           9976 non-null float64\n",
      "LifeSquare       9976 non-null float64\n",
      "KitchenSquare    9976 non-null float64\n",
      "Floor            9976 non-null int64\n",
      "HouseFloor       9976 non-null float64\n",
      "HouseYear        9976 non-null int64\n",
      "Ecology_1        9976 non-null float64\n",
      "Ecology_2        9976 non-null int64\n",
      "Ecology_3        9976 non-null int64\n",
      "Social_1         9976 non-null int64\n",
      "Social_2         9976 non-null int64\n",
      "Social_3         9976 non-null int64\n",
      "Helthcare_2      9976 non-null int64\n",
      "Shops_1          9976 non-null int64\n",
      "Shops_2          9976 non-null int64\n",
      "Price            9976 non-null float64\n",
      "dtypes: float64(7), int64(12)\n",
      "memory usage: 1.5 MB\n"
     ]
    }
   ],
   "source": [
    "data.info()"
   ]
  },
  {
   "cell_type": "code",
   "execution_count": 33,
   "metadata": {},
   "outputs": [],
   "source": [
    "rcParams[\"figure.figsize\"] = 9, 9\n",
    "#plt.scatter(data['Square'], data['Price'])\n",
    "#plt.show()"
   ]
  },
  {
   "cell_type": "code",
   "execution_count": 34,
   "metadata": {},
   "outputs": [
    {
     "ename": "NameError",
     "evalue": "name 'ax' is not defined",
     "output_type": "error",
     "traceback": [
      "\u001b[1;31m---------------------------------------------------------------------------\u001b[0m",
      "\u001b[1;31mNameError\u001b[0m                                 Traceback (most recent call last)",
      "\u001b[1;32m<ipython-input-34-28ae166fae2e>\u001b[0m in \u001b[0;36m<module>\u001b[1;34m\u001b[0m\n\u001b[0;32m      5\u001b[0m     \u001b[0msparams\u001b[0m\u001b[1;33m=\u001b[0m\u001b[1;33m(\u001b[0m\u001b[1;36m16.117154\u001b[0m\u001b[1;33m,\u001b[0m \u001b[1;36m275.645284\u001b[0m\u001b[1;33m)\u001b[0m\u001b[1;33m,\u001b[0m  \u001b[1;31m# guesses at the distribution parameters\u001b[0m\u001b[1;33m\u001b[0m\u001b[1;33m\u001b[0m\u001b[0m\n\u001b[0;32m      6\u001b[0m     \u001b[0mdist\u001b[0m\u001b[1;33m=\u001b[0m\u001b[0mstats\u001b[0m\u001b[1;33m.\u001b[0m\u001b[0mbeta\u001b[0m\u001b[1;33m,\u001b[0m   \u001b[1;31m# the \"dist\" object\u001b[0m\u001b[1;33m\u001b[0m\u001b[1;33m\u001b[0m\u001b[0m\n\u001b[1;32m----> 7\u001b[1;33m     \u001b[0mplot\u001b[0m\u001b[1;33m=\u001b[0m\u001b[0max\u001b[0m            \u001b[1;31m# where the data should be plotted\u001b[0m\u001b[1;33m\u001b[0m\u001b[1;33m\u001b[0m\u001b[0m\n\u001b[0m\u001b[0;32m      8\u001b[0m )\n",
      "\u001b[1;31mNameError\u001b[0m: name 'ax' is not defined"
     ]
    }
   ],
   "source": [
    "#fig, ax = plt.subplots(figsize=(6, 3))\n",
    "\n",
    "_ = stats.probplot(\n",
    "    data['Square'],       # data\n",
    "    sparams=(16.117154, 275.645284),  # guesses at the distribution parameters\n",
    "    dist=stats.beta,   # the \"dist\" object\n",
    "    plot=ax            # where the data should be plotted\n",
    ")"
   ]
  },
  {
   "cell_type": "code",
   "execution_count": 35,
   "metadata": {},
   "outputs": [
    {
     "data": {
      "text/html": [
       "<div>\n",
       "<style scoped>\n",
       "    .dataframe tbody tr th:only-of-type {\n",
       "        vertical-align: middle;\n",
       "    }\n",
       "\n",
       "    .dataframe tbody tr th {\n",
       "        vertical-align: top;\n",
       "    }\n",
       "\n",
       "    .dataframe thead th {\n",
       "        text-align: right;\n",
       "    }\n",
       "</style>\n",
       "<table border=\"1\" class=\"dataframe\">\n",
       "  <thead>\n",
       "    <tr style=\"text-align: right;\">\n",
       "      <th></th>\n",
       "      <th>Id</th>\n",
       "      <th>DistrictId</th>\n",
       "      <th>Rooms</th>\n",
       "      <th>Square</th>\n",
       "      <th>LifeSquare</th>\n",
       "      <th>KitchenSquare</th>\n",
       "      <th>Floor</th>\n",
       "      <th>HouseFloor</th>\n",
       "      <th>HouseYear</th>\n",
       "      <th>Ecology_1</th>\n",
       "      <th>Ecology_2</th>\n",
       "      <th>Ecology_3</th>\n",
       "      <th>Social_1</th>\n",
       "      <th>Social_2</th>\n",
       "      <th>Social_3</th>\n",
       "      <th>Helthcare_2</th>\n",
       "      <th>Shops_1</th>\n",
       "      <th>Shops_2</th>\n",
       "      <th>Price</th>\n",
       "    </tr>\n",
       "  </thead>\n",
       "  <tbody>\n",
       "    <tr>\n",
       "      <th>1982</th>\n",
       "      <td>5548</td>\n",
       "      <td>86</td>\n",
       "      <td>5.0</td>\n",
       "      <td>275.645284</td>\n",
       "      <td>233.949309</td>\n",
       "      <td>26.0</td>\n",
       "      <td>12</td>\n",
       "      <td>37.0</td>\n",
       "      <td>2011</td>\n",
       "      <td>0.161976</td>\n",
       "      <td>1</td>\n",
       "      <td>0</td>\n",
       "      <td>31</td>\n",
       "      <td>7010</td>\n",
       "      <td>5</td>\n",
       "      <td>3</td>\n",
       "      <td>7</td>\n",
       "      <td>1</td>\n",
       "      <td>455264.882666</td>\n",
       "    </tr>\n",
       "    <tr>\n",
       "      <th>9910</th>\n",
       "      <td>16568</td>\n",
       "      <td>27</td>\n",
       "      <td>4.0</td>\n",
       "      <td>200.334539</td>\n",
       "      <td>201.627361</td>\n",
       "      <td>25.0</td>\n",
       "      <td>1</td>\n",
       "      <td>2.0</td>\n",
       "      <td>2013</td>\n",
       "      <td>0.041116</td>\n",
       "      <td>1</td>\n",
       "      <td>1</td>\n",
       "      <td>53</td>\n",
       "      <td>14892</td>\n",
       "      <td>4</td>\n",
       "      <td>1</td>\n",
       "      <td>4</td>\n",
       "      <td>1</td>\n",
       "      <td>528560.506016</td>\n",
       "    </tr>\n",
       "  </tbody>\n",
       "</table>\n",
       "</div>"
      ],
      "text/plain": [
       "         Id  DistrictId  Rooms      Square  LifeSquare  KitchenSquare  Floor  \\\n",
       "1982   5548          86    5.0  275.645284  233.949309           26.0     12   \n",
       "9910  16568          27    4.0  200.334539  201.627361           25.0      1   \n",
       "\n",
       "      HouseFloor  HouseYear  Ecology_1  Ecology_2  Ecology_3  Social_1  \\\n",
       "1982        37.0       2011   0.161976          1          0        31   \n",
       "9910         2.0       2013   0.041116          1          1        53   \n",
       "\n",
       "      Social_2  Social_3  Helthcare_2  Shops_1  Shops_2          Price  \n",
       "1982      7010         5            3        7        1  455264.882666  \n",
       "9910     14892         4            1        4        1  528560.506016  "
      ]
     },
     "execution_count": 35,
     "metadata": {},
     "output_type": "execute_result"
    }
   ],
   "source": [
    "data.loc[data['Square']>200]"
   ]
  },
  {
   "cell_type": "code",
   "execution_count": 36,
   "metadata": {},
   "outputs": [],
   "source": [
    "data = data.drop(data.loc[data['Square']>200].index, axis=0)"
   ]
  },
  {
   "cell_type": "code",
   "execution_count": 37,
   "metadata": {},
   "outputs": [],
   "source": [
    "#fig, ax = plt.subplots(figsize=(6, 3))\n",
    "\n",
    "#_ = stats.probplot(\n",
    "#    data['Price'],       # data\n",
    "#    sparams=(59174.778028, 633233.466570),  # guesses at the distribution parameters\n",
    "#    dist=stats.beta,   # the \"dist\" object\n",
    "#    plot=ax            # where the data should be plotted\n",
    "#)"
   ]
  },
  {
   "cell_type": "code",
   "execution_count": 38,
   "metadata": {},
   "outputs": [],
   "source": [
    "data.to_csv(\"train_cor.csv\", sep=\",\", index=False)"
   ]
  },
  {
   "cell_type": "markdown",
   "metadata": {},
   "source": [
    "## Обработка тестовых данных"
   ]
  },
  {
   "cell_type": "code",
   "execution_count": 39,
   "metadata": {},
   "outputs": [],
   "source": [
    "data_test = pd.read_csv(\"test.csv\", sep=\",\")"
   ]
  },
  {
   "cell_type": "code",
   "execution_count": 40,
   "metadata": {},
   "outputs": [
    {
     "name": "stdout",
     "output_type": "stream",
     "text": [
      "<class 'pandas.core.frame.DataFrame'>\n",
      "RangeIndex: 5000 entries, 0 to 4999\n",
      "Data columns (total 19 columns):\n",
      "Id               5000 non-null int64\n",
      "DistrictId       5000 non-null int64\n",
      "Rooms            5000 non-null float64\n",
      "Square           5000 non-null float64\n",
      "LifeSquare       3959 non-null float64\n",
      "KitchenSquare    5000 non-null float64\n",
      "Floor            5000 non-null int64\n",
      "HouseFloor       5000 non-null float64\n",
      "HouseYear        5000 non-null int64\n",
      "Ecology_1        5000 non-null float64\n",
      "Ecology_2        5000 non-null object\n",
      "Ecology_3        5000 non-null object\n",
      "Social_1         5000 non-null int64\n",
      "Social_2         5000 non-null int64\n",
      "Social_3         5000 non-null int64\n",
      "Healthcare_1     2623 non-null float64\n",
      "Helthcare_2      5000 non-null int64\n",
      "Shops_1          5000 non-null int64\n",
      "Shops_2          5000 non-null object\n",
      "dtypes: float64(7), int64(9), object(3)\n",
      "memory usage: 742.3+ KB\n"
     ]
    }
   ],
   "source": [
    "data_test.info()"
   ]
  },
  {
   "cell_type": "code",
   "execution_count": 41,
   "metadata": {},
   "outputs": [
    {
     "data": {
      "text/html": [
       "<div>\n",
       "<style scoped>\n",
       "    .dataframe tbody tr th:only-of-type {\n",
       "        vertical-align: middle;\n",
       "    }\n",
       "\n",
       "    .dataframe tbody tr th {\n",
       "        vertical-align: top;\n",
       "    }\n",
       "\n",
       "    .dataframe thead th {\n",
       "        text-align: right;\n",
       "    }\n",
       "</style>\n",
       "<table border=\"1\" class=\"dataframe\">\n",
       "  <thead>\n",
       "    <tr style=\"text-align: right;\">\n",
       "      <th></th>\n",
       "      <th>Id</th>\n",
       "      <th>DistrictId</th>\n",
       "      <th>Rooms</th>\n",
       "      <th>Square</th>\n",
       "      <th>LifeSquare</th>\n",
       "      <th>KitchenSquare</th>\n",
       "      <th>Floor</th>\n",
       "      <th>HouseFloor</th>\n",
       "      <th>HouseYear</th>\n",
       "      <th>Ecology_1</th>\n",
       "      <th>Social_1</th>\n",
       "      <th>Social_2</th>\n",
       "      <th>Social_3</th>\n",
       "      <th>Healthcare_1</th>\n",
       "      <th>Helthcare_2</th>\n",
       "      <th>Shops_1</th>\n",
       "    </tr>\n",
       "  </thead>\n",
       "  <tbody>\n",
       "    <tr>\n",
       "      <th>count</th>\n",
       "      <td>5000.000000</td>\n",
       "      <td>5000.000000</td>\n",
       "      <td>5000.000000</td>\n",
       "      <td>5000.000000</td>\n",
       "      <td>3959.000000</td>\n",
       "      <td>5000.000000</td>\n",
       "      <td>5000.000000</td>\n",
       "      <td>5000.000000</td>\n",
       "      <td>5000.000000</td>\n",
       "      <td>5000.000000</td>\n",
       "      <td>5000.000000</td>\n",
       "      <td>5000.000000</td>\n",
       "      <td>5000.000000</td>\n",
       "      <td>2623.000000</td>\n",
       "      <td>5000.00000</td>\n",
       "      <td>5000.000000</td>\n",
       "    </tr>\n",
       "    <tr>\n",
       "      <th>mean</th>\n",
       "      <td>8412.595400</td>\n",
       "      <td>51.279200</td>\n",
       "      <td>1.910000</td>\n",
       "      <td>56.449500</td>\n",
       "      <td>36.158810</td>\n",
       "      <td>5.976800</td>\n",
       "      <td>8.632000</td>\n",
       "      <td>12.601000</td>\n",
       "      <td>1984.392600</td>\n",
       "      <td>0.119874</td>\n",
       "      <td>24.933800</td>\n",
       "      <td>5406.900000</td>\n",
       "      <td>8.262600</td>\n",
       "      <td>1146.657263</td>\n",
       "      <td>1.31940</td>\n",
       "      <td>4.242800</td>\n",
       "    </tr>\n",
       "    <tr>\n",
       "      <th>std</th>\n",
       "      <td>4832.674037</td>\n",
       "      <td>44.179466</td>\n",
       "      <td>0.838594</td>\n",
       "      <td>19.092787</td>\n",
       "      <td>17.825287</td>\n",
       "      <td>9.950018</td>\n",
       "      <td>5.483228</td>\n",
       "      <td>6.789213</td>\n",
       "      <td>18.573149</td>\n",
       "      <td>0.120070</td>\n",
       "      <td>17.532202</td>\n",
       "      <td>4026.614773</td>\n",
       "      <td>23.863762</td>\n",
       "      <td>1044.744231</td>\n",
       "      <td>1.47994</td>\n",
       "      <td>4.777365</td>\n",
       "    </tr>\n",
       "    <tr>\n",
       "      <th>min</th>\n",
       "      <td>1.000000</td>\n",
       "      <td>0.000000</td>\n",
       "      <td>0.000000</td>\n",
       "      <td>1.378543</td>\n",
       "      <td>0.333490</td>\n",
       "      <td>0.000000</td>\n",
       "      <td>1.000000</td>\n",
       "      <td>0.000000</td>\n",
       "      <td>1908.000000</td>\n",
       "      <td>0.000000</td>\n",
       "      <td>0.000000</td>\n",
       "      <td>168.000000</td>\n",
       "      <td>0.000000</td>\n",
       "      <td>0.000000</td>\n",
       "      <td>0.00000</td>\n",
       "      <td>0.000000</td>\n",
       "    </tr>\n",
       "    <tr>\n",
       "      <th>25%</th>\n",
       "      <td>4221.750000</td>\n",
       "      <td>21.000000</td>\n",
       "      <td>1.000000</td>\n",
       "      <td>41.906231</td>\n",
       "      <td>23.092026</td>\n",
       "      <td>1.000000</td>\n",
       "      <td>4.000000</td>\n",
       "      <td>9.000000</td>\n",
       "      <td>1973.000000</td>\n",
       "      <td>0.019509</td>\n",
       "      <td>6.000000</td>\n",
       "      <td>1564.000000</td>\n",
       "      <td>0.000000</td>\n",
       "      <td>325.000000</td>\n",
       "      <td>0.00000</td>\n",
       "      <td>1.000000</td>\n",
       "    </tr>\n",
       "    <tr>\n",
       "      <th>50%</th>\n",
       "      <td>8320.500000</td>\n",
       "      <td>37.000000</td>\n",
       "      <td>2.000000</td>\n",
       "      <td>52.921340</td>\n",
       "      <td>32.925087</td>\n",
       "      <td>6.000000</td>\n",
       "      <td>7.000000</td>\n",
       "      <td>12.000000</td>\n",
       "      <td>1977.000000</td>\n",
       "      <td>0.072158</td>\n",
       "      <td>25.000000</td>\n",
       "      <td>5285.000000</td>\n",
       "      <td>2.000000</td>\n",
       "      <td>900.000000</td>\n",
       "      <td>1.00000</td>\n",
       "      <td>3.000000</td>\n",
       "    </tr>\n",
       "    <tr>\n",
       "      <th>75%</th>\n",
       "      <td>12598.250000</td>\n",
       "      <td>77.000000</td>\n",
       "      <td>2.000000</td>\n",
       "      <td>66.285129</td>\n",
       "      <td>45.174091</td>\n",
       "      <td>9.000000</td>\n",
       "      <td>12.000000</td>\n",
       "      <td>17.000000</td>\n",
       "      <td>2000.000000</td>\n",
       "      <td>0.195781</td>\n",
       "      <td>36.000000</td>\n",
       "      <td>7287.000000</td>\n",
       "      <td>5.000000</td>\n",
       "      <td>1548.000000</td>\n",
       "      <td>2.00000</td>\n",
       "      <td>6.000000</td>\n",
       "    </tr>\n",
       "    <tr>\n",
       "      <th>max</th>\n",
       "      <td>16795.000000</td>\n",
       "      <td>212.000000</td>\n",
       "      <td>17.000000</td>\n",
       "      <td>223.453689</td>\n",
       "      <td>303.071094</td>\n",
       "      <td>620.000000</td>\n",
       "      <td>78.000000</td>\n",
       "      <td>99.000000</td>\n",
       "      <td>2020.000000</td>\n",
       "      <td>0.521867</td>\n",
       "      <td>74.000000</td>\n",
       "      <td>19083.000000</td>\n",
       "      <td>141.000000</td>\n",
       "      <td>4849.000000</td>\n",
       "      <td>6.00000</td>\n",
       "      <td>23.000000</td>\n",
       "    </tr>\n",
       "  </tbody>\n",
       "</table>\n",
       "</div>"
      ],
      "text/plain": [
       "                 Id   DistrictId        Rooms       Square   LifeSquare  \\\n",
       "count   5000.000000  5000.000000  5000.000000  5000.000000  3959.000000   \n",
       "mean    8412.595400    51.279200     1.910000    56.449500    36.158810   \n",
       "std     4832.674037    44.179466     0.838594    19.092787    17.825287   \n",
       "min        1.000000     0.000000     0.000000     1.378543     0.333490   \n",
       "25%     4221.750000    21.000000     1.000000    41.906231    23.092026   \n",
       "50%     8320.500000    37.000000     2.000000    52.921340    32.925087   \n",
       "75%    12598.250000    77.000000     2.000000    66.285129    45.174091   \n",
       "max    16795.000000   212.000000    17.000000   223.453689   303.071094   \n",
       "\n",
       "       KitchenSquare        Floor   HouseFloor    HouseYear    Ecology_1  \\\n",
       "count    5000.000000  5000.000000  5000.000000  5000.000000  5000.000000   \n",
       "mean        5.976800     8.632000    12.601000  1984.392600     0.119874   \n",
       "std         9.950018     5.483228     6.789213    18.573149     0.120070   \n",
       "min         0.000000     1.000000     0.000000  1908.000000     0.000000   \n",
       "25%         1.000000     4.000000     9.000000  1973.000000     0.019509   \n",
       "50%         6.000000     7.000000    12.000000  1977.000000     0.072158   \n",
       "75%         9.000000    12.000000    17.000000  2000.000000     0.195781   \n",
       "max       620.000000    78.000000    99.000000  2020.000000     0.521867   \n",
       "\n",
       "          Social_1      Social_2     Social_3  Healthcare_1  Helthcare_2  \\\n",
       "count  5000.000000   5000.000000  5000.000000   2623.000000   5000.00000   \n",
       "mean     24.933800   5406.900000     8.262600   1146.657263      1.31940   \n",
       "std      17.532202   4026.614773    23.863762   1044.744231      1.47994   \n",
       "min       0.000000    168.000000     0.000000      0.000000      0.00000   \n",
       "25%       6.000000   1564.000000     0.000000    325.000000      0.00000   \n",
       "50%      25.000000   5285.000000     2.000000    900.000000      1.00000   \n",
       "75%      36.000000   7287.000000     5.000000   1548.000000      2.00000   \n",
       "max      74.000000  19083.000000   141.000000   4849.000000      6.00000   \n",
       "\n",
       "           Shops_1  \n",
       "count  5000.000000  \n",
       "mean      4.242800  \n",
       "std       4.777365  \n",
       "min       0.000000  \n",
       "25%       1.000000  \n",
       "50%       3.000000  \n",
       "75%       6.000000  \n",
       "max      23.000000  "
      ]
     },
     "execution_count": 41,
     "metadata": {},
     "output_type": "execute_result"
    }
   ],
   "source": [
    "data_test.describe()"
   ]
  },
  {
   "cell_type": "code",
   "execution_count": 42,
   "metadata": {},
   "outputs": [],
   "source": [
    "data_test = data_test.drop('Healthcare_1', axis=1)"
   ]
  },
  {
   "cell_type": "code",
   "execution_count": 43,
   "metadata": {},
   "outputs": [
    {
     "data": {
      "text/plain": [
       "3253    1908\n",
       "2       1909\n",
       "2691    1910\n",
       "64      1911\n",
       "1475    1912\n",
       "2856    1914\n",
       "Name: HouseYear, dtype: int64"
      ]
     },
     "execution_count": 43,
     "metadata": {},
     "output_type": "execute_result"
    }
   ],
   "source": [
    "data_test.loc[(~data_test['HouseYear'].between(1915, 2020)), 'HouseYear'].sort_values()"
   ]
  },
  {
   "cell_type": "code",
   "execution_count": 44,
   "metadata": {},
   "outputs": [
    {
     "data": {
      "text/html": [
       "<div>\n",
       "<style scoped>\n",
       "    .dataframe tbody tr th:only-of-type {\n",
       "        vertical-align: middle;\n",
       "    }\n",
       "\n",
       "    .dataframe tbody tr th {\n",
       "        vertical-align: top;\n",
       "    }\n",
       "\n",
       "    .dataframe thead th {\n",
       "        text-align: right;\n",
       "    }\n",
       "</style>\n",
       "<table border=\"1\" class=\"dataframe\">\n",
       "  <thead>\n",
       "    <tr style=\"text-align: right;\">\n",
       "      <th></th>\n",
       "      <th>Id</th>\n",
       "      <th>DistrictId</th>\n",
       "      <th>Rooms</th>\n",
       "      <th>Square</th>\n",
       "      <th>LifeSquare</th>\n",
       "      <th>KitchenSquare</th>\n",
       "      <th>Floor</th>\n",
       "      <th>HouseFloor</th>\n",
       "      <th>HouseYear</th>\n",
       "      <th>Ecology_1</th>\n",
       "      <th>Ecology_2</th>\n",
       "      <th>Ecology_3</th>\n",
       "      <th>Social_1</th>\n",
       "      <th>Social_2</th>\n",
       "      <th>Social_3</th>\n",
       "      <th>Helthcare_2</th>\n",
       "      <th>Shops_1</th>\n",
       "      <th>Shops_2</th>\n",
       "    </tr>\n",
       "  </thead>\n",
       "  <tbody>\n",
       "    <tr>\n",
       "      <th>2071</th>\n",
       "      <td>10793</td>\n",
       "      <td>23</td>\n",
       "      <td>6.0</td>\n",
       "      <td>110.750226</td>\n",
       "      <td>NaN</td>\n",
       "      <td>0.0</td>\n",
       "      <td>2</td>\n",
       "      <td>2.0</td>\n",
       "      <td>2015</td>\n",
       "      <td>0.014073</td>\n",
       "      <td>B</td>\n",
       "      <td>B</td>\n",
       "      <td>2</td>\n",
       "      <td>475</td>\n",
       "      <td>0</td>\n",
       "      <td>0</td>\n",
       "      <td>0</td>\n",
       "      <td>B</td>\n",
       "    </tr>\n",
       "    <tr>\n",
       "      <th>3217</th>\n",
       "      <td>4058</td>\n",
       "      <td>27</td>\n",
       "      <td>6.0</td>\n",
       "      <td>223.453689</td>\n",
       "      <td>104.113552</td>\n",
       "      <td>16.0</td>\n",
       "      <td>2</td>\n",
       "      <td>2.0</td>\n",
       "      <td>2017</td>\n",
       "      <td>0.041116</td>\n",
       "      <td>B</td>\n",
       "      <td>B</td>\n",
       "      <td>53</td>\n",
       "      <td>14892</td>\n",
       "      <td>4</td>\n",
       "      <td>1</td>\n",
       "      <td>4</td>\n",
       "      <td>B</td>\n",
       "    </tr>\n",
       "    <tr>\n",
       "      <th>3398</th>\n",
       "      <td>1435</td>\n",
       "      <td>111</td>\n",
       "      <td>17.0</td>\n",
       "      <td>52.866107</td>\n",
       "      <td>32.528342</td>\n",
       "      <td>8.0</td>\n",
       "      <td>15</td>\n",
       "      <td>17.0</td>\n",
       "      <td>1987</td>\n",
       "      <td>0.093443</td>\n",
       "      <td>B</td>\n",
       "      <td>B</td>\n",
       "      <td>23</td>\n",
       "      <td>4635</td>\n",
       "      <td>5</td>\n",
       "      <td>2</td>\n",
       "      <td>4</td>\n",
       "      <td>B</td>\n",
       "    </tr>\n",
       "  </tbody>\n",
       "</table>\n",
       "</div>"
      ],
      "text/plain": [
       "         Id  DistrictId  Rooms      Square  LifeSquare  KitchenSquare  Floor  \\\n",
       "2071  10793          23    6.0  110.750226         NaN            0.0      2   \n",
       "3217   4058          27    6.0  223.453689  104.113552           16.0      2   \n",
       "3398   1435         111   17.0   52.866107   32.528342            8.0     15   \n",
       "\n",
       "      HouseFloor  HouseYear  Ecology_1 Ecology_2 Ecology_3  Social_1  \\\n",
       "2071         2.0       2015   0.014073         B         B         2   \n",
       "3217         2.0       2017   0.041116         B         B        53   \n",
       "3398        17.0       1987   0.093443         B         B        23   \n",
       "\n",
       "      Social_2  Social_3  Helthcare_2  Shops_1 Shops_2  \n",
       "2071       475         0            0        0       B  \n",
       "3217     14892         4            1        4       B  \n",
       "3398      4635         5            2        4       B  "
      ]
     },
     "execution_count": 44,
     "metadata": {},
     "output_type": "execute_result"
    }
   ],
   "source": [
    "data_test.loc[data_test['Rooms']>5]"
   ]
  },
  {
   "cell_type": "code",
   "execution_count": 45,
   "metadata": {},
   "outputs": [],
   "source": [
    "data_test.drop(data_test.loc[data_test['Rooms']>5].index, axis=0, inplace=True)"
   ]
  },
  {
   "cell_type": "code",
   "execution_count": 46,
   "metadata": {},
   "outputs": [
    {
     "data": {
      "text/html": [
       "<div>\n",
       "<style scoped>\n",
       "    .dataframe tbody tr th:only-of-type {\n",
       "        vertical-align: middle;\n",
       "    }\n",
       "\n",
       "    .dataframe tbody tr th {\n",
       "        vertical-align: top;\n",
       "    }\n",
       "\n",
       "    .dataframe thead th {\n",
       "        text-align: right;\n",
       "    }\n",
       "</style>\n",
       "<table border=\"1\" class=\"dataframe\">\n",
       "  <thead>\n",
       "    <tr style=\"text-align: right;\">\n",
       "      <th></th>\n",
       "      <th>Id</th>\n",
       "      <th>DistrictId</th>\n",
       "      <th>Rooms</th>\n",
       "      <th>Square</th>\n",
       "      <th>LifeSquare</th>\n",
       "      <th>KitchenSquare</th>\n",
       "      <th>Floor</th>\n",
       "      <th>HouseFloor</th>\n",
       "      <th>HouseYear</th>\n",
       "      <th>Ecology_1</th>\n",
       "      <th>Ecology_2</th>\n",
       "      <th>Ecology_3</th>\n",
       "      <th>Social_1</th>\n",
       "      <th>Social_2</th>\n",
       "      <th>Social_3</th>\n",
       "      <th>Helthcare_2</th>\n",
       "      <th>Shops_1</th>\n",
       "      <th>Shops_2</th>\n",
       "    </tr>\n",
       "  </thead>\n",
       "  <tbody>\n",
       "    <tr>\n",
       "      <th>2406</th>\n",
       "      <td>3343</td>\n",
       "      <td>58</td>\n",
       "      <td>0.0</td>\n",
       "      <td>116.824201</td>\n",
       "      <td>113.692424</td>\n",
       "      <td>0.0</td>\n",
       "      <td>3</td>\n",
       "      <td>3.0</td>\n",
       "      <td>1977</td>\n",
       "      <td>0.437885</td>\n",
       "      <td>B</td>\n",
       "      <td>B</td>\n",
       "      <td>23</td>\n",
       "      <td>5735</td>\n",
       "      <td>3</td>\n",
       "      <td>0</td>\n",
       "      <td>5</td>\n",
       "      <td>B</td>\n",
       "    </tr>\n",
       "    <tr>\n",
       "      <th>2524</th>\n",
       "      <td>10729</td>\n",
       "      <td>27</td>\n",
       "      <td>0.0</td>\n",
       "      <td>76.345154</td>\n",
       "      <td>42.820796</td>\n",
       "      <td>12.0</td>\n",
       "      <td>14</td>\n",
       "      <td>0.0</td>\n",
       "      <td>1977</td>\n",
       "      <td>0.017647</td>\n",
       "      <td>B</td>\n",
       "      <td>B</td>\n",
       "      <td>2</td>\n",
       "      <td>469</td>\n",
       "      <td>0</td>\n",
       "      <td>0</td>\n",
       "      <td>0</td>\n",
       "      <td>B</td>\n",
       "    </tr>\n",
       "  </tbody>\n",
       "</table>\n",
       "</div>"
      ],
      "text/plain": [
       "         Id  DistrictId  Rooms      Square  LifeSquare  KitchenSquare  Floor  \\\n",
       "2406   3343          58    0.0  116.824201  113.692424            0.0      3   \n",
       "2524  10729          27    0.0   76.345154   42.820796           12.0     14   \n",
       "\n",
       "      HouseFloor  HouseYear  Ecology_1 Ecology_2 Ecology_3  Social_1  \\\n",
       "2406         3.0       1977   0.437885         B         B        23   \n",
       "2524         0.0       1977   0.017647         B         B         2   \n",
       "\n",
       "      Social_2  Social_3  Helthcare_2  Shops_1 Shops_2  \n",
       "2406      5735         3            0        5       B  \n",
       "2524       469         0            0        0       B  "
      ]
     },
     "execution_count": 46,
     "metadata": {},
     "output_type": "execute_result"
    }
   ],
   "source": [
    "data_test.loc[data_test['Rooms']==0]"
   ]
  },
  {
   "cell_type": "code",
   "execution_count": 47,
   "metadata": {},
   "outputs": [],
   "source": [
    "data_test.drop(data_test.loc[data_test['Rooms']==0].index, axis=0, inplace=True)"
   ]
  },
  {
   "cell_type": "code",
   "execution_count": 48,
   "metadata": {},
   "outputs": [
    {
     "data": {
      "text/html": [
       "<div>\n",
       "<style scoped>\n",
       "    .dataframe tbody tr th:only-of-type {\n",
       "        vertical-align: middle;\n",
       "    }\n",
       "\n",
       "    .dataframe tbody tr th {\n",
       "        vertical-align: top;\n",
       "    }\n",
       "\n",
       "    .dataframe thead th {\n",
       "        text-align: right;\n",
       "    }\n",
       "</style>\n",
       "<table border=\"1\" class=\"dataframe\">\n",
       "  <thead>\n",
       "    <tr style=\"text-align: right;\">\n",
       "      <th></th>\n",
       "      <th>Id</th>\n",
       "      <th>DistrictId</th>\n",
       "      <th>Rooms</th>\n",
       "      <th>Square</th>\n",
       "      <th>LifeSquare</th>\n",
       "      <th>KitchenSquare</th>\n",
       "      <th>Floor</th>\n",
       "      <th>HouseFloor</th>\n",
       "      <th>HouseYear</th>\n",
       "      <th>Ecology_1</th>\n",
       "      <th>Ecology_2</th>\n",
       "      <th>Ecology_3</th>\n",
       "      <th>Social_1</th>\n",
       "      <th>Social_2</th>\n",
       "      <th>Social_3</th>\n",
       "      <th>Helthcare_2</th>\n",
       "      <th>Shops_1</th>\n",
       "      <th>Shops_2</th>\n",
       "    </tr>\n",
       "  </thead>\n",
       "  <tbody>\n",
       "    <tr>\n",
       "      <th>2</th>\n",
       "      <td>5480</td>\n",
       "      <td>190</td>\n",
       "      <td>1.0</td>\n",
       "      <td>13.597819</td>\n",
       "      <td>15.948246</td>\n",
       "      <td>12.0</td>\n",
       "      <td>2</td>\n",
       "      <td>5.0</td>\n",
       "      <td>1909</td>\n",
       "      <td>0.000000</td>\n",
       "      <td>B</td>\n",
       "      <td>B</td>\n",
       "      <td>30</td>\n",
       "      <td>7538</td>\n",
       "      <td>87</td>\n",
       "      <td>5</td>\n",
       "      <td>5</td>\n",
       "      <td>B</td>\n",
       "    </tr>\n",
       "    <tr>\n",
       "      <th>66</th>\n",
       "      <td>9011</td>\n",
       "      <td>53</td>\n",
       "      <td>1.0</td>\n",
       "      <td>1.378543</td>\n",
       "      <td>1.353573</td>\n",
       "      <td>1.0</td>\n",
       "      <td>1</td>\n",
       "      <td>1.0</td>\n",
       "      <td>1977</td>\n",
       "      <td>0.049637</td>\n",
       "      <td>B</td>\n",
       "      <td>B</td>\n",
       "      <td>34</td>\n",
       "      <td>7759</td>\n",
       "      <td>0</td>\n",
       "      <td>1</td>\n",
       "      <td>3</td>\n",
       "      <td>B</td>\n",
       "    </tr>\n",
       "    <tr>\n",
       "      <th>608</th>\n",
       "      <td>16401</td>\n",
       "      <td>30</td>\n",
       "      <td>1.0</td>\n",
       "      <td>2.645046</td>\n",
       "      <td>4.338755</td>\n",
       "      <td>1.0</td>\n",
       "      <td>2</td>\n",
       "      <td>1.0</td>\n",
       "      <td>1977</td>\n",
       "      <td>0.000078</td>\n",
       "      <td>B</td>\n",
       "      <td>B</td>\n",
       "      <td>22</td>\n",
       "      <td>6398</td>\n",
       "      <td>141</td>\n",
       "      <td>3</td>\n",
       "      <td>23</td>\n",
       "      <td>B</td>\n",
       "    </tr>\n",
       "    <tr>\n",
       "      <th>837</th>\n",
       "      <td>2138</td>\n",
       "      <td>27</td>\n",
       "      <td>1.0</td>\n",
       "      <td>5.647458</td>\n",
       "      <td>1.501582</td>\n",
       "      <td>1.0</td>\n",
       "      <td>1</td>\n",
       "      <td>1.0</td>\n",
       "      <td>1977</td>\n",
       "      <td>0.017647</td>\n",
       "      <td>B</td>\n",
       "      <td>B</td>\n",
       "      <td>2</td>\n",
       "      <td>469</td>\n",
       "      <td>0</td>\n",
       "      <td>0</td>\n",
       "      <td>0</td>\n",
       "      <td>B</td>\n",
       "    </tr>\n",
       "    <tr>\n",
       "      <th>1165</th>\n",
       "      <td>10120</td>\n",
       "      <td>6</td>\n",
       "      <td>1.0</td>\n",
       "      <td>5.100672</td>\n",
       "      <td>3.861780</td>\n",
       "      <td>1.0</td>\n",
       "      <td>3</td>\n",
       "      <td>1.0</td>\n",
       "      <td>1977</td>\n",
       "      <td>0.243205</td>\n",
       "      <td>B</td>\n",
       "      <td>B</td>\n",
       "      <td>5</td>\n",
       "      <td>1564</td>\n",
       "      <td>0</td>\n",
       "      <td>0</td>\n",
       "      <td>0</td>\n",
       "      <td>B</td>\n",
       "    </tr>\n",
       "    <tr>\n",
       "      <th>3697</th>\n",
       "      <td>15435</td>\n",
       "      <td>21</td>\n",
       "      <td>1.0</td>\n",
       "      <td>13.305531</td>\n",
       "      <td>9.495367</td>\n",
       "      <td>0.0</td>\n",
       "      <td>6</td>\n",
       "      <td>5.0</td>\n",
       "      <td>1965</td>\n",
       "      <td>0.194489</td>\n",
       "      <td>B</td>\n",
       "      <td>B</td>\n",
       "      <td>47</td>\n",
       "      <td>8004</td>\n",
       "      <td>3</td>\n",
       "      <td>3</td>\n",
       "      <td>5</td>\n",
       "      <td>B</td>\n",
       "    </tr>\n",
       "    <tr>\n",
       "      <th>4490</th>\n",
       "      <td>1165</td>\n",
       "      <td>27</td>\n",
       "      <td>1.0</td>\n",
       "      <td>2.372101</td>\n",
       "      <td>1.899119</td>\n",
       "      <td>1.0</td>\n",
       "      <td>2</td>\n",
       "      <td>17.0</td>\n",
       "      <td>1977</td>\n",
       "      <td>0.011654</td>\n",
       "      <td>B</td>\n",
       "      <td>B</td>\n",
       "      <td>4</td>\n",
       "      <td>915</td>\n",
       "      <td>0</td>\n",
       "      <td>0</td>\n",
       "      <td>0</td>\n",
       "      <td>B</td>\n",
       "    </tr>\n",
       "    <tr>\n",
       "      <th>4540</th>\n",
       "      <td>7855</td>\n",
       "      <td>6</td>\n",
       "      <td>1.0</td>\n",
       "      <td>4.967143</td>\n",
       "      <td>2.968086</td>\n",
       "      <td>1.0</td>\n",
       "      <td>3</td>\n",
       "      <td>1.0</td>\n",
       "      <td>2018</td>\n",
       "      <td>0.243205</td>\n",
       "      <td>B</td>\n",
       "      <td>B</td>\n",
       "      <td>5</td>\n",
       "      <td>1564</td>\n",
       "      <td>0</td>\n",
       "      <td>0</td>\n",
       "      <td>0</td>\n",
       "      <td>B</td>\n",
       "    </tr>\n",
       "    <tr>\n",
       "      <th>4713</th>\n",
       "      <td>170</td>\n",
       "      <td>6</td>\n",
       "      <td>2.0</td>\n",
       "      <td>2.900586</td>\n",
       "      <td>61.468563</td>\n",
       "      <td>1.0</td>\n",
       "      <td>18</td>\n",
       "      <td>17.0</td>\n",
       "      <td>2014</td>\n",
       "      <td>0.243205</td>\n",
       "      <td>B</td>\n",
       "      <td>B</td>\n",
       "      <td>5</td>\n",
       "      <td>1564</td>\n",
       "      <td>0</td>\n",
       "      <td>0</td>\n",
       "      <td>0</td>\n",
       "      <td>B</td>\n",
       "    </tr>\n",
       "    <tr>\n",
       "      <th>4902</th>\n",
       "      <td>1420</td>\n",
       "      <td>45</td>\n",
       "      <td>1.0</td>\n",
       "      <td>1.975769</td>\n",
       "      <td>2.900371</td>\n",
       "      <td>1.0</td>\n",
       "      <td>1</td>\n",
       "      <td>1.0</td>\n",
       "      <td>1977</td>\n",
       "      <td>0.195781</td>\n",
       "      <td>B</td>\n",
       "      <td>B</td>\n",
       "      <td>23</td>\n",
       "      <td>5212</td>\n",
       "      <td>6</td>\n",
       "      <td>3</td>\n",
       "      <td>2</td>\n",
       "      <td>B</td>\n",
       "    </tr>\n",
       "  </tbody>\n",
       "</table>\n",
       "</div>"
      ],
      "text/plain": [
       "         Id  DistrictId  Rooms     Square  LifeSquare  KitchenSquare  Floor  \\\n",
       "2      5480         190    1.0  13.597819   15.948246           12.0      2   \n",
       "66     9011          53    1.0   1.378543    1.353573            1.0      1   \n",
       "608   16401          30    1.0   2.645046    4.338755            1.0      2   \n",
       "837    2138          27    1.0   5.647458    1.501582            1.0      1   \n",
       "1165  10120           6    1.0   5.100672    3.861780            1.0      3   \n",
       "3697  15435          21    1.0  13.305531    9.495367            0.0      6   \n",
       "4490   1165          27    1.0   2.372101    1.899119            1.0      2   \n",
       "4540   7855           6    1.0   4.967143    2.968086            1.0      3   \n",
       "4713    170           6    2.0   2.900586   61.468563            1.0     18   \n",
       "4902   1420          45    1.0   1.975769    2.900371            1.0      1   \n",
       "\n",
       "      HouseFloor  HouseYear  Ecology_1 Ecology_2 Ecology_3  Social_1  \\\n",
       "2            5.0       1909   0.000000         B         B        30   \n",
       "66           1.0       1977   0.049637         B         B        34   \n",
       "608          1.0       1977   0.000078         B         B        22   \n",
       "837          1.0       1977   0.017647         B         B         2   \n",
       "1165         1.0       1977   0.243205         B         B         5   \n",
       "3697         5.0       1965   0.194489         B         B        47   \n",
       "4490        17.0       1977   0.011654         B         B         4   \n",
       "4540         1.0       2018   0.243205         B         B         5   \n",
       "4713        17.0       2014   0.243205         B         B         5   \n",
       "4902         1.0       1977   0.195781         B         B        23   \n",
       "\n",
       "      Social_2  Social_3  Helthcare_2  Shops_1 Shops_2  \n",
       "2         7538        87            5        5       B  \n",
       "66        7759         0            1        3       B  \n",
       "608       6398       141            3       23       B  \n",
       "837        469         0            0        0       B  \n",
       "1165      1564         0            0        0       B  \n",
       "3697      8004         3            3        5       B  \n",
       "4490       915         0            0        0       B  \n",
       "4540      1564         0            0        0       B  \n",
       "4713      1564         0            0        0       B  \n",
       "4902      5212         6            3        2       B  "
      ]
     },
     "execution_count": 48,
     "metadata": {},
     "output_type": "execute_result"
    }
   ],
   "source": [
    "data_test.loc[data_test['Square']<15]"
   ]
  },
  {
   "cell_type": "code",
   "execution_count": 49,
   "metadata": {},
   "outputs": [],
   "source": [
    "data_test.drop(data_test.loc[data_test['Square']<15].index, axis=0, inplace=True)"
   ]
  },
  {
   "cell_type": "code",
   "execution_count": 50,
   "metadata": {},
   "outputs": [
    {
     "data": {
      "text/html": [
       "<div>\n",
       "<style scoped>\n",
       "    .dataframe tbody tr th:only-of-type {\n",
       "        vertical-align: middle;\n",
       "    }\n",
       "\n",
       "    .dataframe tbody tr th {\n",
       "        vertical-align: top;\n",
       "    }\n",
       "\n",
       "    .dataframe thead th {\n",
       "        text-align: right;\n",
       "    }\n",
       "</style>\n",
       "<table border=\"1\" class=\"dataframe\">\n",
       "  <thead>\n",
       "    <tr style=\"text-align: right;\">\n",
       "      <th></th>\n",
       "      <th>Id</th>\n",
       "      <th>DistrictId</th>\n",
       "      <th>Rooms</th>\n",
       "      <th>Square</th>\n",
       "      <th>LifeSquare</th>\n",
       "      <th>KitchenSquare</th>\n",
       "      <th>Floor</th>\n",
       "      <th>HouseFloor</th>\n",
       "      <th>HouseYear</th>\n",
       "      <th>Ecology_1</th>\n",
       "      <th>Ecology_2</th>\n",
       "      <th>Ecology_3</th>\n",
       "      <th>Social_1</th>\n",
       "      <th>Social_2</th>\n",
       "      <th>Social_3</th>\n",
       "      <th>Helthcare_2</th>\n",
       "      <th>Shops_1</th>\n",
       "      <th>Shops_2</th>\n",
       "    </tr>\n",
       "  </thead>\n",
       "  <tbody>\n",
       "    <tr>\n",
       "      <th>3909</th>\n",
       "      <td>1397</td>\n",
       "      <td>76</td>\n",
       "      <td>3.0</td>\n",
       "      <td>221.138768</td>\n",
       "      <td>118.055342</td>\n",
       "      <td>4.0</td>\n",
       "      <td>32</td>\n",
       "      <td>48.0</td>\n",
       "      <td>2011</td>\n",
       "      <td>0.0</td>\n",
       "      <td>B</td>\n",
       "      <td>B</td>\n",
       "      <td>7</td>\n",
       "      <td>1660</td>\n",
       "      <td>39</td>\n",
       "      <td>1</td>\n",
       "      <td>5</td>\n",
       "      <td>B</td>\n",
       "    </tr>\n",
       "  </tbody>\n",
       "</table>\n",
       "</div>"
      ],
      "text/plain": [
       "        Id  DistrictId  Rooms      Square  LifeSquare  KitchenSquare  Floor  \\\n",
       "3909  1397          76    3.0  221.138768  118.055342            4.0     32   \n",
       "\n",
       "      HouseFloor  HouseYear  Ecology_1 Ecology_2 Ecology_3  Social_1  \\\n",
       "3909        48.0       2011        0.0         B         B         7   \n",
       "\n",
       "      Social_2  Social_3  Helthcare_2  Shops_1 Shops_2  \n",
       "3909      1660        39            1        5       B  "
      ]
     },
     "execution_count": 50,
     "metadata": {},
     "output_type": "execute_result"
    }
   ],
   "source": [
    "data_test.loc[data_test['Square']>200]"
   ]
  },
  {
   "cell_type": "code",
   "execution_count": 51,
   "metadata": {},
   "outputs": [],
   "source": [
    "data_test.drop(data_test.loc[data_test['Square']>200].index, axis=0, inplace=True)"
   ]
  },
  {
   "cell_type": "code",
   "execution_count": 52,
   "metadata": {},
   "outputs": [],
   "source": [
    "data_test['LifeSquare'] = data_test['LifeSquare'].fillna(data_test['LifeSquare'].mean())"
   ]
  },
  {
   "cell_type": "code",
   "execution_count": 53,
   "metadata": {},
   "outputs": [
    {
     "data": {
      "text/html": [
       "<div>\n",
       "<style scoped>\n",
       "    .dataframe tbody tr th:only-of-type {\n",
       "        vertical-align: middle;\n",
       "    }\n",
       "\n",
       "    .dataframe tbody tr th {\n",
       "        vertical-align: top;\n",
       "    }\n",
       "\n",
       "    .dataframe thead th {\n",
       "        text-align: right;\n",
       "    }\n",
       "</style>\n",
       "<table border=\"1\" class=\"dataframe\">\n",
       "  <thead>\n",
       "    <tr style=\"text-align: right;\">\n",
       "      <th></th>\n",
       "      <th>Id</th>\n",
       "      <th>DistrictId</th>\n",
       "      <th>Rooms</th>\n",
       "      <th>Square</th>\n",
       "      <th>LifeSquare</th>\n",
       "      <th>KitchenSquare</th>\n",
       "      <th>Floor</th>\n",
       "      <th>HouseFloor</th>\n",
       "      <th>HouseYear</th>\n",
       "      <th>Ecology_1</th>\n",
       "      <th>Ecology_2</th>\n",
       "      <th>Ecology_3</th>\n",
       "      <th>Social_1</th>\n",
       "      <th>Social_2</th>\n",
       "      <th>Social_3</th>\n",
       "      <th>Helthcare_2</th>\n",
       "      <th>Shops_1</th>\n",
       "      <th>Shops_2</th>\n",
       "    </tr>\n",
       "  </thead>\n",
       "  <tbody>\n",
       "    <tr>\n",
       "      <th>410</th>\n",
       "      <td>11533</td>\n",
       "      <td>94</td>\n",
       "      <td>2.0</td>\n",
       "      <td>48.713443</td>\n",
       "      <td>303.071094</td>\n",
       "      <td>6.0</td>\n",
       "      <td>5</td>\n",
       "      <td>12.0</td>\n",
       "      <td>1974</td>\n",
       "      <td>0.521867</td>\n",
       "      <td>B</td>\n",
       "      <td>B</td>\n",
       "      <td>25</td>\n",
       "      <td>6149</td>\n",
       "      <td>0</td>\n",
       "      <td>0</td>\n",
       "      <td>0</td>\n",
       "      <td>B</td>\n",
       "    </tr>\n",
       "  </tbody>\n",
       "</table>\n",
       "</div>"
      ],
      "text/plain": [
       "        Id  DistrictId  Rooms     Square  LifeSquare  KitchenSquare  Floor  \\\n",
       "410  11533          94    2.0  48.713443  303.071094            6.0      5   \n",
       "\n",
       "     HouseFloor  HouseYear  Ecology_1 Ecology_2 Ecology_3  Social_1  Social_2  \\\n",
       "410        12.0       1974   0.521867         B         B        25      6149   \n",
       "\n",
       "     Social_3  Helthcare_2  Shops_1 Shops_2  \n",
       "410         0            0        0       B  "
      ]
     },
     "execution_count": 53,
     "metadata": {},
     "output_type": "execute_result"
    }
   ],
   "source": [
    "data_test.loc[data_test['LifeSquare']>200]"
   ]
  },
  {
   "cell_type": "code",
   "execution_count": 54,
   "metadata": {},
   "outputs": [],
   "source": [
    "data_test.drop(data_test.loc[data_test['LifeSquare']>200].index, axis=0, inplace=True)"
   ]
  },
  {
   "cell_type": "code",
   "execution_count": 55,
   "metadata": {},
   "outputs": [],
   "source": [
    "map_AB = {\n",
    "    'A': 0,\n",
    "    'B': 1\n",
    "}\n",
    "data_test[\"Ecology_2\"] = data_test[\"Ecology_2\"].map(map_AB)\n",
    "data_test[\"Ecology_3\"] = data_test[\"Ecology_3\"].map(map_AB)\n",
    "data_test[\"Shops_2\"] = data_test[\"Shops_2\"].map(map_AB)"
   ]
  },
  {
   "cell_type": "code",
   "execution_count": 56,
   "metadata": {},
   "outputs": [
    {
     "name": "stdout",
     "output_type": "stream",
     "text": [
      "<class 'pandas.core.frame.DataFrame'>\n",
      "Int64Index: 4983 entries, 0 to 4999\n",
      "Data columns (total 18 columns):\n",
      "Id               4983 non-null int64\n",
      "DistrictId       4983 non-null int64\n",
      "Rooms            4983 non-null float64\n",
      "Square           4983 non-null float64\n",
      "LifeSquare       4983 non-null float64\n",
      "KitchenSquare    4983 non-null float64\n",
      "Floor            4983 non-null int64\n",
      "HouseFloor       4983 non-null float64\n",
      "HouseYear        4983 non-null int64\n",
      "Ecology_1        4983 non-null float64\n",
      "Ecology_2        4983 non-null int64\n",
      "Ecology_3        4983 non-null int64\n",
      "Social_1         4983 non-null int64\n",
      "Social_2         4983 non-null int64\n",
      "Social_3         4983 non-null int64\n",
      "Helthcare_2      4983 non-null int64\n",
      "Shops_1          4983 non-null int64\n",
      "Shops_2          4983 non-null int64\n",
      "dtypes: float64(6), int64(12)\n",
      "memory usage: 739.7 KB\n"
     ]
    }
   ],
   "source": [
    "data_test.info()"
   ]
  },
  {
   "cell_type": "code",
   "execution_count": 57,
   "metadata": {},
   "outputs": [
    {
     "data": {
      "text/html": [
       "<div>\n",
       "<style scoped>\n",
       "    .dataframe tbody tr th:only-of-type {\n",
       "        vertical-align: middle;\n",
       "    }\n",
       "\n",
       "    .dataframe tbody tr th {\n",
       "        vertical-align: top;\n",
       "    }\n",
       "\n",
       "    .dataframe thead th {\n",
       "        text-align: right;\n",
       "    }\n",
       "</style>\n",
       "<table border=\"1\" class=\"dataframe\">\n",
       "  <thead>\n",
       "    <tr style=\"text-align: right;\">\n",
       "      <th></th>\n",
       "      <th>Id</th>\n",
       "      <th>DistrictId</th>\n",
       "      <th>Rooms</th>\n",
       "      <th>Square</th>\n",
       "      <th>LifeSquare</th>\n",
       "      <th>KitchenSquare</th>\n",
       "      <th>Floor</th>\n",
       "      <th>HouseFloor</th>\n",
       "      <th>HouseYear</th>\n",
       "      <th>Ecology_1</th>\n",
       "      <th>Ecology_2</th>\n",
       "      <th>Ecology_3</th>\n",
       "      <th>Social_1</th>\n",
       "      <th>Social_2</th>\n",
       "      <th>Social_3</th>\n",
       "      <th>Helthcare_2</th>\n",
       "      <th>Shops_1</th>\n",
       "      <th>Shops_2</th>\n",
       "    </tr>\n",
       "  </thead>\n",
       "  <tbody>\n",
       "    <tr>\n",
       "      <th>count</th>\n",
       "      <td>4983.000000</td>\n",
       "      <td>4983.000000</td>\n",
       "      <td>4983.000000</td>\n",
       "      <td>4983.000000</td>\n",
       "      <td>4983.000000</td>\n",
       "      <td>4983.000000</td>\n",
       "      <td>4983.000000</td>\n",
       "      <td>4983.000000</td>\n",
       "      <td>4983.000000</td>\n",
       "      <td>4983.000000</td>\n",
       "      <td>4983.000000</td>\n",
       "      <td>4983.000000</td>\n",
       "      <td>4983.000000</td>\n",
       "      <td>4983.000000</td>\n",
       "      <td>4983.000000</td>\n",
       "      <td>4983.000000</td>\n",
       "      <td>4983.000000</td>\n",
       "      <td>4983.000000</td>\n",
       "    </tr>\n",
       "    <tr>\n",
       "      <th>mean</th>\n",
       "      <td>8418.722456</td>\n",
       "      <td>51.288180</td>\n",
       "      <td>1.907485</td>\n",
       "      <td>56.460670</td>\n",
       "      <td>36.111697</td>\n",
       "      <td>5.983945</td>\n",
       "      <td>8.638973</td>\n",
       "      <td>12.617098</td>\n",
       "      <td>1984.394341</td>\n",
       "      <td>0.119816</td>\n",
       "      <td>0.990367</td>\n",
       "      <td>0.970098</td>\n",
       "      <td>24.956251</td>\n",
       "      <td>5410.294602</td>\n",
       "      <td>8.232992</td>\n",
       "      <td>1.320088</td>\n",
       "      <td>4.246037</td>\n",
       "      <td>0.917319</td>\n",
       "    </tr>\n",
       "    <tr>\n",
       "      <th>std</th>\n",
       "      <td>4830.585600</td>\n",
       "      <td>44.173034</td>\n",
       "      <td>0.806232</td>\n",
       "      <td>18.656069</td>\n",
       "      <td>15.254838</td>\n",
       "      <td>9.962079</td>\n",
       "      <td>5.470359</td>\n",
       "      <td>6.760653</td>\n",
       "      <td>18.543612</td>\n",
       "      <td>0.119925</td>\n",
       "      <td>0.097683</td>\n",
       "      <td>0.170333</td>\n",
       "      <td>17.533866</td>\n",
       "      <td>4026.986239</td>\n",
       "      <td>23.797261</td>\n",
       "      <td>1.479857</td>\n",
       "      <td>4.774908</td>\n",
       "      <td>0.275427</td>\n",
       "    </tr>\n",
       "    <tr>\n",
       "      <th>min</th>\n",
       "      <td>1.000000</td>\n",
       "      <td>0.000000</td>\n",
       "      <td>1.000000</td>\n",
       "      <td>16.319015</td>\n",
       "      <td>0.333490</td>\n",
       "      <td>0.000000</td>\n",
       "      <td>1.000000</td>\n",
       "      <td>0.000000</td>\n",
       "      <td>1908.000000</td>\n",
       "      <td>0.000000</td>\n",
       "      <td>0.000000</td>\n",
       "      <td>0.000000</td>\n",
       "      <td>0.000000</td>\n",
       "      <td>168.000000</td>\n",
       "      <td>0.000000</td>\n",
       "      <td>0.000000</td>\n",
       "      <td>0.000000</td>\n",
       "      <td>0.000000</td>\n",
       "    </tr>\n",
       "    <tr>\n",
       "      <th>25%</th>\n",
       "      <td>4237.000000</td>\n",
       "      <td>21.000000</td>\n",
       "      <td>1.000000</td>\n",
       "      <td>41.927199</td>\n",
       "      <td>26.068377</td>\n",
       "      <td>1.000000</td>\n",
       "      <td>4.000000</td>\n",
       "      <td>9.000000</td>\n",
       "      <td>1973.000000</td>\n",
       "      <td>0.019509</td>\n",
       "      <td>1.000000</td>\n",
       "      <td>1.000000</td>\n",
       "      <td>6.000000</td>\n",
       "      <td>1564.000000</td>\n",
       "      <td>0.000000</td>\n",
       "      <td>0.000000</td>\n",
       "      <td>1.000000</td>\n",
       "      <td>1.000000</td>\n",
       "    </tr>\n",
       "    <tr>\n",
       "      <th>50%</th>\n",
       "      <td>8324.000000</td>\n",
       "      <td>37.000000</td>\n",
       "      <td>2.000000</td>\n",
       "      <td>52.934834</td>\n",
       "      <td>36.165260</td>\n",
       "      <td>6.000000</td>\n",
       "      <td>7.000000</td>\n",
       "      <td>12.000000</td>\n",
       "      <td>1977.000000</td>\n",
       "      <td>0.072158</td>\n",
       "      <td>1.000000</td>\n",
       "      <td>1.000000</td>\n",
       "      <td>25.000000</td>\n",
       "      <td>5285.000000</td>\n",
       "      <td>2.000000</td>\n",
       "      <td>1.000000</td>\n",
       "      <td>3.000000</td>\n",
       "      <td>1.000000</td>\n",
       "    </tr>\n",
       "    <tr>\n",
       "      <th>75%</th>\n",
       "      <td>12605.500000</td>\n",
       "      <td>77.000000</td>\n",
       "      <td>2.000000</td>\n",
       "      <td>66.277241</td>\n",
       "      <td>41.757250</td>\n",
       "      <td>9.000000</td>\n",
       "      <td>12.000000</td>\n",
       "      <td>17.000000</td>\n",
       "      <td>2000.000000</td>\n",
       "      <td>0.195781</td>\n",
       "      <td>1.000000</td>\n",
       "      <td>1.000000</td>\n",
       "      <td>36.000000</td>\n",
       "      <td>7287.000000</td>\n",
       "      <td>5.000000</td>\n",
       "      <td>2.000000</td>\n",
       "      <td>6.000000</td>\n",
       "      <td>1.000000</td>\n",
       "    </tr>\n",
       "    <tr>\n",
       "      <th>max</th>\n",
       "      <td>16795.000000</td>\n",
       "      <td>212.000000</td>\n",
       "      <td>5.000000</td>\n",
       "      <td>189.679576</td>\n",
       "      <td>169.901701</td>\n",
       "      <td>620.000000</td>\n",
       "      <td>78.000000</td>\n",
       "      <td>99.000000</td>\n",
       "      <td>2020.000000</td>\n",
       "      <td>0.521867</td>\n",
       "      <td>1.000000</td>\n",
       "      <td>1.000000</td>\n",
       "      <td>74.000000</td>\n",
       "      <td>19083.000000</td>\n",
       "      <td>141.000000</td>\n",
       "      <td>6.000000</td>\n",
       "      <td>23.000000</td>\n",
       "      <td>1.000000</td>\n",
       "    </tr>\n",
       "  </tbody>\n",
       "</table>\n",
       "</div>"
      ],
      "text/plain": [
       "                 Id   DistrictId        Rooms       Square   LifeSquare  \\\n",
       "count   4983.000000  4983.000000  4983.000000  4983.000000  4983.000000   \n",
       "mean    8418.722456    51.288180     1.907485    56.460670    36.111697   \n",
       "std     4830.585600    44.173034     0.806232    18.656069    15.254838   \n",
       "min        1.000000     0.000000     1.000000    16.319015     0.333490   \n",
       "25%     4237.000000    21.000000     1.000000    41.927199    26.068377   \n",
       "50%     8324.000000    37.000000     2.000000    52.934834    36.165260   \n",
       "75%    12605.500000    77.000000     2.000000    66.277241    41.757250   \n",
       "max    16795.000000   212.000000     5.000000   189.679576   169.901701   \n",
       "\n",
       "       KitchenSquare        Floor   HouseFloor    HouseYear    Ecology_1  \\\n",
       "count    4983.000000  4983.000000  4983.000000  4983.000000  4983.000000   \n",
       "mean        5.983945     8.638973    12.617098  1984.394341     0.119816   \n",
       "std         9.962079     5.470359     6.760653    18.543612     0.119925   \n",
       "min         0.000000     1.000000     0.000000  1908.000000     0.000000   \n",
       "25%         1.000000     4.000000     9.000000  1973.000000     0.019509   \n",
       "50%         6.000000     7.000000    12.000000  1977.000000     0.072158   \n",
       "75%         9.000000    12.000000    17.000000  2000.000000     0.195781   \n",
       "max       620.000000    78.000000    99.000000  2020.000000     0.521867   \n",
       "\n",
       "         Ecology_2    Ecology_3     Social_1      Social_2     Social_3  \\\n",
       "count  4983.000000  4983.000000  4983.000000   4983.000000  4983.000000   \n",
       "mean      0.990367     0.970098    24.956251   5410.294602     8.232992   \n",
       "std       0.097683     0.170333    17.533866   4026.986239    23.797261   \n",
       "min       0.000000     0.000000     0.000000    168.000000     0.000000   \n",
       "25%       1.000000     1.000000     6.000000   1564.000000     0.000000   \n",
       "50%       1.000000     1.000000    25.000000   5285.000000     2.000000   \n",
       "75%       1.000000     1.000000    36.000000   7287.000000     5.000000   \n",
       "max       1.000000     1.000000    74.000000  19083.000000   141.000000   \n",
       "\n",
       "       Helthcare_2      Shops_1      Shops_2  \n",
       "count  4983.000000  4983.000000  4983.000000  \n",
       "mean      1.320088     4.246037     0.917319  \n",
       "std       1.479857     4.774908     0.275427  \n",
       "min       0.000000     0.000000     0.000000  \n",
       "25%       0.000000     1.000000     1.000000  \n",
       "50%       1.000000     3.000000     1.000000  \n",
       "75%       2.000000     6.000000     1.000000  \n",
       "max       6.000000    23.000000     1.000000  "
      ]
     },
     "execution_count": 57,
     "metadata": {},
     "output_type": "execute_result"
    }
   ],
   "source": [
    "data_test.describe()"
   ]
  },
  {
   "cell_type": "code",
   "execution_count": 58,
   "metadata": {},
   "outputs": [],
   "source": [
    "data_test.to_csv(\"test_cor.csv\", sep=\",\", index=False)"
   ]
  },
  {
   "cell_type": "markdown",
   "metadata": {},
   "source": [
    "## Применение линейной регрессии"
   ]
  },
  {
   "cell_type": "code",
   "execution_count": 59,
   "metadata": {},
   "outputs": [],
   "source": [
    "from sklearn.linear_model import LinearRegression\n",
    "\n",
    "X = data[['Rooms', 'Square']]\n",
    "y = data[['Price']]\n",
    "X_train, X_test, y_train, y_test = train_test_split(X, y, test_size=0.3, random_state=42)"
   ]
  },
  {
   "cell_type": "code",
   "execution_count": 60,
   "metadata": {},
   "outputs": [
    {
     "data": {
      "text/plain": [
       "0.3664730368863206"
      ]
     },
     "execution_count": 60,
     "metadata": {},
     "output_type": "execute_result"
    }
   ],
   "source": [
    "lr = LinearRegression()\n",
    "lr.fit(X_train, y_train)\n",
    "y_pred = lr.predict(X_test)\n",
    "r2_score(y_test, y_pred)"
   ]
  },
  {
   "cell_type": "code",
   "execution_count": 61,
   "metadata": {},
   "outputs": [],
   "source": [
    "X = data.drop(['Id', 'Price', 'Ecology_2', 'Ecology_3', 'Shops_2'], axis = 1)\n",
    "y = data[['Price']]\n",
    "X_train, X_test, y_train, y_test = train_test_split(X, y, test_size=0.3, random_state=42)"
   ]
  },
  {
   "cell_type": "code",
   "execution_count": 62,
   "metadata": {},
   "outputs": [
    {
     "data": {
      "text/plain": [
       "0.5220830571973796"
      ]
     },
     "execution_count": 62,
     "metadata": {},
     "output_type": "execute_result"
    }
   ],
   "source": [
    "lr = LinearRegression()\n",
    "lr.fit(X_train, y_train)\n",
    "y_pred = lr.predict(X_test)\n",
    "r2_score(y_test, y_pred)"
   ]
  },
  {
   "cell_type": "code",
   "execution_count": 63,
   "metadata": {},
   "outputs": [],
   "source": [
    "X = data.drop(['LifeSquare', 'Id', 'Price', 'Ecology_2', 'Ecology_3', 'Shops_2'], axis = 1)\n",
    "y = data[['Price']]\n",
    "X_train, X_test, y_train, y_test = train_test_split(X, y, test_size=0.3, random_state=42)"
   ]
  },
  {
   "cell_type": "code",
   "execution_count": 64,
   "metadata": {},
   "outputs": [
    {
     "data": {
      "text/plain": [
       "0.522095849598033"
      ]
     },
     "execution_count": 64,
     "metadata": {},
     "output_type": "execute_result"
    }
   ],
   "source": [
    "lr = LinearRegression()\n",
    "lr.fit(X_train, y_train)\n",
    "y_pred = lr.predict(X_test)\n",
    "r2_score(y_test, y_pred)"
   ]
  },
  {
   "cell_type": "code",
   "execution_count": 65,
   "metadata": {},
   "outputs": [],
   "source": [
    "X = data.drop(['Id', 'Price'], axis = 1)\n",
    "y = data[['Price']]\n",
    "X_train, X_test, y_train, y_test = train_test_split(X, y, test_size=0.3, random_state=42)"
   ]
  },
  {
   "cell_type": "code",
   "execution_count": 66,
   "metadata": {},
   "outputs": [
    {
     "data": {
      "text/plain": [
       "0.5289383739781266"
      ]
     },
     "execution_count": 66,
     "metadata": {},
     "output_type": "execute_result"
    }
   ],
   "source": [
    "lr = LinearRegression()\n",
    "lr.fit(X_train, y_train)\n",
    "y_pred = lr.predict(X_test)\n",
    "r2_score(y_test, y_pred)"
   ]
  },
  {
   "cell_type": "code",
   "execution_count": 101,
   "metadata": {},
   "outputs": [],
   "source": [
    "X = data.drop(['Id', 'Price', 'LifeSquare'], axis = 1)\n",
    "y = data[['Price']]\n",
    "X_train, X_test, y_train, y_test = train_test_split(X, y, test_size=0.3, random_state=42)"
   ]
  },
  {
   "cell_type": "code",
   "execution_count": 102,
   "metadata": {},
   "outputs": [
    {
     "data": {
      "text/plain": [
       "0.5289383739781266"
      ]
     },
     "execution_count": 102,
     "metadata": {},
     "output_type": "execute_result"
    }
   ],
   "source": [
    "lr = LinearRegression()\n",
    "lr.fit(X_train, y_train)\n",
    "y_pred = lr.predict(X_test)\n",
    "r2_score(y_test, y_pred)"
   ]
  },
  {
   "cell_type": "markdown",
   "metadata": {},
   "source": [
    "## Применение RandomForestRegressor"
   ]
  },
  {
   "cell_type": "code",
   "execution_count": 120,
   "metadata": {},
   "outputs": [
    {
     "data": {
      "text/plain": [
       "0.7431038097597524"
      ]
     },
     "execution_count": 120,
     "metadata": {},
     "output_type": "execute_result"
    }
   ],
   "source": [
    "X = data.drop(['Price', 'Id', 'LifeSquare'], axis = 1)#, 'Rooms'\n",
    "y = data[['Price']]\n",
    "\n",
    "X_train, X_test, y_train, y_test = train_test_split(X, y, test_size=0.3, random_state=42)\n",
    "\n",
    "model = RandomForestRegressor(max_depth=16, n_estimators=700, random_state=42)\n",
    "model.fit(X_train, y_train.values[:, 0])\n",
    "y_pred = model.predict(X_test)\n",
    "full_set_err = r2_score(y_test, y_pred)\n",
    "full_set_err"
   ]
  },
  {
   "cell_type": "markdown",
   "metadata": {},
   "source": [
    "### Анализ влияния набора фичей на коэффициент детерминации"
   ]
  },
  {
   "cell_type": "code",
   "execution_count": 90,
   "metadata": {},
   "outputs": [],
   "source": [
    "def feature_test(X, y, best_r2):\n",
    "    max_r2 = 0\n",
    "    max_r2_ind = 0\n",
    "    new_best_r2 = best_r2\n",
    "    for ind in range(0, X.shape[1]):\n",
    "        X_drop = X.drop(X.keys()[ind], axis=1)\n",
    "        X_train, X_test, y_train, y_test = train_test_split(X_drop, y, test_size=0.3, random_state=42)\n",
    "        model = RandomForestRegressor(max_depth=12, n_estimators=1000, random_state=42)\n",
    "        model.fit(X_train, y_train.values[:, 0])\n",
    "        y_pred = model.predict(X_test)\n",
    "        temp_r2 = r2_score(y_test, y_pred)\n",
    "        feature_score = temp_r2 - best_r2\n",
    "        if feature_score > max_r2:\n",
    "            new_best_r2 = temp_r2\n",
    "            max_r2 = feature_score\n",
    "            max_r2_ind = ind\n",
    "        print(\"{} {}: {} r2: {}\".format((ind + 1), X.keys()[ind], feature_score, temp_r2))\n",
    "    if max_r2:\n",
    "        print(\"drop: {}  r2: {}\".format(X.keys()[max_r2_ind], max_r2))\n",
    "        X.drop(X.keys()[max_r2_ind], axis=1, inplace=True)\n",
    "        feature_test(X, y, new_best_r2)\n",
    "    else:\n",
    "        return new_best_r2\n"
   ]
  },
  {
   "cell_type": "code",
   "execution_count": 91,
   "metadata": {},
   "outputs": [
    {
     "name": "stdout",
     "output_type": "stream",
     "text": [
      "1 DistrictId: -0.0017191684170173582 r2: 0.7050514827143843\n",
      "2 Rooms: 0.00250915019416198 r2: 0.7092798013255637\n",
      "3 Square: -0.03653169580619686 r2: 0.6702389553252048\n",
      "4 KitchenSquare: -0.0029502490787572944 r2: 0.7038204020526444\n",
      "5 Floor: -0.001297200986235092 r2: 0.7054734501451666\n",
      "6 HouseFloor: -0.0033102248934235856 r2: 0.7034604262379781\n",
      "7 HouseYear: -0.002401420012651978 r2: 0.7043692311187497\n",
      "8 Ecology_1: -0.005748573550232949 r2: 0.7010220775811687\n",
      "9 Ecology_2: -0.0001083903687397747 r2: 0.7066622607626619\n",
      "10 Ecology_3: 7.255836534048044e-05 r2: 0.7068432094967422\n",
      "11 Social_1: -0.0026530371373698625 r2: 0.7041176139940318\n",
      "12 Social_2: 0.00395247358145745 r2: 0.7107231247128591\n",
      "13 Social_3: -0.01237722553553755 r2: 0.6943934255958641\n",
      "14 Helthcare_2: -9.56309741141359e-05 r2: 0.7066750201572876\n",
      "15 Shops_1: -0.0008601683113723668 r2: 0.7059104828200293\n",
      "16 Shops_2: 0.0006107762232171465 r2: 0.7073814273546188\n",
      "drop: Social_2  r2: 0.00395247358145745\n",
      "1 DistrictId: -0.004589233098619694 r2: 0.7061338916142395\n",
      "2 Rooms: 0.002258431706362307 r2: 0.7129815564192215\n",
      "3 Square: -0.0397864124593148 r2: 0.6709367122535443\n",
      "4 KitchenSquare: -0.0037597498634169835 r2: 0.7069633748494422\n",
      "5 Floor: -0.00010967881189061224 r2: 0.7106134459009685\n",
      "6 HouseFloor: -0.003696561580311619 r2: 0.7070265631325475\n",
      "7 HouseYear: -0.002341146081764389 r2: 0.7083819786310948\n",
      "8 Ecology_1: -0.008723228082856305 r2: 0.7019998966300028\n",
      "9 Ecology_2: -0.0001150920277021017 r2: 0.710608032685157\n",
      "10 Ecology_3: -0.0005039592516424829 r2: 0.7102191654612167\n",
      "11 Social_1: 0.006992252632682439 r2: 0.7177153773455416\n",
      "12 Social_3: -0.016595493154899388 r2: 0.6941276315579598\n",
      "13 Helthcare_2: -0.0005337909193421364 r2: 0.710189333793517\n",
      "14 Shops_1: -0.0009720722151843608 r2: 0.7097510524976748\n",
      "15 Shops_2: -9.634665903757167e-05 r2: 0.7106267780538216\n",
      "drop: Social_1  r2: 0.006992252632682439\n",
      "1 DistrictId: -0.00591311725296384 r2: 0.7118022600925777\n",
      "2 Rooms: 0.002604177444051503 r2: 0.7203195547895931\n",
      "3 Square: -0.04440143135378305 r2: 0.6733139459917585\n",
      "4 KitchenSquare: -0.005106620180610477 r2: 0.7126087571649311\n",
      "5 Floor: -5.401286198736255e-05 r2: 0.7176613644835542\n",
      "6 HouseFloor: -0.003901013574644896 r2: 0.7138143637708967\n",
      "7 HouseYear: -0.004573247913340461 r2: 0.7131421294322011\n",
      "8 Ecology_1: -0.006660677886670019 r2: 0.7110546994588716\n",
      "9 Ecology_2: 0.0004864761277643126 r2: 0.7182018534733059\n",
      "10 Ecology_3: 8.619428759626402e-07 r2: 0.7177162392884175\n",
      "11 Social_3: -0.02311384119393889 r2: 0.6946015361516027\n",
      "12 Helthcare_2: 0.002090974276264035 r2: 0.7198063516218056\n",
      "13 Shops_1: 0.001176533334838581 r2: 0.7188919106803802\n",
      "14 Shops_2: 0.000593640718359767 r2: 0.7183090180639014\n",
      "drop: Rooms  r2: 0.002604177444051503\n",
      "1 DistrictId: -0.00591820649128727 r2: 0.7144013482983058\n",
      "2 Square: -0.2523242442918031 r2: 0.46799531049779\n",
      "3 KitchenSquare: -0.006213872213499005 r2: 0.7141056825760941\n",
      "4 Floor: -0.0006989954899285777 r2: 0.7196205592996645\n",
      "5 HouseFloor: -0.004257041226335412 r2: 0.7160625135632577\n",
      "6 HouseYear: -0.004626854242301581 r2: 0.7156927005472915\n",
      "7 Ecology_1: -0.006312060963519883 r2: 0.7140074938260732\n",
      "8 Ecology_2: -0.00022641770444331577 r2: 0.7200931370851498\n",
      "9 Ecology_3: 8.539861798284587e-05 r2: 0.7204049534075759\n",
      "10 Social_3: -0.022977012778349293 r2: 0.6973425420112438\n",
      "11 Helthcare_2: 0.0025105646324927733 r2: 0.7228301194220859\n",
      "12 Shops_1: 0.00032580719793184887 r2: 0.7206453619875249\n",
      "13 Shops_2: 0.0008898582746509343 r2: 0.721209413064244\n",
      "drop: Helthcare_2  r2: 0.0025105646324927733\n",
      "1 DistrictId: -0.009050038189207354 r2: 0.7137800812328785\n",
      "2 Square: -0.2582298393337509 r2: 0.464600280088335\n",
      "3 KitchenSquare: -0.008072924126453107 r2: 0.7147571952956328\n",
      "4 Floor: -0.000989559667830986 r2: 0.7218405597542549\n",
      "5 HouseFloor: -0.003931262226611998 r2: 0.7188988571954739\n",
      "6 HouseYear: -0.005695845272730704 r2: 0.7171342741493552\n",
      "7 Ecology_1: -0.010489708428519817 r2: 0.712340410993566\n",
      "8 Ecology_2: -0.00011051947384232985 r2: 0.7227195999482435\n",
      "9 Ecology_3: -8.771553280817468e-05 r2: 0.7227424038892777\n",
      "10 Social_3: -0.024792018309844455 r2: 0.6980381011122414\n",
      "11 Shops_1: -0.0061469220196903596 r2: 0.7166831974023955\n",
      "12 Shops_2: 0.0010689253500264506 r2: 0.7238990447721123\n",
      "drop: Shops_2  r2: 0.0010689253500264506\n",
      "1 DistrictId: -0.010234790747548184 r2: 0.7136642540245641\n",
      "2 Square: -0.26014227719654315 r2: 0.46375676757556916\n",
      "3 KitchenSquare: -0.007828452502695704 r2: 0.7160705922694166\n",
      "4 Floor: -0.0009372179939002301 r2: 0.7229618267782121\n",
      "5 HouseFloor: -0.004230237688639504 r2: 0.7196688070834728\n",
      "6 HouseYear: -0.006115966564571584 r2: 0.7177830782075407\n",
      "7 Ecology_1: -0.010131279683748273 r2: 0.713767765088364\n",
      "8 Ecology_2: -0.0006280638189841703 r2: 0.7232709809531281\n",
      "9 Ecology_3: -0.00016364928967993464 r2: 0.7237353954824324\n",
      "10 Social_3: -0.025481916248468517 r2: 0.6984171285236438\n",
      "11 Shops_1: -0.0030351363828049482 r2: 0.7208639083893074\n",
      "None\n"
     ]
    }
   ],
   "source": [
    "new_r2 = feature_test(X, y, full_set_err)\n",
    "print(new_r2)"
   ]
  },
  {
   "cell_type": "markdown",
   "metadata": {},
   "source": [
    "#### Получен оптимизированный набор фичей"
   ]
  },
  {
   "cell_type": "code",
   "execution_count": 92,
   "metadata": {},
   "outputs": [
    {
     "data": {
      "text/plain": [
       "Index(['DistrictId', 'Square', 'KitchenSquare', 'Floor', 'HouseFloor',\n",
       "       'HouseYear', 'Ecology_1', 'Ecology_2', 'Ecology_3', 'Social_3',\n",
       "       'Shops_1'],\n",
       "      dtype='object')"
      ]
     },
     "execution_count": 92,
     "metadata": {},
     "output_type": "execute_result"
    }
   ],
   "source": [
    "#X = X.drop(['Id', 'LifeSquare', 'Rooms', 'Ecology_3'], axis=1)\n",
    "X_train, X_test, y_train, y_test = train_test_split(X, y, test_size=0.3, random_state=42)\n",
    "X.keys()"
   ]
  },
  {
   "cell_type": "code",
   "execution_count": 93,
   "metadata": {},
   "outputs": [
    {
     "data": {
      "text/plain": [
       "0.7238990447721123"
      ]
     },
     "execution_count": 93,
     "metadata": {},
     "output_type": "execute_result"
    }
   ],
   "source": [
    "model = RandomForestRegressor(max_depth=12, n_estimators=1000, random_state=42)\n",
    "model.fit(X_train, y_train.values[:, 0])\n",
    "y_pred = model.predict(X_test)\n",
    "r2_score(y_test, y_pred)"
   ]
  },
  {
   "cell_type": "markdown",
   "metadata": {},
   "source": [
    "### Поиск оптимального значения параметра n_estimators"
   ]
  },
  {
   "cell_type": "code",
   "execution_count": 405,
   "metadata": {},
   "outputs": [
    {
     "name": "stdout",
     "output_type": "stream",
     "text": [
      "n_estimators: 500 r2: 0.7239572693924414\n",
      "n_estimators: 600 r2: 0.7241202895322075\n",
      "n_estimators: 700 r2: 0.7242796351876991\n",
      "n_estimators: 800 r2: 0.7241787559636361\n",
      "n_estimators: 900 r2: 0.7242133738560208\n",
      "n_estimators: 1000 r2: 0.7239871432435436\n"
     ]
    }
   ],
   "source": [
    "for ind in range(0, 6):\n",
    "    model = RandomForestRegressor(max_depth=12, n_estimators = ind * 100 + 500, random_state=42)\n",
    "    model.fit(X_train, y_train.values[:, 0])\n",
    "    y_pred = model.predict(X_test)\n",
    "    print(\"n_estimators: {} r2: {}\".format(ind * 100 + 500, r2_score(y_test, y_pred)))"
   ]
  },
  {
   "cell_type": "markdown",
   "metadata": {},
   "source": [
    "### Поиск оптимального значения параметра max_depth"
   ]
  },
  {
   "cell_type": "code",
   "execution_count": 406,
   "metadata": {},
   "outputs": [
    {
     "name": "stdout",
     "output_type": "stream",
     "text": [
      "max_depth: 11 r2: 0.7224288192475633\n",
      "max_depth: 12 r2: 0.7242796351876991\n",
      "max_depth: 13 r2: 0.7248171624456934\n",
      "max_depth: 14 r2: 0.7247731657728596\n",
      "max_depth: 15 r2: 0.7247497160388567\n",
      "max_depth: 16 r2: 0.7244493565363179\n",
      "max_depth: 17 r2: 0.7244257819907332\n"
     ]
    }
   ],
   "source": [
    "for ind in range(11, 18):\n",
    "    model = RandomForestRegressor(max_depth = ind, n_estimators = 700, random_state=42)\n",
    "    model.fit(X_train, y_train.values[:, 0])\n",
    "    y_pred = model.predict(X_test)\n",
    "    print(\"max_depth: {} r2: {}\".format(ind, r2_score(y_test, y_pred)))"
   ]
  },
  {
   "cell_type": "markdown",
   "metadata": {},
   "source": [
    "#### Определение коэффициента детерминации с оптимизированными параметрами RandomForestRegressor"
   ]
  },
  {
   "cell_type": "code",
   "execution_count": 73,
   "metadata": {},
   "outputs": [
    {
     "data": {
      "text/plain": [
       "0.7248171624456934"
      ]
     },
     "execution_count": 73,
     "metadata": {},
     "output_type": "execute_result"
    }
   ],
   "source": [
    "model = RandomForestRegressor(max_depth=13, n_estimators=700, random_state=42)\n",
    "model.fit(X_train, y_train.values[:, 0])\n",
    "y_pred = model.predict(X_test)\n",
    "r2_score(y_test, y_pred)"
   ]
  },
  {
   "cell_type": "markdown",
   "metadata": {},
   "source": [
    "## Применение KNeighborsRegressor"
   ]
  },
  {
   "cell_type": "code",
   "execution_count": 75,
   "metadata": {},
   "outputs": [
    {
     "name": "stderr",
     "output_type": "stream",
     "text": [
      "C:\\ProgramData\\Anaconda3\\lib\\site-packages\\sklearn\\preprocessing\\data.py:645: DataConversionWarning: Data with input dtype int64, float64 were all converted to float64 by StandardScaler.\n",
      "  return self.partial_fit(X, y)\n",
      "C:\\ProgramData\\Anaconda3\\lib\\site-packages\\sklearn\\base.py:464: DataConversionWarning: Data with input dtype int64, float64 were all converted to float64 by StandardScaler.\n",
      "  return self.fit(X, **fit_params).transform(X)\n",
      "C:\\ProgramData\\Anaconda3\\lib\\site-packages\\ipykernel_launcher.py:11: DataConversionWarning: Data with input dtype int64, float64 were all converted to float64 by StandardScaler.\n",
      "  # This is added back by InteractiveShellApp.init_path()\n"
     ]
    },
    {
     "data": {
      "text/plain": [
       "0.6236296168016334"
      ]
     },
     "execution_count": 75,
     "metadata": {},
     "output_type": "execute_result"
    }
   ],
   "source": [
    "from sklearn.preprocessing import StandardScaler\n",
    "\n",
    "X = data.drop(['Id', 'Price'], axis = 1)\n",
    "y = data[['Price']]\n",
    "\n",
    "X_train, X_test, y_train, y_test = train_test_split(X, y, test_size=0.3, random_state=42)\n",
    "\n",
    "scaler = StandardScaler()\n",
    "\n",
    "X_train_scaled = pd.DataFrame(scaler.fit_transform(X_train), columns=X_train.columns)\n",
    "X_test_scaled = pd.DataFrame(scaler.transform(X_test), columns=X_test.columns)\n",
    "\n",
    "X_train, X_test, y_train, y_test = train_test_split(X, y, test_size=0.3, random_state=42)\n",
    "from sklearn.neighbors import KNeighborsRegressor\n",
    "model = KNeighborsRegressor(n_neighbors=6)\n",
    "model.fit(X_train_scaled, y_train.values[:, 0])\n",
    "y_pred = model.predict(X_test_scaled)\n",
    "r2_score(y_test, y_pred)"
   ]
  },
  {
   "cell_type": "code",
   "execution_count": 76,
   "metadata": {},
   "outputs": [
    {
     "name": "stdout",
     "output_type": "stream",
     "text": [
      "0.6067209520970931\n",
      "0.6085597630232777\n",
      "0.6175079872087345\n",
      "0.6236296168016334\n",
      "0.6275222948257131\n",
      "0.630377784289844\n",
      "0.633259859829495\n"
     ]
    }
   ],
   "source": [
    "for ind in range(3, 10):\n",
    "    model = KNeighborsRegressor(n_neighbors=ind)\n",
    "    model.fit(X_train_scaled, y_train.values[:, 0])\n",
    "    y_pred = model.predict(X_test_scaled)\n",
    "    print(r2_score(y_test, y_pred))"
   ]
  },
  {
   "cell_type": "markdown",
   "metadata": {},
   "source": [
    "## Применение TSNE и KMeans"
   ]
  },
  {
   "cell_type": "code",
   "execution_count": 71,
   "metadata": {},
   "outputs": [
    {
     "name": "stderr",
     "output_type": "stream",
     "text": [
      "C:\\ProgramData\\Anaconda3\\lib\\site-packages\\sklearn\\preprocessing\\data.py:645: DataConversionWarning: Data with input dtype int64, float64 were all converted to float64 by StandardScaler.\n",
      "  return self.partial_fit(X, y)\n",
      "C:\\ProgramData\\Anaconda3\\lib\\site-packages\\sklearn\\base.py:464: DataConversionWarning: Data with input dtype int64, float64 were all converted to float64 by StandardScaler.\n",
      "  return self.fit(X, **fit_params).transform(X)\n",
      "C:\\ProgramData\\Anaconda3\\lib\\site-packages\\ipykernel_launcher.py:14: DataConversionWarning: Data with input dtype int64, float64 were all converted to float64 by StandardScaler.\n",
      "  \n"
     ]
    }
   ],
   "source": [
    "from sklearn.preprocessing import StandardScaler\n",
    "\n",
    "X = data.drop(['Id', 'Price'], axis = 1)\n",
    "#X = data.drop(['Id', 'LifeSquare', 'Rooms', 'Ecology_3', 'Price'], axis=1)\n",
    "#X = data[['Rooms', 'Square']]\n",
    "#X = data[['DistrictId', 'Rooms', 'Square', 'Social_1', 'Helthcare_2', 'LifeSquare', 'KitchenSquare', 'Social_2']]\n",
    "y = data[['Price']]\n",
    "\n",
    "X_train, X_test, y_train, y_test = train_test_split(X, y, test_size=0.3, random_state=42)\n",
    "\n",
    "scaler = StandardScaler()\n",
    "\n",
    "X_train_scaled = pd.DataFrame(scaler.fit_transform(X_train), columns=X_train.columns)\n",
    "X_test_scaled = pd.DataFrame(scaler.transform(X_test), columns=X_test.columns)"
   ]
  },
  {
   "cell_type": "markdown",
   "metadata": {},
   "source": [
    "### TSNE n_components = 2"
   ]
  },
  {
   "cell_type": "code",
   "execution_count": 72,
   "metadata": {},
   "outputs": [
    {
     "name": "stdout",
     "output_type": "stream",
     "text": [
      "До:\t(6981, 17)\n",
      "После:\t(6981, 2)\n"
     ]
    }
   ],
   "source": [
    "tsne = TSNE(n_components=2, learning_rate=250, random_state=42)\n",
    "\n",
    "X_train_tsne = tsne.fit_transform(X_train_scaled)\n",
    "\n",
    "print('До:\\t{}'.format(X_train_scaled.shape))\n",
    "print('После:\\t{}'.format(X_train_tsne.shape))"
   ]
  },
  {
   "cell_type": "code",
   "execution_count": 73,
   "metadata": {},
   "outputs": [],
   "source": [
    "#plt.scatter(X_train_tsne[:, 0], X_train_tsne[:, 1])\n",
    "\n",
    "#plt.show()"
   ]
  },
  {
   "cell_type": "code",
   "execution_count": 74,
   "metadata": {},
   "outputs": [],
   "source": [
    "kmeans = KMeans(n_clusters=20, random_state=42)\n",
    "\n",
    "labels_train = kmeans.fit_predict(X_train_scaled)\n",
    "\n",
    "#plt.scatter(X_train_tsne[:, 0], X_train_tsne[:, 1], c=labels_train)\n",
    "\n",
    "#plt.show()"
   ]
  },
  {
   "cell_type": "code",
   "execution_count": 75,
   "metadata": {},
   "outputs": [],
   "source": [
    "labels_test = kmeans.predict(X_test_scaled)"
   ]
  },
  {
   "cell_type": "code",
   "execution_count": 76,
   "metadata": {},
   "outputs": [
    {
     "data": {
      "text/plain": [
       "0.5289383739781242"
      ]
     },
     "execution_count": 76,
     "metadata": {},
     "output_type": "execute_result"
    }
   ],
   "source": [
    "lr = LinearRegression()\n",
    "\n",
    "lr.fit(X_train_scaled, y_train)\n",
    "\n",
    "y_test_pred = lr.predict(X_test_scaled)\n",
    "\n",
    "r2_score(y_test, y_test_pred)"
   ]
  },
  {
   "cell_type": "code",
   "execution_count": 177,
   "metadata": {
    "scrolled": true
   },
   "outputs": [
    {
     "name": "stdout",
     "output_type": "stream",
     "text": [
      "0.7097813562052143\n",
      "0.5465078288064105\n",
      "0.05001039335075197\n",
      "0.11787693903245255\n",
      "0.5708446899557618\n",
      "0.6627937734305158\n",
      "0.472621018625097\n",
      "0.5342964511400548\n",
      "0.4396248251136795\n",
      "0.6834711518566868\n",
      "0.40939633947302156\n",
      "0.3914573423349047\n",
      "0.5944280663547953\n",
      "0.3463748738696484\n",
      "0.5275819062685667\n",
      "0.7266161261011728\n",
      "0.8166543043393804\n",
      "0.36436632166333494\n",
      "0.6527336971919802\n",
      "0.3227438102892225\n",
      "summ r2: 0.6547804907725527\n"
     ]
    }
   ],
   "source": [
    "y_test_all = pd.DataFrame()\n",
    "y_test_pred_all = pd.DataFrame()\n",
    "\n",
    "for ind in range(0, 20):\n",
    "    lr.fit(X_train_scaled.loc[labels_train == ind], y_train[labels_train == ind])\n",
    "    y_test_pred = lr.predict(X_test_scaled.loc[labels_test == ind])\n",
    "    print(r2_score(y_test[labels_test == ind], y_test_pred))\n",
    "    y_test_all = pd.concat([y_test_all, y_test[labels_test == ind]], axis=0, ignore_index=True)\n",
    "    y_test_pred_all = pd.concat([y_test_pred_all, pd.DataFrame(y_test_pred)], axis=0, ignore_index=True)\n",
    "print(\"summ r2: {}\".format(r2_score(y_test_all, y_test_pred_all)))"
   ]
  },
  {
   "cell_type": "code",
   "execution_count": 178,
   "metadata": {},
   "outputs": [
    {
     "name": "stdout",
     "output_type": "stream",
     "text": [
      "ind: 3 summ r2: 0.5958724717937405\n",
      "ind: 4 summ r2: 0.6071608477138961\n",
      "ind: 5 summ r2: 0.6080645631900292\n",
      "ind: 6 summ r2: 0.6058040102505289\n",
      "ind: 7 summ r2: 0.6058012043302463\n",
      "ind: 8 summ r2: 0.6161353502713008\n",
      "ind: 9 summ r2: 0.6154647759067754\n",
      "ind: 10 summ r2: 0.6213562908553601\n",
      "ind: 11 summ r2: 0.6161736981664132\n",
      "ind: 12 summ r2: 0.6226933182207542\n",
      "ind: 13 summ r2: 0.6249111108367915\n",
      "ind: 14 summ r2: 0.6311787520045049\n",
      "ind: 15 summ r2: 0.6455742850335853\n",
      "ind: 16 summ r2: 0.6495480142797995\n",
      "ind: 17 summ r2: 0.6394221043104067\n",
      "ind: 18 summ r2: 0.6517429119948606\n",
      "ind: 19 summ r2: 0.6409369179152147\n",
      "ind: 20 summ r2: 0.6547804907725527\n",
      "ind: 21 summ r2: 0.6674065494994674\n",
      "ind: 22 summ r2: 0.6421404092006533\n",
      "ind: 23 summ r2: 0.6668826751127421\n",
      "ind: 24 summ r2: 0.6453692990126447\n",
      "ind: 25 summ r2: 0.6428121500232671\n",
      "ind: 26 summ r2: 0.6516760628419891\n",
      "ind: 27 summ r2: 0.6495893518668714\n",
      "ind: 28 summ r2: 0.6135951147048504\n",
      "ind: 29 summ r2: 0.637550037610668\n"
     ]
    }
   ],
   "source": [
    "for ind_2 in range(3, 30):\n",
    "    kmeans = KMeans(n_clusters=ind_2, random_state=42)\n",
    "    labels_train = kmeans.fit_predict(X_train_scaled)\n",
    "    labels_test = kmeans.predict(X_test_scaled)\n",
    "\n",
    "    \n",
    "    y_test_all = pd.DataFrame()\n",
    "    y_test_pred_all = pd.DataFrame()\n",
    "\n",
    "    for ind in range(0, ind_2):\n",
    "        lr.fit(X_train_scaled.loc[labels_train == ind], y_train[labels_train == ind])\n",
    "        y_test_pred = lr.predict(X_test_scaled.loc[labels_test == ind])\n",
    "        #print(r2_score(y_test[labels_test == ind], y_test_pred))\n",
    "        y_test_all = pd.concat([y_test_all, y_test[labels_test == ind]], axis=0, ignore_index=True)\n",
    "        y_test_pred_all = pd.concat([y_test_pred_all, pd.DataFrame(y_test_pred)], axis=0, ignore_index=True)\n",
    "    print(\"ind: {} summ r2: {}\".format(ind_2, r2_score(y_test_all, y_test_pred_all)))"
   ]
  },
  {
   "cell_type": "code",
   "execution_count": 158,
   "metadata": {},
   "outputs": [
    {
     "data": {
      "text/plain": [
       "0.6236296168016334"
      ]
     },
     "execution_count": 158,
     "metadata": {},
     "output_type": "execute_result"
    }
   ],
   "source": [
    "from sklearn.neighbors import KNeighborsRegressor\n",
    "model = KNeighborsRegressor(n_neighbors=6)\n",
    "model.fit(X_train_scaled, y_train.values[:, 0])\n",
    "y_pred = model.predict(X_test_scaled)\n",
    "r2_score(y_test, y_pred)"
   ]
  },
  {
   "cell_type": "code",
   "execution_count": 159,
   "metadata": {},
   "outputs": [
    {
     "name": "stdout",
     "output_type": "stream",
     "text": [
      "0.6067209520970931\n",
      "0.6085597630232777\n",
      "0.6175079872087345\n",
      "0.6236296168016334\n",
      "0.6275222948257131\n",
      "0.630377784289844\n",
      "0.633259859829495\n",
      "0.6292076379745102\n"
     ]
    }
   ],
   "source": [
    "for ind in range(3, 11):\n",
    "    model = KNeighborsRegressor(n_neighbors=ind)\n",
    "    model.fit(X_train_scaled, y_train.values[:, 0])\n",
    "    y_pred = model.predict(X_test_scaled)\n",
    "    print(r2_score(y_test, y_pred))"
   ]
  },
  {
   "cell_type": "code",
   "execution_count": 160,
   "metadata": {},
   "outputs": [
    {
     "name": "stdout",
     "output_type": "stream",
     "text": [
      "0.7300566737044226\n",
      "0.4740917998907921\n",
      "-0.06459193841381294\n",
      "0.2813894593541413\n",
      "0.6026526162413061\n",
      "0.629583031176119\n",
      "0.40077082347484405\n",
      "0.5052056705197556\n",
      "0.3460423240649855\n",
      "0.5509215924159532\n",
      "0.34259744185327734\n",
      "0.31769248654495075\n",
      "0.4752132609999773\n",
      "0.4827165966426975\n",
      "0.4078305427454799\n",
      "0.6764955760891888\n",
      "0.3964375465487171\n",
      "0.2153934187619415\n",
      "0.4242596381538879\n",
      "0.2800725539409814\n",
      "summ r2: 0.619378706213032\n"
     ]
    }
   ],
   "source": [
    "kmeans = KMeans(n_clusters=20, random_state=42)\n",
    "labels_train = kmeans.fit_predict(X_train_scaled)\n",
    "labels_test = kmeans.predict(X_test_scaled)\n",
    "\n",
    "y_test_all = pd.DataFrame()\n",
    "y_test_pred_all = pd.DataFrame()\n",
    "model = KNeighborsRegressor(n_neighbors=9)\n",
    "for ind in range(0, 20):\n",
    "    model.fit(X_train_scaled.loc[labels_train == ind], y_train[labels_train == ind])\n",
    "    y_test_pred = model.predict(X_test_scaled.loc[labels_test == ind])\n",
    "    print(r2_score(y_test[labels_test == ind], y_test_pred))\n",
    "    y_test_all = pd.concat([y_test_all, y_test[labels_test == ind]], axis=0, ignore_index=True)\n",
    "    y_test_pred_all = pd.concat([y_test_pred_all, pd.DataFrame(y_test_pred)], axis=0, ignore_index=True)\n",
    "print(\"summ r2: {}\".format(r2_score(y_test_all, y_test_pred_all)))  "
   ]
  },
  {
   "cell_type": "code",
   "execution_count": 161,
   "metadata": {},
   "outputs": [
    {
     "data": {
      "text/plain": [
       "0.7216879102762487"
      ]
     },
     "execution_count": 161,
     "metadata": {},
     "output_type": "execute_result"
    }
   ],
   "source": [
    "model = RandomForestRegressor(max_depth=16, n_estimators=500, random_state=42)\n",
    "model.fit(X_train_scaled, y_train.values[:, 0])\n",
    "y_pred = model.predict(X_test_scaled)\n",
    "r2_score(y_test, y_pred)"
   ]
  },
  {
   "cell_type": "code",
   "execution_count": 162,
   "metadata": {},
   "outputs": [
    {
     "name": "stderr",
     "output_type": "stream",
     "text": [
      "C:\\ProgramData\\Anaconda3\\lib\\site-packages\\ipykernel_launcher.py:9: DataConversionWarning: A column-vector y was passed when a 1d array was expected. Please change the shape of y to (n_samples,), for example using ravel().\n",
      "  if __name__ == '__main__':\n"
     ]
    },
    {
     "name": "stdout",
     "output_type": "stream",
     "text": [
      "0.7098040701915409\n"
     ]
    },
    {
     "name": "stderr",
     "output_type": "stream",
     "text": [
      "C:\\ProgramData\\Anaconda3\\lib\\site-packages\\ipykernel_launcher.py:9: DataConversionWarning: A column-vector y was passed when a 1d array was expected. Please change the shape of y to (n_samples,), for example using ravel().\n",
      "  if __name__ == '__main__':\n"
     ]
    },
    {
     "name": "stdout",
     "output_type": "stream",
     "text": [
      "0.6957834675543253\n"
     ]
    },
    {
     "name": "stderr",
     "output_type": "stream",
     "text": [
      "C:\\ProgramData\\Anaconda3\\lib\\site-packages\\ipykernel_launcher.py:9: DataConversionWarning: A column-vector y was passed when a 1d array was expected. Please change the shape of y to (n_samples,), for example using ravel().\n",
      "  if __name__ == '__main__':\n"
     ]
    },
    {
     "name": "stdout",
     "output_type": "stream",
     "text": [
      "0.16860490132020933\n"
     ]
    },
    {
     "name": "stderr",
     "output_type": "stream",
     "text": [
      "C:\\ProgramData\\Anaconda3\\lib\\site-packages\\ipykernel_launcher.py:9: DataConversionWarning: A column-vector y was passed when a 1d array was expected. Please change the shape of y to (n_samples,), for example using ravel().\n",
      "  if __name__ == '__main__':\n"
     ]
    },
    {
     "name": "stdout",
     "output_type": "stream",
     "text": [
      "0.42927562029011856\n"
     ]
    },
    {
     "name": "stderr",
     "output_type": "stream",
     "text": [
      "C:\\ProgramData\\Anaconda3\\lib\\site-packages\\ipykernel_launcher.py:9: DataConversionWarning: A column-vector y was passed when a 1d array was expected. Please change the shape of y to (n_samples,), for example using ravel().\n",
      "  if __name__ == '__main__':\n"
     ]
    },
    {
     "name": "stdout",
     "output_type": "stream",
     "text": [
      "0.5922864355430395\n"
     ]
    },
    {
     "name": "stderr",
     "output_type": "stream",
     "text": [
      "C:\\ProgramData\\Anaconda3\\lib\\site-packages\\ipykernel_launcher.py:9: DataConversionWarning: A column-vector y was passed when a 1d array was expected. Please change the shape of y to (n_samples,), for example using ravel().\n",
      "  if __name__ == '__main__':\n"
     ]
    },
    {
     "name": "stdout",
     "output_type": "stream",
     "text": [
      "0.6759191549882463\n"
     ]
    },
    {
     "name": "stderr",
     "output_type": "stream",
     "text": [
      "C:\\ProgramData\\Anaconda3\\lib\\site-packages\\ipykernel_launcher.py:9: DataConversionWarning: A column-vector y was passed when a 1d array was expected. Please change the shape of y to (n_samples,), for example using ravel().\n",
      "  if __name__ == '__main__':\n"
     ]
    },
    {
     "name": "stdout",
     "output_type": "stream",
     "text": [
      "0.7729004007067186\n"
     ]
    },
    {
     "name": "stderr",
     "output_type": "stream",
     "text": [
      "C:\\ProgramData\\Anaconda3\\lib\\site-packages\\ipykernel_launcher.py:9: DataConversionWarning: A column-vector y was passed when a 1d array was expected. Please change the shape of y to (n_samples,), for example using ravel().\n",
      "  if __name__ == '__main__':\n"
     ]
    },
    {
     "name": "stdout",
     "output_type": "stream",
     "text": [
      "0.6452588708868519\n"
     ]
    },
    {
     "name": "stderr",
     "output_type": "stream",
     "text": [
      "C:\\ProgramData\\Anaconda3\\lib\\site-packages\\ipykernel_launcher.py:9: DataConversionWarning: A column-vector y was passed when a 1d array was expected. Please change the shape of y to (n_samples,), for example using ravel().\n",
      "  if __name__ == '__main__':\n"
     ]
    },
    {
     "name": "stdout",
     "output_type": "stream",
     "text": [
      "0.420725714605521\n"
     ]
    },
    {
     "name": "stderr",
     "output_type": "stream",
     "text": [
      "C:\\ProgramData\\Anaconda3\\lib\\site-packages\\ipykernel_launcher.py:9: DataConversionWarning: A column-vector y was passed when a 1d array was expected. Please change the shape of y to (n_samples,), for example using ravel().\n",
      "  if __name__ == '__main__':\n"
     ]
    },
    {
     "name": "stdout",
     "output_type": "stream",
     "text": [
      "0.5336469719484823\n"
     ]
    },
    {
     "name": "stderr",
     "output_type": "stream",
     "text": [
      "C:\\ProgramData\\Anaconda3\\lib\\site-packages\\ipykernel_launcher.py:9: DataConversionWarning: A column-vector y was passed when a 1d array was expected. Please change the shape of y to (n_samples,), for example using ravel().\n",
      "  if __name__ == '__main__':\n"
     ]
    },
    {
     "name": "stdout",
     "output_type": "stream",
     "text": [
      "0.4628247509658908\n"
     ]
    },
    {
     "name": "stderr",
     "output_type": "stream",
     "text": [
      "C:\\ProgramData\\Anaconda3\\lib\\site-packages\\ipykernel_launcher.py:9: DataConversionWarning: A column-vector y was passed when a 1d array was expected. Please change the shape of y to (n_samples,), for example using ravel().\n",
      "  if __name__ == '__main__':\n"
     ]
    },
    {
     "name": "stdout",
     "output_type": "stream",
     "text": [
      "0.5358407453801806\n"
     ]
    },
    {
     "name": "stderr",
     "output_type": "stream",
     "text": [
      "C:\\ProgramData\\Anaconda3\\lib\\site-packages\\ipykernel_launcher.py:9: DataConversionWarning: A column-vector y was passed when a 1d array was expected. Please change the shape of y to (n_samples,), for example using ravel().\n",
      "  if __name__ == '__main__':\n"
     ]
    },
    {
     "name": "stdout",
     "output_type": "stream",
     "text": [
      "0.5181763823271551\n"
     ]
    },
    {
     "name": "stderr",
     "output_type": "stream",
     "text": [
      "C:\\ProgramData\\Anaconda3\\lib\\site-packages\\ipykernel_launcher.py:9: DataConversionWarning: A column-vector y was passed when a 1d array was expected. Please change the shape of y to (n_samples,), for example using ravel().\n",
      "  if __name__ == '__main__':\n"
     ]
    },
    {
     "name": "stdout",
     "output_type": "stream",
     "text": [
      "0.5229984872810407\n"
     ]
    },
    {
     "name": "stderr",
     "output_type": "stream",
     "text": [
      "C:\\ProgramData\\Anaconda3\\lib\\site-packages\\ipykernel_launcher.py:9: DataConversionWarning: A column-vector y was passed when a 1d array was expected. Please change the shape of y to (n_samples,), for example using ravel().\n",
      "  if __name__ == '__main__':\n"
     ]
    },
    {
     "name": "stdout",
     "output_type": "stream",
     "text": [
      "0.5084771629567231\n"
     ]
    },
    {
     "name": "stderr",
     "output_type": "stream",
     "text": [
      "C:\\ProgramData\\Anaconda3\\lib\\site-packages\\ipykernel_launcher.py:9: DataConversionWarning: A column-vector y was passed when a 1d array was expected. Please change the shape of y to (n_samples,), for example using ravel().\n",
      "  if __name__ == '__main__':\n"
     ]
    },
    {
     "name": "stdout",
     "output_type": "stream",
     "text": [
      "0.7731812873781292\n"
     ]
    },
    {
     "name": "stderr",
     "output_type": "stream",
     "text": [
      "C:\\ProgramData\\Anaconda3\\lib\\site-packages\\ipykernel_launcher.py:9: DataConversionWarning: A column-vector y was passed when a 1d array was expected. Please change the shape of y to (n_samples,), for example using ravel().\n",
      "  if __name__ == '__main__':\n"
     ]
    },
    {
     "name": "stdout",
     "output_type": "stream",
     "text": [
      "0.46854455520869853\n"
     ]
    },
    {
     "name": "stderr",
     "output_type": "stream",
     "text": [
      "C:\\ProgramData\\Anaconda3\\lib\\site-packages\\ipykernel_launcher.py:9: DataConversionWarning: A column-vector y was passed when a 1d array was expected. Please change the shape of y to (n_samples,), for example using ravel().\n",
      "  if __name__ == '__main__':\n"
     ]
    },
    {
     "name": "stdout",
     "output_type": "stream",
     "text": [
      "0.3360297776824561\n"
     ]
    },
    {
     "name": "stderr",
     "output_type": "stream",
     "text": [
      "C:\\ProgramData\\Anaconda3\\lib\\site-packages\\ipykernel_launcher.py:9: DataConversionWarning: A column-vector y was passed when a 1d array was expected. Please change the shape of y to (n_samples,), for example using ravel().\n",
      "  if __name__ == '__main__':\n"
     ]
    },
    {
     "name": "stdout",
     "output_type": "stream",
     "text": [
      "0.640731092783017\n"
     ]
    },
    {
     "name": "stderr",
     "output_type": "stream",
     "text": [
      "C:\\ProgramData\\Anaconda3\\lib\\site-packages\\ipykernel_launcher.py:9: DataConversionWarning: A column-vector y was passed when a 1d array was expected. Please change the shape of y to (n_samples,), for example using ravel().\n",
      "  if __name__ == '__main__':\n"
     ]
    },
    {
     "name": "stdout",
     "output_type": "stream",
     "text": [
      "0.6749172240529999\n",
      "summ r2: 0.7063190031536403\n"
     ]
    }
   ],
   "source": [
    "kmeans = KMeans(n_clusters=20, random_state=42)\n",
    "labels_train = kmeans.fit_predict(X_train_scaled)\n",
    "labels_test = kmeans.predict(X_test_scaled)\n",
    "\n",
    "y_test_all = pd.DataFrame()\n",
    "y_test_pred_all = pd.DataFrame()\n",
    "model = RandomForestRegressor(max_depth=16, n_estimators=500, random_state=42)\n",
    "for ind in range(0, 20):\n",
    "    model.fit(X_train_scaled.loc[labels_train == ind], y_train[labels_train == ind])\n",
    "    y_test_pred = model.predict(X_test_scaled.loc[labels_test == ind])\n",
    "    print(r2_score(y_test[labels_test == ind], y_test_pred))\n",
    "    y_test_all = pd.concat([y_test_all, y_test[labels_test == ind]], axis=0, ignore_index=True)\n",
    "    y_test_pred_all = pd.concat([y_test_pred_all, pd.DataFrame(y_test_pred)], axis=0, ignore_index=True)\n",
    "print(\"summ r2: {}\".format(r2_score(y_test_all, y_test_pred_all)))  "
   ]
  },
  {
   "cell_type": "markdown",
   "metadata": {},
   "source": [
    "### TSNE n_components = 3"
   ]
  },
  {
   "cell_type": "code",
   "execution_count": 129,
   "metadata": {},
   "outputs": [
    {
     "name": "stderr",
     "output_type": "stream",
     "text": [
      "C:\\ProgramData\\Anaconda3\\lib\\site-packages\\sklearn\\preprocessing\\data.py:645: DataConversionWarning: Data with input dtype int64, float64 were all converted to float64 by StandardScaler.\n",
      "  return self.partial_fit(X, y)\n",
      "C:\\ProgramData\\Anaconda3\\lib\\site-packages\\sklearn\\base.py:464: DataConversionWarning: Data with input dtype int64, float64 were all converted to float64 by StandardScaler.\n",
      "  return self.fit(X, **fit_params).transform(X)\n",
      "C:\\ProgramData\\Anaconda3\\lib\\site-packages\\ipykernel_launcher.py:14: DataConversionWarning: Data with input dtype int64, float64 were all converted to float64 by StandardScaler.\n",
      "  \n"
     ]
    }
   ],
   "source": [
    "from sklearn.preprocessing import StandardScaler\n",
    "\n",
    "X = data.drop(['Id', 'Price'], axis = 1)\n",
    "#X = data.drop(['Id', 'LifeSquare',  'Ecology_3', 'Price'], axis=1)  #'Rooms',\n",
    "#X = data[['Rooms', 'Square']]\n",
    "#X = data[['DistrictId', 'Rooms', 'Square', 'Social_1', 'Helthcare_2', 'LifeSquare', 'KitchenSquare', 'Social_2']]\n",
    "y = data[['Price']]\n",
    "\n",
    "X_train, X_test, y_train, y_test = train_test_split(X, y, test_size=0.3, random_state=42)\n",
    "\n",
    "scaler = StandardScaler()\n",
    "\n",
    "X_train_scaled = pd.DataFrame(scaler.fit_transform(X_train), columns=X_train.columns)\n",
    "X_test_scaled = pd.DataFrame(scaler.transform(X_test), columns=X_test.columns)"
   ]
  },
  {
   "cell_type": "code",
   "execution_count": 130,
   "metadata": {},
   "outputs": [
    {
     "name": "stdout",
     "output_type": "stream",
     "text": [
      "До:\t(6981, 17)\n",
      "После:\t(6981, 3)\n"
     ]
    }
   ],
   "source": [
    "tsne = TSNE(n_components=3, learning_rate=250, random_state=42)\n",
    "\n",
    "X_train_tsne = tsne.fit_transform(X_train_scaled)\n",
    "\n",
    "print('До:\\t{}'.format(X_train_scaled.shape))\n",
    "print('После:\\t{}'.format(X_train_tsne.shape))"
   ]
  },
  {
   "cell_type": "code",
   "execution_count": 77,
   "metadata": {},
   "outputs": [],
   "source": [
    "#from mpl_toolkits.mplot3d import Axes3D\n",
    "#fig = plt.figure()\n",
    "#ax = fig.add_subplot(111, projection='3d')\n",
    "#ax.scatter(X_train_tsne[:, 0], X_train_tsne[:, 1], X_train_tsne[:, 2])\n",
    "\n",
    "#plt.show()"
   ]
  },
  {
   "cell_type": "code",
   "execution_count": 78,
   "metadata": {},
   "outputs": [],
   "source": [
    "kmeans = KMeans(n_clusters=20, random_state=42)\n",
    "\n",
    "labels_train = kmeans.fit_predict(X_train_scaled)\n",
    "\n",
    "#fig = plt.figure()\n",
    "#ax = fig.add_subplot(111, projection='3d')\n",
    "#ax.scatter(X_train_tsne[:, 0], X_train_tsne[:, 1], X_train_tsne[:, 2], c=labels_train)\n",
    "\n",
    "#plt.show()"
   ]
  },
  {
   "cell_type": "code",
   "execution_count": 133,
   "metadata": {},
   "outputs": [],
   "source": [
    "labels_test = kmeans.predict(X_test_scaled)"
   ]
  },
  {
   "cell_type": "code",
   "execution_count": 134,
   "metadata": {},
   "outputs": [
    {
     "name": "stdout",
     "output_type": "stream",
     "text": [
      "0.7097813562052143\n",
      "0.5465078288064105\n",
      "0.05001039335075197\n",
      "0.11787693903245255\n",
      "0.5708446899557618\n",
      "0.6627937734305158\n",
      "0.472621018625097\n",
      "0.5342964511400548\n",
      "0.4396248251136795\n",
      "0.6834711518566868\n",
      "0.40939633947302156\n",
      "0.3914573423349047\n",
      "0.5944280663547953\n",
      "0.3463748738696484\n",
      "0.5275819062685667\n",
      "0.7266161261011728\n",
      "0.8166543043393804\n",
      "0.36436632166333494\n",
      "0.6527336971919802\n",
      "0.3227438102892225\n",
      "summ r2: 0.6547804907725527\n"
     ]
    }
   ],
   "source": [
    "y_test_all = pd.DataFrame()\n",
    "y_test_pred_all = pd.DataFrame()\n",
    "\n",
    "lr = LinearRegression()\n",
    "\n",
    "for ind in range(0, 20):\n",
    "    lr.fit(X_train_scaled.loc[labels_train == ind], y_train[labels_train == ind])\n",
    "    y_test_pred = lr.predict(X_test_scaled.loc[labels_test == ind])\n",
    "    print(r2_score(y_test[labels_test == ind], y_test_pred))\n",
    "    y_test_all = pd.concat([y_test_all, y_test[labels_test == ind]], axis=0, ignore_index=True)\n",
    "    y_test_pred_all = pd.concat([y_test_pred_all, pd.DataFrame(y_test_pred)], axis=0, ignore_index=True)\n",
    "print(\"summ r2: {}\".format(r2_score(y_test_all, y_test_pred_all)))"
   ]
  },
  {
   "cell_type": "code",
   "execution_count": 135,
   "metadata": {},
   "outputs": [
    {
     "name": "stdout",
     "output_type": "stream",
     "text": [
      "ind: 3 summ r2: 0.5958724717937405\n",
      "ind: 4 summ r2: 0.6071608477138961\n",
      "ind: 5 summ r2: 0.6080645631900292\n",
      "ind: 6 summ r2: 0.6058040102505289\n",
      "ind: 7 summ r2: 0.6058012043302463\n",
      "ind: 8 summ r2: 0.6161353502713008\n",
      "ind: 9 summ r2: 0.6154647759067754\n",
      "ind: 10 summ r2: 0.6213562908553601\n",
      "ind: 11 summ r2: 0.6161736981664132\n",
      "ind: 12 summ r2: 0.6226933182207542\n",
      "ind: 13 summ r2: 0.6249111108367915\n",
      "ind: 14 summ r2: 0.6311787520045049\n",
      "ind: 15 summ r2: 0.6455742850335853\n",
      "ind: 16 summ r2: 0.6495480142797995\n",
      "ind: 17 summ r2: 0.6394221043104067\n",
      "ind: 18 summ r2: 0.6517429119948606\n",
      "ind: 19 summ r2: 0.6409369179152147\n",
      "ind: 20 summ r2: 0.6547804907725527\n",
      "ind: 21 summ r2: 0.6674065494994674\n",
      "ind: 22 summ r2: 0.6421404092006533\n",
      "ind: 23 summ r2: 0.6668826751127421\n",
      "ind: 24 summ r2: 0.6453692990126447\n",
      "ind: 25 summ r2: 0.6428121500232671\n",
      "ind: 26 summ r2: 0.6516760628419891\n",
      "ind: 27 summ r2: 0.6495893518668714\n",
      "ind: 28 summ r2: 0.6135951147048504\n",
      "ind: 29 summ r2: 0.637550037610668\n"
     ]
    }
   ],
   "source": [
    "for ind_2 in range(3, 30):\n",
    "    kmeans = KMeans(n_clusters=ind_2, random_state=42)\n",
    "    labels_train = kmeans.fit_predict(X_train_scaled)\n",
    "    labels_test = kmeans.predict(X_test_scaled)\n",
    "\n",
    "    \n",
    "    y_test_all = pd.DataFrame()\n",
    "    y_test_pred_all = pd.DataFrame()\n",
    "\n",
    "    for ind in range(0, ind_2):\n",
    "        lr.fit(X_train_scaled.loc[labels_train == ind], y_train[labels_train == ind])\n",
    "        y_test_pred = lr.predict(X_test_scaled.loc[labels_test == ind])\n",
    "        #print(r2_score(y_test[labels_test == ind], y_test_pred))\n",
    "        y_test_all = pd.concat([y_test_all, y_test[labels_test == ind]], axis=0, ignore_index=True)\n",
    "        y_test_pred_all = pd.concat([y_test_pred_all, pd.DataFrame(y_test_pred)], axis=0, ignore_index=True)\n",
    "    print(\"ind: {} summ r2: {}\".format(ind_2, r2_score(y_test_all, y_test_pred_all)))"
   ]
  },
  {
   "cell_type": "code",
   "execution_count": 136,
   "metadata": {},
   "outputs": [
    {
     "name": "stdout",
     "output_type": "stream",
     "text": [
      "0.7300566737044226\n",
      "0.4740917998907921\n",
      "-0.06459193841381294\n",
      "0.2813894593541413\n",
      "0.6026526162413061\n",
      "0.629583031176119\n",
      "0.40077082347484405\n",
      "0.5052056705197556\n",
      "0.3460423240649855\n",
      "0.5509215924159532\n",
      "0.34259744185327734\n",
      "0.31769248654495075\n",
      "0.4752132609999773\n",
      "0.4827165966426975\n",
      "0.4078305427454799\n",
      "0.6764955760891888\n",
      "0.3964375465487171\n",
      "0.2153934187619415\n",
      "0.4242596381538879\n",
      "0.2800725539409814\n",
      "summ r2: 0.619378706213032\n"
     ]
    }
   ],
   "source": [
    "kmeans = KMeans(n_clusters=20, random_state=42)\n",
    "labels_train = kmeans.fit_predict(X_train_scaled)\n",
    "labels_test = kmeans.predict(X_test_scaled)\n",
    "\n",
    "y_test_all = pd.DataFrame()\n",
    "y_test_pred_all = pd.DataFrame()\n",
    "model = KNeighborsRegressor(n_neighbors=9)\n",
    "for ind in range(0, 20):\n",
    "    model.fit(X_train_scaled.loc[labels_train == ind], y_train[labels_train == ind])\n",
    "    y_test_pred = model.predict(X_test_scaled.loc[labels_test == ind])\n",
    "    print(r2_score(y_test[labels_test == ind], y_test_pred))\n",
    "    y_test_all = pd.concat([y_test_all, y_test[labels_test == ind]], axis=0, ignore_index=True)\n",
    "    y_test_pred_all = pd.concat([y_test_pred_all, pd.DataFrame(y_test_pred)], axis=0, ignore_index=True)\n",
    "print(\"summ r2: {}\".format(r2_score(y_test_all, y_test_pred_all)))   "
   ]
  },
  {
   "cell_type": "code",
   "execution_count": 137,
   "metadata": {
    "scrolled": true
   },
   "outputs": [
    {
     "name": "stderr",
     "output_type": "stream",
     "text": [
      "C:\\ProgramData\\Anaconda3\\lib\\site-packages\\ipykernel_launcher.py:9: DataConversionWarning: A column-vector y was passed when a 1d array was expected. Please change the shape of y to (n_samples,), for example using ravel().\n",
      "  if __name__ == '__main__':\n"
     ]
    },
    {
     "name": "stdout",
     "output_type": "stream",
     "text": [
      "0.7098040701915409\n"
     ]
    },
    {
     "name": "stderr",
     "output_type": "stream",
     "text": [
      "C:\\ProgramData\\Anaconda3\\lib\\site-packages\\ipykernel_launcher.py:9: DataConversionWarning: A column-vector y was passed when a 1d array was expected. Please change the shape of y to (n_samples,), for example using ravel().\n",
      "  if __name__ == '__main__':\n"
     ]
    },
    {
     "name": "stdout",
     "output_type": "stream",
     "text": [
      "0.6957834675543253\n"
     ]
    },
    {
     "name": "stderr",
     "output_type": "stream",
     "text": [
      "C:\\ProgramData\\Anaconda3\\lib\\site-packages\\ipykernel_launcher.py:9: DataConversionWarning: A column-vector y was passed when a 1d array was expected. Please change the shape of y to (n_samples,), for example using ravel().\n",
      "  if __name__ == '__main__':\n"
     ]
    },
    {
     "name": "stdout",
     "output_type": "stream",
     "text": [
      "0.16860490132020933\n"
     ]
    },
    {
     "name": "stderr",
     "output_type": "stream",
     "text": [
      "C:\\ProgramData\\Anaconda3\\lib\\site-packages\\ipykernel_launcher.py:9: DataConversionWarning: A column-vector y was passed when a 1d array was expected. Please change the shape of y to (n_samples,), for example using ravel().\n",
      "  if __name__ == '__main__':\n"
     ]
    },
    {
     "name": "stdout",
     "output_type": "stream",
     "text": [
      "0.42927562029011856\n"
     ]
    },
    {
     "name": "stderr",
     "output_type": "stream",
     "text": [
      "C:\\ProgramData\\Anaconda3\\lib\\site-packages\\ipykernel_launcher.py:9: DataConversionWarning: A column-vector y was passed when a 1d array was expected. Please change the shape of y to (n_samples,), for example using ravel().\n",
      "  if __name__ == '__main__':\n"
     ]
    },
    {
     "name": "stdout",
     "output_type": "stream",
     "text": [
      "0.5922864355430395\n"
     ]
    },
    {
     "name": "stderr",
     "output_type": "stream",
     "text": [
      "C:\\ProgramData\\Anaconda3\\lib\\site-packages\\ipykernel_launcher.py:9: DataConversionWarning: A column-vector y was passed when a 1d array was expected. Please change the shape of y to (n_samples,), for example using ravel().\n",
      "  if __name__ == '__main__':\n"
     ]
    },
    {
     "name": "stdout",
     "output_type": "stream",
     "text": [
      "0.6759191549882463\n"
     ]
    },
    {
     "name": "stderr",
     "output_type": "stream",
     "text": [
      "C:\\ProgramData\\Anaconda3\\lib\\site-packages\\ipykernel_launcher.py:9: DataConversionWarning: A column-vector y was passed when a 1d array was expected. Please change the shape of y to (n_samples,), for example using ravel().\n",
      "  if __name__ == '__main__':\n"
     ]
    },
    {
     "name": "stdout",
     "output_type": "stream",
     "text": [
      "0.7729004007067186\n"
     ]
    },
    {
     "name": "stderr",
     "output_type": "stream",
     "text": [
      "C:\\ProgramData\\Anaconda3\\lib\\site-packages\\ipykernel_launcher.py:9: DataConversionWarning: A column-vector y was passed when a 1d array was expected. Please change the shape of y to (n_samples,), for example using ravel().\n",
      "  if __name__ == '__main__':\n"
     ]
    },
    {
     "name": "stdout",
     "output_type": "stream",
     "text": [
      "0.6452588708868519\n"
     ]
    },
    {
     "name": "stderr",
     "output_type": "stream",
     "text": [
      "C:\\ProgramData\\Anaconda3\\lib\\site-packages\\ipykernel_launcher.py:9: DataConversionWarning: A column-vector y was passed when a 1d array was expected. Please change the shape of y to (n_samples,), for example using ravel().\n",
      "  if __name__ == '__main__':\n"
     ]
    },
    {
     "name": "stdout",
     "output_type": "stream",
     "text": [
      "0.420725714605521\n"
     ]
    },
    {
     "name": "stderr",
     "output_type": "stream",
     "text": [
      "C:\\ProgramData\\Anaconda3\\lib\\site-packages\\ipykernel_launcher.py:9: DataConversionWarning: A column-vector y was passed when a 1d array was expected. Please change the shape of y to (n_samples,), for example using ravel().\n",
      "  if __name__ == '__main__':\n"
     ]
    },
    {
     "name": "stdout",
     "output_type": "stream",
     "text": [
      "0.5336469719484823\n"
     ]
    },
    {
     "name": "stderr",
     "output_type": "stream",
     "text": [
      "C:\\ProgramData\\Anaconda3\\lib\\site-packages\\ipykernel_launcher.py:9: DataConversionWarning: A column-vector y was passed when a 1d array was expected. Please change the shape of y to (n_samples,), for example using ravel().\n",
      "  if __name__ == '__main__':\n"
     ]
    },
    {
     "name": "stdout",
     "output_type": "stream",
     "text": [
      "0.4628247509658908\n"
     ]
    },
    {
     "name": "stderr",
     "output_type": "stream",
     "text": [
      "C:\\ProgramData\\Anaconda3\\lib\\site-packages\\ipykernel_launcher.py:9: DataConversionWarning: A column-vector y was passed when a 1d array was expected. Please change the shape of y to (n_samples,), for example using ravel().\n",
      "  if __name__ == '__main__':\n"
     ]
    },
    {
     "name": "stdout",
     "output_type": "stream",
     "text": [
      "0.5358407453801806\n"
     ]
    },
    {
     "name": "stderr",
     "output_type": "stream",
     "text": [
      "C:\\ProgramData\\Anaconda3\\lib\\site-packages\\ipykernel_launcher.py:9: DataConversionWarning: A column-vector y was passed when a 1d array was expected. Please change the shape of y to (n_samples,), for example using ravel().\n",
      "  if __name__ == '__main__':\n"
     ]
    },
    {
     "name": "stdout",
     "output_type": "stream",
     "text": [
      "0.5181763823271551\n"
     ]
    },
    {
     "name": "stderr",
     "output_type": "stream",
     "text": [
      "C:\\ProgramData\\Anaconda3\\lib\\site-packages\\ipykernel_launcher.py:9: DataConversionWarning: A column-vector y was passed when a 1d array was expected. Please change the shape of y to (n_samples,), for example using ravel().\n",
      "  if __name__ == '__main__':\n"
     ]
    },
    {
     "name": "stdout",
     "output_type": "stream",
     "text": [
      "0.5229984872810407\n"
     ]
    },
    {
     "name": "stderr",
     "output_type": "stream",
     "text": [
      "C:\\ProgramData\\Anaconda3\\lib\\site-packages\\ipykernel_launcher.py:9: DataConversionWarning: A column-vector y was passed when a 1d array was expected. Please change the shape of y to (n_samples,), for example using ravel().\n",
      "  if __name__ == '__main__':\n"
     ]
    },
    {
     "name": "stdout",
     "output_type": "stream",
     "text": [
      "0.5084771629567231\n"
     ]
    },
    {
     "name": "stderr",
     "output_type": "stream",
     "text": [
      "C:\\ProgramData\\Anaconda3\\lib\\site-packages\\ipykernel_launcher.py:9: DataConversionWarning: A column-vector y was passed when a 1d array was expected. Please change the shape of y to (n_samples,), for example using ravel().\n",
      "  if __name__ == '__main__':\n"
     ]
    },
    {
     "name": "stdout",
     "output_type": "stream",
     "text": [
      "0.7731812873781292\n"
     ]
    },
    {
     "name": "stderr",
     "output_type": "stream",
     "text": [
      "C:\\ProgramData\\Anaconda3\\lib\\site-packages\\ipykernel_launcher.py:9: DataConversionWarning: A column-vector y was passed when a 1d array was expected. Please change the shape of y to (n_samples,), for example using ravel().\n",
      "  if __name__ == '__main__':\n"
     ]
    },
    {
     "name": "stdout",
     "output_type": "stream",
     "text": [
      "0.46854455520869853\n"
     ]
    },
    {
     "name": "stderr",
     "output_type": "stream",
     "text": [
      "C:\\ProgramData\\Anaconda3\\lib\\site-packages\\ipykernel_launcher.py:9: DataConversionWarning: A column-vector y was passed when a 1d array was expected. Please change the shape of y to (n_samples,), for example using ravel().\n",
      "  if __name__ == '__main__':\n"
     ]
    },
    {
     "name": "stdout",
     "output_type": "stream",
     "text": [
      "0.3360297776824561\n"
     ]
    },
    {
     "name": "stderr",
     "output_type": "stream",
     "text": [
      "C:\\ProgramData\\Anaconda3\\lib\\site-packages\\ipykernel_launcher.py:9: DataConversionWarning: A column-vector y was passed when a 1d array was expected. Please change the shape of y to (n_samples,), for example using ravel().\n",
      "  if __name__ == '__main__':\n"
     ]
    },
    {
     "name": "stdout",
     "output_type": "stream",
     "text": [
      "0.640731092783017\n"
     ]
    },
    {
     "name": "stderr",
     "output_type": "stream",
     "text": [
      "C:\\ProgramData\\Anaconda3\\lib\\site-packages\\ipykernel_launcher.py:9: DataConversionWarning: A column-vector y was passed when a 1d array was expected. Please change the shape of y to (n_samples,), for example using ravel().\n",
      "  if __name__ == '__main__':\n"
     ]
    },
    {
     "name": "stdout",
     "output_type": "stream",
     "text": [
      "0.6749172240529999\n",
      "summ r2: 0.7063190031536403\n"
     ]
    }
   ],
   "source": [
    "kmeans = KMeans(n_clusters=20, random_state=42)\n",
    "labels_train = kmeans.fit_predict(X_train_scaled)\n",
    "labels_test = kmeans.predict(X_test_scaled)\n",
    "\n",
    "y_test_all = pd.DataFrame()\n",
    "y_test_pred_all = pd.DataFrame()\n",
    "model = RandomForestRegressor(max_depth=16, n_estimators=500, random_state=42)\n",
    "for ind in range(0, 20):\n",
    "    model.fit(X_train_scaled.loc[labels_train == ind], y_train[labels_train == ind])\n",
    "    y_test_pred = model.predict(X_test_scaled.loc[labels_test == ind])\n",
    "    print(r2_score(y_test[labels_test == ind], y_test_pred))\n",
    "    y_test_all = pd.concat([y_test_all, y_test[labels_test == ind]], axis=0, ignore_index=True)\n",
    "    y_test_pred_all = pd.concat([y_test_pred_all, pd.DataFrame(y_test_pred)], axis=0, ignore_index=True)\n",
    "print(\"summ r2: {}\".format(r2_score(y_test_all, y_test_pred_all)))    "
   ]
  },
  {
   "cell_type": "markdown",
   "metadata": {},
   "source": [
    "### Максимальное значение коэффициента детерминации: 0.7248171624456934 при использовании RandomForestRegressor с оптимизированными параметрами "
   ]
  },
  {
   "cell_type": "code",
   "execution_count": 124,
   "metadata": {},
   "outputs": [],
   "source": [
    "data = pd.read_csv(\"train_cor.csv\", sep=\",\")\n",
    "data_test = pd.read_csv(\"test_cor.csv\", sep=\",\")"
   ]
  },
  {
   "cell_type": "code",
   "execution_count": 125,
   "metadata": {},
   "outputs": [],
   "source": [
    "X = data.drop(['Id', 'Price', 'LifeSquare'], axis=1)\n",
    "y = data[['Price']]\n",
    "res = data_test[['Id']].copy()\n",
    "data_test = data_test.drop(['Id', 'LifeSquare'], axis=1)"
   ]
  },
  {
   "cell_type": "code",
   "execution_count": 126,
   "metadata": {},
   "outputs": [
    {
     "data": {
      "text/plain": [
       "array([162290.0590456 , 223580.65823862, 340652.8334451 , ...,\n",
       "       335652.16682194, 207461.71778972, 177736.1753492 ])"
      ]
     },
     "execution_count": 126,
     "metadata": {},
     "output_type": "execute_result"
    }
   ],
   "source": [
    "model = RandomForestRegressor(max_depth=16, n_estimators=700, random_state=42)\n",
    "model.fit(X, y.values[:, 0])\n",
    "y_pred = model.predict(data_test)\n",
    "y_pred"
   ]
  },
  {
   "cell_type": "code",
   "execution_count": 127,
   "metadata": {},
   "outputs": [],
   "source": [
    "res = pd.concat([res, pd.DataFrame(y_pred, columns=['Price'])], axis=1)"
   ]
  },
  {
   "cell_type": "code",
   "execution_count": 128,
   "metadata": {},
   "outputs": [],
   "source": [
    "res.to_csv(\"VGladyshev_predictions.csv\", sep=\",\", index=False)"
   ]
  },
  {
   "cell_type": "code",
   "execution_count": null,
   "metadata": {},
   "outputs": [],
   "source": []
  }
 ],
 "metadata": {
  "kernelspec": {
   "display_name": "Python 3",
   "language": "python",
   "name": "python3"
  },
  "language_info": {
   "codemirror_mode": {
    "name": "ipython",
    "version": 3
   },
   "file_extension": ".py",
   "mimetype": "text/x-python",
   "name": "python",
   "nbconvert_exporter": "python",
   "pygments_lexer": "ipython3",
   "version": "3.7.3"
  }
 },
 "nbformat": 4,
 "nbformat_minor": 2
}
