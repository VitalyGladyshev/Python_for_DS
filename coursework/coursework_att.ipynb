{
 "cells": [
  {
   "cell_type": "code",
   "execution_count": 1,
   "metadata": {},
   "outputs": [],
   "source": [
    "import numpy as np\n",
    "import pandas as pd\n",
    "from matplotlib import pyplot as plt\n",
    "from pylab import rcParams\n",
    "from scipy import stats\n",
    "%matplotlib inline\n",
    "%config InlineBackend.figure_format = 'svg'"
   ]
  },
  {
   "cell_type": "code",
   "execution_count": 2,
   "metadata": {},
   "outputs": [],
   "source": [
    "X = pd.read_csv(\"2019_08_19 train_X.csv\", sep=\",\")\n",
    "y = pd.read_csv(\"2019_08_19 train_y.csv\", sep=\",\")"
   ]
  },
  {
   "cell_type": "code",
   "execution_count": 6,
   "metadata": {},
   "outputs": [],
   "source": [
    "from sklearn.model_selection import train_test_split\n",
    "from sklearn.metrics import r2_score\n",
    "from sklearn.ensemble import RandomForestRegressor\n",
    "\n",
    "X_train, X_test, y_train, y_test = train_test_split(X, y, test_size=0.3, random_state=42)\n",
    "\n",
    "model = RandomForestRegressor(max_depth=12, n_estimators=1000, random_state=42)\n",
    "model.fit(X_train, y_train.values[:, 0])\n",
    "y_pred = model.predict(X_test)\n",
    "full_set = r2_score(y_test, y_pred)"
   ]
  },
  {
   "cell_type": "code",
   "execution_count": 7,
   "metadata": {},
   "outputs": [
    {
     "name": "stdout",
     "output_type": "stream",
     "text": [
      "<class 'pandas.core.frame.DataFrame'>\n",
      "RangeIndex: 8869 entries, 0 to 8868\n",
      "Data columns (total 18 columns):\n",
      "Id               8869 non-null int64\n",
      "DistrictId       8869 non-null int64\n",
      "Rooms            8869 non-null float64\n",
      "Square           8869 non-null float64\n",
      "LifeSquare       8869 non-null float64\n",
      "KitchenSquare    8869 non-null float64\n",
      "Floor            8869 non-null int64\n",
      "HouseFloor       8869 non-null float64\n",
      "HouseYear        8869 non-null int64\n",
      "Ecology_1        8869 non-null float64\n",
      "Ecology_2        8869 non-null int64\n",
      "Ecology_3        8869 non-null int64\n",
      "Social_1         8869 non-null int64\n",
      "Social_2         8869 non-null int64\n",
      "Social_3         8869 non-null int64\n",
      "Helthcare_2      8869 non-null int64\n",
      "Shops_1          8869 non-null int64\n",
      "Shops_2          8869 non-null int64\n",
      "dtypes: float64(6), int64(12)\n",
      "memory usage: 1.2 MB\n"
     ]
    }
   ],
   "source": [
    "X.info()"
   ]
  },
  {
   "cell_type": "code",
   "execution_count": 23,
   "metadata": {},
   "outputs": [
    {
     "name": "stdout",
     "output_type": "stream",
     "text": [
      "1: -0.0016768647803856451\n",
      "2: 0.009161515314151991\n",
      "3: 0.0015116012188902683\n",
      "4: 0.017321666255808\n",
      "5: -0.001378084033108351\n",
      "6: 0.0015854447750178746\n",
      "7: 0.0015002723453709788\n",
      "8: 0.0009616165371592045\n",
      "9: 0.0012940774868724914\n",
      "10: 0.010995197205564633\n",
      "11: 0.0007677372292871354\n",
      "12: 0.0004819407797096442\n",
      "13: 0.0009338736965572858\n",
      "14: 0.0027553984282279176\n",
      "15: 0.010729043271868965\n",
      "16: 0.000912137894621079\n",
      "17: 0.0007752348340235304\n",
      "18: 0.0004296160771951607\n",
      "drop: Square  r2: 0.017321666255808\n"
     ]
    }
   ],
   "source": [
    "fe_17 = []\n",
    "max_r2 = 0\n",
    "max_r2_ind = 0\n",
    "for ind in range(0, 18):\n",
    "    X_drop = X.drop(X.keys()[ind], axis=1)\n",
    "    X_train, X_test, y_train, y_test = train_test_split(X_drop, y, test_size=0.3, random_state=42)\n",
    "    model = RandomForestRegressor(max_depth=12, n_estimators=1000, random_state=42)\n",
    "    model.fit(X_train, y_train.values[:, 0])\n",
    "    y_pred = model.predict(X_test)\n",
    "    fe_17.append(r2_score(y_test, y_pred) - full_set)\n",
    "    if fe_17[ind] > max_r2:\n",
    "        max_r2 = fe_17[ind]\n",
    "        max_r2_ind = ind\n",
    "    print(\"{}: {}\".format((ind + 1), fe_17[ind]))\n",
    "if max_r2:\n",
    "    print(\"drop: {}  r2: {}\".format(X.keys()[max_r2_ind], max_r2))\n",
    "    X.drop(X.keys()[max_r2_ind], axis=1, inplace=True)\n"
   ]
  },
  {
   "cell_type": "code",
   "execution_count": 22,
   "metadata": {},
   "outputs": [
    {
     "name": "stdout",
     "output_type": "stream",
     "text": [
      "1: 0.5\n"
     ]
    }
   ],
   "source": []
  },
  {
   "cell_type": "code",
   "execution_count": null,
   "metadata": {},
   "outputs": [],
   "source": []
  },
  {
   "cell_type": "code",
   "execution_count": null,
   "metadata": {},
   "outputs": [],
   "source": []
  }
 ],
 "metadata": {
  "kernelspec": {
   "display_name": "Python 3",
   "language": "python",
   "name": "python3"
  },
  "language_info": {
   "codemirror_mode": {
    "name": "ipython",
    "version": 3
   },
   "file_extension": ".py",
   "mimetype": "text/x-python",
   "name": "python",
   "nbconvert_exporter": "python",
   "pygments_lexer": "ipython3",
   "version": "3.7.3"
  }
 },
 "nbformat": 4,
 "nbformat_minor": 2
}
