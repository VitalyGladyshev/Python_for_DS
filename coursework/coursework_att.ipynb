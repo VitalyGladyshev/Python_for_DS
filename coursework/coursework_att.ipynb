{
 "cells": [
  {
   "cell_type": "code",
   "execution_count": 29,
   "metadata": {},
   "outputs": [],
   "source": [
    "import numpy as np\n",
    "import pandas as pd\n",
    "from matplotlib import pyplot as plt\n",
    "from pylab import rcParams\n",
    "from scipy import stats\n",
    "%matplotlib inline\n",
    "%config InlineBackend.figure_format = 'svg'"
   ]
  },
  {
   "cell_type": "code",
   "execution_count": 30,
   "metadata": {},
   "outputs": [],
   "source": [
    "X = pd.read_csv(\"2019_08_19 train_X.csv\", sep=\",\")\n",
    "y = pd.read_csv(\"2019_08_19 train_y.csv\", sep=\",\")"
   ]
  },
  {
   "cell_type": "code",
   "execution_count": 31,
   "metadata": {},
   "outputs": [
    {
     "data": {
      "text/plain": [
       "0.7145469713569776"
      ]
     },
     "execution_count": 31,
     "metadata": {},
     "output_type": "execute_result"
    }
   ],
   "source": [
    "from sklearn.model_selection import train_test_split\n",
    "from sklearn.metrics import r2_score\n",
    "from sklearn.ensemble import RandomForestRegressor\n",
    "\n",
    "X_train, X_test, y_train, y_test = train_test_split(X, y, test_size=0.3, random_state=42)\n",
    "\n",
    "model = RandomForestRegressor(max_depth=12, n_estimators=1000, random_state=42)\n",
    "model.fit(X_train, y_train.values[:, 0])\n",
    "y_pred = model.predict(X_test)\n",
    "full_set_err = r2_score(y_test, y_pred)\n",
    "full_set_err"
   ]
  },
  {
   "cell_type": "code",
   "execution_count": 32,
   "metadata": {},
   "outputs": [
    {
     "name": "stdout",
     "output_type": "stream",
     "text": [
      "<class 'pandas.core.frame.DataFrame'>\n",
      "RangeIndex: 8869 entries, 0 to 8868\n",
      "Data columns (total 18 columns):\n",
      "Id               8869 non-null int64\n",
      "DistrictId       8869 non-null int64\n",
      "Rooms            8869 non-null float64\n",
      "Square           8869 non-null float64\n",
      "LifeSquare       8869 non-null float64\n",
      "KitchenSquare    8869 non-null float64\n",
      "Floor            8869 non-null int64\n",
      "HouseFloor       8869 non-null float64\n",
      "HouseYear        8869 non-null int64\n",
      "Ecology_1        8869 non-null float64\n",
      "Ecology_2        8869 non-null int64\n",
      "Ecology_3        8869 non-null int64\n",
      "Social_1         8869 non-null int64\n",
      "Social_2         8869 non-null int64\n",
      "Social_3         8869 non-null int64\n",
      "Helthcare_2      8869 non-null int64\n",
      "Shops_1          8869 non-null int64\n",
      "Shops_2          8869 non-null int64\n",
      "dtypes: float64(6), int64(12)\n",
      "memory usage: 1.2 MB\n"
     ]
    }
   ],
   "source": [
    "X.info()"
   ]
  },
  {
   "cell_type": "code",
   "execution_count": 33,
   "metadata": {},
   "outputs": [],
   "source": [
    "def feature_test(X, y, best_r2):\n",
    "    max_r2 = 0\n",
    "    max_r2_ind = 0\n",
    "    new_best_r2 = best_r2\n",
    "    for ind in range(0, X.shape[1]):\n",
    "        X_drop = X.drop(X.keys()[ind], axis=1)\n",
    "        X_train, X_test, y_train, y_test = train_test_split(X_drop, y, test_size=0.3, random_state=42)\n",
    "        model = RandomForestRegressor(max_depth=12, n_estimators=1000, random_state=42)\n",
    "        model.fit(X_train, y_train.values[:, 0])\n",
    "        y_pred = model.predict(X_test)\n",
    "        temp_r2 = r2_score(y_test, y_pred)\n",
    "        feature_score = temp_r2 - best_r2\n",
    "        if feature_score > max_r2:\n",
    "            new_best_r2 = temp_r2\n",
    "            max_r2 = feature_score\n",
    "            max_r2_ind = ind\n",
    "        print(\"{} {}: {} r2: {}\".format((ind + 1), X.keys()[ind], feature_score, temp_r2))\n",
    "    if max_r2:\n",
    "        print(\"drop: {}  r2: {}\".format(X.keys()[max_r2_ind], max_r2))\n",
    "        X.drop(X.keys()[max_r2_ind], axis=1, inplace=True)\n",
    "        feature_test(X, y, new_best_r2)\n",
    "    else:\n",
    "        return new_best_r2\n"
   ]
  },
  {
   "cell_type": "code",
   "execution_count": 34,
   "metadata": {},
   "outputs": [
    {
     "name": "stdout",
     "output_type": "stream",
     "text": [
      "1 Id: 0.0016768647803856451 r2: 0.7162238361373633\n",
      "2 DistrictId: -0.009161515314151991 r2: 0.7053854560428257\n",
      "3 Rooms: -0.0015116012188902683 r2: 0.7130353701380874\n",
      "4 Square: -0.017321666255808 r2: 0.6972253051011696\n",
      "5 LifeSquare: 0.001378084033108351 r2: 0.715925055390086\n",
      "6 KitchenSquare: -0.0015854447750178746 r2: 0.7129615265819598\n",
      "7 Floor: -0.0015002723453709788 r2: 0.7130466990116067\n",
      "8 HouseFloor: -0.0009616165371592045 r2: 0.7135853548198184\n",
      "9 HouseYear: -0.0012940774868724914 r2: 0.7132528938701052\n",
      "10 Ecology_1: -0.010995197205564633 r2: 0.703551774151413\n",
      "11 Ecology_2: -0.0007677372292871354 r2: 0.7137792341276905\n",
      "12 Ecology_3: -0.0004819407797096442 r2: 0.714065030577268\n",
      "13 Social_1: -0.0009338736965572858 r2: 0.7136130976604204\n",
      "14 Social_2: -0.0027553984282279176 r2: 0.7117915729287497\n",
      "15 Social_3: -0.010729043271868965 r2: 0.7038179280851087\n",
      "16 Helthcare_2: -0.000912137894621079 r2: 0.7136348334623566\n",
      "17 Shops_1: -0.0007752348340235304 r2: 0.7137717365229541\n",
      "18 Shops_2: -0.0004296160771951607 r2: 0.7141173552797825\n",
      "drop: Id  r2: 0.0016768647803856451\n",
      "1 DistrictId: -0.007477497286575097 r2: 0.7087463388507882\n",
      "2 Rooms: -0.0013501008019705107 r2: 0.7148737353353928\n",
      "3 Square: -0.017077669174423438 r2: 0.6991461669629399\n",
      "4 LifeSquare: 0.0014636168673104466 r2: 0.7176874530046737\n",
      "5 KitchenSquare: -0.0013103238028395747 r2: 0.7149135123345237\n",
      "6 Floor: -0.0013794291442388307 r2: 0.7148444069931245\n",
      "7 HouseFloor: -0.0007264030706830571 r2: 0.7154974330666802\n",
      "8 HouseYear: -0.0015687165801978598 r2: 0.7146551195571654\n",
      "9 Ecology_1: -0.010755035093688692 r2: 0.7054688010436746\n",
      "10 Ecology_2: -0.0008653082480021279 r2: 0.7153585278893612\n",
      "11 Ecology_3: -0.0007134121021187267 r2: 0.7155104240352446\n",
      "12 Social_1: -0.0013733175436771994 r2: 0.7148505185936861\n",
      "13 Social_2: -0.0028288917087025967 r2: 0.7133949444286607\n",
      "14 Social_3: -0.009722841506948021 r2: 0.7065009946304153\n",
      "15 Helthcare_2: -0.000884799136860237 r2: 0.715339037000503\n",
      "16 Shops_1: -0.00036736132690595724 r2: 0.7158564748104573\n",
      "17 Shops_2: -0.00014663308836160294 r2: 0.7160772030490017\n",
      "drop: LifeSquare  r2: 0.0014636168673104466\n",
      "1 DistrictId: -0.00655069186236612 r2: 0.7111367611423076\n",
      "2 Rooms: -0.0009067630895822631 r2: 0.7167806899150915\n",
      "3 Square: -0.06161016284946186 r2: 0.6560772901552119\n",
      "4 KitchenSquare: -0.0009898510803146854 r2: 0.716697601924359\n",
      "5 Floor: -0.0011868225260807108 r2: 0.716500630478593\n",
      "6 HouseFloor: -0.0007082753955640619 r2: 0.7169791776091097\n",
      "7 HouseYear: -0.0016746880276223841 r2: 0.7160127649770514\n",
      "8 Ecology_1: -0.008648802606201711 r2: 0.709038650398472\n",
      "9 Ecology_2: -0.0006617985293301265 r2: 0.7170256544753436\n",
      "10 Ecology_3: -0.00013100609814564734 r2: 0.7175564469065281\n",
      "11 Social_1: -0.0019326766380174387 r2: 0.7157547763666563\n",
      "12 Social_2: -0.002430602462425435 r2: 0.7152568505422483\n",
      "13 Social_3: -0.0084741960985395 r2: 0.7092132569061342\n",
      "14 Helthcare_2: -0.00041225094616981206 r2: 0.7172752020585039\n",
      "15 Shops_1: -0.0006160240656031268 r2: 0.7170714289390706\n",
      "16 Shops_2: -0.0002583130648521337 r2: 0.7174291399398216\n",
      "None\n"
     ]
    }
   ],
   "source": [
    "new_r2 = feature_test(X, y, full_set_err)\n",
    "print(new_r2)"
   ]
  },
  {
   "cell_type": "code",
   "execution_count": 35,
   "metadata": {},
   "outputs": [
    {
     "name": "stdout",
     "output_type": "stream",
     "text": [
      "<class 'pandas.core.frame.DataFrame'>\n",
      "RangeIndex: 8869 entries, 0 to 8868\n",
      "Data columns (total 16 columns):\n",
      "DistrictId       8869 non-null int64\n",
      "Rooms            8869 non-null float64\n",
      "Square           8869 non-null float64\n",
      "KitchenSquare    8869 non-null float64\n",
      "Floor            8869 non-null int64\n",
      "HouseFloor       8869 non-null float64\n",
      "HouseYear        8869 non-null int64\n",
      "Ecology_1        8869 non-null float64\n",
      "Ecology_2        8869 non-null int64\n",
      "Ecology_3        8869 non-null int64\n",
      "Social_1         8869 non-null int64\n",
      "Social_2         8869 non-null int64\n",
      "Social_3         8869 non-null int64\n",
      "Helthcare_2      8869 non-null int64\n",
      "Shops_1          8869 non-null int64\n",
      "Shops_2          8869 non-null int64\n",
      "dtypes: float64(5), int64(11)\n",
      "memory usage: 1.1 MB\n"
     ]
    }
   ],
   "source": [
    "X.info()"
   ]
  },
  {
   "cell_type": "code",
   "execution_count": 36,
   "metadata": {},
   "outputs": [
    {
     "data": {
      "text/plain": [
       "0.7176874530046737"
      ]
     },
     "execution_count": 36,
     "metadata": {},
     "output_type": "execute_result"
    }
   ],
   "source": [
    "X_train, X_test, y_train, y_test = train_test_split(X, y, test_size=0.3, random_state=42)\n",
    "\n",
    "model = RandomForestRegressor(max_depth=12, n_estimators=1000, random_state=42)\n",
    "model.fit(X_train, y_train.values[:, 0])\n",
    "y_pred = model.predict(X_test)\n",
    "r2 = r2_score(y_test, y_pred)\n",
    "r2"
   ]
  },
  {
   "cell_type": "code",
   "execution_count": null,
   "metadata": {},
   "outputs": [],
   "source": []
  }
 ],
 "metadata": {
  "kernelspec": {
   "display_name": "Python 3",
   "language": "python",
   "name": "python3"
  },
  "language_info": {
   "codemirror_mode": {
    "name": "ipython",
    "version": 3
   },
   "file_extension": ".py",
   "mimetype": "text/x-python",
   "name": "python",
   "nbconvert_exporter": "python",
   "pygments_lexer": "ipython3",
   "version": "3.7.3"
  }
 },
 "nbformat": 4,
 "nbformat_minor": 2
}
