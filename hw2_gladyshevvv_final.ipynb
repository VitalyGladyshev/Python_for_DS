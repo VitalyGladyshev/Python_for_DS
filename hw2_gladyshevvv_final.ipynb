{
  "metadata": {
    "kernelspec": {
      "language": "python",
      "display_name": "Python 3",
      "name": "python3"
    },
    "language_info": {
      "name": "python",
      "version": "3.11.11",
      "mimetype": "text/x-python",
      "codemirror_mode": {
        "name": "ipython",
        "version": 3
      },
      "pygments_lexer": "ipython3",
      "nbconvert_exporter": "python",
      "file_extension": ".py"
    },
    "kaggle": {
      "accelerator": "gpu",
      "dataSources": [
        {
          "sourceId": 103615,
          "databundleVersionId": 12495184,
          "sourceType": "competition"
        }
      ],
      "dockerImageVersionId": 31041,
      "isInternetEnabled": true,
      "language": "python",
      "sourceType": "notebook",
      "isGpuEnabled": true
    },
    "colab": {
      "provenance": [],
      "include_colab_link": true
    }
  },
  "nbformat_minor": 0,
  "nbformat": 4,
  "cells": [
    {
      "cell_type": "markdown",
      "metadata": {
        "id": "view-in-github",
        "colab_type": "text"
      },
      "source": [
        "<a href=\"https://colab.research.google.com/github/VitalyGladyshev/Python_for_DS/blob/master/hw2_gladyshevvv_final.ipynb\" target=\"_parent\"><img src=\"https://colab.research.google.com/assets/colab-badge.svg\" alt=\"Open In Colab\"/></a>"
      ]
    },
    {
      "cell_type": "code",
      "source": [
        "# This Python 3 environment comes with many helpful analytics libraries installed\n",
        "# It is defined by the kaggle/python Docker image: https://github.com/kaggle/docker-python\n",
        "# For example, here's several helpful packages to load\n",
        "\n",
        "import numpy as np # linear algebra\n",
        "import pandas as pd # data processing, CSV file I/O (e.g. pd.read_csv)\n",
        "\n",
        "# Input data files are available in the read-only \"../input/\" directory\n",
        "# For example, running this (by clicking run or pressing Shift+Enter) will list all files under the input directory\n",
        "\n",
        "import os\n",
        "for dirname, _, filenames in os.walk('/kaggle/input'):\n",
        "    for filename in filenames:\n",
        "        print(os.path.join(dirname, filename))\n",
        "\n",
        "# You can write up to 20GB to the current directory (/kaggle/working/) that gets preserved as output when you create a version using \"Save & Run All\"\n",
        "# You can also write temporary files to /kaggle/temp/, but they won't be saved outside of the current session"
      ],
      "metadata": {
        "_uuid": "8f2839f25d086af736a60e9eeb907d3b93b6e0e5",
        "_cell_guid": "b1076dfc-b9ad-4769-8c92-a6c4dae69d19",
        "trusted": true,
        "execution": {
          "iopub.status.busy": "2025-06-01T22:15:22.917385Z",
          "iopub.execute_input": "2025-06-01T22:15:22.917574Z",
          "iopub.status.idle": "2025-06-01T22:15:23.232075Z",
          "shell.execute_reply.started": "2025-06-01T22:15:22.917557Z",
          "shell.execute_reply": "2025-06-01T22:15:23.231183Z"
        },
        "id": "gByucVwFy8kJ",
        "outputId": "e5196737-fb8b-4685-fa68-047bb730c8f9"
      },
      "outputs": [
        {
          "name": "stdout",
          "text": "/kaggle/input/mipt-dl-captcha-2025/mds-misis-dl-captchan/sample_submission.csv\n/kaggle/input/mipt-dl-captcha-2025/mds-misis-dl-captchan/images.npy\n/kaggle/input/mipt-dl-captcha-2025/mds-misis-dl-captchan/labels.npy\n/kaggle/input/mipt-dl-captcha-2025/mds-misis-dl-captchan/images_sub.npy\n",
          "output_type": "stream"
        }
      ],
      "execution_count": null
    },
    {
      "cell_type": "code",
      "source": [
        "from tqdm import tqdm\n",
        "\n",
        "import matplotlib.pyplot as plt\n",
        "\n",
        "from sklearn.model_selection import train_test_split"
      ],
      "metadata": {
        "trusted": true,
        "execution": {
          "iopub.status.busy": "2025-06-01T22:15:23.232869Z",
          "iopub.execute_input": "2025-06-01T22:15:23.233234Z",
          "iopub.status.idle": "2025-06-01T22:15:23.875884Z",
          "shell.execute_reply.started": "2025-06-01T22:15:23.233211Z",
          "shell.execute_reply": "2025-06-01T22:15:23.875022Z"
        },
        "id": "nPVYNMt4y8kO"
      },
      "outputs": [],
      "execution_count": null
    },
    {
      "cell_type": "code",
      "source": [
        "import torch\n",
        "\n",
        "import torchvision\n",
        "\n",
        "from torch import nn\n",
        "# from torch import optim\n",
        "\n",
        "import torchvision.transforms as transforms\n",
        "from torch.utils.data import DataLoader, TensorDataset, Dataset\n",
        "\n",
        "import torch.nn as nn\n",
        "import torch.nn.functional as F\n",
        "\n",
        "import torch.optim as optim"
      ],
      "metadata": {
        "trusted": true,
        "execution": {
          "iopub.status.busy": "2025-06-01T22:17:25.870554Z",
          "iopub.execute_input": "2025-06-01T22:17:25.871373Z",
          "iopub.status.idle": "2025-06-01T22:17:33.288310Z",
          "shell.execute_reply.started": "2025-06-01T22:17:25.871345Z",
          "shell.execute_reply": "2025-06-01T22:17:33.287535Z"
        },
        "id": "d6mFddkjy8kO"
      },
      "outputs": [],
      "execution_count": null
    },
    {
      "cell_type": "code",
      "source": [
        "print(torch.__version__)"
      ],
      "metadata": {
        "trusted": true,
        "execution": {
          "iopub.status.busy": "2025-06-01T22:17:33.289568Z",
          "iopub.execute_input": "2025-06-01T22:17:33.290030Z",
          "iopub.status.idle": "2025-06-01T22:17:33.294883Z",
          "shell.execute_reply.started": "2025-06-01T22:17:33.290002Z",
          "shell.execute_reply": "2025-06-01T22:17:33.293860Z"
        },
        "id": "yVN666iyy8kP",
        "outputId": "890271ba-d2d4-4d85-df01-c975ba01abf4"
      },
      "outputs": [
        {
          "name": "stdout",
          "text": "2.6.0+cu124\n",
          "output_type": "stream"
        }
      ],
      "execution_count": null
    },
    {
      "cell_type": "code",
      "source": [
        "!nvidia-smi"
      ],
      "metadata": {
        "trusted": true,
        "execution": {
          "iopub.status.busy": "2025-06-01T22:17:33.295828Z",
          "iopub.execute_input": "2025-06-01T22:17:33.296460Z",
          "iopub.status.idle": "2025-06-01T22:17:33.493653Z",
          "shell.execute_reply.started": "2025-06-01T22:17:33.296431Z",
          "shell.execute_reply": "2025-06-01T22:17:33.492545Z"
        },
        "id": "aRpSmRKfy8kP",
        "outputId": "43b09f62-b9e2-4961-a6a0-cf231a999222"
      },
      "outputs": [
        {
          "name": "stdout",
          "text": "Sun Jun  1 22:17:33 2025       \n+-----------------------------------------------------------------------------------------+\n| NVIDIA-SMI 560.35.03              Driver Version: 560.35.03      CUDA Version: 12.6     |\n|-----------------------------------------+------------------------+----------------------+\n| GPU  Name                 Persistence-M | Bus-Id          Disp.A | Volatile Uncorr. ECC |\n| Fan  Temp   Perf          Pwr:Usage/Cap |           Memory-Usage | GPU-Util  Compute M. |\n|                                         |                        |               MIG M. |\n|=========================================+========================+======================|\n|   0  Tesla P100-PCIE-16GB           Off |   00000000:00:04.0 Off |                    0 |\n| N/A   36C    P0             26W /  250W |       0MiB /  16384MiB |      0%      Default |\n|                                         |                        |                  N/A |\n+-----------------------------------------+------------------------+----------------------+\n                                                                                         \n+-----------------------------------------------------------------------------------------+\n| Processes:                                                                              |\n|  GPU   GI   CI        PID   Type   Process name                              GPU Memory |\n|        ID   ID                                                               Usage      |\n|=========================================================================================|\n|  No running processes found                                                             |\n+-----------------------------------------------------------------------------------------+\n",
          "output_type": "stream"
        }
      ],
      "execution_count": null
    },
    {
      "cell_type": "code",
      "source": [
        "BATCH_SIZE = 128\n",
        "EPOCHS = 50\n",
        "LEARNING_RATE = 0.001\n",
        "RANDOM_STATE = 42"
      ],
      "metadata": {
        "trusted": true,
        "execution": {
          "iopub.status.busy": "2025-06-01T22:17:33.495702Z",
          "iopub.execute_input": "2025-06-01T22:17:33.496019Z",
          "iopub.status.idle": "2025-06-01T22:17:33.500312Z",
          "shell.execute_reply.started": "2025-06-01T22:17:33.495991Z",
          "shell.execute_reply": "2025-06-01T22:17:33.499560Z"
        },
        "id": "1WhR176qy8kP"
      },
      "outputs": [],
      "execution_count": null
    },
    {
      "cell_type": "markdown",
      "source": [
        "# Загружаем данные"
      ],
      "metadata": {
        "id": "NrKhGUqby8kQ"
      }
    },
    {
      "cell_type": "code",
      "source": [
        "train_img = np.load(\"/kaggle/input/mipt-dl-captcha-2025/mds-misis-dl-captchan/images.npy\")\n",
        "labels = np.load(\"/kaggle/input/mipt-dl-captcha-2025/mds-misis-dl-captchan/labels.npy\")\n",
        "test_img = np.load(\"/kaggle/input/mipt-dl-captcha-2025/mds-misis-dl-captchan/images_sub.npy\")"
      ],
      "metadata": {
        "trusted": true,
        "execution": {
          "iopub.status.busy": "2025-06-01T22:17:36.740343Z",
          "iopub.execute_input": "2025-06-01T22:17:36.740623Z",
          "iopub.status.idle": "2025-06-01T22:17:40.362007Z",
          "shell.execute_reply.started": "2025-06-01T22:17:36.740600Z",
          "shell.execute_reply": "2025-06-01T22:17:40.361174Z"
        },
        "id": "gLEERXGAy8kR"
      },
      "outputs": [],
      "execution_count": null
    },
    {
      "cell_type": "code",
      "source": [
        "data = pd.read_csv(\"/kaggle/input/mipt-dl-captcha-2025/mds-misis-dl-captchan/sample_submission.csv\")"
      ],
      "metadata": {
        "trusted": true,
        "execution": {
          "iopub.status.busy": "2025-06-01T22:17:40.363350Z",
          "iopub.execute_input": "2025-06-01T22:17:40.363592Z",
          "iopub.status.idle": "2025-06-01T22:17:40.399377Z",
          "shell.execute_reply.started": "2025-06-01T22:17:40.363572Z",
          "shell.execute_reply": "2025-06-01T22:17:40.398733Z"
        },
        "id": "6Sf0JDEDy8kS"
      },
      "outputs": [],
      "execution_count": null
    },
    {
      "cell_type": "code",
      "source": [
        "data.info()"
      ],
      "metadata": {
        "trusted": true,
        "execution": {
          "iopub.status.busy": "2025-06-01T22:17:40.400220Z",
          "iopub.execute_input": "2025-06-01T22:17:40.400475Z",
          "iopub.status.idle": "2025-06-01T22:17:40.427461Z",
          "shell.execute_reply.started": "2025-06-01T22:17:40.400453Z",
          "shell.execute_reply": "2025-06-01T22:17:40.426844Z"
        },
        "id": "bI1W-q1Vy8kS",
        "outputId": "bdd26ee1-f7d6-4e2c-dc7f-5652df7e29ad"
      },
      "outputs": [
        {
          "name": "stdout",
          "text": "<class 'pandas.core.frame.DataFrame'>\nRangeIndex: 50000 entries, 0 to 49999\nData columns (total 2 columns):\n #   Column    Non-Null Count  Dtype\n---  ------    --------------  -----\n 0   Id        50000 non-null  int64\n 1   Category  50000 non-null  int64\ndtypes: int64(2)\nmemory usage: 781.4 KB\n",
          "output_type": "stream"
        }
      ],
      "execution_count": null
    },
    {
      "cell_type": "code",
      "source": [
        "data.head()"
      ],
      "metadata": {
        "trusted": true,
        "execution": {
          "iopub.status.busy": "2025-06-01T22:17:40.428941Z",
          "iopub.execute_input": "2025-06-01T22:17:40.429151Z",
          "iopub.status.idle": "2025-06-01T22:17:40.448571Z",
          "shell.execute_reply.started": "2025-06-01T22:17:40.429133Z",
          "shell.execute_reply": "2025-06-01T22:17:40.447606Z"
        },
        "id": "qQz-T0kly8kT",
        "outputId": "3cba6d97-247e-4f35-d253-bb92eba75b07"
      },
      "outputs": [
        {
          "execution_count": 10,
          "output_type": "execute_result",
          "data": {
            "text/plain": "   Id  Category\n0   0        13\n1   1        20\n2   2        12\n3   3         7\n4   4         8",
            "text/html": "<div>\n<style scoped>\n    .dataframe tbody tr th:only-of-type {\n        vertical-align: middle;\n    }\n\n    .dataframe tbody tr th {\n        vertical-align: top;\n    }\n\n    .dataframe thead th {\n        text-align: right;\n    }\n</style>\n<table border=\"1\" class=\"dataframe\">\n  <thead>\n    <tr style=\"text-align: right;\">\n      <th></th>\n      <th>Id</th>\n      <th>Category</th>\n    </tr>\n  </thead>\n  <tbody>\n    <tr>\n      <th>0</th>\n      <td>0</td>\n      <td>13</td>\n    </tr>\n    <tr>\n      <th>1</th>\n      <td>1</td>\n      <td>20</td>\n    </tr>\n    <tr>\n      <th>2</th>\n      <td>2</td>\n      <td>12</td>\n    </tr>\n    <tr>\n      <th>3</th>\n      <td>3</td>\n      <td>7</td>\n    </tr>\n    <tr>\n      <th>4</th>\n      <td>4</td>\n      <td>8</td>\n    </tr>\n  </tbody>\n</table>\n</div>"
          },
          "metadata": {}
        }
      ],
      "execution_count": null
    },
    {
      "cell_type": "code",
      "source": [
        "labels"
      ],
      "metadata": {
        "trusted": true,
        "execution": {
          "iopub.status.busy": "2025-06-01T22:17:40.449329Z",
          "iopub.execute_input": "2025-06-01T22:17:40.449662Z",
          "iopub.status.idle": "2025-06-01T22:17:40.454863Z",
          "shell.execute_reply.started": "2025-06-01T22:17:40.449644Z",
          "shell.execute_reply": "2025-06-01T22:17:40.454085Z"
        },
        "id": "iY5FhdZ1y8kT",
        "outputId": "9d2b5124-1f29-4beb-938c-64eda26764a0"
      },
      "outputs": [
        {
          "execution_count": 11,
          "output_type": "execute_result",
          "data": {
            "text/plain": "array([13, 24,  8, ..., 21,  7, 18])"
          },
          "metadata": {}
        }
      ],
      "execution_count": null
    },
    {
      "cell_type": "code",
      "source": [
        "unique_values, counts = np.unique(labels, return_counts=True)\n",
        "unique_values, counts"
      ],
      "metadata": {
        "trusted": true,
        "execution": {
          "iopub.status.busy": "2025-06-01T22:17:40.534359Z",
          "iopub.execute_input": "2025-06-01T22:17:40.534648Z",
          "iopub.status.idle": "2025-06-01T22:17:40.540495Z",
          "shell.execute_reply.started": "2025-06-01T22:17:40.534629Z",
          "shell.execute_reply": "2025-06-01T22:17:40.539928Z"
        },
        "id": "EbF3KTn8y8kU",
        "outputId": "61191188-7788-422c-ce68-5b15e7d9d658"
      },
      "outputs": [
        {
          "execution_count": 12,
          "output_type": "execute_result",
          "data": {
            "text/plain": "(array([ 0,  1,  2,  3,  4,  5,  6,  7,  8,  9, 10, 11, 12, 13, 14, 15, 16,\n        17, 18, 19, 20, 21, 22, 23, 24, 25]),\n array([ 748,  878,  710,  880,  764,  677,  816,  904,  440,  497,  794,\n         512,  972,  921,  871,  759,  866,  929,  739,  575,  763,  739,\n        1013,  816,  682,  735]))"
          },
          "metadata": {}
        }
      ],
      "execution_count": null
    },
    {
      "cell_type": "code",
      "source": [
        "images = torch.tensor(train_img.astype('float32')/255.0).permute(0,3,1,2)\n",
        "labels = torch.tensor(labels.astype('int64'))"
      ],
      "metadata": {
        "trusted": true,
        "execution": {
          "iopub.status.busy": "2025-06-01T22:17:41.079052Z",
          "iopub.execute_input": "2025-06-01T22:17:41.079611Z",
          "iopub.status.idle": "2025-06-01T22:17:41.581756Z",
          "shell.execute_reply.started": "2025-06-01T22:17:41.079591Z",
          "shell.execute_reply": "2025-06-01T22:17:41.581085Z"
        },
        "id": "49y-u5Jvy8kU"
      },
      "outputs": [],
      "execution_count": null
    },
    {
      "cell_type": "code",
      "source": [
        "images.shape"
      ],
      "metadata": {
        "trusted": true,
        "execution": {
          "iopub.status.busy": "2025-06-01T22:17:41.583013Z",
          "iopub.execute_input": "2025-06-01T22:17:41.583310Z",
          "iopub.status.idle": "2025-06-01T22:17:41.587431Z",
          "shell.execute_reply.started": "2025-06-01T22:17:41.583285Z",
          "shell.execute_reply": "2025-06-01T22:17:41.586921Z"
        },
        "id": "mmVo8v9Ay8kU",
        "outputId": "78f69550-b0e9-4090-bada-85bf7d7568f5"
      },
      "outputs": [
        {
          "execution_count": 14,
          "output_type": "execute_result",
          "data": {
            "text/plain": "torch.Size([20000, 3, 48, 48])"
          },
          "metadata": {}
        }
      ],
      "execution_count": null
    },
    {
      "cell_type": "code",
      "source": [
        "full_train = TensorDataset(images, labels)\n",
        "full_data_loader = torch.utils.data.DataLoader(dataset=full_train,\n",
        "                                               batch_size=BATCH_SIZE,\n",
        "                                               shuffle=True)"
      ],
      "metadata": {
        "trusted": true,
        "execution": {
          "iopub.status.busy": "2025-06-01T22:17:42.891078Z",
          "iopub.execute_input": "2025-06-01T22:17:42.891595Z",
          "iopub.status.idle": "2025-06-01T22:17:42.895513Z",
          "shell.execute_reply.started": "2025-06-01T22:17:42.891572Z",
          "shell.execute_reply": "2025-06-01T22:17:42.894877Z"
        },
        "id": "7eUn_T0Iy8kV"
      },
      "outputs": [],
      "execution_count": null
    },
    {
      "cell_type": "code",
      "source": [
        "X_train, X_valid, y_train, y_valid = train_test_split(images,\n",
        "                                                      labels,\n",
        "                                                      test_size=0.2,\n",
        "                                                      stratify=labels.numpy(),\n",
        "                                                      random_state=RANDOM_STATE)"
      ],
      "metadata": {
        "trusted": true,
        "execution": {
          "iopub.status.busy": "2025-06-01T22:17:44.041931Z",
          "iopub.execute_input": "2025-06-01T22:17:44.042212Z",
          "iopub.status.idle": "2025-06-01T22:17:44.334738Z",
          "shell.execute_reply.started": "2025-06-01T22:17:44.042190Z",
          "shell.execute_reply": "2025-06-01T22:17:44.334057Z"
        },
        "id": "YKgu8KgMy8kV"
      },
      "outputs": [],
      "execution_count": null
    },
    {
      "cell_type": "code",
      "source": [
        "train_data = TensorDataset(X_train, y_train)\n",
        "train_loader = torch.utils.data.DataLoader(dataset=train_data,\n",
        "                                           batch_size=BATCH_SIZE,\n",
        "                                           shuffle=True)\n",
        "\n",
        "valid_data = TensorDataset(X_valid, y_valid)\n",
        "valid_loader = torch.utils.data.DataLoader(dataset=valid_data,\n",
        "                                           batch_size=BATCH_SIZE,\n",
        "                                           shuffle=False)"
      ],
      "metadata": {
        "trusted": true,
        "execution": {
          "iopub.status.busy": "2025-06-01T22:17:44.724144Z",
          "iopub.execute_input": "2025-06-01T22:17:44.724411Z",
          "iopub.status.idle": "2025-06-01T22:17:44.728964Z",
          "shell.execute_reply.started": "2025-06-01T22:17:44.724391Z",
          "shell.execute_reply": "2025-06-01T22:17:44.728238Z"
        },
        "id": "5dXCD0MOy8kV"
      },
      "outputs": [],
      "execution_count": null
    },
    {
      "cell_type": "code",
      "source": [
        "data_iter = iter(valid_data)\n",
        "\n",
        "for i in range(6):\n",
        "    images_c, labels_c = next(data_iter)\n",
        "    print(f'Метка: {chr(labels_c + 65)}')\n",
        "    img = torchvision.utils.make_grid(images_c)\n",
        "    plt.imshow(img.permute(1, 2, 0).numpy())\n",
        "    plt.show()"
      ],
      "metadata": {
        "trusted": true,
        "execution": {
          "iopub.status.busy": "2025-06-01T22:17:47.194087Z",
          "iopub.execute_input": "2025-06-01T22:17:47.194896Z",
          "iopub.status.idle": "2025-06-01T22:17:48.181056Z",
          "shell.execute_reply.started": "2025-06-01T22:17:47.194869Z",
          "shell.execute_reply": "2025-06-01T22:17:48.180234Z"
        },
        "id": "5iTf4gW0y8kV",
        "outputId": "6e8dec65-2f6d-414d-b2ce-3bf3d6594529"
      },
      "outputs": [
        {
          "name": "stdout",
          "text": "Метка: U\n",
          "output_type": "stream"
        },
        {
          "output_type": "display_data",
          "data": {
            "text/plain": "<Figure size 640x480 with 1 Axes>",
            "image/png": "[encoded data removed]"
          },
          "metadata": {}
        },
        {
          "name": "stdout",
          "text": "Метка: L\n",
          "output_type": "stream"
        },
        {
          "output_type": "display_data",
          "data": {
            "text/plain": "<Figure size 640x480 with 1 Axes>",
            "image/png": "[encoded data removed]"
          },
          "metadata": {}
        },
        {
          "name": "stdout",
          "text": "Метка: P\n",
          "output_type": "stream"
        },
        {
          "output_type": "display_data",
          "data": {
            "text/plain": "<Figure size 640x480 with 1 Axes>",
            "image/png": "[encoded data removed]"
          },
          "metadata": {}
        },
        {
          "name": "stdout",
          "text": "Метка: A\n",
          "output_type": "stream"
        },
        {
          "output_type": "display_data",
          "data": {
            "text/plain": "<Figure size 640x480 with 1 Axes>",
            "image/png": "[encoded data removed]"
          },
          "metadata": {}
        },
        {
          "name": "stdout",
          "text": "Метка: B\n",
          "output_type": "stream"
        },
        {
          "output_type": "display_data",
          "data": {
            "text/plain": "<Figure size 640x480 with 1 Axes>",
            "image/png": "[encoded data removed]"
          },
          "metadata": {}
        },
        {
          "name": "stdout",
          "text": "Метка: L\n",
          "output_type": "stream"
        },
        {
          "output_type": "display_data",
          "data": {
            "text/plain": "<Figure size 640x480 with 1 Axes>",
            "image/png": "[encoded data removed]"
          },
          "metadata": {}
        }
      ],
      "execution_count": null
    },
    {
      "cell_type": "markdown",
      "source": [
        "## Класс сети"
      ],
      "metadata": {
        "id": "Zo9aOQHsy8kW"
      }
    },
    {
      "cell_type": "code",
      "source": [
        "class CNN(nn.Module):\n",
        "    def __init__(self):\n",
        "        super().__init__()\n",
        "        self.conv1 = nn.Conv2d(3, 32, kernel_size=3, padding=1)\n",
        "        self.bn1 = nn.BatchNorm2d(32)\n",
        "        self.conv2 = nn.Conv2d(32, 64, kernel_size=3, padding=1)\n",
        "        self.bn2 = nn.BatchNorm2d(64)\n",
        "        self.conv3 = nn.Conv2d(64, 128, kernel_size=3, padding=1)\n",
        "        self.bn3 = nn.BatchNorm2d(128)\n",
        "        self.conv4 = nn.Conv2d(128, 256, kernel_size=3, padding=1)\n",
        "        self.bn4 = nn.BatchNorm2d(256)\n",
        "\n",
        "        self.pool = nn.MaxPool2d(2, 2)\n",
        "        self.dropout = nn.Dropout(0.5)\n",
        "\n",
        "        self.fc1 = nn.Linear(256 * 3 * 3, 1024)\n",
        "        self.fc2 = nn.Linear(1024, 512)\n",
        "        self.fc3 = nn.Linear(512, 26)\n",
        "\n",
        "    def forward(self, x):\n",
        "        x = self.pool(F.relu(self.bn1(self.conv1(x))))\n",
        "        x = self.pool(F.relu(self.bn2(self.conv2(x))))\n",
        "        x = self.pool(F.relu(self.bn3(self.conv3(x))))\n",
        "        x = self.pool(F.relu(self.bn4(self.conv4(x))))\n",
        "\n",
        "        x = x.view(-1, 256 * 3 * 3)\n",
        "\n",
        "        x = self.dropout(F.relu(self.fc1(x)))\n",
        "        x = self.dropout(F.relu(self.fc2(x)))\n",
        "        x = self.fc3(x)\n",
        "        return x"
      ],
      "metadata": {
        "trusted": true,
        "execution": {
          "iopub.status.busy": "2025-06-01T13:28:22.314091Z",
          "iopub.execute_input": "2025-06-01T13:28:22.314775Z",
          "iopub.status.idle": "2025-06-01T13:28:22.321960Z",
          "shell.execute_reply.started": "2025-06-01T13:28:22.314754Z",
          "shell.execute_reply": "2025-06-01T13:28:22.321054Z"
        },
        "id": "JseRlEiJy8kW"
      },
      "outputs": [],
      "execution_count": null
    },
    {
      "cell_type": "markdown",
      "source": [
        "## Обучение сети"
      ],
      "metadata": {
        "id": "YJJddohCy8kW"
      }
    },
    {
      "cell_type": "code",
      "source": [
        "device = torch.device(\"cuda:0\" if torch.cuda.is_available() else \"cpu\")\n",
        "print(device)"
      ],
      "metadata": {
        "trusted": true,
        "execution": {
          "iopub.status.busy": "2025-06-01T21:56:00.931305Z",
          "iopub.execute_input": "2025-06-01T21:56:00.931566Z",
          "iopub.status.idle": "2025-06-01T21:56:00.997208Z",
          "shell.execute_reply.started": "2025-06-01T21:56:00.931546Z",
          "shell.execute_reply": "2025-06-01T21:56:00.996517Z"
        },
        "id": "SYYfkEEoy8kW",
        "outputId": "e11c51cb-b974-4be0-b8c5-7b2af508a25a"
      },
      "outputs": [
        {
          "name": "stdout",
          "text": "cuda:0\n",
          "output_type": "stream"
        }
      ],
      "execution_count": null
    },
    {
      "cell_type": "code",
      "source": [
        "model = CNN().to(device)\n",
        "criterion = nn.CrossEntropyLoss()\n",
        "optimizer = optim.Adam(model.parameters(), lr=LEARNING_RATE, weight_decay=1e-5)"
      ],
      "metadata": {
        "trusted": true,
        "execution": {
          "iopub.status.busy": "2025-05-31T22:34:24.015947Z",
          "iopub.execute_input": "2025-05-31T22:34:24.016513Z",
          "iopub.status.idle": "2025-05-31T22:34:24.047155Z",
          "shell.execute_reply.started": "2025-05-31T22:34:24.016491Z",
          "shell.execute_reply": "2025-05-31T22:34:24.046592Z"
        },
        "id": "sa0GVC3qy8kW"
      },
      "outputs": [],
      "execution_count": null
    },
    {
      "cell_type": "code",
      "source": [
        "best_val_acc = 0.0\n",
        "patience_counter = 0\n",
        "patience = 5\n",
        "\n",
        "for epoch in range(1, EPOCHS + 1):\n",
        "    # Обучение\n",
        "    model.train()\n",
        "    train_loss = 0.0\n",
        "    correct = 0\n",
        "    total = 0\n",
        "\n",
        "    for inputs, labels in tqdm(train_loader, desc=f'Epoch {epoch}/50 [Train]'):\n",
        "        inputs, labels = inputs.to(device), labels.to(device)\n",
        "\n",
        "        optimizer.zero_grad()\n",
        "        outputs = model(inputs)\n",
        "        loss = criterion(outputs, labels)\n",
        "        loss.backward()\n",
        "        optimizer.step()\n",
        "\n",
        "        train_loss += loss.item()\n",
        "        _, predicted = outputs.max(1)\n",
        "        total += labels.size(0)\n",
        "        correct += predicted.eq(labels).sum().item()\n",
        "\n",
        "    train_acc = 100. * correct / total\n",
        "    avg_train_loss = train_acc / len(train_loader)\n",
        "\n",
        "    # Валидация\n",
        "    model.eval()\n",
        "    val_loss = 0.0\n",
        "    correct = 0\n",
        "    total = 0\n",
        "\n",
        "    with torch.no_grad():\n",
        "        for inputs, labels in tqdm(valid_loader, desc=f'Epoch {epoch}/50 [Valid]'):\n",
        "            inputs, labels = inputs.to(device), labels.to(device)\n",
        "\n",
        "            outputs = model(inputs)\n",
        "            loss = criterion(outputs, labels)\n",
        "\n",
        "            val_loss += loss.item()\n",
        "            _, predicted = outputs.max(1)\n",
        "            total += labels.size(0)\n",
        "            correct += predicted.eq(labels).sum().item()\n",
        "\n",
        "    val_acc = 100. * correct / total\n",
        "    avg_val_loss = val_loss / len(valid_loader)\n",
        "\n",
        "    print(f'Эпоха {epoch}: '\n",
        "          f'Train Loss: {avg_train_loss:.4f}, Acc: {train_acc:.2f}% | '\n",
        "          f'Val Loss: {avg_val_loss:.4f}, Acc: {val_acc:.2f}%')\n",
        "\n",
        "    # Ранняя остановка\n",
        "    if val_acc > best_val_acc:\n",
        "        best_val_acc = val_acc\n",
        "        patience_counter = 0\n",
        "        torch.save(model.state_dict(), 'best_model.pth')\n",
        "    else:\n",
        "        patience_counter += 1\n",
        "        if patience_counter >= patience:\n",
        "            print(f'Ранняя остановка после {epoch} эпох')\n",
        "            break"
      ],
      "metadata": {
        "trusted": true,
        "execution": {
          "iopub.status.busy": "2025-05-31T22:34:24.215397Z",
          "iopub.execute_input": "2025-05-31T22:34:24.216223Z",
          "iopub.status.idle": "2025-05-31T22:35:07.055737Z",
          "shell.execute_reply.started": "2025-05-31T22:34:24.216191Z",
          "shell.execute_reply": "2025-05-31T22:35:07.054935Z"
        },
        "id": "w-w2sr-gy8kX",
        "outputId": "fab99724-c142-4a28-9578-1e18379313a5"
      },
      "outputs": [
        {
          "name": "stderr",
          "text": "Epoch 1/50 [Train]: 100%|██████████| 125/125 [00:02<00:00, 44.35it/s]\nEpoch 1/50 [Valid]: 100%|██████████| 32/32 [00:00<00:00, 156.92it/s]\n",
          "output_type": "stream"
        },
        {
          "name": "stdout",
          "text": "Эпоха 1: Train Loss: 0.0401, Acc: 5.02% | Val Loss: 3.2010, Acc: 7.03%\n",
          "output_type": "stream"
        },
        {
          "name": "stderr",
          "text": "Epoch 2/50 [Train]: 100%|██████████| 125/125 [00:01<00:00, 70.40it/s]\nEpoch 2/50 [Valid]: 100%|██████████| 32/32 [00:00<00:00, 170.04it/s]\n",
          "output_type": "stream"
        },
        {
          "name": "stdout",
          "text": "Эпоха 2: Train Loss: 0.1042, Acc: 13.03% | Val Loss: 2.3738, Acc: 30.62%\n",
          "output_type": "stream"
        },
        {
          "name": "stderr",
          "text": "Epoch 3/50 [Train]: 100%|██████████| 125/125 [00:01<00:00, 70.82it/s]\nEpoch 3/50 [Valid]: 100%|██████████| 32/32 [00:00<00:00, 168.75it/s]\n",
          "output_type": "stream"
        },
        {
          "name": "stdout",
          "text": "Эпоха 3: Train Loss: 0.2633, Acc: 32.91% | Val Loss: 1.5747, Acc: 51.30%\n",
          "output_type": "stream"
        },
        {
          "name": "stderr",
          "text": "Epoch 4/50 [Train]: 100%|██████████| 125/125 [00:01<00:00, 70.31it/s]\nEpoch 4/50 [Valid]: 100%|██████████| 32/32 [00:00<00:00, 169.48it/s]\n",
          "output_type": "stream"
        },
        {
          "name": "stdout",
          "text": "Эпоха 4: Train Loss: 0.3889, Acc: 48.62% | Val Loss: 1.1009, Acc: 63.92%\n",
          "output_type": "stream"
        },
        {
          "name": "stderr",
          "text": "Epoch 5/50 [Train]: 100%|██████████| 125/125 [00:01<00:00, 70.52it/s]\nEpoch 5/50 [Valid]: 100%|██████████| 32/32 [00:00<00:00, 169.06it/s]\n",
          "output_type": "stream"
        },
        {
          "name": "stdout",
          "text": "Эпоха 5: Train Loss: 0.4671, Acc: 58.39% | Val Loss: 0.8671, Acc: 73.17%\n",
          "output_type": "stream"
        },
        {
          "name": "stderr",
          "text": "Epoch 6/50 [Train]: 100%|██████████| 125/125 [00:01<00:00, 70.24it/s]\nEpoch 6/50 [Valid]: 100%|██████████| 32/32 [00:00<00:00, 168.97it/s]\n",
          "output_type": "stream"
        },
        {
          "name": "stdout",
          "text": "Эпоха 6: Train Loss: 0.5272, Acc: 65.89% | Val Loss: 0.8205, Acc: 74.62%\n",
          "output_type": "stream"
        },
        {
          "name": "stderr",
          "text": "Epoch 7/50 [Train]: 100%|██████████| 125/125 [00:01<00:00, 70.59it/s]\nEpoch 7/50 [Valid]: 100%|██████████| 32/32 [00:00<00:00, 169.05it/s]\n",
          "output_type": "stream"
        },
        {
          "name": "stdout",
          "text": "Эпоха 7: Train Loss: 0.5632, Acc: 70.40% | Val Loss: 0.6777, Acc: 78.58%\n",
          "output_type": "stream"
        },
        {
          "name": "stderr",
          "text": "Epoch 8/50 [Train]: 100%|██████████| 125/125 [00:01<00:00, 70.50it/s]\nEpoch 8/50 [Valid]: 100%|██████████| 32/32 [00:00<00:00, 163.45it/s]\n",
          "output_type": "stream"
        },
        {
          "name": "stdout",
          "text": "Эпоха 8: Train Loss: 0.5917, Acc: 73.97% | Val Loss: 0.6200, Acc: 80.25%\n",
          "output_type": "stream"
        },
        {
          "name": "stderr",
          "text": "Epoch 9/50 [Train]: 100%|██████████| 125/125 [00:01<00:00, 70.33it/s]\nEpoch 9/50 [Valid]: 100%|██████████| 32/32 [00:00<00:00, 170.49it/s]\n",
          "output_type": "stream"
        },
        {
          "name": "stdout",
          "text": "Эпоха 9: Train Loss: 0.6145, Acc: 76.81% | Val Loss: 0.6221, Acc: 80.40%\n",
          "output_type": "stream"
        },
        {
          "name": "stderr",
          "text": "Epoch 10/50 [Train]: 100%|██████████| 125/125 [00:01<00:00, 70.62it/s]\nEpoch 10/50 [Valid]: 100%|██████████| 32/32 [00:00<00:00, 168.95it/s]\n",
          "output_type": "stream"
        },
        {
          "name": "stdout",
          "text": "Эпоха 10: Train Loss: 0.6308, Acc: 78.84% | Val Loss: 0.6266, Acc: 80.40%\n",
          "output_type": "stream"
        },
        {
          "name": "stderr",
          "text": "Epoch 11/50 [Train]: 100%|██████████| 125/125 [00:01<00:00, 70.24it/s]\nEpoch 11/50 [Valid]: 100%|██████████| 32/32 [00:00<00:00, 170.64it/s]\n",
          "output_type": "stream"
        },
        {
          "name": "stdout",
          "text": "Эпоха 11: Train Loss: 0.6464, Acc: 80.80% | Val Loss: 0.6780, Acc: 79.22%\n",
          "output_type": "stream"
        },
        {
          "name": "stderr",
          "text": "Epoch 12/50 [Train]: 100%|██████████| 125/125 [00:01<00:00, 70.34it/s]\nEpoch 12/50 [Valid]: 100%|██████████| 32/32 [00:00<00:00, 169.61it/s]\n",
          "output_type": "stream"
        },
        {
          "name": "stdout",
          "text": "Эпоха 12: Train Loss: 0.6615, Acc: 82.68% | Val Loss: 0.5502, Acc: 83.12%\n",
          "output_type": "stream"
        },
        {
          "name": "stderr",
          "text": "Epoch 13/50 [Train]: 100%|██████████| 125/125 [00:01<00:00, 69.51it/s]\nEpoch 13/50 [Valid]: 100%|██████████| 32/32 [00:00<00:00, 163.17it/s]\n",
          "output_type": "stream"
        },
        {
          "name": "stdout",
          "text": "Эпоха 13: Train Loss: 0.6700, Acc: 83.75% | Val Loss: 0.5216, Acc: 83.55%\n",
          "output_type": "stream"
        },
        {
          "name": "stderr",
          "text": "Epoch 14/50 [Train]: 100%|██████████| 125/125 [00:01<00:00, 70.22it/s]\nEpoch 14/50 [Valid]: 100%|██████████| 32/32 [00:00<00:00, 169.33it/s]\n",
          "output_type": "stream"
        },
        {
          "name": "stdout",
          "text": "Эпоха 14: Train Loss: 0.6879, Acc: 85.99% | Val Loss: 0.5462, Acc: 83.38%\n",
          "output_type": "stream"
        },
        {
          "name": "stderr",
          "text": "Epoch 15/50 [Train]: 100%|██████████| 125/125 [00:01<00:00, 70.32it/s]\nEpoch 15/50 [Valid]: 100%|██████████| 32/32 [00:00<00:00, 169.17it/s]\n",
          "output_type": "stream"
        },
        {
          "name": "stdout",
          "text": "Эпоха 15: Train Loss: 0.6900, Acc: 86.24% | Val Loss: 0.5812, Acc: 82.35%\n",
          "output_type": "stream"
        },
        {
          "name": "stderr",
          "text": "Epoch 16/50 [Train]: 100%|██████████| 125/125 [00:01<00:00, 69.47it/s]\nEpoch 16/50 [Valid]: 100%|██████████| 32/32 [00:00<00:00, 168.26it/s]\n",
          "output_type": "stream"
        },
        {
          "name": "stdout",
          "text": "Эпоха 16: Train Loss: 0.6922, Acc: 86.53% | Val Loss: 0.4820, Acc: 84.58%\n",
          "output_type": "stream"
        },
        {
          "name": "stderr",
          "text": "Epoch 17/50 [Train]: 100%|██████████| 125/125 [00:01<00:00, 70.56it/s]\nEpoch 17/50 [Valid]: 100%|██████████| 32/32 [00:00<00:00, 167.56it/s]\n",
          "output_type": "stream"
        },
        {
          "name": "stdout",
          "text": "Эпоха 17: Train Loss: 0.7041, Acc: 88.02% | Val Loss: 0.5402, Acc: 83.90%\n",
          "output_type": "stream"
        },
        {
          "name": "stderr",
          "text": "Epoch 18/50 [Train]: 100%|██████████| 125/125 [00:01<00:00, 70.41it/s]\nEpoch 18/50 [Valid]: 100%|██████████| 32/32 [00:00<00:00, 168.32it/s]\n",
          "output_type": "stream"
        },
        {
          "name": "stdout",
          "text": "Эпоха 18: Train Loss: 0.7160, Acc: 89.49% | Val Loss: 0.5498, Acc: 84.35%\n",
          "output_type": "stream"
        },
        {
          "name": "stderr",
          "text": "Epoch 19/50 [Train]: 100%|██████████| 125/125 [00:01<00:00, 70.37it/s]\nEpoch 19/50 [Valid]: 100%|██████████| 32/32 [00:00<00:00, 169.66it/s]\n",
          "output_type": "stream"
        },
        {
          "name": "stdout",
          "text": "Эпоха 19: Train Loss: 0.7167, Acc: 89.58% | Val Loss: 0.5738, Acc: 83.38%\n",
          "output_type": "stream"
        },
        {
          "name": "stderr",
          "text": "Epoch 20/50 [Train]: 100%|██████████| 125/125 [00:01<00:00, 70.74it/s]\nEpoch 20/50 [Valid]: 100%|██████████| 32/32 [00:00<00:00, 167.89it/s]\n",
          "output_type": "stream"
        },
        {
          "name": "stdout",
          "text": "Эпоха 20: Train Loss: 0.7182, Acc: 89.78% | Val Loss: 0.5416, Acc: 84.47%\n",
          "output_type": "stream"
        },
        {
          "name": "stderr",
          "text": "Epoch 21/50 [Train]: 100%|██████████| 125/125 [00:01<00:00, 70.45it/s]\nEpoch 21/50 [Valid]: 100%|██████████| 32/32 [00:00<00:00, 164.97it/s]",
          "output_type": "stream"
        },
        {
          "name": "stdout",
          "text": "Эпоха 21: Train Loss: 0.7272, Acc: 90.91% | Val Loss: 0.5705, Acc: 83.92%\nРанняя остановка после 21 эпох\n",
          "output_type": "stream"
        },
        {
          "name": "stderr",
          "text": "\n",
          "output_type": "stream"
        }
      ],
      "execution_count": null
    },
    {
      "cell_type": "markdown",
      "source": [
        "## Обучаем на полных данных"
      ],
      "metadata": {
        "id": "gGaw9E3Sy8kX"
      }
    },
    {
      "cell_type": "code",
      "source": [
        "model_f = CNN().to(device)\n",
        "criterion_f = nn.CrossEntropyLoss()\n",
        "optimizer_f = optim.Adam(model_f.parameters(), lr=LEARNING_RATE, weight_decay=1e-5)"
      ],
      "metadata": {
        "trusted": true,
        "execution": {
          "iopub.status.busy": "2025-05-31T22:36:45.577191Z",
          "iopub.execute_input": "2025-05-31T22:36:45.577849Z",
          "iopub.status.idle": "2025-05-31T22:36:45.609340Z",
          "shell.execute_reply.started": "2025-05-31T22:36:45.577826Z",
          "shell.execute_reply": "2025-05-31T22:36:45.608794Z"
        },
        "id": "ha7wumnoy8kX"
      },
      "outputs": [],
      "execution_count": null
    },
    {
      "cell_type": "code",
      "source": [
        "best_acc = 0\n",
        "\n",
        "for epoch in range(1, 40 + 1):\n",
        "    # Обучение\n",
        "    model_f.train()\n",
        "    train_loss = 0.0\n",
        "    correct = 0\n",
        "    total = 0\n",
        "\n",
        "    for inputs, labels in tqdm(full_data_loader, desc=f'Epoch {epoch}/40 [Train]'):\n",
        "        inputs, labels = inputs.to(device), labels.to(device)\n",
        "\n",
        "        optimizer_f.zero_grad()\n",
        "        outputs = model_f(inputs)\n",
        "        loss = criterion_f(outputs, labels)\n",
        "        loss.backward()\n",
        "        optimizer_f.step()\n",
        "\n",
        "        train_loss += loss.item()\n",
        "        _, predicted = outputs.max(1)\n",
        "        total += labels.size(0)\n",
        "        correct += predicted.eq(labels).sum().item()\n",
        "\n",
        "    train_acc = 100. * correct / total\n",
        "    avg_train_loss = train_acc / len(train_loader)\n",
        "\n",
        "    print(f'Epoch {epoch}: '\n",
        "          f'Train Loss: {avg_train_loss:.4f}, Acc: {train_acc:.2f}%')\n",
        "\n",
        "    if train_acc > best_acc:\n",
        "        best_acc = train_acc\n",
        "        torch.save(model_f.state_dict(), 'best_model_f.pth')"
      ],
      "metadata": {
        "trusted": true,
        "execution": {
          "iopub.status.busy": "2025-05-31T22:36:46.224034Z",
          "iopub.execute_input": "2025-05-31T22:36:46.224565Z",
          "iopub.status.idle": "2025-05-31T22:38:16.589198Z",
          "shell.execute_reply.started": "2025-05-31T22:36:46.224543Z",
          "shell.execute_reply": "2025-05-31T22:38:16.588530Z"
        },
        "id": "hFqrWZjZy8kX",
        "outputId": "5f2d11e3-3d8f-46a5-b6c7-8452e9e122b9"
      },
      "outputs": [
        {
          "name": "stderr",
          "text": "Epoch 1/40 [Train]: 100%|██████████| 157/157 [00:02<00:00, 69.65it/s]\n",
          "output_type": "stream"
        },
        {
          "name": "stdout",
          "text": "Epoch 1: Train Loss: 0.0445, Acc: 5.56%\n",
          "output_type": "stream"
        },
        {
          "name": "stderr",
          "text": "Epoch 2/40 [Train]: 100%|██████████| 157/157 [00:02<00:00, 70.62it/s]\n",
          "output_type": "stream"
        },
        {
          "name": "stdout",
          "text": "Epoch 2: Train Loss: 0.1246, Acc: 15.57%\n",
          "output_type": "stream"
        },
        {
          "name": "stderr",
          "text": "Epoch 3/40 [Train]: 100%|██████████| 157/157 [00:02<00:00, 70.44it/s]\n",
          "output_type": "stream"
        },
        {
          "name": "stdout",
          "text": "Epoch 3: Train Loss: 0.2842, Acc: 35.52%\n",
          "output_type": "stream"
        },
        {
          "name": "stderr",
          "text": "Epoch 4/40 [Train]: 100%|██████████| 157/157 [00:02<00:00, 70.55it/s]\n",
          "output_type": "stream"
        },
        {
          "name": "stdout",
          "text": "Epoch 4: Train Loss: 0.3930, Acc: 49.12%\n",
          "output_type": "stream"
        },
        {
          "name": "stderr",
          "text": "Epoch 5/40 [Train]: 100%|██████████| 157/157 [00:02<00:00, 69.83it/s]\n",
          "output_type": "stream"
        },
        {
          "name": "stdout",
          "text": "Epoch 5: Train Loss: 0.4589, Acc: 57.36%\n",
          "output_type": "stream"
        },
        {
          "name": "stderr",
          "text": "Epoch 6/40 [Train]: 100%|██████████| 157/157 [00:02<00:00, 70.60it/s]\n",
          "output_type": "stream"
        },
        {
          "name": "stdout",
          "text": "Epoch 6: Train Loss: 0.5104, Acc: 63.80%\n",
          "output_type": "stream"
        },
        {
          "name": "stderr",
          "text": "Epoch 7/40 [Train]: 100%|██████████| 157/157 [00:02<00:00, 70.42it/s]\n",
          "output_type": "stream"
        },
        {
          "name": "stdout",
          "text": "Epoch 7: Train Loss: 0.5376, Acc: 67.20%\n",
          "output_type": "stream"
        },
        {
          "name": "stderr",
          "text": "Epoch 8/40 [Train]: 100%|██████████| 157/157 [00:02<00:00, 70.43it/s]\n",
          "output_type": "stream"
        },
        {
          "name": "stdout",
          "text": "Epoch 8: Train Loss: 0.5662, Acc: 70.78%\n",
          "output_type": "stream"
        },
        {
          "name": "stderr",
          "text": "Epoch 9/40 [Train]: 100%|██████████| 157/157 [00:02<00:00, 70.45it/s]\n",
          "output_type": "stream"
        },
        {
          "name": "stdout",
          "text": "Epoch 9: Train Loss: 0.5836, Acc: 72.95%\n",
          "output_type": "stream"
        },
        {
          "name": "stderr",
          "text": "Epoch 10/40 [Train]: 100%|██████████| 157/157 [00:02<00:00, 70.26it/s]\n",
          "output_type": "stream"
        },
        {
          "name": "stdout",
          "text": "Epoch 10: Train Loss: 0.6019, Acc: 75.23%\n",
          "output_type": "stream"
        },
        {
          "name": "stderr",
          "text": "Epoch 11/40 [Train]: 100%|██████████| 157/157 [00:02<00:00, 70.67it/s]\n",
          "output_type": "stream"
        },
        {
          "name": "stdout",
          "text": "Epoch 11: Train Loss: 0.6129, Acc: 76.61%\n",
          "output_type": "stream"
        },
        {
          "name": "stderr",
          "text": "Epoch 12/40 [Train]: 100%|██████████| 157/157 [00:02<00:00, 70.35it/s]\n",
          "output_type": "stream"
        },
        {
          "name": "stdout",
          "text": "Epoch 12: Train Loss: 0.6244, Acc: 78.05%\n",
          "output_type": "stream"
        },
        {
          "name": "stderr",
          "text": "Epoch 13/40 [Train]: 100%|██████████| 157/157 [00:02<00:00, 70.43it/s]\n",
          "output_type": "stream"
        },
        {
          "name": "stdout",
          "text": "Epoch 13: Train Loss: 0.6398, Acc: 79.97%\n",
          "output_type": "stream"
        },
        {
          "name": "stderr",
          "text": "Epoch 14/40 [Train]: 100%|██████████| 157/157 [00:02<00:00, 70.46it/s]\n",
          "output_type": "stream"
        },
        {
          "name": "stdout",
          "text": "Epoch 14: Train Loss: 0.6495, Acc: 81.19%\n",
          "output_type": "stream"
        },
        {
          "name": "stderr",
          "text": "Epoch 15/40 [Train]: 100%|██████████| 157/157 [00:02<00:00, 70.46it/s]\n",
          "output_type": "stream"
        },
        {
          "name": "stdout",
          "text": "Epoch 15: Train Loss: 0.6605, Acc: 82.56%\n",
          "output_type": "stream"
        },
        {
          "name": "stderr",
          "text": "Epoch 16/40 [Train]: 100%|██████████| 157/157 [00:02<00:00, 70.32it/s]\n",
          "output_type": "stream"
        },
        {
          "name": "stdout",
          "text": "Epoch 16: Train Loss: 0.6650, Acc: 83.13%\n",
          "output_type": "stream"
        },
        {
          "name": "stderr",
          "text": "Epoch 17/40 [Train]: 100%|██████████| 157/157 [00:02<00:00, 70.65it/s]\n",
          "output_type": "stream"
        },
        {
          "name": "stdout",
          "text": "Epoch 17: Train Loss: 0.6723, Acc: 84.04%\n",
          "output_type": "stream"
        },
        {
          "name": "stderr",
          "text": "Epoch 18/40 [Train]: 100%|██████████| 157/157 [00:02<00:00, 70.49it/s]\n",
          "output_type": "stream"
        },
        {
          "name": "stdout",
          "text": "Epoch 18: Train Loss: 0.6853, Acc: 85.66%\n",
          "output_type": "stream"
        },
        {
          "name": "stderr",
          "text": "Epoch 19/40 [Train]: 100%|██████████| 157/157 [00:02<00:00, 69.93it/s]\n",
          "output_type": "stream"
        },
        {
          "name": "stdout",
          "text": "Epoch 19: Train Loss: 0.6834, Acc: 85.43%\n",
          "output_type": "stream"
        },
        {
          "name": "stderr",
          "text": "Epoch 20/40 [Train]: 100%|██████████| 157/157 [00:02<00:00, 70.17it/s]\n",
          "output_type": "stream"
        },
        {
          "name": "stdout",
          "text": "Epoch 20: Train Loss: 0.6936, Acc: 86.70%\n",
          "output_type": "stream"
        },
        {
          "name": "stderr",
          "text": "Epoch 21/40 [Train]: 100%|██████████| 157/157 [00:02<00:00, 70.42it/s]\n",
          "output_type": "stream"
        },
        {
          "name": "stdout",
          "text": "Epoch 21: Train Loss: 0.6980, Acc: 87.25%\n",
          "output_type": "stream"
        },
        {
          "name": "stderr",
          "text": "Epoch 22/40 [Train]: 100%|██████████| 157/157 [00:02<00:00, 70.41it/s]\n",
          "output_type": "stream"
        },
        {
          "name": "stdout",
          "text": "Epoch 22: Train Loss: 0.7018, Acc: 87.72%\n",
          "output_type": "stream"
        },
        {
          "name": "stderr",
          "text": "Epoch 23/40 [Train]: 100%|██████████| 157/157 [00:02<00:00, 70.40it/s]\n",
          "output_type": "stream"
        },
        {
          "name": "stdout",
          "text": "Epoch 23: Train Loss: 0.7001, Acc: 87.52%\n",
          "output_type": "stream"
        },
        {
          "name": "stderr",
          "text": "Epoch 24/40 [Train]: 100%|██████████| 157/157 [00:02<00:00, 70.36it/s]\n",
          "output_type": "stream"
        },
        {
          "name": "stdout",
          "text": "Epoch 24: Train Loss: 0.7116, Acc: 88.94%\n",
          "output_type": "stream"
        },
        {
          "name": "stderr",
          "text": "Epoch 25/40 [Train]: 100%|██████████| 157/157 [00:02<00:00, 69.92it/s]\n",
          "output_type": "stream"
        },
        {
          "name": "stdout",
          "text": "Epoch 25: Train Loss: 0.7195, Acc: 89.94%\n",
          "output_type": "stream"
        },
        {
          "name": "stderr",
          "text": "Epoch 26/40 [Train]: 100%|██████████| 157/157 [00:02<00:00, 70.56it/s]\n",
          "output_type": "stream"
        },
        {
          "name": "stdout",
          "text": "Epoch 26: Train Loss: 0.7114, Acc: 88.92%\n",
          "output_type": "stream"
        },
        {
          "name": "stderr",
          "text": "Epoch 27/40 [Train]: 100%|██████████| 157/157 [00:02<00:00, 70.41it/s]\n",
          "output_type": "stream"
        },
        {
          "name": "stdout",
          "text": "Epoch 27: Train Loss: 0.7230, Acc: 90.37%\n",
          "output_type": "stream"
        },
        {
          "name": "stderr",
          "text": "Epoch 28/40 [Train]: 100%|██████████| 157/157 [00:02<00:00, 70.51it/s]\n",
          "output_type": "stream"
        },
        {
          "name": "stdout",
          "text": "Epoch 28: Train Loss: 0.7203, Acc: 90.04%\n",
          "output_type": "stream"
        },
        {
          "name": "stderr",
          "text": "Epoch 29/40 [Train]: 100%|██████████| 157/157 [00:02<00:00, 70.36it/s]\n",
          "output_type": "stream"
        },
        {
          "name": "stdout",
          "text": "Epoch 29: Train Loss: 0.7250, Acc: 90.63%\n",
          "output_type": "stream"
        },
        {
          "name": "stderr",
          "text": "Epoch 30/40 [Train]: 100%|██████████| 157/157 [00:02<00:00, 70.70it/s]\n",
          "output_type": "stream"
        },
        {
          "name": "stdout",
          "text": "Epoch 30: Train Loss: 0.7274, Acc: 90.92%\n",
          "output_type": "stream"
        },
        {
          "name": "stderr",
          "text": "Epoch 31/40 [Train]: 100%|██████████| 157/157 [00:02<00:00, 70.52it/s]\n",
          "output_type": "stream"
        },
        {
          "name": "stdout",
          "text": "Epoch 31: Train Loss: 0.7371, Acc: 92.14%\n",
          "output_type": "stream"
        },
        {
          "name": "stderr",
          "text": "Epoch 32/40 [Train]: 100%|██████████| 157/157 [00:02<00:00, 70.60it/s]\n",
          "output_type": "stream"
        },
        {
          "name": "stdout",
          "text": "Epoch 32: Train Loss: 0.7349, Acc: 91.86%\n",
          "output_type": "stream"
        },
        {
          "name": "stderr",
          "text": "Epoch 33/40 [Train]: 100%|██████████| 157/157 [00:02<00:00, 69.52it/s]\n",
          "output_type": "stream"
        },
        {
          "name": "stdout",
          "text": "Epoch 33: Train Loss: 0.7350, Acc: 91.88%\n",
          "output_type": "stream"
        },
        {
          "name": "stderr",
          "text": "Epoch 34/40 [Train]: 100%|██████████| 157/157 [00:02<00:00, 70.25it/s]\n",
          "output_type": "stream"
        },
        {
          "name": "stdout",
          "text": "Epoch 34: Train Loss: 0.7388, Acc: 92.35%\n",
          "output_type": "stream"
        },
        {
          "name": "stderr",
          "text": "Epoch 35/40 [Train]: 100%|██████████| 157/157 [00:02<00:00, 70.41it/s]\n",
          "output_type": "stream"
        },
        {
          "name": "stdout",
          "text": "Epoch 35: Train Loss: 0.7402, Acc: 92.53%\n",
          "output_type": "stream"
        },
        {
          "name": "stderr",
          "text": "Epoch 36/40 [Train]: 100%|██████████| 157/157 [00:02<00:00, 70.36it/s]\n",
          "output_type": "stream"
        },
        {
          "name": "stdout",
          "text": "Epoch 36: Train Loss: 0.7438, Acc: 92.98%\n",
          "output_type": "stream"
        },
        {
          "name": "stderr",
          "text": "Epoch 37/40 [Train]: 100%|██████████| 157/157 [00:02<00:00, 69.66it/s]\n",
          "output_type": "stream"
        },
        {
          "name": "stdout",
          "text": "Epoch 37: Train Loss: 0.7480, Acc: 93.50%\n",
          "output_type": "stream"
        },
        {
          "name": "stderr",
          "text": "Epoch 38/40 [Train]: 100%|██████████| 157/157 [00:02<00:00, 69.60it/s]\n",
          "output_type": "stream"
        },
        {
          "name": "stdout",
          "text": "Epoch 38: Train Loss: 0.7476, Acc: 93.45%\n",
          "output_type": "stream"
        },
        {
          "name": "stderr",
          "text": "Epoch 39/40 [Train]: 100%|██████████| 157/157 [00:02<00:00, 70.18it/s]\n",
          "output_type": "stream"
        },
        {
          "name": "stdout",
          "text": "Epoch 39: Train Loss: 0.7471, Acc: 93.39%\n",
          "output_type": "stream"
        },
        {
          "name": "stderr",
          "text": "Epoch 40/40 [Train]: 100%|██████████| 157/157 [00:02<00:00, 70.07it/s]",
          "output_type": "stream"
        },
        {
          "name": "stdout",
          "text": "Epoch 40: Train Loss: 0.7468, Acc: 93.36%\n",
          "output_type": "stream"
        },
        {
          "name": "stderr",
          "text": "\n",
          "output_type": "stream"
        }
      ],
      "execution_count": null
    },
    {
      "cell_type": "markdown",
      "source": [
        "## Предсказание для submission"
      ],
      "metadata": {
        "id": "-Dq9TzyGy8kX"
      }
    },
    {
      "cell_type": "code",
      "source": [
        "images_subm = torch.tensor(test_img.astype('float32')/255.0).permute(0,3,1,2)"
      ],
      "metadata": {
        "trusted": true,
        "execution": {
          "iopub.status.busy": "2025-06-01T22:17:58.607458Z",
          "iopub.execute_input": "2025-06-01T22:17:58.608168Z",
          "iopub.status.idle": "2025-06-01T22:17:59.842990Z",
          "shell.execute_reply.started": "2025-06-01T22:17:58.608143Z",
          "shell.execute_reply": "2025-06-01T22:17:59.842341Z"
        },
        "id": "zJJmRVyFy8kX"
      },
      "outputs": [],
      "execution_count": null
    },
    {
      "cell_type": "code",
      "source": [
        "test_data_loader = torch.utils.data.DataLoader(dataset=images_subm,\n",
        "                                               batch_size=BATCH_SIZE,\n",
        "                                               shuffle=False)"
      ],
      "metadata": {
        "trusted": true,
        "execution": {
          "iopub.status.busy": "2025-06-01T22:17:59.844196Z",
          "iopub.execute_input": "2025-06-01T22:17:59.844920Z",
          "iopub.status.idle": "2025-06-01T22:17:59.848875Z",
          "shell.execute_reply.started": "2025-06-01T22:17:59.844899Z",
          "shell.execute_reply": "2025-06-01T22:17:59.848105Z"
        },
        "id": "yhlM9OTZy8kY"
      },
      "outputs": [],
      "execution_count": null
    },
    {
      "cell_type": "code",
      "source": [
        "model_f.eval()\n",
        "prediction = []\n",
        "\n",
        "with torch.no_grad():\n",
        "    for inputs in tqdm(test_data_loader):\n",
        "        inputs = inputs.to(device)\n",
        "\n",
        "        outputs = model_f(inputs)\n",
        "        _, predicted = outputs.max(1)\n",
        "        prediction.extend(predicted.cpu().tolist())"
      ],
      "metadata": {
        "trusted": true,
        "execution": {
          "iopub.status.busy": "2025-05-31T22:38:17.839914Z",
          "iopub.execute_input": "2025-05-31T22:38:17.840342Z",
          "iopub.status.idle": "2025-05-31T22:38:19.999091Z",
          "shell.execute_reply.started": "2025-05-31T22:38:17.840322Z",
          "shell.execute_reply": "2025-05-31T22:38:19.998335Z"
        },
        "id": "1lAey9Hny8kY",
        "outputId": "2155a3a9-d678-44fe-cc52-d8bedbdfa571"
      },
      "outputs": [
        {
          "name": "stderr",
          "text": "100%|██████████| 391/391 [00:02<00:00, 182.45it/s]\n",
          "output_type": "stream"
        }
      ],
      "execution_count": null
    },
    {
      "cell_type": "code",
      "source": [
        "prediction[:10]"
      ],
      "metadata": {
        "trusted": true,
        "execution": {
          "iopub.status.busy": "2025-05-31T22:38:20.000001Z",
          "iopub.execute_input": "2025-05-31T22:38:20.000291Z",
          "iopub.status.idle": "2025-05-31T22:38:20.005435Z",
          "shell.execute_reply.started": "2025-05-31T22:38:20.000265Z",
          "shell.execute_reply": "2025-05-31T22:38:20.004599Z"
        },
        "id": "8vQOdZ3By8kY",
        "outputId": "4246545b-fc5c-4ed1-9108-4e8898c8b64a"
      },
      "outputs": [
        {
          "execution_count": 47,
          "output_type": "execute_result",
          "data": {
            "text/plain": "[21, 24, 3, 12, 10, 7, 5, 17, 23, 22]"
          },
          "metadata": {}
        }
      ],
      "execution_count": null
    },
    {
      "cell_type": "code",
      "source": [
        "submission = pd.DataFrame({\n",
        "    'id': np.arange(len(prediction)),\n",
        "    'Category': prediction\n",
        "})\n",
        "submission.to_csv('submission.csv', index=False)"
      ],
      "metadata": {
        "trusted": true,
        "execution": {
          "iopub.status.busy": "2025-05-31T22:38:20.006242Z",
          "iopub.execute_input": "2025-05-31T22:38:20.006527Z",
          "iopub.status.idle": "2025-05-31T22:38:20.071218Z",
          "shell.execute_reply.started": "2025-05-31T22:38:20.006503Z",
          "shell.execute_reply": "2025-05-31T22:38:20.070329Z"
        },
        "id": "mBRQ3D7Ty8kY"
      },
      "outputs": [],
      "execution_count": null
    },
    {
      "cell_type": "markdown",
      "source": [
        "## Вариант с ResidualBlock"
      ],
      "metadata": {
        "id": "iFpMSHH_y8kY"
      }
    },
    {
      "cell_type": "code",
      "source": [
        "class ResidualBlock(nn.Module):\n",
        "    def __init__(self, in_channels, out_channels, stride=1):\n",
        "        super().__init__()\n",
        "        self.conv1 = nn.Conv2d(in_channels, out_channels, kernel_size=3, stride=stride, padding=1, bias=False)\n",
        "        self.bn1 = nn.BatchNorm2d(out_channels)\n",
        "        self.conv2 = nn.Conv2d(out_channels, out_channels, kernel_size=3, padding=1, bias=False)\n",
        "        self.bn2 = nn.BatchNorm2d(out_channels)\n",
        "\n",
        "        self.shortcut = nn.Sequential()\n",
        "        if stride != 1 or in_channels != out_channels:\n",
        "            self.shortcut = nn.Sequential(\n",
        "                nn.Conv2d(in_channels, out_channels, kernel_size=1, stride=stride, bias=False),\n",
        "                nn.BatchNorm2d(out_channels)\n",
        "            )\n",
        "\n",
        "    def forward(self, x):\n",
        "        residual = self.shortcut(x)\n",
        "        out = F.relu(self.bn1(self.conv1(x)))\n",
        "        out = self.bn2(self.conv2(out))\n",
        "        out += residual\n",
        "        return F.relu(out)\n",
        "\n",
        "class ImprovedCNN(nn.Module):\n",
        "    def __init__(self, num_classes=26):\n",
        "        super().__init__()\n",
        "        self.in_channels = 64\n",
        "\n",
        "        # Начальный слой\n",
        "        self.conv1 = nn.Sequential(\n",
        "            nn.Conv2d(3, 64, kernel_size=7, stride=2, padding=3, bias=False),\n",
        "            nn.BatchNorm2d(64),\n",
        "            nn.ReLU(),\n",
        "            nn.MaxPool2d(kernel_size=3, stride=2, padding=1)\n",
        "        )\n",
        "\n",
        "        # Residual блоки\n",
        "        self.layer1 = self._make_layer(64, 2, stride=1)\n",
        "        self.layer2 = self._make_layer(128, 2, stride=2)\n",
        "        self.layer3 = self._make_layer(256, 2, stride=2)\n",
        "        self.layer4 = self._make_layer(512, 2, stride=2)\n",
        "\n",
        "        # Глобальный пулинг и классификатор\n",
        "        self.avgpool = nn.AdaptiveAvgPool2d((1, 1))\n",
        "        self.fc = nn.Sequential(\n",
        "            nn.Dropout(0.5),\n",
        "            nn.Linear(512, 256),\n",
        "            nn.ReLU(),\n",
        "            nn.BatchNorm1d(256),\n",
        "            nn.Dropout(0.3),\n",
        "            nn.Linear(256, num_classes))\n",
        "\n",
        "    def _make_layer(self, out_channels, blocks, stride=1):\n",
        "        layers = []\n",
        "        layers.append(ResidualBlock(self.in_channels, out_channels, stride))\n",
        "        self.in_channels = out_channels\n",
        "        for _ in range(1, blocks):\n",
        "            layers.append(ResidualBlock(out_channels, out_channels))\n",
        "        return nn.Sequential(*layers)\n",
        "\n",
        "    def forward(self, x):\n",
        "        x = self.conv1(x)\n",
        "        x = self.layer1(x)\n",
        "        x = self.layer2(x)\n",
        "        x = self.layer3(x)\n",
        "        x = self.layer4(x)\n",
        "        x = self.avgpool(x)\n",
        "        x = x.view(x.size(0), -1)\n",
        "        x = self.fc(x)\n",
        "        return x"
      ],
      "metadata": {
        "trusted": true,
        "execution": {
          "iopub.status.busy": "2025-06-01T13:30:20.350636Z",
          "iopub.execute_input": "2025-06-01T13:30:20.351114Z",
          "iopub.status.idle": "2025-06-01T13:30:20.361572Z",
          "shell.execute_reply.started": "2025-06-01T13:30:20.351090Z",
          "shell.execute_reply": "2025-06-01T13:30:20.360859Z"
        },
        "id": "HKec4NAvy8kY"
      },
      "outputs": [],
      "execution_count": null
    },
    {
      "cell_type": "code",
      "source": [
        "model_r = ImprovedCNN().to(device)\n",
        "criterion_r = nn.CrossEntropyLoss()\n",
        "optimizer_r = optim.Adam(model_r.parameters(), lr=LEARNING_RATE, weight_decay=1e-5)"
      ],
      "metadata": {
        "trusted": true,
        "execution": {
          "iopub.status.busy": "2025-05-31T22:58:31.531888Z",
          "iopub.execute_input": "2025-05-31T22:58:31.532155Z",
          "iopub.status.idle": "2025-05-31T22:58:31.641881Z",
          "shell.execute_reply.started": "2025-05-31T22:58:31.532136Z",
          "shell.execute_reply": "2025-05-31T22:58:31.641129Z"
        },
        "id": "acP72lrdy8kZ"
      },
      "outputs": [],
      "execution_count": null
    },
    {
      "cell_type": "code",
      "source": [
        "best_val_acc = 0.0\n",
        "patience_counter = 0\n",
        "patience = 5\n",
        "\n",
        "for epoch in range(1, 60 + 1):\n",
        "    # Обучение\n",
        "    model_r.train()\n",
        "    train_loss = 0.0\n",
        "    correct = 0\n",
        "    total = 0\n",
        "\n",
        "    for inputs, labels in tqdm(train_loader, desc=f'Epoch {epoch}/50 [Train]'):\n",
        "        inputs, labels = inputs.to(device), labels.to(device)\n",
        "\n",
        "        optimizer_r.zero_grad()\n",
        "        outputs = model_r(inputs)\n",
        "        loss = criterion_r(outputs, labels)\n",
        "        loss.backward()\n",
        "        optimizer_r.step()\n",
        "\n",
        "        train_loss += loss.item()\n",
        "        _, predicted = outputs.max(1)\n",
        "        total += labels.size(0)\n",
        "        correct += predicted.eq(labels).sum().item()\n",
        "\n",
        "    train_acc = 100. * correct / total\n",
        "    avg_train_loss = train_acc / len(train_loader)\n",
        "\n",
        "    # Валидация\n",
        "    model_r.eval()\n",
        "    val_loss = 0.0\n",
        "    correct = 0\n",
        "    total = 0\n",
        "\n",
        "    with torch.no_grad():\n",
        "        for inputs, labels in tqdm(valid_loader, desc=f'Epoch {epoch}/50 [Valid]'):\n",
        "            inputs, labels = inputs.to(device), labels.to(device)\n",
        "\n",
        "            outputs = model_r(inputs)\n",
        "            loss = criterion_r(outputs, labels)\n",
        "\n",
        "            val_loss += loss.item()\n",
        "            _, predicted = outputs.max(1)\n",
        "            total += labels.size(0)\n",
        "            correct += predicted.eq(labels).sum().item()\n",
        "\n",
        "    val_acc = 100. * correct / total\n",
        "    avg_val_loss = val_loss / len(valid_loader)\n",
        "\n",
        "    print(f'Эпоха {epoch}: '\n",
        "          f'Train Loss: {avg_train_loss:.4f}, Acc: {train_acc:.2f}% | '\n",
        "          f'Val Loss: {avg_val_loss:.4f}, Acc: {val_acc:.2f}%')\n",
        "\n",
        "    # Ранняя остановка\n",
        "    if val_acc > best_val_acc:\n",
        "        best_val_acc = val_acc\n",
        "        patience_counter = 0\n",
        "        torch.save(model_r.state_dict(), 'best_model_r.pth')\n",
        "    else:\n",
        "        patience_counter += 1\n",
        "        if patience_counter >= patience:\n",
        "            print(f'Ранняя остановка после {epoch} эпох')\n",
        "            break"
      ],
      "metadata": {
        "trusted": true,
        "execution": {
          "iopub.status.busy": "2025-05-31T22:58:35.795229Z",
          "iopub.execute_input": "2025-05-31T22:58:35.795711Z",
          "iopub.status.idle": "2025-05-31T22:59:37.723500Z",
          "shell.execute_reply.started": "2025-05-31T22:58:35.795686Z",
          "shell.execute_reply": "2025-05-31T22:59:37.722798Z"
        },
        "id": "X7Rs822Hy8kZ",
        "outputId": "09f3b082-371e-45fa-9eef-886ed8d2bcd7"
      },
      "outputs": [
        {
          "name": "stderr",
          "text": "Epoch 1/50 [Train]: 100%|██████████| 125/125 [00:03<00:00, 34.35it/s]\nEpoch 1/50 [Valid]: 100%|██████████| 32/32 [00:00<00:00, 96.89it/s]\n",
          "output_type": "stream"
        },
        {
          "name": "stdout",
          "text": "Эпоха 1: Train Loss: 0.0370, Acc: 4.62% | Val Loss: 3.2060, Acc: 6.47%\n",
          "output_type": "stream"
        },
        {
          "name": "stderr",
          "text": "Epoch 2/50 [Train]: 100%|██████████| 125/125 [00:03<00:00, 35.87it/s]\nEpoch 2/50 [Valid]: 100%|██████████| 32/32 [00:00<00:00, 100.75it/s]\n",
          "output_type": "stream"
        },
        {
          "name": "stdout",
          "text": "Эпоха 2: Train Loss: 0.1192, Acc: 14.91% | Val Loss: 2.1884, Acc: 34.15%\n",
          "output_type": "stream"
        },
        {
          "name": "stderr",
          "text": "Epoch 3/50 [Train]: 100%|██████████| 125/125 [00:03<00:00, 35.93it/s]\nEpoch 3/50 [Valid]: 100%|██████████| 32/32 [00:00<00:00, 101.07it/s]\n",
          "output_type": "stream"
        },
        {
          "name": "stdout",
          "text": "Эпоха 3: Train Loss: 0.4084, Acc: 51.06% | Val Loss: 1.2138, Acc: 62.00%\n",
          "output_type": "stream"
        },
        {
          "name": "stderr",
          "text": "Epoch 4/50 [Train]: 100%|██████████| 125/125 [00:03<00:00, 35.96it/s]\nEpoch 4/50 [Valid]: 100%|██████████| 32/32 [00:00<00:00, 98.81it/s]\n",
          "output_type": "stream"
        },
        {
          "name": "stdout",
          "text": "Эпоха 4: Train Loss: 0.5925, Acc: 74.07% | Val Loss: 0.8079, Acc: 74.53%\n",
          "output_type": "stream"
        },
        {
          "name": "stderr",
          "text": "Epoch 5/50 [Train]: 100%|██████████| 125/125 [00:03<00:00, 35.91it/s]\nEpoch 5/50 [Valid]: 100%|██████████| 32/32 [00:00<00:00, 100.94it/s]\n",
          "output_type": "stream"
        },
        {
          "name": "stdout",
          "text": "Эпоха 5: Train Loss: 0.6660, Acc: 83.25% | Val Loss: 0.9290, Acc: 72.75%\n",
          "output_type": "stream"
        },
        {
          "name": "stderr",
          "text": "Epoch 6/50 [Train]: 100%|██████████| 125/125 [00:03<00:00, 35.97it/s]\nEpoch 6/50 [Valid]: 100%|██████████| 32/32 [00:00<00:00, 101.08it/s]\n",
          "output_type": "stream"
        },
        {
          "name": "stdout",
          "text": "Эпоха 6: Train Loss: 0.7002, Acc: 87.53% | Val Loss: 0.7935, Acc: 76.42%\n",
          "output_type": "stream"
        },
        {
          "name": "stderr",
          "text": "Epoch 7/50 [Train]: 100%|██████████| 125/125 [00:03<00:00, 35.79it/s]\nEpoch 7/50 [Valid]: 100%|██████████| 32/32 [00:00<00:00, 99.55it/s]\n",
          "output_type": "stream"
        },
        {
          "name": "stdout",
          "text": "Эпоха 7: Train Loss: 0.7246, Acc: 90.58% | Val Loss: 0.4894, Acc: 85.47%\n",
          "output_type": "stream"
        },
        {
          "name": "stderr",
          "text": "Epoch 8/50 [Train]: 100%|██████████| 125/125 [00:03<00:00, 35.95it/s]\nEpoch 8/50 [Valid]: 100%|██████████| 32/32 [00:00<00:00, 101.04it/s]\n",
          "output_type": "stream"
        },
        {
          "name": "stdout",
          "text": "Эпоха 8: Train Loss: 0.7336, Acc: 91.70% | Val Loss: 0.6446, Acc: 81.45%\n",
          "output_type": "stream"
        },
        {
          "name": "stderr",
          "text": "Epoch 9/50 [Train]: 100%|██████████| 125/125 [00:03<00:00, 35.94it/s]\nEpoch 9/50 [Valid]: 100%|██████████| 32/32 [00:00<00:00, 101.45it/s]\n",
          "output_type": "stream"
        },
        {
          "name": "stdout",
          "text": "Эпоха 9: Train Loss: 0.7507, Acc: 93.84% | Val Loss: 0.4412, Acc: 86.92%\n",
          "output_type": "stream"
        },
        {
          "name": "stderr",
          "text": "Epoch 10/50 [Train]: 100%|██████████| 125/125 [00:03<00:00, 35.75it/s]\nEpoch 10/50 [Valid]: 100%|██████████| 32/32 [00:00<00:00, 100.45it/s]\n",
          "output_type": "stream"
        },
        {
          "name": "stdout",
          "text": "Эпоха 10: Train Loss: 0.7614, Acc: 95.17% | Val Loss: 0.4958, Acc: 86.15%\n",
          "output_type": "stream"
        },
        {
          "name": "stderr",
          "text": "Epoch 11/50 [Train]: 100%|██████████| 125/125 [00:03<00:00, 35.89it/s]\nEpoch 11/50 [Valid]: 100%|██████████| 32/32 [00:00<00:00, 101.45it/s]\n",
          "output_type": "stream"
        },
        {
          "name": "stdout",
          "text": "Эпоха 11: Train Loss: 0.7683, Acc: 96.04% | Val Loss: 0.4586, Acc: 87.30%\n",
          "output_type": "stream"
        },
        {
          "name": "stderr",
          "text": "Epoch 12/50 [Train]: 100%|██████████| 125/125 [00:03<00:00, 35.84it/s]\nEpoch 12/50 [Valid]: 100%|██████████| 32/32 [00:00<00:00, 100.53it/s]\n",
          "output_type": "stream"
        },
        {
          "name": "stdout",
          "text": "Эпоха 12: Train Loss: 0.7758, Acc: 96.97% | Val Loss: 0.5000, Acc: 87.03%\n",
          "output_type": "stream"
        },
        {
          "name": "stderr",
          "text": "Epoch 13/50 [Train]: 100%|██████████| 125/125 [00:03<00:00, 35.91it/s]\nEpoch 13/50 [Valid]: 100%|██████████| 32/32 [00:00<00:00, 100.69it/s]\n",
          "output_type": "stream"
        },
        {
          "name": "stdout",
          "text": "Эпоха 13: Train Loss: 0.7732, Acc: 96.65% | Val Loss: 0.5335, Acc: 86.15%\n",
          "output_type": "stream"
        },
        {
          "name": "stderr",
          "text": "Epoch 14/50 [Train]: 100%|██████████| 125/125 [00:03<00:00, 35.96it/s]\nEpoch 14/50 [Valid]: 100%|██████████| 32/32 [00:00<00:00, 100.99it/s]\n",
          "output_type": "stream"
        },
        {
          "name": "stdout",
          "text": "Эпоха 14: Train Loss: 0.7726, Acc: 96.58% | Val Loss: 0.5206, Acc: 86.78%\n",
          "output_type": "stream"
        },
        {
          "name": "stderr",
          "text": "Epoch 15/50 [Train]: 100%|██████████| 125/125 [00:03<00:00, 35.75it/s]\nEpoch 15/50 [Valid]: 100%|██████████| 32/32 [00:00<00:00, 98.23it/s]\n",
          "output_type": "stream"
        },
        {
          "name": "stdout",
          "text": "Эпоха 15: Train Loss: 0.7799, Acc: 97.49% | Val Loss: 0.5286, Acc: 86.80%\n",
          "output_type": "stream"
        },
        {
          "name": "stderr",
          "text": "Epoch 16/50 [Train]: 100%|██████████| 125/125 [00:03<00:00, 35.92it/s]\nEpoch 16/50 [Valid]: 100%|██████████| 32/32 [00:00<00:00, 101.05it/s]",
          "output_type": "stream"
        },
        {
          "name": "stdout",
          "text": "Эпоха 16: Train Loss: 0.7809, Acc: 97.61% | Val Loss: 0.4815, Acc: 87.22%\nРанняя остановка после 16 эпох\n",
          "output_type": "stream"
        },
        {
          "name": "stderr",
          "text": "\n",
          "output_type": "stream"
        }
      ],
      "execution_count": null
    },
    {
      "cell_type": "markdown",
      "source": [
        "## Добавим аугментацию"
      ],
      "metadata": {
        "id": "NYRxb8exy8kZ"
      }
    },
    {
      "cell_type": "markdown",
      "source": [
        "### Базовый вариант модели"
      ],
      "metadata": {
        "id": "e3w8Vry-y8ke"
      }
    },
    {
      "cell_type": "code",
      "source": [
        "# Аугментации для тренировочных данных\n",
        "train_transform = transforms.Compose([\n",
        "    transforms.ToPILImage(),\n",
        "    transforms.RandomRotation(15),\n",
        "    transforms.RandomAffine(0, translate=(0.1, 0.1), scale=(0.9, 1.1)),\n",
        "    transforms.RandomHorizontalFlip(p=0.5),\n",
        "    transforms.ColorJitter(brightness=0.2, contrast=0.2),\n",
        "    transforms.ToTensor(),\n",
        "])\n",
        "\n",
        "# Обертка для Dataset с аугментацией\n",
        "class AugmentedDataset(torch.utils.data.Dataset):\n",
        "    def __init__(self, tensor_data, tensor_labels, transform=None):\n",
        "        self.data = tensor_data\n",
        "        self.labels = tensor_labels\n",
        "        self.transform = transform\n",
        "\n",
        "    def __len__(self):\n",
        "        return len(self.data)\n",
        "\n",
        "    def __getitem__(self, idx):\n",
        "        img = self.data[idx]\n",
        "        label = self.labels[idx]\n",
        "        if self.transform:\n",
        "            img = self.transform(img)\n",
        "        return img, label\n",
        "\n",
        "# Создание DataLoader с аугментацией\n",
        "train_data_aug = AugmentedDataset(X_train, y_train, transform=train_transform)\n",
        "train_loader_aug = torch.utils.data.DataLoader(train_data_aug, batch_size=BATCH_SIZE, shuffle=True)"
      ],
      "metadata": {
        "trusted": true,
        "execution": {
          "iopub.status.busy": "2025-06-01T13:30:28.704016Z",
          "iopub.execute_input": "2025-06-01T13:30:28.704301Z",
          "iopub.status.idle": "2025-06-01T13:30:28.711227Z",
          "shell.execute_reply.started": "2025-06-01T13:30:28.704281Z",
          "shell.execute_reply": "2025-06-01T13:30:28.710414Z"
        },
        "id": "a8CC221Oy8ke"
      },
      "outputs": [],
      "execution_count": null
    },
    {
      "cell_type": "code",
      "source": [
        "model_ba = CNN().to(device)\n",
        "criterion_ba = nn.CrossEntropyLoss()\n",
        "optimizer_ba = optim.Adam(model_ba.parameters(), lr=LEARNING_RATE, weight_decay=1e-5)"
      ],
      "metadata": {
        "trusted": true,
        "execution": {
          "iopub.status.busy": "2025-05-31T22:41:16.120791Z",
          "iopub.execute_input": "2025-05-31T22:41:16.121067Z",
          "iopub.status.idle": "2025-05-31T22:41:16.152464Z",
          "shell.execute_reply.started": "2025-05-31T22:41:16.121046Z",
          "shell.execute_reply": "2025-05-31T22:41:16.151947Z"
        },
        "id": "AW9YUNIVy8ke"
      },
      "outputs": [],
      "execution_count": null
    },
    {
      "cell_type": "code",
      "source": [
        "best_val_acc = 0.0\n",
        "patience_counter = 0\n",
        "patience = 10\n",
        "EPOCHS_C = 80\n",
        "\n",
        "for epoch in range(1, EPOCHS_C + 1):\n",
        "    # Обучение\n",
        "    model_ba.train()\n",
        "    train_loss = 0.0\n",
        "    correct = 0\n",
        "    total = 0\n",
        "\n",
        "    for inputs, labels in tqdm(train_loader_aug, desc=f'Epoch {epoch}/{EPOCHS_C} [Train]'):\n",
        "        inputs, labels = inputs.to(device), labels.to(device)\n",
        "\n",
        "        optimizer_ba.zero_grad()\n",
        "        outputs = model_ba(inputs)\n",
        "        loss = criterion_ba(outputs, labels)\n",
        "        loss.backward()\n",
        "        optimizer_ba.step()\n",
        "\n",
        "        train_loss += loss.item()\n",
        "        _, predicted = outputs.max(1)\n",
        "        total += labels.size(0)\n",
        "        correct += predicted.eq(labels).sum().item()\n",
        "\n",
        "    train_acc = 100. * correct / total\n",
        "    avg_train_loss = train_acc / len(train_loader)\n",
        "\n",
        "    # Валидация\n",
        "    model_ba.eval()\n",
        "    val_loss = 0.0\n",
        "    correct = 0\n",
        "    total = 0\n",
        "\n",
        "    with torch.no_grad():\n",
        "        for inputs, labels in tqdm(valid_loader, desc=f'Epoch {epoch}/{EPOCHS_C} [Valid]'):\n",
        "            inputs, labels = inputs.to(device), labels.to(device)\n",
        "\n",
        "            outputs = model_ba(inputs)\n",
        "            loss = criterion_ba(outputs, labels)\n",
        "\n",
        "            val_loss += loss.item()\n",
        "            _, predicted = outputs.max(1)\n",
        "            total += labels.size(0)\n",
        "            correct += predicted.eq(labels).sum().item()\n",
        "\n",
        "    val_acc = 100. * correct / total\n",
        "    avg_val_loss = val_loss / len(valid_loader)\n",
        "\n",
        "    print(f'Эпоха {epoch}: '\n",
        "          f'Train Loss: {avg_train_loss:.4f}, Acc: {train_acc:.2f}% | '\n",
        "          f'Val Loss: {avg_val_loss:.4f}, Acc: {val_acc:.2f}%')\n",
        "\n",
        "    # Ранняя остановка\n",
        "    if val_acc > best_val_acc:\n",
        "        best_val_acc = val_acc\n",
        "        patience_counter = 0\n",
        "        torch.save(model_ba.state_dict(), 'best_model_ba.pth')\n",
        "    else:\n",
        "        patience_counter += 1\n",
        "        if patience_counter >= patience:\n",
        "            print(f'Ранняя остановка после {epoch} эпох')\n",
        "            break"
      ],
      "metadata": {
        "trusted": true,
        "execution": {
          "iopub.status.busy": "2025-05-31T22:41:16.378273Z",
          "iopub.execute_input": "2025-05-31T22:41:16.378556Z",
          "iopub.status.idle": "2025-05-31T22:56:52.402898Z",
          "shell.execute_reply.started": "2025-05-31T22:41:16.378535Z",
          "shell.execute_reply": "2025-05-31T22:56:52.402239Z"
        },
        "id": "x2e3MBtpy8ke",
        "outputId": "1e6a795e-141b-40ed-fac9-83d40d82878b"
      },
      "outputs": [
        {
          "name": "stderr",
          "text": "Epoch 1/80 [Train]: 100%|██████████| 125/125 [00:11<00:00, 10.82it/s]\nEpoch 1/80 [Valid]: 100%|██████████| 32/32 [00:00<00:00, 156.17it/s]\n",
          "output_type": "stream"
        },
        {
          "name": "stdout",
          "text": "Эпоха 1: Train Loss: 0.0372, Acc: 4.65% | Val Loss: 3.2267, Acc: 5.65%\n",
          "output_type": "stream"
        },
        {
          "name": "stderr",
          "text": "Epoch 2/80 [Train]: 100%|██████████| 125/125 [00:11<00:00, 10.81it/s]\nEpoch 2/80 [Valid]: 100%|██████████| 32/32 [00:00<00:00, 160.85it/s]\n",
          "output_type": "stream"
        },
        {
          "name": "stdout",
          "text": "Эпоха 2: Train Loss: 0.0519, Acc: 6.49% | Val Loss: 3.0880, Acc: 8.18%\n",
          "output_type": "stream"
        },
        {
          "name": "stderr",
          "text": "Epoch 3/80 [Train]: 100%|██████████| 125/125 [00:11<00:00, 10.73it/s]\nEpoch 3/80 [Valid]: 100%|██████████| 32/32 [00:00<00:00, 162.58it/s]\n",
          "output_type": "stream"
        },
        {
          "name": "stdout",
          "text": "Эпоха 3: Train Loss: 0.0718, Acc: 8.98% | Val Loss: 2.9106, Acc: 11.62%\n",
          "output_type": "stream"
        },
        {
          "name": "stderr",
          "text": "Epoch 4/80 [Train]: 100%|██████████| 125/125 [00:11<00:00, 10.84it/s]\nEpoch 4/80 [Valid]: 100%|██████████| 32/32 [00:00<00:00, 161.31it/s]\n",
          "output_type": "stream"
        },
        {
          "name": "stdout",
          "text": "Эпоха 4: Train Loss: 0.1083, Acc: 13.54% | Val Loss: 2.5021, Acc: 20.18%\n",
          "output_type": "stream"
        },
        {
          "name": "stderr",
          "text": "Epoch 5/80 [Train]: 100%|██████████| 125/125 [00:11<00:00, 10.88it/s]\nEpoch 5/80 [Valid]: 100%|██████████| 32/32 [00:00<00:00, 168.13it/s]\n",
          "output_type": "stream"
        },
        {
          "name": "stdout",
          "text": "Эпоха 5: Train Loss: 0.1541, Acc: 19.26% | Val Loss: 2.3451, Acc: 23.55%\n",
          "output_type": "stream"
        },
        {
          "name": "stderr",
          "text": "Epoch 6/80 [Train]: 100%|██████████| 125/125 [00:11<00:00, 10.84it/s]\nEpoch 6/80 [Valid]: 100%|██████████| 32/32 [00:00<00:00, 162.38it/s]\n",
          "output_type": "stream"
        },
        {
          "name": "stdout",
          "text": "Эпоха 6: Train Loss: 0.1987, Acc: 24.84% | Val Loss: 2.0705, Acc: 34.02%\n",
          "output_type": "stream"
        },
        {
          "name": "stderr",
          "text": "Epoch 7/80 [Train]: 100%|██████████| 125/125 [00:11<00:00, 10.84it/s]\nEpoch 7/80 [Valid]: 100%|██████████| 32/32 [00:00<00:00, 162.72it/s]\n",
          "output_type": "stream"
        },
        {
          "name": "stdout",
          "text": "Эпоха 7: Train Loss: 0.2262, Acc: 28.27% | Val Loss: 1.7484, Acc: 42.33%\n",
          "output_type": "stream"
        },
        {
          "name": "stderr",
          "text": "Epoch 8/80 [Train]: 100%|██████████| 125/125 [00:11<00:00, 10.88it/s]\nEpoch 8/80 [Valid]: 100%|██████████| 32/32 [00:00<00:00, 168.50it/s]\n",
          "output_type": "stream"
        },
        {
          "name": "stdout",
          "text": "Эпоха 8: Train Loss: 0.2563, Acc: 32.04% | Val Loss: 1.6392, Acc: 46.92%\n",
          "output_type": "stream"
        },
        {
          "name": "stderr",
          "text": "Epoch 9/80 [Train]: 100%|██████████| 125/125 [00:11<00:00, 10.94it/s]\nEpoch 9/80 [Valid]: 100%|██████████| 32/32 [00:00<00:00, 168.02it/s]\n",
          "output_type": "stream"
        },
        {
          "name": "stdout",
          "text": "Эпоха 9: Train Loss: 0.2873, Acc: 35.91% | Val Loss: 1.4395, Acc: 54.77%\n",
          "output_type": "stream"
        },
        {
          "name": "stderr",
          "text": "Epoch 10/80 [Train]: 100%|██████████| 125/125 [00:11<00:00, 10.88it/s]\nEpoch 10/80 [Valid]: 100%|██████████| 32/32 [00:00<00:00, 162.15it/s]\n",
          "output_type": "stream"
        },
        {
          "name": "stdout",
          "text": "Эпоха 10: Train Loss: 0.3069, Acc: 38.36% | Val Loss: 1.3866, Acc: 54.67%\n",
          "output_type": "stream"
        },
        {
          "name": "stderr",
          "text": "Epoch 11/80 [Train]: 100%|██████████| 125/125 [00:11<00:00, 10.70it/s]\nEpoch 11/80 [Valid]: 100%|██████████| 32/32 [00:00<00:00, 159.69it/s]\n",
          "output_type": "stream"
        },
        {
          "name": "stdout",
          "text": "Эпоха 11: Train Loss: 0.3198, Acc: 39.98% | Val Loss: 1.2555, Acc: 58.23%\n",
          "output_type": "stream"
        },
        {
          "name": "stderr",
          "text": "Epoch 12/80 [Train]: 100%|██████████| 125/125 [00:11<00:00, 10.85it/s]\nEpoch 12/80 [Valid]: 100%|██████████| 32/32 [00:00<00:00, 165.63it/s]\n",
          "output_type": "stream"
        },
        {
          "name": "stdout",
          "text": "Эпоха 12: Train Loss: 0.3357, Acc: 41.97% | Val Loss: 1.2060, Acc: 60.95%\n",
          "output_type": "stream"
        },
        {
          "name": "stderr",
          "text": "Epoch 13/80 [Train]: 100%|██████████| 125/125 [00:11<00:00, 10.85it/s]\nEpoch 13/80 [Valid]: 100%|██████████| 32/32 [00:00<00:00, 165.16it/s]\n",
          "output_type": "stream"
        },
        {
          "name": "stdout",
          "text": "Эпоха 13: Train Loss: 0.3549, Acc: 44.37% | Val Loss: 1.2108, Acc: 61.08%\n",
          "output_type": "stream"
        },
        {
          "name": "stderr",
          "text": "Epoch 14/80 [Train]: 100%|██████████| 125/125 [00:11<00:00, 10.79it/s]\nEpoch 14/80 [Valid]: 100%|██████████| 32/32 [00:00<00:00, 159.34it/s]\n",
          "output_type": "stream"
        },
        {
          "name": "stdout",
          "text": "Эпоха 14: Train Loss: 0.3674, Acc: 45.93% | Val Loss: 1.1504, Acc: 63.02%\n",
          "output_type": "stream"
        },
        {
          "name": "stderr",
          "text": "Epoch 15/80 [Train]: 100%|██████████| 125/125 [00:11<00:00, 10.80it/s]\nEpoch 15/80 [Valid]: 100%|██████████| 32/32 [00:00<00:00, 164.84it/s]\n",
          "output_type": "stream"
        },
        {
          "name": "stdout",
          "text": "Эпоха 15: Train Loss: 0.3747, Acc: 46.84% | Val Loss: 1.1348, Acc: 63.70%\n",
          "output_type": "stream"
        },
        {
          "name": "stderr",
          "text": "Epoch 16/80 [Train]: 100%|██████████| 125/125 [00:11<00:00, 10.72it/s]\nEpoch 16/80 [Valid]: 100%|██████████| 32/32 [00:00<00:00, 156.10it/s]\n",
          "output_type": "stream"
        },
        {
          "name": "stdout",
          "text": "Эпоха 16: Train Loss: 0.3857, Acc: 48.21% | Val Loss: 1.0839, Acc: 66.25%\n",
          "output_type": "stream"
        },
        {
          "name": "stderr",
          "text": "Epoch 17/80 [Train]: 100%|██████████| 125/125 [00:11<00:00, 10.67it/s]\nEpoch 17/80 [Valid]: 100%|██████████| 32/32 [00:00<00:00, 155.24it/s]\n",
          "output_type": "stream"
        },
        {
          "name": "stdout",
          "text": "Эпоха 17: Train Loss: 0.3991, Acc: 49.88% | Val Loss: 1.0656, Acc: 65.38%\n",
          "output_type": "stream"
        },
        {
          "name": "stderr",
          "text": "Epoch 18/80 [Train]: 100%|██████████| 125/125 [00:11<00:00, 10.64it/s]\nEpoch 18/80 [Valid]: 100%|██████████| 32/32 [00:00<00:00, 150.60it/s]\n",
          "output_type": "stream"
        },
        {
          "name": "stdout",
          "text": "Эпоха 18: Train Loss: 0.4011, Acc: 50.13% | Val Loss: 1.0205, Acc: 68.58%\n",
          "output_type": "stream"
        },
        {
          "name": "stderr",
          "text": "Epoch 19/80 [Train]: 100%|██████████| 125/125 [00:11<00:00, 10.64it/s]\nEpoch 19/80 [Valid]: 100%|██████████| 32/32 [00:00<00:00, 157.92it/s]\n",
          "output_type": "stream"
        },
        {
          "name": "stdout",
          "text": "Эпоха 19: Train Loss: 0.4181, Acc: 52.26% | Val Loss: 0.9812, Acc: 69.75%\n",
          "output_type": "stream"
        },
        {
          "name": "stderr",
          "text": "Epoch 20/80 [Train]: 100%|██████████| 125/125 [00:11<00:00, 10.82it/s]\nEpoch 20/80 [Valid]: 100%|██████████| 32/32 [00:00<00:00, 163.92it/s]\n",
          "output_type": "stream"
        },
        {
          "name": "stdout",
          "text": "Эпоха 20: Train Loss: 0.4214, Acc: 52.67% | Val Loss: 0.9383, Acc: 71.95%\n",
          "output_type": "stream"
        },
        {
          "name": "stderr",
          "text": "Epoch 21/80 [Train]: 100%|██████████| 125/125 [00:11<00:00, 10.71it/s]\nEpoch 21/80 [Valid]: 100%|██████████| 32/32 [00:00<00:00, 169.35it/s]\n",
          "output_type": "stream"
        },
        {
          "name": "stdout",
          "text": "Эпоха 21: Train Loss: 0.4251, Acc: 53.13% | Val Loss: 0.9267, Acc: 69.42%\n",
          "output_type": "stream"
        },
        {
          "name": "stderr",
          "text": "Epoch 22/80 [Train]: 100%|██████████| 125/125 [00:11<00:00, 10.77it/s]\nEpoch 22/80 [Valid]: 100%|██████████| 32/32 [00:00<00:00, 155.50it/s]\n",
          "output_type": "stream"
        },
        {
          "name": "stdout",
          "text": "Эпоха 22: Train Loss: 0.4359, Acc: 54.49% | Val Loss: 1.0523, Acc: 67.40%\n",
          "output_type": "stream"
        },
        {
          "name": "stderr",
          "text": "Epoch 23/80 [Train]: 100%|██████████| 125/125 [00:11<00:00, 10.77it/s]\nEpoch 23/80 [Valid]: 100%|██████████| 32/32 [00:00<00:00, 160.39it/s]\n",
          "output_type": "stream"
        },
        {
          "name": "stdout",
          "text": "Эпоха 23: Train Loss: 0.4380, Acc: 54.74% | Val Loss: 0.8833, Acc: 72.72%\n",
          "output_type": "stream"
        },
        {
          "name": "stderr",
          "text": "Epoch 24/80 [Train]: 100%|██████████| 125/125 [00:11<00:00, 10.79it/s]\nEpoch 24/80 [Valid]: 100%|██████████| 32/32 [00:00<00:00, 164.07it/s]\n",
          "output_type": "stream"
        },
        {
          "name": "stdout",
          "text": "Эпоха 24: Train Loss: 0.4441, Acc: 55.52% | Val Loss: 0.8928, Acc: 72.85%\n",
          "output_type": "stream"
        },
        {
          "name": "stderr",
          "text": "Epoch 25/80 [Train]: 100%|██████████| 125/125 [00:11<00:00, 10.77it/s]\nEpoch 25/80 [Valid]: 100%|██████████| 32/32 [00:00<00:00, 169.29it/s]\n",
          "output_type": "stream"
        },
        {
          "name": "stdout",
          "text": "Эпоха 25: Train Loss: 0.4581, Acc: 57.26% | Val Loss: 0.8586, Acc: 74.25%\n",
          "output_type": "stream"
        },
        {
          "name": "stderr",
          "text": "Epoch 26/80 [Train]: 100%|██████████| 125/125 [00:12<00:00, 10.24it/s]\nEpoch 26/80 [Valid]: 100%|██████████| 32/32 [00:00<00:00, 159.08it/s]\n",
          "output_type": "stream"
        },
        {
          "name": "stdout",
          "text": "Эпоха 26: Train Loss: 0.4596, Acc: 57.44% | Val Loss: 0.8468, Acc: 73.17%\n",
          "output_type": "stream"
        },
        {
          "name": "stderr",
          "text": "Epoch 27/80 [Train]: 100%|██████████| 125/125 [00:11<00:00, 10.78it/s]\nEpoch 27/80 [Valid]: 100%|██████████| 32/32 [00:00<00:00, 165.35it/s]\n",
          "output_type": "stream"
        },
        {
          "name": "stdout",
          "text": "Эпоха 27: Train Loss: 0.4664, Acc: 58.30% | Val Loss: 0.8753, Acc: 72.62%\n",
          "output_type": "stream"
        },
        {
          "name": "stderr",
          "text": "Epoch 28/80 [Train]: 100%|██████████| 125/125 [00:11<00:00, 10.79it/s]\nEpoch 28/80 [Valid]: 100%|██████████| 32/32 [00:00<00:00, 170.84it/s]\n",
          "output_type": "stream"
        },
        {
          "name": "stdout",
          "text": "Эпоха 28: Train Loss: 0.4609, Acc: 57.61% | Val Loss: 0.8860, Acc: 70.25%\n",
          "output_type": "stream"
        },
        {
          "name": "stderr",
          "text": "Epoch 29/80 [Train]: 100%|██████████| 125/125 [00:11<00:00, 10.88it/s]\nEpoch 29/80 [Valid]: 100%|██████████| 32/32 [00:00<00:00, 167.52it/s]\n",
          "output_type": "stream"
        },
        {
          "name": "stdout",
          "text": "Эпоха 29: Train Loss: 0.4734, Acc: 59.17% | Val Loss: 0.8583, Acc: 74.70%\n",
          "output_type": "stream"
        },
        {
          "name": "stderr",
          "text": "Epoch 30/80 [Train]: 100%|██████████| 125/125 [00:11<00:00, 10.77it/s]\nEpoch 30/80 [Valid]: 100%|██████████| 32/32 [00:00<00:00, 162.88it/s]\n",
          "output_type": "stream"
        },
        {
          "name": "stdout",
          "text": "Эпоха 30: Train Loss: 0.4756, Acc: 59.46% | Val Loss: 0.8711, Acc: 75.12%\n",
          "output_type": "stream"
        },
        {
          "name": "stderr",
          "text": "Epoch 31/80 [Train]: 100%|██████████| 125/125 [00:11<00:00, 10.88it/s]\nEpoch 31/80 [Valid]: 100%|██████████| 32/32 [00:00<00:00, 169.07it/s]\n",
          "output_type": "stream"
        },
        {
          "name": "stdout",
          "text": "Эпоха 31: Train Loss: 0.4841, Acc: 60.52% | Val Loss: 0.8184, Acc: 74.80%\n",
          "output_type": "stream"
        },
        {
          "name": "stderr",
          "text": "Epoch 32/80 [Train]: 100%|██████████| 125/125 [00:11<00:00, 10.92it/s]\nEpoch 32/80 [Valid]: 100%|██████████| 32/32 [00:00<00:00, 168.64it/s]\n",
          "output_type": "stream"
        },
        {
          "name": "stdout",
          "text": "Эпоха 32: Train Loss: 0.4864, Acc: 60.79% | Val Loss: 0.7589, Acc: 77.90%\n",
          "output_type": "stream"
        },
        {
          "name": "stderr",
          "text": "Epoch 33/80 [Train]: 100%|██████████| 125/125 [00:11<00:00, 10.98it/s]\nEpoch 33/80 [Valid]: 100%|██████████| 32/32 [00:00<00:00, 169.76it/s]\n",
          "output_type": "stream"
        },
        {
          "name": "stdout",
          "text": "Эпоха 33: Train Loss: 0.4909, Acc: 61.36% | Val Loss: 0.7331, Acc: 78.35%\n",
          "output_type": "stream"
        },
        {
          "name": "stderr",
          "text": "Epoch 34/80 [Train]: 100%|██████████| 125/125 [00:11<00:00, 10.92it/s]\nEpoch 34/80 [Valid]: 100%|██████████| 32/32 [00:00<00:00, 165.52it/s]\n",
          "output_type": "stream"
        },
        {
          "name": "stdout",
          "text": "Эпоха 34: Train Loss: 0.4940, Acc: 61.75% | Val Loss: 0.7646, Acc: 79.03%\n",
          "output_type": "stream"
        },
        {
          "name": "stderr",
          "text": "Epoch 35/80 [Train]: 100%|██████████| 125/125 [00:11<00:00, 10.87it/s]\nEpoch 35/80 [Valid]: 100%|██████████| 32/32 [00:00<00:00, 170.27it/s]\n",
          "output_type": "stream"
        },
        {
          "name": "stdout",
          "text": "Эпоха 35: Train Loss: 0.4973, Acc: 62.16% | Val Loss: 0.8956, Acc: 74.55%\n",
          "output_type": "stream"
        },
        {
          "name": "stderr",
          "text": "Epoch 36/80 [Train]: 100%|██████████| 125/125 [00:11<00:00, 10.95it/s]\nEpoch 36/80 [Valid]: 100%|██████████| 32/32 [00:00<00:00, 168.16it/s]\n",
          "output_type": "stream"
        },
        {
          "name": "stdout",
          "text": "Эпоха 36: Train Loss: 0.5062, Acc: 63.27% | Val Loss: 0.7618, Acc: 78.12%\n",
          "output_type": "stream"
        },
        {
          "name": "stderr",
          "text": "Epoch 37/80 [Train]: 100%|██████████| 125/125 [00:11<00:00, 10.92it/s]\nEpoch 37/80 [Valid]: 100%|██████████| 32/32 [00:00<00:00, 170.70it/s]\n",
          "output_type": "stream"
        },
        {
          "name": "stdout",
          "text": "Эпоха 37: Train Loss: 0.5074, Acc: 63.43% | Val Loss: 0.7553, Acc: 76.55%\n",
          "output_type": "stream"
        },
        {
          "name": "stderr",
          "text": "Epoch 38/80 [Train]: 100%|██████████| 125/125 [00:11<00:00, 10.92it/s]\nEpoch 38/80 [Valid]: 100%|██████████| 32/32 [00:00<00:00, 165.15it/s]\n",
          "output_type": "stream"
        },
        {
          "name": "stdout",
          "text": "Эпоха 38: Train Loss: 0.5135, Acc: 64.18% | Val Loss: 0.7339, Acc: 79.10%\n",
          "output_type": "stream"
        },
        {
          "name": "stderr",
          "text": "Epoch 39/80 [Train]: 100%|██████████| 125/125 [00:11<00:00, 11.04it/s]\nEpoch 39/80 [Valid]: 100%|██████████| 32/32 [00:00<00:00, 171.15it/s]\n",
          "output_type": "stream"
        },
        {
          "name": "stdout",
          "text": "Эпоха 39: Train Loss: 0.5245, Acc: 65.56% | Val Loss: 0.7234, Acc: 78.17%\n",
          "output_type": "stream"
        },
        {
          "name": "stderr",
          "text": "Epoch 40/80 [Train]: 100%|██████████| 125/125 [00:11<00:00, 10.97it/s]\nEpoch 40/80 [Valid]: 100%|██████████| 32/32 [00:00<00:00, 170.71it/s]\n",
          "output_type": "stream"
        },
        {
          "name": "stdout",
          "text": "Эпоха 40: Train Loss: 0.5236, Acc: 65.45% | Val Loss: 0.7390, Acc: 79.62%\n",
          "output_type": "stream"
        },
        {
          "name": "stderr",
          "text": "Epoch 41/80 [Train]: 100%|██████████| 125/125 [00:11<00:00, 11.03it/s]\nEpoch 41/80 [Valid]: 100%|██████████| 32/32 [00:00<00:00, 169.91it/s]\n",
          "output_type": "stream"
        },
        {
          "name": "stdout",
          "text": "Эпоха 41: Train Loss: 0.5269, Acc: 65.86% | Val Loss: 0.6887, Acc: 79.05%\n",
          "output_type": "stream"
        },
        {
          "name": "stderr",
          "text": "Epoch 42/80 [Train]: 100%|██████████| 125/125 [00:11<00:00, 10.98it/s]\nEpoch 42/80 [Valid]: 100%|██████████| 32/32 [00:00<00:00, 163.67it/s]\n",
          "output_type": "stream"
        },
        {
          "name": "stdout",
          "text": "Эпоха 42: Train Loss: 0.5324, Acc: 66.55% | Val Loss: 0.6529, Acc: 79.85%\n",
          "output_type": "stream"
        },
        {
          "name": "stderr",
          "text": "Epoch 43/80 [Train]: 100%|██████████| 125/125 [00:11<00:00, 10.93it/s]\nEpoch 43/80 [Valid]: 100%|██████████| 32/32 [00:00<00:00, 169.47it/s]\n",
          "output_type": "stream"
        },
        {
          "name": "stdout",
          "text": "Эпоха 43: Train Loss: 0.5345, Acc: 66.81% | Val Loss: 0.6648, Acc: 82.00%\n",
          "output_type": "stream"
        },
        {
          "name": "stderr",
          "text": "Epoch 44/80 [Train]: 100%|██████████| 125/125 [00:11<00:00, 11.01it/s]\nEpoch 44/80 [Valid]: 100%|██████████| 32/32 [00:00<00:00, 170.53it/s]\n",
          "output_type": "stream"
        },
        {
          "name": "stdout",
          "text": "Эпоха 44: Train Loss: 0.5395, Acc: 67.43% | Val Loss: 0.6511, Acc: 78.83%\n",
          "output_type": "stream"
        },
        {
          "name": "stderr",
          "text": "Epoch 45/80 [Train]: 100%|██████████| 125/125 [00:11<00:00, 11.07it/s]\nEpoch 45/80 [Valid]: 100%|██████████| 32/32 [00:00<00:00, 169.70it/s]\n",
          "output_type": "stream"
        },
        {
          "name": "stdout",
          "text": "Эпоха 45: Train Loss: 0.5462, Acc: 68.28% | Val Loss: 0.6675, Acc: 79.53%\n",
          "output_type": "stream"
        },
        {
          "name": "stderr",
          "text": "Epoch 46/80 [Train]: 100%|██████████| 125/125 [00:11<00:00, 10.88it/s]\nEpoch 46/80 [Valid]: 100%|██████████| 32/32 [00:00<00:00, 163.69it/s]\n",
          "output_type": "stream"
        },
        {
          "name": "stdout",
          "text": "Эпоха 46: Train Loss: 0.5503, Acc: 68.78% | Val Loss: 0.6480, Acc: 79.75%\n",
          "output_type": "stream"
        },
        {
          "name": "stderr",
          "text": "Epoch 47/80 [Train]: 100%|██████████| 125/125 [00:11<00:00, 11.00it/s]\nEpoch 47/80 [Valid]: 100%|██████████| 32/32 [00:00<00:00, 170.05it/s]\n",
          "output_type": "stream"
        },
        {
          "name": "stdout",
          "text": "Эпоха 47: Train Loss: 0.5603, Acc: 70.03% | Val Loss: 0.6558, Acc: 79.42%\n",
          "output_type": "stream"
        },
        {
          "name": "stderr",
          "text": "Epoch 48/80 [Train]: 100%|██████████| 125/125 [00:11<00:00, 10.94it/s]\nEpoch 48/80 [Valid]: 100%|██████████| 32/32 [00:00<00:00, 169.80it/s]\n",
          "output_type": "stream"
        },
        {
          "name": "stdout",
          "text": "Эпоха 48: Train Loss: 0.5598, Acc: 69.97% | Val Loss: 0.6021, Acc: 81.97%\n",
          "output_type": "stream"
        },
        {
          "name": "stderr",
          "text": "Epoch 49/80 [Train]: 100%|██████████| 125/125 [00:11<00:00, 10.94it/s]\nEpoch 49/80 [Valid]: 100%|██████████| 32/32 [00:00<00:00, 171.73it/s]\n",
          "output_type": "stream"
        },
        {
          "name": "stdout",
          "text": "Эпоха 49: Train Loss: 0.5680, Acc: 70.99% | Val Loss: 0.5831, Acc: 83.33%\n",
          "output_type": "stream"
        },
        {
          "name": "stderr",
          "text": "Epoch 50/80 [Train]: 100%|██████████| 125/125 [00:11<00:00, 10.89it/s]\nEpoch 50/80 [Valid]: 100%|██████████| 32/32 [00:00<00:00, 163.11it/s]\n",
          "output_type": "stream"
        },
        {
          "name": "stdout",
          "text": "Эпоха 50: Train Loss: 0.5743, Acc: 71.78% | Val Loss: 0.6718, Acc: 78.70%\n",
          "output_type": "stream"
        },
        {
          "name": "stderr",
          "text": "Epoch 51/80 [Train]: 100%|██████████| 125/125 [00:11<00:00, 10.96it/s]\nEpoch 51/80 [Valid]: 100%|██████████| 32/32 [00:00<00:00, 170.32it/s]\n",
          "output_type": "stream"
        },
        {
          "name": "stdout",
          "text": "Эпоха 51: Train Loss: 0.5763, Acc: 72.03% | Val Loss: 0.5769, Acc: 82.45%\n",
          "output_type": "stream"
        },
        {
          "name": "stderr",
          "text": "Epoch 52/80 [Train]: 100%|██████████| 125/125 [00:11<00:00, 10.96it/s]\nEpoch 52/80 [Valid]: 100%|██████████| 32/32 [00:00<00:00, 167.81it/s]\n",
          "output_type": "stream"
        },
        {
          "name": "stdout",
          "text": "Эпоха 52: Train Loss: 0.5847, Acc: 73.08% | Val Loss: 0.5782, Acc: 80.30%\n",
          "output_type": "stream"
        },
        {
          "name": "stderr",
          "text": "Epoch 53/80 [Train]: 100%|██████████| 125/125 [00:11<00:00, 10.97it/s]\nEpoch 53/80 [Valid]: 100%|██████████| 32/32 [00:00<00:00, 171.39it/s]\n",
          "output_type": "stream"
        },
        {
          "name": "stdout",
          "text": "Эпоха 53: Train Loss: 0.5920, Acc: 73.99% | Val Loss: 0.5459, Acc: 82.38%\n",
          "output_type": "stream"
        },
        {
          "name": "stderr",
          "text": "Epoch 54/80 [Train]: 100%|██████████| 125/125 [00:11<00:00, 10.83it/s]\nEpoch 54/80 [Valid]: 100%|██████████| 32/32 [00:00<00:00, 165.42it/s]\n",
          "output_type": "stream"
        },
        {
          "name": "stdout",
          "text": "Эпоха 54: Train Loss: 0.5907, Acc: 73.84% | Val Loss: 0.5891, Acc: 81.00%\n",
          "output_type": "stream"
        },
        {
          "name": "stderr",
          "text": "Epoch 55/80 [Train]: 100%|██████████| 125/125 [00:11<00:00, 10.96it/s]\nEpoch 55/80 [Valid]: 100%|██████████| 32/32 [00:00<00:00, 170.03it/s]\n",
          "output_type": "stream"
        },
        {
          "name": "stdout",
          "text": "Эпоха 55: Train Loss: 0.5952, Acc: 74.41% | Val Loss: 0.5317, Acc: 84.12%\n",
          "output_type": "stream"
        },
        {
          "name": "stderr",
          "text": "Epoch 56/80 [Train]: 100%|██████████| 125/125 [00:11<00:00, 10.92it/s]\nEpoch 56/80 [Valid]: 100%|██████████| 32/32 [00:00<00:00, 170.31it/s]\n",
          "output_type": "stream"
        },
        {
          "name": "stdout",
          "text": "Эпоха 56: Train Loss: 0.6000, Acc: 75.00% | Val Loss: 0.5453, Acc: 83.90%\n",
          "output_type": "stream"
        },
        {
          "name": "stderr",
          "text": "Epoch 57/80 [Train]: 100%|██████████| 125/125 [00:11<00:00, 10.98it/s]\nEpoch 57/80 [Valid]: 100%|██████████| 32/32 [00:00<00:00, 170.45it/s]\n",
          "output_type": "stream"
        },
        {
          "name": "stdout",
          "text": "Эпоха 57: Train Loss: 0.6020, Acc: 75.26% | Val Loss: 0.5033, Acc: 84.85%\n",
          "output_type": "stream"
        },
        {
          "name": "stderr",
          "text": "Epoch 58/80 [Train]: 100%|██████████| 125/125 [00:11<00:00, 10.90it/s]\nEpoch 58/80 [Valid]: 100%|██████████| 32/32 [00:00<00:00, 164.34it/s]\n",
          "output_type": "stream"
        },
        {
          "name": "stdout",
          "text": "Эпоха 58: Train Loss: 0.6131, Acc: 76.64% | Val Loss: 0.4937, Acc: 85.70%\n",
          "output_type": "stream"
        },
        {
          "name": "stderr",
          "text": "Epoch 59/80 [Train]: 100%|██████████| 125/125 [00:11<00:00, 10.87it/s]\nEpoch 59/80 [Valid]: 100%|██████████| 32/32 [00:00<00:00, 167.02it/s]\n",
          "output_type": "stream"
        },
        {
          "name": "stdout",
          "text": "Эпоха 59: Train Loss: 0.6121, Acc: 76.51% | Val Loss: 0.5090, Acc: 84.60%\n",
          "output_type": "stream"
        },
        {
          "name": "stderr",
          "text": "Epoch 60/80 [Train]: 100%|██████████| 125/125 [00:11<00:00, 10.98it/s]\nEpoch 60/80 [Valid]: 100%|██████████| 32/32 [00:00<00:00, 169.10it/s]\n",
          "output_type": "stream"
        },
        {
          "name": "stdout",
          "text": "Эпоха 60: Train Loss: 0.6135, Acc: 76.68% | Val Loss: 0.4877, Acc: 84.72%\n",
          "output_type": "stream"
        },
        {
          "name": "stderr",
          "text": "Epoch 61/80 [Train]: 100%|██████████| 125/125 [00:11<00:00, 10.94it/s]\nEpoch 61/80 [Valid]: 100%|██████████| 32/32 [00:00<00:00, 169.36it/s]\n",
          "output_type": "stream"
        },
        {
          "name": "stdout",
          "text": "Эпоха 61: Train Loss: 0.6181, Acc: 77.26% | Val Loss: 0.4937, Acc: 84.95%\n",
          "output_type": "stream"
        },
        {
          "name": "stderr",
          "text": "Epoch 62/80 [Train]: 100%|██████████| 125/125 [00:11<00:00, 10.89it/s]\nEpoch 62/80 [Valid]: 100%|██████████| 32/32 [00:00<00:00, 164.60it/s]\n",
          "output_type": "stream"
        },
        {
          "name": "stdout",
          "text": "Эпоха 62: Train Loss: 0.6256, Acc: 78.20% | Val Loss: 0.4816, Acc: 85.50%\n",
          "output_type": "stream"
        },
        {
          "name": "stderr",
          "text": "Epoch 63/80 [Train]: 100%|██████████| 125/125 [00:11<00:00, 10.96it/s]\nEpoch 63/80 [Valid]: 100%|██████████| 32/32 [00:00<00:00, 163.80it/s]\n",
          "output_type": "stream"
        },
        {
          "name": "stdout",
          "text": "Эпоха 63: Train Loss: 0.6268, Acc: 78.35% | Val Loss: 0.4318, Acc: 86.47%\n",
          "output_type": "stream"
        },
        {
          "name": "stderr",
          "text": "Epoch 64/80 [Train]: 100%|██████████| 125/125 [00:11<00:00, 10.86it/s]\nEpoch 64/80 [Valid]: 100%|██████████| 32/32 [00:00<00:00, 163.42it/s]\n",
          "output_type": "stream"
        },
        {
          "name": "stdout",
          "text": "Эпоха 64: Train Loss: 0.6321, Acc: 79.02% | Val Loss: 0.4493, Acc: 86.33%\n",
          "output_type": "stream"
        },
        {
          "name": "stderr",
          "text": "Epoch 65/80 [Train]: 100%|██████████| 125/125 [00:11<00:00, 10.94it/s]\nEpoch 65/80 [Valid]: 100%|██████████| 32/32 [00:00<00:00, 170.74it/s]\n",
          "output_type": "stream"
        },
        {
          "name": "stdout",
          "text": "Эпоха 65: Train Loss: 0.6375, Acc: 79.69% | Val Loss: 0.4521, Acc: 86.72%\n",
          "output_type": "stream"
        },
        {
          "name": "stderr",
          "text": "Epoch 66/80 [Train]: 100%|██████████| 125/125 [00:11<00:00, 10.92it/s]\nEpoch 66/80 [Valid]: 100%|██████████| 32/32 [00:00<00:00, 164.84it/s]\n",
          "output_type": "stream"
        },
        {
          "name": "stdout",
          "text": "Эпоха 66: Train Loss: 0.6425, Acc: 80.31% | Val Loss: 0.4195, Acc: 87.03%\n",
          "output_type": "stream"
        },
        {
          "name": "stderr",
          "text": "Epoch 67/80 [Train]: 100%|██████████| 125/125 [00:11<00:00, 10.83it/s]\nEpoch 67/80 [Valid]: 100%|██████████| 32/32 [00:00<00:00, 163.74it/s]\n",
          "output_type": "stream"
        },
        {
          "name": "stdout",
          "text": "Эпоха 67: Train Loss: 0.6426, Acc: 80.33% | Val Loss: 0.4266, Acc: 86.47%\n",
          "output_type": "stream"
        },
        {
          "name": "stderr",
          "text": "Epoch 68/80 [Train]: 100%|██████████| 125/125 [00:11<00:00, 10.97it/s]\nEpoch 68/80 [Valid]: 100%|██████████| 32/32 [00:00<00:00, 169.28it/s]\n",
          "output_type": "stream"
        },
        {
          "name": "stdout",
          "text": "Эпоха 68: Train Loss: 0.6468, Acc: 80.84% | Val Loss: 0.4083, Acc: 88.15%\n",
          "output_type": "stream"
        },
        {
          "name": "stderr",
          "text": "Epoch 69/80 [Train]: 100%|██████████| 125/125 [00:11<00:00, 10.97it/s]\nEpoch 69/80 [Valid]: 100%|██████████| 32/32 [00:00<00:00, 171.55it/s]\n",
          "output_type": "stream"
        },
        {
          "name": "stdout",
          "text": "Эпоха 69: Train Loss: 0.6500, Acc: 81.25% | Val Loss: 0.3861, Acc: 88.42%\n",
          "output_type": "stream"
        },
        {
          "name": "stderr",
          "text": "Epoch 70/80 [Train]: 100%|██████████| 125/125 [00:11<00:00, 10.94it/s]\nEpoch 70/80 [Valid]: 100%|██████████| 32/32 [00:00<00:00, 166.11it/s]\n",
          "output_type": "stream"
        },
        {
          "name": "stdout",
          "text": "Эпоха 70: Train Loss: 0.6548, Acc: 81.85% | Val Loss: 0.3914, Acc: 88.17%\n",
          "output_type": "stream"
        },
        {
          "name": "stderr",
          "text": "Epoch 71/80 [Train]: 100%|██████████| 125/125 [00:11<00:00, 11.09it/s]\nEpoch 71/80 [Valid]: 100%|██████████| 32/32 [00:00<00:00, 170.84it/s]\n",
          "output_type": "stream"
        },
        {
          "name": "stdout",
          "text": "Эпоха 71: Train Loss: 0.6511, Acc: 81.39% | Val Loss: 0.4218, Acc: 86.97%\n",
          "output_type": "stream"
        },
        {
          "name": "stderr",
          "text": "Epoch 72/80 [Train]: 100%|██████████| 125/125 [00:11<00:00, 11.00it/s]\nEpoch 72/80 [Valid]: 100%|██████████| 32/32 [00:00<00:00, 171.64it/s]\n",
          "output_type": "stream"
        },
        {
          "name": "stdout",
          "text": "Эпоха 72: Train Loss: 0.6512, Acc: 81.39% | Val Loss: 0.3766, Acc: 88.40%\n",
          "output_type": "stream"
        },
        {
          "name": "stderr",
          "text": "Epoch 73/80 [Train]: 100%|██████████| 125/125 [00:11<00:00, 10.95it/s]\nEpoch 73/80 [Valid]: 100%|██████████| 32/32 [00:00<00:00, 170.40it/s]\n",
          "output_type": "stream"
        },
        {
          "name": "stdout",
          "text": "Эпоха 73: Train Loss: 0.6604, Acc: 82.55% | Val Loss: 0.3666, Acc: 89.03%\n",
          "output_type": "stream"
        },
        {
          "name": "stderr",
          "text": "Epoch 74/80 [Train]: 100%|██████████| 125/125 [00:11<00:00, 10.92it/s]\nEpoch 74/80 [Valid]: 100%|██████████| 32/32 [00:00<00:00, 165.64it/s]\n",
          "output_type": "stream"
        },
        {
          "name": "stdout",
          "text": "Эпоха 74: Train Loss: 0.6612, Acc: 82.64% | Val Loss: 0.3715, Acc: 88.38%\n",
          "output_type": "stream"
        },
        {
          "name": "stderr",
          "text": "Epoch 75/80 [Train]: 100%|██████████| 125/125 [00:11<00:00, 10.94it/s]\nEpoch 75/80 [Valid]: 100%|██████████| 32/32 [00:00<00:00, 170.41it/s]\n",
          "output_type": "stream"
        },
        {
          "name": "stdout",
          "text": "Эпоха 75: Train Loss: 0.6686, Acc: 83.58% | Val Loss: 0.3728, Acc: 88.00%\n",
          "output_type": "stream"
        },
        {
          "name": "stderr",
          "text": "Epoch 76/80 [Train]: 100%|██████████| 125/125 [00:11<00:00, 10.94it/s]\nEpoch 76/80 [Valid]: 100%|██████████| 32/32 [00:00<00:00, 171.47it/s]\n",
          "output_type": "stream"
        },
        {
          "name": "stdout",
          "text": "Эпоха 76: Train Loss: 0.6617, Acc: 82.71% | Val Loss: 0.3657, Acc: 87.90%\n",
          "output_type": "stream"
        },
        {
          "name": "stderr",
          "text": "Epoch 77/80 [Train]: 100%|██████████| 125/125 [00:11<00:00, 11.03it/s]\nEpoch 77/80 [Valid]: 100%|██████████| 32/32 [00:00<00:00, 170.35it/s]\n",
          "output_type": "stream"
        },
        {
          "name": "stdout",
          "text": "Эпоха 77: Train Loss: 0.6678, Acc: 83.47% | Val Loss: 0.3629, Acc: 88.12%\n",
          "output_type": "stream"
        },
        {
          "name": "stderr",
          "text": "Epoch 78/80 [Train]: 100%|██████████| 125/125 [00:11<00:00, 10.89it/s]\nEpoch 78/80 [Valid]: 100%|██████████| 32/32 [00:00<00:00, 165.33it/s]\n",
          "output_type": "stream"
        },
        {
          "name": "stdout",
          "text": "Эпоха 78: Train Loss: 0.6643, Acc: 83.04% | Val Loss: 0.3630, Acc: 88.83%\n",
          "output_type": "stream"
        },
        {
          "name": "stderr",
          "text": "Epoch 79/80 [Train]: 100%|██████████| 125/125 [00:11<00:00, 11.03it/s]\nEpoch 79/80 [Valid]: 100%|██████████| 32/32 [00:00<00:00, 171.00it/s]\n",
          "output_type": "stream"
        },
        {
          "name": "stdout",
          "text": "Эпоха 79: Train Loss: 0.6709, Acc: 83.86% | Val Loss: 0.3682, Acc: 88.33%\n",
          "output_type": "stream"
        },
        {
          "name": "stderr",
          "text": "Epoch 80/80 [Train]: 100%|██████████| 125/125 [00:11<00:00, 11.00it/s]\nEpoch 80/80 [Valid]: 100%|██████████| 32/32 [00:00<00:00, 162.44it/s]\n",
          "output_type": "stream"
        },
        {
          "name": "stdout",
          "text": "Эпоха 80: Train Loss: 0.6764, Acc: 84.56% | Val Loss: 0.3551, Acc: 89.47%\n",
          "output_type": "stream"
        }
      ],
      "execution_count": null
    },
    {
      "cell_type": "markdown",
      "source": [
        "### ResidualBlock"
      ],
      "metadata": {
        "id": "Sw6TQZDpy8ke"
      }
    },
    {
      "cell_type": "code",
      "source": [
        "model_ra = ImprovedCNN().to(device)\n",
        "criterion_ra = nn.CrossEntropyLoss()\n",
        "optimizer_ra = optim.Adam(model_ra.parameters(), lr=LEARNING_RATE, weight_decay=1e-5)"
      ],
      "metadata": {
        "trusted": true,
        "execution": {
          "iopub.status.busy": "2025-05-31T23:00:48.599521Z",
          "iopub.execute_input": "2025-05-31T23:00:48.600138Z",
          "iopub.status.idle": "2025-05-31T23:00:48.702525Z",
          "shell.execute_reply.started": "2025-05-31T23:00:48.600115Z",
          "shell.execute_reply": "2025-05-31T23:00:48.702018Z"
        },
        "id": "bFkYwvMry8ke"
      },
      "outputs": [],
      "execution_count": null
    },
    {
      "cell_type": "code",
      "source": [
        "best_val_acc = 0.0\n",
        "patience_counter = 0\n",
        "patience = 10\n",
        "EPOCHS_C = 60\n",
        "\n",
        "for epoch in range(1, EPOCHS_C + 1):\n",
        "    # Обучение\n",
        "    model_ra.train()\n",
        "    train_loss = 0.0\n",
        "    correct = 0\n",
        "    total = 0\n",
        "\n",
        "    for inputs, labels in tqdm(train_loader_aug, desc=f'Epoch {epoch}/{EPOCHS_C} [Train]'):\n",
        "        inputs, labels = inputs.to(device), labels.to(device)\n",
        "\n",
        "        optimizer_ra.zero_grad()\n",
        "        outputs = model_ra(inputs)\n",
        "        loss = criterion_ra(outputs, labels)\n",
        "        loss.backward()\n",
        "        optimizer_ra.step()\n",
        "\n",
        "        train_loss += loss.item()\n",
        "        _, predicted = outputs.max(1)\n",
        "        total += labels.size(0)\n",
        "        correct += predicted.eq(labels).sum().item()\n",
        "\n",
        "    train_acc = 100. * correct / total\n",
        "    avg_train_loss = train_acc / len(train_loader)\n",
        "\n",
        "    # Валидация\n",
        "    model_ra.eval()\n",
        "    val_loss = 0.0\n",
        "    correct = 0\n",
        "    total = 0\n",
        "\n",
        "    with torch.no_grad():\n",
        "        for inputs, labels in tqdm(valid_loader, desc=f'Epoch {epoch}/{EPOCHS_C} [Valid]'):\n",
        "            inputs, labels = inputs.to(device), labels.to(device)\n",
        "\n",
        "            outputs = model_ra(inputs)\n",
        "            loss = criterion_ra(outputs, labels)\n",
        "\n",
        "            val_loss += loss.item()\n",
        "            _, predicted = outputs.max(1)\n",
        "            total += labels.size(0)\n",
        "            correct += predicted.eq(labels).sum().item()\n",
        "\n",
        "    val_acc = 100. * correct / total\n",
        "    avg_val_loss = val_loss / len(valid_loader)\n",
        "\n",
        "    print(f'Эпоха {epoch}: '\n",
        "          f'Train Loss: {avg_train_loss:.4f}, Acc: {train_acc:.2f}% | '\n",
        "          f'Val Loss: {avg_val_loss:.4f}, Acc: {val_acc:.2f}%')\n",
        "\n",
        "    # Ранняя остановка\n",
        "    if val_acc > best_val_acc:\n",
        "        best_val_acc = val_acc\n",
        "        patience_counter = 0\n",
        "        torch.save(model_ra.state_dict(), 'best_model_ra.pth')\n",
        "    else:\n",
        "        patience_counter += 1\n",
        "        if patience_counter >= patience:\n",
        "            print(f'Ранняя остановка после {epoch} эпох')\n",
        "            break"
      ],
      "metadata": {
        "trusted": true,
        "execution": {
          "iopub.status.busy": "2025-05-31T23:00:52.917604Z",
          "iopub.execute_input": "2025-05-31T23:00:52.918171Z",
          "iopub.status.idle": "2025-05-31T23:11:16.874590Z",
          "shell.execute_reply.started": "2025-05-31T23:00:52.918151Z",
          "shell.execute_reply": "2025-05-31T23:11:16.873929Z"
        },
        "id": "vn7QQTfWy8kf",
        "outputId": "9a6f330f-21a0-4cc9-acba-c5380cbd630d"
      },
      "outputs": [
        {
          "name": "stderr",
          "text": "Epoch 1/60 [Train]: 100%|██████████| 125/125 [00:13<00:00,  9.32it/s]\nEpoch 1/60 [Valid]: 100%|██████████| 32/32 [00:00<00:00, 98.17it/s]\n",
          "output_type": "stream"
        },
        {
          "name": "stdout",
          "text": "Эпоха 1: Train Loss: 0.0332, Acc: 4.15% | Val Loss: 3.2822, Acc: 4.47%\n",
          "output_type": "stream"
        },
        {
          "name": "stderr",
          "text": "Epoch 2/60 [Train]: 100%|██████████| 125/125 [00:13<00:00,  9.26it/s]\nEpoch 2/60 [Valid]: 100%|██████████| 32/32 [00:00<00:00, 97.54it/s]\n",
          "output_type": "stream"
        },
        {
          "name": "stdout",
          "text": "Эпоха 2: Train Loss: 0.0409, Acc: 5.11% | Val Loss: 3.1368, Acc: 7.72%\n",
          "output_type": "stream"
        },
        {
          "name": "stderr",
          "text": "Epoch 3/60 [Train]: 100%|██████████| 125/125 [00:13<00:00,  9.48it/s]\nEpoch 3/60 [Valid]: 100%|██████████| 32/32 [00:00<00:00, 100.71it/s]\n",
          "output_type": "stream"
        },
        {
          "name": "stdout",
          "text": "Эпоха 3: Train Loss: 0.0728, Acc: 9.10% | Val Loss: 2.8181, Acc: 14.38%\n",
          "output_type": "stream"
        },
        {
          "name": "stderr",
          "text": "Epoch 4/60 [Train]: 100%|██████████| 125/125 [00:13<00:00,  9.51it/s]\nEpoch 4/60 [Valid]: 100%|██████████| 32/32 [00:00<00:00, 100.87it/s]\n",
          "output_type": "stream"
        },
        {
          "name": "stdout",
          "text": "Эпоха 4: Train Loss: 0.1318, Acc: 16.47% | Val Loss: 2.2945, Acc: 27.75%\n",
          "output_type": "stream"
        },
        {
          "name": "stderr",
          "text": "Epoch 5/60 [Train]: 100%|██████████| 125/125 [00:13<00:00,  9.40it/s]\nEpoch 5/60 [Valid]: 100%|██████████| 32/32 [00:00<00:00, 95.60it/s]\n",
          "output_type": "stream"
        },
        {
          "name": "stdout",
          "text": "Эпоха 5: Train Loss: 0.2525, Acc: 31.57% | Val Loss: 1.8763, Acc: 38.58%\n",
          "output_type": "stream"
        },
        {
          "name": "stderr",
          "text": "Epoch 6/60 [Train]: 100%|██████████| 125/125 [00:13<00:00,  9.47it/s]\nEpoch 6/60 [Valid]: 100%|██████████| 32/32 [00:00<00:00, 100.41it/s]\n",
          "output_type": "stream"
        },
        {
          "name": "stdout",
          "text": "Эпоха 6: Train Loss: 0.3644, Acc: 45.56% | Val Loss: 1.2888, Acc: 55.45%\n",
          "output_type": "stream"
        },
        {
          "name": "stderr",
          "text": "Epoch 7/60 [Train]: 100%|██████████| 125/125 [00:13<00:00,  9.47it/s]\nEpoch 7/60 [Valid]: 100%|██████████| 32/32 [00:00<00:00, 101.22it/s]\n",
          "output_type": "stream"
        },
        {
          "name": "stdout",
          "text": "Эпоха 7: Train Loss: 0.4399, Acc: 54.98% | Val Loss: 1.2554, Acc: 58.00%\n",
          "output_type": "stream"
        },
        {
          "name": "stderr",
          "text": "Epoch 8/60 [Train]: 100%|██████████| 125/125 [00:13<00:00,  9.52it/s]\nEpoch 8/60 [Valid]: 100%|██████████| 32/32 [00:00<00:00, 100.99it/s]\n",
          "output_type": "stream"
        },
        {
          "name": "stdout",
          "text": "Эпоха 8: Train Loss: 0.4983, Acc: 62.29% | Val Loss: 0.9170, Acc: 69.12%\n",
          "output_type": "stream"
        },
        {
          "name": "stderr",
          "text": "Epoch 9/60 [Train]: 100%|██████████| 125/125 [00:13<00:00,  9.34it/s]\nEpoch 9/60 [Valid]: 100%|██████████| 32/32 [00:00<00:00, 98.38it/s]\n",
          "output_type": "stream"
        },
        {
          "name": "stdout",
          "text": "Эпоха 9: Train Loss: 0.5359, Acc: 66.99% | Val Loss: 0.7502, Acc: 76.65%\n",
          "output_type": "stream"
        },
        {
          "name": "stderr",
          "text": "Epoch 10/60 [Train]: 100%|██████████| 125/125 [00:13<00:00,  9.50it/s]\nEpoch 10/60 [Valid]: 100%|██████████| 32/32 [00:00<00:00, 101.65it/s]\n",
          "output_type": "stream"
        },
        {
          "name": "stdout",
          "text": "Эпоха 10: Train Loss: 0.5660, Acc: 70.76% | Val Loss: 0.7078, Acc: 77.12%\n",
          "output_type": "stream"
        },
        {
          "name": "stderr",
          "text": "Epoch 11/60 [Train]: 100%|██████████| 125/125 [00:13<00:00,  9.49it/s]\nEpoch 11/60 [Valid]: 100%|██████████| 32/32 [00:00<00:00, 98.91it/s]\n",
          "output_type": "stream"
        },
        {
          "name": "stdout",
          "text": "Эпоха 11: Train Loss: 0.5968, Acc: 74.61% | Val Loss: 0.6488, Acc: 79.30%\n",
          "output_type": "stream"
        },
        {
          "name": "stderr",
          "text": "Epoch 12/60 [Train]: 100%|██████████| 125/125 [00:13<00:00,  9.43it/s]\nEpoch 12/60 [Valid]: 100%|██████████| 32/32 [00:00<00:00, 98.71it/s]\n",
          "output_type": "stream"
        },
        {
          "name": "stdout",
          "text": "Эпоха 12: Train Loss: 0.6116, Acc: 76.45% | Val Loss: 0.6203, Acc: 80.10%\n",
          "output_type": "stream"
        },
        {
          "name": "stderr",
          "text": "Epoch 13/60 [Train]: 100%|██████████| 125/125 [00:13<00:00,  9.51it/s]\nEpoch 13/60 [Valid]: 100%|██████████| 32/32 [00:00<00:00, 101.87it/s]\n",
          "output_type": "stream"
        },
        {
          "name": "stdout",
          "text": "Эпоха 13: Train Loss: 0.6282, Acc: 78.53% | Val Loss: 0.5170, Acc: 82.72%\n",
          "output_type": "stream"
        },
        {
          "name": "stderr",
          "text": "Epoch 14/60 [Train]: 100%|██████████| 125/125 [00:13<00:00,  9.50it/s]\nEpoch 14/60 [Valid]: 100%|██████████| 32/32 [00:00<00:00, 101.67it/s]\n",
          "output_type": "stream"
        },
        {
          "name": "stdout",
          "text": "Эпоха 14: Train Loss: 0.6395, Acc: 79.94% | Val Loss: 0.5094, Acc: 83.55%\n",
          "output_type": "stream"
        },
        {
          "name": "stderr",
          "text": "Epoch 15/60 [Train]: 100%|██████████| 125/125 [00:13<00:00,  9.51it/s]\nEpoch 15/60 [Valid]: 100%|██████████| 32/32 [00:00<00:00, 97.74it/s]\n",
          "output_type": "stream"
        },
        {
          "name": "stdout",
          "text": "Эпоха 15: Train Loss: 0.6479, Acc: 80.98% | Val Loss: 0.6296, Acc: 80.17%\n",
          "output_type": "stream"
        },
        {
          "name": "stderr",
          "text": "Epoch 16/60 [Train]: 100%|██████████| 125/125 [00:13<00:00,  9.37it/s]\nEpoch 16/60 [Valid]: 100%|██████████| 32/32 [00:00<00:00, 96.71it/s]\n",
          "output_type": "stream"
        },
        {
          "name": "stdout",
          "text": "Эпоха 16: Train Loss: 0.6593, Acc: 82.42% | Val Loss: 0.4668, Acc: 85.33%\n",
          "output_type": "stream"
        },
        {
          "name": "stderr",
          "text": "Epoch 17/60 [Train]: 100%|██████████| 125/125 [00:13<00:00,  9.54it/s]\nEpoch 17/60 [Valid]: 100%|██████████| 32/32 [00:00<00:00, 101.28it/s]\n",
          "output_type": "stream"
        },
        {
          "name": "stdout",
          "text": "Эпоха 17: Train Loss: 0.6653, Acc: 83.17% | Val Loss: 0.5336, Acc: 83.53%\n",
          "output_type": "stream"
        },
        {
          "name": "stderr",
          "text": "Epoch 18/60 [Train]: 100%|██████████| 125/125 [00:13<00:00,  9.50it/s]\nEpoch 18/60 [Valid]: 100%|██████████| 32/32 [00:00<00:00, 98.44it/s]\n",
          "output_type": "stream"
        },
        {
          "name": "stdout",
          "text": "Эпоха 18: Train Loss: 0.6689, Acc: 83.61% | Val Loss: 0.4328, Acc: 86.05%\n",
          "output_type": "stream"
        },
        {
          "name": "stderr",
          "text": "Epoch 19/60 [Train]: 100%|██████████| 125/125 [00:13<00:00,  9.46it/s]\nEpoch 19/60 [Valid]: 100%|██████████| 32/32 [00:00<00:00, 97.80it/s]\n",
          "output_type": "stream"
        },
        {
          "name": "stdout",
          "text": "Эпоха 19: Train Loss: 0.6774, Acc: 84.67% | Val Loss: 0.3472, Acc: 89.15%\n",
          "output_type": "stream"
        },
        {
          "name": "stderr",
          "text": "Epoch 20/60 [Train]: 100%|██████████| 125/125 [00:13<00:00,  9.49it/s]\nEpoch 20/60 [Valid]: 100%|██████████| 32/32 [00:00<00:00, 101.64it/s]\n",
          "output_type": "stream"
        },
        {
          "name": "stdout",
          "text": "Эпоха 20: Train Loss: 0.6839, Acc: 85.48% | Val Loss: 0.3414, Acc: 88.92%\n",
          "output_type": "stream"
        },
        {
          "name": "stderr",
          "text": "Epoch 21/60 [Train]: 100%|██████████| 125/125 [00:13<00:00,  9.56it/s]\nEpoch 21/60 [Valid]: 100%|██████████| 32/32 [00:00<00:00, 101.48it/s]\n",
          "output_type": "stream"
        },
        {
          "name": "stdout",
          "text": "Эпоха 21: Train Loss: 0.6893, Acc: 86.16% | Val Loss: 0.4672, Acc: 85.30%\n",
          "output_type": "stream"
        },
        {
          "name": "stderr",
          "text": "Epoch 22/60 [Train]: 100%|██████████| 125/125 [00:13<00:00,  9.52it/s]\nEpoch 22/60 [Valid]: 100%|██████████| 32/32 [00:00<00:00, 98.32it/s]\n",
          "output_type": "stream"
        },
        {
          "name": "stdout",
          "text": "Эпоха 22: Train Loss: 0.6863, Acc: 85.78% | Val Loss: 0.3965, Acc: 87.55%\n",
          "output_type": "stream"
        },
        {
          "name": "stderr",
          "text": "Epoch 23/60 [Train]: 100%|██████████| 125/125 [00:13<00:00,  9.39it/s]\nEpoch 23/60 [Valid]: 100%|██████████| 32/32 [00:00<00:00, 96.39it/s]\n",
          "output_type": "stream"
        },
        {
          "name": "stdout",
          "text": "Эпоха 23: Train Loss: 0.6946, Acc: 86.83% | Val Loss: 0.5097, Acc: 84.28%\n",
          "output_type": "stream"
        },
        {
          "name": "stderr",
          "text": "Epoch 24/60 [Train]: 100%|██████████| 125/125 [00:13<00:00,  9.45it/s]\nEpoch 24/60 [Valid]: 100%|██████████| 32/32 [00:00<00:00, 98.12it/s]\n",
          "output_type": "stream"
        },
        {
          "name": "stdout",
          "text": "Эпоха 24: Train Loss: 0.6992, Acc: 87.40% | Val Loss: 0.3718, Acc: 88.62%\n",
          "output_type": "stream"
        },
        {
          "name": "stderr",
          "text": "Epoch 25/60 [Train]: 100%|██████████| 125/125 [00:13<00:00,  9.45it/s]\nEpoch 25/60 [Valid]: 100%|██████████| 32/32 [00:00<00:00, 100.86it/s]\n",
          "output_type": "stream"
        },
        {
          "name": "stdout",
          "text": "Эпоха 25: Train Loss: 0.7009, Acc: 87.61% | Val Loss: 0.3361, Acc: 89.45%\n",
          "output_type": "stream"
        },
        {
          "name": "stderr",
          "text": "Epoch 26/60 [Train]: 100%|██████████| 125/125 [00:13<00:00,  9.47it/s]\nEpoch 26/60 [Valid]: 100%|██████████| 32/32 [00:00<00:00, 98.96it/s]\n",
          "output_type": "stream"
        },
        {
          "name": "stdout",
          "text": "Эпоха 26: Train Loss: 0.7044, Acc: 88.05% | Val Loss: 0.3167, Acc: 90.22%\n",
          "output_type": "stream"
        },
        {
          "name": "stderr",
          "text": "Epoch 27/60 [Train]: 100%|██████████| 125/125 [00:13<00:00,  9.48it/s]\nEpoch 27/60 [Valid]: 100%|██████████| 32/32 [00:00<00:00, 101.74it/s]\n",
          "output_type": "stream"
        },
        {
          "name": "stdout",
          "text": "Эпоха 27: Train Loss: 0.7080, Acc: 88.49% | Val Loss: 0.3105, Acc: 90.53%\n",
          "output_type": "stream"
        },
        {
          "name": "stderr",
          "text": "Epoch 28/60 [Train]: 100%|██████████| 125/125 [00:13<00:00,  9.57it/s]\nEpoch 28/60 [Valid]: 100%|██████████| 32/32 [00:00<00:00, 101.63it/s]\n",
          "output_type": "stream"
        },
        {
          "name": "stdout",
          "text": "Эпоха 28: Train Loss: 0.7057, Acc: 88.21% | Val Loss: 0.3073, Acc: 90.42%\n",
          "output_type": "stream"
        },
        {
          "name": "stderr",
          "text": "Epoch 29/60 [Train]: 100%|██████████| 125/125 [00:13<00:00,  9.51it/s]\nEpoch 29/60 [Valid]: 100%|██████████| 32/32 [00:00<00:00, 100.03it/s]\n",
          "output_type": "stream"
        },
        {
          "name": "stdout",
          "text": "Эпоха 29: Train Loss: 0.7117, Acc: 88.96% | Val Loss: 0.3589, Acc: 88.90%\n",
          "output_type": "stream"
        },
        {
          "name": "stderr",
          "text": "Epoch 30/60 [Train]: 100%|██████████| 125/125 [00:13<00:00,  9.38it/s]\nEpoch 30/60 [Valid]: 100%|██████████| 32/32 [00:00<00:00, 99.73it/s]\n",
          "output_type": "stream"
        },
        {
          "name": "stdout",
          "text": "Эпоха 30: Train Loss: 0.7125, Acc: 89.06% | Val Loss: 0.3199, Acc: 89.75%\n",
          "output_type": "stream"
        },
        {
          "name": "stderr",
          "text": "Epoch 31/60 [Train]: 100%|██████████| 125/125 [00:13<00:00,  9.52it/s]\nEpoch 31/60 [Valid]: 100%|██████████| 32/32 [00:00<00:00, 101.61it/s]\n",
          "output_type": "stream"
        },
        {
          "name": "stdout",
          "text": "Эпоха 31: Train Loss: 0.7127, Acc: 89.09% | Val Loss: 0.3540, Acc: 89.50%\n",
          "output_type": "stream"
        },
        {
          "name": "stderr",
          "text": "Epoch 32/60 [Train]: 100%|██████████| 125/125 [00:13<00:00,  9.50it/s]\nEpoch 32/60 [Valid]: 100%|██████████| 32/32 [00:00<00:00, 100.88it/s]\n",
          "output_type": "stream"
        },
        {
          "name": "stdout",
          "text": "Эпоха 32: Train Loss: 0.7190, Acc: 89.87% | Val Loss: 0.3002, Acc: 90.50%\n",
          "output_type": "stream"
        },
        {
          "name": "stderr",
          "text": "Epoch 33/60 [Train]: 100%|██████████| 125/125 [00:13<00:00,  9.50it/s]\nEpoch 33/60 [Valid]: 100%|██████████| 32/32 [00:00<00:00, 96.32it/s]\n",
          "output_type": "stream"
        },
        {
          "name": "stdout",
          "text": "Эпоха 33: Train Loss: 0.7193, Acc: 89.91% | Val Loss: 0.2888, Acc: 91.03%\n",
          "output_type": "stream"
        },
        {
          "name": "stderr",
          "text": "Epoch 34/60 [Train]: 100%|██████████| 125/125 [00:13<00:00,  9.46it/s]\nEpoch 34/60 [Valid]: 100%|██████████| 32/32 [00:00<00:00, 100.83it/s]\n",
          "output_type": "stream"
        },
        {
          "name": "stdout",
          "text": "Эпоха 34: Train Loss: 0.7212, Acc: 90.15% | Val Loss: 0.3277, Acc: 89.78%\n",
          "output_type": "stream"
        },
        {
          "name": "stderr",
          "text": "Epoch 35/60 [Train]: 100%|██████████| 125/125 [00:13<00:00,  9.55it/s]\nEpoch 35/60 [Valid]: 100%|██████████| 32/32 [00:00<00:00, 101.08it/s]\n",
          "output_type": "stream"
        },
        {
          "name": "stdout",
          "text": "Эпоха 35: Train Loss: 0.7165, Acc: 89.57% | Val Loss: 0.3095, Acc: 90.62%\n",
          "output_type": "stream"
        },
        {
          "name": "stderr",
          "text": "Epoch 36/60 [Train]: 100%|██████████| 125/125 [00:13<00:00,  9.52it/s]\nEpoch 36/60 [Valid]: 100%|██████████| 32/32 [00:00<00:00, 97.78it/s]\n",
          "output_type": "stream"
        },
        {
          "name": "stdout",
          "text": "Эпоха 36: Train Loss: 0.7255, Acc: 90.68% | Val Loss: 0.2442, Acc: 92.33%\n",
          "output_type": "stream"
        },
        {
          "name": "stderr",
          "text": "Epoch 37/60 [Train]: 100%|██████████| 125/125 [00:13<00:00,  9.42it/s]\nEpoch 37/60 [Valid]: 100%|██████████| 32/32 [00:00<00:00, 99.14it/s]\n",
          "output_type": "stream"
        },
        {
          "name": "stdout",
          "text": "Эпоха 37: Train Loss: 0.7252, Acc: 90.65% | Val Loss: 0.3136, Acc: 90.20%\n",
          "output_type": "stream"
        },
        {
          "name": "stderr",
          "text": "Epoch 38/60 [Train]: 100%|██████████| 125/125 [00:13<00:00,  9.54it/s]\nEpoch 38/60 [Valid]: 100%|██████████| 32/32 [00:00<00:00, 100.79it/s]\n",
          "output_type": "stream"
        },
        {
          "name": "stdout",
          "text": "Эпоха 38: Train Loss: 0.7265, Acc: 90.81% | Val Loss: 0.3089, Acc: 90.70%\n",
          "output_type": "stream"
        },
        {
          "name": "stderr",
          "text": "Epoch 39/60 [Train]: 100%|██████████| 125/125 [00:13<00:00,  9.49it/s]\nEpoch 39/60 [Valid]: 100%|██████████| 32/32 [00:00<00:00, 100.63it/s]\n",
          "output_type": "stream"
        },
        {
          "name": "stdout",
          "text": "Эпоха 39: Train Loss: 0.7253, Acc: 90.66% | Val Loss: 0.2551, Acc: 92.15%\n",
          "output_type": "stream"
        },
        {
          "name": "stderr",
          "text": "Epoch 40/60 [Train]: 100%|██████████| 125/125 [00:13<00:00,  9.51it/s]\nEpoch 40/60 [Valid]: 100%|██████████| 32/32 [00:00<00:00, 99.31it/s]\n",
          "output_type": "stream"
        },
        {
          "name": "stdout",
          "text": "Эпоха 40: Train Loss: 0.7294, Acc: 91.17% | Val Loss: 0.2615, Acc: 91.75%\n",
          "output_type": "stream"
        },
        {
          "name": "stderr",
          "text": "Epoch 41/60 [Train]: 100%|██████████| 125/125 [00:13<00:00,  9.52it/s]\nEpoch 41/60 [Valid]: 100%|██████████| 32/32 [00:00<00:00, 101.43it/s]\n",
          "output_type": "stream"
        },
        {
          "name": "stdout",
          "text": "Эпоха 41: Train Loss: 0.7288, Acc: 91.09% | Val Loss: 0.3284, Acc: 90.15%\n",
          "output_type": "stream"
        },
        {
          "name": "stderr",
          "text": "Epoch 42/60 [Train]: 100%|██████████| 125/125 [00:13<00:00,  9.52it/s]\nEpoch 42/60 [Valid]: 100%|██████████| 32/32 [00:00<00:00, 100.80it/s]\n",
          "output_type": "stream"
        },
        {
          "name": "stdout",
          "text": "Эпоха 42: Train Loss: 0.7297, Acc: 91.21% | Val Loss: 0.3731, Acc: 89.10%\n",
          "output_type": "stream"
        },
        {
          "name": "stderr",
          "text": "Epoch 43/60 [Train]: 100%|██████████| 125/125 [00:13<00:00,  9.55it/s]\nEpoch 43/60 [Valid]: 100%|██████████| 32/32 [00:00<00:00, 97.10it/s]\n",
          "output_type": "stream"
        },
        {
          "name": "stdout",
          "text": "Эпоха 43: Train Loss: 0.7338, Acc: 91.72% | Val Loss: 0.2600, Acc: 92.25%\n",
          "output_type": "stream"
        },
        {
          "name": "stderr",
          "text": "Epoch 44/60 [Train]: 100%|██████████| 125/125 [00:13<00:00,  9.40it/s]\nEpoch 44/60 [Valid]: 100%|██████████| 32/32 [00:00<00:00, 98.37it/s]\n",
          "output_type": "stream"
        },
        {
          "name": "stdout",
          "text": "Эпоха 44: Train Loss: 0.7304, Acc: 91.30% | Val Loss: 0.2693, Acc: 92.12%\n",
          "output_type": "stream"
        },
        {
          "name": "stderr",
          "text": "Epoch 45/60 [Train]: 100%|██████████| 125/125 [00:13<00:00,  9.55it/s]\nEpoch 45/60 [Valid]: 100%|██████████| 32/32 [00:00<00:00, 100.95it/s]\n",
          "output_type": "stream"
        },
        {
          "name": "stdout",
          "text": "Эпоха 45: Train Loss: 0.7341, Acc: 91.76% | Val Loss: 0.2610, Acc: 91.75%\n",
          "output_type": "stream"
        },
        {
          "name": "stderr",
          "text": "Epoch 46/60 [Train]: 100%|██████████| 125/125 [00:13<00:00,  9.54it/s]\nEpoch 46/60 [Valid]: 100%|██████████| 32/32 [00:00<00:00, 101.45it/s]",
          "output_type": "stream"
        },
        {
          "name": "stdout",
          "text": "Эпоха 46: Train Loss: 0.7350, Acc: 91.88% | Val Loss: 0.2640, Acc: 92.12%\nРанняя остановка после 46 эпох\n",
          "output_type": "stream"
        },
        {
          "name": "stderr",
          "text": "\n",
          "output_type": "stream"
        }
      ],
      "execution_count": null
    },
    {
      "cell_type": "markdown",
      "source": [
        "## Итоговое обучение на полных данных"
      ],
      "metadata": {
        "id": "ZFI9jU3py8kf"
      }
    },
    {
      "cell_type": "code",
      "source": [
        "train_img = np.load(\"/kaggle/input/mipt-dl-captcha-2025/mds-misis-dl-captchan/images.npy\")\n",
        "labels = np.load(\"/kaggle/input/mipt-dl-captcha-2025/mds-misis-dl-captchan/labels.npy\")\n",
        "test_img = np.load(\"/kaggle/input/mipt-dl-captcha-2025/mds-misis-dl-captchan/images_sub.npy\")"
      ],
      "metadata": {
        "trusted": true,
        "execution": {
          "iopub.status.busy": "2025-05-31T23:16:55.260147Z",
          "iopub.execute_input": "2025-05-31T23:16:55.260465Z",
          "iopub.status.idle": "2025-05-31T23:16:55.425170Z",
          "shell.execute_reply.started": "2025-05-31T23:16:55.260442Z",
          "shell.execute_reply": "2025-05-31T23:16:55.424618Z"
        },
        "id": "u-JvqbIRy8kf"
      },
      "outputs": [],
      "execution_count": null
    },
    {
      "cell_type": "code",
      "source": [
        "images = torch.tensor(train_img.astype('float32')/255.0).permute(0,3,1,2)\n",
        "labels = torch.tensor(labels.astype('int64'))\n",
        "\n",
        "train_data_aug_full = AugmentedDataset(images, labels, transform=train_transform)\n",
        "train_loader_aug_full = torch.utils.data.DataLoader(train_data_aug_full, batch_size=BATCH_SIZE, shuffle=True)"
      ],
      "metadata": {
        "trusted": true,
        "execution": {
          "iopub.status.busy": "2025-05-31T23:16:55.636023Z",
          "iopub.execute_input": "2025-05-31T23:16:55.636616Z",
          "iopub.status.idle": "2025-05-31T23:16:56.171332Z",
          "shell.execute_reply.started": "2025-05-31T23:16:55.636593Z",
          "shell.execute_reply": "2025-05-31T23:16:56.170770Z"
        },
        "id": "8aIGX7gYy8kf"
      },
      "outputs": [],
      "execution_count": null
    },
    {
      "cell_type": "code",
      "source": [
        "model_fa = ImprovedCNN().to(device)\n",
        "criterion_fa = nn.CrossEntropyLoss()\n",
        "optimizer_fa = optim.Adam(model_fa.parameters(), lr=LEARNING_RATE, weight_decay=1e-5)"
      ],
      "metadata": {
        "trusted": true,
        "execution": {
          "iopub.status.busy": "2025-05-31T23:16:58.171463Z",
          "iopub.execute_input": "2025-05-31T23:16:58.171924Z",
          "iopub.status.idle": "2025-05-31T23:16:58.275314Z",
          "shell.execute_reply.started": "2025-05-31T23:16:58.171898Z",
          "shell.execute_reply": "2025-05-31T23:16:58.274574Z"
        },
        "id": "1eFqxFwBy8kf"
      },
      "outputs": [],
      "execution_count": null
    },
    {
      "cell_type": "code",
      "source": [
        "best_acc = 0\n",
        "EPOCHS_C = 55\n",
        "\n",
        "for epoch in range(1, EPOCHS_C + 1):\n",
        "    # Обучение\n",
        "    model_fa.train()\n",
        "    train_loss = 0.0\n",
        "    correct = 0\n",
        "    total = 0\n",
        "\n",
        "    for inputs, labels in tqdm(train_loader_aug_full, desc=f'Epoch {epoch}/{EPOCHS_C} [Train]'):\n",
        "        inputs, labels = inputs.to(device), labels.to(device)\n",
        "\n",
        "        optimizer_fa.zero_grad()\n",
        "        outputs = model_fa(inputs)\n",
        "        loss = criterion_fa(outputs, labels)\n",
        "        loss.backward()\n",
        "        optimizer_fa.step()\n",
        "\n",
        "        train_loss += loss.item()\n",
        "        _, predicted = outputs.max(1)\n",
        "        total += labels.size(0)\n",
        "        correct += predicted.eq(labels).sum().item()\n",
        "\n",
        "    train_acc = 100. * correct / total\n",
        "    avg_train_loss = train_acc / len(train_loader)\n",
        "\n",
        "    print(f'Epoch {epoch}: '\n",
        "          f'Train Loss: {avg_train_loss:.4f}, Acc: {train_acc:.2f}%')\n",
        "\n",
        "    if train_acc > best_acc:\n",
        "        best_acc = train_acc\n",
        "        torch.save(model_fa.state_dict(), 'best_model_fa.pth')"
      ],
      "metadata": {
        "trusted": true,
        "execution": {
          "iopub.status.busy": "2025-05-31T23:16:59.340016Z",
          "iopub.execute_input": "2025-05-31T23:16:59.340277Z",
          "iopub.status.idle": "2025-05-31T23:32:26.686282Z",
          "shell.execute_reply.started": "2025-05-31T23:16:59.340258Z",
          "shell.execute_reply": "2025-05-31T23:32:26.685541Z"
        },
        "id": "rsipA3qgy8kg",
        "outputId": "01348a97-fb00-49d1-cf30-8b37f9cbed98"
      },
      "outputs": [
        {
          "name": "stderr",
          "text": "Epoch 1/55 [Train]: 100%|██████████| 157/157 [00:16<00:00,  9.37it/s]\n",
          "output_type": "stream"
        },
        {
          "name": "stdout",
          "text": "Epoch 1: Train Loss: 0.0333, Acc: 4.17%\n",
          "output_type": "stream"
        },
        {
          "name": "stderr",
          "text": "Epoch 2/55 [Train]: 100%|██████████| 157/157 [00:16<00:00,  9.33it/s]\n",
          "output_type": "stream"
        },
        {
          "name": "stdout",
          "text": "Epoch 2: Train Loss: 0.0451, Acc: 5.63%\n",
          "output_type": "stream"
        },
        {
          "name": "stderr",
          "text": "Epoch 3/55 [Train]: 100%|██████████| 157/157 [00:16<00:00,  9.38it/s]\n",
          "output_type": "stream"
        },
        {
          "name": "stdout",
          "text": "Epoch 3: Train Loss: 0.0925, Acc: 11.56%\n",
          "output_type": "stream"
        },
        {
          "name": "stderr",
          "text": "Epoch 4/55 [Train]: 100%|██████████| 157/157 [00:16<00:00,  9.36it/s]\n",
          "output_type": "stream"
        },
        {
          "name": "stdout",
          "text": "Epoch 4: Train Loss: 0.2120, Acc: 26.50%\n",
          "output_type": "stream"
        },
        {
          "name": "stderr",
          "text": "Epoch 5/55 [Train]: 100%|██████████| 157/157 [00:16<00:00,  9.36it/s]\n",
          "output_type": "stream"
        },
        {
          "name": "stdout",
          "text": "Epoch 5: Train Loss: 0.3634, Acc: 45.42%\n",
          "output_type": "stream"
        },
        {
          "name": "stderr",
          "text": "Epoch 6/55 [Train]: 100%|██████████| 157/157 [00:16<00:00,  9.38it/s]\n",
          "output_type": "stream"
        },
        {
          "name": "stdout",
          "text": "Epoch 6: Train Loss: 0.4472, Acc: 55.91%\n",
          "output_type": "stream"
        },
        {
          "name": "stderr",
          "text": "Epoch 7/55 [Train]: 100%|██████████| 157/157 [00:16<00:00,  9.37it/s]\n",
          "output_type": "stream"
        },
        {
          "name": "stdout",
          "text": "Epoch 7: Train Loss: 0.5030, Acc: 62.87%\n",
          "output_type": "stream"
        },
        {
          "name": "stderr",
          "text": "Epoch 8/55 [Train]: 100%|██████████| 157/157 [00:16<00:00,  9.35it/s]\n",
          "output_type": "stream"
        },
        {
          "name": "stdout",
          "text": "Epoch 8: Train Loss: 0.5538, Acc: 69.22%\n",
          "output_type": "stream"
        },
        {
          "name": "stderr",
          "text": "Epoch 9/55 [Train]: 100%|██████████| 157/157 [00:16<00:00,  9.35it/s]\n",
          "output_type": "stream"
        },
        {
          "name": "stdout",
          "text": "Epoch 9: Train Loss: 0.5828, Acc: 72.86%\n",
          "output_type": "stream"
        },
        {
          "name": "stderr",
          "text": "Epoch 10/55 [Train]: 100%|██████████| 157/157 [00:16<00:00,  9.35it/s]\n",
          "output_type": "stream"
        },
        {
          "name": "stdout",
          "text": "Epoch 10: Train Loss: 0.6061, Acc: 75.76%\n",
          "output_type": "stream"
        },
        {
          "name": "stderr",
          "text": "Epoch 11/55 [Train]: 100%|██████████| 157/157 [00:16<00:00,  9.36it/s]\n",
          "output_type": "stream"
        },
        {
          "name": "stdout",
          "text": "Epoch 11: Train Loss: 0.6208, Acc: 77.60%\n",
          "output_type": "stream"
        },
        {
          "name": "stderr",
          "text": "Epoch 12/55 [Train]: 100%|██████████| 157/157 [00:16<00:00,  9.39it/s]\n",
          "output_type": "stream"
        },
        {
          "name": "stdout",
          "text": "Epoch 12: Train Loss: 0.6370, Acc: 79.62%\n",
          "output_type": "stream"
        },
        {
          "name": "stderr",
          "text": "Epoch 13/55 [Train]: 100%|██████████| 157/157 [00:16<00:00,  9.36it/s]\n",
          "output_type": "stream"
        },
        {
          "name": "stdout",
          "text": "Epoch 13: Train Loss: 0.6506, Acc: 81.33%\n",
          "output_type": "stream"
        },
        {
          "name": "stderr",
          "text": "Epoch 14/55 [Train]: 100%|██████████| 157/157 [00:16<00:00,  9.37it/s]\n",
          "output_type": "stream"
        },
        {
          "name": "stdout",
          "text": "Epoch 14: Train Loss: 0.6562, Acc: 82.03%\n",
          "output_type": "stream"
        },
        {
          "name": "stderr",
          "text": "Epoch 15/55 [Train]: 100%|██████████| 157/157 [00:16<00:00,  9.34it/s]\n",
          "output_type": "stream"
        },
        {
          "name": "stdout",
          "text": "Epoch 15: Train Loss: 0.6664, Acc: 83.31%\n",
          "output_type": "stream"
        },
        {
          "name": "stderr",
          "text": "Epoch 16/55 [Train]: 100%|██████████| 157/157 [00:16<00:00,  9.39it/s]\n",
          "output_type": "stream"
        },
        {
          "name": "stdout",
          "text": "Epoch 16: Train Loss: 0.6732, Acc: 84.16%\n",
          "output_type": "stream"
        },
        {
          "name": "stderr",
          "text": "Epoch 17/55 [Train]: 100%|██████████| 157/157 [00:16<00:00,  9.35it/s]\n",
          "output_type": "stream"
        },
        {
          "name": "stdout",
          "text": "Epoch 17: Train Loss: 0.6768, Acc: 84.60%\n",
          "output_type": "stream"
        },
        {
          "name": "stderr",
          "text": "Epoch 18/55 [Train]: 100%|██████████| 157/157 [00:16<00:00,  9.36it/s]\n",
          "output_type": "stream"
        },
        {
          "name": "stdout",
          "text": "Epoch 18: Train Loss: 0.6848, Acc: 85.60%\n",
          "output_type": "stream"
        },
        {
          "name": "stderr",
          "text": "Epoch 19/55 [Train]: 100%|██████████| 157/157 [00:16<00:00,  9.39it/s]\n",
          "output_type": "stream"
        },
        {
          "name": "stdout",
          "text": "Epoch 19: Train Loss: 0.6928, Acc: 86.59%\n",
          "output_type": "stream"
        },
        {
          "name": "stderr",
          "text": "Epoch 20/55 [Train]: 100%|██████████| 157/157 [00:16<00:00,  9.37it/s]\n",
          "output_type": "stream"
        },
        {
          "name": "stdout",
          "text": "Epoch 20: Train Loss: 0.6975, Acc: 87.19%\n",
          "output_type": "stream"
        },
        {
          "name": "stderr",
          "text": "Epoch 21/55 [Train]: 100%|██████████| 157/157 [00:16<00:00,  9.34it/s]\n",
          "output_type": "stream"
        },
        {
          "name": "stdout",
          "text": "Epoch 21: Train Loss: 0.6954, Acc: 86.92%\n",
          "output_type": "stream"
        },
        {
          "name": "stderr",
          "text": "Epoch 22/55 [Train]: 100%|██████████| 157/157 [00:16<00:00,  9.44it/s]\n",
          "output_type": "stream"
        },
        {
          "name": "stdout",
          "text": "Epoch 22: Train Loss: 0.6995, Acc: 87.44%\n",
          "output_type": "stream"
        },
        {
          "name": "stderr",
          "text": "Epoch 23/55 [Train]: 100%|██████████| 157/157 [00:16<00:00,  9.37it/s]\n",
          "output_type": "stream"
        },
        {
          "name": "stdout",
          "text": "Epoch 23: Train Loss: 0.7057, Acc: 88.22%\n",
          "output_type": "stream"
        },
        {
          "name": "stderr",
          "text": "Epoch 24/55 [Train]: 100%|██████████| 157/157 [00:16<00:00,  9.41it/s]\n",
          "output_type": "stream"
        },
        {
          "name": "stdout",
          "text": "Epoch 24: Train Loss: 0.7064, Acc: 88.31%\n",
          "output_type": "stream"
        },
        {
          "name": "stderr",
          "text": "Epoch 25/55 [Train]: 100%|██████████| 157/157 [00:16<00:00,  9.36it/s]\n",
          "output_type": "stream"
        },
        {
          "name": "stdout",
          "text": "Epoch 25: Train Loss: 0.7099, Acc: 88.73%\n",
          "output_type": "stream"
        },
        {
          "name": "stderr",
          "text": "Epoch 26/55 [Train]: 100%|██████████| 157/157 [00:16<00:00,  9.38it/s]\n",
          "output_type": "stream"
        },
        {
          "name": "stdout",
          "text": "Epoch 26: Train Loss: 0.7115, Acc: 88.94%\n",
          "output_type": "stream"
        },
        {
          "name": "stderr",
          "text": "Epoch 27/55 [Train]: 100%|██████████| 157/157 [00:16<00:00,  9.35it/s]\n",
          "output_type": "stream"
        },
        {
          "name": "stdout",
          "text": "Epoch 27: Train Loss: 0.7150, Acc: 89.38%\n",
          "output_type": "stream"
        },
        {
          "name": "stderr",
          "text": "Epoch 28/55 [Train]: 100%|██████████| 157/157 [00:16<00:00,  9.38it/s]\n",
          "output_type": "stream"
        },
        {
          "name": "stdout",
          "text": "Epoch 28: Train Loss: 0.7170, Acc: 89.62%\n",
          "output_type": "stream"
        },
        {
          "name": "stderr",
          "text": "Epoch 29/55 [Train]: 100%|██████████| 157/157 [00:16<00:00,  9.39it/s]\n",
          "output_type": "stream"
        },
        {
          "name": "stdout",
          "text": "Epoch 29: Train Loss: 0.7170, Acc: 89.62%\n",
          "output_type": "stream"
        },
        {
          "name": "stderr",
          "text": "Epoch 30/55 [Train]: 100%|██████████| 157/157 [00:16<00:00,  9.37it/s]\n",
          "output_type": "stream"
        },
        {
          "name": "stdout",
          "text": "Epoch 30: Train Loss: 0.7186, Acc: 89.83%\n",
          "output_type": "stream"
        },
        {
          "name": "stderr",
          "text": "Epoch 31/55 [Train]: 100%|██████████| 157/157 [00:16<00:00,  9.36it/s]\n",
          "output_type": "stream"
        },
        {
          "name": "stdout",
          "text": "Epoch 31: Train Loss: 0.7183, Acc: 89.79%\n",
          "output_type": "stream"
        },
        {
          "name": "stderr",
          "text": "Epoch 32/55 [Train]: 100%|██████████| 157/157 [00:16<00:00,  9.37it/s]\n",
          "output_type": "stream"
        },
        {
          "name": "stdout",
          "text": "Epoch 32: Train Loss: 0.7242, Acc: 90.53%\n",
          "output_type": "stream"
        },
        {
          "name": "stderr",
          "text": "Epoch 33/55 [Train]: 100%|██████████| 157/157 [00:16<00:00,  9.38it/s]\n",
          "output_type": "stream"
        },
        {
          "name": "stdout",
          "text": "Epoch 33: Train Loss: 0.7238, Acc: 90.48%\n",
          "output_type": "stream"
        },
        {
          "name": "stderr",
          "text": "Epoch 34/55 [Train]: 100%|██████████| 157/157 [00:16<00:00,  9.33it/s]\n",
          "output_type": "stream"
        },
        {
          "name": "stdout",
          "text": "Epoch 34: Train Loss: 0.7284, Acc: 91.05%\n",
          "output_type": "stream"
        },
        {
          "name": "stderr",
          "text": "Epoch 35/55 [Train]: 100%|██████████| 157/157 [00:16<00:00,  9.26it/s]\n",
          "output_type": "stream"
        },
        {
          "name": "stdout",
          "text": "Epoch 35: Train Loss: 0.7267, Acc: 90.83%\n",
          "output_type": "stream"
        },
        {
          "name": "stderr",
          "text": "Epoch 36/55 [Train]: 100%|██████████| 157/157 [00:16<00:00,  9.29it/s]\n",
          "output_type": "stream"
        },
        {
          "name": "stdout",
          "text": "Epoch 36: Train Loss: 0.7299, Acc: 91.23%\n",
          "output_type": "stream"
        },
        {
          "name": "stderr",
          "text": "Epoch 37/55 [Train]: 100%|██████████| 157/157 [00:16<00:00,  9.35it/s]\n",
          "output_type": "stream"
        },
        {
          "name": "stdout",
          "text": "Epoch 37: Train Loss: 0.7301, Acc: 91.27%\n",
          "output_type": "stream"
        },
        {
          "name": "stderr",
          "text": "Epoch 38/55 [Train]: 100%|██████████| 157/157 [00:16<00:00,  9.30it/s]\n",
          "output_type": "stream"
        },
        {
          "name": "stdout",
          "text": "Epoch 38: Train Loss: 0.7307, Acc: 91.33%\n",
          "output_type": "stream"
        },
        {
          "name": "stderr",
          "text": "Epoch 39/55 [Train]: 100%|██████████| 157/157 [00:16<00:00,  9.35it/s]\n",
          "output_type": "stream"
        },
        {
          "name": "stdout",
          "text": "Epoch 39: Train Loss: 0.7284, Acc: 91.05%\n",
          "output_type": "stream"
        },
        {
          "name": "stderr",
          "text": "Epoch 40/55 [Train]: 100%|██████████| 157/157 [00:16<00:00,  9.32it/s]\n",
          "output_type": "stream"
        },
        {
          "name": "stdout",
          "text": "Epoch 40: Train Loss: 0.7275, Acc: 90.94%\n",
          "output_type": "stream"
        },
        {
          "name": "stderr",
          "text": "Epoch 41/55 [Train]: 100%|██████████| 157/157 [00:16<00:00,  9.32it/s]\n",
          "output_type": "stream"
        },
        {
          "name": "stdout",
          "text": "Epoch 41: Train Loss: 0.7353, Acc: 91.92%\n",
          "output_type": "stream"
        },
        {
          "name": "stderr",
          "text": "Epoch 42/55 [Train]: 100%|██████████| 157/157 [00:16<00:00,  9.36it/s]\n",
          "output_type": "stream"
        },
        {
          "name": "stdout",
          "text": "Epoch 42: Train Loss: 0.7326, Acc: 91.58%\n",
          "output_type": "stream"
        },
        {
          "name": "stderr",
          "text": "Epoch 43/55 [Train]: 100%|██████████| 157/157 [00:16<00:00,  9.35it/s]\n",
          "output_type": "stream"
        },
        {
          "name": "stdout",
          "text": "Epoch 43: Train Loss: 0.7348, Acc: 91.86%\n",
          "output_type": "stream"
        },
        {
          "name": "stderr",
          "text": "Epoch 44/55 [Train]: 100%|██████████| 157/157 [00:16<00:00,  9.38it/s]\n",
          "output_type": "stream"
        },
        {
          "name": "stdout",
          "text": "Epoch 44: Train Loss: 0.7357, Acc: 91.96%\n",
          "output_type": "stream"
        },
        {
          "name": "stderr",
          "text": "Epoch 45/55 [Train]: 100%|██████████| 157/157 [00:16<00:00,  9.33it/s]\n",
          "output_type": "stream"
        },
        {
          "name": "stdout",
          "text": "Epoch 45: Train Loss: 0.7388, Acc: 92.35%\n",
          "output_type": "stream"
        },
        {
          "name": "stderr",
          "text": "Epoch 46/55 [Train]: 100%|██████████| 157/157 [00:16<00:00,  9.36it/s]\n",
          "output_type": "stream"
        },
        {
          "name": "stdout",
          "text": "Epoch 46: Train Loss: 0.7395, Acc: 92.44%\n",
          "output_type": "stream"
        },
        {
          "name": "stderr",
          "text": "Epoch 47/55 [Train]: 100%|██████████| 157/157 [00:16<00:00,  9.34it/s]\n",
          "output_type": "stream"
        },
        {
          "name": "stdout",
          "text": "Epoch 47: Train Loss: 0.7415, Acc: 92.69%\n",
          "output_type": "stream"
        },
        {
          "name": "stderr",
          "text": "Epoch 48/55 [Train]: 100%|██████████| 157/157 [00:16<00:00,  9.38it/s]\n",
          "output_type": "stream"
        },
        {
          "name": "stdout",
          "text": "Epoch 48: Train Loss: 0.7422, Acc: 92.77%\n",
          "output_type": "stream"
        },
        {
          "name": "stderr",
          "text": "Epoch 49/55 [Train]: 100%|██████████| 157/157 [00:16<00:00,  9.30it/s]\n",
          "output_type": "stream"
        },
        {
          "name": "stdout",
          "text": "Epoch 49: Train Loss: 0.7431, Acc: 92.89%\n",
          "output_type": "stream"
        },
        {
          "name": "stderr",
          "text": "Epoch 50/55 [Train]: 100%|██████████| 157/157 [00:16<00:00,  9.37it/s]\n",
          "output_type": "stream"
        },
        {
          "name": "stdout",
          "text": "Epoch 50: Train Loss: 0.7422, Acc: 92.78%\n",
          "output_type": "stream"
        },
        {
          "name": "stderr",
          "text": "Epoch 51/55 [Train]: 100%|██████████| 157/157 [00:16<00:00,  9.36it/s]\n",
          "output_type": "stream"
        },
        {
          "name": "stdout",
          "text": "Epoch 51: Train Loss: 0.7408, Acc: 92.59%\n",
          "output_type": "stream"
        },
        {
          "name": "stderr",
          "text": "Epoch 52/55 [Train]: 100%|██████████| 157/157 [00:16<00:00,  9.36it/s]\n",
          "output_type": "stream"
        },
        {
          "name": "stdout",
          "text": "Epoch 52: Train Loss: 0.7433, Acc: 92.92%\n",
          "output_type": "stream"
        },
        {
          "name": "stderr",
          "text": "Epoch 53/55 [Train]: 100%|██████████| 157/157 [00:16<00:00,  9.34it/s]\n",
          "output_type": "stream"
        },
        {
          "name": "stdout",
          "text": "Epoch 53: Train Loss: 0.7436, Acc: 92.95%\n",
          "output_type": "stream"
        },
        {
          "name": "stderr",
          "text": "Epoch 54/55 [Train]: 100%|██████████| 157/157 [00:16<00:00,  9.37it/s]\n",
          "output_type": "stream"
        },
        {
          "name": "stdout",
          "text": "Epoch 54: Train Loss: 0.7468, Acc: 93.36%\n",
          "output_type": "stream"
        },
        {
          "name": "stderr",
          "text": "Epoch 55/55 [Train]: 100%|██████████| 157/157 [00:16<00:00,  9.34it/s]",
          "output_type": "stream"
        },
        {
          "name": "stdout",
          "text": "Epoch 55: Train Loss: 0.7441, Acc: 93.02%\n",
          "output_type": "stream"
        },
        {
          "name": "stderr",
          "text": "\n",
          "output_type": "stream"
        }
      ],
      "execution_count": null
    },
    {
      "cell_type": "markdown",
      "source": [
        "## Итоговый submission"
      ],
      "metadata": {
        "id": "k1FqbMUyy8kg"
      }
    },
    {
      "cell_type": "code",
      "source": [
        "images_subm = torch.tensor(test_img.astype('float32')/255.0).permute(0,3,1,2)"
      ],
      "metadata": {
        "trusted": true,
        "execution": {
          "iopub.status.busy": "2025-05-31T23:32:33.534005Z",
          "iopub.execute_input": "2025-05-31T23:32:33.534717Z",
          "iopub.status.idle": "2025-05-31T23:32:34.739768Z",
          "shell.execute_reply.started": "2025-05-31T23:32:33.534691Z",
          "shell.execute_reply": "2025-05-31T23:32:34.739002Z"
        },
        "id": "izBPMS3qy8kg"
      },
      "outputs": [],
      "execution_count": null
    },
    {
      "cell_type": "code",
      "source": [
        "test_data_loader = torch.utils.data.DataLoader(dataset=images_subm,\n",
        "                                               batch_size=BATCH_SIZE,\n",
        "                                               shuffle=False)"
      ],
      "metadata": {
        "trusted": true,
        "execution": {
          "iopub.status.busy": "2025-05-31T23:32:36.681162Z",
          "iopub.execute_input": "2025-05-31T23:32:36.681396Z",
          "iopub.status.idle": "2025-05-31T23:32:36.808265Z",
          "shell.execute_reply.started": "2025-05-31T23:32:36.681379Z",
          "shell.execute_reply": "2025-05-31T23:32:36.807513Z"
        },
        "id": "QVHjElUpy8kg"
      },
      "outputs": [],
      "execution_count": null
    },
    {
      "cell_type": "code",
      "source": [
        "model_fa.eval()\n",
        "prediction = []\n",
        "\n",
        "with torch.no_grad():\n",
        "    for inputs in tqdm(test_data_loader):\n",
        "        inputs = inputs.to(device)\n",
        "\n",
        "        outputs = model_fa(inputs)\n",
        "        _, predicted = outputs.max(1)\n",
        "        prediction.extend(predicted.cpu().tolist())"
      ],
      "metadata": {
        "trusted": true,
        "execution": {
          "iopub.status.busy": "2025-05-31T23:32:39.432177Z",
          "iopub.execute_input": "2025-05-31T23:32:39.432648Z",
          "iopub.status.idle": "2025-05-31T23:32:43.199934Z",
          "shell.execute_reply.started": "2025-05-31T23:32:39.432624Z",
          "shell.execute_reply": "2025-05-31T23:32:43.199359Z"
        },
        "id": "TyQhZ0ESy8kg",
        "outputId": "7debfc72-4bd5-40a4-ffb1-6f6058b43d00"
      },
      "outputs": [
        {
          "name": "stderr",
          "text": "100%|██████████| 391/391 [00:03<00:00, 103.99it/s]\n",
          "output_type": "stream"
        }
      ],
      "execution_count": null
    },
    {
      "cell_type": "code",
      "source": [
        "prediction[:10]"
      ],
      "metadata": {
        "trusted": true,
        "execution": {
          "iopub.status.busy": "2025-05-31T23:32:51.922643Z",
          "iopub.execute_input": "2025-05-31T23:32:51.923330Z",
          "iopub.status.idle": "2025-05-31T23:32:51.927879Z",
          "shell.execute_reply.started": "2025-05-31T23:32:51.923301Z",
          "shell.execute_reply": "2025-05-31T23:32:51.927186Z"
        },
        "id": "sM1pgbdKy8kg",
        "outputId": "842f7b22-132a-46af-ea73-40e09942398f"
      },
      "outputs": [
        {
          "execution_count": 73,
          "output_type": "execute_result",
          "data": {
            "text/plain": "[8, 8, 14, 12, 10, 7, 5, 17, 23, 22]"
          },
          "metadata": {}
        }
      ],
      "execution_count": null
    },
    {
      "cell_type": "code",
      "source": [
        "submission = pd.DataFrame({\n",
        "    'id': np.arange(len(prediction)),\n",
        "    'Category': prediction\n",
        "})\n",
        "submission.to_csv('submission_r.csv', index=False)"
      ],
      "metadata": {
        "trusted": true,
        "execution": {
          "iopub.status.busy": "2025-05-31T23:32:54.057232Z",
          "iopub.execute_input": "2025-05-31T23:32:54.057945Z",
          "iopub.status.idle": "2025-05-31T23:32:54.106005Z",
          "shell.execute_reply.started": "2025-05-31T23:32:54.057919Z",
          "shell.execute_reply": "2025-05-31T23:32:54.105503Z"
        },
        "id": "JpJn7Nh8y8kh"
      },
      "outputs": [],
      "execution_count": null
    },
    {
      "cell_type": "markdown",
      "source": [
        "## Используем Scheduler"
      ],
      "metadata": {
        "id": "7AVDwq73y8kh"
      }
    },
    {
      "cell_type": "code",
      "source": [
        "device = torch.device('cuda' if torch.cuda.is_available() else 'cpu')\n",
        "model_s = ImprovedCNN().to(device)\n",
        "criterion_s = nn.CrossEntropyLoss(label_smoothing=0.1)  # Label smoothing\n",
        "optimizer_s = optim.AdamW(model_s.parameters(), lr=LEARNING_RATE, weight_decay=1e-4)\n",
        "scheduler_s = optim.lr_scheduler.ReduceLROnPlateau(optimizer_s,\n",
        "                                                   mode='min',\n",
        "                                                   factor=0.5,\n",
        "                                                   patience=6)"
      ],
      "metadata": {
        "trusted": true,
        "execution": {
          "iopub.status.busy": "2025-06-01T14:50:35.213217Z",
          "iopub.execute_input": "2025-06-01T14:50:35.213771Z",
          "iopub.status.idle": "2025-06-01T14:50:35.324741Z",
          "shell.execute_reply.started": "2025-06-01T14:50:35.213747Z",
          "shell.execute_reply": "2025-06-01T14:50:35.324194Z"
        },
        "id": "jsvQYh4wy8kh"
      },
      "outputs": [],
      "execution_count": null
    },
    {
      "cell_type": "code",
      "source": [
        "num_epochs = 125\n",
        "\n",
        "best_acc = 0.0\n",
        "history = {'train_loss': [], 'val_loss': [], 'train_acc': [], 'val_acc': []}\n",
        "\n",
        "for epoch in range(num_epochs):\n",
        "    # Фаза обучения\n",
        "    model_s.train()\n",
        "    running_loss = 0.0\n",
        "    correct = 0\n",
        "    total = 0\n",
        "\n",
        "    for inputs, labels in tqdm(train_loader_aug, desc=f'Эпоха {epoch+1}/{num_epochs} [Train]'):\n",
        "        inputs, labels = inputs.to(device), labels.to(device)\n",
        "\n",
        "        optimizer_s.zero_grad()\n",
        "        outputs = model_s(inputs)\n",
        "        loss = criterion_s(outputs, labels)\n",
        "        loss.backward()\n",
        "        optimizer_s.step()\n",
        "\n",
        "        running_loss += loss.item() * inputs.size(0)\n",
        "        _, predicted = torch.max(outputs, 1)\n",
        "        total += labels.size(0)\n",
        "        correct += (predicted == labels).sum().item()\n",
        "\n",
        "    epoch_loss = running_loss / len(train_loader.dataset)\n",
        "    epoch_acc = 100 * correct / total\n",
        "    history['train_loss'].append(epoch_loss)\n",
        "    history['train_acc'].append(epoch_acc)\n",
        "\n",
        "    # Фаза валидации\n",
        "    model_s.eval()\n",
        "    val_loss = 0.0\n",
        "    val_correct = 0\n",
        "    val_total = 0\n",
        "\n",
        "    with torch.no_grad():\n",
        "        for inputs, labels in tqdm(valid_loader, desc=f'Эпоха {epoch+1}/{num_epochs} [Valid]'):\n",
        "            inputs, labels = inputs.to(device), labels.to(device)\n",
        "            outputs = model_s(inputs)\n",
        "            loss = criterion_s(outputs, labels)\n",
        "\n",
        "            val_loss += loss.item() * inputs.size(0)\n",
        "            _, predicted = torch.max(outputs, 1)\n",
        "            val_total += labels.size(0)\n",
        "            val_correct += (predicted == labels).sum().item()\n",
        "\n",
        "    val_loss = val_loss / len(valid_loader.dataset)\n",
        "    val_acc = 100 * val_correct / val_total\n",
        "    history['val_loss'].append(val_loss)\n",
        "    history['val_acc'].append(val_acc)\n",
        "\n",
        "    # Обновление scheduler\n",
        "    scheduler_s.step(val_loss)\n",
        "\n",
        "    # Сохранение лучшей модели\n",
        "    if val_acc > best_acc:\n",
        "        best_acc = val_acc\n",
        "        torch.save(model_s.state_dict(), 'best_model_resnet.pth')\n",
        "\n",
        "    print(f'Эпоха {epoch+1}: '\n",
        "          f'Train Loss: {epoch_loss:.4f}, Acc: {epoch_acc:.2f}% | '\n",
        "          f'Val Loss: {val_loss:.4f}, Acc: {val_acc:.2f}%')\n",
        "\n",
        "print(f'Лучшее значение Accuracy при валидации: {best_acc:.2f}%')"
      ],
      "metadata": {
        "trusted": true,
        "execution": {
          "iopub.status.busy": "2025-06-01T14:50:35.469679Z",
          "iopub.execute_input": "2025-06-01T14:50:35.470362Z",
          "iopub.status.idle": "2025-06-01T15:18:58.621455Z",
          "shell.execute_reply.started": "2025-06-01T14:50:35.470339Z",
          "shell.execute_reply": "2025-06-01T15:18:58.620626Z"
        },
        "id": "mcWgvuSwy8kh",
        "outputId": "52907fe8-38c6-4507-a751-0bbc9b2fbcff"
      },
      "outputs": [
        {
          "name": "stderr",
          "text": "Эпоха 1/125 [Train]: 100%|██████████| 125/125 [00:13<00:00,  9.30it/s]\nЭпоха 1/125 [Valid]: 100%|██████████| 32/32 [00:00<00:00, 99.22it/s]\n",
          "output_type": "stream"
        },
        {
          "name": "stdout",
          "text": "Эпоха 1: Train Loss: 3.3577, Acc: 4.07% | Val Loss: 3.2521, Acc: 4.17%\n",
          "output_type": "stream"
        },
        {
          "name": "stderr",
          "text": "Эпоха 2/125 [Train]: 100%|██████████| 125/125 [00:13<00:00,  9.22it/s]\nЭпоха 2/125 [Valid]: 100%|██████████| 32/32 [00:00<00:00, 95.41it/s]\n",
          "output_type": "stream"
        },
        {
          "name": "stdout",
          "text": "Эпоха 2: Train Loss: 3.3077, Acc: 4.76% | Val Loss: 3.2449, Acc: 4.95%\n",
          "output_type": "stream"
        },
        {
          "name": "stderr",
          "text": "Эпоха 3/125 [Train]: 100%|██████████| 125/125 [00:13<00:00,  9.34it/s]\nЭпоха 3/125 [Valid]: 100%|██████████| 32/32 [00:00<00:00, 98.84it/s]\n",
          "output_type": "stream"
        },
        {
          "name": "stdout",
          "text": "Эпоха 3: Train Loss: 3.2668, Acc: 5.70% | Val Loss: 3.1950, Acc: 6.08%\n",
          "output_type": "stream"
        },
        {
          "name": "stderr",
          "text": "Эпоха 4/125 [Train]: 100%|██████████| 125/125 [00:13<00:00,  9.26it/s]\nЭпоха 4/125 [Valid]: 100%|██████████| 32/32 [00:00<00:00, 97.89it/s]\n",
          "output_type": "stream"
        },
        {
          "name": "stdout",
          "text": "Эпоха 4: Train Loss: 3.1164, Acc: 9.14% | Val Loss: 2.9630, Acc: 12.47%\n",
          "output_type": "stream"
        },
        {
          "name": "stderr",
          "text": "Эпоха 5/125 [Train]: 100%|██████████| 125/125 [00:13<00:00,  9.28it/s]\nЭпоха 5/125 [Valid]: 100%|██████████| 32/32 [00:00<00:00, 98.55it/s]\n",
          "output_type": "stream"
        },
        {
          "name": "stdout",
          "text": "Эпоха 5: Train Loss: 2.8304, Acc: 17.88% | Val Loss: 2.9133, Acc: 14.60%\n",
          "output_type": "stream"
        },
        {
          "name": "stderr",
          "text": "Эпоха 6/125 [Train]: 100%|██████████| 125/125 [00:13<00:00,  9.11it/s]\nЭпоха 6/125 [Valid]: 100%|██████████| 32/32 [00:00<00:00, 95.12it/s]\n",
          "output_type": "stream"
        },
        {
          "name": "stdout",
          "text": "Эпоха 6: Train Loss: 2.3432, Acc: 33.66% | Val Loss: 2.2028, Acc: 39.05%\n",
          "output_type": "stream"
        },
        {
          "name": "stderr",
          "text": "Эпоха 7/125 [Train]: 100%|██████████| 125/125 [00:13<00:00,  9.27it/s]\nЭпоха 7/125 [Valid]: 100%|██████████| 32/32 [00:00<00:00, 94.76it/s]\n",
          "output_type": "stream"
        },
        {
          "name": "stdout",
          "text": "Эпоха 7: Train Loss: 1.9808, Acc: 47.15% | Val Loss: 1.8520, Acc: 52.80%\n",
          "output_type": "stream"
        },
        {
          "name": "stderr",
          "text": "Эпоха 8/125 [Train]: 100%|██████████| 125/125 [00:13<00:00,  9.30it/s]\nЭпоха 8/125 [Valid]: 100%|██████████| 32/32 [00:00<00:00, 97.39it/s]\n",
          "output_type": "stream"
        },
        {
          "name": "stdout",
          "text": "Эпоха 8: Train Loss: 1.7599, Acc: 55.84% | Val Loss: 1.5740, Acc: 62.67%\n",
          "output_type": "stream"
        },
        {
          "name": "stderr",
          "text": "Эпоха 9/125 [Train]: 100%|██████████| 125/125 [00:13<00:00,  9.21it/s]\nЭпоха 9/125 [Valid]: 100%|██████████| 32/32 [00:00<00:00, 94.72it/s]\n",
          "output_type": "stream"
        },
        {
          "name": "stdout",
          "text": "Эпоха 9: Train Loss: 1.6001, Acc: 62.96% | Val Loss: 1.4345, Acc: 69.05%\n",
          "output_type": "stream"
        },
        {
          "name": "stderr",
          "text": "Эпоха 10/125 [Train]: 100%|██████████| 125/125 [00:13<00:00,  9.30it/s]\nЭпоха 10/125 [Valid]: 100%|██████████| 32/32 [00:00<00:00, 98.44it/s]\n",
          "output_type": "stream"
        },
        {
          "name": "stdout",
          "text": "Эпоха 10: Train Loss: 1.4952, Acc: 67.28% | Val Loss: 1.2884, Acc: 75.88%\n",
          "output_type": "stream"
        },
        {
          "name": "stderr",
          "text": "Эпоха 11/125 [Train]: 100%|██████████| 125/125 [00:13<00:00,  9.24it/s]\nЭпоха 11/125 [Valid]: 100%|██████████| 32/32 [00:00<00:00, 98.70it/s]\n",
          "output_type": "stream"
        },
        {
          "name": "stdout",
          "text": "Эпоха 11: Train Loss: 1.3955, Acc: 71.85% | Val Loss: 1.4173, Acc: 69.35%\n",
          "output_type": "stream"
        },
        {
          "name": "stderr",
          "text": "Эпоха 12/125 [Train]: 100%|██████████| 125/125 [00:13<00:00,  9.23it/s]\nЭпоха 12/125 [Valid]: 100%|██████████| 32/32 [00:00<00:00, 95.60it/s]\n",
          "output_type": "stream"
        },
        {
          "name": "stdout",
          "text": "Эпоха 12: Train Loss: 1.3304, Acc: 74.32% | Val Loss: 1.1983, Acc: 79.95%\n",
          "output_type": "stream"
        },
        {
          "name": "stderr",
          "text": "Эпоха 13/125 [Train]: 100%|██████████| 125/125 [00:13<00:00,  9.24it/s]\nЭпоха 13/125 [Valid]: 100%|██████████| 32/32 [00:00<00:00, 97.97it/s]\n",
          "output_type": "stream"
        },
        {
          "name": "stdout",
          "text": "Эпоха 13: Train Loss: 1.2631, Acc: 77.53% | Val Loss: 1.2306, Acc: 77.53%\n",
          "output_type": "stream"
        },
        {
          "name": "stderr",
          "text": "Эпоха 14/125 [Train]: 100%|██████████| 125/125 [00:13<00:00,  9.46it/s]\nЭпоха 14/125 [Valid]: 100%|██████████| 32/32 [00:00<00:00, 100.11it/s]\n",
          "output_type": "stream"
        },
        {
          "name": "stdout",
          "text": "Эпоха 14: Train Loss: 1.2201, Acc: 78.78% | Val Loss: 1.0889, Acc: 82.65%\n",
          "output_type": "stream"
        },
        {
          "name": "stderr",
          "text": "Эпоха 15/125 [Train]: 100%|██████████| 125/125 [00:13<00:00,  9.47it/s]\nЭпоха 15/125 [Valid]: 100%|██████████| 32/32 [00:00<00:00, 100.06it/s]\n",
          "output_type": "stream"
        },
        {
          "name": "stdout",
          "text": "Эпоха 15: Train Loss: 1.1891, Acc: 80.12% | Val Loss: 1.0138, Acc: 85.97%\n",
          "output_type": "stream"
        },
        {
          "name": "stderr",
          "text": "Эпоха 16/125 [Train]: 100%|██████████| 125/125 [00:13<00:00,  9.24it/s]\nЭпоха 16/125 [Valid]: 100%|██████████| 32/32 [00:00<00:00, 98.01it/s]\n",
          "output_type": "stream"
        },
        {
          "name": "stdout",
          "text": "Эпоха 16: Train Loss: 1.1436, Acc: 81.87% | Val Loss: 1.0013, Acc: 86.08%\n",
          "output_type": "stream"
        },
        {
          "name": "stderr",
          "text": "Эпоха 17/125 [Train]: 100%|██████████| 125/125 [00:13<00:00,  9.44it/s]\nЭпоха 17/125 [Valid]: 100%|██████████| 32/32 [00:00<00:00, 100.16it/s]\n",
          "output_type": "stream"
        },
        {
          "name": "stdout",
          "text": "Эпоха 17: Train Loss: 1.1258, Acc: 82.88% | Val Loss: 1.0497, Acc: 84.30%\n",
          "output_type": "stream"
        },
        {
          "name": "stderr",
          "text": "Эпоха 18/125 [Train]: 100%|██████████| 125/125 [00:13<00:00,  9.37it/s]\nЭпоха 18/125 [Valid]: 100%|██████████| 32/32 [00:00<00:00, 99.46it/s]\n",
          "output_type": "stream"
        },
        {
          "name": "stdout",
          "text": "Эпоха 18: Train Loss: 1.1026, Acc: 83.47% | Val Loss: 1.0075, Acc: 85.92%\n",
          "output_type": "stream"
        },
        {
          "name": "stderr",
          "text": "Эпоха 19/125 [Train]: 100%|██████████| 125/125 [00:13<00:00,  9.33it/s]\nЭпоха 19/125 [Valid]: 100%|██████████| 32/32 [00:00<00:00, 97.17it/s]\n",
          "output_type": "stream"
        },
        {
          "name": "stdout",
          "text": "Эпоха 19: Train Loss: 1.0829, Acc: 84.11% | Val Loss: 1.0228, Acc: 85.67%\n",
          "output_type": "stream"
        },
        {
          "name": "stderr",
          "text": "Эпоха 20/125 [Train]: 100%|██████████| 125/125 [00:13<00:00,  9.28it/s]\nЭпоха 20/125 [Valid]: 100%|██████████| 32/32 [00:00<00:00, 100.26it/s]\n",
          "output_type": "stream"
        },
        {
          "name": "stdout",
          "text": "Эпоха 20: Train Loss: 1.0474, Acc: 85.57% | Val Loss: 0.9751, Acc: 86.80%\n",
          "output_type": "stream"
        },
        {
          "name": "stderr",
          "text": "Эпоха 21/125 [Train]: 100%|██████████| 125/125 [00:13<00:00,  9.44it/s]\nЭпоха 21/125 [Valid]: 100%|██████████| 32/32 [00:00<00:00, 100.17it/s]\n",
          "output_type": "stream"
        },
        {
          "name": "stdout",
          "text": "Эпоха 21: Train Loss: 1.0415, Acc: 85.88% | Val Loss: 0.9348, Acc: 89.22%\n",
          "output_type": "stream"
        },
        {
          "name": "stderr",
          "text": "Эпоха 22/125 [Train]: 100%|██████████| 125/125 [00:13<00:00,  9.42it/s]\nЭпоха 22/125 [Valid]: 100%|██████████| 32/32 [00:00<00:00, 96.86it/s]\n",
          "output_type": "stream"
        },
        {
          "name": "stdout",
          "text": "Эпоха 22: Train Loss: 1.0301, Acc: 85.75% | Val Loss: 0.9863, Acc: 86.70%\n",
          "output_type": "stream"
        },
        {
          "name": "stderr",
          "text": "Эпоха 23/125 [Train]: 100%|██████████| 125/125 [00:13<00:00,  9.37it/s]\nЭпоха 23/125 [Valid]: 100%|██████████| 32/32 [00:00<00:00, 99.89it/s]\n",
          "output_type": "stream"
        },
        {
          "name": "stdout",
          "text": "Эпоха 23: Train Loss: 1.0181, Acc: 86.75% | Val Loss: 0.9095, Acc: 89.83%\n",
          "output_type": "stream"
        },
        {
          "name": "stderr",
          "text": "Эпоха 24/125 [Train]: 100%|██████████| 125/125 [00:13<00:00,  9.42it/s]\nЭпоха 24/125 [Valid]: 100%|██████████| 32/32 [00:00<00:00, 99.54it/s]\n",
          "output_type": "stream"
        },
        {
          "name": "stdout",
          "text": "Эпоха 24: Train Loss: 0.9992, Acc: 87.32% | Val Loss: 0.9675, Acc: 87.72%\n",
          "output_type": "stream"
        },
        {
          "name": "stderr",
          "text": "Эпоха 25/125 [Train]: 100%|██████████| 125/125 [00:13<00:00,  9.40it/s]\nЭпоха 25/125 [Valid]: 100%|██████████| 32/32 [00:00<00:00, 98.76it/s]\n",
          "output_type": "stream"
        },
        {
          "name": "stdout",
          "text": "Эпоха 25: Train Loss: 0.9913, Acc: 87.71% | Val Loss: 0.8881, Acc: 90.62%\n",
          "output_type": "stream"
        },
        {
          "name": "stderr",
          "text": "Эпоха 26/125 [Train]: 100%|██████████| 125/125 [00:13<00:00,  9.32it/s]\nЭпоха 26/125 [Valid]: 100%|██████████| 32/32 [00:00<00:00, 97.43it/s]\n",
          "output_type": "stream"
        },
        {
          "name": "stdout",
          "text": "Эпоха 26: Train Loss: 0.9823, Acc: 87.81% | Val Loss: 0.9382, Acc: 88.30%\n",
          "output_type": "stream"
        },
        {
          "name": "stderr",
          "text": "Эпоха 27/125 [Train]: 100%|██████████| 125/125 [00:13<00:00,  9.33it/s]\nЭпоха 27/125 [Valid]: 100%|██████████| 32/32 [00:00<00:00, 99.35it/s]\n",
          "output_type": "stream"
        },
        {
          "name": "stdout",
          "text": "Эпоха 27: Train Loss: 0.9698, Acc: 88.37% | Val Loss: 0.9129, Acc: 89.35%\n",
          "output_type": "stream"
        },
        {
          "name": "stderr",
          "text": "Эпоха 28/125 [Train]: 100%|██████████| 125/125 [00:13<00:00,  9.40it/s]\nЭпоха 28/125 [Valid]: 100%|██████████| 32/32 [00:00<00:00, 100.06it/s]\n",
          "output_type": "stream"
        },
        {
          "name": "stdout",
          "text": "Эпоха 28: Train Loss: 0.9692, Acc: 88.44% | Val Loss: 0.9421, Acc: 88.88%\n",
          "output_type": "stream"
        },
        {
          "name": "stderr",
          "text": "Эпоха 29/125 [Train]: 100%|██████████| 125/125 [00:13<00:00,  9.37it/s]\nЭпоха 29/125 [Valid]: 100%|██████████| 32/32 [00:00<00:00, 98.07it/s]\n",
          "output_type": "stream"
        },
        {
          "name": "stdout",
          "text": "Эпоха 29: Train Loss: 0.9513, Acc: 89.28% | Val Loss: 0.9555, Acc: 87.92%\n",
          "output_type": "stream"
        },
        {
          "name": "stderr",
          "text": "Эпоха 30/125 [Train]: 100%|██████████| 125/125 [00:13<00:00,  9.36it/s]\nЭпоха 30/125 [Valid]: 100%|██████████| 32/32 [00:00<00:00, 100.31it/s]\n",
          "output_type": "stream"
        },
        {
          "name": "stdout",
          "text": "Эпоха 30: Train Loss: 0.9448, Acc: 89.51% | Val Loss: 0.9031, Acc: 89.83%\n",
          "output_type": "stream"
        },
        {
          "name": "stderr",
          "text": "Эпоха 31/125 [Train]: 100%|██████████| 125/125 [00:13<00:00,  9.48it/s]\nЭпоха 31/125 [Valid]: 100%|██████████| 32/32 [00:00<00:00, 97.92it/s]\n",
          "output_type": "stream"
        },
        {
          "name": "stdout",
          "text": "Эпоха 31: Train Loss: 0.9452, Acc: 89.19% | Val Loss: 0.9218, Acc: 89.45%\n",
          "output_type": "stream"
        },
        {
          "name": "stderr",
          "text": "Эпоха 32/125 [Train]: 100%|██████████| 125/125 [00:13<00:00,  9.43it/s]\nЭпоха 32/125 [Valid]: 100%|██████████| 32/32 [00:00<00:00, 100.09it/s]\n",
          "output_type": "stream"
        },
        {
          "name": "stdout",
          "text": "Эпоха 32: Train Loss: 0.9345, Acc: 89.71% | Val Loss: 0.9138, Acc: 89.33%\n",
          "output_type": "stream"
        },
        {
          "name": "stderr",
          "text": "Эпоха 33/125 [Train]: 100%|██████████| 125/125 [00:13<00:00,  9.34it/s]\nЭпоха 33/125 [Valid]: 100%|██████████| 32/32 [00:00<00:00, 98.70it/s]\n",
          "output_type": "stream"
        },
        {
          "name": "stdout",
          "text": "Эпоха 33: Train Loss: 0.8809, Acc: 91.68% | Val Loss: 0.8021, Acc: 93.62%\n",
          "output_type": "stream"
        },
        {
          "name": "stderr",
          "text": "Эпоха 34/125 [Train]: 100%|██████████| 125/125 [00:13<00:00,  9.39it/s]\nЭпоха 34/125 [Valid]: 100%|██████████| 32/32 [00:00<00:00, 99.95it/s]\n",
          "output_type": "stream"
        },
        {
          "name": "stdout",
          "text": "Эпоха 34: Train Loss: 0.8673, Acc: 92.01% | Val Loss: 0.8305, Acc: 92.50%\n",
          "output_type": "stream"
        },
        {
          "name": "stderr",
          "text": "Эпоха 35/125 [Train]: 100%|██████████| 125/125 [00:13<00:00,  9.46it/s]\nЭпоха 35/125 [Valid]: 100%|██████████| 32/32 [00:00<00:00, 100.38it/s]\n",
          "output_type": "stream"
        },
        {
          "name": "stdout",
          "text": "Эпоха 35: Train Loss: 0.8555, Acc: 92.65% | Val Loss: 0.8286, Acc: 92.70%\n",
          "output_type": "stream"
        },
        {
          "name": "stderr",
          "text": "Эпоха 36/125 [Train]: 100%|██████████| 125/125 [00:13<00:00,  9.45it/s]\nЭпоха 36/125 [Valid]: 100%|██████████| 32/32 [00:00<00:00, 95.74it/s]\n",
          "output_type": "stream"
        },
        {
          "name": "stdout",
          "text": "Эпоха 36: Train Loss: 0.8494, Acc: 92.72% | Val Loss: 0.8437, Acc: 92.05%\n",
          "output_type": "stream"
        },
        {
          "name": "stderr",
          "text": "Эпоха 37/125 [Train]: 100%|██████████| 125/125 [00:13<00:00,  9.46it/s]\nЭпоха 37/125 [Valid]: 100%|██████████| 32/32 [00:00<00:00, 99.79it/s]\n",
          "output_type": "stream"
        },
        {
          "name": "stdout",
          "text": "Эпоха 37: Train Loss: 0.8524, Acc: 92.75% | Val Loss: 0.8457, Acc: 91.95%\n",
          "output_type": "stream"
        },
        {
          "name": "stderr",
          "text": "Эпоха 38/125 [Train]: 100%|██████████| 125/125 [00:13<00:00,  9.46it/s]\nЭпоха 38/125 [Valid]: 100%|██████████| 32/32 [00:00<00:00, 100.23it/s]\n",
          "output_type": "stream"
        },
        {
          "name": "stdout",
          "text": "Эпоха 38: Train Loss: 0.8449, Acc: 92.96% | Val Loss: 0.8316, Acc: 92.75%\n",
          "output_type": "stream"
        },
        {
          "name": "stderr",
          "text": "Эпоха 39/125 [Train]: 100%|██████████| 125/125 [00:13<00:00,  9.41it/s]\nЭпоха 39/125 [Valid]: 100%|██████████| 32/32 [00:00<00:00, 100.02it/s]\n",
          "output_type": "stream"
        },
        {
          "name": "stdout",
          "text": "Эпоха 39: Train Loss: 0.8422, Acc: 93.13% | Val Loss: 0.8253, Acc: 93.03%\n",
          "output_type": "stream"
        },
        {
          "name": "stderr",
          "text": "Эпоха 40/125 [Train]: 100%|██████████| 125/125 [00:13<00:00,  9.34it/s]\nЭпоха 40/125 [Valid]: 100%|██████████| 32/32 [00:00<00:00, 97.41it/s]\n",
          "output_type": "stream"
        },
        {
          "name": "stdout",
          "text": "Эпоха 40: Train Loss: 0.8386, Acc: 93.06% | Val Loss: 0.8361, Acc: 92.33%\n",
          "output_type": "stream"
        },
        {
          "name": "stderr",
          "text": "Эпоха 41/125 [Train]: 100%|██████████| 125/125 [00:13<00:00,  9.42it/s]\nЭпоха 41/125 [Valid]: 100%|██████████| 32/32 [00:00<00:00, 100.30it/s]\n",
          "output_type": "stream"
        },
        {
          "name": "stdout",
          "text": "Эпоха 41: Train Loss: 0.8117, Acc: 94.07% | Val Loss: 0.7950, Acc: 93.83%\n",
          "output_type": "stream"
        },
        {
          "name": "stderr",
          "text": "Эпоха 42/125 [Train]: 100%|██████████| 125/125 [00:13<00:00,  9.42it/s]\nЭпоха 42/125 [Valid]: 100%|██████████| 32/32 [00:00<00:00, 96.43it/s]\n",
          "output_type": "stream"
        },
        {
          "name": "stdout",
          "text": "Эпоха 42: Train Loss: 0.8053, Acc: 94.33% | Val Loss: 0.8011, Acc: 93.58%\n",
          "output_type": "stream"
        },
        {
          "name": "stderr",
          "text": "Эпоха 43/125 [Train]: 100%|██████████| 125/125 [00:13<00:00,  9.42it/s]\nЭпоха 43/125 [Valid]: 100%|██████████| 32/32 [00:00<00:00, 95.66it/s]\n",
          "output_type": "stream"
        },
        {
          "name": "stdout",
          "text": "Эпоха 43: Train Loss: 0.7994, Acc: 94.66% | Val Loss: 0.7955, Acc: 94.05%\n",
          "output_type": "stream"
        },
        {
          "name": "stderr",
          "text": "Эпоха 44/125 [Train]: 100%|██████████| 125/125 [00:13<00:00,  9.51it/s]\nЭпоха 44/125 [Valid]: 100%|██████████| 32/32 [00:00<00:00, 100.41it/s]\n",
          "output_type": "stream"
        },
        {
          "name": "stdout",
          "text": "Эпоха 44: Train Loss: 0.7926, Acc: 94.81% | Val Loss: 0.8048, Acc: 93.50%\n",
          "output_type": "stream"
        },
        {
          "name": "stderr",
          "text": "Эпоха 45/125 [Train]: 100%|██████████| 125/125 [00:13<00:00,  9.55it/s]\nЭпоха 45/125 [Valid]: 100%|██████████| 32/32 [00:00<00:00, 99.97it/s]\n",
          "output_type": "stream"
        },
        {
          "name": "stdout",
          "text": "Эпоха 45: Train Loss: 0.7917, Acc: 94.98% | Val Loss: 0.7978, Acc: 93.67%\n",
          "output_type": "stream"
        },
        {
          "name": "stderr",
          "text": "Эпоха 46/125 [Train]: 100%|██████████| 125/125 [00:13<00:00,  9.54it/s]\nЭпоха 46/125 [Valid]: 100%|██████████| 32/32 [00:00<00:00, 100.67it/s]\n",
          "output_type": "stream"
        },
        {
          "name": "stdout",
          "text": "Эпоха 46: Train Loss: 0.7877, Acc: 94.94% | Val Loss: 0.7909, Acc: 94.30%\n",
          "output_type": "stream"
        },
        {
          "name": "stderr",
          "text": "Эпоха 47/125 [Train]: 100%|██████████| 125/125 [00:13<00:00,  9.44it/s]\nЭпоха 47/125 [Valid]: 100%|██████████| 32/32 [00:00<00:00, 97.35it/s]\n",
          "output_type": "stream"
        },
        {
          "name": "stdout",
          "text": "Эпоха 47: Train Loss: 0.7845, Acc: 95.06% | Val Loss: 0.7954, Acc: 93.83%\n",
          "output_type": "stream"
        },
        {
          "name": "stderr",
          "text": "Эпоха 48/125 [Train]: 100%|██████████| 125/125 [00:13<00:00,  9.52it/s]\nЭпоха 48/125 [Valid]: 100%|██████████| 32/32 [00:00<00:00, 100.33it/s]\n",
          "output_type": "stream"
        },
        {
          "name": "stdout",
          "text": "Эпоха 48: Train Loss: 0.7865, Acc: 94.97% | Val Loss: 0.8068, Acc: 93.65%\n",
          "output_type": "stream"
        },
        {
          "name": "stderr",
          "text": "Эпоха 49/125 [Train]: 100%|██████████| 125/125 [00:13<00:00,  9.57it/s]\nЭпоха 49/125 [Valid]: 100%|██████████| 32/32 [00:00<00:00, 100.02it/s]\n",
          "output_type": "stream"
        },
        {
          "name": "stdout",
          "text": "Эпоха 49: Train Loss: 0.7810, Acc: 95.22% | Val Loss: 0.7969, Acc: 93.75%\n",
          "output_type": "stream"
        },
        {
          "name": "stderr",
          "text": "Эпоха 50/125 [Train]: 100%|██████████| 125/125 [00:13<00:00,  9.48it/s]\nЭпоха 50/125 [Valid]: 100%|██████████| 32/32 [00:00<00:00, 98.99it/s]\n",
          "output_type": "stream"
        },
        {
          "name": "stdout",
          "text": "Эпоха 50: Train Loss: 0.7811, Acc: 95.26% | Val Loss: 0.7904, Acc: 94.22%\n",
          "output_type": "stream"
        },
        {
          "name": "stderr",
          "text": "Эпоха 51/125 [Train]: 100%|██████████| 125/125 [00:13<00:00,  9.50it/s]\nЭпоха 51/125 [Valid]: 100%|██████████| 32/32 [00:00<00:00, 100.35it/s]\n",
          "output_type": "stream"
        },
        {
          "name": "stdout",
          "text": "Эпоха 51: Train Loss: 0.7777, Acc: 95.42% | Val Loss: 0.7938, Acc: 94.05%\n",
          "output_type": "stream"
        },
        {
          "name": "stderr",
          "text": "Эпоха 52/125 [Train]: 100%|██████████| 125/125 [00:13<00:00,  9.56it/s]\nЭпоха 52/125 [Valid]: 100%|██████████| 32/32 [00:00<00:00, 100.32it/s]\n",
          "output_type": "stream"
        },
        {
          "name": "stdout",
          "text": "Эпоха 52: Train Loss: 0.7805, Acc: 95.34% | Val Loss: 0.7919, Acc: 94.15%\n",
          "output_type": "stream"
        },
        {
          "name": "stderr",
          "text": "Эпоха 53/125 [Train]: 100%|██████████| 125/125 [00:13<00:00,  9.48it/s]\nЭпоха 53/125 [Valid]: 100%|██████████| 32/32 [00:00<00:00, 99.97it/s]\n",
          "output_type": "stream"
        },
        {
          "name": "stdout",
          "text": "Эпоха 53: Train Loss: 0.7789, Acc: 95.36% | Val Loss: 0.7865, Acc: 94.30%\n",
          "output_type": "stream"
        },
        {
          "name": "stderr",
          "text": "Эпоха 54/125 [Train]: 100%|██████████| 125/125 [00:13<00:00,  9.33it/s]\nЭпоха 54/125 [Valid]: 100%|██████████| 32/32 [00:00<00:00, 97.75it/s]\n",
          "output_type": "stream"
        },
        {
          "name": "stdout",
          "text": "Эпоха 54: Train Loss: 0.7765, Acc: 95.39% | Val Loss: 0.7908, Acc: 94.28%\n",
          "output_type": "stream"
        },
        {
          "name": "stderr",
          "text": "Эпоха 55/125 [Train]: 100%|██████████| 125/125 [00:13<00:00,  9.44it/s]\nЭпоха 55/125 [Valid]: 100%|██████████| 32/32 [00:00<00:00, 100.15it/s]\n",
          "output_type": "stream"
        },
        {
          "name": "stdout",
          "text": "Эпоха 55: Train Loss: 0.7780, Acc: 95.41% | Val Loss: 0.8001, Acc: 93.95%\n",
          "output_type": "stream"
        },
        {
          "name": "stderr",
          "text": "Эпоха 56/125 [Train]: 100%|██████████| 125/125 [00:13<00:00,  9.51it/s]\nЭпоха 56/125 [Valid]: 100%|██████████| 32/32 [00:00<00:00, 100.29it/s]\n",
          "output_type": "stream"
        },
        {
          "name": "stdout",
          "text": "Эпоха 56: Train Loss: 0.7723, Acc: 95.47% | Val Loss: 0.7907, Acc: 94.55%\n",
          "output_type": "stream"
        },
        {
          "name": "stderr",
          "text": "Эпоха 57/125 [Train]: 100%|██████████| 125/125 [00:13<00:00,  9.42it/s]\nЭпоха 57/125 [Valid]: 100%|██████████| 32/32 [00:00<00:00, 97.07it/s]\n",
          "output_type": "stream"
        },
        {
          "name": "stdout",
          "text": "Эпоха 57: Train Loss: 0.7707, Acc: 95.62% | Val Loss: 0.7913, Acc: 94.12%\n",
          "output_type": "stream"
        },
        {
          "name": "stderr",
          "text": "Эпоха 58/125 [Train]: 100%|██████████| 125/125 [00:13<00:00,  9.48it/s]\nЭпоха 58/125 [Valid]: 100%|██████████| 32/32 [00:00<00:00, 99.94it/s]\n",
          "output_type": "stream"
        },
        {
          "name": "stdout",
          "text": "Эпоха 58: Train Loss: 0.7692, Acc: 95.72% | Val Loss: 0.7979, Acc: 93.88%\n",
          "output_type": "stream"
        },
        {
          "name": "stderr",
          "text": "Эпоха 59/125 [Train]: 100%|██████████| 125/125 [00:13<00:00,  9.49it/s]\nЭпоха 59/125 [Valid]: 100%|██████████| 32/32 [00:00<00:00, 99.92it/s]\n",
          "output_type": "stream"
        },
        {
          "name": "stdout",
          "text": "Эпоха 59: Train Loss: 0.7642, Acc: 95.78% | Val Loss: 0.7887, Acc: 94.22%\n",
          "output_type": "stream"
        },
        {
          "name": "stderr",
          "text": "Эпоха 60/125 [Train]: 100%|██████████| 125/125 [00:13<00:00,  9.44it/s]\nЭпоха 60/125 [Valid]: 100%|██████████| 32/32 [00:00<00:00, 100.44it/s]\n",
          "output_type": "stream"
        },
        {
          "name": "stdout",
          "text": "Эпоха 60: Train Loss: 0.7620, Acc: 95.94% | Val Loss: 0.7956, Acc: 94.10%\n",
          "output_type": "stream"
        },
        {
          "name": "stderr",
          "text": "Эпоха 61/125 [Train]: 100%|██████████| 125/125 [00:13<00:00,  9.41it/s]\nЭпоха 61/125 [Valid]: 100%|██████████| 32/32 [00:00<00:00, 96.85it/s]\n",
          "output_type": "stream"
        },
        {
          "name": "stdout",
          "text": "Эпоха 61: Train Loss: 0.7528, Acc: 96.22% | Val Loss: 0.7811, Acc: 94.58%\n",
          "output_type": "stream"
        },
        {
          "name": "stderr",
          "text": "Эпоха 62/125 [Train]: 100%|██████████| 125/125 [00:13<00:00,  9.47it/s]\nЭпоха 62/125 [Valid]: 100%|██████████| 32/32 [00:00<00:00, 100.28it/s]\n",
          "output_type": "stream"
        },
        {
          "name": "stdout",
          "text": "Эпоха 62: Train Loss: 0.7534, Acc: 96.11% | Val Loss: 0.7835, Acc: 94.53%\n",
          "output_type": "stream"
        },
        {
          "name": "stderr",
          "text": "Эпоха 63/125 [Train]: 100%|██████████| 125/125 [00:13<00:00,  9.53it/s]\nЭпоха 63/125 [Valid]: 100%|██████████| 32/32 [00:00<00:00, 100.55it/s]\n",
          "output_type": "stream"
        },
        {
          "name": "stdout",
          "text": "Эпоха 63: Train Loss: 0.7511, Acc: 96.22% | Val Loss: 0.7772, Acc: 94.75%\n",
          "output_type": "stream"
        },
        {
          "name": "stderr",
          "text": "Эпоха 64/125 [Train]: 100%|██████████| 125/125 [00:13<00:00,  9.48it/s]\nЭпоха 64/125 [Valid]: 100%|██████████| 32/32 [00:00<00:00, 98.63it/s]\n",
          "output_type": "stream"
        },
        {
          "name": "stdout",
          "text": "Эпоха 64: Train Loss: 0.7454, Acc: 96.62% | Val Loss: 0.7740, Acc: 95.15%\n",
          "output_type": "stream"
        },
        {
          "name": "stderr",
          "text": "Эпоха 65/125 [Train]: 100%|██████████| 125/125 [00:13<00:00,  9.43it/s]\nЭпоха 65/125 [Valid]: 100%|██████████| 32/32 [00:00<00:00, 100.05it/s]\n",
          "output_type": "stream"
        },
        {
          "name": "stdout",
          "text": "Эпоха 65: Train Loss: 0.7461, Acc: 96.56% | Val Loss: 0.7752, Acc: 95.00%\n",
          "output_type": "stream"
        },
        {
          "name": "stderr",
          "text": "Эпоха 66/125 [Train]: 100%|██████████| 125/125 [00:13<00:00,  9.54it/s]\nЭпоха 66/125 [Valid]: 100%|██████████| 32/32 [00:00<00:00, 100.68it/s]\n",
          "output_type": "stream"
        },
        {
          "name": "stdout",
          "text": "Эпоха 66: Train Loss: 0.7445, Acc: 96.51% | Val Loss: 0.7722, Acc: 95.03%\n",
          "output_type": "stream"
        },
        {
          "name": "stderr",
          "text": "Эпоха 67/125 [Train]: 100%|██████████| 125/125 [00:13<00:00,  9.53it/s]\nЭпоха 67/125 [Valid]: 100%|██████████| 32/32 [00:00<00:00, 100.30it/s]\n",
          "output_type": "stream"
        },
        {
          "name": "stdout",
          "text": "Эпоха 67: Train Loss: 0.7463, Acc: 96.50% | Val Loss: 0.7735, Acc: 94.75%\n",
          "output_type": "stream"
        },
        {
          "name": "stderr",
          "text": "Эпоха 68/125 [Train]: 100%|██████████| 125/125 [00:13<00:00,  9.43it/s]\nЭпоха 68/125 [Valid]: 100%|██████████| 32/32 [00:00<00:00, 98.75it/s]\n",
          "output_type": "stream"
        },
        {
          "name": "stdout",
          "text": "Эпоха 68: Train Loss: 0.7404, Acc: 96.72% | Val Loss: 0.7808, Acc: 94.55%\n",
          "output_type": "stream"
        },
        {
          "name": "stderr",
          "text": "Эпоха 69/125 [Train]: 100%|██████████| 125/125 [00:13<00:00,  9.58it/s]\nЭпоха 69/125 [Valid]: 100%|██████████| 32/32 [00:00<00:00, 96.77it/s]\n",
          "output_type": "stream"
        },
        {
          "name": "stdout",
          "text": "Эпоха 69: Train Loss: 0.7390, Acc: 96.71% | Val Loss: 0.7843, Acc: 94.40%\n",
          "output_type": "stream"
        },
        {
          "name": "stderr",
          "text": "Эпоха 70/125 [Train]: 100%|██████████| 125/125 [00:13<00:00,  9.57it/s]\nЭпоха 70/125 [Valid]: 100%|██████████| 32/32 [00:00<00:00, 100.37it/s]\n",
          "output_type": "stream"
        },
        {
          "name": "stdout",
          "text": "Эпоха 70: Train Loss: 0.7431, Acc: 96.56% | Val Loss: 0.7719, Acc: 94.92%\n",
          "output_type": "stream"
        },
        {
          "name": "stderr",
          "text": "Эпоха 71/125 [Train]: 100%|██████████| 125/125 [00:13<00:00,  9.51it/s]\nЭпоха 71/125 [Valid]: 100%|██████████| 32/32 [00:00<00:00, 97.75it/s]\n",
          "output_type": "stream"
        },
        {
          "name": "stdout",
          "text": "Эпоха 71: Train Loss: 0.7436, Acc: 96.49% | Val Loss: 0.7736, Acc: 95.03%\n",
          "output_type": "stream"
        },
        {
          "name": "stderr",
          "text": "Эпоха 72/125 [Train]: 100%|██████████| 125/125 [00:13<00:00,  9.53it/s]\nЭпоха 72/125 [Valid]: 100%|██████████| 32/32 [00:00<00:00, 100.65it/s]\n",
          "output_type": "stream"
        },
        {
          "name": "stdout",
          "text": "Эпоха 72: Train Loss: 0.7384, Acc: 96.78% | Val Loss: 0.7784, Acc: 94.75%\n",
          "output_type": "stream"
        },
        {
          "name": "stderr",
          "text": "Эпоха 73/125 [Train]: 100%|██████████| 125/125 [00:13<00:00,  9.61it/s]\nЭпоха 73/125 [Valid]: 100%|██████████| 32/32 [00:00<00:00, 100.32it/s]\n",
          "output_type": "stream"
        },
        {
          "name": "stdout",
          "text": "Эпоха 73: Train Loss: 0.7346, Acc: 96.91% | Val Loss: 0.7721, Acc: 94.80%\n",
          "output_type": "stream"
        },
        {
          "name": "stderr",
          "text": "Эпоха 74/125 [Train]: 100%|██████████| 125/125 [00:13<00:00,  9.46it/s]\nЭпоха 74/125 [Valid]: 100%|██████████| 32/32 [00:00<00:00, 100.64it/s]\n",
          "output_type": "stream"
        },
        {
          "name": "stdout",
          "text": "Эпоха 74: Train Loss: 0.7403, Acc: 96.74% | Val Loss: 0.7789, Acc: 94.78%\n",
          "output_type": "stream"
        },
        {
          "name": "stderr",
          "text": "Эпоха 75/125 [Train]: 100%|██████████| 125/125 [00:13<00:00,  9.44it/s]\nЭпоха 75/125 [Valid]: 100%|██████████| 32/32 [00:00<00:00, 97.98it/s]\n",
          "output_type": "stream"
        },
        {
          "name": "stdout",
          "text": "Эпоха 75: Train Loss: 0.7380, Acc: 96.83% | Val Loss: 0.7763, Acc: 94.90%\n",
          "output_type": "stream"
        },
        {
          "name": "stderr",
          "text": "Эпоха 76/125 [Train]: 100%|██████████| 125/125 [00:13<00:00,  9.54it/s]\nЭпоха 76/125 [Valid]: 100%|██████████| 32/32 [00:00<00:00, 100.45it/s]\n",
          "output_type": "stream"
        },
        {
          "name": "stdout",
          "text": "Эпоха 76: Train Loss: 0.7375, Acc: 96.69% | Val Loss: 0.7751, Acc: 94.97%\n",
          "output_type": "stream"
        },
        {
          "name": "stderr",
          "text": "Эпоха 77/125 [Train]: 100%|██████████| 125/125 [00:13<00:00,  9.49it/s]\nЭпоха 77/125 [Valid]: 100%|██████████| 32/32 [00:00<00:00, 100.17it/s]\n",
          "output_type": "stream"
        },
        {
          "name": "stdout",
          "text": "Эпоха 77: Train Loss: 0.7355, Acc: 96.83% | Val Loss: 0.7712, Acc: 95.03%\n",
          "output_type": "stream"
        },
        {
          "name": "stderr",
          "text": "Эпоха 78/125 [Train]: 100%|██████████| 125/125 [00:13<00:00,  9.44it/s]\nЭпоха 78/125 [Valid]: 100%|██████████| 32/32 [00:00<00:00, 98.40it/s]\n",
          "output_type": "stream"
        },
        {
          "name": "stdout",
          "text": "Эпоха 78: Train Loss: 0.7315, Acc: 97.04% | Val Loss: 0.7825, Acc: 94.62%\n",
          "output_type": "stream"
        },
        {
          "name": "stderr",
          "text": "Эпоха 79/125 [Train]: 100%|██████████| 125/125 [00:13<00:00,  9.51it/s]\nЭпоха 79/125 [Valid]: 100%|██████████| 32/32 [00:00<00:00, 98.46it/s]\n",
          "output_type": "stream"
        },
        {
          "name": "stdout",
          "text": "Эпоха 79: Train Loss: 0.7375, Acc: 96.79% | Val Loss: 0.7781, Acc: 94.80%\n",
          "output_type": "stream"
        },
        {
          "name": "stderr",
          "text": "Эпоха 80/125 [Train]: 100%|██████████| 125/125 [00:13<00:00,  9.58it/s]\nЭпоха 80/125 [Valid]: 100%|██████████| 32/32 [00:00<00:00, 100.81it/s]\n",
          "output_type": "stream"
        },
        {
          "name": "stdout",
          "text": "Эпоха 80: Train Loss: 0.7294, Acc: 97.11% | Val Loss: 0.7707, Acc: 95.10%\n",
          "output_type": "stream"
        },
        {
          "name": "stderr",
          "text": "Эпоха 81/125 [Train]: 100%|██████████| 125/125 [00:13<00:00,  9.51it/s]\nЭпоха 81/125 [Valid]: 100%|██████████| 32/32 [00:00<00:00, 100.29it/s]\n",
          "output_type": "stream"
        },
        {
          "name": "stdout",
          "text": "Эпоха 81: Train Loss: 0.7338, Acc: 96.84% | Val Loss: 0.7701, Acc: 95.15%\n",
          "output_type": "stream"
        },
        {
          "name": "stderr",
          "text": "Эпоха 82/125 [Train]: 100%|██████████| 125/125 [00:13<00:00,  9.40it/s]\nЭпоха 82/125 [Valid]: 100%|██████████| 32/32 [00:00<00:00, 98.43it/s]\n",
          "output_type": "stream"
        },
        {
          "name": "stdout",
          "text": "Эпоха 82: Train Loss: 0.7299, Acc: 97.11% | Val Loss: 0.7783, Acc: 94.50%\n",
          "output_type": "stream"
        },
        {
          "name": "stderr",
          "text": "Эпоха 83/125 [Train]: 100%|██████████| 125/125 [00:13<00:00,  9.54it/s]\nЭпоха 83/125 [Valid]: 100%|██████████| 32/32 [00:00<00:00, 100.40it/s]\n",
          "output_type": "stream"
        },
        {
          "name": "stdout",
          "text": "Эпоха 83: Train Loss: 0.7301, Acc: 97.03% | Val Loss: 0.7681, Acc: 94.95%\n",
          "output_type": "stream"
        },
        {
          "name": "stderr",
          "text": "Эпоха 84/125 [Train]: 100%|██████████| 125/125 [00:13<00:00,  9.53it/s]\nЭпоха 84/125 [Valid]: 100%|██████████| 32/32 [00:00<00:00, 100.64it/s]\n",
          "output_type": "stream"
        },
        {
          "name": "stdout",
          "text": "Эпоха 84: Train Loss: 0.7342, Acc: 96.83% | Val Loss: 0.7727, Acc: 94.78%\n",
          "output_type": "stream"
        },
        {
          "name": "stderr",
          "text": "Эпоха 85/125 [Train]: 100%|██████████| 125/125 [00:13<00:00,  9.50it/s]\nЭпоха 85/125 [Valid]: 100%|██████████| 32/32 [00:00<00:00, 96.62it/s]\n",
          "output_type": "stream"
        },
        {
          "name": "stdout",
          "text": "Эпоха 85: Train Loss: 0.7309, Acc: 96.88% | Val Loss: 0.7740, Acc: 95.00%\n",
          "output_type": "stream"
        },
        {
          "name": "stderr",
          "text": "Эпоха 86/125 [Train]: 100%|██████████| 125/125 [00:13<00:00,  9.52it/s]\nЭпоха 86/125 [Valid]: 100%|██████████| 32/32 [00:00<00:00, 100.77it/s]\n",
          "output_type": "stream"
        },
        {
          "name": "stdout",
          "text": "Эпоха 86: Train Loss: 0.7301, Acc: 97.10% | Val Loss: 0.7758, Acc: 95.00%\n",
          "output_type": "stream"
        },
        {
          "name": "stderr",
          "text": "Эпоха 87/125 [Train]: 100%|██████████| 125/125 [00:13<00:00,  9.56it/s]\nЭпоха 87/125 [Valid]: 100%|██████████| 32/32 [00:00<00:00, 100.45it/s]\n",
          "output_type": "stream"
        },
        {
          "name": "stdout",
          "text": "Эпоха 87: Train Loss: 0.7235, Acc: 97.38% | Val Loss: 0.7796, Acc: 94.90%\n",
          "output_type": "stream"
        },
        {
          "name": "stderr",
          "text": "Эпоха 88/125 [Train]: 100%|██████████| 125/125 [00:13<00:00,  9.43it/s]\nЭпоха 88/125 [Valid]: 100%|██████████| 32/32 [00:00<00:00, 100.70it/s]\n",
          "output_type": "stream"
        },
        {
          "name": "stdout",
          "text": "Эпоха 88: Train Loss: 0.7260, Acc: 97.26% | Val Loss: 0.7751, Acc: 94.83%\n",
          "output_type": "stream"
        },
        {
          "name": "stderr",
          "text": "Эпоха 89/125 [Train]: 100%|██████████| 125/125 [00:13<00:00,  9.45it/s]\nЭпоха 89/125 [Valid]: 100%|██████████| 32/32 [00:00<00:00, 98.56it/s]\n",
          "output_type": "stream"
        },
        {
          "name": "stdout",
          "text": "Эпоха 89: Train Loss: 0.7290, Acc: 97.18% | Val Loss: 0.7768, Acc: 94.65%\n",
          "output_type": "stream"
        },
        {
          "name": "stderr",
          "text": "Эпоха 90/125 [Train]: 100%|██████████| 125/125 [00:13<00:00,  9.56it/s]\nЭпоха 90/125 [Valid]: 100%|██████████| 32/32 [00:00<00:00, 100.43it/s]\n",
          "output_type": "stream"
        },
        {
          "name": "stdout",
          "text": "Эпоха 90: Train Loss: 0.7231, Acc: 97.29% | Val Loss: 0.7801, Acc: 94.58%\n",
          "output_type": "stream"
        },
        {
          "name": "stderr",
          "text": "Эпоха 91/125 [Train]: 100%|██████████| 125/125 [00:13<00:00,  9.48it/s]\nЭпоха 91/125 [Valid]: 100%|██████████| 32/32 [00:00<00:00, 100.08it/s]\n",
          "output_type": "stream"
        },
        {
          "name": "stdout",
          "text": "Эпоха 91: Train Loss: 0.7200, Acc: 97.41% | Val Loss: 0.7726, Acc: 94.90%\n",
          "output_type": "stream"
        },
        {
          "name": "stderr",
          "text": "Эпоха 92/125 [Train]: 100%|██████████| 125/125 [00:13<00:00,  9.51it/s]\nЭпоха 92/125 [Valid]: 100%|██████████| 32/32 [00:00<00:00, 97.56it/s]\n",
          "output_type": "stream"
        },
        {
          "name": "stdout",
          "text": "Эпоха 92: Train Loss: 0.7194, Acc: 97.50% | Val Loss: 0.7753, Acc: 94.72%\n",
          "output_type": "stream"
        },
        {
          "name": "stderr",
          "text": "Эпоха 93/125 [Train]: 100%|██████████| 125/125 [00:13<00:00,  9.51it/s]\nЭпоха 93/125 [Valid]: 100%|██████████| 32/32 [00:00<00:00, 99.95it/s]\n",
          "output_type": "stream"
        },
        {
          "name": "stdout",
          "text": "Эпоха 93: Train Loss: 0.7169, Acc: 97.55% | Val Loss: 0.7735, Acc: 94.95%\n",
          "output_type": "stream"
        },
        {
          "name": "stderr",
          "text": "Эпоха 94/125 [Train]: 100%|██████████| 125/125 [00:13<00:00,  9.49it/s]\nЭпоха 94/125 [Valid]: 100%|██████████| 32/32 [00:00<00:00, 100.21it/s]\n",
          "output_type": "stream"
        },
        {
          "name": "stdout",
          "text": "Эпоха 94: Train Loss: 0.7128, Acc: 97.69% | Val Loss: 0.7747, Acc: 94.90%\n",
          "output_type": "stream"
        },
        {
          "name": "stderr",
          "text": "Эпоха 95/125 [Train]: 100%|██████████| 125/125 [00:13<00:00,  9.40it/s]\nЭпоха 95/125 [Valid]: 100%|██████████| 32/32 [00:00<00:00, 94.53it/s]\n",
          "output_type": "stream"
        },
        {
          "name": "stdout",
          "text": "Эпоха 95: Train Loss: 0.7176, Acc: 97.44% | Val Loss: 0.7756, Acc: 94.80%\n",
          "output_type": "stream"
        },
        {
          "name": "stderr",
          "text": "Эпоха 96/125 [Train]: 100%|██████████| 125/125 [00:13<00:00,  9.23it/s]\nЭпоха 96/125 [Valid]: 100%|██████████| 32/32 [00:00<00:00, 96.05it/s]\n",
          "output_type": "stream"
        },
        {
          "name": "stdout",
          "text": "Эпоха 96: Train Loss: 0.7172, Acc: 97.47% | Val Loss: 0.7743, Acc: 94.80%\n",
          "output_type": "stream"
        },
        {
          "name": "stderr",
          "text": "Эпоха 97/125 [Train]: 100%|██████████| 125/125 [00:13<00:00,  9.39it/s]\nЭпоха 97/125 [Valid]: 100%|██████████| 32/32 [00:00<00:00, 99.72it/s]\n",
          "output_type": "stream"
        },
        {
          "name": "stdout",
          "text": "Эпоха 97: Train Loss: 0.7158, Acc: 97.63% | Val Loss: 0.7793, Acc: 94.70%\n",
          "output_type": "stream"
        },
        {
          "name": "stderr",
          "text": "Эпоха 98/125 [Train]: 100%|██████████| 125/125 [00:13<00:00,  9.37it/s]\nЭпоха 98/125 [Valid]: 100%|██████████| 32/32 [00:00<00:00, 99.12it/s]\n",
          "output_type": "stream"
        },
        {
          "name": "stdout",
          "text": "Эпоха 98: Train Loss: 0.7139, Acc: 97.57% | Val Loss: 0.7741, Acc: 94.65%\n",
          "output_type": "stream"
        },
        {
          "name": "stderr",
          "text": "Эпоха 99/125 [Train]: 100%|██████████| 125/125 [00:13<00:00,  9.34it/s]\nЭпоха 99/125 [Valid]: 100%|██████████| 32/32 [00:00<00:00, 95.73it/s]\n",
          "output_type": "stream"
        },
        {
          "name": "stdout",
          "text": "Эпоха 99: Train Loss: 0.7131, Acc: 97.64% | Val Loss: 0.7757, Acc: 94.78%\n",
          "output_type": "stream"
        },
        {
          "name": "stderr",
          "text": "Эпоха 100/125 [Train]: 100%|██████████| 125/125 [00:13<00:00,  9.40it/s]\nЭпоха 100/125 [Valid]: 100%|██████████| 32/32 [00:00<00:00, 99.29it/s]\n",
          "output_type": "stream"
        },
        {
          "name": "stdout",
          "text": "Эпоха 100: Train Loss: 0.7086, Acc: 97.82% | Val Loss: 0.7696, Acc: 95.12%\n",
          "output_type": "stream"
        },
        {
          "name": "stderr",
          "text": "Эпоха 101/125 [Train]: 100%|██████████| 125/125 [00:13<00:00,  9.42it/s]\nЭпоха 101/125 [Valid]: 100%|██████████| 32/32 [00:00<00:00, 99.60it/s]\n",
          "output_type": "stream"
        },
        {
          "name": "stdout",
          "text": "Эпоха 101: Train Loss: 0.7069, Acc: 98.01% | Val Loss: 0.7726, Acc: 95.03%\n",
          "output_type": "stream"
        },
        {
          "name": "stderr",
          "text": "Эпоха 102/125 [Train]: 100%|██████████| 125/125 [00:13<00:00,  9.33it/s]\nЭпоха 102/125 [Valid]: 100%|██████████| 32/32 [00:00<00:00, 96.15it/s]\n",
          "output_type": "stream"
        },
        {
          "name": "stdout",
          "text": "Эпоха 102: Train Loss: 0.7103, Acc: 97.79% | Val Loss: 0.7734, Acc: 94.85%\n",
          "output_type": "stream"
        },
        {
          "name": "stderr",
          "text": "Эпоха 103/125 [Train]: 100%|██████████| 125/125 [00:13<00:00,  9.44it/s]\nЭпоха 103/125 [Valid]: 100%|██████████| 32/32 [00:00<00:00, 99.29it/s]\n",
          "output_type": "stream"
        },
        {
          "name": "stdout",
          "text": "Эпоха 103: Train Loss: 0.7090, Acc: 97.86% | Val Loss: 0.7736, Acc: 95.15%\n",
          "output_type": "stream"
        },
        {
          "name": "stderr",
          "text": "Эпоха 104/125 [Train]: 100%|██████████| 125/125 [00:13<00:00,  9.42it/s]\nЭпоха 104/125 [Valid]: 100%|██████████| 32/32 [00:00<00:00, 99.92it/s]\n",
          "output_type": "stream"
        },
        {
          "name": "stdout",
          "text": "Эпоха 104: Train Loss: 0.7107, Acc: 97.80% | Val Loss: 0.7745, Acc: 94.92%\n",
          "output_type": "stream"
        },
        {
          "name": "stderr",
          "text": "Эпоха 105/125 [Train]: 100%|██████████| 125/125 [00:13<00:00,  9.35it/s]\nЭпоха 105/125 [Valid]: 100%|██████████| 32/32 [00:00<00:00, 98.49it/s]\n",
          "output_type": "stream"
        },
        {
          "name": "stdout",
          "text": "Эпоха 105: Train Loss: 0.7067, Acc: 97.96% | Val Loss: 0.7727, Acc: 95.00%\n",
          "output_type": "stream"
        },
        {
          "name": "stderr",
          "text": "Эпоха 106/125 [Train]: 100%|██████████| 125/125 [00:13<00:00,  9.32it/s]\nЭпоха 106/125 [Valid]: 100%|██████████| 32/32 [00:00<00:00, 98.09it/s]\n",
          "output_type": "stream"
        },
        {
          "name": "stdout",
          "text": "Эпоха 106: Train Loss: 0.7090, Acc: 97.83% | Val Loss: 0.7743, Acc: 94.97%\n",
          "output_type": "stream"
        },
        {
          "name": "stderr",
          "text": "Эпоха 107/125 [Train]: 100%|██████████| 125/125 [00:13<00:00,  9.41it/s]\nЭпоха 107/125 [Valid]: 100%|██████████| 32/32 [00:00<00:00, 97.75it/s]\n",
          "output_type": "stream"
        },
        {
          "name": "stdout",
          "text": "Эпоха 107: Train Loss: 0.7082, Acc: 97.80% | Val Loss: 0.7718, Acc: 95.17%\n",
          "output_type": "stream"
        },
        {
          "name": "stderr",
          "text": "Эпоха 108/125 [Train]: 100%|██████████| 125/125 [00:13<00:00,  9.42it/s]\nЭпоха 108/125 [Valid]: 100%|██████████| 32/32 [00:00<00:00, 99.16it/s]\n",
          "output_type": "stream"
        },
        {
          "name": "stdout",
          "text": "Эпоха 108: Train Loss: 0.7099, Acc: 97.83% | Val Loss: 0.7696, Acc: 95.10%\n",
          "output_type": "stream"
        },
        {
          "name": "stderr",
          "text": "Эпоха 109/125 [Train]: 100%|██████████| 125/125 [00:13<00:00,  9.35it/s]\nЭпоха 109/125 [Valid]: 100%|██████████| 32/32 [00:00<00:00, 96.52it/s]\n",
          "output_type": "stream"
        },
        {
          "name": "stdout",
          "text": "Эпоха 109: Train Loss: 0.7040, Acc: 98.09% | Val Loss: 0.7723, Acc: 94.97%\n",
          "output_type": "stream"
        },
        {
          "name": "stderr",
          "text": "Эпоха 110/125 [Train]: 100%|██████████| 125/125 [00:13<00:00,  9.39it/s]\nЭпоха 110/125 [Valid]: 100%|██████████| 32/32 [00:00<00:00, 98.78it/s]\n",
          "output_type": "stream"
        },
        {
          "name": "stdout",
          "text": "Эпоха 110: Train Loss: 0.7108, Acc: 97.78% | Val Loss: 0.7693, Acc: 95.08%\n",
          "output_type": "stream"
        },
        {
          "name": "stderr",
          "text": "Эпоха 111/125 [Train]: 100%|██████████| 125/125 [00:13<00:00,  9.41it/s]\nЭпоха 111/125 [Valid]: 100%|██████████| 32/32 [00:00<00:00, 99.44it/s]\n",
          "output_type": "stream"
        },
        {
          "name": "stdout",
          "text": "Эпоха 111: Train Loss: 0.7055, Acc: 98.03% | Val Loss: 0.7703, Acc: 95.10%\n",
          "output_type": "stream"
        },
        {
          "name": "stderr",
          "text": "Эпоха 112/125 [Train]: 100%|██████████| 125/125 [00:13<00:00,  9.43it/s]\nЭпоха 112/125 [Valid]: 100%|██████████| 32/32 [00:00<00:00, 99.04it/s]\n",
          "output_type": "stream"
        },
        {
          "name": "stdout",
          "text": "Эпоха 112: Train Loss: 0.7058, Acc: 97.98% | Val Loss: 0.7679, Acc: 95.17%\n",
          "output_type": "stream"
        },
        {
          "name": "stderr",
          "text": "Эпоха 113/125 [Train]: 100%|██████████| 125/125 [00:13<00:00,  9.30it/s]\nЭпоха 113/125 [Valid]: 100%|██████████| 32/32 [00:00<00:00, 96.02it/s]\n",
          "output_type": "stream"
        },
        {
          "name": "stdout",
          "text": "Эпоха 113: Train Loss: 0.7076, Acc: 97.87% | Val Loss: 0.7692, Acc: 95.05%\n",
          "output_type": "stream"
        },
        {
          "name": "stderr",
          "text": "Эпоха 114/125 [Train]: 100%|██████████| 125/125 [00:13<00:00,  9.38it/s]\nЭпоха 114/125 [Valid]: 100%|██████████| 32/32 [00:00<00:00, 99.45it/s]\n",
          "output_type": "stream"
        },
        {
          "name": "stdout",
          "text": "Эпоха 114: Train Loss: 0.7061, Acc: 97.86% | Val Loss: 0.7719, Acc: 94.95%\n",
          "output_type": "stream"
        },
        {
          "name": "stderr",
          "text": "Эпоха 115/125 [Train]: 100%|██████████| 125/125 [00:13<00:00,  9.46it/s]\nЭпоха 115/125 [Valid]: 100%|██████████| 32/32 [00:00<00:00, 99.05it/s]\n",
          "output_type": "stream"
        },
        {
          "name": "stdout",
          "text": "Эпоха 115: Train Loss: 0.7074, Acc: 97.82% | Val Loss: 0.7708, Acc: 95.05%\n",
          "output_type": "stream"
        },
        {
          "name": "stderr",
          "text": "Эпоха 116/125 [Train]: 100%|██████████| 125/125 [00:13<00:00,  9.31it/s]\nЭпоха 116/125 [Valid]: 100%|██████████| 32/32 [00:00<00:00, 95.28it/s]\n",
          "output_type": "stream"
        },
        {
          "name": "stdout",
          "text": "Эпоха 116: Train Loss: 0.7039, Acc: 98.03% | Val Loss: 0.7711, Acc: 94.88%\n",
          "output_type": "stream"
        },
        {
          "name": "stderr",
          "text": "Эпоха 117/125 [Train]: 100%|██████████| 125/125 [00:13<00:00,  9.45it/s]\nЭпоха 117/125 [Valid]: 100%|██████████| 32/32 [00:00<00:00, 99.72it/s]\n",
          "output_type": "stream"
        },
        {
          "name": "stdout",
          "text": "Эпоха 117: Train Loss: 0.7069, Acc: 97.89% | Val Loss: 0.7703, Acc: 94.90%\n",
          "output_type": "stream"
        },
        {
          "name": "stderr",
          "text": "Эпоха 118/125 [Train]: 100%|██████████| 125/125 [00:13<00:00,  9.41it/s]\nЭпоха 118/125 [Valid]: 100%|██████████| 32/32 [00:00<00:00, 94.91it/s]\n",
          "output_type": "stream"
        },
        {
          "name": "stdout",
          "text": "Эпоха 118: Train Loss: 0.7065, Acc: 97.87% | Val Loss: 0.7697, Acc: 95.08%\n",
          "output_type": "stream"
        },
        {
          "name": "stderr",
          "text": "Эпоха 119/125 [Train]: 100%|██████████| 125/125 [00:13<00:00,  9.38it/s]\nЭпоха 119/125 [Valid]: 100%|██████████| 32/32 [00:00<00:00, 98.58it/s]\n",
          "output_type": "stream"
        },
        {
          "name": "stdout",
          "text": "Эпоха 119: Train Loss: 0.7067, Acc: 97.98% | Val Loss: 0.7698, Acc: 95.15%\n",
          "output_type": "stream"
        },
        {
          "name": "stderr",
          "text": "Эпоха 120/125 [Train]: 100%|██████████| 125/125 [00:13<00:00,  9.27it/s]\nЭпоха 120/125 [Valid]: 100%|██████████| 32/32 [00:00<00:00, 96.69it/s]\n",
          "output_type": "stream"
        },
        {
          "name": "stdout",
          "text": "Эпоха 120: Train Loss: 0.7039, Acc: 98.01% | Val Loss: 0.7694, Acc: 95.08%\n",
          "output_type": "stream"
        },
        {
          "name": "stderr",
          "text": "Эпоха 121/125 [Train]: 100%|██████████| 125/125 [00:13<00:00,  9.34it/s]\nЭпоха 121/125 [Valid]: 100%|██████████| 32/32 [00:00<00:00, 99.03it/s]\n",
          "output_type": "stream"
        },
        {
          "name": "stdout",
          "text": "Эпоха 121: Train Loss: 0.7020, Acc: 98.12% | Val Loss: 0.7705, Acc: 95.03%\n",
          "output_type": "stream"
        },
        {
          "name": "stderr",
          "text": "Эпоха 122/125 [Train]: 100%|██████████| 125/125 [00:13<00:00,  9.45it/s]\nЭпоха 122/125 [Valid]: 100%|██████████| 32/32 [00:00<00:00, 98.95it/s]\n",
          "output_type": "stream"
        },
        {
          "name": "stdout",
          "text": "Эпоха 122: Train Loss: 0.7048, Acc: 98.11% | Val Loss: 0.7700, Acc: 95.05%\n",
          "output_type": "stream"
        },
        {
          "name": "stderr",
          "text": "Эпоха 123/125 [Train]: 100%|██████████| 125/125 [00:13<00:00,  9.32it/s]\nЭпоха 123/125 [Valid]: 100%|██████████| 32/32 [00:00<00:00, 96.74it/s]\n",
          "output_type": "stream"
        },
        {
          "name": "stdout",
          "text": "Эпоха 123: Train Loss: 0.7036, Acc: 98.00% | Val Loss: 0.7695, Acc: 95.12%\n",
          "output_type": "stream"
        },
        {
          "name": "stderr",
          "text": "Эпоха 124/125 [Train]: 100%|██████████| 125/125 [00:13<00:00,  9.46it/s]\nЭпоха 124/125 [Valid]: 100%|██████████| 32/32 [00:00<00:00, 98.84it/s]\n",
          "output_type": "stream"
        },
        {
          "name": "stdout",
          "text": "Эпоха 124: Train Loss: 0.7095, Acc: 97.87% | Val Loss: 0.7699, Acc: 95.10%\n",
          "output_type": "stream"
        },
        {
          "name": "stderr",
          "text": "Эпоха 125/125 [Train]: 100%|██████████| 125/125 [00:13<00:00,  9.39it/s]\nЭпоха 125/125 [Valid]: 100%|██████████| 32/32 [00:00<00:00, 99.45it/s]",
          "output_type": "stream"
        },
        {
          "name": "stdout",
          "text": "Эпоха 125: Train Loss: 0.7057, Acc: 97.97% | Val Loss: 0.7685, Acc: 95.05%\nЛучшее значение Accuracy при валидации: 95.17%\n",
          "output_type": "stream"
        },
        {
          "name": "stderr",
          "text": "\n",
          "output_type": "stream"
        }
      ],
      "execution_count": null
    },
    {
      "cell_type": "code",
      "source": [
        "# history"
      ],
      "metadata": {
        "trusted": true,
        "execution": {
          "iopub.status.busy": "2025-06-01T14:19:51.753709Z",
          "iopub.execute_input": "2025-06-01T14:19:51.754414Z",
          "iopub.status.idle": "2025-06-01T14:19:51.757403Z",
          "shell.execute_reply.started": "2025-06-01T14:19:51.754389Z",
          "shell.execute_reply": "2025-06-01T14:19:51.756698Z"
        },
        "id": "4LAH_DSyy8kh"
      },
      "outputs": [],
      "execution_count": null
    },
    {
      "cell_type": "markdown",
      "source": [
        "### Submission на лучшем чекпоинте частичных данных"
      ],
      "metadata": {
        "id": "c8pSAo8zy8ki"
      }
    },
    {
      "cell_type": "code",
      "source": [
        "model_sp = ImprovedCNN()\n",
        "\n",
        "# Загрузите веса\n",
        "model_sp.load_state_dict(torch.load('best_model_resnet.pth'))\n",
        "\n",
        "# Переместите модель на то же устройство, на которое перемещаются данные\n",
        "model_sp = model_sp.to(device)"
      ],
      "metadata": {
        "trusted": true,
        "execution": {
          "iopub.status.busy": "2025-06-01T14:21:31.331435Z",
          "iopub.execute_input": "2025-06-01T14:21:31.331999Z",
          "iopub.status.idle": "2025-06-01T14:21:31.522710Z",
          "shell.execute_reply.started": "2025-06-01T14:21:31.331978Z",
          "shell.execute_reply": "2025-06-01T14:21:31.522177Z"
        },
        "id": "O_xJrx7py8ki"
      },
      "outputs": [],
      "execution_count": null
    },
    {
      "cell_type": "code",
      "source": [
        "images_subm = torch.tensor(test_img.astype('float32')/255.0).permute(0,3,1,2)\n",
        "\n",
        "test_data_loader = torch.utils.data.DataLoader(dataset=images_subm,\n",
        "                                               batch_size=BATCH_SIZE,\n",
        "                                               shuffle=False)"
      ],
      "metadata": {
        "trusted": true,
        "execution": {
          "iopub.status.busy": "2025-06-01T14:22:36.350636Z",
          "iopub.execute_input": "2025-06-01T14:22:36.350878Z",
          "iopub.status.idle": "2025-06-01T14:22:37.685148Z",
          "shell.execute_reply.started": "2025-06-01T14:22:36.350861Z",
          "shell.execute_reply": "2025-06-01T14:22:37.684615Z"
        },
        "id": "NkXiURGUy8ki"
      },
      "outputs": [],
      "execution_count": null
    },
    {
      "cell_type": "code",
      "source": [
        "model_sp.eval()\n",
        "prediction = []\n",
        "\n",
        "with torch.no_grad():\n",
        "    for inputs in tqdm(test_data_loader):\n",
        "        inputs = inputs.to(device)\n",
        "\n",
        "        outputs = model_sp(inputs)\n",
        "        _, predicted = outputs.max(1)\n",
        "        prediction.extend(predicted.cpu().tolist())"
      ],
      "metadata": {
        "trusted": true,
        "execution": {
          "iopub.status.busy": "2025-06-01T14:23:28.351343Z",
          "iopub.execute_input": "2025-06-01T14:23:28.351683Z",
          "iopub.status.idle": "2025-06-01T14:23:32.091413Z",
          "shell.execute_reply.started": "2025-06-01T14:23:28.351662Z",
          "shell.execute_reply": "2025-06-01T14:23:32.090695Z"
        },
        "id": "gXTTYrrXy8ki",
        "outputId": "b4a4e428-4603-4c0e-c907-36d0db2ebdf5"
      },
      "outputs": [
        {
          "name": "stderr",
          "text": "100%|██████████| 391/391 [00:03<00:00, 104.76it/s]\n",
          "output_type": "stream"
        }
      ],
      "execution_count": null
    },
    {
      "cell_type": "code",
      "source": [
        "prediction[:10]"
      ],
      "metadata": {
        "trusted": true,
        "execution": {
          "iopub.status.busy": "2025-06-01T14:23:38.751297Z",
          "iopub.execute_input": "2025-06-01T14:23:38.751566Z",
          "iopub.status.idle": "2025-06-01T14:23:38.756717Z",
          "shell.execute_reply.started": "2025-06-01T14:23:38.751547Z",
          "shell.execute_reply": "2025-06-01T14:23:38.756057Z"
        },
        "id": "YiAauej0y8ki",
        "outputId": "2b8702e8-8999-4841-fe65-3dd48094667b"
      },
      "outputs": [
        {
          "execution_count": 36,
          "output_type": "execute_result",
          "data": {
            "text/plain": "[8, 8, 14, 12, 10, 7, 5, 17, 23, 22]"
          },
          "metadata": {}
        }
      ],
      "execution_count": null
    },
    {
      "cell_type": "code",
      "source": [
        "submission = pd.DataFrame({\n",
        "    'id': np.arange(len(prediction)),\n",
        "    'Category': prediction\n",
        "})\n",
        "submission.to_csv('submission_r2.csv', index=False)"
      ],
      "metadata": {
        "trusted": true,
        "execution": {
          "iopub.status.busy": "2025-06-01T14:24:22.847013Z",
          "iopub.execute_input": "2025-06-01T14:24:22.847676Z",
          "iopub.status.idle": "2025-06-01T14:24:22.926737Z",
          "shell.execute_reply.started": "2025-06-01T14:24:22.847650Z",
          "shell.execute_reply": "2025-06-01T14:24:22.926199Z"
        },
        "id": "PhkpktDty8ki"
      },
      "outputs": [],
      "execution_count": null
    },
    {
      "cell_type": "markdown",
      "source": [
        "### Обучение на полных данных"
      ],
      "metadata": {
        "id": "BwODEQbmy8ki"
      }
    },
    {
      "cell_type": "code",
      "source": [
        "train_img = np.load(\"/kaggle/input/mipt-dl-captcha-2025/mds-misis-dl-captchan/images.npy\")\n",
        "labels = np.load(\"/kaggle/input/mipt-dl-captcha-2025/mds-misis-dl-captchan/labels.npy\")\n",
        "test_img = np.load(\"/kaggle/input/mipt-dl-captcha-2025/mds-misis-dl-captchan/images_sub.npy\")"
      ],
      "metadata": {
        "trusted": true,
        "execution": {
          "iopub.status.busy": "2025-06-01T15:41:29.519867Z",
          "iopub.execute_input": "2025-06-01T15:41:29.520458Z",
          "iopub.status.idle": "2025-06-01T15:41:29.676273Z",
          "shell.execute_reply.started": "2025-06-01T15:41:29.520437Z",
          "shell.execute_reply": "2025-06-01T15:41:29.675668Z"
        },
        "id": "kzIRZQAby8kj"
      },
      "outputs": [],
      "execution_count": null
    },
    {
      "cell_type": "code",
      "source": [
        "images = torch.tensor(train_img.astype('float32')/255.0).permute(0,3,1,2)\n",
        "labels = torch.tensor(labels.astype('int64'))\n",
        "\n",
        "train_data_aug_full = AugmentedDataset(images, labels, transform=train_transform)\n",
        "train_loader_aug_full = torch.utils.data.DataLoader(train_data_aug_full, batch_size=BATCH_SIZE, shuffle=True)"
      ],
      "metadata": {
        "trusted": true,
        "execution": {
          "iopub.status.busy": "2025-06-01T15:41:30.858983Z",
          "iopub.execute_input": "2025-06-01T15:41:30.859259Z",
          "iopub.status.idle": "2025-06-01T15:41:31.395625Z",
          "shell.execute_reply.started": "2025-06-01T15:41:30.859239Z",
          "shell.execute_reply": "2025-06-01T15:41:31.395066Z"
        },
        "id": "M14G7qu0y8kj"
      },
      "outputs": [],
      "execution_count": null
    },
    {
      "cell_type": "code",
      "source": [
        "model_sa = ImprovedCNN().to(device)\n",
        "criterion_sa = nn.CrossEntropyLoss(label_smoothing=0.1)  # Label smoothing\n",
        "optimizer_sa = optim.AdamW(model_sa.parameters(), lr=LEARNING_RATE, weight_decay=1e-4)\n",
        "scheduler_sa = optim.lr_scheduler.ReduceLROnPlateau(optimizer_sa,\n",
        "                                                    mode='min',\n",
        "                                                    factor=0.5,\n",
        "                                                    patience=6)"
      ],
      "metadata": {
        "trusted": true,
        "execution": {
          "iopub.status.busy": "2025-06-01T15:41:32.794458Z",
          "iopub.execute_input": "2025-06-01T15:41:32.794757Z",
          "iopub.status.idle": "2025-06-01T15:41:32.918200Z",
          "shell.execute_reply.started": "2025-06-01T15:41:32.794734Z",
          "shell.execute_reply": "2025-06-01T15:41:32.917647Z"
        },
        "id": "jqK1dtqsy8kj"
      },
      "outputs": [],
      "execution_count": null
    },
    {
      "cell_type": "code",
      "source": [
        "num_epochs = 150\n",
        "\n",
        "best_acc = 0.0\n",
        "history = {'train_loss': [], 'val_loss': [], 'train_acc': [], 'val_acc': []}\n",
        "\n",
        "for epoch in range(num_epochs):\n",
        "    # Фаза обучения\n",
        "    model_sa.train()\n",
        "    running_loss = 0.0\n",
        "    correct = 0\n",
        "    total = 0\n",
        "\n",
        "    for inputs, labels in tqdm(train_loader_aug_full, desc=f'Эпоха {epoch+1}/{num_epochs} [Train]'):\n",
        "        inputs, labels = inputs.to(device), labels.to(device)\n",
        "\n",
        "        optimizer_sa.zero_grad()\n",
        "        outputs = model_sa(inputs)\n",
        "        loss = criterion_sa(outputs, labels)\n",
        "        loss.backward()\n",
        "        optimizer_sa.step()\n",
        "\n",
        "        running_loss += loss.item() * inputs.size(0)\n",
        "        _, predicted = torch.max(outputs, 1)\n",
        "        total += labels.size(0)\n",
        "        correct += (predicted == labels).sum().item()\n",
        "\n",
        "    epoch_loss = running_loss / len(train_loader.dataset)\n",
        "    epoch_acc = 100 * correct / total\n",
        "    history['train_loss'].append(epoch_loss)\n",
        "    history['train_acc'].append(epoch_acc)\n",
        "\n",
        "    # Обновление scheduler\n",
        "    scheduler_sa.step(epoch_loss)\n",
        "\n",
        "    # Сохранение лучшей модели\n",
        "    if epoch_acc > best_acc:\n",
        "        best_acc = epoch_acc\n",
        "        torch.save(model_sa.state_dict(), 'best_model_resnet_f.pth')\n",
        "\n",
        "    print(f'Эпоха {epoch+1}: '\n",
        "          f'Train Loss: {epoch_loss:.4f}, Acc: {epoch_acc:.2f}%')\n",
        "\n",
        "print(f'Лучшее значение Accuracy при тренировке на полных данных: {best_acc:.2f}%')"
      ],
      "metadata": {
        "trusted": true,
        "execution": {
          "iopub.status.busy": "2025-06-01T15:41:44.757690Z",
          "iopub.execute_input": "2025-06-01T15:41:44.757946Z",
          "iopub.status.idle": "2025-06-01T16:16:32.588620Z",
          "shell.execute_reply.started": "2025-06-01T15:41:44.757929Z",
          "shell.execute_reply": "2025-06-01T16:16:32.587899Z"
        },
        "id": "gLDCaLeNy8kj",
        "outputId": "29771892-0700-42ec-9f40-37dc94c17f9c"
      },
      "outputs": [
        {
          "name": "stderr",
          "text": "Эпоха 1/125 [Train]: 100%|██████████| 157/157 [00:16<00:00,  9.37it/s]\n",
          "output_type": "stream"
        },
        {
          "name": "stdout",
          "text": "Эпоха 1: Train Loss: 4.1819, Acc: 4.26%\n",
          "output_type": "stream"
        },
        {
          "name": "stderr",
          "text": "Эпоха 2/125 [Train]: 100%|██████████| 157/157 [00:16<00:00,  9.46it/s]\n",
          "output_type": "stream"
        },
        {
          "name": "stdout",
          "text": "Эпоха 2: Train Loss: 4.0924, Acc: 5.29%\n",
          "output_type": "stream"
        },
        {
          "name": "stderr",
          "text": "Эпоха 3/125 [Train]: 100%|██████████| 157/157 [00:16<00:00,  9.39it/s]\n",
          "output_type": "stream"
        },
        {
          "name": "stdout",
          "text": "Эпоха 3: Train Loss: 3.8045, Acc: 11.14%\n",
          "output_type": "stream"
        },
        {
          "name": "stderr",
          "text": "Эпоха 4/125 [Train]: 100%|██████████| 157/157 [00:16<00:00,  9.49it/s]\n",
          "output_type": "stream"
        },
        {
          "name": "stdout",
          "text": "Эпоха 4: Train Loss: 3.2321, Acc: 25.26%\n",
          "output_type": "stream"
        },
        {
          "name": "stderr",
          "text": "Эпоха 5/125 [Train]: 100%|██████████| 157/157 [00:16<00:00,  9.40it/s]\n",
          "output_type": "stream"
        },
        {
          "name": "stdout",
          "text": "Эпоха 5: Train Loss: 2.5632, Acc: 44.19%\n",
          "output_type": "stream"
        },
        {
          "name": "stderr",
          "text": "Эпоха 6/125 [Train]: 100%|██████████| 157/157 [00:16<00:00,  9.42it/s]\n",
          "output_type": "stream"
        },
        {
          "name": "stdout",
          "text": "Эпоха 6: Train Loss: 2.1827, Acc: 56.84%\n",
          "output_type": "stream"
        },
        {
          "name": "stderr",
          "text": "Эпоха 7/125 [Train]: 100%|██████████| 157/157 [00:16<00:00,  9.40it/s]\n",
          "output_type": "stream"
        },
        {
          "name": "stdout",
          "text": "Эпоха 7: Train Loss: 1.9633, Acc: 64.24%\n",
          "output_type": "stream"
        },
        {
          "name": "stderr",
          "text": "Эпоха 8/125 [Train]: 100%|██████████| 157/157 [00:16<00:00,  9.45it/s]\n",
          "output_type": "stream"
        },
        {
          "name": "stdout",
          "text": "Эпоха 8: Train Loss: 1.8100, Acc: 69.47%\n",
          "output_type": "stream"
        },
        {
          "name": "stderr",
          "text": "Эпоха 9/125 [Train]: 100%|██████████| 157/157 [00:16<00:00,  9.40it/s]\n",
          "output_type": "stream"
        },
        {
          "name": "stdout",
          "text": "Эпоха 9: Train Loss: 1.6942, Acc: 73.04%\n",
          "output_type": "stream"
        },
        {
          "name": "stderr",
          "text": "Эпоха 10/125 [Train]: 100%|██████████| 157/157 [00:16<00:00,  9.41it/s]\n",
          "output_type": "stream"
        },
        {
          "name": "stdout",
          "text": "Эпоха 10: Train Loss: 1.5991, Acc: 76.64%\n",
          "output_type": "stream"
        },
        {
          "name": "stderr",
          "text": "Эпоха 11/125 [Train]: 100%|██████████| 157/157 [00:16<00:00,  9.42it/s]\n",
          "output_type": "stream"
        },
        {
          "name": "stdout",
          "text": "Эпоха 11: Train Loss: 1.5411, Acc: 78.60%\n",
          "output_type": "stream"
        },
        {
          "name": "stderr",
          "text": "Эпоха 12/125 [Train]: 100%|██████████| 157/157 [00:16<00:00,  9.41it/s]\n",
          "output_type": "stream"
        },
        {
          "name": "stdout",
          "text": "Эпоха 12: Train Loss: 1.4860, Acc: 80.19%\n",
          "output_type": "stream"
        },
        {
          "name": "stderr",
          "text": "Эпоха 13/125 [Train]: 100%|██████████| 157/157 [00:16<00:00,  9.43it/s]\n",
          "output_type": "stream"
        },
        {
          "name": "stdout",
          "text": "Эпоха 13: Train Loss: 1.4254, Acc: 82.09%\n",
          "output_type": "stream"
        },
        {
          "name": "stderr",
          "text": "Эпоха 14/125 [Train]: 100%|██████████| 157/157 [00:16<00:00,  9.37it/s]\n",
          "output_type": "stream"
        },
        {
          "name": "stdout",
          "text": "Эпоха 14: Train Loss: 1.4013, Acc: 82.73%\n",
          "output_type": "stream"
        },
        {
          "name": "stderr",
          "text": "Эпоха 15/125 [Train]: 100%|██████████| 157/157 [00:16<00:00,  9.41it/s]\n",
          "output_type": "stream"
        },
        {
          "name": "stdout",
          "text": "Эпоха 15: Train Loss: 1.3565, Acc: 84.09%\n",
          "output_type": "stream"
        },
        {
          "name": "stderr",
          "text": "Эпоха 16/125 [Train]: 100%|██████████| 157/157 [00:16<00:00,  9.38it/s]\n",
          "output_type": "stream"
        },
        {
          "name": "stdout",
          "text": "Эпоха 16: Train Loss: 1.3383, Acc: 84.96%\n",
          "output_type": "stream"
        },
        {
          "name": "stderr",
          "text": "Эпоха 17/125 [Train]: 100%|██████████| 157/157 [00:16<00:00,  9.43it/s]\n",
          "output_type": "stream"
        },
        {
          "name": "stdout",
          "text": "Эпоха 17: Train Loss: 1.3108, Acc: 85.49%\n",
          "output_type": "stream"
        },
        {
          "name": "stderr",
          "text": "Эпоха 18/125 [Train]: 100%|██████████| 157/157 [00:16<00:00,  9.37it/s]\n",
          "output_type": "stream"
        },
        {
          "name": "stdout",
          "text": "Эпоха 18: Train Loss: 1.2818, Acc: 86.63%\n",
          "output_type": "stream"
        },
        {
          "name": "stderr",
          "text": "Эпоха 19/125 [Train]: 100%|██████████| 157/157 [00:16<00:00,  9.42it/s]\n",
          "output_type": "stream"
        },
        {
          "name": "stdout",
          "text": "Эпоха 19: Train Loss: 1.2669, Acc: 86.53%\n",
          "output_type": "stream"
        },
        {
          "name": "stderr",
          "text": "Эпоха 20/125 [Train]: 100%|██████████| 157/157 [00:16<00:00,  9.32it/s]\n",
          "output_type": "stream"
        },
        {
          "name": "stdout",
          "text": "Эпоха 20: Train Loss: 1.2533, Acc: 87.21%\n",
          "output_type": "stream"
        },
        {
          "name": "stderr",
          "text": "Эпоха 21/125 [Train]: 100%|██████████| 157/157 [00:16<00:00,  9.39it/s]\n",
          "output_type": "stream"
        },
        {
          "name": "stdout",
          "text": "Эпоха 21: Train Loss: 1.2332, Acc: 87.78%\n",
          "output_type": "stream"
        },
        {
          "name": "stderr",
          "text": "Эпоха 22/125 [Train]: 100%|██████████| 157/157 [00:16<00:00,  9.38it/s]\n",
          "output_type": "stream"
        },
        {
          "name": "stdout",
          "text": "Эпоха 22: Train Loss: 1.2217, Acc: 88.15%\n",
          "output_type": "stream"
        },
        {
          "name": "stderr",
          "text": "Эпоха 23/125 [Train]: 100%|██████████| 157/157 [00:16<00:00,  9.40it/s]\n",
          "output_type": "stream"
        },
        {
          "name": "stdout",
          "text": "Эпоха 23: Train Loss: 1.2216, Acc: 88.06%\n",
          "output_type": "stream"
        },
        {
          "name": "stderr",
          "text": "Эпоха 24/125 [Train]: 100%|██████████| 157/157 [00:16<00:00,  9.39it/s]\n",
          "output_type": "stream"
        },
        {
          "name": "stdout",
          "text": "Эпоха 24: Train Loss: 1.1845, Acc: 89.17%\n",
          "output_type": "stream"
        },
        {
          "name": "stderr",
          "text": "Эпоха 25/125 [Train]: 100%|██████████| 157/157 [00:16<00:00,  9.44it/s]\n",
          "output_type": "stream"
        },
        {
          "name": "stdout",
          "text": "Эпоха 25: Train Loss: 1.1865, Acc: 89.12%\n",
          "output_type": "stream"
        },
        {
          "name": "stderr",
          "text": "Эпоха 26/125 [Train]: 100%|██████████| 157/157 [00:16<00:00,  9.44it/s]\n",
          "output_type": "stream"
        },
        {
          "name": "stdout",
          "text": "Эпоха 26: Train Loss: 1.1800, Acc: 89.29%\n",
          "output_type": "stream"
        },
        {
          "name": "stderr",
          "text": "Эпоха 27/125 [Train]: 100%|██████████| 157/157 [00:16<00:00,  9.46it/s]\n",
          "output_type": "stream"
        },
        {
          "name": "stdout",
          "text": "Эпоха 27: Train Loss: 1.1702, Acc: 89.64%\n",
          "output_type": "stream"
        },
        {
          "name": "stderr",
          "text": "Эпоха 28/125 [Train]: 100%|██████████| 157/157 [00:16<00:00,  9.40it/s]\n",
          "output_type": "stream"
        },
        {
          "name": "stdout",
          "text": "Эпоха 28: Train Loss: 1.1554, Acc: 90.06%\n",
          "output_type": "stream"
        },
        {
          "name": "stderr",
          "text": "Эпоха 29/125 [Train]: 100%|██████████| 157/157 [00:16<00:00,  9.43it/s]\n",
          "output_type": "stream"
        },
        {
          "name": "stdout",
          "text": "Эпоха 29: Train Loss: 1.1535, Acc: 90.30%\n",
          "output_type": "stream"
        },
        {
          "name": "stderr",
          "text": "Эпоха 30/125 [Train]: 100%|██████████| 157/157 [00:16<00:00,  9.42it/s]\n",
          "output_type": "stream"
        },
        {
          "name": "stdout",
          "text": "Эпоха 30: Train Loss: 1.1448, Acc: 90.28%\n",
          "output_type": "stream"
        },
        {
          "name": "stderr",
          "text": "Эпоха 31/125 [Train]: 100%|██████████| 157/157 [00:16<00:00,  9.40it/s]\n",
          "output_type": "stream"
        },
        {
          "name": "stdout",
          "text": "Эпоха 31: Train Loss: 1.1369, Acc: 90.67%\n",
          "output_type": "stream"
        },
        {
          "name": "stderr",
          "text": "Эпоха 32/125 [Train]: 100%|██████████| 157/157 [00:16<00:00,  9.41it/s]\n",
          "output_type": "stream"
        },
        {
          "name": "stdout",
          "text": "Эпоха 32: Train Loss: 1.1317, Acc: 90.88%\n",
          "output_type": "stream"
        },
        {
          "name": "stderr",
          "text": "Эпоха 33/125 [Train]: 100%|██████████| 157/157 [00:16<00:00,  9.38it/s]\n",
          "output_type": "stream"
        },
        {
          "name": "stdout",
          "text": "Эпоха 33: Train Loss: 1.1244, Acc: 91.08%\n",
          "output_type": "stream"
        },
        {
          "name": "stderr",
          "text": "Эпоха 34/125 [Train]: 100%|██████████| 157/157 [00:16<00:00,  9.46it/s]\n",
          "output_type": "stream"
        },
        {
          "name": "stdout",
          "text": "Эпоха 34: Train Loss: 1.1105, Acc: 91.49%\n",
          "output_type": "stream"
        },
        {
          "name": "stderr",
          "text": "Эпоха 35/125 [Train]: 100%|██████████| 157/157 [00:16<00:00,  9.40it/s]\n",
          "output_type": "stream"
        },
        {
          "name": "stdout",
          "text": "Эпоха 35: Train Loss: 1.1121, Acc: 91.33%\n",
          "output_type": "stream"
        },
        {
          "name": "stderr",
          "text": "Эпоха 36/125 [Train]: 100%|██████████| 157/157 [00:16<00:00,  9.43it/s]\n",
          "output_type": "stream"
        },
        {
          "name": "stdout",
          "text": "Эпоха 36: Train Loss: 1.1098, Acc: 91.43%\n",
          "output_type": "stream"
        },
        {
          "name": "stderr",
          "text": "Эпоха 37/125 [Train]: 100%|██████████| 157/157 [00:16<00:00,  9.40it/s]\n",
          "output_type": "stream"
        },
        {
          "name": "stdout",
          "text": "Эпоха 37: Train Loss: 1.1046, Acc: 91.36%\n",
          "output_type": "stream"
        },
        {
          "name": "stderr",
          "text": "Эпоха 38/125 [Train]: 100%|██████████| 157/157 [00:16<00:00,  9.40it/s]\n",
          "output_type": "stream"
        },
        {
          "name": "stdout",
          "text": "Эпоха 38: Train Loss: 1.0955, Acc: 91.76%\n",
          "output_type": "stream"
        },
        {
          "name": "stderr",
          "text": "Эпоха 39/125 [Train]: 100%|██████████| 157/157 [00:17<00:00,  9.20it/s]\n",
          "output_type": "stream"
        },
        {
          "name": "stdout",
          "text": "Эпоха 39: Train Loss: 1.0879, Acc: 92.06%\n",
          "output_type": "stream"
        },
        {
          "name": "stderr",
          "text": "Эпоха 40/125 [Train]: 100%|██████████| 157/157 [00:16<00:00,  9.36it/s]\n",
          "output_type": "stream"
        },
        {
          "name": "stdout",
          "text": "Эпоха 40: Train Loss: 1.0758, Acc: 92.46%\n",
          "output_type": "stream"
        },
        {
          "name": "stderr",
          "text": "Эпоха 41/125 [Train]: 100%|██████████| 157/157 [00:16<00:00,  9.41it/s]\n",
          "output_type": "stream"
        },
        {
          "name": "stdout",
          "text": "Эпоха 41: Train Loss: 1.0715, Acc: 92.34%\n",
          "output_type": "stream"
        },
        {
          "name": "stderr",
          "text": "Эпоха 42/125 [Train]: 100%|██████████| 157/157 [00:16<00:00,  9.41it/s]\n",
          "output_type": "stream"
        },
        {
          "name": "stdout",
          "text": "Эпоха 42: Train Loss: 1.0733, Acc: 92.48%\n",
          "output_type": "stream"
        },
        {
          "name": "stderr",
          "text": "Эпоха 43/125 [Train]: 100%|██████████| 157/157 [00:16<00:00,  9.35it/s]\n",
          "output_type": "stream"
        },
        {
          "name": "stdout",
          "text": "Эпоха 43: Train Loss: 1.0606, Acc: 92.77%\n",
          "output_type": "stream"
        },
        {
          "name": "stderr",
          "text": "Эпоха 44/125 [Train]: 100%|██████████| 157/157 [00:16<00:00,  9.42it/s]\n",
          "output_type": "stream"
        },
        {
          "name": "stdout",
          "text": "Эпоха 44: Train Loss: 1.0665, Acc: 92.53%\n",
          "output_type": "stream"
        },
        {
          "name": "stderr",
          "text": "Эпоха 45/125 [Train]: 100%|██████████| 157/157 [00:16<00:00,  9.32it/s]\n",
          "output_type": "stream"
        },
        {
          "name": "stdout",
          "text": "Эпоха 45: Train Loss: 1.0563, Acc: 92.69%\n",
          "output_type": "stream"
        },
        {
          "name": "stderr",
          "text": "Эпоха 46/125 [Train]: 100%|██████████| 157/157 [00:16<00:00,  9.36it/s]\n",
          "output_type": "stream"
        },
        {
          "name": "stdout",
          "text": "Эпоха 46: Train Loss: 1.0572, Acc: 92.96%\n",
          "output_type": "stream"
        },
        {
          "name": "stderr",
          "text": "Эпоха 47/125 [Train]: 100%|██████████| 157/157 [00:16<00:00,  9.37it/s]\n",
          "output_type": "stream"
        },
        {
          "name": "stdout",
          "text": "Эпоха 47: Train Loss: 1.0585, Acc: 92.79%\n",
          "output_type": "stream"
        },
        {
          "name": "stderr",
          "text": "Эпоха 48/125 [Train]: 100%|██████████| 157/157 [00:16<00:00,  9.33it/s]\n",
          "output_type": "stream"
        },
        {
          "name": "stdout",
          "text": "Эпоха 48: Train Loss: 1.0468, Acc: 93.32%\n",
          "output_type": "stream"
        },
        {
          "name": "stderr",
          "text": "Эпоха 49/125 [Train]: 100%|██████████| 157/157 [00:16<00:00,  9.39it/s]\n",
          "output_type": "stream"
        },
        {
          "name": "stdout",
          "text": "Эпоха 49: Train Loss: 1.0429, Acc: 93.27%\n",
          "output_type": "stream"
        },
        {
          "name": "stderr",
          "text": "Эпоха 50/125 [Train]: 100%|██████████| 157/157 [00:16<00:00,  9.35it/s]\n",
          "output_type": "stream"
        },
        {
          "name": "stdout",
          "text": "Эпоха 50: Train Loss: 1.0416, Acc: 93.53%\n",
          "output_type": "stream"
        },
        {
          "name": "stderr",
          "text": "Эпоха 51/125 [Train]: 100%|██████████| 157/157 [00:16<00:00,  9.39it/s]\n",
          "output_type": "stream"
        },
        {
          "name": "stdout",
          "text": "Эпоха 51: Train Loss: 1.0367, Acc: 93.38%\n",
          "output_type": "stream"
        },
        {
          "name": "stderr",
          "text": "Эпоха 52/125 [Train]: 100%|██████████| 157/157 [00:16<00:00,  9.37it/s]\n",
          "output_type": "stream"
        },
        {
          "name": "stdout",
          "text": "Эпоха 52: Train Loss: 1.0377, Acc: 93.47%\n",
          "output_type": "stream"
        },
        {
          "name": "stderr",
          "text": "Эпоха 53/125 [Train]: 100%|██████████| 157/157 [00:16<00:00,  9.44it/s]\n",
          "output_type": "stream"
        },
        {
          "name": "stdout",
          "text": "Эпоха 53: Train Loss: 1.0273, Acc: 93.75%\n",
          "output_type": "stream"
        },
        {
          "name": "stderr",
          "text": "Эпоха 54/125 [Train]: 100%|██████████| 157/157 [00:16<00:00,  9.39it/s]\n",
          "output_type": "stream"
        },
        {
          "name": "stdout",
          "text": "Эпоха 54: Train Loss: 1.0292, Acc: 93.77%\n",
          "output_type": "stream"
        },
        {
          "name": "stderr",
          "text": "Эпоха 55/125 [Train]: 100%|██████████| 157/157 [00:16<00:00,  9.38it/s]\n",
          "output_type": "stream"
        },
        {
          "name": "stdout",
          "text": "Эпоха 55: Train Loss: 1.0291, Acc: 93.56%\n",
          "output_type": "stream"
        },
        {
          "name": "stderr",
          "text": "Эпоха 56/125 [Train]: 100%|██████████| 157/157 [00:16<00:00,  9.40it/s]\n",
          "output_type": "stream"
        },
        {
          "name": "stdout",
          "text": "Эпоха 56: Train Loss: 1.0352, Acc: 93.42%\n",
          "output_type": "stream"
        },
        {
          "name": "stderr",
          "text": "Эпоха 57/125 [Train]: 100%|██████████| 157/157 [00:16<00:00,  9.41it/s]\n",
          "output_type": "stream"
        },
        {
          "name": "stdout",
          "text": "Эпоха 57: Train Loss: 1.0170, Acc: 94.11%\n",
          "output_type": "stream"
        },
        {
          "name": "stderr",
          "text": "Эпоха 58/125 [Train]: 100%|██████████| 157/157 [00:16<00:00,  9.36it/s]\n",
          "output_type": "stream"
        },
        {
          "name": "stdout",
          "text": "Эпоха 58: Train Loss: 1.0179, Acc: 94.00%\n",
          "output_type": "stream"
        },
        {
          "name": "stderr",
          "text": "Эпоха 59/125 [Train]: 100%|██████████| 157/157 [00:16<00:00,  9.46it/s]\n",
          "output_type": "stream"
        },
        {
          "name": "stdout",
          "text": "Эпоха 59: Train Loss: 1.0116, Acc: 94.08%\n",
          "output_type": "stream"
        },
        {
          "name": "stderr",
          "text": "Эпоха 60/125 [Train]: 100%|██████████| 157/157 [00:16<00:00,  9.38it/s]\n",
          "output_type": "stream"
        },
        {
          "name": "stdout",
          "text": "Эпоха 60: Train Loss: 1.0178, Acc: 93.83%\n",
          "output_type": "stream"
        },
        {
          "name": "stderr",
          "text": "Эпоха 61/125 [Train]: 100%|██████████| 157/157 [00:16<00:00,  9.42it/s]\n",
          "output_type": "stream"
        },
        {
          "name": "stdout",
          "text": "Эпоха 61: Train Loss: 1.0089, Acc: 94.38%\n",
          "output_type": "stream"
        },
        {
          "name": "stderr",
          "text": "Эпоха 62/125 [Train]: 100%|██████████| 157/157 [00:16<00:00,  9.40it/s]\n",
          "output_type": "stream"
        },
        {
          "name": "stdout",
          "text": "Эпоха 62: Train Loss: 1.0116, Acc: 94.18%\n",
          "output_type": "stream"
        },
        {
          "name": "stderr",
          "text": "Эпоха 63/125 [Train]: 100%|██████████| 157/157 [00:16<00:00,  9.45it/s]\n",
          "output_type": "stream"
        },
        {
          "name": "stdout",
          "text": "Эпоха 63: Train Loss: 0.9952, Acc: 94.62%\n",
          "output_type": "stream"
        },
        {
          "name": "stderr",
          "text": "Эпоха 64/125 [Train]: 100%|██████████| 157/157 [00:16<00:00,  9.36it/s]\n",
          "output_type": "stream"
        },
        {
          "name": "stdout",
          "text": "Эпоха 64: Train Loss: 0.9941, Acc: 94.75%\n",
          "output_type": "stream"
        },
        {
          "name": "stderr",
          "text": "Эпоха 65/125 [Train]: 100%|██████████| 157/157 [00:16<00:00,  9.44it/s]\n",
          "output_type": "stream"
        },
        {
          "name": "stdout",
          "text": "Эпоха 65: Train Loss: 1.0034, Acc: 94.29%\n",
          "output_type": "stream"
        },
        {
          "name": "stderr",
          "text": "Эпоха 66/125 [Train]: 100%|██████████| 157/157 [00:16<00:00,  9.41it/s]\n",
          "output_type": "stream"
        },
        {
          "name": "stdout",
          "text": "Эпоха 66: Train Loss: 0.9944, Acc: 94.66%\n",
          "output_type": "stream"
        },
        {
          "name": "stderr",
          "text": "Эпоха 67/125 [Train]: 100%|██████████| 157/157 [00:16<00:00,  9.42it/s]\n",
          "output_type": "stream"
        },
        {
          "name": "stdout",
          "text": "Эпоха 67: Train Loss: 0.9925, Acc: 94.60%\n",
          "output_type": "stream"
        },
        {
          "name": "stderr",
          "text": "Эпоха 68/125 [Train]: 100%|██████████| 157/157 [00:16<00:00,  9.39it/s]\n",
          "output_type": "stream"
        },
        {
          "name": "stdout",
          "text": "Эпоха 68: Train Loss: 0.9880, Acc: 94.89%\n",
          "output_type": "stream"
        },
        {
          "name": "stderr",
          "text": "Эпоха 69/125 [Train]: 100%|██████████| 157/157 [00:16<00:00,  9.38it/s]\n",
          "output_type": "stream"
        },
        {
          "name": "stdout",
          "text": "Эпоха 69: Train Loss: 0.9893, Acc: 94.78%\n",
          "output_type": "stream"
        },
        {
          "name": "stderr",
          "text": "Эпоха 70/125 [Train]: 100%|██████████| 157/157 [00:16<00:00,  9.39it/s]\n",
          "output_type": "stream"
        },
        {
          "name": "stdout",
          "text": "Эпоха 70: Train Loss: 0.9916, Acc: 94.78%\n",
          "output_type": "stream"
        },
        {
          "name": "stderr",
          "text": "Эпоха 71/125 [Train]: 100%|██████████| 157/157 [00:16<00:00,  9.39it/s]\n",
          "output_type": "stream"
        },
        {
          "name": "stdout",
          "text": "Эпоха 71: Train Loss: 0.9817, Acc: 95.03%\n",
          "output_type": "stream"
        },
        {
          "name": "stderr",
          "text": "Эпоха 72/125 [Train]: 100%|██████████| 157/157 [00:16<00:00,  9.42it/s]\n",
          "output_type": "stream"
        },
        {
          "name": "stdout",
          "text": "Эпоха 72: Train Loss: 0.9825, Acc: 94.93%\n",
          "output_type": "stream"
        },
        {
          "name": "stderr",
          "text": "Эпоха 73/125 [Train]: 100%|██████████| 157/157 [00:16<00:00,  9.35it/s]\n",
          "output_type": "stream"
        },
        {
          "name": "stdout",
          "text": "Эпоха 73: Train Loss: 0.9813, Acc: 94.99%\n",
          "output_type": "stream"
        },
        {
          "name": "stderr",
          "text": "Эпоха 74/125 [Train]: 100%|██████████| 157/157 [00:16<00:00,  9.36it/s]\n",
          "output_type": "stream"
        },
        {
          "name": "stdout",
          "text": "Эпоха 74: Train Loss: 0.9813, Acc: 94.94%\n",
          "output_type": "stream"
        },
        {
          "name": "stderr",
          "text": "Эпоха 75/125 [Train]: 100%|██████████| 157/157 [00:16<00:00,  9.39it/s]\n",
          "output_type": "stream"
        },
        {
          "name": "stdout",
          "text": "Эпоха 75: Train Loss: 0.9655, Acc: 95.61%\n",
          "output_type": "stream"
        },
        {
          "name": "stderr",
          "text": "Эпоха 76/125 [Train]: 100%|██████████| 157/157 [00:16<00:00,  9.43it/s]\n",
          "output_type": "stream"
        },
        {
          "name": "stdout",
          "text": "Эпоха 76: Train Loss: 0.9782, Acc: 95.14%\n",
          "output_type": "stream"
        },
        {
          "name": "stderr",
          "text": "Эпоха 77/125 [Train]: 100%|██████████| 157/157 [00:16<00:00,  9.41it/s]\n",
          "output_type": "stream"
        },
        {
          "name": "stdout",
          "text": "Эпоха 77: Train Loss: 0.9801, Acc: 95.08%\n",
          "output_type": "stream"
        },
        {
          "name": "stderr",
          "text": "Эпоха 78/125 [Train]: 100%|██████████| 157/157 [00:16<00:00,  9.43it/s]\n",
          "output_type": "stream"
        },
        {
          "name": "stdout",
          "text": "Эпоха 78: Train Loss: 0.9681, Acc: 95.19%\n",
          "output_type": "stream"
        },
        {
          "name": "stderr",
          "text": "Эпоха 79/125 [Train]: 100%|██████████| 157/157 [00:16<00:00,  9.37it/s]\n",
          "output_type": "stream"
        },
        {
          "name": "stdout",
          "text": "Эпоха 79: Train Loss: 0.9715, Acc: 95.36%\n",
          "output_type": "stream"
        },
        {
          "name": "stderr",
          "text": "Эпоха 80/125 [Train]: 100%|██████████| 157/157 [00:16<00:00,  9.45it/s]\n",
          "output_type": "stream"
        },
        {
          "name": "stdout",
          "text": "Эпоха 80: Train Loss: 0.9660, Acc: 95.38%\n",
          "output_type": "stream"
        },
        {
          "name": "stderr",
          "text": "Эпоха 81/125 [Train]: 100%|██████████| 157/157 [00:16<00:00,  9.39it/s]\n",
          "output_type": "stream"
        },
        {
          "name": "stdout",
          "text": "Эпоха 81: Train Loss: 0.9675, Acc: 95.42%\n",
          "output_type": "stream"
        },
        {
          "name": "stderr",
          "text": "Эпоха 82/125 [Train]: 100%|██████████| 157/157 [00:16<00:00,  9.45it/s]\n",
          "output_type": "stream"
        },
        {
          "name": "stdout",
          "text": "Эпоха 82: Train Loss: 0.9652, Acc: 95.41%\n",
          "output_type": "stream"
        },
        {
          "name": "stderr",
          "text": "Эпоха 83/125 [Train]: 100%|██████████| 157/157 [00:16<00:00,  9.40it/s]\n",
          "output_type": "stream"
        },
        {
          "name": "stdout",
          "text": "Эпоха 83: Train Loss: 0.9614, Acc: 95.52%\n",
          "output_type": "stream"
        },
        {
          "name": "stderr",
          "text": "Эпоха 84/125 [Train]: 100%|██████████| 157/157 [00:16<00:00,  9.46it/s]\n",
          "output_type": "stream"
        },
        {
          "name": "stdout",
          "text": "Эпоха 84: Train Loss: 0.9562, Acc: 95.75%\n",
          "output_type": "stream"
        },
        {
          "name": "stderr",
          "text": "Эпоха 85/125 [Train]: 100%|██████████| 157/157 [00:16<00:00,  9.41it/s]\n",
          "output_type": "stream"
        },
        {
          "name": "stdout",
          "text": "Эпоха 85: Train Loss: 0.9588, Acc: 95.64%\n",
          "output_type": "stream"
        },
        {
          "name": "stderr",
          "text": "Эпоха 86/125 [Train]: 100%|██████████| 157/157 [00:16<00:00,  9.44it/s]\n",
          "output_type": "stream"
        },
        {
          "name": "stdout",
          "text": "Эпоха 86: Train Loss: 0.9533, Acc: 95.84%\n",
          "output_type": "stream"
        },
        {
          "name": "stderr",
          "text": "Эпоха 87/125 [Train]: 100%|██████████| 157/157 [00:16<00:00,  9.39it/s]\n",
          "output_type": "stream"
        },
        {
          "name": "stdout",
          "text": "Эпоха 87: Train Loss: 0.9597, Acc: 95.57%\n",
          "output_type": "stream"
        },
        {
          "name": "stderr",
          "text": "Эпоха 88/125 [Train]: 100%|██████████| 157/157 [00:16<00:00,  9.44it/s]\n",
          "output_type": "stream"
        },
        {
          "name": "stdout",
          "text": "Эпоха 88: Train Loss: 0.9625, Acc: 95.53%\n",
          "output_type": "stream"
        },
        {
          "name": "stderr",
          "text": "Эпоха 89/125 [Train]: 100%|██████████| 157/157 [00:16<00:00,  9.41it/s]\n",
          "output_type": "stream"
        },
        {
          "name": "stdout",
          "text": "Эпоха 89: Train Loss: 0.9544, Acc: 95.88%\n",
          "output_type": "stream"
        },
        {
          "name": "stderr",
          "text": "Эпоха 90/125 [Train]: 100%|██████████| 157/157 [00:16<00:00,  9.42it/s]\n",
          "output_type": "stream"
        },
        {
          "name": "stdout",
          "text": "Эпоха 90: Train Loss: 0.9542, Acc: 95.76%\n",
          "output_type": "stream"
        },
        {
          "name": "stderr",
          "text": "Эпоха 91/125 [Train]: 100%|██████████| 157/157 [00:16<00:00,  9.44it/s]\n",
          "output_type": "stream"
        },
        {
          "name": "stdout",
          "text": "Эпоха 91: Train Loss: 0.9570, Acc: 95.64%\n",
          "output_type": "stream"
        },
        {
          "name": "stderr",
          "text": "Эпоха 92/125 [Train]: 100%|██████████| 157/157 [00:16<00:00,  9.39it/s]\n",
          "output_type": "stream"
        },
        {
          "name": "stdout",
          "text": "Эпоха 92: Train Loss: 0.9467, Acc: 95.85%\n",
          "output_type": "stream"
        },
        {
          "name": "stderr",
          "text": "Эпоха 93/125 [Train]: 100%|██████████| 157/157 [00:16<00:00,  9.42it/s]\n",
          "output_type": "stream"
        },
        {
          "name": "stdout",
          "text": "Эпоха 93: Train Loss: 0.9508, Acc: 95.99%\n",
          "output_type": "stream"
        },
        {
          "name": "stderr",
          "text": "Эпоха 94/125 [Train]: 100%|██████████| 157/157 [00:16<00:00,  9.39it/s]\n",
          "output_type": "stream"
        },
        {
          "name": "stdout",
          "text": "Эпоха 94: Train Loss: 0.9522, Acc: 95.80%\n",
          "output_type": "stream"
        },
        {
          "name": "stderr",
          "text": "Эпоха 95/125 [Train]: 100%|██████████| 157/157 [00:16<00:00,  9.49it/s]\n",
          "output_type": "stream"
        },
        {
          "name": "stdout",
          "text": "Эпоха 95: Train Loss: 0.9443, Acc: 95.99%\n",
          "output_type": "stream"
        },
        {
          "name": "stderr",
          "text": "Эпоха 96/125 [Train]: 100%|██████████| 157/157 [00:16<00:00,  9.40it/s]\n",
          "output_type": "stream"
        },
        {
          "name": "stdout",
          "text": "Эпоха 96: Train Loss: 0.9366, Acc: 96.20%\n",
          "output_type": "stream"
        },
        {
          "name": "stderr",
          "text": "Эпоха 97/125 [Train]: 100%|██████████| 157/157 [00:16<00:00,  9.40it/s]\n",
          "output_type": "stream"
        },
        {
          "name": "stdout",
          "text": "Эпоха 97: Train Loss: 0.9518, Acc: 95.79%\n",
          "output_type": "stream"
        },
        {
          "name": "stderr",
          "text": "Эпоха 98/125 [Train]: 100%|██████████| 157/157 [00:16<00:00,  9.40it/s]\n",
          "output_type": "stream"
        },
        {
          "name": "stdout",
          "text": "Эпоха 98: Train Loss: 0.9455, Acc: 95.86%\n",
          "output_type": "stream"
        },
        {
          "name": "stderr",
          "text": "Эпоха 99/125 [Train]: 100%|██████████| 157/157 [00:16<00:00,  9.46it/s]\n",
          "output_type": "stream"
        },
        {
          "name": "stdout",
          "text": "Эпоха 99: Train Loss: 0.9407, Acc: 96.31%\n",
          "output_type": "stream"
        },
        {
          "name": "stderr",
          "text": "Эпоха 100/125 [Train]: 100%|██████████| 157/157 [00:16<00:00,  9.38it/s]\n",
          "output_type": "stream"
        },
        {
          "name": "stdout",
          "text": "Эпоха 100: Train Loss: 0.9358, Acc: 96.23%\n",
          "output_type": "stream"
        },
        {
          "name": "stderr",
          "text": "Эпоха 101/125 [Train]: 100%|██████████| 157/157 [00:16<00:00,  9.47it/s]\n",
          "output_type": "stream"
        },
        {
          "name": "stdout",
          "text": "Эпоха 101: Train Loss: 0.9354, Acc: 96.27%\n",
          "output_type": "stream"
        },
        {
          "name": "stderr",
          "text": "Эпоха 102/125 [Train]: 100%|██████████| 157/157 [00:16<00:00,  9.41it/s]\n",
          "output_type": "stream"
        },
        {
          "name": "stdout",
          "text": "Эпоха 102: Train Loss: 0.9368, Acc: 96.23%\n",
          "output_type": "stream"
        },
        {
          "name": "stderr",
          "text": "Эпоха 103/125 [Train]: 100%|██████████| 157/157 [00:16<00:00,  9.44it/s]\n",
          "output_type": "stream"
        },
        {
          "name": "stdout",
          "text": "Эпоха 103: Train Loss: 0.9316, Acc: 96.38%\n",
          "output_type": "stream"
        },
        {
          "name": "stderr",
          "text": "Эпоха 104/125 [Train]: 100%|██████████| 157/157 [00:16<00:00,  9.41it/s]\n",
          "output_type": "stream"
        },
        {
          "name": "stdout",
          "text": "Эпоха 104: Train Loss: 0.9334, Acc: 96.25%\n",
          "output_type": "stream"
        },
        {
          "name": "stderr",
          "text": "Эпоха 105/125 [Train]: 100%|██████████| 157/157 [00:16<00:00,  9.47it/s]\n",
          "output_type": "stream"
        },
        {
          "name": "stdout",
          "text": "Эпоха 105: Train Loss: 0.9387, Acc: 96.26%\n",
          "output_type": "stream"
        },
        {
          "name": "stderr",
          "text": "Эпоха 106/125 [Train]: 100%|██████████| 157/157 [00:16<00:00,  9.43it/s]\n",
          "output_type": "stream"
        },
        {
          "name": "stdout",
          "text": "Эпоха 106: Train Loss: 0.9298, Acc: 96.41%\n",
          "output_type": "stream"
        },
        {
          "name": "stderr",
          "text": "Эпоха 107/125 [Train]: 100%|██████████| 157/157 [00:16<00:00,  9.48it/s]\n",
          "output_type": "stream"
        },
        {
          "name": "stdout",
          "text": "Эпоха 107: Train Loss: 0.9300, Acc: 96.42%\n",
          "output_type": "stream"
        },
        {
          "name": "stderr",
          "text": "Эпоха 108/125 [Train]: 100%|██████████| 157/157 [00:16<00:00,  9.37it/s]\n",
          "output_type": "stream"
        },
        {
          "name": "stdout",
          "text": "Эпоха 108: Train Loss: 0.9340, Acc: 96.27%\n",
          "output_type": "stream"
        },
        {
          "name": "stderr",
          "text": "Эпоха 109/125 [Train]: 100%|██████████| 157/157 [00:16<00:00,  9.47it/s]\n",
          "output_type": "stream"
        },
        {
          "name": "stdout",
          "text": "Эпоха 109: Train Loss: 0.9258, Acc: 96.53%\n",
          "output_type": "stream"
        },
        {
          "name": "stderr",
          "text": "Эпоха 110/125 [Train]: 100%|██████████| 157/157 [00:16<00:00,  9.43it/s]\n",
          "output_type": "stream"
        },
        {
          "name": "stdout",
          "text": "Эпоха 110: Train Loss: 0.9210, Acc: 96.64%\n",
          "output_type": "stream"
        },
        {
          "name": "stderr",
          "text": "Эпоха 111/125 [Train]: 100%|██████████| 157/157 [00:16<00:00,  9.33it/s]\n",
          "output_type": "stream"
        },
        {
          "name": "stdout",
          "text": "Эпоха 111: Train Loss: 0.9256, Acc: 96.41%\n",
          "output_type": "stream"
        },
        {
          "name": "stderr",
          "text": "Эпоха 112/125 [Train]: 100%|██████████| 157/157 [00:16<00:00,  9.43it/s]\n",
          "output_type": "stream"
        },
        {
          "name": "stdout",
          "text": "Эпоха 112: Train Loss: 0.9286, Acc: 96.48%\n",
          "output_type": "stream"
        },
        {
          "name": "stderr",
          "text": "Эпоха 113/125 [Train]: 100%|██████████| 157/157 [00:16<00:00,  9.41it/s]\n",
          "output_type": "stream"
        },
        {
          "name": "stdout",
          "text": "Эпоха 113: Train Loss: 0.9260, Acc: 96.49%\n",
          "output_type": "stream"
        },
        {
          "name": "stderr",
          "text": "Эпоха 114/125 [Train]: 100%|██████████| 157/157 [00:16<00:00,  9.32it/s]\n",
          "output_type": "stream"
        },
        {
          "name": "stdout",
          "text": "Эпоха 114: Train Loss: 0.9287, Acc: 96.39%\n",
          "output_type": "stream"
        },
        {
          "name": "stderr",
          "text": "Эпоха 115/125 [Train]: 100%|██████████| 157/157 [00:16<00:00,  9.33it/s]\n",
          "output_type": "stream"
        },
        {
          "name": "stdout",
          "text": "Эпоха 115: Train Loss: 0.9262, Acc: 96.50%\n",
          "output_type": "stream"
        },
        {
          "name": "stderr",
          "text": "Эпоха 116/125 [Train]: 100%|██████████| 157/157 [00:16<00:00,  9.41it/s]\n",
          "output_type": "stream"
        },
        {
          "name": "stdout",
          "text": "Эпоха 116: Train Loss: 0.9209, Acc: 96.61%\n",
          "output_type": "stream"
        },
        {
          "name": "stderr",
          "text": "Эпоха 117/125 [Train]: 100%|██████████| 157/157 [00:16<00:00,  9.38it/s]\n",
          "output_type": "stream"
        },
        {
          "name": "stdout",
          "text": "Эпоха 117: Train Loss: 0.9201, Acc: 96.73%\n",
          "output_type": "stream"
        },
        {
          "name": "stderr",
          "text": "Эпоха 118/125 [Train]: 100%|██████████| 157/157 [00:16<00:00,  9.43it/s]\n",
          "output_type": "stream"
        },
        {
          "name": "stdout",
          "text": "Эпоха 118: Train Loss: 0.9177, Acc: 96.65%\n",
          "output_type": "stream"
        },
        {
          "name": "stderr",
          "text": "Эпоха 119/125 [Train]: 100%|██████████| 157/157 [00:16<00:00,  9.40it/s]\n",
          "output_type": "stream"
        },
        {
          "name": "stdout",
          "text": "Эпоха 119: Train Loss: 0.9188, Acc: 96.74%\n",
          "output_type": "stream"
        },
        {
          "name": "stderr",
          "text": "Эпоха 120/125 [Train]: 100%|██████████| 157/157 [00:17<00:00,  9.23it/s]\n",
          "output_type": "stream"
        },
        {
          "name": "stdout",
          "text": "Эпоха 120: Train Loss: 0.9220, Acc: 96.62%\n",
          "output_type": "stream"
        },
        {
          "name": "stderr",
          "text": "Эпоха 121/125 [Train]: 100%|██████████| 157/157 [00:16<00:00,  9.31it/s]\n",
          "output_type": "stream"
        },
        {
          "name": "stdout",
          "text": "Эпоха 121: Train Loss: 0.9208, Acc: 96.66%\n",
          "output_type": "stream"
        },
        {
          "name": "stderr",
          "text": "Эпоха 122/125 [Train]: 100%|██████████| 157/157 [00:16<00:00,  9.38it/s]\n",
          "output_type": "stream"
        },
        {
          "name": "stdout",
          "text": "Эпоха 122: Train Loss: 0.9179, Acc: 96.55%\n",
          "output_type": "stream"
        },
        {
          "name": "stderr",
          "text": "Эпоха 123/125 [Train]: 100%|██████████| 157/157 [00:16<00:00,  9.35it/s]\n",
          "output_type": "stream"
        },
        {
          "name": "stdout",
          "text": "Эпоха 123: Train Loss: 0.9232, Acc: 96.45%\n",
          "output_type": "stream"
        },
        {
          "name": "stderr",
          "text": "Эпоха 124/125 [Train]: 100%|██████████| 157/157 [00:16<00:00,  9.49it/s]\n",
          "output_type": "stream"
        },
        {
          "name": "stdout",
          "text": "Эпоха 124: Train Loss: 0.9177, Acc: 96.73%\n",
          "output_type": "stream"
        },
        {
          "name": "stderr",
          "text": "Эпоха 125/125 [Train]: 100%|██████████| 157/157 [00:16<00:00,  9.41it/s]",
          "output_type": "stream"
        },
        {
          "name": "stdout",
          "text": "Эпоха 125: Train Loss: 0.9083, Acc: 97.08%\nЛучшее значение Accuracy при тренировке на полных данных: 95.05%\n",
          "output_type": "stream"
        },
        {
          "name": "stderr",
          "text": "\n",
          "output_type": "stream"
        }
      ],
      "execution_count": null
    },
    {
      "cell_type": "markdown",
      "source": [
        "### Submission"
      ],
      "metadata": {
        "id": "SYXiRb0py8kk"
      }
    },
    {
      "cell_type": "code",
      "source": [
        "model_spf = ImprovedCNN()\n",
        "\n",
        "# Загрузите веса\n",
        "model_spf.load_state_dict(torch.load('best_model_resnet_f.pth'))\n",
        "\n",
        "# Переместите модель на то же устройство, на которое перемещаются данные\n",
        "model_spf = model_spf.to(device)"
      ],
      "metadata": {
        "trusted": true,
        "id": "Zjm9w8mvy8kk"
      },
      "outputs": [],
      "execution_count": null
    },
    {
      "cell_type": "code",
      "source": [
        "images_subm = torch.tensor(test_img.astype('float32')/255.0).permute(0,3,1,2)\n",
        "\n",
        "test_data_loader = torch.utils.data.DataLoader(dataset=images_subm,\n",
        "                                               batch_size=BATCH_SIZE,\n",
        "                                               shuffle=False)"
      ],
      "metadata": {
        "trusted": true,
        "execution": {
          "iopub.status.busy": "2025-06-01T16:18:07.905699Z",
          "iopub.execute_input": "2025-06-01T16:18:07.906312Z",
          "iopub.status.idle": "2025-06-01T16:18:09.252706Z",
          "shell.execute_reply.started": "2025-06-01T16:18:07.906291Z",
          "shell.execute_reply": "2025-06-01T16:18:09.252173Z"
        },
        "id": "oczT6ei_y8kk"
      },
      "outputs": [],
      "execution_count": null
    },
    {
      "cell_type": "code",
      "source": [
        "model_sa.eval()\n",
        "prediction = []\n",
        "\n",
        "with torch.no_grad():\n",
        "    for inputs in tqdm(test_data_loader):\n",
        "        inputs = inputs.to(device)\n",
        "\n",
        "        outputs = model_sa(inputs)\n",
        "        _, predicted = outputs.max(1)\n",
        "        prediction.extend(predicted.cpu().tolist())"
      ],
      "metadata": {
        "trusted": true,
        "execution": {
          "iopub.status.busy": "2025-06-01T16:19:02.652766Z",
          "iopub.execute_input": "2025-06-01T16:19:02.653371Z",
          "iopub.status.idle": "2025-06-01T16:19:06.389409Z",
          "shell.execute_reply.started": "2025-06-01T16:19:02.653349Z",
          "shell.execute_reply": "2025-06-01T16:19:06.388733Z"
        },
        "id": "a09vyE8Ny8kk",
        "outputId": "a0f118fe-5086-470b-db8d-9acf89e8fe28"
      },
      "outputs": [
        {
          "name": "stderr",
          "text": "100%|██████████| 391/391 [00:03<00:00, 104.85it/s]\n",
          "output_type": "stream"
        }
      ],
      "execution_count": null
    },
    {
      "cell_type": "code",
      "source": [
        "submission = pd.DataFrame({\n",
        "    'id': np.arange(len(prediction)),\n",
        "    'Category': prediction\n",
        "})\n",
        "submission.to_csv('submission_r3.csv', index=False)"
      ],
      "metadata": {
        "trusted": true,
        "execution": {
          "iopub.status.busy": "2025-06-01T16:19:15.363533Z",
          "iopub.execute_input": "2025-06-01T16:19:15.364212Z",
          "iopub.status.idle": "2025-06-01T16:19:15.413196Z",
          "shell.execute_reply.started": "2025-06-01T16:19:15.364188Z",
          "shell.execute_reply": "2025-06-01T16:19:15.412686Z"
        },
        "id": "4853GRncy8kk"
      },
      "outputs": [],
      "execution_count": null
    },
    {
      "cell_type": "markdown",
      "source": [
        "## Выпускаем Кракена (YOLO)"
      ],
      "metadata": {
        "id": "-0ycl9B2y8kl"
      }
    },
    {
      "cell_type": "markdown",
      "source": [
        "### Аугментация и адаптация данных тренировочных для YOLO"
      ],
      "metadata": {
        "id": "CZqrbuqsy8kl"
      }
    },
    {
      "cell_type": "code",
      "source": [
        "from torch.utils.data import DataLoader, TensorDataset"
      ],
      "metadata": {
        "trusted": true,
        "execution": {
          "iopub.status.busy": "2025-06-01T22:18:35.900038Z",
          "iopub.execute_input": "2025-06-01T22:18:35.900504Z",
          "iopub.status.idle": "2025-06-01T22:18:35.904009Z",
          "shell.execute_reply.started": "2025-06-01T22:18:35.900478Z",
          "shell.execute_reply": "2025-06-01T22:18:35.903426Z"
        },
        "id": "s58ay2-zy8kl"
      },
      "outputs": [],
      "execution_count": null
    },
    {
      "cell_type": "code",
      "source": [
        "train_img = np.load(\"/kaggle/input/mipt-dl-captcha-2025/mds-misis-dl-captchan/images.npy\")\n",
        "labels = np.load(\"/kaggle/input/mipt-dl-captcha-2025/mds-misis-dl-captchan/labels.npy\")\n",
        "test_img = np.load(\"/kaggle/input/mipt-dl-captcha-2025/mds-misis-dl-captchan/images_sub.npy\")\n",
        "\n",
        "images = torch.tensor(train_img.astype('float32')/255.0).permute(0,3,1,2)\n",
        "labels = torch.tensor(labels.astype('int64'))\n",
        "\n",
        "X_train, X_valid, y_train, y_valid = train_test_split(\n",
        "    images, labels, test_size=0.2, stratify=labels.numpy(), random_state=42\n",
        ")"
      ],
      "metadata": {
        "trusted": true,
        "execution": {
          "iopub.status.busy": "2025-06-01T17:08:23.595124Z",
          "iopub.execute_input": "2025-06-01T17:08:23.595695Z",
          "iopub.status.idle": "2025-06-01T17:08:24.576780Z",
          "shell.execute_reply.started": "2025-06-01T17:08:23.595673Z",
          "shell.execute_reply": "2025-06-01T17:08:24.576033Z"
        },
        "id": "a-l0Q_NMy8kl"
      },
      "outputs": [],
      "execution_count": null
    },
    {
      "cell_type": "code",
      "source": [
        "train_transform = transforms.Compose([\n",
        "    transforms.ToPILImage(),\n",
        "    transforms.Resize((224, 224)),  # YOLO требует 224x224\n",
        "    transforms.RandomRotation(15),\n",
        "    transforms.RandomAffine(0, translate=(0.1, 0.1), scale=(0.9, 1.1)),\n",
        "    transforms.RandomHorizontalFlip(p=0.5),\n",
        "    transforms.ColorJitter(brightness=0.2, contrast=0.2),\n",
        "    transforms.ToTensor(),\n",
        "])\n",
        "\n",
        "valid_transform = transforms.Compose([\n",
        "    transforms.ToPILImage(),\n",
        "    transforms.Resize((224, 224)),\n",
        "    transforms.ToTensor(),\n",
        "])"
      ],
      "metadata": {
        "trusted": true,
        "execution": {
          "iopub.status.busy": "2025-06-01T17:08:24.773026Z",
          "iopub.execute_input": "2025-06-01T17:08:24.773523Z",
          "iopub.status.idle": "2025-06-01T17:08:24.778293Z",
          "shell.execute_reply.started": "2025-06-01T17:08:24.773501Z",
          "shell.execute_reply": "2025-06-01T17:08:24.777661Z"
        },
        "id": "NKWCKRS-y8kl"
      },
      "outputs": [],
      "execution_count": null
    },
    {
      "cell_type": "code",
      "source": [
        "# Адаптация Dataset\n",
        "class CustomDataset(TensorDataset):\n",
        "    def __init__(self, data, labels, transform=None):\n",
        "        self.data = data\n",
        "        self.labels = labels\n",
        "        self.transform = transform\n",
        "\n",
        "    def __len__(self):\n",
        "        return len(self.data)\n",
        "\n",
        "    def __getitem__(self, idx):\n",
        "        img = self.data[idx]\n",
        "        if self.transform:\n",
        "            img = self.transform(img)\n",
        "        return img, self.labels[idx]"
      ],
      "metadata": {
        "trusted": true,
        "execution": {
          "iopub.status.busy": "2025-06-01T17:08:25.333827Z",
          "iopub.execute_input": "2025-06-01T17:08:25.334091Z",
          "iopub.status.idle": "2025-06-01T17:08:25.338757Z",
          "shell.execute_reply.started": "2025-06-01T17:08:25.334070Z",
          "shell.execute_reply": "2025-06-01T17:08:25.338002Z"
        },
        "id": "L8PgCz0Ty8kl"
      },
      "outputs": [],
      "execution_count": null
    },
    {
      "cell_type": "code",
      "source": [
        "train_data_aug_y = CustomDataset(X_train, y_train, transform=train_transform)\n",
        "valid_data_y = CustomDataset(X_valid, y_valid, transform=valid_transform)\n",
        "\n",
        "train_loader_y = DataLoader(train_data_aug_y, batch_size=128, shuffle=True)\n",
        "valid_loader_y = DataLoader(valid_data_y, batch_size=128, shuffle=False)"
      ],
      "metadata": {
        "trusted": true,
        "execution": {
          "iopub.status.busy": "2025-06-01T17:08:26.384671Z",
          "iopub.execute_input": "2025-06-01T17:08:26.384937Z",
          "iopub.status.idle": "2025-06-01T17:08:26.399353Z",
          "shell.execute_reply.started": "2025-06-01T17:08:26.384918Z",
          "shell.execute_reply": "2025-06-01T17:08:26.398607Z"
        },
        "id": "svkCxoNay8kl"
      },
      "outputs": [],
      "execution_count": null
    },
    {
      "cell_type": "code",
      "source": [
        "%pip install ultralytics\n",
        "import ultralytics\n",
        "ultralytics.checks()"
      ],
      "metadata": {
        "trusted": true,
        "execution": {
          "iopub.status.busy": "2025-06-01T16:32:38.805703Z",
          "iopub.execute_input": "2025-06-01T16:32:38.806375Z",
          "iopub.status.idle": "2025-06-01T16:33:50.886598Z",
          "shell.execute_reply.started": "2025-06-01T16:32:38.806351Z",
          "shell.execute_reply": "2025-06-01T16:33:50.885795Z"
        },
        "id": "P3GDyz-by8km",
        "outputId": "aa992cdb-6ca9-4ba8-ced0-2408540fec58"
      },
      "outputs": [
        {
          "name": "stdout",
          "text": "Ultralytics 8.3.146 🚀 Python-3.11.11 torch-2.6.0+cu124 CUDA:0 (Tesla P100-PCIE-16GB, 16269MiB)\nSetup complete ✅ (4 CPUs, 31.4 GB RAM, 6362.0/8062.4 GB disk)\n",
          "output_type": "stream"
        }
      ],
      "execution_count": null
    },
    {
      "cell_type": "code",
      "source": [
        "from ultralytics import YOLO"
      ],
      "metadata": {
        "trusted": true,
        "execution": {
          "iopub.status.busy": "2025-06-01T17:08:28.998833Z",
          "iopub.execute_input": "2025-06-01T17:08:28.999093Z",
          "iopub.status.idle": "2025-06-01T17:08:29.002738Z",
          "shell.execute_reply.started": "2025-06-01T17:08:28.999074Z",
          "shell.execute_reply": "2025-06-01T17:08:29.002182Z"
        },
        "id": "TB8fJekny8km"
      },
      "outputs": [],
      "execution_count": null
    },
    {
      "cell_type": "code",
      "source": [
        "class YOLOFeatureExtractor(nn.Module):\n",
        "    def __init__(self):\n",
        "        super(YOLOFeatureExtractor, self).__init__()\n",
        "        # Загружаем YOLO и извлекаем только PyTorch модель\n",
        "        yolo = YOLO(\"yolo11x-cls.pt\")\n",
        "        self.backbone = yolo.model\n",
        "\n",
        "        # Замораживаем все параметры\n",
        "        for param in self.backbone.parameters():\n",
        "            param.requires_grad = False\n",
        "\n",
        "    def forward(self, x):\n",
        "        # Пропускаем через backbone в режиме eval\n",
        "        self.backbone.eval()\n",
        "        with torch.no_grad():\n",
        "            features = self.backbone(x)\n",
        "\n",
        "            # Обработка различных типов выходных данных\n",
        "            if isinstance(features, tuple):\n",
        "                # Берем первый элемент, если это tuple\n",
        "                features = features[0]\n",
        "\n",
        "            # Если тензор многомерный, приводим к 2D\n",
        "            if len(features.shape) > 2:\n",
        "                features = features.view(features.size(0), -1)\n",
        "\n",
        "        return features"
      ],
      "metadata": {
        "trusted": true,
        "execution": {
          "iopub.status.busy": "2025-06-01T17:24:31.502450Z",
          "iopub.execute_input": "2025-06-01T17:24:31.502948Z",
          "iopub.status.idle": "2025-06-01T17:24:31.508377Z",
          "shell.execute_reply.started": "2025-06-01T17:24:31.502927Z",
          "shell.execute_reply": "2025-06-01T17:24:31.507684Z"
        },
        "id": "WTyRoybGy8km"
      },
      "outputs": [],
      "execution_count": null
    },
    {
      "cell_type": "code",
      "source": [
        "class YOLOClassifier(nn.Module):\n",
        "    def __init__(self, num_classes=26):\n",
        "        super(YOLOClassifier, self).__init__()\n",
        "\n",
        "        # Feature extractor на основе YOLO\n",
        "        self.feature_extractor = YOLOFeatureExtractor()\n",
        "\n",
        "        # Инициализируем классификатор с известным размером (1000 из отладки)\n",
        "        self.classifier = nn.Sequential(\n",
        "            nn.Linear(1000, 512),  # Используем известный размер 1000\n",
        "            nn.ReLU(),\n",
        "            nn.Dropout(0.5),\n",
        "            nn.Linear(512, 256),\n",
        "            nn.ReLU(),\n",
        "            nn.Dropout(0.3),\n",
        "            nn.Linear(256, num_classes)\n",
        "        )\n",
        "\n",
        "    def forward(self, x):\n",
        "        # Извлекаем фичи\n",
        "        features = self.feature_extractor(x)\n",
        "\n",
        "        # Классифицируем\n",
        "        return self.classifier(features)\n",
        "\n",
        "    def unfreeze_backbone(self):\n",
        "        \"\"\"Размораживает веса backbone для fine-tuning\"\"\"\n",
        "        for param in self.feature_extractor.backbone.parameters():\n",
        "            param.requires_grad = True"
      ],
      "metadata": {
        "trusted": true,
        "execution": {
          "iopub.status.busy": "2025-06-01T17:24:34.544013Z",
          "iopub.execute_input": "2025-06-01T17:24:34.544300Z",
          "iopub.status.idle": "2025-06-01T17:24:34.549892Z",
          "shell.execute_reply.started": "2025-06-01T17:24:34.544279Z",
          "shell.execute_reply": "2025-06-01T17:24:34.549198Z"
        },
        "id": "PgeGLndHy8km"
      },
      "outputs": [],
      "execution_count": null
    },
    {
      "cell_type": "code",
      "source": [
        "def create_model():\n",
        "    device = torch.device(\"cuda\" if torch.cuda.is_available() else \"cpu\")\n",
        "    model = YOLOClassifier(num_classes=26)\n",
        "    return model.to(device)"
      ],
      "metadata": {
        "trusted": true,
        "execution": {
          "iopub.status.busy": "2025-06-01T17:24:35.282215Z",
          "iopub.execute_input": "2025-06-01T17:24:35.282463Z",
          "iopub.status.idle": "2025-06-01T17:24:35.286386Z",
          "shell.execute_reply.started": "2025-06-01T17:24:35.282447Z",
          "shell.execute_reply": "2025-06-01T17:24:35.285679Z"
        },
        "id": "zRJzcWMIy8km"
      },
      "outputs": [],
      "execution_count": null
    },
    {
      "cell_type": "code",
      "source": [
        "model_y = create_model()"
      ],
      "metadata": {
        "trusted": true,
        "execution": {
          "iopub.status.busy": "2025-06-01T17:24:37.238896Z",
          "iopub.execute_input": "2025-06-01T17:24:37.239419Z",
          "iopub.status.idle": "2025-06-01T17:24:37.380309Z",
          "shell.execute_reply.started": "2025-06-01T17:24:37.239399Z",
          "shell.execute_reply": "2025-06-01T17:24:37.379537Z"
        },
        "id": "zkgqajV2y8km"
      },
      "outputs": [],
      "execution_count": null
    },
    {
      "cell_type": "code",
      "source": [
        "DEVICE = torch.device(\"cuda\" if torch.cuda.is_available() else \"cpu\")\n",
        "INITIAL_EPOCHS = 10  # Обучение только головы\n",
        "FULL_TRAIN_EPOCHS = 30  # Полное обучение\n",
        "PATIENCE = 5  # Для ранней остановки\n",
        "CHECKPOINT_DIR = \"best_model_yolo.pth\""
      ],
      "metadata": {
        "trusted": true,
        "execution": {
          "iopub.status.busy": "2025-06-01T17:25:54.805674Z",
          "iopub.execute_input": "2025-06-01T17:25:54.806225Z",
          "iopub.status.idle": "2025-06-01T17:25:54.810330Z",
          "shell.execute_reply.started": "2025-06-01T17:25:54.806198Z",
          "shell.execute_reply": "2025-06-01T17:25:54.809584Z"
        },
        "id": "VU1qtrozy8kn"
      },
      "outputs": [],
      "execution_count": null
    },
    {
      "cell_type": "code",
      "source": [
        "def train_epoch(model, loader, optimizer, criterion):\n",
        "    model.train()\n",
        "    # Убеждаемся, что feature extractor в режиме eval\n",
        "    if hasattr(model, 'feature_extractor'):\n",
        "        model.feature_extractor.eval()\n",
        "\n",
        "    total_loss = 0\n",
        "    correct = 0\n",
        "    total = 0\n",
        "\n",
        "    for inputs, labels in tqdm(loader, desc=\"Training\"):\n",
        "        inputs, labels = inputs.to(DEVICE), labels.to(DEVICE)\n",
        "\n",
        "        optimizer.zero_grad()\n",
        "        outputs = model(inputs)\n",
        "        loss = criterion(outputs, labels)\n",
        "        loss.backward()\n",
        "        optimizer.step()\n",
        "\n",
        "        total_loss += loss.item()\n",
        "        _, predicted = outputs.max(1)\n",
        "        total += labels.size(0)\n",
        "        correct += predicted.eq(labels).sum().item()\n",
        "\n",
        "    return total_loss / len(loader), 100 * correct / total"
      ],
      "metadata": {
        "trusted": true,
        "execution": {
          "iopub.status.busy": "2025-06-01T17:25:56.004427Z",
          "iopub.execute_input": "2025-06-01T17:25:56.004697Z",
          "iopub.status.idle": "2025-06-01T17:25:56.010352Z",
          "shell.execute_reply.started": "2025-06-01T17:25:56.004677Z",
          "shell.execute_reply": "2025-06-01T17:25:56.009721Z"
        },
        "id": "IUU35rVdy8kn"
      },
      "outputs": [],
      "execution_count": null
    },
    {
      "cell_type": "code",
      "source": [
        "def validate(model, loader, criterion):\n",
        "    model.eval()\n",
        "    total_loss = 0\n",
        "    correct = 0\n",
        "    total = 0\n",
        "\n",
        "    with torch.no_grad():\n",
        "        for inputs, labels in tqdm(loader, desc=\"Validating\"):\n",
        "            inputs, labels = inputs.to(DEVICE), labels.to(DEVICE)\n",
        "            outputs = model(inputs)\n",
        "            loss = criterion(outputs, labels)\n",
        "\n",
        "            total_loss += loss.item()\n",
        "            _, predicted = outputs.max(1)\n",
        "            total += labels.size(0)\n",
        "            correct += predicted.eq(labels).sum().item()\n",
        "\n",
        "    return total_loss / len(loader), 100 * correct / total"
      ],
      "metadata": {
        "trusted": true,
        "execution": {
          "iopub.status.busy": "2025-06-01T17:25:56.660744Z",
          "iopub.execute_input": "2025-06-01T17:25:56.661439Z",
          "iopub.status.idle": "2025-06-01T17:25:56.666391Z",
          "shell.execute_reply.started": "2025-06-01T17:25:56.661416Z",
          "shell.execute_reply": "2025-06-01T17:25:56.665632Z"
        },
        "id": "OK9yx7Pay8kn"
      },
      "outputs": [],
      "execution_count": null
    },
    {
      "cell_type": "code",
      "source": [
        "def train_model(model):\n",
        "    criterion = nn.CrossEntropyLoss()\n",
        "\n",
        "    # Получаем только обучаемые параметры\n",
        "    trainable_params = [p for p in model.parameters() if p.requires_grad]\n",
        "    print(f\"Количество обучаемых параметров: {sum(p.numel() for p in trainable_params)}\")\n",
        "\n",
        "    if len(trainable_params) == 0:\n",
        "        raise ValueError(\"Нет обучаемых параметров! Проверьте инициализацию модели.\")\n",
        "\n",
        "    optimizer = optim.AdamW(trainable_params, lr=1e-3, weight_decay=1e-5)\n",
        "    scheduler = optim.lr_scheduler.ReduceLROnPlateau(\n",
        "        optimizer, mode='max', factor=0.5, patience=3)\n",
        "\n",
        "    best_acc = 0.0\n",
        "    patience_counter = 0\n",
        "\n",
        "    # Фаза 1: Обучение только классификатора\n",
        "    print(\"=== Фаза 1: Обучение классификатора (10 эпох) ===\")\n",
        "    for epoch in range(INITIAL_EPOCHS):\n",
        "        train_loss, train_acc = train_epoch(model, train_loader_y, optimizer, criterion)\n",
        "        val_loss, val_acc = validate(model, valid_loader_y, criterion)\n",
        "\n",
        "        print(f\"Эпоха {epoch+1}/{INITIAL_EPOCHS}: \"\n",
        "              f\"Train Loss: {train_loss:.4f}, Acc: {train_acc:.2f}% | \"\n",
        "              f\"Val Loss: {val_loss:.4f}, Acc: {val_acc:.2f}%\")\n",
        "\n",
        "        if val_acc > best_acc:\n",
        "            best_acc = val_acc\n",
        "            torch.save(model.state_dict(), CHECKPOINT_DIR)\n",
        "            patience_counter = 0\n",
        "            print(f\"Сохраняется лучшая модель! Acc: {val_acc:.2f}%\")\n",
        "        else:\n",
        "            patience_counter += 1\n",
        "            if patience_counter >= PATIENCE:\n",
        "                print(\"Ранняя остановка!\")\n",
        "                break\n",
        "\n",
        "        scheduler.step(val_acc)\n",
        "\n",
        "    # Фаза 2: Fine-tuning всей модели\n",
        "    print(\"\\n=== Фаза 2: Fine-tuning всей модели (30 эпох) ===\")\n",
        "\n",
        "    # Размораживаем backbone\n",
        "    model.unfreeze_backbone()\n",
        "    trainable_params_full = sum(p.numel() for p in model.parameters() if p.requires_grad)\n",
        "    print(f\"После разморозки - обучаемых параметров: {trainable_params_full}\")\n",
        "\n",
        "    # Новый оптимизатор для всех параметров\n",
        "    optimizer = optim.AdamW(model.parameters(), lr=1e-5, weight_decay=1e-5)\n",
        "    scheduler = optim.lr_scheduler.ReduceLROnPlateau(\n",
        "        optimizer, mode='max', factor=0.5, patience=3)\n",
        "\n",
        "    patience_counter = 0\n",
        "    for epoch in range(FULL_TRAIN_EPOCHS):\n",
        "        train_loss, train_acc = train_epoch(model, train_loader_y, optimizer, criterion)\n",
        "        val_loss, val_acc = validate(model, valid_loader_y, criterion)\n",
        "\n",
        "        print(f\"Эпоха {INITIAL_EPOCHS+epoch+1}/{INITIAL_EPOCHS+FULL_TRAIN_EPOCHS}: \"\n",
        "              f\"Train Loss: {train_loss:.4f}, Acc: {train_acc:.2f}% | \"\n",
        "              f\"Val Loss: {val_loss:.4f}, Acc: {val_acc:.2f}%\")\n",
        "\n",
        "        if val_acc > best_acc:\n",
        "            best_acc = val_acc\n",
        "            torch.save(model.state_dict(), CHECKPOINT_DIR)\n",
        "            patience_counter = 0\n",
        "            print(f\"Сохраняется лучшая модель! Acc: {val_acc:.2f}%\")\n",
        "        else:\n",
        "            patience_counter += 1\n",
        "            if patience_counter >= PATIENCE:\n",
        "                print(\"Ранняя остановка!\")\n",
        "                break\n",
        "\n",
        "        scheduler.step(val_acc)\n",
        "\n",
        "    print(f\"\\nОбучение завершено! Лучшее значение accuracy: {best_acc:.2f}%\")"
      ],
      "metadata": {
        "trusted": true,
        "execution": {
          "iopub.status.busy": "2025-06-01T17:25:57.947996Z",
          "iopub.execute_input": "2025-06-01T17:25:57.948503Z",
          "iopub.status.idle": "2025-06-01T17:25:57.959771Z",
          "shell.execute_reply.started": "2025-06-01T17:25:57.948481Z",
          "shell.execute_reply": "2025-06-01T17:25:57.959036Z"
        },
        "id": "XB1jBgI4y8kn"
      },
      "outputs": [],
      "execution_count": null
    },
    {
      "cell_type": "code",
      "source": [
        "train_model(model_y)"
      ],
      "metadata": {
        "trusted": true,
        "execution": {
          "iopub.status.busy": "2025-06-01T17:26:00.354540Z",
          "iopub.execute_input": "2025-06-01T17:26:00.354802Z",
          "iopub.status.idle": "2025-06-01T17:51:07.446704Z",
          "shell.execute_reply.started": "2025-06-01T17:26:00.354784Z",
          "shell.execute_reply": "2025-06-01T17:51:07.445931Z"
        },
        "id": "mHsj8MD5y8kn",
        "outputId": "4d4d010c-930b-4de5-c738-a232d7ab5e3d"
      },
      "outputs": [
        {
          "name": "stdout",
          "text": "Количество обучаемых параметров: 650522\n=== Фаза 1: Обучение классификатора (10 эпох) ===\n",
          "output_type": "stream"
        },
        {
          "name": "stderr",
          "text": "Training: 100%|██████████| 125/125 [01:20<00:00,  1.56it/s]\nValidating: 100%|██████████| 32/32 [00:13<00:00,  2.32it/s]\n",
          "output_type": "stream"
        },
        {
          "name": "stdout",
          "text": "Эпоха 1/10: Train Loss: 3.0600, Acc: 8.97% | Val Loss: 2.9006, Acc: 12.55%\nСохраняется лучшая модель! Acc: 12.55%\n",
          "output_type": "stream"
        },
        {
          "name": "stderr",
          "text": "Training: 100%|██████████| 125/125 [01:19<00:00,  1.56it/s]\nValidating: 100%|██████████| 32/32 [00:13<00:00,  2.31it/s]\n",
          "output_type": "stream"
        },
        {
          "name": "stdout",
          "text": "Эпоха 2/10: Train Loss: 2.8163, Acc: 13.14% | Val Loss: 2.7655, Acc: 15.12%\nСохраняется лучшая модель! Acc: 15.12%\n",
          "output_type": "stream"
        },
        {
          "name": "stderr",
          "text": "Training: 100%|██████████| 125/125 [01:20<00:00,  1.56it/s]\nValidating: 100%|██████████| 32/32 [00:13<00:00,  2.31it/s]\n",
          "output_type": "stream"
        },
        {
          "name": "stdout",
          "text": "Эпоха 3/10: Train Loss: 2.7077, Acc: 15.32% | Val Loss: 2.6949, Acc: 17.30%\nСохраняется лучшая модель! Acc: 17.30%\n",
          "output_type": "stream"
        },
        {
          "name": "stderr",
          "text": "Training: 100%|██████████| 125/125 [01:20<00:00,  1.55it/s]\nValidating: 100%|██████████| 32/32 [00:13<00:00,  2.29it/s]\n",
          "output_type": "stream"
        },
        {
          "name": "stdout",
          "text": "Эпоха 4/10: Train Loss: 2.6403, Acc: 17.50% | Val Loss: 2.6380, Acc: 19.02%\nСохраняется лучшая модель! Acc: 19.02%\n",
          "output_type": "stream"
        },
        {
          "name": "stderr",
          "text": "Training: 100%|██████████| 125/125 [01:20<00:00,  1.55it/s]\nValidating: 100%|██████████| 32/32 [00:13<00:00,  2.30it/s]\n",
          "output_type": "stream"
        },
        {
          "name": "stdout",
          "text": "Эпоха 5/10: Train Loss: 2.5939, Acc: 18.49% | Val Loss: 2.5952, Acc: 19.65%\nСохраняется лучшая модель! Acc: 19.65%\n",
          "output_type": "stream"
        },
        {
          "name": "stderr",
          "text": "Training: 100%|██████████| 125/125 [01:20<00:00,  1.56it/s]\nValidating: 100%|██████████| 32/32 [00:13<00:00,  2.32it/s]\n",
          "output_type": "stream"
        },
        {
          "name": "stdout",
          "text": "Эпоха 6/10: Train Loss: 2.5591, Acc: 20.03% | Val Loss: 2.5718, Acc: 20.73%\nСохраняется лучшая модель! Acc: 20.73%\n",
          "output_type": "stream"
        },
        {
          "name": "stderr",
          "text": "Training: 100%|██████████| 125/125 [01:20<00:00,  1.56it/s]\nValidating: 100%|██████████| 32/32 [00:13<00:00,  2.33it/s]\n",
          "output_type": "stream"
        },
        {
          "name": "stdout",
          "text": "Эпоха 7/10: Train Loss: 2.5185, Acc: 21.72% | Val Loss: 2.5311, Acc: 21.85%\nСохраняется лучшая модель! Acc: 21.85%\n",
          "output_type": "stream"
        },
        {
          "name": "stderr",
          "text": "Training: 100%|██████████| 125/125 [01:20<00:00,  1.56it/s]\nValidating: 100%|██████████| 32/32 [00:13<00:00,  2.33it/s]\n",
          "output_type": "stream"
        },
        {
          "name": "stdout",
          "text": "Эпоха 8/10: Train Loss: 2.4920, Acc: 22.41% | Val Loss: 2.5102, Acc: 22.62%\nСохраняется лучшая модель! Acc: 22.62%\n",
          "output_type": "stream"
        },
        {
          "name": "stderr",
          "text": "Training: 100%|██████████| 125/125 [01:19<00:00,  1.56it/s]\nValidating: 100%|██████████| 32/32 [00:13<00:00,  2.33it/s]\n",
          "output_type": "stream"
        },
        {
          "name": "stdout",
          "text": "Эпоха 9/10: Train Loss: 2.4671, Acc: 23.12% | Val Loss: 2.4889, Acc: 22.77%\nСохраняется лучшая модель! Acc: 22.77%\n",
          "output_type": "stream"
        },
        {
          "name": "stderr",
          "text": "Training: 100%|██████████| 125/125 [01:19<00:00,  1.56it/s]\nValidating: 100%|██████████| 32/32 [00:13<00:00,  2.33it/s]\n",
          "output_type": "stream"
        },
        {
          "name": "stdout",
          "text": "Эпоха 10/10: Train Loss: 2.4430, Acc: 23.90% | Val Loss: 2.4686, Acc: 23.80%\n",
          "output_type": "stream"
        },
        {
          "name": "stderr",
          "text": "/usr/local/lib/python3.11/dist-packages/torch/optim/lr_scheduler.py:62: UserWarning: The verbose parameter is deprecated. Please use get_last_lr() to access the learning rate.\n  warnings.warn(\n",
          "output_type": "stream"
        },
        {
          "name": "stdout",
          "text": "Сохраняется лучшая модель! Acc: 23.80%\n\n=== Фаза 2: Fine-tuning всей модели (30 эпох) ===\nПосле разморозки - обучаемых параметров: 30287586\n",
          "output_type": "stream"
        },
        {
          "name": "stderr",
          "text": "Training: 100%|██████████| 125/125 [01:19<00:00,  1.57it/s]\nValidating: 100%|██████████| 32/32 [00:13<00:00,  2.34it/s]\n",
          "output_type": "stream"
        },
        {
          "name": "stdout",
          "text": "Эпоха 11/40: Train Loss: 2.4254, Acc: 24.48% | Val Loss: 2.4640, Acc: 24.20%\nСохраняется лучшая модель! Acc: 24.20%\n",
          "output_type": "stream"
        },
        {
          "name": "stderr",
          "text": "Training: 100%|██████████| 125/125 [01:20<00:00,  1.56it/s]\nValidating: 100%|██████████| 32/32 [00:13<00:00,  2.34it/s]\n",
          "output_type": "stream"
        },
        {
          "name": "stdout",
          "text": "Эпоха 12/40: Train Loss: 2.4113, Acc: 24.76% | Val Loss: 2.4621, Acc: 24.02%\n",
          "output_type": "stream"
        },
        {
          "name": "stderr",
          "text": "Training: 100%|██████████| 125/125 [01:20<00:00,  1.56it/s]\nValidating: 100%|██████████| 32/32 [00:13<00:00,  2.32it/s]\n",
          "output_type": "stream"
        },
        {
          "name": "stdout",
          "text": "Эпоха 13/40: Train Loss: 2.4124, Acc: 24.87% | Val Loss: 2.4611, Acc: 24.12%\n",
          "output_type": "stream"
        },
        {
          "name": "stderr",
          "text": "Training: 100%|██████████| 125/125 [01:20<00:00,  1.56it/s]\nValidating: 100%|██████████| 32/32 [00:13<00:00,  2.33it/s]\n",
          "output_type": "stream"
        },
        {
          "name": "stdout",
          "text": "Эпоха 14/40: Train Loss: 2.3998, Acc: 25.23% | Val Loss: 2.4605, Acc: 24.18%\n",
          "output_type": "stream"
        },
        {
          "name": "stderr",
          "text": "Training: 100%|██████████| 125/125 [01:20<00:00,  1.56it/s]\nValidating: 100%|██████████| 32/32 [00:13<00:00,  2.32it/s]\n",
          "output_type": "stream"
        },
        {
          "name": "stdout",
          "text": "Эпоха 15/40: Train Loss: 2.4131, Acc: 24.73% | Val Loss: 2.4597, Acc: 24.10%\n",
          "output_type": "stream"
        },
        {
          "name": "stderr",
          "text": "Training: 100%|██████████| 125/125 [01:20<00:00,  1.56it/s]\nValidating: 100%|██████████| 32/32 [00:13<00:00,  2.32it/s]",
          "output_type": "stream"
        },
        {
          "name": "stdout",
          "text": "Эпоха 16/40: Train Loss: 2.4085, Acc: 24.92% | Val Loss: 2.4593, Acc: 24.07%\nРанняя остановка!\n\nОбучение завершено! Лучшее значение accuracy: 24.20%\n",
          "output_type": "stream"
        },
        {
          "name": "stderr",
          "text": "\n",
          "output_type": "stream"
        }
      ],
      "execution_count": null
    },
    {
      "cell_type": "markdown",
      "source": [
        "## Выпускаем Кракена 2 (EfficientNet)"
      ],
      "metadata": {
        "id": "ZGpYBRrTy8kn"
      }
    },
    {
      "cell_type": "code",
      "source": [
        "train_img = np.load(\"/kaggle/input/mipt-dl-captcha-2025/mds-misis-dl-captchan/images.npy\")\n",
        "labels = np.load(\"/kaggle/input/mipt-dl-captcha-2025/mds-misis-dl-captchan/labels.npy\")\n",
        "test_img = np.load(\"/kaggle/input/mipt-dl-captcha-2025/mds-misis-dl-captchan/images_sub.npy\")\n",
        "\n",
        "images = torch.tensor(train_img.astype('float32')/255.0).permute(0,3,1,2)\n",
        "labels = torch.tensor(labels.astype('int64'))\n",
        "test_images = torch.tensor(test_img.astype('float32')).permute(0,3,1,2)\n",
        "\n",
        "X_train, X_valid, y_train, y_valid = train_test_split(\n",
        "    images, labels, test_size=0.2, stratify=labels.numpy(), random_state=42\n",
        ")"
      ],
      "metadata": {
        "trusted": true,
        "execution": {
          "iopub.status.busy": "2025-06-01T22:18:44.843861Z",
          "iopub.execute_input": "2025-06-01T22:18:44.844629Z",
          "iopub.status.idle": "2025-06-01T22:18:46.990344Z",
          "shell.execute_reply.started": "2025-06-01T22:18:44.844597Z",
          "shell.execute_reply": "2025-06-01T22:18:46.989578Z"
        },
        "id": "4rB17zLdy8kn"
      },
      "outputs": [],
      "execution_count": null
    },
    {
      "cell_type": "code",
      "source": [
        "train_transform = transforms.Compose([\n",
        "    transforms.ToPILImage(),\n",
        "    transforms.Resize((224, 224)),\n",
        "    # Геометрические аугментации\n",
        "    transforms.RandomRotation(degrees=10),\n",
        "    transforms.RandomAffine(degrees=0, translate=(0.1, 0.1), scale=(0.9, 1.1)),\n",
        "    # Цветовые аугментации\n",
        "    transforms.ColorJitter(brightness=0.2, contrast=0.2, saturation=0.1),\n",
        "    transforms.RandomHorizontalFlip(p=0.5),\n",
        "    # Нормализация для ImageNet\n",
        "    transforms.ToTensor(),  # Автоматически нормализует к [0,1]\n",
        "    transforms.Normalize(mean=[0.485, 0.456, 0.406], std=[0.229, 0.224, 0.225])\n",
        "])\n",
        "\n",
        "valid_transform = transforms.Compose([\n",
        "    transforms.ToPILImage(),\n",
        "    transforms.Resize((224, 224)),\n",
        "    transforms.ToTensor(),  # Автоматически нормализует к [0,1]\n",
        "    transforms.Normalize(mean=[0.485, 0.456, 0.406], std=[0.229, 0.224, 0.225])\n",
        "])\n",
        "\n",
        "test_transform = transforms.Compose([\n",
        "    transforms.ToPILImage(),\n",
        "    transforms.Resize((224, 224)),\n",
        "    transforms.ToTensor(),  # Автоматически нормализует к [0,1]\n",
        "    transforms.Normalize(mean=[0.485, 0.456, 0.406], std=[0.229, 0.224, 0.225])\n",
        "])"
      ],
      "metadata": {
        "trusted": true,
        "execution": {
          "iopub.status.busy": "2025-06-01T22:18:46.991634Z",
          "iopub.execute_input": "2025-06-01T22:18:46.991911Z",
          "iopub.status.idle": "2025-06-01T22:18:47.001344Z",
          "shell.execute_reply.started": "2025-06-01T22:18:46.991889Z",
          "shell.execute_reply": "2025-06-01T22:18:47.000734Z"
        },
        "id": "c5IUNRhJy8ko"
      },
      "outputs": [],
      "execution_count": null
    },
    {
      "cell_type": "code",
      "source": [
        "class CaptchaDataset(Dataset):\n",
        "    def __init__(self, data, labels=None, transform=None):\n",
        "        self.data = data\n",
        "        self.labels = labels\n",
        "        self.transform = transform\n",
        "\n",
        "    def __len__(self):\n",
        "        return len(self.data)\n",
        "\n",
        "    def __getitem__(self, idx):\n",
        "        # НЕ НОРМАЛИЗУЕМ здесь - это делает ToTensor()!\n",
        "        img = self.data[idx]\n",
        "\n",
        "        if self.transform:\n",
        "            img = self.transform(img)\n",
        "\n",
        "        if self.labels is not None:\n",
        "            return img, self.labels[idx]\n",
        "        else:\n",
        "            return img"
      ],
      "metadata": {
        "trusted": true,
        "execution": {
          "iopub.status.busy": "2025-06-01T22:18:47.414825Z",
          "iopub.execute_input": "2025-06-01T22:18:47.415481Z",
          "iopub.status.idle": "2025-06-01T22:18:47.421800Z",
          "shell.execute_reply.started": "2025-06-01T22:18:47.415449Z",
          "shell.execute_reply": "2025-06-01T22:18:47.420991Z"
        },
        "id": "ME7j9Ulsy8ko"
      },
      "outputs": [],
      "execution_count": null
    },
    {
      "cell_type": "code",
      "source": [
        "train_dataset = CaptchaDataset(X_train, y_train, transform=train_transform)\n",
        "valid_dataset = CaptchaDataset(X_valid, y_valid, transform=valid_transform)\n",
        "test_dataset = CaptchaDataset(test_images, transform=test_transform)\n",
        "\n",
        "train_loader = DataLoader(train_dataset, batch_size=64, shuffle=True, num_workers=2, pin_memory=True)\n",
        "valid_loader = DataLoader(valid_dataset, batch_size=64, shuffle=False, num_workers=2, pin_memory=True)\n",
        "test_loader = DataLoader(test_dataset, batch_size=64, shuffle=False, num_workers=2, pin_memory=True)"
      ],
      "metadata": {
        "trusted": true,
        "execution": {
          "iopub.status.busy": "2025-06-01T22:18:49.041089Z",
          "iopub.execute_input": "2025-06-01T22:18:49.041467Z",
          "iopub.status.idle": "2025-06-01T22:18:49.048375Z",
          "shell.execute_reply.started": "2025-06-01T22:18:49.041436Z",
          "shell.execute_reply": "2025-06-01T22:18:49.047587Z"
        },
        "id": "p9cXPxnxy8ko"
      },
      "outputs": [],
      "execution_count": null
    },
    {
      "cell_type": "code",
      "source": [
        "from torchvision.models import efficientnet_b3, EfficientNet_B3_Weights"
      ],
      "metadata": {
        "trusted": true,
        "execution": {
          "iopub.status.busy": "2025-06-01T22:18:49.471841Z",
          "iopub.execute_input": "2025-06-01T22:18:49.472457Z",
          "iopub.status.idle": "2025-06-01T22:18:49.475859Z",
          "shell.execute_reply.started": "2025-06-01T22:18:49.472431Z",
          "shell.execute_reply": "2025-06-01T22:18:49.475097Z"
        },
        "id": "Pix515BSy8ko"
      },
      "outputs": [],
      "execution_count": null
    },
    {
      "cell_type": "code",
      "source": [
        "class EfficientNetClassifier(nn.Module):\n",
        "    def __init__(self, num_classes=26, model_name='efficientnet_b3'):\n",
        "        super(EfficientNetClassifier, self).__init__()\n",
        "\n",
        "        self.backbone = efficientnet_b3(weights=EfficientNet_B3_Weights.IMAGENET1K_V1)\n",
        "\n",
        "        # Получаем размер входных фичей для классификатора\n",
        "        in_features = self.backbone.classifier[1].in_features\n",
        "\n",
        "        # Заменяем классификатор\n",
        "        self.backbone.classifier = nn.Sequential(\n",
        "            nn.Dropout(0.3),\n",
        "            nn.Linear(in_features, 1024),\n",
        "            nn.BatchNorm1d(1024),\n",
        "            nn.ReLU(inplace=True),\n",
        "            nn.Dropout(0.4),\n",
        "\n",
        "            nn.Linear(1024, 512),\n",
        "            nn.BatchNorm1d(512),\n",
        "            nn.ReLU(inplace=True),\n",
        "            nn.Dropout(0.3),\n",
        "\n",
        "            nn.Linear(512, 256),\n",
        "            nn.BatchNorm1d(256),\n",
        "            nn.ReLU(inplace=True),\n",
        "            nn.Dropout(0.2),\n",
        "\n",
        "            nn.Linear(256, num_classes)\n",
        "        )\n",
        "\n",
        "        # Замораживаем feature extractor на начальном этапе\n",
        "        self._freeze_backbone()\n",
        "\n",
        "        # Инициализация весов классификатора\n",
        "        self._initialize_classifier()\n",
        "\n",
        "    def _freeze_backbone(self):\n",
        "        \"\"\"Замораживает backbone для transfer learning\"\"\"\n",
        "        for param in self.backbone.features.parameters():\n",
        "            param.requires_grad = False\n",
        "\n",
        "    def _unfreeze_backbone(self):\n",
        "        \"\"\"Размораживает backbone для fine-tuning\"\"\"\n",
        "        for param in self.backbone.features.parameters():\n",
        "            param.requires_grad = True\n",
        "\n",
        "    def _initialize_classifier(self):\n",
        "        \"\"\"Инициализация весов классификатора\"\"\"\n",
        "        for module in self.backbone.classifier.modules():\n",
        "            if isinstance(module, nn.Linear):\n",
        "                nn.init.kaiming_normal_(module.weight, mode='fan_out', nonlinearity='relu')\n",
        "                if module.bias is not None:\n",
        "                    nn.init.constant_(module.bias, 0)\n",
        "            elif isinstance(module, nn.BatchNorm1d):\n",
        "                nn.init.constant_(module.weight, 1)\n",
        "                nn.init.constant_(module.bias, 0)\n",
        "\n",
        "    def forward(self, x):\n",
        "        return self.backbone(x)\n",
        "\n",
        "    def unfreeze_for_finetuning(self):\n",
        "        \"\"\"Размораживает модель для fine-tuning\"\"\"\n",
        "        self._unfreeze_backbone()"
      ],
      "metadata": {
        "trusted": true,
        "execution": {
          "iopub.status.busy": "2025-06-01T22:18:49.916938Z",
          "iopub.execute_input": "2025-06-01T22:18:49.917205Z",
          "iopub.status.idle": "2025-06-01T22:18:49.926409Z",
          "shell.execute_reply.started": "2025-06-01T22:18:49.917184Z",
          "shell.execute_reply": "2025-06-01T22:18:49.925675Z"
        },
        "id": "tuFqV766y8ko"
      },
      "outputs": [],
      "execution_count": null
    },
    {
      "cell_type": "code",
      "source": [
        "device = torch.device(\"cuda\" if torch.cuda.is_available() else \"cpu\")\n",
        "model = EfficientNetClassifier(num_classes=26)\n",
        "model = model.to(device)"
      ],
      "metadata": {
        "trusted": true,
        "execution": {
          "iopub.status.busy": "2025-06-01T22:18:54.741792Z",
          "iopub.execute_input": "2025-06-01T22:18:54.742468Z",
          "iopub.status.idle": "2025-06-01T22:18:55.719523Z",
          "shell.execute_reply.started": "2025-06-01T22:18:54.742443Z",
          "shell.execute_reply": "2025-06-01T22:18:55.718891Z"
        },
        "id": "II3Po2N1y8ko",
        "outputId": "95a36a1c-db81-48ba-df02-4bc035f9a97d"
      },
      "outputs": [
        {
          "name": "stderr",
          "text": "Downloading: \"https://download.pytorch.org/models/efficientnet_b3_rwightman-b3899882.pth\" to /root/.cache/torch/hub/checkpoints/efficientnet_b3_rwightman-b3899882.pth\n100%|██████████| 47.2M/47.2M [00:00<00:00, 159MB/s]\n",
          "output_type": "stream"
        }
      ],
      "execution_count": null
    },
    {
      "cell_type": "code",
      "source": [
        "total_params = sum(p.numel() for p in model.parameters())\n",
        "trainable_params = sum(p.numel() for p in model.parameters() if p.requires_grad)\n",
        "\n",
        "print(f\"Общее количество параметров: {total_params:,}\")\n",
        "print(f\"Обучаемых параметров: {trainable_params:,}\")\n",
        "\n",
        "trainable_modules = []\n",
        "for name, param in model.named_parameters():\n",
        "    if param.requires_grad:\n",
        "        trainable_modules.append(name)\n",
        "\n",
        "print(\"Обучаемые модули:\")\n",
        "for module in trainable_modules:\n",
        "    print(f\"   - {module}\")"
      ],
      "metadata": {
        "trusted": true,
        "execution": {
          "iopub.status.busy": "2025-06-01T22:18:57.622248Z",
          "iopub.execute_input": "2025-06-01T22:18:57.622537Z",
          "iopub.status.idle": "2025-06-01T22:18:57.631331Z",
          "shell.execute_reply.started": "2025-06-01T22:18:57.622517Z",
          "shell.execute_reply": "2025-06-01T22:18:57.630581Z"
        },
        "id": "iPHa4upcy8kp",
        "outputId": "4e3536a0-8d3e-4963-8f3f-a578d6afd6c9"
      },
      "outputs": [
        {
          "name": "stdout",
          "text": "Общее количество параметров: 12,936,514\nОбучаемых параметров: 2,240,282\nОбучаемые модули:\n   - backbone.classifier.1.weight\n   - backbone.classifier.1.bias\n   - backbone.classifier.2.weight\n   - backbone.classifier.2.bias\n   - backbone.classifier.5.weight\n   - backbone.classifier.5.bias\n   - backbone.classifier.6.weight\n   - backbone.classifier.6.bias\n   - backbone.classifier.9.weight\n   - backbone.classifier.9.bias\n   - backbone.classifier.10.weight\n   - backbone.classifier.10.bias\n   - backbone.classifier.13.weight\n   - backbone.classifier.13.bias\n",
          "output_type": "stream"
        }
      ],
      "execution_count": null
    },
    {
      "cell_type": "code",
      "source": [
        "def train_epoch(model, loader, optimizer, criterion, device):\n",
        "    model.train()\n",
        "    running_loss = 0.0\n",
        "    correct = 0\n",
        "    total = 0\n",
        "\n",
        "    progress_bar = tqdm(loader, desc=\"Training\")\n",
        "    for batch_idx, (inputs, labels) in enumerate(progress_bar):\n",
        "        inputs, labels = inputs.to(device), labels.to(device)\n",
        "\n",
        "        optimizer.zero_grad()\n",
        "        outputs = model(inputs)\n",
        "        loss = criterion(outputs, labels)\n",
        "        loss.backward()\n",
        "\n",
        "        # Gradient clipping\n",
        "        torch.nn.utils.clip_grad_norm_(model.parameters(), max_norm=1.0)\n",
        "\n",
        "        optimizer.step()\n",
        "\n",
        "        running_loss += loss.item()\n",
        "        _, predicted = torch.max(outputs.data, 1)\n",
        "        total += labels.size(0)\n",
        "        correct += (predicted == labels).sum().item()\n",
        "\n",
        "        # Обновление каждые 50 батчей\n",
        "        if batch_idx % 50 == 0:\n",
        "            current_acc = 100. * correct / total\n",
        "            progress_bar.set_postfix({\n",
        "                'Loss': f'{loss.item():.4f}',\n",
        "                'Acc': f'{current_acc:.2f}%'\n",
        "            })\n",
        "\n",
        "    epoch_loss = running_loss / len(loader)\n",
        "    epoch_acc = 100. * correct / total\n",
        "    return epoch_loss, epoch_acc"
      ],
      "metadata": {
        "trusted": true,
        "execution": {
          "iopub.status.busy": "2025-06-01T22:18:58.975230Z",
          "iopub.execute_input": "2025-06-01T22:18:58.975909Z",
          "iopub.status.idle": "2025-06-01T22:18:58.982110Z",
          "shell.execute_reply.started": "2025-06-01T22:18:58.975885Z",
          "shell.execute_reply": "2025-06-01T22:18:58.981315Z"
        },
        "id": "W0iDxQgUy8kp"
      },
      "outputs": [],
      "execution_count": null
    },
    {
      "cell_type": "code",
      "source": [
        "def validate_epoch(model, loader, criterion, device):\n",
        "    model.eval()\n",
        "    running_loss = 0.0\n",
        "    correct = 0\n",
        "    total = 0\n",
        "\n",
        "    with torch.no_grad():\n",
        "        for inputs, labels in tqdm(loader, desc=\"Validation\"):\n",
        "            inputs, labels = inputs.to(device), labels.to(device)\n",
        "\n",
        "            outputs = model(inputs)\n",
        "            loss = criterion(outputs, labels)\n",
        "\n",
        "            running_loss += loss.item()\n",
        "            _, predicted = torch.max(outputs.data, 1)\n",
        "            total += labels.size(0)\n",
        "            correct += (predicted == labels).sum().item()\n",
        "\n",
        "    epoch_loss = running_loss / len(loader)\n",
        "    epoch_acc = 100. * correct / total\n",
        "    return epoch_loss, epoch_acc"
      ],
      "metadata": {
        "trusted": true,
        "execution": {
          "iopub.status.busy": "2025-06-01T22:19:00.414167Z",
          "iopub.execute_input": "2025-06-01T22:19:00.414544Z",
          "iopub.status.idle": "2025-06-01T22:19:00.420246Z",
          "shell.execute_reply.started": "2025-06-01T22:19:00.414510Z",
          "shell.execute_reply": "2025-06-01T22:19:00.419412Z"
        },
        "id": "0azkfC0Ey8kp"
      },
      "outputs": [],
      "execution_count": null
    },
    {
      "cell_type": "code",
      "source": [
        "def train_model(model, train_loader, valid_loader, device, num_epochs_phase1=15, num_epochs_phase2=25):\n",
        "    criterion = nn.CrossEntropyLoss()\n",
        "\n",
        "    # История обучения\n",
        "    history = {\n",
        "        'train_loss': [], 'train_acc': [],\n",
        "        'val_loss': [], 'val_acc': [],\n",
        "        'lr': []\n",
        "    }\n",
        "\n",
        "    best_val_acc = 0.0\n",
        "    best_model_state = None\n",
        "    patience_counter = 0\n",
        "    patience = 7\n",
        "\n",
        "    # ===== ФАЗА 1: Обучение только классификатора =====\n",
        "    print(\"\\n=== ФАЗА 1: Обучение классификатора ===\")\n",
        "\n",
        "    # Оптимизатор только для классификатора\n",
        "    classifier_params = [p for p in model.backbone.classifier.parameters() if p.requires_grad]\n",
        "    print(f\"Параметров классификатора для обучения: {sum(p.numel() for p in classifier_params):,}\")\n",
        "\n",
        "    optimizer = optim.Adam(\n",
        "        classifier_params,\n",
        "        lr=1e-3,  # Начинаем с разумного LR\n",
        "        weight_decay=1e-4\n",
        "    )\n",
        "\n",
        "    # ПРОСТОЙ scheduler\n",
        "    scheduler = optim.lr_scheduler.StepLR(optimizer, step_size=5, gamma=0.5)\n",
        "\n",
        "    for epoch in range(num_epochs_phase1):\n",
        "        print(f\"\\nЭпоха {epoch+1}/{num_epochs_phase1}\")\n",
        "\n",
        "        # Текущий learning rate\n",
        "        current_lr = optimizer.param_groups[0]['lr']\n",
        "        print(f\"Learning Rate: {current_lr:.6f}\")\n",
        "\n",
        "        # Обучение\n",
        "        train_loss, train_acc = train_epoch(model, train_loader, optimizer, criterion, device)\n",
        "\n",
        "        # Валидация\n",
        "        val_loss, val_acc = validate_epoch(model, valid_loader, criterion, device)\n",
        "\n",
        "        # Scheduler step ПОСЛЕ эпохи\n",
        "        scheduler.step()\n",
        "\n",
        "        # Сохранение истории\n",
        "        history['train_loss'].append(train_loss)\n",
        "        history['train_acc'].append(train_acc)\n",
        "        history['val_loss'].append(val_loss)\n",
        "        history['val_acc'].append(val_acc)\n",
        "        history['lr'].append(current_lr)\n",
        "\n",
        "        print(f\"Train Loss: {train_loss:.4f}, Train Acc: {train_acc:.2f}%\")\n",
        "        print(f\"Val Loss: {val_loss:.4f}, Val Acc: {val_acc:.2f}%\")\n",
        "\n",
        "        # Сохранение лучшей модели\n",
        "        if val_acc > best_val_acc:\n",
        "            best_val_acc = val_acc\n",
        "            best_model_state = model.state_dict().copy()\n",
        "            patience_counter = 0\n",
        "            print(f\"Новая лучшая модель! Точность: {val_acc:.2f}%\")\n",
        "            torch.save(best_model_state, 'best_model_phase1.pth')\n",
        "        else:\n",
        "            patience_counter += 1\n",
        "            print(f\"Patience: {patience_counter}/{patience}\")\n",
        "\n",
        "            if patience_counter >= patience:\n",
        "                print(\"Ранняя остановка в фазе 1!\")\n",
        "                break\n",
        "\n",
        "    # Загружаем лучшую модель из фазы 1\n",
        "    model.load_state_dict(best_model_state)\n",
        "\n",
        "    # ===== ФАЗА 2: Fine-tuning всей модели =====\n",
        "    print(f\"\\n=== ФАЗА 2: Fine-tuning всей модели ===\")\n",
        "\n",
        "    # Размораживаем всю модель\n",
        "    model.unfreeze_for_finetuning()\n",
        "\n",
        "    trainable_params = sum(p.numel() for p in model.parameters() if p.requires_grad)\n",
        "    print(f\"Обучаемых параметров после разморозки: {trainable_params:,}\")\n",
        "\n",
        "    # Простой оптимизатор для всех параметров\n",
        "    optimizer = optim.Adam(model.parameters(), lr=1e-4, weight_decay=1e-5)\n",
        "    scheduler = optim.lr_scheduler.StepLR(optimizer, step_size=7, gamma=0.5)\n",
        "\n",
        "    patience_counter = 0\n",
        "    for epoch in range(num_epochs_phase2):\n",
        "        print(f\"\\nЭпоха {num_epochs_phase1 + epoch + 1}/{num_epochs_phase1 + num_epochs_phase2}\")\n",
        "\n",
        "        current_lr = optimizer.param_groups[0]['lr']\n",
        "        print(f\"Learning Rate: {current_lr:.6f}\")\n",
        "\n",
        "        # Обучение\n",
        "        train_loss, train_acc = train_epoch(model, train_loader, optimizer, criterion, device)\n",
        "\n",
        "        # Валидация\n",
        "        val_loss, val_acc = validate_epoch(model, valid_loader, criterion, device)\n",
        "\n",
        "        scheduler.step()\n",
        "\n",
        "        # Сохранение истории\n",
        "        history['train_loss'].append(train_loss)\n",
        "        history['train_acc'].append(train_acc)\n",
        "        history['val_loss'].append(val_loss)\n",
        "        history['val_acc'].append(val_acc)\n",
        "        history['lr'].append(current_lr)\n",
        "\n",
        "        print(f\"Train Loss: {train_loss:.4f}, Train Acc: {train_acc:.2f}%\")\n",
        "        print(f\"Val Loss: {val_loss:.4f}, Val Acc: {val_acc:.2f}%\")\n",
        "\n",
        "        # Сохранение лучшей модели\n",
        "        if val_acc > best_val_acc:\n",
        "            best_val_acc = val_acc\n",
        "            best_model_state = model.state_dict().copy()\n",
        "            patience_counter = 0\n",
        "            print(f\"Новая лучшая модель! Точность: {val_acc:.2f}%\")\n",
        "            torch.save(best_model_state, 'best_model_final.pth')\n",
        "        else:\n",
        "            patience_counter += 1\n",
        "            print(f\"Patience: {patience_counter}/{patience}\")\n",
        "\n",
        "            if patience_counter >= patience:\n",
        "                print(\"Ранняя остановка в фазе 2!\")\n",
        "                break\n",
        "\n",
        "    # Загружаем лучшую модель\n",
        "    model.load_state_dict(best_model_state)\n",
        "\n",
        "    print(f\"\\nОбучение завершено! Лучшая точность: {best_val_acc:.2f}%\")\n",
        "\n",
        "    return model, history, best_val_acc"
      ],
      "metadata": {
        "trusted": true,
        "execution": {
          "iopub.status.busy": "2025-06-01T22:19:01.455075Z",
          "iopub.execute_input": "2025-06-01T22:19:01.455902Z",
          "iopub.status.idle": "2025-06-01T22:19:01.469087Z",
          "shell.execute_reply.started": "2025-06-01T22:19:01.455874Z",
          "shell.execute_reply": "2025-06-01T22:19:01.468349Z"
        },
        "id": "vxizDNDdy8kq"
      },
      "outputs": [],
      "execution_count": null
    },
    {
      "cell_type": "code",
      "source": [
        "print(\"Обучение модели...\")\n",
        "trained_model, training_history, best_accuracy = train_model(\n",
        "    model, train_loader, valid_loader, device,\n",
        "    num_epochs_phase1=20,\n",
        "    num_epochs_phase2=40\n",
        ")"
      ],
      "metadata": {
        "trusted": true,
        "execution": {
          "iopub.status.busy": "2025-06-01T22:19:05.109645Z",
          "iopub.execute_input": "2025-06-01T22:19:05.110250Z",
          "iopub.status.idle": "2025-06-01T23:29:37.138693Z",
          "shell.execute_reply.started": "2025-06-01T22:19:05.110227Z",
          "shell.execute_reply": "2025-06-01T23:29:37.137786Z"
        },
        "id": "ljol_ZLQy8kq",
        "outputId": "f5794a21-4503-4dac-b5ac-743a19829b1e"
      },
      "outputs": [
        {
          "name": "stdout",
          "text": "Обучение модели...\n\n=== ФАЗА 1: Обучение классификатора ===\nПараметров классификатора для обучения: 2,240,282\n\nЭпоха 1/20\nLearning Rate: 0.001000\n",
          "output_type": "stream"
        },
        {
          "name": "stderr",
          "text": "Training: 100%|██████████| 250/250 [00:40<00:00,  6.14it/s, Loss=3.9021, Acc=9.47%]\nValidation: 100%|██████████| 63/63 [00:06<00:00, 10.06it/s]\n",
          "output_type": "stream"
        },
        {
          "name": "stdout",
          "text": "Train Loss: 4.6546, Train Acc: 10.24%\nVal Loss: 2.5369, Val Acc: 22.77%\nНовая лучшая модель! Точность: 22.77%\n\nЭпоха 2/20\nLearning Rate: 0.001000\n",
          "output_type": "stream"
        },
        {
          "name": "stderr",
          "text": "Training: 100%|██████████| 250/250 [00:39<00:00,  6.39it/s, Loss=2.9339, Acc=17.89%]\nValidation: 100%|██████████| 63/63 [00:06<00:00, 10.01it/s]\n",
          "output_type": "stream"
        },
        {
          "name": "stdout",
          "text": "Train Loss: 3.0274, Train Acc: 18.38%\nVal Loss: 2.3052, Val Acc: 29.12%\nНовая лучшая модель! Точность: 29.12%\n\nЭпоха 3/20\nLearning Rate: 0.001000\n",
          "output_type": "stream"
        },
        {
          "name": "stderr",
          "text": "Training: 100%|██████████| 250/250 [00:39<00:00,  6.37it/s, Loss=2.6570, Acc=22.99%]\nValidation: 100%|██████████| 63/63 [00:06<00:00, 10.10it/s]\n",
          "output_type": "stream"
        },
        {
          "name": "stdout",
          "text": "Train Loss: 2.5869, Train Acc: 23.16%\nVal Loss: 2.0846, Val Acc: 35.60%\nНовая лучшая модель! Точность: 35.60%\n\nЭпоха 4/20\nLearning Rate: 0.001000\n",
          "output_type": "stream"
        },
        {
          "name": "stderr",
          "text": "Training: 100%|██████████| 250/250 [00:38<00:00,  6.46it/s, Loss=2.1851, Acc=27.11%]\nValidation: 100%|██████████| 63/63 [00:06<00:00, 10.11it/s]\n",
          "output_type": "stream"
        },
        {
          "name": "stdout",
          "text": "Train Loss: 2.3839, Train Acc: 27.34%\nVal Loss: 2.0172, Val Acc: 36.75%\nНовая лучшая модель! Точность: 36.75%\n\nЭпоха 5/20\nLearning Rate: 0.001000\n",
          "output_type": "stream"
        },
        {
          "name": "stderr",
          "text": "Training: 100%|██████████| 250/250 [00:39<00:00,  6.38it/s, Loss=2.2958, Acc=29.37%]\nValidation: 100%|██████████| 63/63 [00:06<00:00, 10.08it/s]\n",
          "output_type": "stream"
        },
        {
          "name": "stdout",
          "text": "Train Loss: 2.2944, Train Acc: 29.64%\nVal Loss: 1.9576, Val Acc: 39.00%\nНовая лучшая модель! Точность: 39.00%\n\nЭпоха 6/20\nLearning Rate: 0.000500\n",
          "output_type": "stream"
        },
        {
          "name": "stderr",
          "text": "Training: 100%|██████████| 250/250 [00:39<00:00,  6.36it/s, Loss=1.8847, Acc=31.69%]\nValidation: 100%|██████████| 63/63 [00:06<00:00,  9.75it/s]\n",
          "output_type": "stream"
        },
        {
          "name": "stdout",
          "text": "Train Loss: 2.2086, Train Acc: 31.69%\nVal Loss: 1.9132, Val Acc: 39.70%\nНовая лучшая модель! Точность: 39.70%\n\nЭпоха 7/20\nLearning Rate: 0.000500\n",
          "output_type": "stream"
        },
        {
          "name": "stderr",
          "text": "Training: 100%|██████████| 250/250 [00:39<00:00,  6.41it/s, Loss=1.9249, Acc=33.15%]\nValidation: 100%|██████████| 63/63 [00:06<00:00, 10.06it/s]\n",
          "output_type": "stream"
        },
        {
          "name": "stdout",
          "text": "Train Loss: 2.1640, Train Acc: 32.85%\nVal Loss: 1.8899, Val Acc: 40.90%\nНовая лучшая модель! Точность: 40.90%\n\nЭпоха 8/20\nLearning Rate: 0.000500\n",
          "output_type": "stream"
        },
        {
          "name": "stderr",
          "text": "Training: 100%|██████████| 250/250 [00:38<00:00,  6.41it/s, Loss=2.0933, Acc=33.50%]\nValidation: 100%|██████████| 63/63 [00:06<00:00, 10.08it/s]\n",
          "output_type": "stream"
        },
        {
          "name": "stdout",
          "text": "Train Loss: 2.1408, Train Acc: 33.42%\nVal Loss: 1.8637, Val Acc: 41.62%\nНовая лучшая модель! Точность: 41.62%\n\nЭпоха 9/20\nLearning Rate: 0.000500\n",
          "output_type": "stream"
        },
        {
          "name": "stderr",
          "text": "Training: 100%|██████████| 250/250 [00:39<00:00,  6.41it/s, Loss=2.1567, Acc=34.17%]\nValidation: 100%|██████████| 63/63 [00:06<00:00, 10.11it/s]\n",
          "output_type": "stream"
        },
        {
          "name": "stdout",
          "text": "Train Loss: 2.1111, Train Acc: 34.44%\nVal Loss: 1.8519, Val Acc: 42.65%\nНовая лучшая модель! Точность: 42.65%\n\nЭпоха 10/20\nLearning Rate: 0.000500\n",
          "output_type": "stream"
        },
        {
          "name": "stderr",
          "text": "Training: 100%|██████████| 250/250 [00:38<00:00,  6.44it/s, Loss=2.1004, Acc=34.97%]\nValidation: 100%|██████████| 63/63 [00:06<00:00, 10.10it/s]\n",
          "output_type": "stream"
        },
        {
          "name": "stdout",
          "text": "Train Loss: 2.0988, Train Acc: 34.76%\nVal Loss: 1.8308, Val Acc: 43.15%\nНовая лучшая модель! Точность: 43.15%\n\nЭпоха 11/20\nLearning Rate: 0.000250\n",
          "output_type": "stream"
        },
        {
          "name": "stderr",
          "text": "Training: 100%|██████████| 250/250 [00:38<00:00,  6.42it/s, Loss=2.0497, Acc=35.52%]\nValidation: 100%|██████████| 63/63 [00:06<00:00, 10.09it/s]\n",
          "output_type": "stream"
        },
        {
          "name": "stdout",
          "text": "Train Loss: 2.0777, Train Acc: 35.69%\nVal Loss: 1.8121, Val Acc: 43.88%\nНовая лучшая модель! Точность: 43.88%\n\nЭпоха 12/20\nLearning Rate: 0.000250\n",
          "output_type": "stream"
        },
        {
          "name": "stderr",
          "text": "Training: 100%|██████████| 250/250 [00:39<00:00,  6.38it/s, Loss=2.1601, Acc=35.84%]\nValidation: 100%|██████████| 63/63 [00:06<00:00,  9.99it/s]\n",
          "output_type": "stream"
        },
        {
          "name": "stdout",
          "text": "Train Loss: 2.0684, Train Acc: 35.79%\nVal Loss: 1.8205, Val Acc: 43.02%\nPatience: 1/7\n\nЭпоха 13/20\nLearning Rate: 0.000250\n",
          "output_type": "stream"
        },
        {
          "name": "stderr",
          "text": "Training: 100%|██████████| 250/250 [00:38<00:00,  6.45it/s, Loss=1.7676, Acc=36.18%]\nValidation: 100%|██████████| 63/63 [00:06<00:00, 10.09it/s]\n",
          "output_type": "stream"
        },
        {
          "name": "stdout",
          "text": "Train Loss: 2.0471, Train Acc: 36.36%\nVal Loss: 1.7985, Val Acc: 44.00%\nНовая лучшая модель! Точность: 44.00%\n\nЭпоха 14/20\nLearning Rate: 0.000250\n",
          "output_type": "stream"
        },
        {
          "name": "stderr",
          "text": "Training: 100%|██████████| 250/250 [00:38<00:00,  6.52it/s, Loss=2.0619, Acc=36.86%]\nValidation: 100%|██████████| 63/63 [00:06<00:00, 10.08it/s]\n",
          "output_type": "stream"
        },
        {
          "name": "stdout",
          "text": "Train Loss: 2.0374, Train Acc: 36.76%\nVal Loss: 1.7960, Val Acc: 43.52%\nPatience: 1/7\n\nЭпоха 15/20\nLearning Rate: 0.000250\n",
          "output_type": "stream"
        },
        {
          "name": "stderr",
          "text": "Training: 100%|██████████| 250/250 [00:38<00:00,  6.44it/s, Loss=2.2711, Acc=36.75%]\nValidation: 100%|██████████| 63/63 [00:06<00:00, 10.10it/s]\n",
          "output_type": "stream"
        },
        {
          "name": "stdout",
          "text": "Train Loss: 2.0405, Train Acc: 36.57%\nVal Loss: 1.7804, Val Acc: 44.23%\nНовая лучшая модель! Точность: 44.23%\n\nЭпоха 16/20\nLearning Rate: 0.000125\n",
          "output_type": "stream"
        },
        {
          "name": "stderr",
          "text": "Training: 100%|██████████| 250/250 [00:38<00:00,  6.44it/s, Loss=1.9586, Acc=37.73%]\nValidation: 100%|██████████| 63/63 [00:06<00:00,  9.97it/s]\n",
          "output_type": "stream"
        },
        {
          "name": "stdout",
          "text": "Train Loss: 2.0104, Train Acc: 37.45%\nVal Loss: 1.7632, Val Acc: 44.50%\nНовая лучшая модель! Точность: 44.50%\n\nЭпоха 17/20\nLearning Rate: 0.000125\n",
          "output_type": "stream"
        },
        {
          "name": "stderr",
          "text": "Training: 100%|██████████| 250/250 [00:38<00:00,  6.43it/s, Loss=1.8032, Acc=37.07%]\nValidation: 100%|██████████| 63/63 [00:06<00:00, 10.03it/s]\n",
          "output_type": "stream"
        },
        {
          "name": "stdout",
          "text": "Train Loss: 2.0066, Train Acc: 37.19%\nVal Loss: 1.7717, Val Acc: 44.38%\nPatience: 1/7\n\nЭпоха 18/20\nLearning Rate: 0.000125\n",
          "output_type": "stream"
        },
        {
          "name": "stderr",
          "text": "Training: 100%|██████████| 250/250 [00:38<00:00,  6.45it/s, Loss=2.1055, Acc=37.27%]\nValidation: 100%|██████████| 63/63 [00:06<00:00, 10.07it/s]\n",
          "output_type": "stream"
        },
        {
          "name": "stdout",
          "text": "Train Loss: 2.0019, Train Acc: 37.41%\nVal Loss: 1.7606, Val Acc: 44.95%\nНовая лучшая модель! Точность: 44.95%\n\nЭпоха 19/20\nLearning Rate: 0.000125\n",
          "output_type": "stream"
        },
        {
          "name": "stderr",
          "text": "Training: 100%|██████████| 250/250 [00:38<00:00,  6.43it/s, Loss=2.1419, Acc=37.45%]\nValidation: 100%|██████████| 63/63 [00:06<00:00, 10.10it/s]\n",
          "output_type": "stream"
        },
        {
          "name": "stdout",
          "text": "Train Loss: 2.0080, Train Acc: 37.66%\nVal Loss: 1.7653, Val Acc: 44.77%\nPatience: 1/7\n\nЭпоха 20/20\nLearning Rate: 0.000125\n",
          "output_type": "stream"
        },
        {
          "name": "stderr",
          "text": "Training: 100%|██████████| 250/250 [00:38<00:00,  6.41it/s, Loss=1.9321, Acc=37.83%]\nValidation: 100%|██████████| 63/63 [00:06<00:00, 10.11it/s]\n",
          "output_type": "stream"
        },
        {
          "name": "stdout",
          "text": "Train Loss: 1.9915, Train Acc: 37.83%\nVal Loss: 1.7581, Val Acc: 44.70%\nPatience: 2/7\n\n=== ФАЗА 2: Fine-tuning всей модели ===\nОбучаемых параметров после разморозки: 12,936,514\n\nЭпоха 21/60\nLearning Rate: 0.000100\n",
          "output_type": "stream"
        },
        {
          "name": "stderr",
          "text": "Training: 100%|██████████| 250/250 [01:40<00:00,  2.48it/s, Loss=0.7313, Acc=61.47%]\nValidation: 100%|██████████| 63/63 [00:06<00:00, 10.03it/s]\n",
          "output_type": "stream"
        },
        {
          "name": "stdout",
          "text": "Train Loss: 1.1356, Train Acc: 64.71%\nVal Loss: 0.4776, Val Acc: 85.85%\nНовая лучшая модель! Точность: 85.85%\n\nЭпоха 22/60\nLearning Rate: 0.000100\n",
          "output_type": "stream"
        },
        {
          "name": "stderr",
          "text": "Training: 100%|██████████| 250/250 [01:40<00:00,  2.48it/s, Loss=0.4064, Acc=85.57%]\nValidation: 100%|██████████| 63/63 [00:06<00:00,  9.94it/s]\n",
          "output_type": "stream"
        },
        {
          "name": "stdout",
          "text": "Train Loss: 0.4776, Train Acc: 86.16%\nVal Loss: 0.2136, Val Acc: 93.38%\nНовая лучшая модель! Точность: 93.38%\n\nЭпоха 23/60\nLearning Rate: 0.000100\n",
          "output_type": "stream"
        },
        {
          "name": "stderr",
          "text": "Training: 100%|██████████| 250/250 [01:40<00:00,  2.48it/s, Loss=0.3108, Acc=92.26%]\nValidation: 100%|██████████| 63/63 [00:06<00:00, 10.00it/s]\n",
          "output_type": "stream"
        },
        {
          "name": "stdout",
          "text": "Train Loss: 0.2780, Train Acc: 92.33%\nVal Loss: 0.1393, Val Acc: 95.78%\nНовая лучшая модель! Точность: 95.78%\n\nЭпоха 24/60\nLearning Rate: 0.000100\n",
          "output_type": "stream"
        },
        {
          "name": "stderr",
          "text": "Training: 100%|██████████| 250/250 [01:40<00:00,  2.48it/s, Loss=0.2683, Acc=94.72%]\nValidation: 100%|██████████| 63/63 [00:06<00:00,  9.98it/s]\n",
          "output_type": "stream"
        },
        {
          "name": "stdout",
          "text": "Train Loss: 0.1903, Train Acc: 94.68%\nVal Loss: 0.1124, Val Acc: 96.20%\nНовая лучшая модель! Точность: 96.20%\n\nЭпоха 25/60\nLearning Rate: 0.000100\n",
          "output_type": "stream"
        },
        {
          "name": "stderr",
          "text": "Training: 100%|██████████| 250/250 [01:40<00:00,  2.48it/s, Loss=0.1082, Acc=96.04%]\nValidation: 100%|██████████| 63/63 [00:06<00:00,  9.93it/s]\n",
          "output_type": "stream"
        },
        {
          "name": "stdout",
          "text": "Train Loss: 0.1417, Train Acc: 96.10%\nVal Loss: 0.0930, Val Acc: 97.12%\nНовая лучшая модель! Точность: 97.12%\n\nЭпоха 26/60\nLearning Rate: 0.000100\n",
          "output_type": "stream"
        },
        {
          "name": "stderr",
          "text": "Training: 100%|██████████| 250/250 [01:40<00:00,  2.48it/s, Loss=0.1218, Acc=97.09%]\nValidation: 100%|██████████| 63/63 [00:06<00:00, 10.08it/s]\n",
          "output_type": "stream"
        },
        {
          "name": "stdout",
          "text": "Train Loss: 0.1024, Train Acc: 97.16%\nVal Loss: 0.0879, Val Acc: 97.28%\nНовая лучшая модель! Точность: 97.28%\n\nЭпоха 27/60\nLearning Rate: 0.000100\n",
          "output_type": "stream"
        },
        {
          "name": "stderr",
          "text": "Training: 100%|██████████| 250/250 [01:40<00:00,  2.48it/s, Loss=0.0896, Acc=97.78%]\nValidation: 100%|██████████| 63/63 [00:06<00:00, 10.06it/s]\n",
          "output_type": "stream"
        },
        {
          "name": "stdout",
          "text": "Train Loss: 0.0856, Train Acc: 97.72%\nVal Loss: 0.0820, Val Acc: 97.80%\nНовая лучшая модель! Точность: 97.80%\n\nЭпоха 28/60\nLearning Rate: 0.000050\n",
          "output_type": "stream"
        },
        {
          "name": "stderr",
          "text": "Training: 100%|██████████| 250/250 [01:40<00:00,  2.48it/s, Loss=0.0356, Acc=98.17%]\nValidation: 100%|██████████| 63/63 [00:06<00:00, 10.08it/s]\n",
          "output_type": "stream"
        },
        {
          "name": "stdout",
          "text": "Train Loss: 0.0649, Train Acc: 98.22%\nVal Loss: 0.0694, Val Acc: 98.15%\nНовая лучшая модель! Точность: 98.15%\n\nЭпоха 29/60\nLearning Rate: 0.000050\n",
          "output_type": "stream"
        },
        {
          "name": "stderr",
          "text": "Training: 100%|██████████| 250/250 [01:40<00:00,  2.48it/s, Loss=0.0210, Acc=98.65%]\nValidation: 100%|██████████| 63/63 [00:06<00:00, 10.03it/s]\n",
          "output_type": "stream"
        },
        {
          "name": "stdout",
          "text": "Train Loss: 0.0487, Train Acc: 98.66%\nVal Loss: 0.0695, Val Acc: 98.17%\nНовая лучшая модель! Точность: 98.17%\n\nЭпоха 30/60\nLearning Rate: 0.000050\n",
          "output_type": "stream"
        },
        {
          "name": "stderr",
          "text": "Training: 100%|██████████| 250/250 [01:40<00:00,  2.48it/s, Loss=0.0943, Acc=98.69%]\nValidation: 100%|██████████| 63/63 [00:06<00:00, 10.01it/s]\n",
          "output_type": "stream"
        },
        {
          "name": "stdout",
          "text": "Train Loss: 0.0466, Train Acc: 98.71%\nVal Loss: 0.0692, Val Acc: 98.28%\nНовая лучшая модель! Точность: 98.28%\n\nЭпоха 31/60\nLearning Rate: 0.000050\n",
          "output_type": "stream"
        },
        {
          "name": "stderr",
          "text": "Training: 100%|██████████| 250/250 [01:41<00:00,  2.47it/s, Loss=0.0659, Acc=99.02%]\nValidation: 100%|██████████| 63/63 [00:06<00:00, 10.07it/s]\n",
          "output_type": "stream"
        },
        {
          "name": "stdout",
          "text": "Train Loss: 0.0387, Train Acc: 99.00%\nVal Loss: 0.0713, Val Acc: 98.15%\nPatience: 1/7\n\nЭпоха 32/60\nLearning Rate: 0.000050\n",
          "output_type": "stream"
        },
        {
          "name": "stderr",
          "text": "Training: 100%|██████████| 250/250 [01:40<00:00,  2.48it/s, Loss=0.0606, Acc=99.15%]\nValidation: 100%|██████████| 63/63 [00:06<00:00, 10.06it/s]\n",
          "output_type": "stream"
        },
        {
          "name": "stdout",
          "text": "Train Loss: 0.0337, Train Acc: 99.11%\nVal Loss: 0.0719, Val Acc: 98.17%\nPatience: 2/7\n\nЭпоха 33/60\nLearning Rate: 0.000050\n",
          "output_type": "stream"
        },
        {
          "name": "stderr",
          "text": "Training: 100%|██████████| 250/250 [01:40<00:00,  2.48it/s, Loss=0.0433, Acc=99.07%]\nValidation: 100%|██████████| 63/63 [00:06<00:00,  9.95it/s]\n",
          "output_type": "stream"
        },
        {
          "name": "stdout",
          "text": "Train Loss: 0.0324, Train Acc: 99.11%\nVal Loss: 0.0716, Val Acc: 98.17%\nPatience: 3/7\n\nЭпоха 34/60\nLearning Rate: 0.000050\n",
          "output_type": "stream"
        },
        {
          "name": "stderr",
          "text": "Training: 100%|██████████| 250/250 [01:40<00:00,  2.48it/s, Loss=0.0128, Acc=99.25%]\nValidation: 100%|██████████| 63/63 [00:06<00:00, 10.02it/s]\n",
          "output_type": "stream"
        },
        {
          "name": "stdout",
          "text": "Train Loss: 0.0247, Train Acc: 99.33%\nVal Loss: 0.0680, Val Acc: 98.15%\nPatience: 4/7\n\nЭпоха 35/60\nLearning Rate: 0.000025\n",
          "output_type": "stream"
        },
        {
          "name": "stderr",
          "text": "Training: 100%|██████████| 250/250 [01:40<00:00,  2.48it/s, Loss=0.0074, Acc=99.25%]\nValidation: 100%|██████████| 63/63 [00:06<00:00, 10.08it/s]\n",
          "output_type": "stream"
        },
        {
          "name": "stdout",
          "text": "Train Loss: 0.0245, Train Acc: 99.31%\nVal Loss: 0.0644, Val Acc: 98.60%\nНовая лучшая модель! Точность: 98.60%\n\nЭпоха 36/60\nLearning Rate: 0.000025\n",
          "output_type": "stream"
        },
        {
          "name": "stderr",
          "text": "Training: 100%|██████████| 250/250 [01:40<00:00,  2.48it/s, Loss=0.0053, Acc=99.38%]\nValidation: 100%|██████████| 63/63 [00:06<00:00,  9.98it/s]\n",
          "output_type": "stream"
        },
        {
          "name": "stdout",
          "text": "Train Loss: 0.0238, Train Acc: 99.31%\nVal Loss: 0.0634, Val Acc: 98.47%\nPatience: 1/7\n\nЭпоха 37/60\nLearning Rate: 0.000025\n",
          "output_type": "stream"
        },
        {
          "name": "stderr",
          "text": "Training: 100%|██████████| 250/250 [01:40<00:00,  2.48it/s, Loss=0.0076, Acc=99.46%]\nValidation: 100%|██████████| 63/63 [00:06<00:00, 10.04it/s]\n",
          "output_type": "stream"
        },
        {
          "name": "stdout",
          "text": "Train Loss: 0.0207, Train Acc: 99.47%\nVal Loss: 0.0621, Val Acc: 98.53%\nPatience: 2/7\n\nЭпоха 38/60\nLearning Rate: 0.000025\n",
          "output_type": "stream"
        },
        {
          "name": "stderr",
          "text": "Training: 100%|██████████| 250/250 [01:40<00:00,  2.48it/s, Loss=0.0125, Acc=99.51%]\nValidation: 100%|██████████| 63/63 [00:06<00:00, 10.03it/s]\n",
          "output_type": "stream"
        },
        {
          "name": "stdout",
          "text": "Train Loss: 0.0189, Train Acc: 99.51%\nVal Loss: 0.0616, Val Acc: 98.42%\nPatience: 3/7\n\nЭпоха 39/60\nLearning Rate: 0.000025\n",
          "output_type": "stream"
        },
        {
          "name": "stderr",
          "text": "Training: 100%|██████████| 250/250 [01:40<00:00,  2.48it/s, Loss=0.0128, Acc=99.52%]\nValidation: 100%|██████████| 63/63 [00:06<00:00,  9.95it/s]\n",
          "output_type": "stream"
        },
        {
          "name": "stdout",
          "text": "Train Loss: 0.0166, Train Acc: 99.56%\nVal Loss: 0.0664, Val Acc: 98.60%\nPatience: 4/7\n\nЭпоха 40/60\nLearning Rate: 0.000025\n",
          "output_type": "stream"
        },
        {
          "name": "stderr",
          "text": "Training: 100%|██████████| 250/250 [01:40<00:00,  2.48it/s, Loss=0.0230, Acc=99.51%]\nValidation: 100%|██████████| 63/63 [00:06<00:00, 10.04it/s]\n",
          "output_type": "stream"
        },
        {
          "name": "stdout",
          "text": "Train Loss: 0.0188, Train Acc: 99.51%\nVal Loss: 0.0598, Val Acc: 98.62%\nНовая лучшая модель! Точность: 98.62%\n\nЭпоха 41/60\nLearning Rate: 0.000025\n",
          "output_type": "stream"
        },
        {
          "name": "stderr",
          "text": "Training: 100%|██████████| 250/250 [01:40<00:00,  2.48it/s, Loss=0.0095, Acc=99.65%]\nValidation: 100%|██████████| 63/63 [00:06<00:00, 10.05it/s]\n",
          "output_type": "stream"
        },
        {
          "name": "stdout",
          "text": "Train Loss: 0.0154, Train Acc: 99.59%\nVal Loss: 0.0630, Val Acc: 98.42%\nPatience: 1/7\n\nЭпоха 42/60\nLearning Rate: 0.000013\n",
          "output_type": "stream"
        },
        {
          "name": "stderr",
          "text": "Training: 100%|██████████| 250/250 [01:40<00:00,  2.48it/s, Loss=0.0050, Acc=99.67%]\nValidation: 100%|██████████| 63/63 [00:06<00:00,  9.95it/s]\n",
          "output_type": "stream"
        },
        {
          "name": "stdout",
          "text": "Train Loss: 0.0123, Train Acc: 99.70%\nVal Loss: 0.0590, Val Acc: 98.62%\nPatience: 2/7\n\nЭпоха 43/60\nLearning Rate: 0.000013\n",
          "output_type": "stream"
        },
        {
          "name": "stderr",
          "text": "Training: 100%|██████████| 250/250 [01:40<00:00,  2.48it/s, Loss=0.0016, Acc=99.66%]\nValidation: 100%|██████████| 63/63 [00:06<00:00, 10.01it/s]\n",
          "output_type": "stream"
        },
        {
          "name": "stdout",
          "text": "Train Loss: 0.0150, Train Acc: 99.67%\nVal Loss: 0.0607, Val Acc: 98.58%\nPatience: 3/7\n\nЭпоха 44/60\nLearning Rate: 0.000013\n",
          "output_type": "stream"
        },
        {
          "name": "stderr",
          "text": "Training: 100%|██████████| 250/250 [01:40<00:00,  2.48it/s, Loss=0.0140, Acc=99.63%]\nValidation: 100%|██████████| 63/63 [00:06<00:00,  9.87it/s]\n",
          "output_type": "stream"
        },
        {
          "name": "stdout",
          "text": "Train Loss: 0.0143, Train Acc: 99.65%\nVal Loss: 0.0607, Val Acc: 98.72%\nНовая лучшая модель! Точность: 98.72%\n\nЭпоха 45/60\nLearning Rate: 0.000013\n",
          "output_type": "stream"
        },
        {
          "name": "stderr",
          "text": "Training: 100%|██████████| 250/250 [01:40<00:00,  2.48it/s, Loss=0.0023, Acc=99.62%]\nValidation: 100%|██████████| 63/63 [00:06<00:00, 10.05it/s]\n",
          "output_type": "stream"
        },
        {
          "name": "stdout",
          "text": "Train Loss: 0.0131, Train Acc: 99.62%\nVal Loss: 0.0592, Val Acc: 98.72%\nPatience: 1/7\n\nЭпоха 46/60\nLearning Rate: 0.000013\n",
          "output_type": "stream"
        },
        {
          "name": "stderr",
          "text": "Training: 100%|██████████| 250/250 [01:40<00:00,  2.48it/s, Loss=0.0059, Acc=99.70%]\nValidation: 100%|██████████| 63/63 [00:06<00:00, 10.06it/s]\n",
          "output_type": "stream"
        },
        {
          "name": "stdout",
          "text": "Train Loss: 0.0124, Train Acc: 99.66%\nVal Loss: 0.0593, Val Acc: 98.72%\nPatience: 2/7\n\nЭпоха 47/60\nLearning Rate: 0.000013\n",
          "output_type": "stream"
        },
        {
          "name": "stderr",
          "text": "Training: 100%|██████████| 250/250 [01:40<00:00,  2.48it/s, Loss=0.0021, Acc=99.60%]\nValidation: 100%|██████████| 63/63 [00:06<00:00,  9.86it/s]\n",
          "output_type": "stream"
        },
        {
          "name": "stdout",
          "text": "Train Loss: 0.0140, Train Acc: 99.61%\nVal Loss: 0.0621, Val Acc: 98.55%\nPatience: 3/7\n\nЭпоха 48/60\nLearning Rate: 0.000013\n",
          "output_type": "stream"
        },
        {
          "name": "stderr",
          "text": "Training: 100%|██████████| 250/250 [01:40<00:00,  2.48it/s, Loss=0.0045, Acc=99.57%]\nValidation: 100%|██████████| 63/63 [00:06<00:00, 10.01it/s]\n",
          "output_type": "stream"
        },
        {
          "name": "stdout",
          "text": "Train Loss: 0.0146, Train Acc: 99.59%\nVal Loss: 0.0620, Val Acc: 98.62%\nPatience: 4/7\n\nЭпоха 49/60\nLearning Rate: 0.000006\n",
          "output_type": "stream"
        },
        {
          "name": "stderr",
          "text": "Training: 100%|██████████| 250/250 [01:40<00:00,  2.48it/s, Loss=0.0213, Acc=99.70%]\nValidation: 100%|██████████| 63/63 [00:06<00:00,  9.96it/s]\n",
          "output_type": "stream"
        },
        {
          "name": "stdout",
          "text": "Train Loss: 0.0134, Train Acc: 99.66%\nVal Loss: 0.0641, Val Acc: 98.53%\nPatience: 5/7\n\nЭпоха 50/60\nLearning Rate: 0.000006\n",
          "output_type": "stream"
        },
        {
          "name": "stderr",
          "text": "Training: 100%|██████████| 250/250 [01:40<00:00,  2.48it/s, Loss=0.0945, Acc=99.63%]\nValidation: 100%|██████████| 63/63 [00:06<00:00, 10.00it/s]\n",
          "output_type": "stream"
        },
        {
          "name": "stdout",
          "text": "Train Loss: 0.0141, Train Acc: 99.62%\nVal Loss: 0.0616, Val Acc: 98.53%\nPatience: 6/7\n\nЭпоха 51/60\nLearning Rate: 0.000006\n",
          "output_type": "stream"
        },
        {
          "name": "stderr",
          "text": "Training: 100%|██████████| 250/250 [01:40<00:00,  2.48it/s, Loss=0.0069, Acc=99.65%]\nValidation: 100%|██████████| 63/63 [00:06<00:00, 10.05it/s]",
          "output_type": "stream"
        },
        {
          "name": "stdout",
          "text": "Train Loss: 0.0133, Train Acc: 99.65%\nVal Loss: 0.0619, Val Acc: 98.53%\nPatience: 7/7\nРанняя остановка в фазе 2!\n\nОбучение завершено! Лучшая точность: 98.72%\n",
          "output_type": "stream"
        },
        {
          "name": "stderr",
          "text": "\n",
          "output_type": "stream"
        }
      ],
      "execution_count": null
    },
    {
      "cell_type": "code",
      "source": [
        "torch.save(trained_model.state_dict(), 'best_captcha_model.pth')\n",
        "print(\"Модель сохранена: best_captcha_model.pth\")"
      ],
      "metadata": {
        "trusted": true,
        "execution": {
          "iopub.status.busy": "2025-06-01T23:30:23.010869Z",
          "iopub.execute_input": "2025-06-01T23:30:23.011639Z",
          "iopub.status.idle": "2025-06-01T23:30:23.204869Z",
          "shell.execute_reply.started": "2025-06-01T23:30:23.011608Z",
          "shell.execute_reply": "2025-06-01T23:30:23.204099Z"
        },
        "id": "6fjqGUlDy8kr",
        "outputId": "df6f93d5-5e5e-4dba-ef97-096dc81f73e0"
      },
      "outputs": [
        {
          "name": "stdout",
          "text": "Модель сохранена: best_captcha_model.pth\n",
          "output_type": "stream"
        }
      ],
      "execution_count": null
    },
    {
      "cell_type": "markdown",
      "source": [
        "### Submission на лучшем чекпоинте частичных данных"
      ],
      "metadata": {
        "id": "EXwHeSJqy8kr"
      }
    },
    {
      "cell_type": "code",
      "source": [
        "trained_model.eval()\n",
        "prediction = []\n",
        "\n",
        "with torch.no_grad():\n",
        "    for inputs in tqdm(test_loader, desc=\"Submission\"):\n",
        "        inputs = inputs.to(device)\n",
        "        outputs = trained_model(inputs)\n",
        "        _, predicted = torch.max(outputs, 1)\n",
        "        prediction.extend(predicted.cpu().tolist())"
      ],
      "metadata": {
        "trusted": true,
        "execution": {
          "iopub.status.busy": "2025-06-01T23:30:32.749263Z",
          "iopub.execute_input": "2025-06-01T23:30:32.749784Z",
          "iopub.status.idle": "2025-06-01T23:31:46.035604Z",
          "shell.execute_reply.started": "2025-06-01T23:30:32.749753Z",
          "shell.execute_reply": "2025-06-01T23:31:46.034832Z"
        },
        "id": "UZlBajWpy8kr",
        "outputId": "7ce0d612-f383-49a0-a92a-1bdeeb4dad2d"
      },
      "outputs": [
        {
          "name": "stderr",
          "text": "Submission: 100%|██████████| 782/782 [01:13<00:00, 10.67it/s]\n",
          "output_type": "stream"
        }
      ],
      "execution_count": null
    },
    {
      "cell_type": "code",
      "source": [
        "prediction[:10]"
      ],
      "metadata": {
        "trusted": true,
        "execution": {
          "iopub.status.busy": "2025-06-01T23:31:46.037253Z",
          "iopub.execute_input": "2025-06-01T23:31:46.037502Z",
          "iopub.status.idle": "2025-06-01T23:31:46.043050Z",
          "shell.execute_reply.started": "2025-06-01T23:31:46.037477Z",
          "shell.execute_reply": "2025-06-01T23:31:46.042505Z"
        },
        "id": "XwGg6NMdy8kr",
        "outputId": "5486b26b-041e-4eb8-9dee-44549ffce21e"
      },
      "outputs": [
        {
          "execution_count": 38,
          "output_type": "execute_result",
          "data": {
            "text/plain": "[9, 9, 14, 12, 10, 7, 5, 17, 23, 22]"
          },
          "metadata": {}
        }
      ],
      "execution_count": null
    },
    {
      "cell_type": "code",
      "source": [
        "submission = pd.DataFrame({\n",
        "    'id': np.arange(len(prediction)),\n",
        "    'Category': prediction\n",
        "})\n",
        "submission.to_csv('submission_e2.csv', index=False)"
      ],
      "metadata": {
        "trusted": true,
        "execution": {
          "iopub.status.busy": "2025-06-01T23:31:46.043748Z",
          "iopub.execute_input": "2025-06-01T23:31:46.043988Z",
          "iopub.status.idle": "2025-06-01T23:31:46.109771Z",
          "shell.execute_reply.started": "2025-06-01T23:31:46.043964Z",
          "shell.execute_reply": "2025-06-01T23:31:46.108989Z"
        },
        "id": "bC6w3lVFy8ks"
      },
      "outputs": [],
      "execution_count": null
    },
    {
      "cell_type": "markdown",
      "source": [
        "### Анализ классификации"
      ],
      "metadata": {
        "id": "KHiGAsZby8ks"
      }
    },
    {
      "cell_type": "code",
      "source": [
        "fig, axes = plt.subplots(2, 2, figsize=(15, 10))\n",
        "\n",
        "# Loss\n",
        "axes[0, 0].plot(training_history['train_loss'], label='Train Loss', color='blue')\n",
        "axes[0, 0].plot(training_history['val_loss'], label='Validation Loss', color='red')\n",
        "axes[0, 0].set_title('Training and Validation Loss')\n",
        "axes[0, 0].set_xlabel('Epoch')\n",
        "axes[0, 0].set_ylabel('Loss')\n",
        "axes[0, 0].legend()\n",
        "axes[0, 0].grid(True)\n",
        "\n",
        "# Accuracy\n",
        "axes[0, 1].plot(training_history['train_acc'], label='Train Accuracy', color='blue')\n",
        "axes[0, 1].plot(training_history['val_acc'], label='Validation Accuracy', color='red')\n",
        "axes[0, 1].set_title('Training and Validation Accuracy')\n",
        "axes[0, 1].set_xlabel('Epoch')\n",
        "axes[0, 1].set_ylabel('Accuracy (%)')\n",
        "axes[0, 1].legend()\n",
        "axes[0, 1].grid(True)\n",
        "\n",
        "# Learning Rate\n",
        "axes[1, 0].plot(training_history['lr'], color='green')\n",
        "axes[1, 0].set_title('Learning Rate Schedule')\n",
        "axes[1, 0].set_xlabel('Epoch')\n",
        "axes[1, 0].set_ylabel('Learning Rate')\n",
        "axes[1, 0].grid(True)\n",
        "\n",
        "# Accuracy improvement\n",
        "best_val_acc = max(training_history['val_acc'])\n",
        "best_epoch = training_history['val_acc'].index(best_val_acc)\n",
        "axes[1, 1].plot(training_history['val_acc'], color='purple')\n",
        "axes[1, 1].axhline(y=best_val_acc, color='red', linestyle='--', label=f'Best: {best_val_acc:.2f}%')\n",
        "axes[1, 1].axvline(x=best_epoch, color='red', linestyle='--', alpha=0.5)\n",
        "axes[1, 1].set_title('Validation Accuracy Progress')\n",
        "axes[1, 1].set_xlabel('Epoch')\n",
        "axes[1, 1].set_ylabel('Accuracy (%)')\n",
        "axes[1, 1].legend()\n",
        "axes[1, 1].grid(True)\n",
        "\n",
        "plt.tight_layout()\n",
        "plt.show()"
      ],
      "metadata": {
        "trusted": true,
        "execution": {
          "iopub.status.busy": "2025-06-01T23:33:37.145312Z",
          "iopub.execute_input": "2025-06-01T23:33:37.146039Z",
          "iopub.status.idle": "2025-06-01T23:33:37.850611Z",
          "shell.execute_reply.started": "2025-06-01T23:33:37.146012Z",
          "shell.execute_reply": "2025-06-01T23:33:37.849915Z"
        },
        "id": "0EQExwvay8ks",
        "outputId": "ef977f2d-b563-4b15-9fe0-47d38ae1f08e"
      },
      "outputs": [
        {
          "output_type": "display_data",
          "data": {
            "text/plain": "<Figure size 1500x1000 with 4 Axes>",
            "image/png": "[encoded data removed]"
          },
          "metadata": {}
        }
      ],
      "execution_count": null
    },
    {
      "cell_type": "code",
      "source": [
        "def evaluate_model(model, valid_loader, device):\n",
        "    model.eval()\n",
        "    all_preds = []\n",
        "    all_labels = []\n",
        "\n",
        "    with torch.no_grad():\n",
        "        for inputs, labels in tqdm(valid_loader, desc=\"Evaluating\"):\n",
        "            inputs, labels = inputs.to(device), labels.to(device)\n",
        "            outputs = model(inputs)\n",
        "            _, predicted = torch.max(outputs, 1)\n",
        "\n",
        "            all_preds.extend(predicted.cpu().numpy())\n",
        "            all_labels.extend(labels.cpu().numpy())\n",
        "\n",
        "    return all_preds, all_labels\n",
        "\n",
        "print(\"\\nДетальная оценка модели...\")\n",
        "val_preds, val_labels = evaluate_model(trained_model, valid_loader, device)"
      ],
      "metadata": {
        "trusted": true,
        "execution": {
          "iopub.status.busy": "2025-06-01T23:33:51.844155Z",
          "iopub.execute_input": "2025-06-01T23:33:51.844817Z",
          "iopub.status.idle": "2025-06-01T23:33:58.855688Z",
          "shell.execute_reply.started": "2025-06-01T23:33:51.844795Z",
          "shell.execute_reply": "2025-06-01T23:33:58.854961Z"
        },
        "id": "qFbPfjIry8ks",
        "outputId": "12879475-724b-48a1-eb66-1507ad042264"
      },
      "outputs": [
        {
          "name": "stdout",
          "text": "\nДетальная оценка модели...\n",
          "output_type": "stream"
        },
        {
          "name": "stderr",
          "text": "Evaluating: 100%|██████████| 63/63 [00:07<00:00,  9.00it/s]\n",
          "output_type": "stream"
        }
      ],
      "execution_count": null
    },
    {
      "cell_type": "code",
      "source": [
        "from sklearn.metrics import classification_report, confusion_matrix\n",
        "import seaborn as sns"
      ],
      "metadata": {
        "trusted": true,
        "execution": {
          "iopub.status.busy": "2025-06-01T23:33:58.857059Z",
          "iopub.execute_input": "2025-06-01T23:33:58.857291Z",
          "iopub.status.idle": "2025-06-01T23:33:59.171140Z",
          "shell.execute_reply.started": "2025-06-01T23:33:58.857269Z",
          "shell.execute_reply": "2025-06-01T23:33:59.170611Z"
        },
        "id": "pjeJKLXRy8kt"
      },
      "outputs": [],
      "execution_count": null
    },
    {
      "cell_type": "code",
      "source": [
        "class_names = [chr(ord('A') + i) for i in range(26)]  # A-Z\n",
        "report = classification_report(val_labels, val_preds, target_names=class_names, output_dict=True)\n",
        "\n",
        "print(\"\\nОтчет по классификации:\")\n",
        "print(classification_report(val_labels, val_preds, target_names=class_names))\n",
        "\n",
        "# Confusion Matrix\n",
        "plt.figure(figsize=(12, 10))\n",
        "cm = confusion_matrix(val_labels, val_preds)\n",
        "sns.heatmap(cm, annot=True, fmt='d', cmap='Blues', xticklabels=class_names, yticklabels=class_names)\n",
        "plt.title('Confusion Matrix')\n",
        "plt.xlabel('Предсказанные')\n",
        "plt.ylabel('Реальные')\n",
        "plt.show()"
      ],
      "metadata": {
        "trusted": true,
        "execution": {
          "iopub.status.busy": "2025-06-01T23:33:59.171756Z",
          "iopub.execute_input": "2025-06-01T23:33:59.172038Z",
          "iopub.status.idle": "2025-06-01T23:34:00.543356Z",
          "shell.execute_reply.started": "2025-06-01T23:33:59.172021Z",
          "shell.execute_reply": "2025-06-01T23:34:00.542664Z"
        },
        "id": "2Xgs8WjRy8kt",
        "outputId": "11f4a567-50b1-4354-f319-2c2f54110777"
      },
      "outputs": [
        {
          "name": "stdout",
          "text": "\nОтчет по классификации:\n              precision    recall  f1-score   support\n\n           A       1.00      1.00      1.00       150\n           B       0.99      0.97      0.98       176\n           C       0.98      0.96      0.97       142\n           D       0.99      0.99      0.99       176\n           E       0.99      0.99      0.99       153\n           F       1.00      1.00      1.00       135\n           G       0.98      0.97      0.97       163\n           H       0.99      0.97      0.98       181\n           I       0.98      0.97      0.97        88\n           J       0.97      0.95      0.96        99\n           K       0.98      0.99      0.98       159\n           L       0.96      1.00      0.98       102\n           M       0.98      0.99      0.99       194\n           N       0.97      0.98      0.98       184\n           O       0.96      0.98      0.97       174\n           P       1.00      1.00      1.00       152\n           Q       0.98      0.97      0.97       173\n           R       0.99      0.99      0.99       186\n           S       0.97      0.99      0.98       148\n           T       1.00      0.98      0.99       115\n           U       0.99      1.00      1.00       153\n           V       0.99      1.00      1.00       148\n           W       1.00      1.00      1.00       203\n           X       1.00      1.00      1.00       163\n           Y       1.00      0.99      0.99       136\n           Z       0.98      0.99      0.99       147\n\n    accuracy                           0.99      4000\n   macro avg       0.98      0.98      0.98      4000\nweighted avg       0.99      0.99      0.99      4000\n\n",
          "output_type": "stream"
        },
        {
          "output_type": "display_data",
          "data": {
            "text/plain": "<Figure size 1200x1000 with 2 Axes>",
            "image/png": "[encoded data removed]"
          },
          "metadata": {}
        }
      ],
      "execution_count": null
    },
    {
      "cell_type": "markdown",
      "source": [
        "### Обучение на полных данных"
      ],
      "metadata": {
        "id": "owJGHDJYy8kt"
      }
    },
    {
      "cell_type": "code",
      "source": [
        "def train_model_full(model, train_loader, device, num_epochs_phase1=20, num_epochs_phase2=40):\n",
        "    criterion = nn.CrossEntropyLoss()\n",
        "\n",
        "    # История обучения\n",
        "    history = {\n",
        "        'train_loss': [], 'train_acc': [],\n",
        "        'lr': []\n",
        "    }\n",
        "\n",
        "    best_acc = 0.0\n",
        "    best_model_state = None\n",
        "    patience_counter = 0\n",
        "    patience = 7\n",
        "\n",
        "    # ===== ФАЗА 1: Обучение только классификатора =====\n",
        "    print(\"\\n=== ФАЗА 1: Обучение классификатора ===\")\n",
        "\n",
        "    # Оптимизатор только для классификатора\n",
        "    classifier_params = [p for p in model.backbone.classifier.parameters() if p.requires_grad]\n",
        "    print(f\"Параметров классификатора для обучения: {sum(p.numel() for p in classifier_params):,}\")\n",
        "\n",
        "    optimizer = optim.Adam(\n",
        "        classifier_params,\n",
        "        lr=1e-3,  # Начинаем с разумного LR\n",
        "        weight_decay=1e-4\n",
        "    )\n",
        "\n",
        "    # ПРОСТОЙ scheduler\n",
        "    scheduler = optim.lr_scheduler.StepLR(optimizer, step_size=5, gamma=0.5)\n",
        "\n",
        "    for epoch in range(num_epochs_phase1):\n",
        "        print(f\"\\nЭпоха {epoch+1}/{num_epochs_phase1}\")\n",
        "\n",
        "        # Текущий learning rate\n",
        "        current_lr = optimizer.param_groups[0]['lr']\n",
        "        print(f\"Learning Rate: {current_lr:.6f}\")\n",
        "\n",
        "        # Обучение\n",
        "        train_loss, train_acc = train_epoch(model, train_loader, optimizer, criterion, device)\n",
        "\n",
        "        # Scheduler step ПОСЛЕ эпохи\n",
        "        scheduler.step()\n",
        "\n",
        "        # Сохранение истории\n",
        "        history['train_loss'].append(train_loss)\n",
        "        history['train_acc'].append(train_acc)\n",
        "        history['lr'].append(current_lr)\n",
        "\n",
        "        print(f\"Train Loss: {train_loss:.4f}, Train Acc: {train_acc:.2f}%\")\n",
        "\n",
        "        # Сохранение лучшей модели\n",
        "        if train_acc > best_acc:\n",
        "            best_acc = train_acc\n",
        "            best_model_state = model.state_dict().copy()\n",
        "            patience_counter = 0\n",
        "            print(f\"Новая лучшая модель! Точность: {train_acc:.2f}%\")\n",
        "            torch.save(best_model_state, 'best_model_full_phase1.pth')\n",
        "        else:\n",
        "            patience_counter += 1\n",
        "            print(f\"Patience: {patience_counter}/{patience}\")\n",
        "\n",
        "            if patience_counter >= patience:\n",
        "                print(\"Ранняя остановка в фазе 1!\")\n",
        "                break\n",
        "\n",
        "    # Загружаем лучшую модель из фазы 1\n",
        "    model.load_state_dict(best_model_state)\n",
        "\n",
        "    # ===== ФАЗА 2: Fine-tuning всей модели =====\n",
        "    print(f\"\\n=== ФАЗА 2: Fine-tuning всей модели ===\")\n",
        "\n",
        "    # Размораживаем всю модель\n",
        "    model.unfreeze_for_finetuning()\n",
        "\n",
        "    trainable_params = sum(p.numel() for p in model.parameters() if p.requires_grad)\n",
        "    print(f\"Обучаемых параметров после разморозки: {trainable_params:,}\")\n",
        "\n",
        "    # Простой оптимизатор для всех параметров\n",
        "    optimizer = optim.Adam(model.parameters(), lr=1e-4, weight_decay=1e-5)\n",
        "    scheduler = optim.lr_scheduler.StepLR(optimizer, step_size=7, gamma=0.5)\n",
        "\n",
        "    patience_counter = 0\n",
        "    for epoch in range(num_epochs_phase2):\n",
        "        print(f\"\\nЭпоха {num_epochs_phase1 + epoch + 1}/{num_epochs_phase1 + num_epochs_phase2}\")\n",
        "\n",
        "        current_lr = optimizer.param_groups[0]['lr']\n",
        "        print(f\"Learning Rate: {current_lr:.6f}\")\n",
        "\n",
        "        # Обучение\n",
        "        train_loss, train_acc = train_epoch(model, train_loader, optimizer, criterion, device)\n",
        "\n",
        "        scheduler.step()\n",
        "\n",
        "        # Сохранение истории\n",
        "        history['train_loss'].append(train_loss)\n",
        "        history['train_acc'].append(train_acc)\n",
        "        history['lr'].append(current_lr)\n",
        "\n",
        "        print(f\"Train Loss: {train_loss:.4f}, Train Acc: {train_acc:.2f}%\")\n",
        "\n",
        "        # Сохранение лучшей модели\n",
        "        if train_acc > best_acc:\n",
        "            best_acc = train_acc\n",
        "            best_model_state = model.state_dict().copy()\n",
        "            patience_counter = 0\n",
        "            print(f\"Новая лучшая модель! Точность: {val_acc:.2f}%\")\n",
        "            torch.save(best_model_state, 'best_model_full_final.pth')\n",
        "        else:\n",
        "            patience_counter += 1\n",
        "            print(f\"Patience: {patience_counter}/{patience}\")\n",
        "\n",
        "            if patience_counter >= patience:\n",
        "                print(\"Ранняя остановка в фазе 2!\")\n",
        "                break\n",
        "\n",
        "    # Загружаем лучшую модель\n",
        "    model.load_state_dict(best_model_state)\n",
        "\n",
        "    print(f\"\\nОбучение завершено! Лучшая точность: {best_acc:.2f}%\")\n",
        "\n",
        "    return model, history, best_acc"
      ],
      "metadata": {
        "trusted": true,
        "execution": {
          "iopub.status.busy": "2025-06-01T23:34:01.093579Z",
          "iopub.execute_input": "2025-06-01T23:34:01.094052Z",
          "iopub.status.idle": "2025-06-01T23:34:01.105594Z",
          "shell.execute_reply.started": "2025-06-01T23:34:01.094028Z",
          "shell.execute_reply": "2025-06-01T23:34:01.104832Z"
        },
        "id": "t0b9I1xGy8kt"
      },
      "outputs": [],
      "execution_count": null
    },
    {
      "cell_type": "code",
      "source": [
        "train_img = np.load(\"/kaggle/input/mipt-dl-captcha-2025/mds-misis-dl-captchan/images.npy\")\n",
        "labels = np.load(\"/kaggle/input/mipt-dl-captcha-2025/mds-misis-dl-captchan/labels.npy\")\n",
        "test_img = np.load(\"/kaggle/input/mipt-dl-captcha-2025/mds-misis-dl-captchan/images_sub.npy\")\n",
        "\n",
        "images = torch.tensor(train_img.astype('float32')/255.0).permute(0,3,1,2)\n",
        "labels = torch.tensor(labels.astype('int64'))\n",
        "test_images = torch.tensor(test_img.astype('float32')).permute(0,3,1,2)\n",
        "\n",
        "train_dataset_full = CaptchaDataset(images, labels, transform=train_transform)\n",
        "test_dataset = CaptchaDataset(test_images, transform=test_transform)\n",
        "\n",
        "train_loader_full = DataLoader(train_dataset_full, batch_size=64, shuffle=True, num_workers=2, pin_memory=True)\n",
        "test_loader = DataLoader(test_dataset, batch_size=64, shuffle=False, num_workers=2, pin_memory=True)"
      ],
      "metadata": {
        "trusted": true,
        "execution": {
          "iopub.status.busy": "2025-06-01T23:34:21.426391Z",
          "iopub.execute_input": "2025-06-01T23:34:21.426870Z",
          "iopub.status.idle": "2025-06-01T23:34:23.114629Z",
          "shell.execute_reply.started": "2025-06-01T23:34:21.426846Z",
          "shell.execute_reply": "2025-06-01T23:34:23.114070Z"
        },
        "id": "ODP6ZjGMy8ku"
      },
      "outputs": [],
      "execution_count": null
    },
    {
      "cell_type": "code",
      "source": [
        "device = torch.device(\"cuda\" if torch.cuda.is_available() else \"cpu\")\n",
        "model_f = EfficientNetClassifier(num_classes=26)\n",
        "model_f = model_f.to(device)"
      ],
      "metadata": {
        "trusted": true,
        "execution": {
          "iopub.status.busy": "2025-06-01T23:34:24.433085Z",
          "iopub.execute_input": "2025-06-01T23:34:24.433331Z",
          "iopub.status.idle": "2025-06-01T23:34:24.782617Z",
          "shell.execute_reply.started": "2025-06-01T23:34:24.433313Z",
          "shell.execute_reply": "2025-06-01T23:34:24.782071Z"
        },
        "id": "ftrWN0xhy8ku"
      },
      "outputs": [],
      "execution_count": null
    },
    {
      "cell_type": "code",
      "source": [
        "print(\"Обучение модели...\")\n",
        "trained_model_f, training_history_f, best_accuracy_f = train_model_full(\n",
        "    model_f, train_loader_full, device,\n",
        "    num_epochs_phase1=20,\n",
        "    num_epochs_phase2=31\n",
        ")"
      ],
      "metadata": {
        "trusted": true,
        "id": "c6eJk0CCy8ku"
      },
      "outputs": [],
      "execution_count": null
    },
    {
      "cell_type": "markdown",
      "source": [
        "### Submission"
      ],
      "metadata": {
        "id": "WD8vCmmiy8ku"
      }
    },
    {
      "cell_type": "code",
      "source": [
        "trained_model_f.eval()\n",
        "prediction = []\n",
        "\n",
        "with torch.no_grad():\n",
        "    for inputs in tqdm(test_loader, desc=\"Submission\"):\n",
        "        inputs = inputs.to(device)\n",
        "        outputs = trained_model_f(inputs)\n",
        "        _, predicted = torch.max(outputs, 1)\n",
        "        prediction.extend(predicted.cpu().tolist())"
      ],
      "metadata": {
        "trusted": true,
        "id": "a23hjMrGy8ku"
      },
      "outputs": [],
      "execution_count": null
    },
    {
      "cell_type": "code",
      "source": [
        "prediction[:10]"
      ],
      "metadata": {
        "trusted": true,
        "id": "a5t37EGqy8ku"
      },
      "outputs": [],
      "execution_count": null
    },
    {
      "cell_type": "code",
      "source": [
        "submission = pd.DataFrame({\n",
        "    'id': np.arange(len(prediction)),\n",
        "    'Category': prediction\n",
        "})\n",
        "submission.to_csv('submission_e_f.csv', index=False)"
      ],
      "metadata": {
        "trusted": true,
        "id": "tNYPRz4dy8kv"
      },
      "outputs": [],
      "execution_count": null
    },
    {
      "cell_type": "markdown",
      "source": [
        "Наилучший результат продемонстрировал подход с дообучением модели EfficientNet. Удалось достичь значения метрики Accuracy: 0.98574 на public leaderboard соревнования\n",
        "\n",
        "![2025-06-02_16-06-43.png](data:image/png;base64,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)"
      ],
      "metadata": {
        "id": "_WGpCBetzLhB"
      }
    },
    {
      "cell_type": "code",
      "source": [],
      "metadata": {
        "id": "YcpOVF6Tz0j8"
      },
      "execution_count": null,
      "outputs": []
    }
  ]
}